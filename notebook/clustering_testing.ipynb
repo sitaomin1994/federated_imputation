{
 "cells": [
  {
   "cell_type": "code",
   "execution_count": 2,
   "metadata": {},
   "outputs": [
    {
     "name": "stdout",
     "output_type": "stream",
     "text": [
      "m:\\OneDrive\\Projects\\federated_imputation\n"
     ]
    }
   ],
   "source": [
    "cd .."
   ]
  },
  {
   "cell_type": "code",
   "execution_count": 76,
   "metadata": {},
   "outputs": [],
   "source": [
    "import numpy as np\n",
    "import matplotlib.pyplot as plt\n",
    "from sklearn.cluster import KMeans, AgglomerativeClustering\n",
    "from sklearn.metrics import silhouette_score\n",
    "import warnings\n",
    "warnings.filterwarnings(\"ignore\")"
   ]
  },
  {
   "cell_type": "code",
   "execution_count": 73,
   "metadata": {},
   "outputs": [
    {
     "name": "stdout",
     "output_type": "stream",
     "text": [
      "The autoreload extension is already loaded. To reload it, use:\n",
      "  %reload_ext autoreload\n"
     ]
    }
   ],
   "source": [
    "%load_ext autoreload\n",
    "%autoreload\n",
    "from src.fed_imp.sub_modules.clustering import FINCH"
   ]
  },
  {
   "cell_type": "code",
   "execution_count": 61,
   "metadata": {},
   "outputs": [],
   "source": [
    "def kmeans_clustering(data):\n",
    "    silhouette_scores = []\n",
    "    K_range = range(2, len(data))\n",
    "    for k in K_range:\n",
    "        kmeans = KMeans(n_clusters=k)\n",
    "        labels = kmeans.fit_predict(data)\n",
    "        silhouette_scores.append(silhouette_score(data, labels))\n",
    "\n",
    "    # find the optimal number of clusters based on the silhouette score\n",
    "    optimal_k = K_range[np.argmax(silhouette_scores)]\n",
    "    print(\"Optimal number of clusters: {}\".format(optimal_k))\n",
    "    kmeans = KMeans(n_clusters=optimal_k)\n",
    "    labels = kmeans.fit_predict(data)\n",
    "    return labels"
   ]
  },
  {
   "cell_type": "code",
   "execution_count": 26,
   "metadata": {},
   "outputs": [],
   "source": [
    "# vis data points\n",
    "def vis_data(x):\n",
    "    fig = plt.figure(figsize=(5, 3))\n",
    "    y = np.zeros(x.shape[0])\n",
    "    plt.scatter(x, y)\n",
    "    plt.xticks(np.linspace(0, 1, 11))\n",
    "    plt.show()"
   ]
  },
  {
   "cell_type": "code",
   "execution_count": 94,
   "metadata": {},
   "outputs": [
    {
     "data": {
      "image/png": "[encoded data removed]",
      "text/plain": [
       "<Figure size 500x300 with 1 Axes>"
      ]
     },
     "metadata": {},
     "output_type": "display_data"
    },
    {
     "name": "stdout",
     "output_type": "stream",
     "text": [
      "[0.02679897 0.0484039  0.13501667 0.78019301 0.9107032  0.93620228]\n"
     ]
    },
    {
     "data": {
      "text/plain": [
       "array([1, 1, 3, 2, 0, 0], dtype=int64)"
      ]
     },
     "execution_count": 94,
     "metadata": {},
     "output_type": "execute_result"
    }
   ],
   "source": [
    "# simulate one dimensional clusters\n",
    "np.random.seed(1003928)\n",
    "means = [0.1, 0.9]\n",
    "std = 0.05\n",
    "data = np.concatenate([np.random.normal(m, std, 3) for m in means])\n",
    "vis_data(data)\n",
    "data = np.sort(data)\n",
    "print(data)\n",
    "agg = AgglomerativeClustering(\n",
    "    n_clusters = None,affinity='l1', linkage='average', distance_threshold=0.05\n",
    ")\n",
    "agg.fit_predict(data.reshape(-1, 1))"
   ]
  },
  {
   "cell_type": "code",
   "execution_count": 96,
   "metadata": {},
   "outputs": [
    {
     "data": {
      "image/png": "[encoded data removed]",
      "text/plain": [
       "<Figure size 500x300 with 1 Axes>"
      ]
     },
     "metadata": {},
     "output_type": "display_data"
    },
    {
     "name": "stdout",
     "output_type": "stream",
     "text": [
      "[0.1977719  0.32948372 0.33623321 0.46015426 0.50082201 0.52915642\n",
      " 0.56891282 0.60632791 0.78541776 0.95134347]\n",
      "[4 5 5 6 2 2 0 0 3 1]\n"
     ]
    },
    {
     "data": {
      "text/plain": [
       "{0, 1, 2, 3, 4, 5, 6}"
      ]
     },
     "execution_count": 96,
     "metadata": {},
     "output_type": "execute_result"
    }
   ],
   "source": [
    "np.random.seed(100323)\n",
    "data = np.random.rand(10)\n",
    "data = np.sort(data)\n",
    "vis_data(data)\n",
    "print(data)\n",
    "data = data.reshape(-1, 1)\n",
    "#FINCH(data,distance = 'l1', verbose=False)\n",
    "agg = AgglomerativeClustering(\n",
    "    n_clusters = None,affinity='l1', linkage='average', distance_threshold=0.05\n",
    ")\n",
    "ret = agg.fit_predict(data)\n",
    "print(ret)\n",
    "set(ret)"
   ]
  }
 ],
 "metadata": {
  "kernelspec": {
   "display_name": "Python 3",
   "language": "python",
   "name": "python3"
  },
  "language_info": {
   "codemirror_mode": {
    "name": "ipython",
    "version": 3
   },
   "file_extension": ".py",
   "mimetype": "text/x-python",
   "name": "python",
   "nbconvert_exporter": "python",
   "pygments_lexer": "ipython3",
   "version": "3.8.15"
  },
  "orig_nbformat": 4
 },
 "nbformat": 4,
 "nbformat_minor": 2
}
