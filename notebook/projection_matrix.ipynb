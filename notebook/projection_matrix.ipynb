{
 "cells": [
  {
   "cell_type": "code",
   "execution_count": 2,
   "metadata": {},
   "outputs": [
    {
     "name": "stdout",
     "output_type": "stream",
     "text": [
      "m:\\OneDrive\\Projects\\federated_imputation\n"
     ]
    }
   ],
   "source": [
    "cd .."
   ]
  },
  {
   "cell_type": "code",
   "execution_count": 9,
   "metadata": {},
   "outputs": [],
   "source": [
    "from src.modules.data_preprocessing import load_data\n",
    "import numpy as np"
   ]
  },
  {
   "cell_type": "code",
   "execution_count": 4,
   "metadata": {},
   "outputs": [],
   "source": [
    "data, config = load_data('breast')"
   ]
  },
  {
   "cell_type": "code",
   "execution_count": 15,
   "metadata": {},
   "outputs": [
    {
     "name": "stdout",
     "output_type": "stream",
     "text": [
      "(16, 16)\n"
     ]
    },
    {
     "data": {
      "text/plain": [
       "(569, 569)"
      ]
     },
     "execution_count": 15,
     "metadata": {},
     "output_type": "execute_result"
    }
   ],
   "source": [
    "X = data[data.columns[:-1]].values\n",
    "XtX_pinv = np.linalg.pinv(X.T @ X)\n",
    "print(XtX_pinv.shape)\n",
    "projection_matrix = X @ XtX_pinv @ X.T\n",
    "projection_matrix.shape"
   ]
  },
  {
   "cell_type": "code",
   "execution_count": 14,
   "metadata": {},
   "outputs": [
    {
     "name": "stdout",
     "output_type": "stream",
     "text": [
      "[15.8765653   6.49194991 -2.89266547]\n"
     ]
    }
   ],
   "source": [
    "import numpy as np\n",
    "from scipy.linalg import solve, LinAlgError\n",
    "\n",
    "def find_optimal_w(w1, w2, w3, P1, P2, P3):\n",
    "    # Calculate A and b\n",
    "    A = P1.T @ P1 + P2.T @ P2 + P3.T @ P3\n",
    "    b = P1.T @ P1 @ w1 + P2.T @ P2 @ w2 + P3.T @ P3 @ w3\n",
    "\n",
    "    try:\n",
    "        # Try solving the linear system exactly\n",
    "        w_optimal = solve(A, b)\n",
    "    except LinAlgError:\n",
    "        # If the exact solution fails, use the least squares method\n",
    "        w_optimal, _, _, _ = np.linalg.lstsq(A, b, rcond=None)\n",
    "\n",
    "    return w_optimal\n",
    "\n",
    "# Define the given vectors and matrices\n",
    "w1 = np.array([1, 2, 3])\n",
    "w2 = np.array([4, 5, 6])\n",
    "w3 = np.array([7, 8, 9])\n",
    "\n",
    "P1 = np.array([[1, 0, 0], [0, 1, 0], [0, 0, 1]])\n",
    "P2 = np.array([[1, 2, 3], [4, 5, 6], [7, 8, 9]])\n",
    "P3 = np.array([[9, 8, 7], [6, 5, 4], [3, 2, 1]])\n",
    "\n",
    "# Find the optimal value for w\n",
    "w_optimal = find_optimal_w(w1, w2, w3, P1, P2, P3)\n",
    "\n",
    "print(w_optimal)"
   ]
  }
 ],
 "metadata": {
  "kernelspec": {
   "display_name": "Python 3",
   "language": "python",
   "name": "python3"
  },
  "language_info": {
   "codemirror_mode": {
    "name": "ipython",
    "version": 3
   },
   "file_extension": ".py",
   "mimetype": "text/x-python",
   "name": "python",
   "nbconvert_exporter": "python",
   "pygments_lexer": "ipython3",
   "version": "3.8.15"
  },
  "orig_nbformat": 4
 },
 "nbformat": 4,
 "nbformat_minor": 2
}
