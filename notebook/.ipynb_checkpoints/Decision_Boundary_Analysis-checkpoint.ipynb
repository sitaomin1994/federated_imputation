{
 "cells": [
  {
   "cell_type": "code",
   "execution_count": 2,
   "id": "e8be9f07",
   "metadata": {
    "ExecuteTime": {
     "end_time": "2023-03-17T14:50:07.391621Z",
     "start_time": "2023-03-17T14:50:07.378578Z"
    }
   },
   "outputs": [
    {
     "name": "stdout",
     "output_type": "stream",
     "text": [
      "M:\\OneDrive\\Projects\\federated_imputation\n"
     ]
    }
   ],
   "source": [
    "cd .."
   ]
  },
  {
   "cell_type": "code",
   "execution_count": 3,
   "id": "ae54afd7",
   "metadata": {
    "ExecuteTime": {
     "end_time": "2023-03-17T14:50:33.509602Z",
     "start_time": "2023-03-17T14:50:33.507033Z"
    }
   },
   "outputs": [],
   "source": [
    "from src.modules.data_preprocessing import load_data"
   ]
  },
  {
   "cell_type": "markdown",
   "id": "edd7e187",
   "metadata": {
    "ExecuteTime": {
     "end_time": "2023-03-17T14:50:47.606432Z",
     "start_time": "2023-03-17T14:50:47.594922Z"
    }
   },
   "source": [
    "# Breast Data"
   ]
  },
  {
   "cell_type": "code",
   "execution_count": null,
   "id": "bf108f3e",
   "metadata": {},
   "outputs": [],
   "source": [
    "data, config = load"
   ]
  }
 ],
 "metadata": {
  "kernelspec": {
   "display_name": "Python 3",
   "language": "python",
   "name": "python3"
  },
  "language_info": {
   "codemirror_mode": {
    "name": "ipython",
    "version": 3
   },
   "file_extension": ".py",
   "mimetype": "text/x-python",
   "name": "python",
   "nbconvert_exporter": "python",
   "pygments_lexer": "ipython3",
   "version": "3.8.15"
  },
  "toc": {
   "base_numbering": 1,
   "nav_menu": {},
   "number_sections": true,
   "sideBar": true,
   "skip_h1_title": false,
   "title_cell": "Table of Contents",
   "title_sidebar": "Contents",
   "toc_cell": false,
   "toc_position": {
    "height": "calc(100% - 180px)",
    "left": "10px",
    "top": "150px",
    "width": "284.333px"
   },
   "toc_section_display": true,
   "toc_window_display": false
  }
 },
 "nbformat": 4,
 "nbformat_minor": 5
}
