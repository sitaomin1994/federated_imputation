{
 "cells": [
  {
   "cell_type": "code",
   "execution_count": 2,
   "metadata": {},
   "outputs": [
    {
     "name": "stdout",
     "output_type": "stream",
     "text": [
      "m:\\OneDrive\\Projects\\federated_imputation\n"
     ]
    }
   ],
   "source": [
    "cd .."
   ]
  },
  {
   "cell_type": "code",
   "execution_count": 10,
   "metadata": {},
   "outputs": [],
   "source": [
    "from src.modules.data_preprocessing import load_data\n",
    "from sklearn.model_selection import train_test_split"
   ]
  },
  {
   "cell_type": "code",
   "execution_count": 223,
   "metadata": {},
   "outputs": [],
   "source": [
    "from sklearn.linear_model import LogisticRegression\n",
    "from sklearn.metrics import accuracy_score, roc_auc_score\n",
    "from sklearn.svm import SVC\n",
    "from sklearn.tree import DecisionTreeClassifier\n",
    "from sklearn.ensemble import RandomForestClassifier\n",
    "from sklearn.neural_network import MLPClassifier\n",
    "from sklearn.model_selection import GridSearchCV\n",
    "import pandas as pd\n",
    "import numpy as np\n",
    "\n",
    "from sklearn.impute import SimpleImputer\n",
    "from sklearn.experimental import enable_iterative_imputer\n",
    "from sklearn.impute import IterativeImputer\n",
    "from sklearn.impute import KNNImputer\n",
    "from sklearn.model_selection import StratifiedKFold\n",
    "from dython.nominal import correlation_ratio\n",
    "import itertools as it"
   ]
  },
  {
   "attachments": {},
   "cell_type": "markdown",
   "metadata": {},
   "source": [
    "### Classifiers"
   ]
  },
  {
   "cell_type": "code",
   "execution_count": 486,
   "metadata": {},
   "outputs": [],
   "source": [
    "def eval_LR(X_train, y_train, X_test, y_test, seed = 21):\n",
    "    model = LogisticRegression(random_state=seed, solver='liblinear', multi_class='ovr', max_iter=1000)\n",
    "    grid = {'C': [0.1, 1, 10, 100, 1000], 'penalty': ['l1', 'l2']}\n",
    "    clf = GridSearchCV(model, grid, cv= StratifiedKFold(5), scoring='accuracy', n_jobs=-1)\n",
    "    clf.fit(X_train, y_train)\n",
    "    y_pred = clf.predict(X_test)\n",
    "    return accuracy_score(y_test, y_pred)\n",
    "\n",
    "def eval_svm(X_train, y_train, X_test, y_test, seed = 21):\n",
    "    model = SVC(random_state=seed, kernel='rbf', probability=True)\n",
    "    grid = {'C': [0.1, 1, 10, 100, 1000], 'gamma': [0.1, 0.01, 0.001, 0.0001]}\n",
    "    clf = GridSearchCV(model, grid, cv=StratifiedKFold(5), scoring='accuracy', n_jobs=-1)\n",
    "    clf.fit(X_train, y_train)\n",
    "    y_pred = clf.predict(X_test)\n",
    "    return accuracy_score(y_test, y_pred)\n",
    "\n",
    "def eval_rf(X_train, y_train, X_test, y_test, seed = 21):\n",
    "    model = RandomForestClassifier(random_state=seed, n_jobs=-1)\n",
    "    grid = {'n_estimators': [10, 50, 100, 200, 500], 'max_depth': [2, 3, 5, 10, 20]}\n",
    "    clf = GridSearchCV(model, grid, cv=StratifiedKFold(5), scoring='accuracy', n_jobs=-1)\n",
    "    clf.fit(X_train, y_train)\n",
    "    y_pred = clf.predict(X_test)\n",
    "    return accuracy_score(y_test, y_pred)"
   ]
  },
  {
   "attachments": {},
   "cell_type": "markdown",
   "metadata": {},
   "source": [
    "## Simulate Missing Data"
   ]
  },
  {
   "cell_type": "code",
   "execution_count": 315,
   "metadata": {},
   "outputs": [],
   "source": [
    "from src.missing_data_exploration.sub_modules.ms_simulate_hy import simulate_nan\n",
    "import missingno\n",
    "from pyampute.ampute import MultivariateAmputation"
   ]
  },
  {
   "attachments": {},
   "cell_type": "markdown",
   "metadata": {},
   "source": [
    "### Logistic Hyperimpute"
   ]
  },
  {
   "cell_type": "code",
   "execution_count": 474,
   "metadata": {},
   "outputs": [
    {
     "data": {
      "text/plain": [
       "<AxesSubplot: >"
      ]
     },
     "execution_count": 474,
     "metadata": {},
     "output_type": "execute_result"
    },
    {
     "data": {
      "image/png": "[encoded data removed]",
      "text/plain": [
       "<Figure size 600x300 with 2 Axes>"
      ]
     },
     "metadata": {},
     "output_type": "display_data"
    }
   ],
   "source": [
    "ret = simulate_nan(train_data.values, missing_ratio=0.5, mechanism = 'mary', p_na_cols = 1.0,seed=31)\n",
    "train_data_ms = ret['train_data_ms']\n",
    "train_data_ms = pd.DataFrame(train_data_ms, columns=train_data.columns)\n",
    "missingno.matrix(train_data_ms, sort='ascending', figsize=(6, 3))"
   ]
  },
  {
   "attachments": {},
   "cell_type": "markdown",
   "metadata": {},
   "source": [
    "### Missing Pattern by Ampute"
   ]
  },
  {
   "cell_type": "code",
   "execution_count": 445,
   "metadata": {},
   "outputs": [
    {
     "name": "stdout",
     "output_type": "stream",
     "text": [
      "[{'incomplete_vars': [6, 12, 11, 0, 12, 9, 5, 10, 1, 3, 8, 2, 7], 'mechanism': 'MAR', 'score_to_probability_func': 'sigmoid-tail'}]\n",
      "(151, 13) (151,)\n"
     ]
    },
    {
     "data": {
      "text/plain": [
       "<AxesSubplot: >"
      ]
     },
     "execution_count": 445,
     "metadata": {},
     "output_type": "execute_result"
    },
    {
     "data": {
      "image/png": "[encoded data removed]",
      "text/plain": [
       "<Figure size 600x300 with 2 Axes>"
      ]
     },
     "metadata": {},
     "output_type": "display_data"
    }
   ],
   "source": [
    "mechs = [\"MAR\"]\n",
    "funcs = [\"sigmoid-right\", \"sigmoid-mid\", \"sigmoid-left\", \"sigmoid-tail\"]\n",
    "func = funcs[3]\n",
    "incomplete_vars = [[6, 12, 11, 0, 12, 9, 5, 10, 1, 3, 8, 2, 7]]\n",
    "\n",
    "ret = [\n",
    "    {\"incomplete_vars\": icp_vars, \"mechanism\": mechs[0], \"score_to_probability_func\": func} for icp_vars in incomplete_vars\n",
    "]\n",
    "print(ret)\n",
    "ma = MultivariateAmputation(\n",
    "    prop = 0.5,\n",
    "    patterns = ret,\n",
    "    seed = seed,\n",
    ")\n",
    "X_train_ms = train_data.drop(config['target'], axis=1).values\n",
    "y_train  = train_data[config['target']].values\n",
    "X_train_ms = ma.fit_transform(X_train_ms)\n",
    "print(X_train_ms.shape, y_train.shape)\n",
    "\n",
    "train_data_ms = pd.DataFrame(np.hstack([X_train_ms, np.expand_dims(y_train, 1)]), columns=train_data.columns)\n",
    "missingno.matrix(train_data_ms, sort='ascending', figsize=(6, 3))"
   ]
  },
  {
   "attachments": {},
   "cell_type": "markdown",
   "metadata": {},
   "source": [
    "## Iris"
   ]
  },
  {
   "cell_type": "code",
   "execution_count": null,
   "metadata": {},
   "outputs": [],
   "source": [
    "data, config = load_data('iris')\n",
    "print(data.columns)\n",
    "print(config)\n",
    "seed = 21\n",
    "train_data, test_data = train_test_split(data, test_size=0.15, random_state=seed, shuffle=True, stratify=data[config['target']])\n",
    "print(train_data.shape, test_data.shape)\n",
    "correlation_ret = data.corrwith(data[config['target']], method=correlation_ratio).sort_values(ascending=False)\n",
    "correlation_ret"
   ]
  },
  {
   "cell_type": "code",
   "execution_count": null,
   "metadata": {},
   "outputs": [],
   "source": [
    "X_train = train_data.drop(config['target'], axis=1)\n",
    "y_train = train_data[config['target']]\n",
    "X_test = test_data.drop(config['target'], axis=1)\n",
    "y_test = test_data[config['target']]\n",
    "print(X_train.shape, y_train.shape, X_test.shape, y_test.shape)\n",
    "\n",
    "eval_LR(X_train, y_train, X_test, y_test, seed=seed)\n",
    "eval_svm(X_train, y_train, X_test, y_test, seed=seed)"
   ]
  },
  {
   "cell_type": "code",
   "execution_count": 493,
   "metadata": {},
   "outputs": [
    {
     "name": "stdout",
     "output_type": "stream",
     "text": [
      "missing ratio:  0.1\n",
      "Simple lr 0.9095300834431269(0.03478083420856097) svm 0.9494949494949496(0.021144318168134803)\n",
      "Iter lr 0.9556433904259993(0.012328211548193425) svm 0.9552042160737816(0.011485899719474777)\n",
      "missing ratio:  0.2\n",
      "Simple lr 0.8484848484848483(0.045143192882771556) svm 0.9222661396574441(0.027824390094786423)\n",
      "Iter lr 0.9503732981993854(0.02694398181849447) svm 0.9530083443126923(0.01712216837032758)\n",
      "missing ratio:  0.3\n",
      "Simple lr 0.8115942028985507(0.04369729631561789) svm 0.8919631093544137(0.048801736962983205)\n",
      "Iter lr 0.9345630215195434(0.03926621510277931) svm 0.9503732981993854(0.03151668883269067)\n",
      "missing ratio:  0.4\n",
      "Simple lr 0.7891963109354414(0.024222366680962087) svm 0.849802371541502(0.05936168814792519)\n",
      "Iter lr 0.8976723759332454(0.06064741799193339) svm 0.9486166007905139(0.039744672276675524)\n",
      "missing ratio:  0.5\n",
      "Simple lr 0.782169521299956(0.015749162123004933) svm 0.8102766798418971(0.05438673897378205)\n",
      "Iter lr 0.856829161176987(0.07079839273214451) svm 0.9363197189284146(0.05032332546554667)\n",
      "missing ratio:  0.6\n",
      "Simple lr 0.7808519982433025(0.016255384737217184) svm 0.7966622749231446(0.04937147985407697)\n",
      "Iter lr 0.7971014492753622(0.08450654920065652) svm 0.8871321914800174(0.06537652724085513)\n",
      "missing ratio:  0.7\n",
      "Simple lr 0.7738252086078172(0.01851837386236983) svm 0.7738252086078173(0.028972195876101284)\n",
      "Iter lr 0.7619675010979359(0.09193965856471) svm 0.8414580588493633(0.08412453212062006)\n",
      "missing ratio:  0.8\n",
      "Simple lr 0.7751427316644708(0.03709918679304854) svm 0.7817303469477384(0.050196687087323846)\n",
      "Iter lr 0.7527448397013614(0.06674294331668992) svm 0.8423364075537989(0.08141918212111526)\n",
      "missing ratio:  0.9\n",
      "Simple lr 0.7571365832235397(0.07180467082662216) svm 0.7817303469477381(0.06768986184253305)\n",
      "Iter lr 0.7018006148440933(0.09790732020029844) svm 0.7720685111989459(0.11856243504997777)\n"
     ]
    }
   ],
   "source": [
    "import warnings\n",
    "warnings.filterwarnings(\"ignore\")\n",
    "missing_ratios = [0.1, 0.2, 0.3, 0.4, 0.5, 0.6, 0.7, 0.8, 0.9]\n",
    "for missing_ratio in missing_ratios:\n",
    "    print(\"missing ratio: \", missing_ratio)\n",
    "    clf_seed = 21\n",
    "    simple_lr, simple_svm, iter_lr, iter_svm = [], [], [], []\n",
    "    for seed in range(1, 100):\n",
    "        #print(\"===========================================================================================\")\n",
    "        ret = simulate_nan(train_data.values, missing_ratio=missing_ratio, mechanism = 'mcar', p_na_cols = 1.0, seed=seed)\n",
    "        train_data_ms = ret['train_data_ms']\n",
    "        train_data_ms = pd.DataFrame(train_data_ms, columns=train_data.columns)\n",
    "\n",
    "        X_train_ms = train_data_ms.drop(config['target'], axis=1).values\n",
    "        y_train = train_data_ms[config['target']].values\n",
    "        X_test = test_data.drop(config['target'], axis=1).values\n",
    "        y_test = test_data[config['target']].values\n",
    "        #print(X_train_ms.shape, y_train.shape, X_test.shape, y_test.shape)\n",
    "\n",
    "        X_train_imp_simple = SimpleImputer(missing_values=np.nan, strategy='mean').fit_transform(X_train_ms)\n",
    "        min_values, max_values = np.nanmin(X_train_ms, axis=0), np.nanmax(X_train_ms, axis=0)\n",
    "        X_train_imp_iter = IterativeImputer(\n",
    "            random_state=seed, max_iter=50, min_value=min_values, max_value=max_values\n",
    "        ).fit_transform(X_train_ms)\n",
    "\n",
    "        #print(\"Simple Imputer\")\n",
    "        score = eval_LR(X_train_imp_simple, y_train, X_test, y_test, seed=clf_seed)\n",
    "        simple_lr.append(score)\n",
    "        score = eval_svm(X_train_imp_simple, y_train, X_test, y_test, seed=clf_seed)\n",
    "        simple_svm.append(score)\n",
    "        #print(\"Iterative\")\n",
    "        score = eval_LR(X_train_imp_iter, y_train, X_test, y_test, seed=clf_seed)\n",
    "        iter_lr.append(score)\n",
    "        score = eval_svm(X_train_imp_iter, y_train, X_test, y_test, seed=clf_seed)\n",
    "        iter_svm.append(score)\n",
    "    print(\"Simple lr {}({}) svm {}({})\".format(np.mean(simple_lr), np.std(simple_lr), np.mean(simple_svm), np.std(simple_svm)))\n",
    "    print(\"Iter lr {}({}) svm {}({})\".format(np.mean(iter_lr), np.std(iter_lr), np.mean(iter_svm), np.std(iter_svm)))"
   ]
  },
  {
   "cell_type": "code",
   "execution_count": 495,
   "metadata": {},
   "outputs": [
    {
     "name": "stdout",
     "output_type": "stream",
     "text": [
      "missing ratio:  0.1\n",
      "Simple lr 0.846728151075977(0.04720256071161843) svm 0.9420289855072466(0.03089865454429139)\n",
      "Iter lr 0.9574000878348705(0.020477019283047466) svm 0.9578392621870885(0.009681777639459202)\n",
      "missing ratio:  0.2\n",
      "Simple lr 0.8107158541941151(0.03512845806907547) svm 0.9319279754062364(0.05026580211796047)\n",
      "Iter lr 0.9134826526130875(0.062257514788473786) svm 0.9644268774703559(0.0167693307791276)\n",
      "missing ratio:  0.3\n",
      "Simple lr 0.7979797979797978(0.03672295996551053) svm 0.8792270531400966(0.06497702904819415)\n",
      "Iter lr 0.84409310496267(0.05562104593408014) svm 0.9437856829161178(0.046349022163499884)\n",
      "missing ratio:  0.4\n",
      "Simple lr 0.756258234519104(0.07564005319845757) svm 0.8199385155906894(0.0731221999330508)\n",
      "Iter lr 0.805445761967501(0.06128331503737341) svm 0.914800175669741(0.06537652724085516)\n",
      "missing ratio:  0.5\n",
      "Simple lr 0.6965305226174792(0.09412275865125194) svm 0.7619675010979358(0.06491466391533379)\n",
      "Iter lr 0.7716293368467281(0.07873846229605612) svm 0.8590250329380765(0.08430088681447374)\n",
      "missing ratio:  0.6\n",
      "Simple lr 0.6820377689942909(0.08049000813882115) svm 0.7237593324549847(0.07726224016582864)\n",
      "Iter lr 0.7364953886693016(0.10429258196133492) svm 0.802810715854194(0.09659240279008094)\n",
      "missing ratio:  0.7\n",
      "Simple lr 0.6640316205533598(0.05521034740383915) svm 0.6794027228809839(0.05512993969992072)\n",
      "Iter lr 0.6864295125164691(0.09233947545683917) svm 0.7821695212999561(0.09662833820769395)\n",
      "missing ratio:  0.8\n",
      "Simple lr 0.6609574000878351(0.050951796266221074) svm 0.6592007026789637(0.04085501881267539)\n",
      "Iter lr 0.6587615283267457(0.07652983257685167) svm 0.7312252964426876(0.10254697613855096)\n",
      "missing ratio:  0.9\n",
      "Simple lr 0.655687307861221(0.043992031508620646) svm 0.6539306104523497(0.042778377380363344)\n",
      "Iter lr 0.6249451032059727(0.088821859149457) svm 0.6302151954325868(0.1021757794938313)\n"
     ]
    }
   ],
   "source": [
    "import warnings\n",
    "warnings.filterwarnings(\"ignore\")\n",
    "missing_ratios = [0.1, 0.2, 0.3, 0.4, 0.5, 0.6, 0.7, 0.8, 0.9]\n",
    "for missing_ratio in missing_ratios:\n",
    "    print(\"missing ratio: \", missing_ratio)\n",
    "    clf_seed = 21\n",
    "    simple_lr, simple_svm, iter_lr, iter_svm = [], [], [], []\n",
    "    for seed in range(1, 100):\n",
    "        #print(\"===========================================================================================\")\n",
    "        ret = simulate_nan(train_data.values, missing_ratio=missing_ratio, mechanism = 'mary', p_na_cols = 1.0, seed=seed)\n",
    "        train_data_ms = ret['train_data_ms']\n",
    "        train_data_ms = pd.DataFrame(train_data_ms, columns=train_data.columns)\n",
    "\n",
    "        X_train_ms = train_data_ms.drop(config['target'], axis=1).values\n",
    "        y_train = train_data_ms[config['target']].values\n",
    "        X_test = test_data.drop(config['target'], axis=1).values\n",
    "        y_test = test_data[config['target']].values\n",
    "        #print(X_train_ms.shape, y_train.shape, X_test.shape, y_test.shape)\n",
    "\n",
    "        X_train_imp_simple = SimpleImputer(missing_values=np.nan, strategy='mean').fit_transform(X_train_ms)\n",
    "        min_values, max_values = np.nanmin(X_train_ms, axis=0), np.nanmax(X_train_ms, axis=0)\n",
    "        X_train_imp_iter = IterativeImputer(\n",
    "            random_state=seed, max_iter=50, min_value=min_values, max_value=max_values\n",
    "        ).fit_transform(X_train_ms)\n",
    "\n",
    "        #print(\"Simple Imputer\")\n",
    "        score = eval_LR(X_train_imp_simple, y_train, X_test, y_test, seed=clf_seed)\n",
    "        simple_lr.append(score)\n",
    "        score = eval_svm(X_train_imp_simple, y_train, X_test, y_test, seed=clf_seed)\n",
    "        simple_svm.append(score)\n",
    "        #print(\"Iterative\")\n",
    "        score = eval_LR(X_train_imp_iter, y_train, X_test, y_test, seed=clf_seed)\n",
    "        iter_lr.append(score)\n",
    "        score = eval_svm(X_train_imp_iter, y_train, X_test, y_test, seed=clf_seed)\n",
    "        iter_svm.append(score)\n",
    "    print(\"Simple lr {}({}) svm {}({})\".format(np.mean(simple_lr), np.std(simple_lr), np.mean(simple_svm), np.std(simple_svm)))\n",
    "    print(\"Iter lr {}({}) svm {}({})\".format(np.mean(iter_lr), np.std(iter_lr), np.mean(iter_svm), np.std(iter_svm)))"
   ]
  },
  {
   "attachments": {},
   "cell_type": "markdown",
   "metadata": {},
   "source": [
    "## Telugu Vowel"
   ]
  },
  {
   "cell_type": "code",
   "execution_count": 496,
   "metadata": {},
   "outputs": [
    {
     "name": "stdout",
     "output_type": "stream",
     "text": [
      "Index(['2', '3', '4', '1'], dtype='object')\n",
      "{'target': '1', 'important_features_idx': [0, 1, 2], 'features_idx': [0, 1, 2], 'num_cols': 3, 'task_type': 'classification', 'clf_type': 'multi-class', 'data_type': 'tabular'}\n",
      "(740, 4) (131, 4)\n"
     ]
    },
    {
     "data": {
      "text/plain": [
       "1    1.000000\n",
       "3    0.932286\n",
       "2    0.866065\n",
       "4    0.604345\n",
       "dtype: float64"
      ]
     },
     "execution_count": 496,
     "metadata": {},
     "output_type": "execute_result"
    }
   ],
   "source": [
    "data, config = load_data('telugu_tabular')\n",
    "print(data.columns)\n",
    "print(config)\n",
    "seed = 21\n",
    "train_data, test_data = train_test_split(data, test_size=0.15, random_state=seed, shuffle=True, stratify=data[config['target']])\n",
    "print(train_data.shape, test_data.shape)\n",
    "correlation_ret = data.corrwith(data[config['target']], method=correlation_ratio).sort_values(ascending=False)\n",
    "correlation_ret"
   ]
  },
  {
   "cell_type": "code",
   "execution_count": 504,
   "metadata": {},
   "outputs": [
    {
     "name": "stdout",
     "output_type": "stream",
     "text": [
      "(740, 3) (740,) (131, 3) (131,)\n",
      "0.816793893129771\n",
      "0.8625954198473282\n"
     ]
    }
   ],
   "source": [
    "X_train = train_data.drop(config['target'], axis=1)\n",
    "y_train = train_data[config['target']]\n",
    "X_test = test_data.drop(config['target'], axis=1)\n",
    "y_test = test_data[config['target']]\n",
    "print(X_train.shape, y_train.shape, X_test.shape, y_test.shape)\n",
    "\n",
    "print(eval_LR(X_train, y_train, X_test, y_test, seed=seed))\n",
    "print(eval_svm(X_train, y_train, X_test, y_test, seed=seed))"
   ]
  },
  {
   "cell_type": "code",
   "execution_count": 499,
   "metadata": {},
   "outputs": [
    {
     "name": "stdout",
     "output_type": "stream",
     "text": [
      "missing ratio:  0.1\n",
      "Simple lr 0.7879732045489951(0.01177201152036926) svm 0.8604143947655397(0.01252903521600444)\n",
      "Iter lr 0.7899984421249417(0.010918470458286488) svm 0.8627512073531703(0.008654272885079403)\n",
      "missing ratio:  0.2\n",
      "Simple lr 0.7825206418445242(0.01058667518805546) svm 0.8359557563483407(0.011345780623793789)\n",
      "Iter lr 0.772706028976476(0.014323981322913324) svm 0.8532481694968065(0.012927547241454895)\n",
      "missing ratio:  0.3\n",
      "Simple lr 0.7686555538245832(0.015047815100225246) svm 0.8230253933634523(0.010648392267103948)\n",
      "Iter lr 0.7618009035675338(0.01696296318905273) svm 0.8398504439943917(0.017138041834158662)\n",
      "missing ratio:  0.4\n",
      "Simple lr 0.76226826608506(0.015422176252705488) svm 0.8153918055771928(0.010759493160823816)\n",
      "Iter lr 0.7551020408163265(0.020566311052449597) svm 0.8323726437139741(0.019011182813642988)\n",
      "missing ratio:  0.5\n",
      "Simple lr 0.7398348652438074(0.02091037449517062) svm 0.8007477800280417(0.015286239690962579)\n",
      "Iter lr 0.7429506153606479(0.02549970707662892) svm 0.8111855429194579(0.020504855440128245)\n",
      "missing ratio:  0.6\n"
     ]
    }
   ],
   "source": [
    "import warnings\n",
    "warnings.filterwarnings(\"ignore\")\n",
    "missing_ratios = [0.1, 0.2, 0.3, 0.4, 0.5, 0.6, 0.7, 0.8, 0.9]\n",
    "for missing_ratio in missing_ratios:\n",
    "    print(\"missing ratio: \", missing_ratio)\n",
    "    clf_seed = 21\n",
    "    simple_lr, simple_svm, iter_lr, iter_svm = [], [], [], []\n",
    "    for seed in range(1, 50):\n",
    "        #print(\"===========================================================================================\")\n",
    "        ret = simulate_nan(train_data.values, missing_ratio=missing_ratio, mechanism = 'mcar', p_na_cols = 1.0, seed=seed)\n",
    "        train_data_ms = ret['train_data_ms']\n",
    "        train_data_ms = pd.DataFrame(train_data_ms, columns=train_data.columns)\n",
    "\n",
    "        X_train_ms = train_data_ms.drop(config['target'], axis=1).values\n",
    "        y_train = train_data_ms[config['target']].values\n",
    "        X_test = test_data.drop(config['target'], axis=1).values\n",
    "        y_test = test_data[config['target']].values\n",
    "        #print(X_train_ms.shape, y_train.shape, X_test.shape, y_test.shape)\n",
    "\n",
    "        X_train_imp_simple = SimpleImputer(missing_values=np.nan, strategy='mean').fit_transform(X_train_ms)\n",
    "        min_values, max_values = np.nanmin(X_train_ms, axis=0), np.nanmax(X_train_ms, axis=0)\n",
    "        X_train_imp_iter = IterativeImputer(\n",
    "            random_state=seed, max_iter=30, min_value=min_values, max_value=max_values\n",
    "        ).fit_transform(X_train_ms)\n",
    "\n",
    "        #print(\"Simple Imputer\")\n",
    "        score = eval_LR(X_train_imp_simple, y_train, X_test, y_test, seed=clf_seed)\n",
    "        simple_lr.append(score)\n",
    "        score = eval_svm(X_train_imp_simple, y_train, X_test, y_test, seed=clf_seed)\n",
    "        simple_svm.append(score)\n",
    "        #print(\"Iterative\")\n",
    "        score = eval_LR(X_train_imp_iter, y_train, X_test, y_test, seed=clf_seed)\n",
    "        iter_lr.append(score)\n",
    "        score = eval_svm(X_train_imp_iter, y_train, X_test, y_test, seed=clf_seed)\n",
    "        iter_svm.append(score)\n",
    "    print(\"Simple lr {}({}) svm {}({})\".format(np.mean(simple_lr), np.std(simple_lr), np.mean(simple_svm), np.std(simple_svm)))\n",
    "    print(\"Iter lr {}({}) svm {}({})\".format(np.mean(iter_lr), np.std(iter_lr), np.mean(iter_svm), np.std(iter_svm)))"
   ]
  },
  {
   "cell_type": "code",
   "execution_count": 501,
   "metadata": {},
   "outputs": [
    {
     "name": "stdout",
     "output_type": "stream",
     "text": [
      "missing ratio:  0.1\n",
      "Simple lr 0.7815859168094719(0.011418278362242532) svm 0.8532481694968064(0.009539997440345773)\n",
      "Iter lr 0.7937373422651504(0.006631499191086711) svm 0.8540271070260165(0.007497248428425602)\n",
      "missing ratio:  0.2\n",
      "Simple lr 0.7543231032871164(0.009835609358258038) svm 0.8314379186789217(0.012127434463952967)\n",
      "Iter lr 0.7572830658981151(0.012901237334639899) svm 0.8454587942047049(0.009321249603771037)\n",
      "missing ratio:  0.3\n",
      "Simple lr 0.7217635145661319(0.021373001136745527) svm 0.8149244430596666(0.010962836632347216)\n",
      "Iter lr 0.7029132263592459(0.034548316258586835) svm 0.8076024302850912(0.02202617175225544)\n",
      "missing ratio:  0.4\n",
      "Simple lr 0.663498987381212(0.03536479324401626) svm 0.7736407540115284(0.03826288301486494)\n",
      "Iter lr 0.6278236485433868(0.029565989694222847) svm 0.757438853403957(0.026365395747084255)\n",
      "missing ratio:  0.5\n",
      "Simple lr 0.6103754478890793(0.025386194303468886) svm 0.6784545879420468(0.053080806375634344)\n",
      "Iter lr 0.5949524848107183(0.01208533563060882) svm 0.7018227138183516(0.03921020187994596)\n",
      "missing ratio:  0.6\n",
      "Simple lr 0.5667549462533106(0.015385938775667707) svm 0.6159837980993924(0.039984920305318375)\n",
      "Iter lr 0.5768811341330425(0.013176713166406286) svm 0.6304720361427014(0.05117091948844122)\n",
      "missing ratio:  0.7\n",
      "Simple lr 0.5463467829880043(0.012045104707946869) svm 0.5771927091447265(0.02929467960378415)\n",
      "Iter lr 0.559588720984577(0.023652011918817533) svm 0.5930830347406137(0.04559865966197998)\n",
      "missing ratio:  0.8\n",
      "Simple lr 0.5220439320766475(0.015939125175172056) svm 0.5480604455522667(0.020918497507850613)\n",
      "Iter lr 0.525003894687646(0.06450204791077709) svm 0.5589655709612089(0.05264511397771138)\n",
      "missing ratio:  0.9\n",
      "Simple lr 0.5007010437762891(0.0246715474620086) svm 0.5223555070883316(0.03156840747247575)\n",
      "Iter lr 0.4254556784545879(0.08402999574757444) svm 0.500077893752921(0.06784219451133497)\n"
     ]
    }
   ],
   "source": [
    "import warnings\n",
    "warnings.filterwarnings(\"ignore\")\n",
    "missing_ratios = [0.1, 0.2, 0.3, 0.4, 0.5, 0.6, 0.7, 0.8, 0.9]\n",
    "for missing_ratio in missing_ratios:\n",
    "    print(\"missing ratio: \", missing_ratio)\n",
    "    clf_seed = 21\n",
    "    simple_lr, simple_svm, iter_lr, iter_svm = [], [], [], []\n",
    "    for seed in range(1, 50):\n",
    "        #print(\"===========================================================================================\")\n",
    "        ret = simulate_nan(train_data.values, missing_ratio=missing_ratio, mechanism = 'mary', p_na_cols = 1.0, seed=seed)\n",
    "        train_data_ms = ret['train_data_ms']\n",
    "        train_data_ms = pd.DataFrame(train_data_ms, columns=train_data.columns)\n",
    "\n",
    "        X_train_ms = train_data_ms.drop(config['target'], axis=1).values\n",
    "        y_train = train_data_ms[config['target']].values\n",
    "        X_test = test_data.drop(config['target'], axis=1).values\n",
    "        y_test = test_data[config['target']].values\n",
    "        #print(X_train_ms.shape, y_train.shape, X_test.shape, y_test.shape)\n",
    "\n",
    "        X_train_imp_simple = SimpleImputer(missing_values=np.nan, strategy='mean').fit_transform(X_train_ms)\n",
    "        min_values, max_values = np.nanmin(X_train_ms, axis=0), np.nanmax(X_train_ms, axis=0)\n",
    "        X_train_imp_iter = IterativeImputer(\n",
    "            random_state=seed, max_iter=30, min_value=min_values, max_value=max_values\n",
    "        ).fit_transform(X_train_ms)\n",
    "\n",
    "        #print(\"Simple Imputer\")\n",
    "        score = eval_LR(X_train_imp_simple, y_train, X_test, y_test, seed=clf_seed)\n",
    "        simple_lr.append(score)\n",
    "        score = eval_svm(X_train_imp_simple, y_train, X_test, y_test, seed=clf_seed)\n",
    "        simple_svm.append(score)\n",
    "        #print(\"Iterative\")\n",
    "        score = eval_LR(X_train_imp_iter, y_train, X_test, y_test, seed=clf_seed)\n",
    "        iter_lr.append(score)\n",
    "        score = eval_svm(X_train_imp_iter, y_train, X_test, y_test, seed=clf_seed)\n",
    "        iter_svm.append(score)\n",
    "    print(\"Simple lr {}({}) svm {}({})\".format(np.mean(simple_lr), np.std(simple_lr), np.mean(simple_svm), np.std(simple_svm)))\n",
    "    print(\"Iter lr {}({}) svm {}({})\".format(np.mean(iter_lr), np.std(iter_lr), np.mean(iter_svm), np.std(iter_svm)))"
   ]
  },
  {
   "attachments": {},
   "cell_type": "markdown",
   "metadata": {},
   "source": [
    "## Wine"
   ]
  },
  {
   "cell_type": "code",
   "execution_count": 508,
   "metadata": {},
   "outputs": [
    {
     "name": "stdout",
     "output_type": "stream",
     "text": [
      "Index(['2', '3', '4', '5', '6', '7', '8', '9', '10', '11', '12', '13', '14',\n",
      "       '1'],\n",
      "      dtype='object')\n",
      "{'target': '1', 'important_features_idx': [6, 12, 11, 0, 9, 10, 5, 1, 3, 8, 7, 2, 4], 'features_idx': [0, 1, 2, 3, 4, 5, 6, 7, 8, 9, 10, 11, 12], 'num_cols': 13, 'task_type': 'classification', 'clf_type': 'multi-class', 'data_type': 'tabular'}\n",
      "(151, 14) (27, 14)\n"
     ]
    },
    {
     "data": {
      "text/plain": [
       "1     1.000000\n",
       "8     0.853098\n",
       "14    0.838935\n",
       "13    0.827438\n",
       "2     0.779024\n",
       "11    0.761353\n",
       "12    0.732522\n",
       "7     0.719163\n",
       "3     0.544857\n",
       "5     0.538689\n",
       "10    0.506986\n",
       "9     0.489519\n",
       "4     0.363394\n",
       "6     0.352680\n",
       "dtype: float64"
      ]
     },
     "execution_count": 508,
     "metadata": {},
     "output_type": "execute_result"
    }
   ],
   "source": [
    "data, config = load_data('wine')\n",
    "print(data.columns)\n",
    "print(config)\n",
    "seed = 21\n",
    "train_data, test_data = train_test_split(data, test_size=0.15, random_state=seed, shuffle=True, stratify=data[config['target']])\n",
    "print(train_data.shape, test_data.shape)\n",
    "correlation_ret = data.corrwith(data[config['target']], method=correlation_ratio).sort_values(ascending=False)\n",
    "correlation_ret"
   ]
  },
  {
   "cell_type": "code",
   "execution_count": 509,
   "metadata": {},
   "outputs": [
    {
     "name": "stdout",
     "output_type": "stream",
     "text": [
      "(151, 13) (151,) (27, 13) (27,)\n",
      "0.9259259259259259\n",
      "0.9629629629629629\n"
     ]
    }
   ],
   "source": [
    "X_train = train_data.drop(config['target'], axis=1)\n",
    "y_train = train_data[config['target']]\n",
    "X_test = test_data.drop(config['target'], axis=1)\n",
    "y_test = test_data[config['target']]\n",
    "print(X_train.shape, y_train.shape, X_test.shape, y_test.shape)\n",
    "\n",
    "print(eval_LR(X_train, y_train, X_test, y_test, seed=seed))\n",
    "print(eval_svm(X_train, y_train, X_test, y_test, seed=seed))"
   ]
  },
  {
   "cell_type": "code",
   "execution_count": 510,
   "metadata": {},
   "outputs": [
    {
     "name": "stdout",
     "output_type": "stream",
     "text": [
      "missing ratio:  0.1\n",
      "Simple lr 0.9538926681783824(0.021854621760848) svm 0.9538926681783824(0.017597047206081334)\n",
      "Iter lr 0.9629629629629629(0.021164021164021166) svm 0.9523809523809523(0.0167316278315787)\n",
      "missing ratio:  0.2\n",
      "Simple lr 0.9516250944822371(0.020083643621445817) svm 0.9561602418745275(0.0178228663984151)\n",
      "Iter lr 0.9478458049886621(0.023565317109780628) svm 0.948601662887377(0.02344378294674348)\n",
      "missing ratio:  0.3\n",
      "Simple lr 0.9569160997732425(0.013689168765135908) svm 0.9561602418745275(0.016176065426328552)\n",
      "Iter lr 0.9395313681027967(0.029642738550457393) svm 0.9538926681783824(0.015926914214441003)\n",
      "missing ratio:  0.4\n",
      "Simple lr 0.9554043839758124(0.018297382368722893) svm 0.9538926681783824(0.017597047206081334)\n",
      "Iter lr 0.9478458049886621(0.026894099583759924) svm 0.9561602418745275(0.019329874304677874)\n",
      "missing ratio:  0.5\n",
      "Simple lr 0.9546485260770974(0.017169790917007613) svm 0.9402872260015116(0.02221759403884967)\n",
      "Iter lr 0.9334845049130763(0.036641571106699376) svm 0.9486016628873771(0.023443782946743482)\n",
      "missing ratio:  0.6\n",
      "Simple lr 0.9516250944822373(0.018637684060374814) svm 0.9395313681027967(0.02868279056842066)\n",
      "Iter lr 0.9372637944066515(0.026140009774437763) svm 0.9417989417989416(0.0342896333249093)\n",
      "missing ratio:  0.7\n",
      "Simple lr 0.9440665154950868(0.023806524184465022) svm 0.9259259259259258(0.032615947105655956)\n",
      "Iter lr 0.9251700680272108(0.05915040830389675) svm 0.928949357520786(0.0415515650094777)\n",
      "missing ratio:  0.8\n",
      "Simple lr 0.9342403628117913(0.02923519214786653) svm 0.90854119425548(0.04305073580014555)\n",
      "Iter lr 0.9040060468631896(0.059822702758607335) svm 0.907785336356765(0.043064004635658695)\n",
      "missing ratio:  0.9\n",
      "Simple lr 0.8881330309901738(0.05156480090948008) svm 0.8488284202569918(0.05010374427566605)\n",
      "Iter lr 0.7256235827664399(0.12718642777669076) svm 0.7687074829931972(0.103825274882496)\n"
     ]
    }
   ],
   "source": [
    "import warnings\n",
    "warnings.filterwarnings(\"ignore\")\n",
    "missing_ratios = [0.1, 0.2, 0.3, 0.4, 0.5, 0.6, 0.7, 0.8, 0.9]\n",
    "for missing_ratio in missing_ratios:\n",
    "    print(\"missing ratio: \", missing_ratio)\n",
    "    clf_seed = 21\n",
    "    simple_lr, simple_svm, iter_lr, iter_svm = [], [], [], []\n",
    "    for seed in range(1, 50):\n",
    "        #print(\"===========================================================================================\")\n",
    "        ret = simulate_nan(train_data.values, missing_ratio=missing_ratio, mechanism = 'mcar', p_na_cols = 1.0, seed=seed)\n",
    "        train_data_ms = ret['train_data_ms']\n",
    "        train_data_ms = pd.DataFrame(train_data_ms, columns=train_data.columns)\n",
    "\n",
    "        X_train_ms = train_data_ms.drop(config['target'], axis=1).values\n",
    "        y_train = train_data_ms[config['target']].values\n",
    "        X_test = test_data.drop(config['target'], axis=1).values\n",
    "        y_test = test_data[config['target']].values\n",
    "        #print(X_train_ms.shape, y_train.shape, X_test.shape, y_test.shape)\n",
    "\n",
    "        X_train_imp_simple = SimpleImputer(missing_values=np.nan, strategy='mean').fit_transform(X_train_ms)\n",
    "        min_values, max_values = np.nanmin(X_train_ms, axis=0), np.nanmax(X_train_ms, axis=0)\n",
    "        X_train_imp_iter = IterativeImputer(\n",
    "            random_state=seed, max_iter=30, min_value=min_values, max_value=max_values\n",
    "        ).fit_transform(X_train_ms)\n",
    "\n",
    "        #print(\"Simple Imputer\")\n",
    "        score = eval_LR(X_train_imp_simple, y_train, X_test, y_test, seed=clf_seed)\n",
    "        simple_lr.append(score)\n",
    "        score = eval_svm(X_train_imp_simple, y_train, X_test, y_test, seed=clf_seed)\n",
    "        simple_svm.append(score)\n",
    "        #print(\"Iterative\")\n",
    "        score = eval_LR(X_train_imp_iter, y_train, X_test, y_test, seed=clf_seed)\n",
    "        iter_lr.append(score)\n",
    "        score = eval_svm(X_train_imp_iter, y_train, X_test, y_test, seed=clf_seed)\n",
    "        iter_svm.append(score)\n",
    "    print(\"Simple lr {}({}) svm {}({})\".format(np.mean(simple_lr), np.std(simple_lr), np.mean(simple_svm), np.std(simple_svm)))\n",
    "    print(\"Iter lr {}({}) svm {}({})\".format(np.mean(iter_lr), np.std(iter_lr), np.mean(iter_svm), np.std(iter_svm)))"
   ]
  },
  {
   "cell_type": "code",
   "execution_count": 511,
   "metadata": {},
   "outputs": [
    {
     "name": "stdout",
     "output_type": "stream",
     "text": [
      "missing ratio:  0.1\n",
      "Simple lr 0.9508692365835222(0.018911558583819783) svm 0.9591836734693877(0.011211184409819577)\n",
      "Iter lr 0.9523809523809523(0.022447834323382446) svm 0.9561602418745275(0.014341395284210313)\n",
      "missing ratio:  0.2\n",
      "Simple lr 0.9523809523809523(0.0167316278315787) svm 0.9546485260770974(0.015453551247362692)\n",
      "Iter lr 0.9508692365835224(0.020338056004646558) svm 0.9561602418745275(0.0178228663984151)\n",
      "missing ratio:  0.3\n",
      "Simple lr 0.9561602418745275(0.01617606542632855) svm 0.9546485260770974(0.017169790917007613)\n",
      "Iter lr 0.9523809523809523(0.02244783432338245) svm 0.9599395313681028(0.01260266969050117)\n",
      "missing ratio:  0.4\n",
      "Simple lr 0.9538926681783824(0.015926914214441003) svm 0.9372637944066515(0.029176506523989072)\n",
      "Iter lr 0.945578231292517(0.024931855634876238) svm 0.9501133786848072(0.02543099598074182)\n",
      "missing ratio:  0.5\n",
      "Simple lr 0.9387755102040817(0.028543019786091) svm 0.9115646258503399(0.051741772003400854)\n",
      "Iter lr 0.929705215419501(0.02921564337125878) svm 0.9251700680272108(0.03548509325564777)\n",
      "missing ratio:  0.6\n",
      "Simple lr 0.9274376417233559(0.03812402180776565) svm 0.8578987150415721(0.06451857092327529)\n",
      "Iter lr 0.910808767951625(0.046076343625482) svm 0.8843537414965987(0.0568051223826332)\n",
      "missing ratio:  0.7\n",
      "Simple lr 0.8987150415721844(0.05833342821337789) svm 0.8291761148904006(0.06341102700276445)\n",
      "Iter lr 0.8654572940287225(0.09861556082807472) svm 0.8488284202569916(0.07325195125977758)\n",
      "missing ratio:  0.8\n",
      "Simple lr 0.8420256991685563(0.06556386528254403) svm 0.7724867724867724(0.08093681767607595)\n",
      "Iter lr 0.7717309145880573(0.11909979780085005) svm 0.7331821617535902(0.10791046263121767)\n",
      "missing ratio:  0.9\n",
      "Simple lr 0.7762660619803475(0.0885225455598328) svm 0.7777777777777777(0.08264814471858892)\n",
      "Iter lr 0.6462585034013606(0.12020279619681244) svm 0.6326530612244897(0.1073531112778896)\n"
     ]
    }
   ],
   "source": [
    "import warnings\n",
    "warnings.filterwarnings(\"ignore\")\n",
    "missing_ratios = [0.1, 0.2, 0.3, 0.4, 0.5, 0.6, 0.7, 0.8, 0.9]\n",
    "for missing_ratio in missing_ratios:\n",
    "    print(\"missing ratio: \", missing_ratio)\n",
    "    clf_seed = 21\n",
    "    simple_lr, simple_svm, iter_lr, iter_svm = [], [], [], []\n",
    "    for seed in range(1, 50):\n",
    "        #print(\"===========================================================================================\")\n",
    "        ret = simulate_nan(train_data.values, missing_ratio=missing_ratio, mechanism = 'mary', p_na_cols = 1.0, seed=seed)\n",
    "        train_data_ms = ret['train_data_ms']\n",
    "        train_data_ms = pd.DataFrame(train_data_ms, columns=train_data.columns)\n",
    "\n",
    "        X_train_ms = train_data_ms.drop(config['target'], axis=1).values\n",
    "        y_train = train_data_ms[config['target']].values\n",
    "        X_test = test_data.drop(config['target'], axis=1).values\n",
    "        y_test = test_data[config['target']].values\n",
    "        #print(X_train_ms.shape, y_train.shape, X_test.shape, y_test.shape)\n",
    "\n",
    "        X_train_imp_simple = SimpleImputer(missing_values=np.nan, strategy='mean').fit_transform(X_train_ms)\n",
    "        min_values, max_values = np.nanmin(X_train_ms, axis=0), np.nanmax(X_train_ms, axis=0)\n",
    "        X_train_imp_iter = IterativeImputer(\n",
    "            random_state=seed, max_iter=30, min_value=min_values, max_value=max_values\n",
    "        ).fit_transform(X_train_ms)\n",
    "\n",
    "        #print(\"Simple Imputer\")\n",
    "        score = eval_LR(X_train_imp_simple, y_train, X_test, y_test, seed=clf_seed)\n",
    "        simple_lr.append(score)\n",
    "        score = eval_svm(X_train_imp_simple, y_train, X_test, y_test, seed=clf_seed)\n",
    "        simple_svm.append(score)\n",
    "        #print(\"Iterative\")\n",
    "        score = eval_LR(X_train_imp_iter, y_train, X_test, y_test, seed=clf_seed)\n",
    "        iter_lr.append(score)\n",
    "        score = eval_svm(X_train_imp_iter, y_train, X_test, y_test, seed=clf_seed)\n",
    "        iter_svm.append(score)\n",
    "    print(\"Simple lr {}({}) svm {}({})\".format(np.mean(simple_lr), np.std(simple_lr), np.mean(simple_svm), np.std(simple_svm)))\n",
    "    print(\"Iter lr {}({}) svm {}({})\".format(np.mean(iter_lr), np.std(iter_lr), np.mean(iter_svm), np.std(iter_svm)))"
   ]
  },
  {
   "attachments": {},
   "cell_type": "markdown",
   "metadata": {},
   "source": [
    "## Pima Diabetes"
   ]
  },
  {
   "cell_type": "code",
   "execution_count": 513,
   "metadata": {},
   "outputs": [
    {
     "name": "stdout",
     "output_type": "stream",
     "text": [
      "Index(['Pregnancies', 'Glucose', 'BloodPressure', 'SkinThickness', 'Insulin',\n",
      "       'BMI', 'DiabetesPedigreeFunction', 'Age', 'Outcome'],\n",
      "      dtype='object')\n",
      "{'target': 'Outcome', 'important_features_idx': [1, 5, 7, 0, 6, 4], 'features_idx': [0, 1, 2, 3, 4, 5, 6, 7], 'num_cols': 8, 'task_type': 'classification', 'clf_type': 'binary-class', 'data_type': 'tabular'}\n",
      "(652, 9) (116, 9)\n"
     ]
    },
    {
     "data": {
      "text/plain": [
       "Outcome                     1.000000\n",
       "Glucose                     0.466581\n",
       "BMI                         0.292695\n",
       "Age                         0.238356\n",
       "Pregnancies                 0.221898\n",
       "DiabetesPedigreeFunction    0.173844\n",
       "Insulin                     0.130548\n",
       "SkinThickness               0.074752\n",
       "BloodPressure               0.065068\n",
       "dtype: float64"
      ]
     },
     "execution_count": 513,
     "metadata": {},
     "output_type": "execute_result"
    }
   ],
   "source": [
    "data, config = load_data('pima_diabetes')\n",
    "print(data.columns)\n",
    "print(config)\n",
    "seed = 21\n",
    "train_data, test_data = train_test_split(data, test_size=0.15, random_state=seed, shuffle=True, stratify=data[config['target']])\n",
    "print(train_data.shape, test_data.shape)\n",
    "correlation_ret = data.corrwith(data[config['target']], method=correlation_ratio).sort_values(ascending=False)\n",
    "correlation_ret"
   ]
  },
  {
   "cell_type": "code",
   "execution_count": 514,
   "metadata": {},
   "outputs": [
    {
     "name": "stdout",
     "output_type": "stream",
     "text": [
      "(652, 8) (652,) (116, 8) (116,)\n",
      "0.75\n",
      "0.7586206896551724\n"
     ]
    }
   ],
   "source": [
    "X_train = train_data.drop(config['target'], axis=1)\n",
    "y_train = train_data[config['target']]\n",
    "X_test = test_data.drop(config['target'], axis=1)\n",
    "y_test = test_data[config['target']]\n",
    "print(X_train.shape, y_train.shape, X_test.shape, y_test.shape)\n",
    "\n",
    "print(eval_LR(X_train, y_train, X_test, y_test, seed=seed))\n",
    "print(eval_svm(X_train, y_train, X_test, y_test, seed=seed))"
   ]
  },
  {
   "cell_type": "code",
   "execution_count": 515,
   "metadata": {},
   "outputs": [
    {
     "name": "stdout",
     "output_type": "stream",
     "text": [
      "missing ratio:  0.1\n",
      "Simple lr 0.7447220267417312(0.00831920507919555) svm 0.7361013370865588(0.01112694461705974)\n",
      "Iter lr 0.7484166080225193(0.008651154717202134) svm 0.7436664320900774(0.01603593084462468)\n",
      "missing ratio:  0.2\n",
      "Simple lr 0.739795918367347(0.010106549342959242) svm 0.7315270935960589(0.013377808486699772)\n",
      "Iter lr 0.7491203377902885(0.009090788657821107) svm 0.7385643912737511(0.015122004888771499)\n",
      "missing ratio:  0.3\n",
      "Simple lr 0.7396199859254046(0.010001879242471428) svm 0.7283603096410979(0.01558963963186187)\n",
      "Iter lr 0.7473610133708656(0.016356987050203314) svm 0.7355735397607319(0.017794416338480338)\n",
      "missing ratio:  0.4\n",
      "Simple lr 0.7352216748768473(0.010303694908055123) svm 0.7239619985925405(0.015722101064566427)\n",
      "Iter lr 0.7369809992962704(0.017686242592346503) svm 0.7253694581280788(0.020680856679490968)\n",
      "missing ratio:  0.5\n",
      "Simple lr 0.7343420126671357(0.011770393162334782) svm 0.7246657283603097(0.017011857499836133)\n",
      "Iter lr 0.7301196340605207(0.03910768848451415) svm 0.7262491203377902(0.0217900692545968)\n",
      "missing ratio:  0.6\n",
      "Simple lr 0.7266009852216748(0.011683291847912733) svm 0.7232582688247713(0.019018614333258393)\n",
      "Iter lr 0.7283603096410979(0.027434180904322016) svm 0.7202674173117524(0.0225111042248041)\n",
      "missing ratio:  0.7\n",
      "Simple lr 0.7271287825475018(0.011360931942971806) svm 0.7232582688247713(0.017174827391788574)\n",
      "Iter lr 0.7297677691766362(0.028488020581120713) svm 0.7266009852216749(0.024132903869785)\n",
      "missing ratio:  0.8\n",
      "Simple lr 0.7220267417311752(0.017287992254100278) svm 0.7267769176636171(0.021836894580332594)\n",
      "Iter lr 0.7151653764954258(0.04241030233404639) svm 0.7121745249824067(0.035386483002884245)\n",
      "missing ratio:  0.9\n",
      "Simple lr 0.7185080928923294(0.027347168763427576) svm 0.7139338494018296(0.03717798435432031)\n",
      "Iter lr 0.6817382125263899(0.06120173568289557) svm 0.6894792399718507(0.04207029926295561)\n"
     ]
    }
   ],
   "source": [
    "import warnings\n",
    "warnings.filterwarnings(\"ignore\")\n",
    "missing_ratios = [0.1, 0.2, 0.3, 0.4, 0.5, 0.6, 0.7, 0.8, 0.9]\n",
    "for missing_ratio in missing_ratios:\n",
    "    print(\"missing ratio: \", missing_ratio)\n",
    "    clf_seed = 21\n",
    "    simple_lr, simple_svm, iter_lr, iter_svm = [], [], [], []\n",
    "    for seed in range(1, 50):\n",
    "        #print(\"===========================================================================================\")\n",
    "        ret = simulate_nan(train_data.values, missing_ratio=missing_ratio, mechanism = 'mcar', p_na_cols = 1.0, seed=seed)\n",
    "        train_data_ms = ret['train_data_ms']\n",
    "        train_data_ms = pd.DataFrame(train_data_ms, columns=train_data.columns)\n",
    "\n",
    "        X_train_ms = train_data_ms.drop(config['target'], axis=1).values\n",
    "        y_train = train_data_ms[config['target']].values\n",
    "        X_test = test_data.drop(config['target'], axis=1).values\n",
    "        y_test = test_data[config['target']].values\n",
    "        #print(X_train_ms.shape, y_train.shape, X_test.shape, y_test.shape)\n",
    "\n",
    "        X_train_imp_simple = SimpleImputer(missing_values=np.nan, strategy='mean').fit_transform(X_train_ms)\n",
    "        min_values, max_values = np.nanmin(X_train_ms, axis=0), np.nanmax(X_train_ms, axis=0)\n",
    "        X_train_imp_iter = IterativeImputer(\n",
    "            random_state=seed, max_iter=30, min_value=min_values, max_value=max_values\n",
    "        ).fit_transform(X_train_ms)\n",
    "\n",
    "        #print(\"Simple Imputer\")\n",
    "        score = eval_LR(X_train_imp_simple, y_train, X_test, y_test, seed=clf_seed)\n",
    "        simple_lr.append(score)\n",
    "        score = eval_svm(X_train_imp_simple, y_train, X_test, y_test, seed=clf_seed)\n",
    "        simple_svm.append(score)\n",
    "        #print(\"Iterative\")\n",
    "        score = eval_LR(X_train_imp_iter, y_train, X_test, y_test, seed=clf_seed)\n",
    "        iter_lr.append(score)\n",
    "        score = eval_svm(X_train_imp_iter, y_train, X_test, y_test, seed=clf_seed)\n",
    "        iter_svm.append(score)\n",
    "    print(\"Simple lr {}({}) svm {}({})\".format(np.mean(simple_lr), np.std(simple_lr), np.mean(simple_svm), np.std(simple_svm)))\n",
    "    print(\"Iter lr {}({}) svm {}({})\".format(np.mean(iter_lr), np.std(iter_lr), np.mean(iter_svm), np.std(iter_svm)))"
   ]
  },
  {
   "cell_type": "code",
   "execution_count": 516,
   "metadata": {},
   "outputs": [
    {
     "name": "stdout",
     "output_type": "stream",
     "text": [
      "missing ratio:  0.1\n",
      "Simple lr 0.7417311752287121(0.01073043679238347) svm 0.729064039408867(0.015083064918615625)\n",
      "Iter lr 0.7482406755805769(0.010591074555448563) svm 0.7415552427867697(0.016103345420828866)\n",
      "missing ratio:  0.2\n",
      "Simple lr 0.7406755805770585(0.014131657725561722) svm 0.6963406052076002(0.027331318612533326)\n",
      "Iter lr 0.7477128782547502(0.014548240738513735) svm 0.7283603096410979(0.021196756483925442)\n",
      "missing ratio:  0.3\n",
      "Simple lr 0.7236101337086557(0.03489410541536435) svm 0.6608022519352569(0.02745786363329154)\n",
      "Iter lr 0.7385643912737511(0.014715357963635807) svm 0.6945812807881772(0.02698140677365351)\n",
      "missing ratio:  0.4\n",
      "Simple lr 0.6736453201970443(0.03478927805868358) svm 0.6572836030964111(0.02035044861494899)\n",
      "Iter lr 0.7098874032371569(0.035246254660495864) svm 0.6796270232230823(0.01918551144294945)\n",
      "missing ratio:  0.5\n",
      "Simple lr 0.6669598874032371(0.027465753338334325) svm 0.6511259676284307(0.014685880897050807)\n",
      "Iter lr 0.6616819141449682(0.016662576344196458) svm 0.6676636171710063(0.0267023488668602)\n",
      "missing ratio:  0.6\n",
      "Simple lr 0.6622097114707951(0.0226194665019355) svm 0.6528852920478536(0.012532022391631335)\n",
      "Iter lr 0.6565798733286418(0.008593719030133588) svm 0.6562280084447573(0.029434922418528332)\n",
      "missing ratio:  0.7\n",
      "Simple lr 0.6595707248416607(0.014374875591706901) svm 0.6520056298381423(0.009490572807361847)\n",
      "Iter lr 0.6551724137931033(1.1102230246251565e-16) svm 0.6484869809992964(0.015987603536715453)\n",
      "missing ratio:  0.8\n",
      "Simple lr 0.6558761435608725(0.003830320383018518) svm 0.6557002111189302(0.0020667382344248465)\n",
      "Iter lr 0.6551724137931033(1.1102230246251565e-16) svm 0.650070372976777(0.010437999278107893)\n",
      "missing ratio:  0.9\n",
      "Simple lr 0.6564039408866994(0.008532269988024034) svm 0.6551724137931033(1.1102230246251565e-16)\n",
      "Iter lr 0.6551724137931033(1.1102230246251565e-16) svm 0.6551724137931033(1.1102230246251565e-16)\n"
     ]
    }
   ],
   "source": [
    "import warnings\n",
    "warnings.filterwarnings(\"ignore\")\n",
    "missing_ratios = [0.1, 0.2, 0.3, 0.4, 0.5, 0.6, 0.7, 0.8, 0.9]\n",
    "for missing_ratio in missing_ratios:\n",
    "    print(\"missing ratio: \", missing_ratio)\n",
    "    clf_seed = 21\n",
    "    simple_lr, simple_svm, iter_lr, iter_svm = [], [], [], []\n",
    "    for seed in range(1, 50):\n",
    "        #print(\"===========================================================================================\")\n",
    "        ret = simulate_nan(train_data.values, missing_ratio=missing_ratio, mechanism = 'mary', p_na_cols = 1.0, seed=seed)\n",
    "        train_data_ms = ret['train_data_ms']\n",
    "        train_data_ms = pd.DataFrame(train_data_ms, columns=train_data.columns)\n",
    "\n",
    "        X_train_ms = train_data_ms.drop(config['target'], axis=1).values\n",
    "        y_train = train_data_ms[config['target']].values\n",
    "        X_test = test_data.drop(config['target'], axis=1).values\n",
    "        y_test = test_data[config['target']].values\n",
    "        #print(X_train_ms.shape, y_train.shape, X_test.shape, y_test.shape)\n",
    "\n",
    "        X_train_imp_simple = SimpleImputer(missing_values=np.nan, strategy='mean').fit_transform(X_train_ms)\n",
    "        min_values, max_values = np.nanmin(X_train_ms, axis=0), np.nanmax(X_train_ms, axis=0)\n",
    "        X_train_imp_iter = IterativeImputer(\n",
    "            random_state=seed, max_iter=30, min_value=min_values, max_value=max_values\n",
    "        ).fit_transform(X_train_ms)\n",
    "\n",
    "        #print(\"Simple Imputer\")\n",
    "        score = eval_LR(X_train_imp_simple, y_train, X_test, y_test, seed=clf_seed)\n",
    "        simple_lr.append(score)\n",
    "        score = eval_svm(X_train_imp_simple, y_train, X_test, y_test, seed=clf_seed)\n",
    "        simple_svm.append(score)\n",
    "        #print(\"Iterative\")\n",
    "        score = eval_LR(X_train_imp_iter, y_train, X_test, y_test, seed=clf_seed)\n",
    "        iter_lr.append(score)\n",
    "        score = eval_svm(X_train_imp_iter, y_train, X_test, y_test, seed=clf_seed)\n",
    "        iter_svm.append(score)\n",
    "    print(\"Simple lr {}({}) svm {}({})\".format(np.mean(simple_lr), np.std(simple_lr), np.mean(simple_svm), np.std(simple_svm)))\n",
    "    print(\"Iter lr {}({}) svm {}({})\".format(np.mean(iter_lr), np.std(iter_lr), np.mean(iter_svm), np.std(iter_svm)))"
   ]
  },
  {
   "attachments": {},
   "cell_type": "markdown",
   "metadata": {},
   "source": [
    "## Red"
   ]
  },
  {
   "cell_type": "code",
   "execution_count": 528,
   "metadata": {},
   "outputs": [
    {
     "name": "stdout",
     "output_type": "stream",
     "text": [
      "Index(['fixed acidity', 'volatile acidity', 'citric acid', 'residual sugar',\n",
      "       'chlorides', 'free sulfur dioxide', 'total sulfur dioxide', 'density',\n",
      "       'pH', 'sulphates', 'alcohol', 'quality'],\n",
      "      dtype='object')\n",
      "{'target': 'quality', 'important_features_idx': [10, 1, 6, 9, 2, 7], 'features_idx': [0, 1, 2, 3, 4, 5, 6, 7, 8, 9, 10], 'num_cols': 11, 'task_type': 'classification', 'clf_type': 'binary-class', 'data_type': 'tabular'}\n",
      "(1359, 12) (240, 12)\n"
     ]
    },
    {
     "data": {
      "text/plain": [
       "quality                 1.000000\n",
       "alcohol                 0.516398\n",
       "volatile acidity        0.400631\n",
       "total sulfur dioxide    0.272119\n",
       "sulphates               0.255621\n",
       "citric acid             0.241260\n",
       "density                 0.200875\n",
       "fixed acidity           0.139067\n",
       "chlorides               0.136353\n",
       "free sulfur dioxide     0.121255\n",
       "pH                      0.115950\n",
       "residual sugar          0.057405\n",
       "dtype: float64"
      ]
     },
     "execution_count": 528,
     "metadata": {},
     "output_type": "execute_result"
    }
   ],
   "source": [
    "data, config = load_data('red')\n",
    "print(data.columns)\n",
    "print(config)\n",
    "seed = 21\n",
    "train_data, test_data = train_test_split(data, test_size=0.15, random_state=seed, shuffle=True, stratify=data[config['target']])\n",
    "print(train_data.shape, test_data.shape)\n",
    "correlation_ret = data.corrwith(data[config['target']], method=correlation_ratio).sort_values(ascending=False)\n",
    "correlation_ret"
   ]
  },
  {
   "cell_type": "code",
   "execution_count": 529,
   "metadata": {},
   "outputs": [
    {
     "name": "stdout",
     "output_type": "stream",
     "text": [
      "(1359, 11) (1359,) (240, 11) (240,)\n",
      "0.5625\n",
      "0.7125\n"
     ]
    }
   ],
   "source": [
    "X_train = train_data.drop(config['target'], axis=1)\n",
    "y_train = train_data[config['target']]\n",
    "X_test = test_data.drop(config['target'], axis=1)\n",
    "y_test = test_data[config['target']]\n",
    "print(X_train.shape, y_train.shape, X_test.shape, y_test.shape)\n",
    "\n",
    "print(eval_LR(X_train, y_train, X_test, y_test, seed=seed))\n",
    "print(eval_rf(X_train, y_train, X_test, y_test, seed=seed))\n",
    "#print(eval_svm(X_train, y_train, X_test, y_test, seed=seed))"
   ]
  },
  {
   "cell_type": "code",
   "execution_count": 531,
   "metadata": {},
   "outputs": [
    {
     "name": "stdout",
     "output_type": "stream",
     "text": [
      "missing ratio:  0.1\n",
      "Simple lr 0.5675438596491229(0.0110305055613678) rf 0.6995614035087719(0.013029342787292059)\n",
      "Iter lr 0.5662280701754385(0.009057840538624278) rf 0.7041666666666666(0.015354009705451152)\n",
      "missing ratio:  0.2\n",
      "Simple lr 0.5611842105263157(0.011151914153588703) rf 0.6787280701754387(0.013029342787292056)\n",
      "Iter lr 0.5635964912280702(0.009919458664823378) rf 0.6758771929824562(0.01619840816896436)\n",
      "missing ratio:  0.3\n",
      "Simple lr 0.557236842105263(0.013775700679420553) rf 0.6407894736842106(0.020348702999407095)\n",
      "Iter lr 0.5660087719298245(0.016124014425133153) rf 0.643859649122807(0.019930820644739927)\n",
      "missing ratio:  0.4\n",
      "Simple lr 0.5506578947368421(0.013603563525676165) rf 0.6239035087719299(0.019442245841492546)\n",
      "Iter lr 0.5462719298245614(0.01615976616398294) rf 0.6127192982456141(0.024500629699007567)\n",
      "missing ratio:  0.5\n",
      "Simple lr 0.5469298245614035(0.012955311831352585) rf 0.6008771929824562(0.02007746999692385)\n",
      "Iter lr 0.5524122807017544(0.013128622409733136) rf 0.5989035087719298(0.021453152809465952)\n",
      "missing ratio:  0.6\n",
      "Simple lr 0.5410087719298247(0.01141194020285762) rf 0.5833333333333334(0.01639025170267965)\n",
      "Iter lr 0.5497807017543859(0.014714242278259878) rf 0.5778508771929826(0.011233551293741845)\n",
      "missing ratio:  0.7\n",
      "Simple lr 0.5436403508771929(0.013810567099854204) rf 0.5776315789473684(0.022180583874544364)\n",
      "Iter lr 0.5464912280701754(0.022100215240954606) rf 0.5688596491228071(0.023623215806131984)\n",
      "missing ratio:  0.8\n",
      "Simple lr 0.5399122807017543(0.011809571945470403) rf 0.5515350877192983(0.024934509479915604)\n",
      "Iter lr 0.5368421052631578(0.017431106973015472) rf 0.5592105263157895(0.022522687853452236)\n",
      "missing ratio:  0.9\n",
      "Simple lr 0.5313596491228071(0.028109552972218142) rf 0.5234649122807017(0.040220757018829774)\n",
      "Iter lr 0.531578947368421(0.023152328544244136) rf 0.5289473684210526(0.041479264622936454)\n"
     ]
    }
   ],
   "source": [
    "import warnings\n",
    "warnings.filterwarnings(\"ignore\")\n",
    "missing_ratios = [0.1, 0.2, 0.3, 0.4, 0.5, 0.6, 0.7, 0.8, 0.9]\n",
    "for missing_ratio in missing_ratios:\n",
    "    print(\"missing ratio: \", missing_ratio)\n",
    "    clf_seed = 21\n",
    "    simple_lr, simple_svm, iter_lr, iter_svm = [], [], [], []\n",
    "    for seed in range(1, 20):\n",
    "        #print(\"===========================================================================================\")\n",
    "        ret = simulate_nan(train_data.values, missing_ratio=missing_ratio, mechanism = 'mcar', p_na_cols = 1.0, seed=seed)\n",
    "        train_data_ms = ret['train_data_ms']\n",
    "        train_data_ms = pd.DataFrame(train_data_ms, columns=train_data.columns)\n",
    "\n",
    "        X_train_ms = train_data_ms.drop(config['target'], axis=1).values\n",
    "        y_train = train_data_ms[config['target']].values\n",
    "        X_test = test_data.drop(config['target'], axis=1).values\n",
    "        y_test = test_data[config['target']].values\n",
    "        #print(X_train_ms.shape, y_train.shape, X_test.shape, y_test.shape)\n",
    "\n",
    "        X_train_imp_simple = SimpleImputer(missing_values=np.nan, strategy='mean').fit_transform(X_train_ms)\n",
    "        min_values, max_values = np.nanmin(X_train_ms, axis=0), np.nanmax(X_train_ms, axis=0)\n",
    "        X_train_imp_iter = IterativeImputer(\n",
    "            random_state=seed, max_iter=30, min_value=min_values, max_value=max_values\n",
    "        ).fit_transform(X_train_ms)\n",
    "\n",
    "        #print(\"Simple Imputer\")\n",
    "        score = eval_LR(X_train_imp_simple, y_train, X_test, y_test, seed=clf_seed)\n",
    "        simple_lr.append(score)\n",
    "        score = eval_rf(X_train_imp_simple, y_train, X_test, y_test, seed=clf_seed)\n",
    "        simple_svm.append(score)\n",
    "        #print(\"Iterative\")\n",
    "        score = eval_LR(X_train_imp_iter, y_train, X_test, y_test, seed=clf_seed)\n",
    "        iter_lr.append(score)\n",
    "        score = eval_rf(X_train_imp_iter, y_train, X_test, y_test, seed=clf_seed)\n",
    "        iter_svm.append(score)\n",
    "    print(\"Simple lr {}({}) rf {}({})\".format(np.mean(simple_lr), np.std(simple_lr), np.mean(simple_svm), np.std(simple_svm)))\n",
    "    print(\"Iter lr {}({}) rf {}({})\".format(np.mean(iter_lr), np.std(iter_lr), np.mean(iter_svm), np.std(iter_svm)))"
   ]
  },
  {
   "cell_type": "code",
   "execution_count": 532,
   "metadata": {},
   "outputs": [
    {
     "name": "stdout",
     "output_type": "stream",
     "text": [
      "missing ratio:  0.1\n",
      "Simple lr 0.5592105263157896(0.008396574438191508) rf 0.6642543859649122(0.010925367286913288)\n",
      "Iter lr 0.5675438596491228(0.0075967140682845526) rf 0.6813596491228071(0.01860290356179692)\n",
      "missing ratio:  0.2\n",
      "Simple lr 0.5565789473684211(0.0073194382755607966) rf 0.6243421052631579(0.013536227510535931)\n",
      "Iter lr 0.5614035087719299(0.005547855544155031) rf 0.6510964912280702(0.018179282259704128)\n",
      "missing ratio:  0.3\n",
      "Simple lr 0.5611842105263157(0.00449427665173665) rf 0.5686403508771929(0.016521761580559086)\n",
      "Iter lr 0.5655701754385966(0.008205389006083204) rf 0.6375(0.024705872114925715)\n",
      "missing ratio:  0.4\n",
      "Simple lr 0.5644736842105262(0.0056338739380110015) rf 0.4807017543859649(0.018545942554268394)\n",
      "Iter lr 0.5660087719298247(0.008683767488255842) rf 0.6182017543859648(0.0157772857443903)\n",
      "missing ratio:  0.5\n",
      "Simple lr 0.5668859649122806(0.0043749862594868434) rf 0.4302631578947368(0.010969297368771759)\n",
      "Iter lr 0.5666666666666665(0.00926778360048921) rf 0.5782894736842106(0.009126601774861772)\n",
      "missing ratio:  0.6\n",
      "Simple lr 0.5614035087719298(0.009919458664823374) rf 0.4135964912280702(0.007384850105474887)\n",
      "Iter lr 0.5708333333333333(0.012015462747195385) rf 0.5392543859649123(0.018452354357861963)\n",
      "missing ratio:  0.7\n",
      "Simple lr 0.5583333333333333(0.012753281884691846) rf 0.39890350877192987(0.008205389006083204)\n",
      "Iter lr 0.5440789473684211(0.04995092235891147) rf 0.47478070175438597(0.023039887395632966)\n",
      "missing ratio:  0.8\n",
      "Simple lr 0.47521929824561415(0.059871232502587475) rf 0.3817982456140351(0.011723742460196198)\n",
      "Iter lr 0.4890350877192982(0.043642003847739474) rf 0.4337719298245614(0.01698676906231323)\n",
      "missing ratio:  0.9\n",
      "Simple lr 0.4666666666666667(0.04979857087124804) rf 0.3074561403508772(0.04936695280800257)\n",
      "Iter lr 0.4324561403508772(0.0221132678350097) rf 0.4122807017543859(0.014336806253229074)\n"
     ]
    }
   ],
   "source": [
    "import warnings\n",
    "warnings.filterwarnings(\"ignore\")\n",
    "missing_ratios = [0.1, 0.2, 0.3, 0.4, 0.5, 0.6, 0.7, 0.8, 0.9]\n",
    "for missing_ratio in missing_ratios:\n",
    "    print(\"missing ratio: \", missing_ratio)\n",
    "    clf_seed = 21\n",
    "    simple_lr, simple_svm, iter_lr, iter_svm = [], [], [], []\n",
    "    for seed in range(1, 20):\n",
    "        #print(\"===========================================================================================\")\n",
    "        ret = simulate_nan(train_data.values, missing_ratio=missing_ratio, mechanism = 'mary', p_na_cols = 1.0, seed=seed)\n",
    "        train_data_ms = ret['train_data_ms']\n",
    "        train_data_ms = pd.DataFrame(train_data_ms, columns=train_data.columns)\n",
    "\n",
    "        X_train_ms = train_data_ms.drop(config['target'], axis=1).values\n",
    "        y_train = train_data_ms[config['target']].values\n",
    "        X_test = test_data.drop(config['target'], axis=1).values\n",
    "        y_test = test_data[config['target']].values\n",
    "        #print(X_train_ms.shape, y_train.shape, X_test.shape, y_test.shape)\n",
    "\n",
    "        X_train_imp_simple = SimpleImputer(missing_values=np.nan, strategy='mean').fit_transform(X_train_ms)\n",
    "        min_values, max_values = np.nanmin(X_train_ms, axis=0), np.nanmax(X_train_ms, axis=0)\n",
    "        X_train_imp_iter = IterativeImputer(\n",
    "            random_state=seed, max_iter=30, min_value=min_values, max_value=max_values\n",
    "        ).fit_transform(X_train_ms)\n",
    "\n",
    "        #print(\"Simple Imputer\")\n",
    "        score = eval_LR(X_train_imp_simple, y_train, X_test, y_test, seed=clf_seed)\n",
    "        simple_lr.append(score)\n",
    "        score = eval_rf(X_train_imp_simple, y_train, X_test, y_test, seed=clf_seed)\n",
    "        simple_svm.append(score)\n",
    "        #print(\"Iterative\")\n",
    "        score = eval_LR(X_train_imp_iter, y_train, X_test, y_test, seed=clf_seed)\n",
    "        iter_lr.append(score)\n",
    "        score = eval_rf(X_train_imp_iter, y_train, X_test, y_test, seed=clf_seed)\n",
    "        iter_svm.append(score)\n",
    "    print(\"Simple lr {}({}) rf {}({})\".format(np.mean(simple_lr), np.std(simple_lr), np.mean(simple_svm), np.std(simple_svm)))\n",
    "    print(\"Iter lr {}({}) rf {}({})\".format(np.mean(iter_lr), np.std(iter_lr), np.mean(iter_svm), np.std(iter_svm)))"
   ]
  },
  {
   "attachments": {},
   "cell_type": "markdown",
   "metadata": {},
   "source": [
    "## Wine quality"
   ]
  },
  {
   "cell_type": "code",
   "execution_count": 533,
   "metadata": {},
   "outputs": [
    {
     "name": "stdout",
     "output_type": "stream",
     "text": [
      "1    3915\n",
      "0    2384\n",
      "2     198\n",
      "Name: quality, dtype: int64\n",
      "Index(['fixed acidity', 'volatile acidity', 'citric acid', 'residual sugar',\n",
      "       'chlorides', 'free sulfur dioxide', 'total sulfur dioxide', 'density',\n",
      "       'pH', 'sulphates', 'alcohol', 'type', 'quality'],\n",
      "      dtype='object')\n",
      "{'target': 'quality', 'important_features_idx': [10, 7, 1, 4, 11], 'features_idx': [0, 1, 2, 3, 4, 5, 6, 7, 8, 9, 10, 11, 12], 'num_cols': 12, 'task_type': 'classification', 'clf_type': 'multi-class', 'data_type': 'tabular'}\n",
      "(5522, 13) (975, 13)\n"
     ]
    },
    {
     "data": {
      "text/plain": [
       "quality                 1.000000\n",
       "alcohol                 0.414366\n",
       "density                 0.285245\n",
       "volatile acidity        0.267544\n",
       "chlorides               0.189512\n",
       "type                    0.126314\n",
       "fixed acidity           0.078980\n",
       "citric acid             0.076211\n",
       "free sulfur dioxide     0.056267\n",
       "total sulfur dioxide    0.049069\n",
       "sulphates               0.045999\n",
       "residual sugar          0.032498\n",
       "pH                      0.019510\n",
       "dtype: float64"
      ]
     },
     "execution_count": 533,
     "metadata": {},
     "output_type": "execute_result"
    }
   ],
   "source": [
    "data, config = load_data('wine_quality_all')\n",
    "print(data.columns)\n",
    "print(config)\n",
    "seed = 21\n",
    "train_data, test_data = train_test_split(data, test_size=0.15, random_state=seed, shuffle=True, stratify=data[config['target']])\n",
    "print(train_data.shape, test_data.shape)\n",
    "correlation_ret = data.corrwith(data[config['target']], method=correlation_ratio).sort_values(ascending=False)\n",
    "correlation_ret"
   ]
  },
  {
   "cell_type": "code",
   "execution_count": 534,
   "metadata": {},
   "outputs": [
    {
     "name": "stdout",
     "output_type": "stream",
     "text": [
      "(5522, 12) (5522,) (975, 12) (975,)\n",
      "0.718974358974359\n",
      "0.8112820512820513\n"
     ]
    }
   ],
   "source": [
    "X_train = train_data.drop(config['target'], axis=1)\n",
    "y_train = train_data[config['target']]\n",
    "X_test = test_data.drop(config['target'], axis=1)\n",
    "y_test = test_data[config['target']]\n",
    "print(X_train.shape, y_train.shape, X_test.shape, y_test.shape)\n",
    "\n",
    "print(eval_LR(X_train, y_train, X_test, y_test, seed=seed))\n",
    "#print(eval_rf(X_train, y_train, X_test, y_test, seed=seed))\n",
    "print(eval_svm(X_train, y_train, X_test, y_test, seed=seed))"
   ]
  },
  {
   "cell_type": "code",
   "execution_count": 535,
   "metadata": {},
   "outputs": [
    {
     "name": "stdout",
     "output_type": "stream",
     "text": [
      "missing ratio:  0.1\n",
      "Simple lr 0.7149257759784075(0.002410484595062464) svm 0.7958434547908232(0.00469976763501839)\n",
      "Iter lr 0.7200000000000001(0.0022072926639957876) svm 0.801025641025641(0.006063210183902388)\n",
      "missing ratio:  0.2\n",
      "Simple lr 0.7088259109311741(0.0036436247299727244) svm 0.7839676113360323(0.005081684010045804)\n",
      "Iter lr 0.7217273954116059(0.00182421001335663) svm 0.7889338731443994(0.005139840483095324)\n",
      "missing ratio:  0.3\n",
      "Simple lr 0.7069365721997302(0.0034395751302724055) svm 0.7695006747638328(0.009292593116082841)\n",
      "Iter lr 0.7173549257759784(0.005137005021698385) svm 0.7726315789473684(0.006322936772727168)\n",
      "missing ratio:  0.4\n",
      "Simple lr 0.7037516869095817(0.005688799374979853) svm 0.7559514170040486(0.006983828486079537)\n",
      "Iter lr 0.7158434547908231(0.012009310132631033) svm 0.7540620782726046(0.007102568077041189)\n",
      "missing ratio:  0.5\n",
      "Simple lr 0.7056950067476383(0.0031476123588908642) svm 0.7390013495276652(0.006951207275220605)\n",
      "Iter lr 0.7128205128205128(0.009993942592533544) svm 0.7365182186234819(0.0097522214020163)\n",
      "missing ratio:  0.6\n",
      "Simple lr 0.702834008097166(0.006015927326641848) svm 0.7262618083670715(0.012225975852646329)\n",
      "Iter lr 0.7127665317139001(0.006473682944552786) svm 0.723778677462888(0.008766571601326588)\n",
      "missing ratio:  0.7\n",
      "Simple lr 0.6970580296896087(0.006949949555489805) svm 0.7148717948717948(0.008529356490535182)\n",
      "Iter lr 0.6987854251012146(0.010071491603235326) svm 0.70693657219973(0.01227996023328187)\n",
      "missing ratio:  0.8\n",
      "Simple lr 0.6889608636977058(0.006390779416765987) svm 0.6923616734143049(0.018233632044568647)\n",
      "Iter lr 0.6878272604588394(0.01606661287091755) svm 0.6751417004048583(0.015780220364345218)\n",
      "missing ratio:  0.9\n",
      "Simple lr 0.6790283400809717(0.009485019613120028) svm 0.6387584345479081(0.0382221305679094)\n",
      "Iter lr 0.6836707152496627(0.014107360889920024) svm 0.6556005398110661(0.018115145730774305)\n"
     ]
    }
   ],
   "source": [
    "import warnings\n",
    "warnings.filterwarnings(\"ignore\")\n",
    "missing_ratios = [0.1, 0.2, 0.3, 0.4, 0.5, 0.6, 0.7, 0.8, 0.9]\n",
    "for missing_ratio in missing_ratios:\n",
    "    print(\"missing ratio: \", missing_ratio)\n",
    "    clf_seed = 21\n",
    "    simple_lr, simple_svm, iter_lr, iter_svm = [], [], [], []\n",
    "    for seed in range(1, 20):\n",
    "        #print(\"===========================================================================================\")\n",
    "        ret = simulate_nan(train_data.values, missing_ratio=missing_ratio, mechanism = 'mcar', p_na_cols = 1.0, seed=seed)\n",
    "        train_data_ms = ret['train_data_ms']\n",
    "        train_data_ms = pd.DataFrame(train_data_ms, columns=train_data.columns)\n",
    "\n",
    "        X_train_ms = train_data_ms.drop(config['target'], axis=1).values\n",
    "        y_train = train_data_ms[config['target']].values\n",
    "        X_test = test_data.drop(config['target'], axis=1).values\n",
    "        y_test = test_data[config['target']].values\n",
    "        #print(X_train_ms.shape, y_train.shape, X_test.shape, y_test.shape)\n",
    "\n",
    "        X_train_imp_simple = SimpleImputer(missing_values=np.nan, strategy='mean').fit_transform(X_train_ms)\n",
    "        min_values, max_values = np.nanmin(X_train_ms, axis=0), np.nanmax(X_train_ms, axis=0)\n",
    "        X_train_imp_iter = IterativeImputer(\n",
    "            random_state=seed, max_iter=30, min_value=min_values, max_value=max_values\n",
    "        ).fit_transform(X_train_ms)\n",
    "\n",
    "        #print(\"Simple Imputer\")\n",
    "        score = eval_LR(X_train_imp_simple, y_train, X_test, y_test, seed=clf_seed)\n",
    "        simple_lr.append(score)\n",
    "        score = eval_svm(X_train_imp_simple, y_train, X_test, y_test, seed=clf_seed)\n",
    "        simple_svm.append(score)\n",
    "        #print(\"Iterative\")\n",
    "        score = eval_LR(X_train_imp_iter, y_train, X_test, y_test, seed=clf_seed)\n",
    "        iter_lr.append(score)\n",
    "        score = eval_svm(X_train_imp_iter, y_train, X_test, y_test, seed=clf_seed)\n",
    "        iter_svm.append(score)\n",
    "    print(\"Simple lr {}({}) svm {}({})\".format(np.mean(simple_lr), np.std(simple_lr), np.mean(simple_svm), np.std(simple_svm)))\n",
    "    print(\"Iter lr {}({}) svm {}({})\".format(np.mean(iter_lr), np.std(iter_lr), np.mean(iter_svm), np.std(iter_svm)))"
   ]
  },
  {
   "cell_type": "code",
   "execution_count": 536,
   "metadata": {},
   "outputs": [
    {
     "name": "stdout",
     "output_type": "stream",
     "text": [
      "missing ratio:  0.1\n",
      "Simple lr 0.7166755083996466(0.0024487610076907207) svm 0.763289124668435(0.005287563314880493)\n",
      "Iter lr 0.7203536693191867(0.0020205633042738418) svm 0.7893899204244031(0.00362644731773187)\n",
      "missing ratio:  0.2\n",
      "Simple lr 0.7088947833775419(0.0031070609556990187) svm 0.6840318302387266(0.006887749716416518)\n",
      "Iter lr 0.7192572944297082(0.003151429801583811) svm 0.7642086648983202(0.005684072248691296)\n",
      "missing ratio:  0.3\n",
      "Simple lr 0.7047214854111407(0.0025742656601347967) svm 0.5413616268788682(0.011395837947669008)\n",
      "Iter lr 0.7154022988505747(0.004716416078704056) svm 0.7338638373121132(0.007855599867040425)\n",
      "missing ratio:  0.4\n",
      "Simple lr 0.7023165340406718(0.0029708222811671054) svm 0.4142882404951371(0.007912239547726645)\n",
      "Iter lr 0.7113351016799294(0.004800010631957144) svm 0.6826171529619803(0.008229787026500283)\n",
      "missing ratio:  0.5\n",
      "Simple lr 0.698815207780725(0.004060579708656478) svm 0.3714588859416446(0.0018281659392848915)\n",
      "Iter lr 0.7082935455349247(0.005704281566072709) svm 0.6070733863837312(0.012822549306227886)\n",
      "missing ratio:  0.6\n",
      "Simple lr 0.6942528735632183(0.0037645436861496475) svm 0.367214854111406(0.00018714421298423003)\n",
      "Iter lr 0.7069496021220159(0.004400305857470072) svm 0.5075862068965518(0.016943898083026036)\n",
      "missing ratio:  0.7\n",
      "Simple lr 0.690079575596817(0.004841266651055631) svm 0.36717948717948734(1.6653345369377348e-16)\n",
      "Iter lr 0.6970822281167108(0.01104411377742754) svm 0.409266136162688(0.021782929493329106)\n",
      "missing ratio:  0.8\n",
      "Simple lr 0.6824049513704686(0.005982136455834527) svm 0.36717948717948734(1.6653345369377348e-16)\n",
      "Iter lr 0.67763041556145(0.010559976010763734) svm 0.3736516357206013(0.007111480093400848)\n",
      "missing ratio:  0.9\n",
      "Simple lr 0.6756498673740052(0.007979457051231051) svm 0.36717948717948734(1.6653345369377348e-16)\n",
      "Iter lr 0.6604774535809018(0.02590419536388062) svm 0.36732095490716193(0.0003536693191865555)\n"
     ]
    }
   ],
   "source": [
    "import warnings\n",
    "warnings.filterwarnings(\"ignore\")\n",
    "missing_ratios = [0.1, 0.2, 0.3, 0.4, 0.5, 0.6, 0.7, 0.8, 0.9]\n",
    "for missing_ratio in missing_ratios:\n",
    "    print(\"missing ratio: \", missing_ratio)\n",
    "    clf_seed = 21\n",
    "    simple_lr, simple_svm, iter_lr, iter_svm = [], [], [], []\n",
    "    for seed in range(1, 30):\n",
    "        #print(\"===========================================================================================\")\n",
    "        ret = simulate_nan(train_data.values, missing_ratio=missing_ratio, mechanism = 'mary', p_na_cols = 1.0, seed=seed)\n",
    "        train_data_ms = ret['train_data_ms']\n",
    "        train_data_ms = pd.DataFrame(train_data_ms, columns=train_data.columns)\n",
    "\n",
    "        X_train_ms = train_data_ms.drop(config['target'], axis=1).values\n",
    "        y_train = train_data_ms[config['target']].values\n",
    "        X_test = test_data.drop(config['target'], axis=1).values\n",
    "        y_test = test_data[config['target']].values\n",
    "        #print(X_train_ms.shape, y_train.shape, X_test.shape, y_test.shape)\n",
    "\n",
    "        X_train_imp_simple = SimpleImputer(missing_values=np.nan, strategy='mean').fit_transform(X_train_ms)\n",
    "        min_values, max_values = np.nanmin(X_train_ms, axis=0), np.nanmax(X_train_ms, axis=0)\n",
    "        X_train_imp_iter = IterativeImputer(\n",
    "            random_state=seed, max_iter=30, min_value=min_values, max_value=max_values\n",
    "        ).fit_transform(X_train_ms)\n",
    "\n",
    "        #print(\"Simple Imputer\")\n",
    "        score = eval_LR(X_train_imp_simple, y_train, X_test, y_test, seed=clf_seed)\n",
    "        simple_lr.append(score)\n",
    "        score = eval_svm(X_train_imp_simple, y_train, X_test, y_test, seed=clf_seed)\n",
    "        simple_svm.append(score)\n",
    "        #print(\"Iterative\")\n",
    "        score = eval_LR(X_train_imp_iter, y_train, X_test, y_test, seed=clf_seed)\n",
    "        iter_lr.append(score)\n",
    "        score = eval_svm(X_train_imp_iter, y_train, X_test, y_test, seed=clf_seed)\n",
    "        iter_svm.append(score)\n",
    "    print(\"Simple lr {}({}) svm {}({})\".format(np.mean(simple_lr), np.std(simple_lr), np.mean(simple_svm), np.std(simple_svm)))\n",
    "    print(\"Iter lr {}({}) svm {}({})\".format(np.mean(iter_lr), np.std(iter_lr), np.mean(iter_svm), np.std(iter_svm)))"
   ]
  }
 ],
 "metadata": {
  "kernelspec": {
   "display_name": "Python 3",
   "language": "python",
   "name": "python3"
  },
  "language_info": {
   "codemirror_mode": {
    "name": "ipython",
    "version": 3
   },
   "file_extension": ".py",
   "mimetype": "text/x-python",
   "name": "python",
   "nbconvert_exporter": "python",
   "pygments_lexer": "ipython3",
   "version": "3.8.15"
  },
  "orig_nbformat": 4
 },
 "nbformat": 4,
 "nbformat_minor": 2
}
