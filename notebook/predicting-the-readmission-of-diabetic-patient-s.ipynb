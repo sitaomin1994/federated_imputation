{
 "cells": [
  {
   "cell_type": "markdown",
   "metadata": {
    "papermill": {
     "duration": 0.139304,
     "end_time": "2020-12-22T10:44:26.320598",
     "exception": false,
     "start_time": "2020-12-22T10:44:26.181294",
     "status": "completed"
    },
    "tags": []
   },
   "source": [
    "# Hospital Readmissions Prediction"
   ]
  },
  {
   "cell_type": "code",
   "execution_count": 60,
   "metadata": {
    "execution": {
     "iopub.execute_input": "2020-12-22T10:44:27.915829Z",
     "iopub.status.busy": "2020-12-22T10:44:27.914856Z",
     "iopub.status.idle": "2020-12-22T10:44:31.357056Z",
     "shell.execute_reply": "2020-12-22T10:44:31.355271Z"
    },
    "papermill": {
     "duration": 3.557877,
     "end_time": "2020-12-22T10:44:31.357214",
     "exception": false,
     "start_time": "2020-12-22T10:44:27.799337",
     "status": "completed"
    },
    "tags": []
   },
   "outputs": [],
   "source": [
    "import numpy as np\n",
    "import pandas as pd\n",
    "\n",
    "# Visualization\n",
    "import missingno as msno\n",
    "import seaborn as sns\n",
    "import matplotlib.pyplot as plt\n",
    "\n",
    "# Metrics\n",
    "from sklearn.preprocessing import StandardScaler\n",
    "from sklearn.preprocessing import LabelEncoder\n",
    "from sklearn.preprocessing import OrdinalEncoder\n",
    "from sklearn.neighbors import LocalOutlierFactor\n",
    "from sklearn.model_selection import train_test_split, GridSearchCV, cross_val_score\n",
    "from sklearn.metrics import confusion_matrix, accuracy_score,f1_score,recall_score,mean_squared_error, r2_score, roc_auc_score, roc_curve, classification_report\n",
    "from sklearn.metrics import classification_report\n",
    "import sklearn.metrics as metrics\n",
    "from sklearn.metrics import precision_recall_fscore_support\n",
    "\n",
    "# Models\n",
    "from sklearn.linear_model import LogisticRegression\n",
    "from sklearn.linear_model import SGDClassifier\n",
    "from sklearn.neighbors import KNeighborsClassifier\n",
    "from sklearn.svm import SVC\n",
    "from sklearn.neural_network import MLPClassifier\n",
    "from sklearn.tree import DecisionTreeClassifier\n",
    "from sklearn.ensemble import RandomForestClassifier\n",
    "from sklearn.ensemble import GradientBoostingClassifier\n",
    "from lightgbm import LGBMClassifier"
   ]
  },
  {
   "cell_type": "code",
   "execution_count": 61,
   "metadata": {
    "execution": {
     "iopub.execute_input": "2020-12-22T10:44:31.649543Z",
     "iopub.status.busy": "2020-12-22T10:44:31.648812Z",
     "iopub.status.idle": "2020-12-22T10:44:31.654108Z",
     "shell.execute_reply": "2020-12-22T10:44:31.653026Z"
    },
    "papermill": {
     "duration": 0.145651,
     "end_time": "2020-12-22T10:44:31.654232",
     "exception": false,
     "start_time": "2020-12-22T10:44:31.508581",
     "status": "completed"
    },
    "tags": []
   },
   "outputs": [],
   "source": [
    "import warnings\n",
    "warnings.filterwarnings(\"ignore\", category=DeprecationWarning)\n",
    "warnings.filterwarnings(\"ignore\", category=FutureWarning)"
   ]
  },
  {
   "cell_type": "markdown",
   "metadata": {
    "papermill": {
     "duration": 0.103995,
     "end_time": "2020-12-22T10:44:31.866403",
     "exception": false,
     "start_time": "2020-12-22T10:44:31.762408",
     "status": "completed"
    },
    "tags": []
   },
   "source": [
    "## Loading Data"
   ]
  },
  {
   "cell_type": "code",
   "execution_count": 6,
   "metadata": {},
   "outputs": [
    {
     "name": "stdout",
     "output_type": "stream",
     "text": [
      "m:\\OneDrive\\Projects\\federated_imputation_pc1\n"
     ]
    }
   ],
   "source": [
    "cd .."
   ]
  },
  {
   "cell_type": "code",
   "execution_count": 126,
   "metadata": {
    "execution": {
     "iopub.execute_input": "2020-12-22T10:44:32.121452Z",
     "iopub.status.busy": "2020-12-22T10:44:32.120570Z",
     "iopub.status.idle": "2020-12-22T10:44:33.134780Z",
     "shell.execute_reply": "2020-12-22T10:44:33.135516Z"
    },
    "papermill": {
     "duration": 1.146178,
     "end_time": "2020-12-22T10:44:33.135702",
     "exception": false,
     "start_time": "2020-12-22T10:44:31.989524",
     "status": "completed"
    },
    "tags": []
   },
   "outputs": [
    {
     "data": {
      "text/html": [
       "<div>\n",
       "<style scoped>\n",
       "    .dataframe tbody tr th:only-of-type {\n",
       "        vertical-align: middle;\n",
       "    }\n",
       "\n",
       "    .dataframe tbody tr th {\n",
       "        vertical-align: top;\n",
       "    }\n",
       "\n",
       "    .dataframe thead th {\n",
       "        text-align: right;\n",
       "    }\n",
       "</style>\n",
       "<table border=\"1\" class=\"dataframe\">\n",
       "  <thead>\n",
       "    <tr style=\"text-align: right;\">\n",
       "      <th></th>\n",
       "      <th>encounter_id</th>\n",
       "      <th>patient_nbr</th>\n",
       "      <th>race</th>\n",
       "      <th>gender</th>\n",
       "      <th>age</th>\n",
       "      <th>weight</th>\n",
       "      <th>admission_type_id</th>\n",
       "      <th>discharge_disposition_id</th>\n",
       "      <th>admission_source_id</th>\n",
       "      <th>time_in_hospital</th>\n",
       "      <th>...</th>\n",
       "      <th>citoglipton</th>\n",
       "      <th>insulin</th>\n",
       "      <th>glyburide-metformin</th>\n",
       "      <th>glipizide-metformin</th>\n",
       "      <th>glimepiride-pioglitazone</th>\n",
       "      <th>metformin-rosiglitazone</th>\n",
       "      <th>metformin-pioglitazone</th>\n",
       "      <th>change</th>\n",
       "      <th>diabetesMed</th>\n",
       "      <th>readmitted</th>\n",
       "    </tr>\n",
       "  </thead>\n",
       "  <tbody>\n",
       "    <tr>\n",
       "      <th>0</th>\n",
       "      <td>2278392</td>\n",
       "      <td>8222157</td>\n",
       "      <td>Caucasian</td>\n",
       "      <td>Female</td>\n",
       "      <td>[0-10)</td>\n",
       "      <td>?</td>\n",
       "      <td>6</td>\n",
       "      <td>25</td>\n",
       "      <td>1</td>\n",
       "      <td>1</td>\n",
       "      <td>...</td>\n",
       "      <td>No</td>\n",
       "      <td>No</td>\n",
       "      <td>No</td>\n",
       "      <td>No</td>\n",
       "      <td>No</td>\n",
       "      <td>No</td>\n",
       "      <td>No</td>\n",
       "      <td>No</td>\n",
       "      <td>No</td>\n",
       "      <td>NO</td>\n",
       "    </tr>\n",
       "    <tr>\n",
       "      <th>1</th>\n",
       "      <td>149190</td>\n",
       "      <td>55629189</td>\n",
       "      <td>Caucasian</td>\n",
       "      <td>Female</td>\n",
       "      <td>[10-20)</td>\n",
       "      <td>?</td>\n",
       "      <td>1</td>\n",
       "      <td>1</td>\n",
       "      <td>7</td>\n",
       "      <td>3</td>\n",
       "      <td>...</td>\n",
       "      <td>No</td>\n",
       "      <td>Up</td>\n",
       "      <td>No</td>\n",
       "      <td>No</td>\n",
       "      <td>No</td>\n",
       "      <td>No</td>\n",
       "      <td>No</td>\n",
       "      <td>Ch</td>\n",
       "      <td>Yes</td>\n",
       "      <td>&gt;30</td>\n",
       "    </tr>\n",
       "    <tr>\n",
       "      <th>2</th>\n",
       "      <td>64410</td>\n",
       "      <td>86047875</td>\n",
       "      <td>AfricanAmerican</td>\n",
       "      <td>Female</td>\n",
       "      <td>[20-30)</td>\n",
       "      <td>?</td>\n",
       "      <td>1</td>\n",
       "      <td>1</td>\n",
       "      <td>7</td>\n",
       "      <td>2</td>\n",
       "      <td>...</td>\n",
       "      <td>No</td>\n",
       "      <td>No</td>\n",
       "      <td>No</td>\n",
       "      <td>No</td>\n",
       "      <td>No</td>\n",
       "      <td>No</td>\n",
       "      <td>No</td>\n",
       "      <td>No</td>\n",
       "      <td>Yes</td>\n",
       "      <td>NO</td>\n",
       "    </tr>\n",
       "    <tr>\n",
       "      <th>3</th>\n",
       "      <td>500364</td>\n",
       "      <td>82442376</td>\n",
       "      <td>Caucasian</td>\n",
       "      <td>Male</td>\n",
       "      <td>[30-40)</td>\n",
       "      <td>?</td>\n",
       "      <td>1</td>\n",
       "      <td>1</td>\n",
       "      <td>7</td>\n",
       "      <td>2</td>\n",
       "      <td>...</td>\n",
       "      <td>No</td>\n",
       "      <td>Up</td>\n",
       "      <td>No</td>\n",
       "      <td>No</td>\n",
       "      <td>No</td>\n",
       "      <td>No</td>\n",
       "      <td>No</td>\n",
       "      <td>Ch</td>\n",
       "      <td>Yes</td>\n",
       "      <td>NO</td>\n",
       "    </tr>\n",
       "    <tr>\n",
       "      <th>4</th>\n",
       "      <td>16680</td>\n",
       "      <td>42519267</td>\n",
       "      <td>Caucasian</td>\n",
       "      <td>Male</td>\n",
       "      <td>[40-50)</td>\n",
       "      <td>?</td>\n",
       "      <td>1</td>\n",
       "      <td>1</td>\n",
       "      <td>7</td>\n",
       "      <td>1</td>\n",
       "      <td>...</td>\n",
       "      <td>No</td>\n",
       "      <td>Steady</td>\n",
       "      <td>No</td>\n",
       "      <td>No</td>\n",
       "      <td>No</td>\n",
       "      <td>No</td>\n",
       "      <td>No</td>\n",
       "      <td>Ch</td>\n",
       "      <td>Yes</td>\n",
       "      <td>NO</td>\n",
       "    </tr>\n",
       "  </tbody>\n",
       "</table>\n",
       "<p>5 rows × 50 columns</p>\n",
       "</div>"
      ],
      "text/plain": [
       "   encounter_id  patient_nbr             race  gender      age weight   \n",
       "0       2278392      8222157        Caucasian  Female   [0-10)      ?  \\\n",
       "1        149190     55629189        Caucasian  Female  [10-20)      ?   \n",
       "2         64410     86047875  AfricanAmerican  Female  [20-30)      ?   \n",
       "3        500364     82442376        Caucasian    Male  [30-40)      ?   \n",
       "4         16680     42519267        Caucasian    Male  [40-50)      ?   \n",
       "\n",
       "   admission_type_id  discharge_disposition_id  admission_source_id   \n",
       "0                  6                        25                    1  \\\n",
       "1                  1                         1                    7   \n",
       "2                  1                         1                    7   \n",
       "3                  1                         1                    7   \n",
       "4                  1                         1                    7   \n",
       "\n",
       "   time_in_hospital  ... citoglipton insulin  glyburide-metformin   \n",
       "0                 1  ...          No      No                   No  \\\n",
       "1                 3  ...          No      Up                   No   \n",
       "2                 2  ...          No      No                   No   \n",
       "3                 2  ...          No      Up                   No   \n",
       "4                 1  ...          No  Steady                   No   \n",
       "\n",
       "   glipizide-metformin  glimepiride-pioglitazone  metformin-rosiglitazone   \n",
       "0                   No                        No                       No  \\\n",
       "1                   No                        No                       No   \n",
       "2                   No                        No                       No   \n",
       "3                   No                        No                       No   \n",
       "4                   No                        No                       No   \n",
       "\n",
       "   metformin-pioglitazone  change diabetesMed readmitted  \n",
       "0                      No      No          No         NO  \n",
       "1                      No      Ch         Yes        >30  \n",
       "2                      No      No         Yes         NO  \n",
       "3                      No      Ch         Yes         NO  \n",
       "4                      No      Ch         Yes         NO  \n",
       "\n",
       "[5 rows x 50 columns]"
      ]
     },
     "execution_count": 126,
     "metadata": {},
     "output_type": "execute_result"
    }
   ],
   "source": [
    "data = pd.read_csv('./data/diabetic/diabetic_data.csv')\n",
    "data.head()"
   ]
  },
  {
   "cell_type": "code",
   "execution_count": 127,
   "metadata": {
    "execution": {
     "iopub.execute_input": "2020-12-22T10:44:35.463322Z",
     "iopub.status.busy": "2020-12-22T10:44:35.462746Z",
     "iopub.status.idle": "2020-12-22T10:44:35.555605Z",
     "shell.execute_reply": "2020-12-22T10:44:35.556335Z"
    },
    "papermill": {
     "duration": 0.211915,
     "end_time": "2020-12-22T10:44:35.556545",
     "exception": false,
     "start_time": "2020-12-22T10:44:35.344630",
     "status": "completed"
    },
    "tags": []
   },
   "outputs": [],
   "source": [
    "data.readmitted = [1 if each=='<30' else 0 for each in data.readmitted]"
   ]
  },
  {
   "cell_type": "code",
   "execution_count": 128,
   "metadata": {
    "execution": {
     "iopub.execute_input": "2020-12-22T10:44:36.499441Z",
     "iopub.status.busy": "2020-12-22T10:44:36.498661Z",
     "iopub.status.idle": "2020-12-22T10:44:36.583092Z",
     "shell.execute_reply": "2020-12-22T10:44:36.582224Z"
    },
    "papermill": {
     "duration": 0.245394,
     "end_time": "2020-12-22T10:44:36.583233",
     "exception": false,
     "start_time": "2020-12-22T10:44:36.337839",
     "status": "completed"
    },
    "tags": []
   },
   "outputs": [],
   "source": [
    "data.replace('?', np.nan , inplace=True)"
   ]
  },
  {
   "cell_type": "code",
   "execution_count": 129,
   "metadata": {},
   "outputs": [],
   "source": [
    "data = data.drop_duplicates(subset= ['patient_nbr'], keep = 'first')"
   ]
  },
  {
   "cell_type": "code",
   "execution_count": 130,
   "metadata": {
    "execution": {
     "iopub.execute_input": "2020-12-22T10:44:47.556190Z",
     "iopub.status.busy": "2020-12-22T10:44:47.555368Z",
     "iopub.status.idle": "2020-12-22T10:44:47.660740Z",
     "shell.execute_reply": "2020-12-22T10:44:47.660074Z"
    },
    "papermill": {
     "duration": 0.243582,
     "end_time": "2020-12-22T10:44:47.660857",
     "exception": false,
     "start_time": "2020-12-22T10:44:47.417275",
     "status": "completed"
    },
    "tags": []
   },
   "outputs": [],
   "source": [
    "drop_list = [\n",
    "    'examide' , 'citoglipton', 'weight','encounter_id','patient_nbr','payer_code','medical_specialty'\n",
    "]  \n",
    "data.drop(drop_list,axis=1, inplace=True)"
   ]
  },
  {
   "cell_type": "code",
   "execution_count": 131,
   "metadata": {
    "execution": {
     "iopub.execute_input": "2020-12-22T10:44:48.180355Z",
     "iopub.status.busy": "2020-12-22T10:44:48.179562Z",
     "iopub.status.idle": "2020-12-22T10:44:48.190650Z",
     "shell.execute_reply": "2020-12-22T10:44:48.191293Z"
    },
    "papermill": {
     "duration": 0.146559,
     "end_time": "2020-12-22T10:44:48.191445",
     "exception": false,
     "start_time": "2020-12-22T10:44:48.044886",
     "status": "completed"
    },
    "tags": []
   },
   "outputs": [],
   "source": [
    "numerical_columns =[\n",
    "    'num_medications', 'time_in_hospital', 'num_lab_procedures', 'num_procedures',\n",
    "    'number_outpatient', 'number_emergency', 'number_inpatient', 'number_diagnoses'\n",
    "]\n",
    "\n",
    "categorical_columns = [item for item in data.columns if item not in numerical_columns]"
   ]
  },
  {
   "cell_type": "code",
   "execution_count": 132,
   "metadata": {
    "execution": {
     "iopub.execute_input": "2020-12-22T10:44:52.204376Z",
     "iopub.status.busy": "2020-12-22T10:44:52.198227Z",
     "iopub.status.idle": "2020-12-22T10:44:52.263321Z",
     "shell.execute_reply": "2020-12-22T10:44:52.263885Z"
    },
    "papermill": {
     "duration": 0.207583,
     "end_time": "2020-12-22T10:44:52.264037",
     "exception": false,
     "start_time": "2020-12-22T10:44:52.056454",
     "status": "completed"
    },
    "tags": []
   },
   "outputs": [],
   "source": [
    "data.gender.replace('Unknown/Invalid', np.nan , inplace=True)\n",
    "data.dropna(subset=['gender'], how='all', inplace = True)"
   ]
  },
  {
   "cell_type": "code",
   "execution_count": 133,
   "metadata": {
    "execution": {
     "iopub.execute_input": "2020-12-22T10:44:57.692146Z",
     "iopub.status.busy": "2020-12-22T10:44:57.691208Z",
     "iopub.status.idle": "2020-12-22T10:44:57.709714Z",
     "shell.execute_reply": "2020-12-22T10:44:57.710202Z"
    },
    "papermill": {
     "duration": 0.15498,
     "end_time": "2020-12-22T10:44:57.710351",
     "exception": false,
     "start_time": "2020-12-22T10:44:57.555371",
     "status": "completed"
    },
    "tags": []
   },
   "outputs": [],
   "source": [
    "data[\"race\"].fillna(data[\"race\"].mode()[0], inplace = True)"
   ]
  },
  {
   "cell_type": "code",
   "execution_count": 134,
   "metadata": {
    "execution": {
     "iopub.execute_input": "2020-12-22T10:44:58.348785Z",
     "iopub.status.busy": "2020-12-22T10:44:58.347887Z",
     "iopub.status.idle": "2020-12-22T10:44:58.400664Z",
     "shell.execute_reply": "2020-12-22T10:44:58.399974Z"
    },
    "papermill": {
     "duration": 0.222674,
     "end_time": "2020-12-22T10:44:58.400770",
     "exception": false,
     "start_time": "2020-12-22T10:44:58.178096",
     "status": "completed"
    },
    "tags": []
   },
   "outputs": [],
   "source": [
    "data = data.loc[~data.discharge_disposition_id.isin([11,13,14,19,20,21])]"
   ]
  },
  {
   "cell_type": "code",
   "execution_count": 135,
   "metadata": {
    "execution": {
     "iopub.execute_input": "2020-12-22T10:44:59.068193Z",
     "iopub.status.busy": "2020-12-22T10:44:59.039200Z",
     "iopub.status.idle": "2020-12-22T10:44:59.076223Z",
     "shell.execute_reply": "2020-12-22T10:44:59.075544Z"
    },
    "papermill": {
     "duration": 0.181949,
     "end_time": "2020-12-22T10:44:59.076358",
     "exception": false,
     "start_time": "2020-12-22T10:44:58.894409",
     "status": "completed"
    },
    "tags": []
   },
   "outputs": [],
   "source": [
    "diag_list = ['diag_1','diag_2','diag_3']\n",
    "\n",
    "for col in diag_list:\n",
    "    data[col].fillna('NaN', inplace=True)"
   ]
  },
  {
   "cell_type": "code",
   "execution_count": 136,
   "metadata": {
    "execution": {
     "iopub.execute_input": "2020-12-22T10:44:59.361244Z",
     "iopub.status.busy": "2020-12-22T10:44:59.358279Z",
     "iopub.status.idle": "2020-12-22T10:44:59.365194Z",
     "shell.execute_reply": "2020-12-22T10:44:59.364534Z"
    },
    "papermill": {
     "duration": 0.154876,
     "end_time": "2020-12-22T10:44:59.365298",
     "exception": false,
     "start_time": "2020-12-22T10:44:59.210422",
     "status": "completed"
    },
    "tags": []
   },
   "outputs": [],
   "source": [
    "import re\n",
    "def transformFunc(value):\n",
    "    value = re.sub(\"V[0-9]*\", \"0\", value) # V \n",
    "    value = re.sub(\"E[0-9]*\", \"0\", value) # E \n",
    "    value = re.sub('NaN', \"-1\", value) # Nan \n",
    "    return value\n",
    "\n",
    "def transformCategory(value):\n",
    "    if value>=390 and value<=459 or value==785:\n",
    "        category = 'Circulatory'\n",
    "    elif value>=460 and value<=519 or value==786:\n",
    "        category = 'Respiratory'\n",
    "    elif value>=520 and value<=579 or value==787:\n",
    "        category = 'Digestive'\n",
    "    elif value==250:\n",
    "        category = 'Diabetes'\n",
    "    elif value>=800 and value<=999:\n",
    "        category = 'Injury'          \n",
    "    elif value>=710 and value<=739:\n",
    "        category = 'Musculoskeletal'   \n",
    "    elif value>=580 and value<=629 or value==788:\n",
    "        category = 'Genitourinary'\n",
    "    elif value>=140 and value<=239 :\n",
    "        category = 'Neoplasms'\n",
    "    elif value==-1:\n",
    "        category = 'NAN'\n",
    "    else :\n",
    "        category = 'Other'\n",
    "\n",
    "    return category"
   ]
  },
  {
   "cell_type": "code",
   "execution_count": 137,
   "metadata": {
    "execution": {
     "iopub.execute_input": "2020-12-22T10:44:59.721875Z",
     "iopub.status.busy": "2020-12-22T10:44:59.710304Z",
     "iopub.status.idle": "2020-12-22T10:45:01.076880Z",
     "shell.execute_reply": "2020-12-22T10:45:01.076198Z"
    },
    "papermill": {
     "duration": 1.562138,
     "end_time": "2020-12-22T10:45:01.076994",
     "exception": false,
     "start_time": "2020-12-22T10:44:59.514856",
     "status": "completed"
    },
    "tags": []
   },
   "outputs": [],
   "source": [
    "for col in diag_list:\n",
    "    data[col] = data[col].apply(transformFunc)\n",
    "    data[col] = data[col].astype(float)"
   ]
  },
  {
   "cell_type": "code",
   "execution_count": 138,
   "metadata": {
    "execution": {
     "iopub.execute_input": "2020-12-22T10:45:01.351719Z",
     "iopub.status.busy": "2020-12-22T10:45:01.348829Z",
     "iopub.status.idle": "2020-12-22T10:45:01.584449Z",
     "shell.execute_reply": "2020-12-22T10:45:01.585006Z"
    },
    "papermill": {
     "duration": 0.376071,
     "end_time": "2020-12-22T10:45:01.585181",
     "exception": false,
     "start_time": "2020-12-22T10:45:01.209110",
     "status": "completed"
    },
    "tags": []
   },
   "outputs": [],
   "source": [
    "for col in diag_list:\n",
    "    data[col] = data[col].apply(transformCategory)"
   ]
  },
  {
   "cell_type": "code",
   "execution_count": 139,
   "metadata": {
    "execution": {
     "iopub.execute_input": "2020-12-22T10:45:03.742421Z",
     "iopub.status.busy": "2020-12-22T10:45:03.741728Z",
     "iopub.status.idle": "2020-12-22T10:45:14.811962Z",
     "shell.execute_reply": "2020-12-22T10:45:14.811239Z"
    },
    "papermill": {
     "duration": 11.211699,
     "end_time": "2020-12-22T10:45:14.812085",
     "exception": false,
     "start_time": "2020-12-22T10:45:03.600386",
     "status": "completed"
    },
    "tags": []
   },
   "outputs": [],
   "source": [
    "from sklearn.neighbors import LocalOutlierFactor\n",
    "clf = LocalOutlierFactor(n_neighbors = 2 , contamination = 0.1)\n",
    "clf.fit_predict(data[numerical_columns])\n",
    "df_scores = clf.negative_outlier_factor_\n",
    "threshold_value = np.sort(df_scores)[2]\n",
    "outlier_tf = df_scores > threshold_value\n",
    "new_df = data[df_scores > threshold_value]"
   ]
  },
  {
   "cell_type": "code",
   "execution_count": 140,
   "metadata": {
    "execution": {
     "iopub.execute_input": "2020-12-22T10:45:17.253257Z",
     "iopub.status.busy": "2020-12-22T10:45:17.252322Z",
     "iopub.status.idle": "2020-12-22T10:45:18.593880Z",
     "shell.execute_reply": "2020-12-22T10:45:18.593185Z"
    },
    "papermill": {
     "duration": 1.492187,
     "end_time": "2020-12-22T10:45:18.593996",
     "exception": false,
     "start_time": "2020-12-22T10:45:17.101809",
     "status": "completed"
    },
    "tags": []
   },
   "outputs": [],
   "source": [
    "# Custom encoding for the 21 Drug Features\n",
    "drugs = ['metformin', 'repaglinide', 'nateglinide', 'chlorpropamide', 'glimepiride', 'glipizide', 'glyburide', 'pioglitazone',\n",
    "        'rosiglitazone', 'acarbose', 'miglitol', 'insulin', 'glyburide-metformin', 'tolazamide', 'metformin-pioglitazone',\n",
    "        'metformin-rosiglitazone', 'glimepiride-pioglitazone', 'glipizide-metformin', 'troglitazone', 'tolbutamide', 'acetohexamide']\n",
    "\n",
    "for col in drugs:\n",
    "    data[col] = data[col].replace(['No','Steady','Up','Down'],[0,1,1,1])\n",
    "    data[col] = data[col].astype(int)"
   ]
  },
  {
   "cell_type": "code",
   "execution_count": 141,
   "metadata": {
    "execution": {
     "iopub.execute_input": "2020-12-22T10:45:18.880005Z",
     "iopub.status.busy": "2020-12-22T10:45:18.879354Z",
     "iopub.status.idle": "2020-12-22T10:45:18.960281Z",
     "shell.execute_reply": "2020-12-22T10:45:18.959667Z"
    },
    "papermill": {
     "duration": 0.229699,
     "end_time": "2020-12-22T10:45:18.960397",
     "exception": false,
     "start_time": "2020-12-22T10:45:18.730698",
     "status": "completed"
    },
    "tags": []
   },
   "outputs": [],
   "source": [
    "# A1Cresult and max_glu_serum\n",
    "data['A1Cresult'] = data['A1Cresult'].fillna('None')\n",
    "data['max_glu_serum'] = data['max_glu_serum'].fillna('None')\n",
    "data['A1Cresult'] = data['A1Cresult'].replace(['>7','>8','Norm','None'],[1,1,0,-99])\n",
    "data['max_glu_serum'] = data['max_glu_serum'].replace(['>200','>300','Norm','None'],[1,1,0,-99])"
   ]
  },
  {
   "cell_type": "code",
   "execution_count": 142,
   "metadata": {
    "execution": {
     "iopub.execute_input": "2020-12-22T10:45:19.245293Z",
     "iopub.status.busy": "2020-12-22T10:45:19.244636Z",
     "iopub.status.idle": "2020-12-22T10:45:19.760393Z",
     "shell.execute_reply": "2020-12-22T10:45:19.758827Z"
    },
    "papermill": {
     "duration": 0.658344,
     "end_time": "2020-12-22T10:45:19.760575",
     "exception": false,
     "start_time": "2020-12-22T10:45:19.102231",
     "status": "completed"
    },
    "tags": []
   },
   "outputs": [],
   "source": [
    "# One hot Encoding Race and Id's \n",
    "one_hot_data = pd.get_dummies(data, columns=['race'], prefix=[\"enc\"])\n",
    "\n",
    "columns_ids = ['admission_type_id', 'discharge_disposition_id', 'admission_source_id']\n",
    "\n",
    "one_hot_data[columns_ids] = one_hot_data[columns_ids].astype('str')\n",
    "one_hot_data = pd.get_dummies(one_hot_data, columns=columns_ids)"
   ]
  },
  {
   "cell_type": "code",
   "execution_count": 143,
   "metadata": {
    "execution": {
     "iopub.execute_input": "2020-12-22T10:45:20.557086Z",
     "iopub.status.busy": "2020-12-22T10:45:20.556049Z",
     "iopub.status.idle": "2020-12-22T10:45:20.605131Z",
     "shell.execute_reply": "2020-12-22T10:45:20.605713Z"
    },
    "papermill": {
     "duration": 0.251427,
     "end_time": "2020-12-22T10:45:20.605863",
     "exception": false,
     "start_time": "2020-12-22T10:45:20.354436",
     "status": "completed"
    },
    "tags": []
   },
   "outputs": [],
   "source": [
    "df = one_hot_data.copy()\n",
    "X = df.drop(columns=\"readmitted\", axis=1)\n",
    "Y = df.readmitted"
   ]
  },
  {
   "cell_type": "code",
   "execution_count": 144,
   "metadata": {},
   "outputs": [
    {
     "name": "stdout",
     "output_type": "stream",
     "text": [
      "(12554, 89) (12554,)\n"
     ]
    }
   ],
   "source": [
    "from imblearn.under_sampling import RandomUnderSampler\n",
    "\n",
    "rus = RandomUnderSampler(random_state=0)\n",
    "X_resampled, y_resampled = rus.fit_resample(X, Y)\n",
    "print(X_resampled.shape, y_resampled.shape)"
   ]
  },
  {
   "cell_type": "code",
   "execution_count": 145,
   "metadata": {
    "execution": {
     "iopub.execute_input": "2020-12-22T10:45:20.891591Z",
     "iopub.status.busy": "2020-12-22T10:45:20.887773Z",
     "iopub.status.idle": "2020-12-22T10:45:20.962535Z",
     "shell.execute_reply": "2020-12-22T10:45:20.961958Z"
    },
    "papermill": {
     "duration": 0.21902,
     "end_time": "2020-12-22T10:45:20.962657",
     "exception": false,
     "start_time": "2020-12-22T10:45:20.743637",
     "status": "completed"
    },
    "tags": []
   },
   "outputs": [],
   "source": [
    "from sklearn.model_selection import train_test_split\n",
    "X_train, X_test, y_train, y_test = train_test_split(X_resampled, y_resampled, test_size = 0.20, random_state = 42)"
   ]
  },
  {
   "cell_type": "code",
   "execution_count": 146,
   "metadata": {
    "execution": {
     "iopub.execute_input": "2020-12-22T10:45:21.489996Z",
     "iopub.status.busy": "2020-12-22T10:45:21.484175Z",
     "iopub.status.idle": "2020-12-22T10:45:21.519949Z",
     "shell.execute_reply": "2020-12-22T10:45:21.519397Z"
    },
    "papermill": {
     "duration": 0.150184,
     "end_time": "2020-12-22T10:45:21.520067",
     "exception": false,
     "start_time": "2020-12-22T10:45:21.369883",
     "status": "completed"
    },
    "tags": []
   },
   "outputs": [],
   "source": [
    "ordinal_enc = OrdinalEncoder()\n",
    "X_train.age = ordinal_enc.fit_transform(X_train.age.values.reshape(-1, 1))\n",
    "X_test.age = ordinal_enc.transform(X_test.age.values.reshape(-1, 1))"
   ]
  },
  {
   "cell_type": "code",
   "execution_count": 147,
   "metadata": {
    "execution": {
     "iopub.execute_input": "2020-12-22T10:45:21.819621Z",
     "iopub.status.busy": "2020-12-22T10:45:21.814416Z",
     "iopub.status.idle": "2020-12-22T10:45:21.935502Z",
     "shell.execute_reply": "2020-12-22T10:45:21.934358Z"
    },
    "papermill": {
     "duration": 0.277383,
     "end_time": "2020-12-22T10:45:21.935725",
     "exception": false,
     "start_time": "2020-12-22T10:45:21.658342",
     "status": "completed"
    },
    "tags": []
   },
   "outputs": [],
   "source": [
    "for col in diag_list:\n",
    "    label_enc = LabelEncoder()\n",
    "    X_train[col] = label_enc.fit_transform(X_train[col])\n",
    "    X_test[col] = label_enc.fit_transform(X_test[col]) "
   ]
  },
  {
   "cell_type": "code",
   "execution_count": 148,
   "metadata": {},
   "outputs": [],
   "source": [
    "X_train['change'] = X_train['change'].map({'No':0, 'Ch':1})\n",
    "X_train['diabetesMed'] = X_train['diabetesMed'].map({'No':0, 'Yes':1})\n",
    "X_train['gender'] = X_train['gender'].map({'Male': 1, 'Female': 0})\n",
    "X_test['change'] = X_test['change'].map({'No':0, 'Ch':1})\n",
    "X_test['diabetesMed'] = X_test['diabetesMed'].map({'No':0, 'Yes':1})\n",
    "X_test['gender'] = X_test['gender'].map({'Male': 1, 'Female': 0})"
   ]
  },
  {
   "cell_type": "code",
   "execution_count": 84,
   "metadata": {
    "execution": {
     "iopub.execute_input": "2020-12-22T10:45:23.959600Z",
     "iopub.status.busy": "2020-12-22T10:45:23.958720Z",
     "iopub.status.idle": "2020-12-22T10:45:24.014047Z",
     "shell.execute_reply": "2020-12-22T10:45:24.014660Z"
    },
    "papermill": {
     "duration": 0.256189,
     "end_time": "2020-12-22T10:45:24.014791",
     "exception": false,
     "start_time": "2020-12-22T10:45:23.758602",
     "status": "completed"
    },
    "tags": []
   },
   "outputs": [
    {
     "data": {
      "text/plain": [
       "readmitted\n",
       "0    9077\n",
       "1    9077\n",
       "Name: count, dtype: int64"
      ]
     },
     "execution_count": 84,
     "metadata": {},
     "output_type": "execute_result"
    }
   ],
   "source": [
    "from sklearn.utils import resample\n",
    "\n",
    "X = pd.concat([X_train, y_train], axis=1)\n",
    "\n",
    "not_readmitted = X[X.readmitted==0]\n",
    "readmitted = X[X.readmitted==1]\n",
    "\n",
    "not_readmitted_sampled = resample(not_readmitted,\n",
    "                                replace = False, \n",
    "                                n_samples = len(readmitted),\n",
    "                                random_state = 42)\n",
    "\n",
    "downsampled = pd.concat([not_readmitted_sampled, readmitted])\n",
    "\n",
    "downsampled.readmitted.value_counts()"
   ]
  },
  {
   "cell_type": "code",
   "execution_count": 85,
   "metadata": {
    "execution": {
     "iopub.execute_input": "2020-12-22T10:45:24.312360Z",
     "iopub.status.busy": "2020-12-22T10:45:24.311435Z",
     "iopub.status.idle": "2020-12-22T10:45:24.322409Z",
     "shell.execute_reply": "2020-12-22T10:45:24.321742Z"
    },
    "papermill": {
     "duration": 0.157161,
     "end_time": "2020-12-22T10:45:24.322555",
     "exception": false,
     "start_time": "2020-12-22T10:45:24.165394",
     "status": "completed"
    },
    "tags": []
   },
   "outputs": [],
   "source": [
    "y_train = downsampled.readmitted\n",
    "X_train = downsampled.drop('readmitted', axis=1)"
   ]
  },
  {
   "cell_type": "code",
   "execution_count": 97,
   "metadata": {},
   "outputs": [],
   "source": [
    "from imblearn.over_sampling import SMOTE, RandomOverSampler\n",
    "\n",
    "# Resample the training data with SMOTE\n",
    "smote = SMOTE(random_state=42)\n",
    "X_train, y_train = smote.fit_resample(X_train, y_train)"
   ]
  },
  {
   "cell_type": "code",
   "execution_count": 121,
   "metadata": {
    "execution": {
     "iopub.execute_input": "2020-12-22T10:45:24.903181Z",
     "iopub.status.busy": "2020-12-22T10:45:24.902242Z",
     "iopub.status.idle": "2020-12-22T10:45:24.916604Z",
     "shell.execute_reply": "2020-12-22T10:45:24.917124Z"
    },
    "papermill": {
     "duration": 0.154342,
     "end_time": "2020-12-22T10:45:24.917268",
     "exception": false,
     "start_time": "2020-12-22T10:45:24.762926",
     "status": "completed"
    },
    "tags": []
   },
   "outputs": [],
   "source": [
    "X_train, X_val, y_train, y_val = train_test_split(X_train, y_train, test_size = 0.25, random_state = 42)"
   ]
  },
  {
   "cell_type": "code",
   "execution_count": 149,
   "metadata": {
    "execution": {
     "iopub.execute_input": "2020-12-22T10:45:25.764038Z",
     "iopub.status.busy": "2020-12-22T10:45:25.763112Z",
     "iopub.status.idle": "2020-12-22T10:45:25.767778Z",
     "shell.execute_reply": "2020-12-22T10:45:25.768345Z"
    },
    "papermill": {
     "duration": 0.150591,
     "end_time": "2020-12-22T10:45:25.768515",
     "exception": false,
     "start_time": "2020-12-22T10:45:25.617924",
     "status": "completed"
    },
    "tags": []
   },
   "outputs": [],
   "source": [
    "from sklearn.metrics import roc_auc_score, accuracy_score, precision_score, recall_score,f1_score\n",
    "from sklearn.metrics import confusion_matrix as cm"
   ]
  },
  {
   "cell_type": "code",
   "execution_count": 123,
   "metadata": {
    "execution": {
     "iopub.execute_input": "2020-12-22T10:45:26.061834Z",
     "iopub.status.busy": "2020-12-22T10:45:26.060844Z",
     "iopub.status.idle": "2020-12-22T10:45:26.073150Z",
     "shell.execute_reply": "2020-12-22T10:45:26.072532Z"
    },
    "papermill": {
     "duration": 0.156509,
     "end_time": "2020-12-22T10:45:26.073268",
     "exception": false,
     "start_time": "2020-12-22T10:45:25.916759",
     "status": "completed"
    },
    "tags": []
   },
   "outputs": [],
   "source": [
    "def calc_specificity(y_actual, y_pred, thresh):\n",
    "    # calculates specificity\n",
    "    return sum((y_pred < thresh) & (y_actual == 0)) /sum(y_actual ==0)\n",
    "\n",
    "def print_report(y_actual, y_pred, thresh):\n",
    "    \n",
    "    auc = roc_auc_score(y_actual, y_pred)\n",
    "    accuracy = accuracy_score(y_actual, (y_pred > thresh))\n",
    "    recall = recall_score(y_actual, (y_pred > thresh))\n",
    "    precision = precision_score(y_actual, (y_pred > thresh))\n",
    "    fscore = f1_score(y_actual,(y_pred > thresh) )\n",
    "    specificity = calc_specificity(y_actual, y_pred, thresh)\n",
    "    print('AUC:%.3f'%auc)\n",
    "    print('accuracy:%.3f'%accuracy)\n",
    "    print('recall:%.3f'%recall)\n",
    "    print('precision:%.3f'%precision)\n",
    "    print('fscore:%.3f'%fscore)\n",
    "    print('specificity:%.3f'%specificity)\n",
    "    print(' ')\n",
    "    return auc, accuracy, recall, precision,fscore, specificity\n",
    "\n",
    "thresh = 0.5"
   ]
  },
  {
   "cell_type": "code",
   "execution_count": 150,
   "metadata": {},
   "outputs": [
    {
     "name": "stdout",
     "output_type": "stream",
     "text": [
      "AUC:0.549\n",
      "accuracy:0.548\n",
      "recall:0.647\n",
      "precision:0.536\n",
      "fscore:0.587\n",
      "specificity:0.451\n",
      " \n"
     ]
    },
    {
     "data": {
      "text/plain": [
       "(0.5488884927049998,\n",
       " 0.5479888490641179,\n",
       " 0.6471061093247589,\n",
       " 0.536309127248501,\n",
       " 0.586520947176685,\n",
       " 0.4506708760852407)"
      ]
     },
     "execution_count": 150,
     "metadata": {},
     "output_type": "execute_result"
    }
   ],
   "source": [
    "from sklearn.neural_network import MLPClassifier\n",
    "\n",
    "mlp = MLPClassifier(\n",
    "    hidden_layer_sizes=(64, 64), max_iter=1000, batch_size = 128, \n",
    "    solver='adam', random_state=1, learning_rate_init = 0.001\n",
    "    )\n",
    "mlp.fit(X_train, y_train)\n",
    "y_pred = mlp.predict(X_test)\n",
    "\n",
    "print_report(y_test, y_pred, 0.5)"
   ]
  },
  {
   "cell_type": "markdown",
   "metadata": {
    "papermill": {
     "duration": 0.18804,
     "end_time": "2020-12-22T10:55:10.042934",
     "exception": false,
     "start_time": "2020-12-22T10:55:09.854894",
     "status": "completed"
    },
    "tags": []
   },
   "source": [
    "# <a id=\"10\"></a>10. References\n",
    "\n",
    "* https://www.kaggle.com/iabhishekofficial/prediction-on-hospital-readmission\n",
    "* https://github.com/andrewwlong/diabetes_readmission"
   ]
  },
  {
   "cell_type": "markdown",
   "metadata": {
    "papermill": {
     "duration": 0.190752,
     "end_time": "2020-12-22T10:55:10.423075",
     "exception": false,
     "start_time": "2020-12-22T10:55:10.232323",
     "status": "completed"
    },
    "tags": []
   },
   "source": [
    "### <p style='font-weight:bold;color:#123456'><i>I hope you find this kernel useful. If you like it please do an upvote.</i><p>"
   ]
  }
 ],
 "metadata": {
  "kernelspec": {
   "display_name": "Python 3",
   "language": "python",
   "name": "python3"
  },
  "language_info": {
   "codemirror_mode": {
    "name": "ipython",
    "version": 3
   },
   "file_extension": ".py",
   "mimetype": "text/x-python",
   "name": "python",
   "nbconvert_exporter": "python",
   "pygments_lexer": "ipython3",
   "version": "3.10.12"
  },
  "papermill": {
   "duration": 650.103822,
   "end_time": "2020-12-22T10:55:10.726185",
   "environment_variables": {},
   "exception": null,
   "input_path": "__notebook__.ipynb",
   "output_path": "__notebook__.ipynb",
   "parameters": {},
   "start_time": "2020-12-22T10:44:20.622363",
   "version": "2.1.0"
  }
 },
 "nbformat": 4,
 "nbformat_minor": 4
}
