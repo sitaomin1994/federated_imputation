{
 "cells": [
  {
   "cell_type": "code",
   "execution_count": 1,
   "metadata": {},
   "outputs": [
    {
     "name": "stdout",
     "output_type": "stream",
     "text": [
      "m:\\OneDrive\\Projects\\federated_imputation_pc2\n"
     ]
    }
   ],
   "source": [
    "cd .."
   ]
  },
  {
   "cell_type": "markdown",
   "metadata": {},
   "source": [
    "## Loading"
   ]
  },
  {
   "cell_type": "code",
   "execution_count": 33,
   "metadata": {},
   "outputs": [
    {
     "name": "stdout",
     "output_type": "stream",
     "text": [
      "The autoreload extension is already loaded. To reload it, use:\n",
      "  %reload_ext autoreload\n"
     ]
    }
   ],
   "source": [
    "%load_ext autoreload\n",
    "%autoreload\n",
    "import copy\n",
    "import matplotlib.pyplot as plt\n",
    "import seaborn as sns\n",
    "import pandas as pd\n",
    "import numpy as np\n",
    "import random\n",
    "from sklearn.neural_network import MLPClassifier\n",
    "from sklearn.linear_model import LogisticRegression\n",
    "from sklearn.ensemble import RandomForestClassifier\n",
    "from sklearn import metrics\n",
    "from dython.nominal import correlation_ratio\n",
    "import missingno as msno\n",
    "from src.fed_imp.sub_modules.missing_simulate.missing_adder_new import simulate_nan_new\n",
    "from src.modules.evaluation.imputation_quality import rmse, ws_cols, sliced_ws\n",
    "from src.notebook_utils import (\n",
    "    visualize_ms, correlation, run_pred, sklearn_evaluation, NN_evaluation,\n",
    "    run_simulation, simulate_scenario\n",
    ")"
   ]
  },
  {
   "cell_type": "code",
   "execution_count": 34,
   "metadata": {},
   "outputs": [],
   "source": [
    "experiment_config_template = {\n",
    "  \"num_clients\": 3,\n",
    "  \"data\": {\n",
    "    \"dataset_name\": \"nhis_income_pca\",\n",
    "    \"normalize\": True,\n",
    "  },\n",
    "  \"handle_imbalance\": None,\n",
    "  \"data_partition\": {\n",
    "    \"strategy\": \"sample@p=4000\",\n",
    "    \"params\": {}\n",
    "  },\n",
    "  \"missing_simulate\": {\n",
    "    \"mr_strategy\": \"fixed\",\n",
    "    \"mf_strategy\": \"all\",\n",
    "    \"mm_strategy\": \"mnar_lr\"\n",
    "  },\n",
    "  \"imputation\": {\n",
    "    \"initial_strategy_num\": \"mean\",\n",
    "    \"initial_strategy_cat\": \"mode\",\n",
    "    \"estimator_num\": \"ridge_cv\",\n",
    "    \"estimator_cat\": \"logistic_cv\",\n",
    "    \"imp_evaluation_model\": \"logistic\",\n",
    "    \"imp_evaluation_params\": {\n",
    "      \"tune_params\": \"gridsearch\"\n",
    "    },\n",
    "    \"clip\": True\n",
    "  },\n",
    "  \"agg_strategy_imp\": {\n",
    "    \"strategy\": \"fedavg-s\",\n",
    "    \"params\": {\n",
    "      \"ms_field\": \"missing_cell_pct\",\n",
    "      \"beta\": 0.7\n",
    "    }\n",
    "  },\n",
    "  \"server_type\": \"fedavg_pytorch\",\n",
    "  \"server\": {\n",
    "    \"impute_mode\": \"instant\",\n",
    "    \"imp_round\": 20,\n",
    "    \"imp_local_epochs\": 0,\n",
    "    \"pred_round\": 0,\n",
    "    \"pred_local_epochs\": 0,\n",
    "    \"model_fit_mode\": \"one_shot\"\n",
    "  },\n",
    "  \"pred_model\": {\n",
    "    \"model_params\": {\n",
    "      \"model\": \"2nn\",\n",
    "      \"num_hiddens\": 64,\n",
    "      \"model_init_config\": None,\n",
    "      \"model_other_params\": None\n",
    "    },\n",
    "    \"train_params\": {\n",
    "      \"batch_size\": 128,\n",
    "      \"learning_rate\": 0.001,\n",
    "      \"weight_decay\": 0.0000,\n",
    "      \"pred_round\": 200,\n",
    "      \"pred_local_epochs\": 3\n",
    "    }\n",
    "  },\n",
    "  \"experiment\": {\n",
    "    \"n_rounds\": 1,\n",
    "    \"seed\": 102931466,\n",
    "    \"mtp\": False,\n",
    "    \"random_seed\": 50,\n",
    "    \"num_process\": 3,\n",
    "    \"test_size\": 0.1,\n",
    "    \"track\": True\n",
    "  },\n",
    "  \"tune_params\": False,\n",
    "  \"track\": False,\n",
    "  \"tune_params\": True,\n",
    "  \"prediction\": False,\n",
    "  \"save_state\": False,\n",
    "  \"test_size\": 0.1,\n",
    "  \"algo_params\": {\n",
    "    \"local\": {},\n",
    "    \"fedavg-s\": {},\n",
    "    \"fedwavg\": {\n",
    "      \"alpha\": 0.9\n",
    "    },\n",
    "    \"fedmechw\": {\n",
    "      \"client_thres\": 1.0,\n",
    "      \"alpha\": 1.0,\n",
    "      \"beta\": 0.0\n",
    "    },\n",
    "    \"fedmechclw\": {\n",
    "      \"client_thres\": 0.2,\n",
    "      \"thres1\": 0.2,\n",
    "      \"alpha\": 0.5\n",
    "    },\n",
    "    'testavg':{\n",
    "        \n",
    "    },\n",
    "    'testavg2':{\n",
    "        \n",
    "    },\n",
    "    'testavg3':{\n",
    "        \n",
    "    },\n",
    "    \"scale_factor\": 4\n",
    "  }\n",
    "}\n",
    "\n",
    "server_config_tmpl = {\n",
    "    \"server_name\": 'fedavg_mlp_pytorch_pred',\n",
    "    \"server_pred_config\": {\n",
    "        \"model_params\": {\n",
    "            \"model\": \"2nn\",\n",
    "            \"num_hiddens\": 128,\n",
    "            \"model_init_config\": None,\n",
    "            \"model_other_params\": None\n",
    "        },\n",
    "        \"train_params\": {\n",
    "            \"batch_size\": 300,\n",
    "            \"learning_rate\": 0.001,\n",
    "            \"weight_decay\": 0.0,\n",
    "            \"pred_round\": 1000,\n",
    "            \"pred_local_epochs\": 5,\n",
    "            'local_epoch': 5,\n",
    "            'sample_pct': 1\n",
    "        }\n",
    "    },\n",
    "    \"server_config\": {\n",
    "        'pred_rounds': 1,\n",
    "        'seed': 21\n",
    "    }\n",
    "}"
   ]
  },
  {
   "cell_type": "code",
   "execution_count": 4,
   "metadata": {},
   "outputs": [],
   "source": [
    "trackers = {}\n",
    "rets ={}\n",
    "mr_strategy = 'fixed@mr=0.5'"
   ]
  },
  {
   "cell_type": "markdown",
   "metadata": {},
   "source": [
    "# MIMIC III MORTALITY"
   ]
  },
  {
   "cell_type": "code",
   "execution_count": 32,
   "metadata": {},
   "outputs": [],
   "source": [
    "def run_impute(strategy, params, dataset = 'mimiciii_mo2'):\n",
    "    name = f'mnar_lr_{dataset}_{strategy}'\n",
    "    config2 = experiment_config_template.copy()\n",
    "    config2['data']['dataset_name'] = 'mimiciii_mo2'\n",
    "    config2['handle_imbalance'] = None\n",
    "    config2['num_clients'] = 11\n",
    "    config2['missing_simulate']['mr_strategy'] = mr_strategy\n",
    "    config2['missing_simulate']['mf_strategy'] = 'all'\n",
    "    config2['missing_simulate']['mm_strategy'] = 'mnar_lr@sp=extremer1'\n",
    "    config2['algo_params'][strategy] = params\n",
    "    config2['algo_params']['scale_factor'] = params['scale_factor']\n",
    "    config2['data_partition']['strategy'] = 'sample-evenly'\n",
    "\n",
    "    config2['agg_strategy_imp']['strategy'] = strategy\n",
    "    config2['server_type'] = 'fedavg_pytorch'\n",
    "    config2['prediction'] = False\n",
    "    config2['save_state'] = True\n",
    "    config2['track'] = True\n",
    "\n",
    "    clients, test_data, new_seed = simulate_scenario(config2)\n",
    "    server, ret = run_simulation(config2, clients, test_data, new_seed)\n",
    "    trackers[name] = copy.deepcopy(server.stats_tracker)\n",
    "    rets[name] = ret.copy()\n",
    "\n",
    "params = { \"client_thres\": 1.0, \"alpha\": 1.0, \"beta\": 0.0}"
   ]
  },
  {
   "cell_type": "code",
   "execution_count": 39,
   "metadata": {},
   "outputs": [
    {
     "name": "stdout",
     "output_type": "stream",
     "text": [
      "=============================================================\n",
      "(20000, 51)\n",
      "mortality\n",
      "0    14556\n",
      "1     5444\n",
      "Name: count, dtype: int64\n",
      "(18000, 51) (2000, 51)\n",
      "(18000, 51)\n",
      "sample-evenly {}\n",
      "['mnar_quantile_left@0.5', 'mnar_quantile_left@0.5', 'mnar_quantile_left@0.5', 'mnar_quantile_left@0.5', 'mnar_quantile_left@0.5', 'mnar_quantile_left@0.5', 'mnar_quantile_left@0.5', 'mnar_quantile_left@0.5', 'mnar_quantile_left@0.5', 'mnar_quantile_left@0.5', 'mnar_quantile_right@0.5']\n"
     ]
    },
    {
     "name": "stderr",
     "output_type": "stream",
     "text": [
      "\u001b[32m2023-08-23 10:24:02.530\u001b[0m | \u001b[1mINFO    \u001b[0m | \u001b[36msrc.fed_imp.sub_modules.server.base_server\u001b[0m:\u001b[36mrun\u001b[0m:\u001b[36m148\u001b[0m - \u001b[1m==================================================\u001b[0m\n",
      "\u001b[32m2023-08-23 10:24:02.531\u001b[0m | \u001b[1mINFO    \u001b[0m | \u001b[36msrc.fed_imp.sub_modules.server.base_server\u001b[0m:\u001b[36mrun\u001b[0m:\u001b[36m149\u001b[0m - \u001b[1mImputation Round 1\u001b[0m\n",
      "\u001b[32m2023-08-23 10:26:08.569\u001b[0m | \u001b[1mINFO    \u001b[0m | \u001b[36msrc.fed_imp.sub_modules.server.base_server\u001b[0m:\u001b[36mrun\u001b[0m:\u001b[36m148\u001b[0m - \u001b[1m==================================================\u001b[0m\n",
      "\u001b[32m2023-08-23 10:26:08.569\u001b[0m | \u001b[1mINFO    \u001b[0m | \u001b[36msrc.fed_imp.sub_modules.server.base_server\u001b[0m:\u001b[36mrun\u001b[0m:\u001b[36m149\u001b[0m - \u001b[1mImputation Round 10\u001b[0m\n",
      "\u001b[32m2023-08-23 10:28:24.882\u001b[0m | \u001b[1mINFO    \u001b[0m | \u001b[36msrc.fed_imp.sub_modules.server.base_server\u001b[0m:\u001b[36mrun\u001b[0m:\u001b[36m148\u001b[0m - \u001b[1m==================================================\u001b[0m\n",
      "\u001b[32m2023-08-23 10:28:24.882\u001b[0m | \u001b[1mINFO    \u001b[0m | \u001b[36msrc.fed_imp.sub_modules.server.base_server\u001b[0m:\u001b[36mrun\u001b[0m:\u001b[36m149\u001b[0m - \u001b[1mImputation Round 20\u001b[0m\n",
      "\u001b[32m2023-08-23 10:28:38.766\u001b[0m | \u001b[1mINFO    \u001b[0m | \u001b[36msrc.fed_imp.sub_modules.server.base_server\u001b[0m:\u001b[36mrun\u001b[0m:\u001b[36m178\u001b[0m - \u001b[1mFL finished in 278.94807869999204\u001b[0m\n"
     ]
    },
    {
     "name": "stdout",
     "output_type": "stream",
     "text": [
      "{'imp@rmse': 0.051653288277240396, 'imp@ws': 0.4132374405712598, 'imp@sliced_ws': 0.008140255084459268}\n"
     ]
    }
   ],
   "source": [
    "params = { \"client_thres\": 1.0, \"alpha\": 1.0, \"beta\": 0.0, 'scale_factor': 3}\n",
    "\n",
    "for alpha in [0.9]:\n",
    "    print(\"=============================================================\")\n",
    "    params['alpha'] = alpha\n",
    "    params['beta'] = 1.0 - alpha\n",
    "    run_impute('fedmechw_sigmoid', params, 'mimiciii_mo2')"
   ]
  },
  {
   "cell_type": "code",
   "execution_count": 38,
   "metadata": {},
   "outputs": [
    {
     "name": "stdout",
     "output_type": "stream",
     "text": [
      "=============================================================\n",
      "(20000, 51)\n",
      "mortality\n",
      "0    14556\n",
      "1     5444\n",
      "Name: count, dtype: int64\n",
      "(18000, 51) (2000, 51)\n",
      "(18000, 51)\n",
      "sample-evenly {}\n",
      "['mnar_quantile_left@0.5', 'mnar_quantile_left@0.5', 'mnar_quantile_left@0.5', 'mnar_quantile_left@0.5', 'mnar_quantile_left@0.5', 'mnar_quantile_left@0.5', 'mnar_quantile_left@0.5', 'mnar_quantile_left@0.5', 'mnar_quantile_left@0.5', 'mnar_quantile_left@0.5', 'mnar_quantile_right@0.5']\n"
     ]
    },
    {
     "name": "stderr",
     "output_type": "stream",
     "text": [
      "\u001b[32m2023-08-23 09:42:31.559\u001b[0m | \u001b[1mINFO    \u001b[0m | \u001b[36msrc.fed_imp.sub_modules.server.base_server\u001b[0m:\u001b[36mrun\u001b[0m:\u001b[36m148\u001b[0m - \u001b[1m==================================================\u001b[0m\n",
      "\u001b[32m2023-08-23 09:42:31.560\u001b[0m | \u001b[1mINFO    \u001b[0m | \u001b[36msrc.fed_imp.sub_modules.server.base_server\u001b[0m:\u001b[36mrun\u001b[0m:\u001b[36m149\u001b[0m - \u001b[1mImputation Round 1\u001b[0m\n",
      "\u001b[32m2023-08-23 09:44:25.197\u001b[0m | \u001b[1mINFO    \u001b[0m | \u001b[36msrc.fed_imp.sub_modules.server.base_server\u001b[0m:\u001b[36mrun\u001b[0m:\u001b[36m148\u001b[0m - \u001b[1m==================================================\u001b[0m\n",
      "\u001b[32m2023-08-23 09:44:25.198\u001b[0m | \u001b[1mINFO    \u001b[0m | \u001b[36msrc.fed_imp.sub_modules.server.base_server\u001b[0m:\u001b[36mrun\u001b[0m:\u001b[36m149\u001b[0m - \u001b[1mImputation Round 10\u001b[0m\n",
      "\u001b[32m2023-08-23 09:46:30.633\u001b[0m | \u001b[1mINFO    \u001b[0m | \u001b[36msrc.fed_imp.sub_modules.server.base_server\u001b[0m:\u001b[36mrun\u001b[0m:\u001b[36m148\u001b[0m - \u001b[1m==================================================\u001b[0m\n",
      "\u001b[32m2023-08-23 09:46:30.633\u001b[0m | \u001b[1mINFO    \u001b[0m | \u001b[36msrc.fed_imp.sub_modules.server.base_server\u001b[0m:\u001b[36mrun\u001b[0m:\u001b[36m149\u001b[0m - \u001b[1mImputation Round 20\u001b[0m\n",
      "\u001b[32m2023-08-23 09:46:43.599\u001b[0m | \u001b[1mINFO    \u001b[0m | \u001b[36msrc.fed_imp.sub_modules.server.base_server\u001b[0m:\u001b[36mrun\u001b[0m:\u001b[36m178\u001b[0m - \u001b[1mFL finished in 254.75982399994973\u001b[0m\n"
     ]
    },
    {
     "name": "stdout",
     "output_type": "stream",
     "text": [
      "{'imp@rmse': 0.051656190597141036, 'imp@ws': 0.41320757726942886, 'imp@sliced_ws': 0.008141858896719506}\n",
      "=============================================================\n",
      "(20000, 51)\n",
      "mortality\n",
      "0    14556\n",
      "1     5444\n",
      "Name: count, dtype: int64\n",
      "(18000, 51) (2000, 51)\n",
      "(18000, 51)\n",
      "sample-evenly {}\n",
      "['mnar_quantile_left@0.5', 'mnar_quantile_left@0.5', 'mnar_quantile_left@0.5', 'mnar_quantile_left@0.5', 'mnar_quantile_left@0.5', 'mnar_quantile_left@0.5', 'mnar_quantile_left@0.5', 'mnar_quantile_left@0.5', 'mnar_quantile_left@0.5', 'mnar_quantile_left@0.5', 'mnar_quantile_right@0.5']\n"
     ]
    },
    {
     "name": "stderr",
     "output_type": "stream",
     "text": [
      "\u001b[32m2023-08-23 09:46:46.790\u001b[0m | \u001b[1mINFO    \u001b[0m | \u001b[36msrc.fed_imp.sub_modules.server.base_server\u001b[0m:\u001b[36mrun\u001b[0m:\u001b[36m148\u001b[0m - \u001b[1m==================================================\u001b[0m\n",
      "\u001b[32m2023-08-23 09:46:46.790\u001b[0m | \u001b[1mINFO    \u001b[0m | \u001b[36msrc.fed_imp.sub_modules.server.base_server\u001b[0m:\u001b[36mrun\u001b[0m:\u001b[36m149\u001b[0m - \u001b[1mImputation Round 1\u001b[0m\n",
      "\u001b[32m2023-08-23 09:48:36.735\u001b[0m | \u001b[1mINFO    \u001b[0m | \u001b[36msrc.fed_imp.sub_modules.server.base_server\u001b[0m:\u001b[36mrun\u001b[0m:\u001b[36m148\u001b[0m - \u001b[1m==================================================\u001b[0m\n",
      "\u001b[32m2023-08-23 09:48:36.735\u001b[0m | \u001b[1mINFO    \u001b[0m | \u001b[36msrc.fed_imp.sub_modules.server.base_server\u001b[0m:\u001b[36mrun\u001b[0m:\u001b[36m149\u001b[0m - \u001b[1mImputation Round 10\u001b[0m\n",
      "\u001b[32m2023-08-23 09:50:44.460\u001b[0m | \u001b[1mINFO    \u001b[0m | \u001b[36msrc.fed_imp.sub_modules.server.base_server\u001b[0m:\u001b[36mrun\u001b[0m:\u001b[36m148\u001b[0m - \u001b[1m==================================================\u001b[0m\n",
      "\u001b[32m2023-08-23 09:50:44.461\u001b[0m | \u001b[1mINFO    \u001b[0m | \u001b[36msrc.fed_imp.sub_modules.server.base_server\u001b[0m:\u001b[36mrun\u001b[0m:\u001b[36m149\u001b[0m - \u001b[1mImputation Round 20\u001b[0m\n",
      "\u001b[32m2023-08-23 09:50:58.431\u001b[0m | \u001b[1mINFO    \u001b[0m | \u001b[36msrc.fed_imp.sub_modules.server.base_server\u001b[0m:\u001b[36mrun\u001b[0m:\u001b[36m178\u001b[0m - \u001b[1mFL finished in 254.31083300011232\u001b[0m\n"
     ]
    },
    {
     "name": "stdout",
     "output_type": "stream",
     "text": [
      "{'imp@rmse': 0.051657306608311304, 'imp@ws': 0.41316501397070093, 'imp@sliced_ws': 0.008147177352508408}\n",
      "=============================================================\n",
      "(20000, 51)\n",
      "mortality\n",
      "0    14556\n",
      "1     5444\n",
      "Name: count, dtype: int64\n",
      "(18000, 51) (2000, 51)\n",
      "(18000, 51)\n",
      "sample-evenly {}\n",
      "['mnar_quantile_left@0.5', 'mnar_quantile_left@0.5', 'mnar_quantile_left@0.5', 'mnar_quantile_left@0.5', 'mnar_quantile_left@0.5', 'mnar_quantile_left@0.5', 'mnar_quantile_left@0.5', 'mnar_quantile_left@0.5', 'mnar_quantile_left@0.5', 'mnar_quantile_left@0.5', 'mnar_quantile_right@0.5']\n"
     ]
    },
    {
     "name": "stderr",
     "output_type": "stream",
     "text": [
      "\u001b[32m2023-08-23 09:51:01.604\u001b[0m | \u001b[1mINFO    \u001b[0m | \u001b[36msrc.fed_imp.sub_modules.server.base_server\u001b[0m:\u001b[36mrun\u001b[0m:\u001b[36m148\u001b[0m - \u001b[1m==================================================\u001b[0m\n",
      "\u001b[32m2023-08-23 09:51:01.605\u001b[0m | \u001b[1mINFO    \u001b[0m | \u001b[36msrc.fed_imp.sub_modules.server.base_server\u001b[0m:\u001b[36mrun\u001b[0m:\u001b[36m149\u001b[0m - \u001b[1mImputation Round 1\u001b[0m\n",
      "\u001b[32m2023-08-23 09:52:54.806\u001b[0m | \u001b[1mINFO    \u001b[0m | \u001b[36msrc.fed_imp.sub_modules.server.base_server\u001b[0m:\u001b[36mrun\u001b[0m:\u001b[36m148\u001b[0m - \u001b[1m==================================================\u001b[0m\n",
      "\u001b[32m2023-08-23 09:52:54.807\u001b[0m | \u001b[1mINFO    \u001b[0m | \u001b[36msrc.fed_imp.sub_modules.server.base_server\u001b[0m:\u001b[36mrun\u001b[0m:\u001b[36m149\u001b[0m - \u001b[1mImputation Round 10\u001b[0m\n",
      "\u001b[32m2023-08-23 09:55:06.956\u001b[0m | \u001b[1mINFO    \u001b[0m | \u001b[36msrc.fed_imp.sub_modules.server.base_server\u001b[0m:\u001b[36mrun\u001b[0m:\u001b[36m148\u001b[0m - \u001b[1m==================================================\u001b[0m\n",
      "\u001b[32m2023-08-23 09:55:06.957\u001b[0m | \u001b[1mINFO    \u001b[0m | \u001b[36msrc.fed_imp.sub_modules.server.base_server\u001b[0m:\u001b[36mrun\u001b[0m:\u001b[36m149\u001b[0m - \u001b[1mImputation Round 20\u001b[0m\n",
      "\u001b[32m2023-08-23 09:55:20.440\u001b[0m | \u001b[1mINFO    \u001b[0m | \u001b[36msrc.fed_imp.sub_modules.server.base_server\u001b[0m:\u001b[36mrun\u001b[0m:\u001b[36m178\u001b[0m - \u001b[1mFL finished in 261.5315788000589\u001b[0m\n"
     ]
    },
    {
     "name": "stdout",
     "output_type": "stream",
     "text": [
      "{'imp@rmse': 0.05167233733927122, 'imp@ws': 0.4130418988479504, 'imp@sliced_ws': 0.008235527786171943}\n",
      "=============================================================\n",
      "(20000, 51)\n",
      "mortality\n",
      "0    14556\n",
      "1     5444\n",
      "Name: count, dtype: int64\n",
      "(18000, 51) (2000, 51)\n",
      "(18000, 51)\n",
      "sample-evenly {}\n",
      "['mnar_quantile_left@0.5', 'mnar_quantile_left@0.5', 'mnar_quantile_left@0.5', 'mnar_quantile_left@0.5', 'mnar_quantile_left@0.5', 'mnar_quantile_left@0.5', 'mnar_quantile_left@0.5', 'mnar_quantile_left@0.5', 'mnar_quantile_left@0.5', 'mnar_quantile_left@0.5', 'mnar_quantile_right@0.5']\n"
     ]
    },
    {
     "name": "stderr",
     "output_type": "stream",
     "text": [
      "\u001b[32m2023-08-23 09:55:23.637\u001b[0m | \u001b[1mINFO    \u001b[0m | \u001b[36msrc.fed_imp.sub_modules.server.base_server\u001b[0m:\u001b[36mrun\u001b[0m:\u001b[36m148\u001b[0m - \u001b[1m==================================================\u001b[0m\n",
      "\u001b[32m2023-08-23 09:55:23.637\u001b[0m | \u001b[1mINFO    \u001b[0m | \u001b[36msrc.fed_imp.sub_modules.server.base_server\u001b[0m:\u001b[36mrun\u001b[0m:\u001b[36m149\u001b[0m - \u001b[1mImputation Round 1\u001b[0m\n",
      "\u001b[32m2023-08-23 09:57:13.018\u001b[0m | \u001b[1mINFO    \u001b[0m | \u001b[36msrc.fed_imp.sub_modules.server.base_server\u001b[0m:\u001b[36mrun\u001b[0m:\u001b[36m148\u001b[0m - \u001b[1m==================================================\u001b[0m\n",
      "\u001b[32m2023-08-23 09:57:13.019\u001b[0m | \u001b[1mINFO    \u001b[0m | \u001b[36msrc.fed_imp.sub_modules.server.base_server\u001b[0m:\u001b[36mrun\u001b[0m:\u001b[36m149\u001b[0m - \u001b[1mImputation Round 10\u001b[0m\n",
      "\u001b[32m2023-08-23 09:59:13.432\u001b[0m | \u001b[1mINFO    \u001b[0m | \u001b[36msrc.fed_imp.sub_modules.server.base_server\u001b[0m:\u001b[36mrun\u001b[0m:\u001b[36m148\u001b[0m - \u001b[1m==================================================\u001b[0m\n",
      "\u001b[32m2023-08-23 09:59:13.433\u001b[0m | \u001b[1mINFO    \u001b[0m | \u001b[36msrc.fed_imp.sub_modules.server.base_server\u001b[0m:\u001b[36mrun\u001b[0m:\u001b[36m149\u001b[0m - \u001b[1mImputation Round 20\u001b[0m\n",
      "\u001b[32m2023-08-23 09:59:25.808\u001b[0m | \u001b[1mINFO    \u001b[0m | \u001b[36msrc.fed_imp.sub_modules.server.base_server\u001b[0m:\u001b[36mrun\u001b[0m:\u001b[36m178\u001b[0m - \u001b[1mFL finished in 244.90587300003972\u001b[0m\n"
     ]
    },
    {
     "name": "stdout",
     "output_type": "stream",
     "text": [
      "{'imp@rmse': 0.051911910578992554, 'imp@ws': 0.41607144667485907, 'imp@sliced_ws': 0.00914469835341828}\n",
      "=============================================================\n",
      "(20000, 51)\n",
      "mortality\n",
      "0    14556\n",
      "1     5444\n",
      "Name: count, dtype: int64\n",
      "(18000, 51) (2000, 51)\n",
      "(18000, 51)\n",
      "sample-evenly {}\n",
      "['mnar_quantile_left@0.5', 'mnar_quantile_left@0.5', 'mnar_quantile_left@0.5', 'mnar_quantile_left@0.5', 'mnar_quantile_left@0.5', 'mnar_quantile_left@0.5', 'mnar_quantile_left@0.5', 'mnar_quantile_left@0.5', 'mnar_quantile_left@0.5', 'mnar_quantile_left@0.5', 'mnar_quantile_right@0.5']\n"
     ]
    },
    {
     "name": "stderr",
     "output_type": "stream",
     "text": [
      "\u001b[32m2023-08-23 09:59:28.862\u001b[0m | \u001b[1mINFO    \u001b[0m | \u001b[36msrc.fed_imp.sub_modules.server.base_server\u001b[0m:\u001b[36mrun\u001b[0m:\u001b[36m148\u001b[0m - \u001b[1m==================================================\u001b[0m\n",
      "\u001b[32m2023-08-23 09:59:28.863\u001b[0m | \u001b[1mINFO    \u001b[0m | \u001b[36msrc.fed_imp.sub_modules.server.base_server\u001b[0m:\u001b[36mrun\u001b[0m:\u001b[36m149\u001b[0m - \u001b[1mImputation Round 1\u001b[0m\n",
      "\u001b[32m2023-08-23 10:01:14.411\u001b[0m | \u001b[1mINFO    \u001b[0m | \u001b[36msrc.fed_imp.sub_modules.server.base_server\u001b[0m:\u001b[36mrun\u001b[0m:\u001b[36m148\u001b[0m - \u001b[1m==================================================\u001b[0m\n",
      "\u001b[32m2023-08-23 10:01:14.412\u001b[0m | \u001b[1mINFO    \u001b[0m | \u001b[36msrc.fed_imp.sub_modules.server.base_server\u001b[0m:\u001b[36mrun\u001b[0m:\u001b[36m149\u001b[0m - \u001b[1mImputation Round 10\u001b[0m\n",
      "\u001b[32m2023-08-23 10:03:21.558\u001b[0m | \u001b[1mINFO    \u001b[0m | \u001b[36msrc.fed_imp.sub_modules.server.base_server\u001b[0m:\u001b[36mrun\u001b[0m:\u001b[36m148\u001b[0m - \u001b[1m==================================================\u001b[0m\n",
      "\u001b[32m2023-08-23 10:03:21.559\u001b[0m | \u001b[1mINFO    \u001b[0m | \u001b[36msrc.fed_imp.sub_modules.server.base_server\u001b[0m:\u001b[36mrun\u001b[0m:\u001b[36m149\u001b[0m - \u001b[1mImputation Round 20\u001b[0m\n",
      "\u001b[32m2023-08-23 10:03:34.587\u001b[0m | \u001b[1mINFO    \u001b[0m | \u001b[36msrc.fed_imp.sub_modules.server.base_server\u001b[0m:\u001b[36mrun\u001b[0m:\u001b[36m178\u001b[0m - \u001b[1mFL finished in 248.31141109997407\u001b[0m\n"
     ]
    },
    {
     "name": "stdout",
     "output_type": "stream",
     "text": [
      "{'imp@rmse': 0.0615629023336361, 'imp@ws': 0.6164410764056489, 'imp@sliced_ws': 0.022333695281212068}\n",
      "=============================================================\n",
      "(20000, 51)\n",
      "mortality\n",
      "0    14556\n",
      "1     5444\n",
      "Name: count, dtype: int64\n",
      "(18000, 51) (2000, 51)\n",
      "(18000, 51)\n",
      "sample-evenly {}\n",
      "['mnar_quantile_left@0.5', 'mnar_quantile_left@0.5', 'mnar_quantile_left@0.5', 'mnar_quantile_left@0.5', 'mnar_quantile_left@0.5', 'mnar_quantile_left@0.5', 'mnar_quantile_left@0.5', 'mnar_quantile_left@0.5', 'mnar_quantile_left@0.5', 'mnar_quantile_left@0.5', 'mnar_quantile_right@0.5']\n"
     ]
    },
    {
     "name": "stderr",
     "output_type": "stream",
     "text": [
      "\u001b[32m2023-08-23 10:03:37.793\u001b[0m | \u001b[1mINFO    \u001b[0m | \u001b[36msrc.fed_imp.sub_modules.server.base_server\u001b[0m:\u001b[36mrun\u001b[0m:\u001b[36m148\u001b[0m - \u001b[1m==================================================\u001b[0m\n",
      "\u001b[32m2023-08-23 10:03:37.794\u001b[0m | \u001b[1mINFO    \u001b[0m | \u001b[36msrc.fed_imp.sub_modules.server.base_server\u001b[0m:\u001b[36mrun\u001b[0m:\u001b[36m149\u001b[0m - \u001b[1mImputation Round 1\u001b[0m\n",
      "\u001b[32m2023-08-23 10:05:23.508\u001b[0m | \u001b[1mINFO    \u001b[0m | \u001b[36msrc.fed_imp.sub_modules.server.base_server\u001b[0m:\u001b[36mrun\u001b[0m:\u001b[36m148\u001b[0m - \u001b[1m==================================================\u001b[0m\n",
      "\u001b[32m2023-08-23 10:05:23.509\u001b[0m | \u001b[1mINFO    \u001b[0m | \u001b[36msrc.fed_imp.sub_modules.server.base_server\u001b[0m:\u001b[36mrun\u001b[0m:\u001b[36m149\u001b[0m - \u001b[1mImputation Round 10\u001b[0m\n",
      "\u001b[32m2023-08-23 10:07:22.439\u001b[0m | \u001b[1mINFO    \u001b[0m | \u001b[36msrc.fed_imp.sub_modules.server.base_server\u001b[0m:\u001b[36mrun\u001b[0m:\u001b[36m148\u001b[0m - \u001b[1m==================================================\u001b[0m\n",
      "\u001b[32m2023-08-23 10:07:22.440\u001b[0m | \u001b[1mINFO    \u001b[0m | \u001b[36msrc.fed_imp.sub_modules.server.base_server\u001b[0m:\u001b[36mrun\u001b[0m:\u001b[36m149\u001b[0m - \u001b[1mImputation Round 20\u001b[0m\n",
      "\u001b[32m2023-08-23 10:07:34.574\u001b[0m | \u001b[1mINFO    \u001b[0m | \u001b[36msrc.fed_imp.sub_modules.server.base_server\u001b[0m:\u001b[36mrun\u001b[0m:\u001b[36m178\u001b[0m - \u001b[1mFL finished in 239.46863810007926\u001b[0m\n"
     ]
    },
    {
     "name": "stdout",
     "output_type": "stream",
     "text": [
      "{'imp@rmse': 0.1088515037730871, 'imp@ws': 1.5641324318338128, 'imp@sliced_ws': 0.05601844987085222}\n"
     ]
    }
   ],
   "source": [
    "params = { \"client_thres\": 1.0, \"alpha\": 1.0, \"beta\": 0.0, 'scale_factor': 3}\n",
    "\n",
    "for alpha in [1.0, 0.8, 0.6, 0.4, 0.2, 0.1]:\n",
    "    print(\"=============================================================\")\n",
    "    params['alpha'] = alpha\n",
    "    params['beta'] = 1.0 - alpha\n",
    "    run_impute('fedmechw_sigmoid', params, 'mimiciii_mo2')"
   ]
  },
  {
   "cell_type": "code",
   "execution_count": 36,
   "metadata": {},
   "outputs": [
    {
     "name": "stdout",
     "output_type": "stream",
     "text": [
      "=============================================================\n",
      "(20000, 51)\n",
      "mortality\n",
      "0    14556\n",
      "1     5444\n",
      "Name: count, dtype: int64\n",
      "(18000, 51) (2000, 51)\n",
      "(18000, 51)\n",
      "sample-evenly {}\n",
      "['mnar_quantile_left@0.5', 'mnar_quantile_left@0.5', 'mnar_quantile_left@0.5', 'mnar_quantile_left@0.5', 'mnar_quantile_left@0.5', 'mnar_quantile_left@0.5', 'mnar_quantile_left@0.5', 'mnar_quantile_left@0.5', 'mnar_quantile_left@0.5', 'mnar_quantile_left@0.5', 'mnar_quantile_right@0.5']\n"
     ]
    },
    {
     "name": "stderr",
     "output_type": "stream",
     "text": [
      "\u001b[32m2023-08-23 09:20:40.727\u001b[0m | \u001b[1mINFO    \u001b[0m | \u001b[36msrc.fed_imp.sub_modules.server.base_server\u001b[0m:\u001b[36mrun\u001b[0m:\u001b[36m148\u001b[0m - \u001b[1m==================================================\u001b[0m\n",
      "\u001b[32m2023-08-23 09:20:40.728\u001b[0m | \u001b[1mINFO    \u001b[0m | \u001b[36msrc.fed_imp.sub_modules.server.base_server\u001b[0m:\u001b[36mrun\u001b[0m:\u001b[36m149\u001b[0m - \u001b[1mImputation Round 1\u001b[0m\n",
      "\u001b[32m2023-08-23 09:22:37.917\u001b[0m | \u001b[1mINFO    \u001b[0m | \u001b[36msrc.fed_imp.sub_modules.server.base_server\u001b[0m:\u001b[36mrun\u001b[0m:\u001b[36m148\u001b[0m - \u001b[1m==================================================\u001b[0m\n",
      "\u001b[32m2023-08-23 09:22:37.917\u001b[0m | \u001b[1mINFO    \u001b[0m | \u001b[36msrc.fed_imp.sub_modules.server.base_server\u001b[0m:\u001b[36mrun\u001b[0m:\u001b[36m149\u001b[0m - \u001b[1mImputation Round 10\u001b[0m\n",
      "\u001b[32m2023-08-23 09:24:41.757\u001b[0m | \u001b[1mINFO    \u001b[0m | \u001b[36msrc.fed_imp.sub_modules.server.base_server\u001b[0m:\u001b[36mrun\u001b[0m:\u001b[36m148\u001b[0m - \u001b[1m==================================================\u001b[0m\n",
      "\u001b[32m2023-08-23 09:24:41.757\u001b[0m | \u001b[1mINFO    \u001b[0m | \u001b[36msrc.fed_imp.sub_modules.server.base_server\u001b[0m:\u001b[36mrun\u001b[0m:\u001b[36m149\u001b[0m - \u001b[1mImputation Round 20\u001b[0m\n",
      "\u001b[32m2023-08-23 09:24:54.344\u001b[0m | \u001b[1mINFO    \u001b[0m | \u001b[36msrc.fed_imp.sub_modules.server.base_server\u001b[0m:\u001b[36mrun\u001b[0m:\u001b[36m178\u001b[0m - \u001b[1mFL finished in 256.35838240000885\u001b[0m\n"
     ]
    },
    {
     "name": "stdout",
     "output_type": "stream",
     "text": [
      "{'imp@rmse': 0.051756839434598176, 'imp@ws': 0.41395357168107905, 'imp@sliced_ws': 0.008270551951529767}\n",
      "=============================================================\n",
      "(20000, 51)\n",
      "mortality\n",
      "0    14556\n",
      "1     5444\n",
      "Name: count, dtype: int64\n",
      "(18000, 51) (2000, 51)\n",
      "(18000, 51)\n",
      "sample-evenly {}\n",
      "['mnar_quantile_left@0.5', 'mnar_quantile_left@0.5', 'mnar_quantile_left@0.5', 'mnar_quantile_left@0.5', 'mnar_quantile_left@0.5', 'mnar_quantile_left@0.5', 'mnar_quantile_left@0.5', 'mnar_quantile_left@0.5', 'mnar_quantile_left@0.5', 'mnar_quantile_left@0.5', 'mnar_quantile_right@0.5']\n"
     ]
    },
    {
     "name": "stderr",
     "output_type": "stream",
     "text": [
      "\u001b[32m2023-08-23 09:24:57.423\u001b[0m | \u001b[1mINFO    \u001b[0m | \u001b[36msrc.fed_imp.sub_modules.server.base_server\u001b[0m:\u001b[36mrun\u001b[0m:\u001b[36m148\u001b[0m - \u001b[1m==================================================\u001b[0m\n",
      "\u001b[32m2023-08-23 09:24:57.424\u001b[0m | \u001b[1mINFO    \u001b[0m | \u001b[36msrc.fed_imp.sub_modules.server.base_server\u001b[0m:\u001b[36mrun\u001b[0m:\u001b[36m149\u001b[0m - \u001b[1mImputation Round 1\u001b[0m\n",
      "\u001b[32m2023-08-23 09:26:45.396\u001b[0m | \u001b[1mINFO    \u001b[0m | \u001b[36msrc.fed_imp.sub_modules.server.base_server\u001b[0m:\u001b[36mrun\u001b[0m:\u001b[36m148\u001b[0m - \u001b[1m==================================================\u001b[0m\n",
      "\u001b[32m2023-08-23 09:26:45.397\u001b[0m | \u001b[1mINFO    \u001b[0m | \u001b[36msrc.fed_imp.sub_modules.server.base_server\u001b[0m:\u001b[36mrun\u001b[0m:\u001b[36m149\u001b[0m - \u001b[1mImputation Round 10\u001b[0m\n",
      "\u001b[32m2023-08-23 09:28:46.746\u001b[0m | \u001b[1mINFO    \u001b[0m | \u001b[36msrc.fed_imp.sub_modules.server.base_server\u001b[0m:\u001b[36mrun\u001b[0m:\u001b[36m148\u001b[0m - \u001b[1m==================================================\u001b[0m\n",
      "\u001b[32m2023-08-23 09:28:46.747\u001b[0m | \u001b[1mINFO    \u001b[0m | \u001b[36msrc.fed_imp.sub_modules.server.base_server\u001b[0m:\u001b[36mrun\u001b[0m:\u001b[36m149\u001b[0m - \u001b[1mImputation Round 20\u001b[0m\n",
      "\u001b[32m2023-08-23 09:28:59.218\u001b[0m | \u001b[1mINFO    \u001b[0m | \u001b[36msrc.fed_imp.sub_modules.server.base_server\u001b[0m:\u001b[36mrun\u001b[0m:\u001b[36m178\u001b[0m - \u001b[1mFL finished in 244.411931599956\u001b[0m\n"
     ]
    },
    {
     "name": "stdout",
     "output_type": "stream",
     "text": [
      "{'imp@rmse': 0.05161272311468685, 'imp@ws': 0.41414701791805486, 'imp@sliced_ws': 0.008194286301782512}\n",
      "=============================================================\n",
      "(20000, 51)\n",
      "mortality\n",
      "0    14556\n",
      "1     5444\n",
      "Name: count, dtype: int64\n",
      "(18000, 51) (2000, 51)\n",
      "(18000, 51)\n",
      "sample-evenly {}\n",
      "['mnar_quantile_left@0.5', 'mnar_quantile_left@0.5', 'mnar_quantile_left@0.5', 'mnar_quantile_left@0.5', 'mnar_quantile_left@0.5', 'mnar_quantile_left@0.5', 'mnar_quantile_left@0.5', 'mnar_quantile_left@0.5', 'mnar_quantile_left@0.5', 'mnar_quantile_left@0.5', 'mnar_quantile_right@0.5']\n"
     ]
    },
    {
     "name": "stderr",
     "output_type": "stream",
     "text": [
      "\u001b[32m2023-08-23 09:29:02.283\u001b[0m | \u001b[1mINFO    \u001b[0m | \u001b[36msrc.fed_imp.sub_modules.server.base_server\u001b[0m:\u001b[36mrun\u001b[0m:\u001b[36m148\u001b[0m - \u001b[1m==================================================\u001b[0m\n",
      "\u001b[32m2023-08-23 09:29:02.284\u001b[0m | \u001b[1mINFO    \u001b[0m | \u001b[36msrc.fed_imp.sub_modules.server.base_server\u001b[0m:\u001b[36mrun\u001b[0m:\u001b[36m149\u001b[0m - \u001b[1mImputation Round 1\u001b[0m\n",
      "\u001b[32m2023-08-23 09:30:49.110\u001b[0m | \u001b[1mINFO    \u001b[0m | \u001b[36msrc.fed_imp.sub_modules.server.base_server\u001b[0m:\u001b[36mrun\u001b[0m:\u001b[36m148\u001b[0m - \u001b[1m==================================================\u001b[0m\n",
      "\u001b[32m2023-08-23 09:30:49.111\u001b[0m | \u001b[1mINFO    \u001b[0m | \u001b[36msrc.fed_imp.sub_modules.server.base_server\u001b[0m:\u001b[36mrun\u001b[0m:\u001b[36m149\u001b[0m - \u001b[1mImputation Round 10\u001b[0m\n",
      "\u001b[32m2023-08-23 09:32:50.890\u001b[0m | \u001b[1mINFO    \u001b[0m | \u001b[36msrc.fed_imp.sub_modules.server.base_server\u001b[0m:\u001b[36mrun\u001b[0m:\u001b[36m148\u001b[0m - \u001b[1m==================================================\u001b[0m\n",
      "\u001b[32m2023-08-23 09:32:50.891\u001b[0m | \u001b[1mINFO    \u001b[0m | \u001b[36msrc.fed_imp.sub_modules.server.base_server\u001b[0m:\u001b[36mrun\u001b[0m:\u001b[36m149\u001b[0m - \u001b[1mImputation Round 20\u001b[0m\n",
      "\u001b[32m2023-08-23 09:33:03.407\u001b[0m | \u001b[1mINFO    \u001b[0m | \u001b[36msrc.fed_imp.sub_modules.server.base_server\u001b[0m:\u001b[36mrun\u001b[0m:\u001b[36m178\u001b[0m - \u001b[1mFL finished in 243.72373109997716\u001b[0m\n"
     ]
    },
    {
     "name": "stdout",
     "output_type": "stream",
     "text": [
      "{'imp@rmse': 0.05174226900979438, 'imp@ws': 0.4128424394791663, 'imp@sliced_ws': 0.008203271821592552}\n",
      "=============================================================\n",
      "(20000, 51)\n",
      "mortality\n",
      "0    14556\n",
      "1     5444\n",
      "Name: count, dtype: int64\n",
      "(18000, 51) (2000, 51)\n",
      "(18000, 51)\n",
      "sample-evenly {}\n",
      "['mnar_quantile_left@0.5', 'mnar_quantile_left@0.5', 'mnar_quantile_left@0.5', 'mnar_quantile_left@0.5', 'mnar_quantile_left@0.5', 'mnar_quantile_left@0.5', 'mnar_quantile_left@0.5', 'mnar_quantile_left@0.5', 'mnar_quantile_left@0.5', 'mnar_quantile_left@0.5', 'mnar_quantile_right@0.5']\n"
     ]
    },
    {
     "name": "stderr",
     "output_type": "stream",
     "text": [
      "\u001b[32m2023-08-23 09:33:06.532\u001b[0m | \u001b[1mINFO    \u001b[0m | \u001b[36msrc.fed_imp.sub_modules.server.base_server\u001b[0m:\u001b[36mrun\u001b[0m:\u001b[36m148\u001b[0m - \u001b[1m==================================================\u001b[0m\n",
      "\u001b[32m2023-08-23 09:33:06.533\u001b[0m | \u001b[1mINFO    \u001b[0m | \u001b[36msrc.fed_imp.sub_modules.server.base_server\u001b[0m:\u001b[36mrun\u001b[0m:\u001b[36m149\u001b[0m - \u001b[1mImputation Round 1\u001b[0m\n",
      "\u001b[32m2023-08-23 09:34:53.780\u001b[0m | \u001b[1mINFO    \u001b[0m | \u001b[36msrc.fed_imp.sub_modules.server.base_server\u001b[0m:\u001b[36mrun\u001b[0m:\u001b[36m148\u001b[0m - \u001b[1m==================================================\u001b[0m\n",
      "\u001b[32m2023-08-23 09:34:53.781\u001b[0m | \u001b[1mINFO    \u001b[0m | \u001b[36msrc.fed_imp.sub_modules.server.base_server\u001b[0m:\u001b[36mrun\u001b[0m:\u001b[36m149\u001b[0m - \u001b[1mImputation Round 10\u001b[0m\n",
      "\u001b[32m2023-08-23 09:37:01.175\u001b[0m | \u001b[1mINFO    \u001b[0m | \u001b[36msrc.fed_imp.sub_modules.server.base_server\u001b[0m:\u001b[36mrun\u001b[0m:\u001b[36m148\u001b[0m - \u001b[1m==================================================\u001b[0m\n",
      "\u001b[32m2023-08-23 09:37:01.176\u001b[0m | \u001b[1mINFO    \u001b[0m | \u001b[36msrc.fed_imp.sub_modules.server.base_server\u001b[0m:\u001b[36mrun\u001b[0m:\u001b[36m149\u001b[0m - \u001b[1mImputation Round 20\u001b[0m\n",
      "\u001b[32m2023-08-23 09:37:13.703\u001b[0m | \u001b[1mINFO    \u001b[0m | \u001b[36msrc.fed_imp.sub_modules.server.base_server\u001b[0m:\u001b[36mrun\u001b[0m:\u001b[36m178\u001b[0m - \u001b[1mFL finished in 249.8405899000354\u001b[0m\n"
     ]
    },
    {
     "name": "stdout",
     "output_type": "stream",
     "text": [
      "{'imp@rmse': 0.051636093824684905, 'imp@ws': 0.41333302591909077, 'imp@sliced_ws': 0.008128932137486366}\n",
      "=============================================================\n",
      "(20000, 51)\n",
      "mortality\n",
      "0    14556\n",
      "1     5444\n",
      "Name: count, dtype: int64\n",
      "(18000, 51) (2000, 51)\n",
      "(18000, 51)\n",
      "sample-evenly {}\n",
      "['mnar_quantile_left@0.5', 'mnar_quantile_left@0.5', 'mnar_quantile_left@0.5', 'mnar_quantile_left@0.5', 'mnar_quantile_left@0.5', 'mnar_quantile_left@0.5', 'mnar_quantile_left@0.5', 'mnar_quantile_left@0.5', 'mnar_quantile_left@0.5', 'mnar_quantile_left@0.5', 'mnar_quantile_right@0.5']\n"
     ]
    },
    {
     "name": "stderr",
     "output_type": "stream",
     "text": [
      "\u001b[32m2023-08-23 09:37:16.815\u001b[0m | \u001b[1mINFO    \u001b[0m | \u001b[36msrc.fed_imp.sub_modules.server.base_server\u001b[0m:\u001b[36mrun\u001b[0m:\u001b[36m148\u001b[0m - \u001b[1m==================================================\u001b[0m\n",
      "\u001b[32m2023-08-23 09:37:16.816\u001b[0m | \u001b[1mINFO    \u001b[0m | \u001b[36msrc.fed_imp.sub_modules.server.base_server\u001b[0m:\u001b[36mrun\u001b[0m:\u001b[36m149\u001b[0m - \u001b[1mImputation Round 1\u001b[0m\n",
      "\u001b[32m2023-08-23 09:39:08.298\u001b[0m | \u001b[1mINFO    \u001b[0m | \u001b[36msrc.fed_imp.sub_modules.server.base_server\u001b[0m:\u001b[36mrun\u001b[0m:\u001b[36m148\u001b[0m - \u001b[1m==================================================\u001b[0m\n",
      "\u001b[32m2023-08-23 09:39:08.299\u001b[0m | \u001b[1mINFO    \u001b[0m | \u001b[36msrc.fed_imp.sub_modules.server.base_server\u001b[0m:\u001b[36mrun\u001b[0m:\u001b[36m149\u001b[0m - \u001b[1mImputation Round 10\u001b[0m\n",
      "\u001b[32m2023-08-23 09:41:15.866\u001b[0m | \u001b[1mINFO    \u001b[0m | \u001b[36msrc.fed_imp.sub_modules.server.base_server\u001b[0m:\u001b[36mrun\u001b[0m:\u001b[36m148\u001b[0m - \u001b[1m==================================================\u001b[0m\n",
      "\u001b[32m2023-08-23 09:41:15.866\u001b[0m | \u001b[1mINFO    \u001b[0m | \u001b[36msrc.fed_imp.sub_modules.server.base_server\u001b[0m:\u001b[36mrun\u001b[0m:\u001b[36m149\u001b[0m - \u001b[1mImputation Round 20\u001b[0m\n",
      "\u001b[32m2023-08-23 09:41:29.072\u001b[0m | \u001b[1mINFO    \u001b[0m | \u001b[36msrc.fed_imp.sub_modules.server.base_server\u001b[0m:\u001b[36mrun\u001b[0m:\u001b[36m178\u001b[0m - \u001b[1mFL finished in 254.92458460002672\u001b[0m\n"
     ]
    },
    {
     "name": "stdout",
     "output_type": "stream",
     "text": [
      "{'imp@rmse': 0.05165635451728335, 'imp@ws': 0.41319585527379504, 'imp@sliced_ws': 0.008142314277959533}\n"
     ]
    }
   ],
   "source": [
    "params = { \"client_thres\": 1.0, \"alpha\": 0.9, \"beta\": 0.1, 'scale_factor': 3}\n",
    "\n",
    "for client_thres in [0.2,0.4,0.6,0.8,1.0]:\n",
    "    print(\"=============================================================\")\n",
    "    params['client_thres'] = client_thres\n",
    "        \n",
    "    run_impute('fedmechw', params, 'mimiciii_mo2')"
   ]
  },
  {
   "cell_type": "code",
   "execution_count": 35,
   "metadata": {},
   "outputs": [
    {
     "name": "stdout",
     "output_type": "stream",
     "text": [
      "=============================================================\n",
      "(20000, 51)\n",
      "mortality\n",
      "0    14556\n",
      "1     5444\n",
      "Name: count, dtype: int64\n",
      "(18000, 51) (2000, 51)\n",
      "(18000, 51)\n",
      "sample-evenly {}\n",
      "['mnar_quantile_left@0.5', 'mnar_quantile_left@0.5', 'mnar_quantile_left@0.5', 'mnar_quantile_left@0.5', 'mnar_quantile_left@0.5', 'mnar_quantile_left@0.5', 'mnar_quantile_left@0.5', 'mnar_quantile_left@0.5', 'mnar_quantile_left@0.5', 'mnar_quantile_left@0.5', 'mnar_quantile_right@0.5']\n"
     ]
    },
    {
     "name": "stderr",
     "output_type": "stream",
     "text": [
      "\u001b[32m2023-08-23 08:54:07.565\u001b[0m | \u001b[1mINFO    \u001b[0m | \u001b[36msrc.fed_imp.sub_modules.server.base_server\u001b[0m:\u001b[36mrun\u001b[0m:\u001b[36m148\u001b[0m - \u001b[1m==================================================\u001b[0m\n",
      "\u001b[32m2023-08-23 08:54:07.566\u001b[0m | \u001b[1mINFO    \u001b[0m | \u001b[36msrc.fed_imp.sub_modules.server.base_server\u001b[0m:\u001b[36mrun\u001b[0m:\u001b[36m149\u001b[0m - \u001b[1mImputation Round 1\u001b[0m\n",
      "\u001b[32m2023-08-23 08:56:12.684\u001b[0m | \u001b[1mINFO    \u001b[0m | \u001b[36msrc.fed_imp.sub_modules.server.base_server\u001b[0m:\u001b[36mrun\u001b[0m:\u001b[36m148\u001b[0m - \u001b[1m==================================================\u001b[0m\n",
      "\u001b[32m2023-08-23 08:56:12.685\u001b[0m | \u001b[1mINFO    \u001b[0m | \u001b[36msrc.fed_imp.sub_modules.server.base_server\u001b[0m:\u001b[36mrun\u001b[0m:\u001b[36m149\u001b[0m - \u001b[1mImputation Round 10\u001b[0m\n",
      "\u001b[32m2023-08-23 08:58:28.079\u001b[0m | \u001b[1mINFO    \u001b[0m | \u001b[36msrc.fed_imp.sub_modules.server.base_server\u001b[0m:\u001b[36mrun\u001b[0m:\u001b[36m148\u001b[0m - \u001b[1m==================================================\u001b[0m\n",
      "\u001b[32m2023-08-23 08:58:28.080\u001b[0m | \u001b[1mINFO    \u001b[0m | \u001b[36msrc.fed_imp.sub_modules.server.base_server\u001b[0m:\u001b[36mrun\u001b[0m:\u001b[36m149\u001b[0m - \u001b[1mImputation Round 20\u001b[0m\n",
      "\u001b[32m2023-08-23 08:58:41.730\u001b[0m | \u001b[1mINFO    \u001b[0m | \u001b[36msrc.fed_imp.sub_modules.server.base_server\u001b[0m:\u001b[36mrun\u001b[0m:\u001b[36m178\u001b[0m - \u001b[1mFL finished in 276.8815225000726\u001b[0m\n"
     ]
    },
    {
     "name": "stdout",
     "output_type": "stream",
     "text": [
      "{'imp@rmse': 0.06021078491422165, 'imp@ws': 0.5890107334061735, 'imp@sliced_ws': 0.019744459539088266}\n",
      "=============================================================\n",
      "(20000, 51)\n",
      "mortality\n",
      "0    14556\n",
      "1     5444\n",
      "Name: count, dtype: int64\n",
      "(18000, 51) (2000, 51)\n",
      "(18000, 51)\n",
      "sample-evenly {}\n",
      "['mnar_quantile_left@0.5', 'mnar_quantile_left@0.5', 'mnar_quantile_left@0.5', 'mnar_quantile_left@0.5', 'mnar_quantile_left@0.5', 'mnar_quantile_left@0.5', 'mnar_quantile_left@0.5', 'mnar_quantile_left@0.5', 'mnar_quantile_left@0.5', 'mnar_quantile_left@0.5', 'mnar_quantile_right@0.5']\n"
     ]
    },
    {
     "name": "stderr",
     "output_type": "stream",
     "text": [
      "\u001b[32m2023-08-23 08:58:44.815\u001b[0m | \u001b[1mINFO    \u001b[0m | \u001b[36msrc.fed_imp.sub_modules.server.base_server\u001b[0m:\u001b[36mrun\u001b[0m:\u001b[36m148\u001b[0m - \u001b[1m==================================================\u001b[0m\n",
      "\u001b[32m2023-08-23 08:58:44.815\u001b[0m | \u001b[1mINFO    \u001b[0m | \u001b[36msrc.fed_imp.sub_modules.server.base_server\u001b[0m:\u001b[36mrun\u001b[0m:\u001b[36m149\u001b[0m - \u001b[1mImputation Round 1\u001b[0m\n",
      "\u001b[32m2023-08-23 09:00:34.020\u001b[0m | \u001b[1mINFO    \u001b[0m | \u001b[36msrc.fed_imp.sub_modules.server.base_server\u001b[0m:\u001b[36mrun\u001b[0m:\u001b[36m148\u001b[0m - \u001b[1m==================================================\u001b[0m\n",
      "\u001b[32m2023-08-23 09:00:34.021\u001b[0m | \u001b[1mINFO    \u001b[0m | \u001b[36msrc.fed_imp.sub_modules.server.base_server\u001b[0m:\u001b[36mrun\u001b[0m:\u001b[36m149\u001b[0m - \u001b[1mImputation Round 10\u001b[0m\n",
      "\u001b[32m2023-08-23 09:02:42.150\u001b[0m | \u001b[1mINFO    \u001b[0m | \u001b[36msrc.fed_imp.sub_modules.server.base_server\u001b[0m:\u001b[36mrun\u001b[0m:\u001b[36m148\u001b[0m - \u001b[1m==================================================\u001b[0m\n",
      "\u001b[32m2023-08-23 09:02:42.151\u001b[0m | \u001b[1mINFO    \u001b[0m | \u001b[36msrc.fed_imp.sub_modules.server.base_server\u001b[0m:\u001b[36mrun\u001b[0m:\u001b[36m149\u001b[0m - \u001b[1mImputation Round 20\u001b[0m\n",
      "\u001b[32m2023-08-23 09:02:55.569\u001b[0m | \u001b[1mINFO    \u001b[0m | \u001b[36msrc.fed_imp.sub_modules.server.base_server\u001b[0m:\u001b[36mrun\u001b[0m:\u001b[36m178\u001b[0m - \u001b[1mFL finished in 253.38098040001933\u001b[0m\n"
     ]
    },
    {
     "name": "stdout",
     "output_type": "stream",
     "text": [
      "{'imp@rmse': 0.05167819946915961, 'imp@ws': 0.4119608649272319, 'imp@sliced_ws': 0.008191949479345735}\n",
      "=============================================================\n",
      "(20000, 51)\n",
      "mortality\n",
      "0    14556\n",
      "1     5444\n",
      "Name: count, dtype: int64\n",
      "(18000, 51) (2000, 51)\n",
      "(18000, 51)\n",
      "sample-evenly {}\n",
      "['mnar_quantile_left@0.5', 'mnar_quantile_left@0.5', 'mnar_quantile_left@0.5', 'mnar_quantile_left@0.5', 'mnar_quantile_left@0.5', 'mnar_quantile_left@0.5', 'mnar_quantile_left@0.5', 'mnar_quantile_left@0.5', 'mnar_quantile_left@0.5', 'mnar_quantile_left@0.5', 'mnar_quantile_right@0.5']\n"
     ]
    },
    {
     "name": "stderr",
     "output_type": "stream",
     "text": [
      "\u001b[32m2023-08-23 09:02:58.667\u001b[0m | \u001b[1mINFO    \u001b[0m | \u001b[36msrc.fed_imp.sub_modules.server.base_server\u001b[0m:\u001b[36mrun\u001b[0m:\u001b[36m148\u001b[0m - \u001b[1m==================================================\u001b[0m\n",
      "\u001b[32m2023-08-23 09:02:58.667\u001b[0m | \u001b[1mINFO    \u001b[0m | \u001b[36msrc.fed_imp.sub_modules.server.base_server\u001b[0m:\u001b[36mrun\u001b[0m:\u001b[36m149\u001b[0m - \u001b[1mImputation Round 1\u001b[0m\n",
      "\u001b[32m2023-08-23 09:04:48.852\u001b[0m | \u001b[1mINFO    \u001b[0m | \u001b[36msrc.fed_imp.sub_modules.server.base_server\u001b[0m:\u001b[36mrun\u001b[0m:\u001b[36m148\u001b[0m - \u001b[1m==================================================\u001b[0m\n",
      "\u001b[32m2023-08-23 09:04:48.853\u001b[0m | \u001b[1mINFO    \u001b[0m | \u001b[36msrc.fed_imp.sub_modules.server.base_server\u001b[0m:\u001b[36mrun\u001b[0m:\u001b[36m149\u001b[0m - \u001b[1mImputation Round 10\u001b[0m\n",
      "\u001b[32m2023-08-23 09:06:55.822\u001b[0m | \u001b[1mINFO    \u001b[0m | \u001b[36msrc.fed_imp.sub_modules.server.base_server\u001b[0m:\u001b[36mrun\u001b[0m:\u001b[36m148\u001b[0m - \u001b[1m==================================================\u001b[0m\n",
      "\u001b[32m2023-08-23 09:06:55.822\u001b[0m | \u001b[1mINFO    \u001b[0m | \u001b[36msrc.fed_imp.sub_modules.server.base_server\u001b[0m:\u001b[36mrun\u001b[0m:\u001b[36m149\u001b[0m - \u001b[1mImputation Round 20\u001b[0m\n",
      "\u001b[32m2023-08-23 09:07:08.374\u001b[0m | \u001b[1mINFO    \u001b[0m | \u001b[36msrc.fed_imp.sub_modules.server.base_server\u001b[0m:\u001b[36mrun\u001b[0m:\u001b[36m178\u001b[0m - \u001b[1mFL finished in 252.3397326999111\u001b[0m\n"
     ]
    },
    {
     "name": "stdout",
     "output_type": "stream",
     "text": [
      "{'imp@rmse': 0.05165832137345263, 'imp@ws': 0.41320749290067915, 'imp@sliced_ws': 0.008143773224991798}\n",
      "=============================================================\n",
      "(20000, 51)\n",
      "mortality\n",
      "0    14556\n",
      "1     5444\n",
      "Name: count, dtype: int64\n",
      "(18000, 51) (2000, 51)\n",
      "(18000, 51)\n",
      "sample-evenly {}\n",
      "['mnar_quantile_left@0.5', 'mnar_quantile_left@0.5', 'mnar_quantile_left@0.5', 'mnar_quantile_left@0.5', 'mnar_quantile_left@0.5', 'mnar_quantile_left@0.5', 'mnar_quantile_left@0.5', 'mnar_quantile_left@0.5', 'mnar_quantile_left@0.5', 'mnar_quantile_left@0.5', 'mnar_quantile_right@0.5']\n"
     ]
    },
    {
     "name": "stderr",
     "output_type": "stream",
     "text": [
      "\u001b[32m2023-08-23 09:07:11.483\u001b[0m | \u001b[1mINFO    \u001b[0m | \u001b[36msrc.fed_imp.sub_modules.server.base_server\u001b[0m:\u001b[36mrun\u001b[0m:\u001b[36m148\u001b[0m - \u001b[1m==================================================\u001b[0m\n",
      "\u001b[32m2023-08-23 09:07:11.484\u001b[0m | \u001b[1mINFO    \u001b[0m | \u001b[36msrc.fed_imp.sub_modules.server.base_server\u001b[0m:\u001b[36mrun\u001b[0m:\u001b[36m149\u001b[0m - \u001b[1mImputation Round 1\u001b[0m\n",
      "\u001b[32m2023-08-23 09:08:58.911\u001b[0m | \u001b[1mINFO    \u001b[0m | \u001b[36msrc.fed_imp.sub_modules.server.base_server\u001b[0m:\u001b[36mrun\u001b[0m:\u001b[36m148\u001b[0m - \u001b[1m==================================================\u001b[0m\n",
      "\u001b[32m2023-08-23 09:08:58.912\u001b[0m | \u001b[1mINFO    \u001b[0m | \u001b[36msrc.fed_imp.sub_modules.server.base_server\u001b[0m:\u001b[36mrun\u001b[0m:\u001b[36m149\u001b[0m - \u001b[1mImputation Round 10\u001b[0m\n",
      "\u001b[32m2023-08-23 09:11:09.679\u001b[0m | \u001b[1mINFO    \u001b[0m | \u001b[36msrc.fed_imp.sub_modules.server.base_server\u001b[0m:\u001b[36mrun\u001b[0m:\u001b[36m148\u001b[0m - \u001b[1m==================================================\u001b[0m\n",
      "\u001b[32m2023-08-23 09:11:09.681\u001b[0m | \u001b[1mINFO    \u001b[0m | \u001b[36msrc.fed_imp.sub_modules.server.base_server\u001b[0m:\u001b[36mrun\u001b[0m:\u001b[36m149\u001b[0m - \u001b[1mImputation Round 20\u001b[0m\n",
      "\u001b[32m2023-08-23 09:11:22.658\u001b[0m | \u001b[1mINFO    \u001b[0m | \u001b[36msrc.fed_imp.sub_modules.server.base_server\u001b[0m:\u001b[36mrun\u001b[0m:\u001b[36m178\u001b[0m - \u001b[1mFL finished in 253.80522929993458\u001b[0m\n"
     ]
    },
    {
     "name": "stdout",
     "output_type": "stream",
     "text": [
      "{'imp@rmse': 0.05166375816515767, 'imp@ws': 0.41319301571493877, 'imp@sliced_ws': 0.008149856205004828}\n",
      "=============================================================\n",
      "(20000, 51)\n",
      "mortality\n",
      "0    14556\n",
      "1     5444\n",
      "Name: count, dtype: int64\n",
      "(18000, 51) (2000, 51)\n",
      "(18000, 51)\n",
      "sample-evenly {}\n",
      "['mnar_quantile_left@0.5', 'mnar_quantile_left@0.5', 'mnar_quantile_left@0.5', 'mnar_quantile_left@0.5', 'mnar_quantile_left@0.5', 'mnar_quantile_left@0.5', 'mnar_quantile_left@0.5', 'mnar_quantile_left@0.5', 'mnar_quantile_left@0.5', 'mnar_quantile_left@0.5', 'mnar_quantile_right@0.5']\n"
     ]
    },
    {
     "name": "stderr",
     "output_type": "stream",
     "text": [
      "\u001b[32m2023-08-23 09:11:25.801\u001b[0m | \u001b[1mINFO    \u001b[0m | \u001b[36msrc.fed_imp.sub_modules.server.base_server\u001b[0m:\u001b[36mrun\u001b[0m:\u001b[36m148\u001b[0m - \u001b[1m==================================================\u001b[0m\n",
      "\u001b[32m2023-08-23 09:11:25.802\u001b[0m | \u001b[1mINFO    \u001b[0m | \u001b[36msrc.fed_imp.sub_modules.server.base_server\u001b[0m:\u001b[36mrun\u001b[0m:\u001b[36m149\u001b[0m - \u001b[1mImputation Round 1\u001b[0m\n",
      "\u001b[32m2023-08-23 09:13:17.554\u001b[0m | \u001b[1mINFO    \u001b[0m | \u001b[36msrc.fed_imp.sub_modules.server.base_server\u001b[0m:\u001b[36mrun\u001b[0m:\u001b[36m148\u001b[0m - \u001b[1m==================================================\u001b[0m\n",
      "\u001b[32m2023-08-23 09:13:17.555\u001b[0m | \u001b[1mINFO    \u001b[0m | \u001b[36msrc.fed_imp.sub_modules.server.base_server\u001b[0m:\u001b[36mrun\u001b[0m:\u001b[36m149\u001b[0m - \u001b[1mImputation Round 10\u001b[0m\n",
      "\u001b[32m2023-08-23 09:15:27.428\u001b[0m | \u001b[1mINFO    \u001b[0m | \u001b[36msrc.fed_imp.sub_modules.server.base_server\u001b[0m:\u001b[36mrun\u001b[0m:\u001b[36m148\u001b[0m - \u001b[1m==================================================\u001b[0m\n",
      "\u001b[32m2023-08-23 09:15:27.429\u001b[0m | \u001b[1mINFO    \u001b[0m | \u001b[36msrc.fed_imp.sub_modules.server.base_server\u001b[0m:\u001b[36mrun\u001b[0m:\u001b[36m149\u001b[0m - \u001b[1mImputation Round 20\u001b[0m\n",
      "\u001b[32m2023-08-23 09:15:40.271\u001b[0m | \u001b[1mINFO    \u001b[0m | \u001b[36msrc.fed_imp.sub_modules.server.base_server\u001b[0m:\u001b[36mrun\u001b[0m:\u001b[36m178\u001b[0m - \u001b[1mFL finished in 257.15209810005035\u001b[0m\n"
     ]
    },
    {
     "name": "stdout",
     "output_type": "stream",
     "text": [
      "{'imp@rmse': 0.05167047287157184, 'imp@ws': 0.41318864728681126, 'imp@sliced_ws': 0.008159208246406414}\n"
     ]
    }
   ],
   "source": [
    "params = { \"client_thres\": 1.0, \"alpha\": 0.9, \"beta\": 0.1, 'scale_factor': 1}\n",
    "\n",
    "for scale_factor in [1,2,4,6,8]:\n",
    "    print(\"=============================================================\")\n",
    "    params['scale_factor'] = scale_factor\n",
    "    run_impute('fedmechw', params, 'mimiciii_mo2')"
   ]
  }
 ],
 "metadata": {
  "kernelspec": {
   "display_name": "Python 3",
   "language": "python",
   "name": "python3"
  },
  "language_info": {
   "codemirror_mode": {
    "name": "ipython",
    "version": 3
   },
   "file_extension": ".py",
   "mimetype": "text/x-python",
   "name": "python",
   "nbconvert_exporter": "python",
   "pygments_lexer": "ipython3",
   "version": "3.10.10"
  },
  "orig_nbformat": 4
 },
 "nbformat": 4,
 "nbformat_minor": 2
}
