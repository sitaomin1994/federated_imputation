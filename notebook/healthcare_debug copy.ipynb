{
 "cells": [
  {
   "cell_type": "code",
   "execution_count": 1,
   "metadata": {},
   "outputs": [
    {
     "name": "stdout",
     "output_type": "stream",
     "text": [
      "m:\\OneDrive\\Projects\\federated_imputation_pc2\n"
     ]
    }
   ],
   "source": [
    "cd .."
   ]
  },
  {
   "cell_type": "markdown",
   "metadata": {},
   "source": [
    "## Loading"
   ]
  },
  {
   "cell_type": "code",
   "execution_count": 2,
   "metadata": {},
   "outputs": [],
   "source": [
    "%load_ext autoreload\n",
    "%autoreload\n",
    "import copy\n",
    "import matplotlib.pyplot as plt\n",
    "import seaborn as sns\n",
    "import pandas as pd\n",
    "import numpy as np\n",
    "import random\n",
    "from sklearn.neural_network import MLPClassifier\n",
    "from sklearn.linear_model import LogisticRegression\n",
    "from sklearn.ensemble import RandomForestClassifier\n",
    "from sklearn import metrics\n",
    "from dython.nominal import correlation_ratio\n",
    "import missingno as msno\n",
    "from src.fed_imp.sub_modules.missing_simulate.missing_adder_new import simulate_nan_new\n",
    "from src.modules.evaluation.imputation_quality import rmse, ws_cols, sliced_ws"
   ]
  },
  {
   "cell_type": "code",
   "execution_count": 9,
   "metadata": {},
   "outputs": [],
   "source": [
    "experiment_config_template = {\n",
    "  \"num_clients\": 10,\n",
    "  \"data\": {\n",
    "    \"dataset_name\": \"codrna\",\n",
    "    \"normalize\": True,\n",
    "  },\n",
    "  \"handle_imbalance\": None,\n",
    "  \"data_partition\": {\n",
    "    \"strategy\": 'sample-evenly',\n",
    "    \"params\": {}\n",
    "  },\n",
    "  \"missing_simulate\": {\n",
    "    \"mr_strategy\": \"random\",\n",
    "    \"mf_strategy\": \"all\",\n",
    "    \"mm_strategy\": \"single@m=1\",\n",
    "    \"mm_strategy_new\": \"\"\n",
    "  },\n",
    "  \"imputation\": {\n",
    "    \"initial_strategy\": \"mean\",\n",
    "    \"clip\": True,\n",
    "    \"imp_model_params\":{\n",
    "      \"loss_alpha\": 10,\n",
    "    },\n",
    "    \"imp_params\":{\n",
    "      \"lr\": 1e-3,\n",
    "      \"batch_size\": 256,\n",
    "      \"weight_decay\": 0.0001, \n",
    "      \"hint_rate\": 0.3,\n",
    "      \"loss_alpha\": 10, \n",
    "      \"optimizer\": \"adam\"\n",
    "    }\n",
    "  },\n",
    "  \"agg_strategy_imp\": {\n",
    "    \"strategy\": 'local_gain',\n",
    "    \"params\": {\n",
    "      \"ms_field\": \"missing_cell_pct\",\n",
    "      \"beta\": 0.7\n",
    "    }\n",
    "  },\n",
    "  \"client_type\": \"gain\",\n",
    "  \"server_type\": \"gain\",\n",
    "  \"server\": {\n",
    "    \"impute_round\": 600,\n",
    "    \"imp_local_epochs\": 5,\n",
    "    \"pred_round\": 0,\n",
    "    \"pred_local_epochs\": 0,\n",
    "    \"verbose\": 5\n",
    "  },\n",
    "  \"pred_model\": {\n",
    "    \"model_params\": {\n",
    "      \"model\": \"2nn\",\n",
    "      \"num_hiddens\": 32,\n",
    "      \"model_init_config\": None,\n",
    "      \"model_other_params\": None\n",
    "    },\n",
    "    \"train_params\": {\n",
    "      \"batch_size\": 128,\n",
    "      \"learning_rate\": 0.001,\n",
    "      \"weight_decay\": 0.0000,\n",
    "      \"pred_round\": 200,\n",
    "      \"pred_local_epochs\": 3\n",
    "    }\n",
    "  },\n",
    "  \"experiment\": {\n",
    "    \"n_rounds\": 1,\n",
    "    \"seed\": 102931466,\n",
    "    \"mtp\": False,\n",
    "    \"random_seed\": 50,\n",
    "    \"num_process\": 3,\n",
    "    \"test_size\": 0.1,\n",
    "    \"track\": True\n",
    "  },\n",
    "  \"tune_params\": False,\n",
    "  \"track\": False,\n",
    "  \"prediction\": False,\n",
    "  \"save_state\": False,\n",
    "  \"test_size\": 0.1,\n",
    "  \"algo_params\": {\n",
    "    \"central\": {},\n",
    "    \"central2\": {},\n",
    "    \"central_vae\": {},\n",
    "    \"central_gain\": {},\n",
    "    \"local\": {},\n",
    "    \"local_vae\": {},\n",
    "    \"local_gain\": {},\n",
    "    \"fedavg-s\": {},\n",
    "    \"fedavg_vae\": {},\n",
    "    \"fedavg_gain\": {},\n",
    "    \"fedavg\": {},\n",
    "    \"fedwavg\": {\n",
    "      \"alpha\": 0.9\n",
    "    },\n",
    "    \"fedmechw\": {\n",
    "      \"client_thres\": 1.0,\n",
    "      \"alpha\": 1.0,\n",
    "      \"beta\": 0.0\n",
    "    },\n",
    "    \"fedmechclw\": {\n",
    "      \"client_thres\": 0.2,\n",
    "      \"thres1\": 0.2,\n",
    "      \"alpha\": 0.5\n",
    "    },\n",
    "    'testavg':{\n",
    "        \n",
    "    },\n",
    "    'testavg2':{\n",
    "        \n",
    "    },\n",
    "    'testavg3':{\n",
    "        \n",
    "    },\n",
    "    \"scale_factor\": 4\n",
    "  }\n",
    "}\n",
    "\n",
    "server_config_tmpl = {\n",
    "    \"server_name\": 'fedavg_mlp_pytorch_pred',\n",
    "    \"server_pred_config\": {\n",
    "        \"model_params\": {\n",
    "            \"model\": \"2nn\",\n",
    "            \"num_hiddens\": 128,\n",
    "            \"model_init_config\": None,\n",
    "            \"model_other_params\": None\n",
    "        },\n",
    "        \"train_params\": {\n",
    "            \"batch_size\": 300,\n",
    "            \"learning_rate\": 0.001,\n",
    "            \"weight_decay\": 0.0,\n",
    "            \"pred_round\": 1000,\n",
    "            \"pred_local_epochs\": 5,\n",
    "            'local_epoch': 5,\n",
    "            'sample_pct': 1\n",
    "        }\n",
    "    },\n",
    "    \"server_config\": {\n",
    "        'pred_rounds': 1,\n",
    "        'seed': 21\n",
    "    }\n",
    "}"
   ]
  },
  {
   "cell_type": "code",
   "execution_count": 10,
   "metadata": {},
   "outputs": [],
   "source": [
    "trackers = {}\n",
    "rets ={}\n",
    "mr_strategy = 'fixed@mr=0.5'"
   ]
  },
  {
   "cell_type": "code",
   "execution_count": 11,
   "metadata": {},
   "outputs": [
    {
     "name": "stdout",
     "output_type": "stream",
     "text": [
      "MY_VAR =  :4096:8\n"
     ]
    }
   ],
   "source": [
    "import dotenv\n",
    "import os\n",
    "\n",
    "# Reload the variables in your '.env' file (override the existing variables)\n",
    "dotenv.load_dotenv(\".env\", override=True)\n",
    "\n",
    "print('MY_VAR = ', os.environ.get('CUBLAS_WORKSPACE_CONFIG')) # MY_VAR = HELLO_BOB"
   ]
  },
  {
   "cell_type": "code",
   "execution_count": 14,
   "metadata": {},
   "outputs": [
    {
     "name": "stdout",
     "output_type": "stream",
     "text": [
      "The autoreload extension is already loaded. To reload it, use:\n",
      "  %reload_ext autoreload\n",
      "The dotenv extension is already loaded. To reload it, use:\n",
      "  %reload_ext dotenv\n",
      "{'num_clients': 10, 'data': {'dataset_name': 'codrna', 'normalize': True}, 'handle_imbalance': None, 'data_partition': {'strategy': 'sample-evenly', 'params': {}}, 'missing_simulate': {'mr_strategy': 'random', 'mf_strategy': 'all', 'mm_strategy': 'single@m=1', 'mm_strategy_new': ''}, 'imputation': {'initial_strategy': 'mean', 'clip': True, 'imp_model_params': {'loss_alpha': 10, 'h_dim': 8}, 'imp_params': {'lr': 0.001, 'batch_size': 256, 'weight_decay': 0.0001, 'hint_rate': 0.3, 'loss_alpha': 10, 'optimizer': 'adam', 'clip': True}}, 'agg_strategy_imp': {'strategy': 'local_gain', 'params': {'ms_field': 'missing_cell_pct', 'beta': 0.7}}, 'client_type': 'gain', 'server_type': 'gain', 'server': {'impute_round': 600, 'imp_local_epochs': 5, 'pred_round': 0, 'pred_local_epochs': 0, 'verbose': 5, 'n_cols': 8}, 'pred_model': {'model_params': {'model': '2nn', 'num_hiddens': 32, 'model_init_config': None, 'model_other_params': None, 'input_feature_dim': 8, 'output_classes_dim': 2}, 'train_params': {'batch_size': 128, 'learning_rate': 0.001, 'weight_decay': 0.0, 'pred_round': 200, 'pred_local_epochs': 3}}, 'experiment': {'n_rounds': 1, 'seed': 102931466, 'mtp': False, 'random_seed': 50, 'num_process': 3, 'test_size': 0.1, 'track': True}, 'tune_params': False, 'track': False, 'prediction': False, 'save_state': False, 'test_size': 0.1, 'algo_params': {'central': {}, 'central2': {}, 'central_vae': {}, 'central_gain': {}, 'local': {}, 'local_vae': {}, 'local_gain': {}, 'fedavg-s': {}, 'fedavg_vae': {}, 'fedavg_gain': {}, 'fedavg': {}, 'fedwavg': {'alpha': 0.9}, 'fedmechw': {'client_thres': 1.0, 'alpha': 1.0, 'beta': 0.0}, 'fedmechclw': {'client_thres': 0.2, 'thres1': 0.2, 'alpha': 0.5}, 'testavg': {}, 'testavg2': {}, 'testavg3': {}, 'scale_factor': 4}}\n"
     ]
    },
    {
     "name": "stderr",
     "output_type": "stream",
     "text": [
      "\u001b[32m2024-05-14 16:21:44.460\u001b[0m | \u001b[1mINFO    \u001b[0m | \u001b[36msrc.fed_imp.experiment\u001b[0m:\u001b[36mmain_func\u001b[0m:\u001b[36m31\u001b[0m - \u001b[1mRound 0\u001b[0m\n"
     ]
    },
    {
     "name": "stdout",
     "output_type": "stream",
     "text": [
      "(18000, 9)\n",
      "sample-evenly {}\n",
      "['mcar@0.5038779294458209', 'mcar@0.5489826094231575', 'mcar@0.36323746467048146', 'mcar@0.49527322553523556', 'mcar@0.3474779809125788', 'mcar@0.6390912066453927', 'mcar@0.3852361537062045', 'mcar@0.5255241291045322', 'mcar@0.6278036464868088', 'mcar@0.46087350917459124']\n",
      "Adding missing to client 0 ...\n",
      "Adding missing to client 1 ...\n",
      "Adding missing to client 2 ...\n",
      "Adding missing to client 3 ...\n",
      "Adding missing to client 4 ...\n",
      "Adding missing to client 5 ...\n",
      "Adding missing to client 6 ...\n",
      "Adding missing to client 7 ...\n",
      "Adding missing to client 8 ...\n",
      "Adding missing to client 9 ...\n",
      "Used default params: {}\n"
     ]
    },
    {
     "name": "stderr",
     "output_type": "stream",
     "text": [
      "\u001b[32m2024-05-14 16:21:47.063\u001b[0m | \u001b[1mINFO    \u001b[0m | \u001b[36msrc.fed_imp.sub_modules.server.server_gain\u001b[0m:\u001b[36mrun\u001b[0m:\u001b[36m124\u001b[0m - \u001b[1mServer Round: 0 avg_rmse: 0.16871070020088455\u001b[0m\n",
      "  0%|          | 0/100 [00:00<?, ?it/s]\u001b[32m2024-05-14 16:21:47.066\u001b[0m | \u001b[1mINFO    \u001b[0m | \u001b[36msrc.fed_imp.sub_modules.server.server_gain\u001b[0m:\u001b[36mrun\u001b[0m:\u001b[36m133\u001b[0m - \u001b[1m==================================================\u001b[0m\n",
      "\u001b[32m2024-05-14 16:21:47.066\u001b[0m | \u001b[1mINFO    \u001b[0m | \u001b[36msrc.fed_imp.sub_modules.server.server_gain\u001b[0m:\u001b[36mrun\u001b[0m:\u001b[36m134\u001b[0m - \u001b[1mImputation Round 1\u001b[0m\n",
      "\u001b[32m2024-05-14 16:21:49.864\u001b[0m | \u001b[1mINFO    \u001b[0m | \u001b[36msrc.fed_imp.sub_modules.server.server_gain\u001b[0m:\u001b[36m_run_round_impute\u001b[0m:\u001b[36m281\u001b[0m - \u001b[1mServer Round: 1 avg_rmse: 0.20058438613754048 avg_g_loss: 0.7695252840975696 avg_d_loss: 0.7157310402393342\u001b[0m\n",
      "  1%|          | 1/100 [00:02<04:37,  2.80s/it]\u001b[32m2024-05-14 16:21:52.625\u001b[0m | \u001b[1mINFO    \u001b[0m | \u001b[36msrc.fed_imp.sub_modules.server.server_gain\u001b[0m:\u001b[36m_run_round_impute\u001b[0m:\u001b[36m281\u001b[0m - \u001b[1mServer Round: 2 avg_rmse: 0.19777781115251508 avg_g_loss: 0.7532542966307848 avg_d_loss: 0.712318103313446\u001b[0m\n",
      "  2%|▏         | 2/100 [00:05<04:32,  2.78s/it]\u001b[32m2024-05-14 16:21:55.401\u001b[0m | \u001b[1mINFO    \u001b[0m | \u001b[36msrc.fed_imp.sub_modules.server.server_gain\u001b[0m:\u001b[36m_run_round_impute\u001b[0m:\u001b[36m281\u001b[0m - \u001b[1mServer Round: 3 avg_rmse: 0.19524146019298533 avg_g_loss: 0.7352131797318502 avg_d_loss: 0.7075246453285218\u001b[0m\n",
      "  3%|▎         | 3/100 [00:08<04:29,  2.78s/it]\u001b[32m2024-05-14 16:21:58.180\u001b[0m | \u001b[1mINFO    \u001b[0m | \u001b[36msrc.fed_imp.sub_modules.server.server_gain\u001b[0m:\u001b[36m_run_round_impute\u001b[0m:\u001b[36m281\u001b[0m - \u001b[1mServer Round: 4 avg_rmse: 0.19295613789581495 avg_g_loss: 0.7192948250313101 avg_d_loss: 0.7048356771469115\u001b[0m\n",
      "  4%|▍         | 4/100 [00:11<04:26,  2.78s/it]\u001b[32m2024-05-14 16:22:00.908\u001b[0m | \u001b[1mINFO    \u001b[0m | \u001b[36msrc.fed_imp.sub_modules.server.server_gain\u001b[0m:\u001b[36m_run_round_impute\u001b[0m:\u001b[36m281\u001b[0m - \u001b[1mServer Round: 5 avg_rmse: 0.1909178919162346 avg_g_loss: 0.7080815674263081 avg_d_loss: 0.7013074123859406\u001b[0m\n",
      "  9%|▉         | 9/100 [00:14<01:10,  1.30it/s]\u001b[32m2024-05-14 16:22:04.649\u001b[0m | \u001b[1mINFO    \u001b[0m | \u001b[36msrc.fed_imp.sub_modules.server.server_gain\u001b[0m:\u001b[36m_run_round_impute\u001b[0m:\u001b[36m281\u001b[0m - \u001b[1mServer Round: 10 avg_rmse: 0.1837450713907965 avg_g_loss: 0.6622889798878526 avg_d_loss: 0.6895903134346008\u001b[0m\n",
      " 14%|█▍        | 14/100 [00:18<00:44,  1.94it/s]\u001b[32m2024-05-14 16:22:08.403\u001b[0m | \u001b[1mINFO    \u001b[0m | \u001b[36msrc.fed_imp.sub_modules.server.server_gain\u001b[0m:\u001b[36m_run_round_impute\u001b[0m:\u001b[36m281\u001b[0m - \u001b[1mServer Round: 15 avg_rmse: 0.1799013316545014 avg_g_loss: 0.6508188441141594 avg_d_loss: 0.6821139931678772\u001b[0m\n",
      " 19%|█▉        | 19/100 [00:22<00:38,  2.11it/s]\u001b[32m2024-05-14 16:22:12.150\u001b[0m | \u001b[1mINFO    \u001b[0m | \u001b[36msrc.fed_imp.sub_modules.server.server_gain\u001b[0m:\u001b[36m_run_round_impute\u001b[0m:\u001b[36m281\u001b[0m - \u001b[1mServer Round: 20 avg_rmse: 0.17760080814075732 avg_g_loss: 0.6379716694723491 avg_d_loss: 0.6770378863811494\u001b[0m\n",
      " 24%|██▍       | 24/100 [00:26<00:35,  2.16it/s]\u001b[32m2024-05-14 16:22:15.905\u001b[0m | \u001b[1mINFO    \u001b[0m | \u001b[36msrc.fed_imp.sub_modules.server.server_gain\u001b[0m:\u001b[36m_run_round_impute\u001b[0m:\u001b[36m281\u001b[0m - \u001b[1mServer Round: 25 avg_rmse: 0.17599137589947808 avg_g_loss: 0.6329169726903199 avg_d_loss: 0.6717297971248627\u001b[0m\n",
      " 29%|██▉       | 29/100 [00:29<00:32,  2.16it/s]\u001b[32m2024-05-14 16:22:19.631\u001b[0m | \u001b[1mINFO    \u001b[0m | \u001b[36msrc.fed_imp.sub_modules.server.server_gain\u001b[0m:\u001b[36m_run_round_impute\u001b[0m:\u001b[36m281\u001b[0m - \u001b[1mServer Round: 30 avg_rmse: 0.17490247286063573 avg_g_loss: 0.6239852203912069 avg_d_loss: 0.6678052043914795\u001b[0m\n",
      " 34%|███▍      | 34/100 [00:33<00:30,  2.18it/s]\u001b[32m2024-05-14 16:22:23.359\u001b[0m | \u001b[1mINFO    \u001b[0m | \u001b[36msrc.fed_imp.sub_modules.server.server_gain\u001b[0m:\u001b[36m_run_round_impute\u001b[0m:\u001b[36m281\u001b[0m - \u001b[1mServer Round: 35 avg_rmse: 0.1742541269838154 avg_g_loss: 0.6214748404371385 avg_d_loss: 0.6632706773281097\u001b[0m\n",
      " 35%|███▌      | 35/100 [00:36<01:07,  1.04s/it]\n"
     ]
    },
    {
     "ename": "KeyboardInterrupt",
     "evalue": "",
     "output_type": "error",
     "traceback": [
      "\u001b[1;31m---------------------------------------------------------------------------\u001b[0m",
      "\u001b[1;31mKeyboardInterrupt\u001b[0m                         Traceback (most recent call last)",
      "Cell \u001b[1;32mIn[14], line 8\u001b[0m\n\u001b[0;32m      5\u001b[0m \u001b[38;5;28;01mfrom\u001b[39;00m \u001b[38;5;21;01msrc\u001b[39;00m\u001b[38;5;21;01m.\u001b[39;00m\u001b[38;5;21;01mfed_imp\u001b[39;00m\u001b[38;5;21;01m.\u001b[39;00m\u001b[38;5;21;01mexperiment\u001b[39;00m \u001b[38;5;28;01mimport\u001b[39;00m Experiment\n\u001b[0;32m      7\u001b[0m exp \u001b[38;5;241m=\u001b[39m Experiment()\n\u001b[1;32m----> 8\u001b[0m \u001b[43mexp\u001b[49m\u001b[38;5;241;43m.\u001b[39;49m\u001b[43mrun_experiment\u001b[49m\u001b[43m(\u001b[49m\u001b[43mexperiment_config_template\u001b[49m\u001b[43m)\u001b[49m\n",
      "File \u001b[1;32mm:\\OneDrive\\Projects\\federated_imputation_pc2\\src\\fed_imp\\experiment.py:303\u001b[0m, in \u001b[0;36mExperiment.run_experiment\u001b[1;34m(self, configuration)\u001b[0m\n\u001b[0;32m    301\u001b[0m results \u001b[38;5;241m=\u001b[39m []\n\u001b[0;32m    302\u001b[0m \u001b[38;5;28;01mfor\u001b[39;00m \u001b[38;5;28mround\u001b[39m, seed \u001b[38;5;129;01min\u001b[39;00m \u001b[38;5;28mzip\u001b[39m(rounds, seeds):\n\u001b[1;32m--> 303\u001b[0m     rets, stat_tracker \u001b[38;5;241m=\u001b[39m \u001b[43mmain_func\u001b[49m\u001b[43m(\u001b[49m\n\u001b[0;32m    304\u001b[0m \u001b[43m        \u001b[49m\u001b[43mtrain_data\u001b[49m\u001b[43m,\u001b[49m\u001b[43m \u001b[49m\u001b[43mtest_data\u001b[49m\u001b[43m,\u001b[49m\u001b[43m \u001b[49m\u001b[43mconfiguration\u001b[49m\u001b[43m,\u001b[49m\u001b[43m \u001b[49m\u001b[43mnum_clients\u001b[49m\u001b[43m,\u001b[49m\u001b[43m \u001b[49m\u001b[43mdata_config\u001b[49m\u001b[43m,\u001b[49m\u001b[43m \u001b[49m\u001b[38;5;28;43mround\u001b[39;49m\u001b[43m,\u001b[49m\u001b[43m \u001b[49m\u001b[43mseed\u001b[49m\n\u001b[0;32m    305\u001b[0m \u001b[43m    \u001b[49m\u001b[43m)\u001b[49m\n\u001b[0;32m    306\u001b[0m     \u001b[38;5;28;01mfor\u001b[39;00m ret \u001b[38;5;129;01min\u001b[39;00m rets:\n\u001b[0;32m    307\u001b[0m         results\u001b[38;5;241m.\u001b[39mappend(ret)\n",
      "File \u001b[1;32mm:\\OneDrive\\Projects\\federated_imputation_pc2\\src\\fed_imp\\experiment.py:167\u001b[0m, in \u001b[0;36mmain_func\u001b[1;34m(train_data, test_data, configuration, num_clients, data_config, round, seed, param)\u001b[0m\n\u001b[0;32m    153\u001b[0m server \u001b[38;5;241m=\u001b[39m load_server(\n\u001b[0;32m    154\u001b[0m     server_type,\n\u001b[0;32m    155\u001b[0m     clients\u001b[38;5;241m=\u001b[39mclients,\n\u001b[1;32m   (...)\u001b[0m\n\u001b[0;32m    163\u001b[0m     persist_data\u001b[38;5;241m=\u001b[39mconfiguration[\u001b[38;5;124m'\u001b[39m\u001b[38;5;124msave_state\u001b[39m\u001b[38;5;124m'\u001b[39m],\n\u001b[0;32m    164\u001b[0m )\n\u001b[0;32m    166\u001b[0m \u001b[38;5;66;03m# return server\u001b[39;00m\n\u001b[1;32m--> 167\u001b[0m ret \u001b[38;5;241m=\u001b[39m \u001b[43mserver\u001b[49m\u001b[38;5;241;43m.\u001b[39;49m\u001b[43mrun\u001b[49m\u001b[43m(\u001b[49m\u001b[43m)\u001b[49m\n\u001b[0;32m    168\u001b[0m rets\u001b[38;5;241m.\u001b[39mappend(ret)\n\u001b[0;32m    170\u001b[0m \u001b[38;5;28;01mif\u001b[39;00m configuration[\u001b[38;5;124m'\u001b[39m\u001b[38;5;124mtrack\u001b[39m\u001b[38;5;124m'\u001b[39m]:\n",
      "File \u001b[1;32mm:\\OneDrive\\Projects\\federated_imputation_pc2\\src\\fed_imp\\sub_modules\\server\\server_gain.py:136\u001b[0m, in \u001b[0;36mServerGAIN.run\u001b[1;34m(self)\u001b[0m\n\u001b[0;32m    133\u001b[0m         logger\u001b[38;5;241m.\u001b[39minfo(\u001b[38;5;124m\"\u001b[39m\u001b[38;5;124m=\u001b[39m\u001b[38;5;124m\"\u001b[39m \u001b[38;5;241m*\u001b[39m \u001b[38;5;241m50\u001b[39m)\n\u001b[0;32m    134\u001b[0m         logger\u001b[38;5;241m.\u001b[39minfo(\u001b[38;5;124m\"\u001b[39m\u001b[38;5;124mImputation Round \u001b[39m\u001b[38;5;132;01m{}\u001b[39;00m\u001b[38;5;124m\"\u001b[39m\u001b[38;5;241m.\u001b[39mformat(current_round))\n\u001b[1;32m--> 136\u001b[0m     \u001b[38;5;28;43mself\u001b[39;49m\u001b[38;5;241;43m.\u001b[39;49m\u001b[43m_run_round_impute\u001b[49m\u001b[43m(\u001b[49m\n\u001b[0;32m    137\u001b[0m \u001b[43m        \u001b[49m\u001b[43mserver_round\u001b[49m\u001b[38;5;241;43m=\u001b[39;49m\u001b[43mcurrent_round\u001b[49m\u001b[43m,\u001b[49m\u001b[43m \u001b[49m\u001b[43mclient_imp_history\u001b[49m\u001b[38;5;241;43m=\u001b[39;49m\u001b[43mclients_imp_history\u001b[49m\n\u001b[0;32m    138\u001b[0m \u001b[43m    \u001b[49m\u001b[43m)\u001b[49m\n\u001b[0;32m    140\u001b[0m end_time \u001b[38;5;241m=\u001b[39m timeit\u001b[38;5;241m.\u001b[39mdefault_timer()\n\u001b[0;32m    141\u001b[0m elapsed \u001b[38;5;241m=\u001b[39m end_time \u001b[38;5;241m-\u001b[39m start_time\n",
      "File \u001b[1;32mm:\\OneDrive\\Projects\\federated_imputation_pc2\\src\\fed_imp\\sub_modules\\server\\server_gain.py:253\u001b[0m, in \u001b[0;36mServerGAIN._run_round_impute\u001b[1;34m(self, server_round, client_imp_history)\u001b[0m\n\u001b[0;32m    251\u001b[0m     update_weights \u001b[38;5;241m=\u001b[39m \u001b[38;5;28;01mTrue\u001b[39;00m\n\u001b[0;32m    252\u001b[0m     \u001b[38;5;28;01mfor\u001b[39;00m client_id, client \u001b[38;5;129;01min\u001b[39;00m \u001b[38;5;28mself\u001b[39m\u001b[38;5;241m.\u001b[39mclients\u001b[38;5;241m.\u001b[39mitems():\n\u001b[1;32m--> 253\u001b[0m         \u001b[43mclient\u001b[49m\u001b[38;5;241;43m.\u001b[39;49m\u001b[43mtransform\u001b[49m\u001b[43m(\u001b[49m\n\u001b[0;32m    254\u001b[0m \u001b[43m            \u001b[49m\u001b[43mtransform_task\u001b[49m\u001b[38;5;241;43m=\u001b[39;49m\u001b[38;5;124;43m'\u001b[39;49m\u001b[38;5;124;43mupdate_imp_model\u001b[39;49m\u001b[38;5;124;43m'\u001b[39;49m\u001b[43m,\u001b[49m\u001b[43m \u001b[49m\u001b[43mtransform_instruction\u001b[49m\u001b[38;5;241;43m=\u001b[39;49m\u001b[43m{\u001b[49m\u001b[38;5;124;43m'\u001b[39;49m\u001b[38;5;124;43mupdate_weights\u001b[39;49m\u001b[38;5;124;43m'\u001b[39;49m\u001b[43m:\u001b[49m\u001b[43m \u001b[49m\u001b[43mupdate_weights\u001b[49m\u001b[43m}\u001b[49m\u001b[43m,\u001b[49m\n\u001b[0;32m    255\u001b[0m \u001b[43m            \u001b[49m\u001b[43mglobal_weights\u001b[49m\u001b[38;5;241;43m=\u001b[39;49m\u001b[43maggregated_weight\u001b[49m\u001b[43m[\u001b[49m\u001b[43mclient_id\u001b[49m\u001b[43m]\u001b[49m\n\u001b[0;32m    256\u001b[0m \u001b[43m        \u001b[49m\u001b[43m)\u001b[49m\n\u001b[0;32m    257\u001b[0m \u001b[38;5;28;01melse\u001b[39;00m:\n\u001b[0;32m    258\u001b[0m     update_weights \u001b[38;5;241m=\u001b[39m \u001b[38;5;28;01mTrue\u001b[39;00m\n",
      "File \u001b[1;32mm:\\OneDrive\\Projects\\federated_imputation_pc2\\src\\fed_imp\\sub_modules\\client\\client_gain.py:110\u001b[0m, in \u001b[0;36mClientGAIN.transform\u001b[1;34m(self, transform_task, transform_instruction, global_weights)\u001b[0m\n\u001b[0;32m    108\u001b[0m     update_weights \u001b[38;5;241m=\u001b[39m transform_instruction[\u001b[38;5;124m'\u001b[39m\u001b[38;5;124mupdate_weights\u001b[39m\u001b[38;5;124m'\u001b[39m]\n\u001b[0;32m    109\u001b[0m     \u001b[38;5;28;01mif\u001b[39;00m update_weights:\n\u001b[1;32m--> 110\u001b[0m         \u001b[38;5;28;43mself\u001b[39;49m\u001b[38;5;241;43m.\u001b[39;49m\u001b[43mimputation_model\u001b[49m\u001b[38;5;241;43m.\u001b[39;49m\u001b[43mupdate_imp_model\u001b[49m\u001b[43m(\u001b[49m\u001b[43mglobal_weights\u001b[49m\u001b[43m)\u001b[49m\n\u001b[0;32m    111\u001b[0m \u001b[38;5;28;01melse\u001b[39;00m:\n\u001b[0;32m    112\u001b[0m     \u001b[38;5;28;01mraise\u001b[39;00m \u001b[38;5;167;01mNotImplementedError\u001b[39;00m\n",
      "File \u001b[1;32mm:\\OneDrive\\Projects\\federated_imputation_pc2\\src\\fed_imp\\sub_modules\\client\\client_gain.py:244\u001b[0m, in \u001b[0;36mGainImputer.update_imp_model\u001b[1;34m(self, updated_model)\u001b[0m\n\u001b[0;32m    242\u001b[0m params \u001b[38;5;241m=\u001b[39m \u001b[38;5;28mself\u001b[39m\u001b[38;5;241m.\u001b[39mmodel\u001b[38;5;241m.\u001b[39mstate_dict()\n\u001b[0;32m    243\u001b[0m params\u001b[38;5;241m.\u001b[39mupdate(updated_model)\n\u001b[1;32m--> 244\u001b[0m \u001b[38;5;28;43mself\u001b[39;49m\u001b[38;5;241;43m.\u001b[39;49m\u001b[43mmodel\u001b[49m\u001b[38;5;241;43m.\u001b[39;49m\u001b[43mload_state_dict\u001b[49m\u001b[43m(\u001b[49m\u001b[43mparams\u001b[49m\u001b[43m)\u001b[49m\n",
      "File \u001b[1;32mm:\\miniconda3\\envs\\fed_imp\\lib\\site-packages\\torch\\nn\\modules\\module.py:2175\u001b[0m, in \u001b[0;36mModule.load_state_dict\u001b[1;34m(self, state_dict, strict, assign)\u001b[0m\n\u001b[0;32m   2168\u001b[0m         out \u001b[38;5;241m=\u001b[39m hook(module, incompatible_keys)\n\u001b[0;32m   2169\u001b[0m         \u001b[38;5;28;01massert\u001b[39;00m out \u001b[38;5;129;01mis\u001b[39;00m \u001b[38;5;28;01mNone\u001b[39;00m, (\n\u001b[0;32m   2170\u001b[0m             \u001b[38;5;124m\"\u001b[39m\u001b[38;5;124mHooks registered with ``register_load_state_dict_post_hook`` are not\u001b[39m\u001b[38;5;124m\"\u001b[39m\n\u001b[0;32m   2171\u001b[0m             \u001b[38;5;124m\"\u001b[39m\u001b[38;5;124mexpected to return new values, if incompatible_keys need to be modified,\u001b[39m\u001b[38;5;124m\"\u001b[39m\n\u001b[0;32m   2172\u001b[0m             \u001b[38;5;124m\"\u001b[39m\u001b[38;5;124mit should be done inplace.\u001b[39m\u001b[38;5;124m\"\u001b[39m\n\u001b[0;32m   2173\u001b[0m         )\n\u001b[1;32m-> 2175\u001b[0m \u001b[43mload\u001b[49m\u001b[43m(\u001b[49m\u001b[38;5;28;43mself\u001b[39;49m\u001b[43m,\u001b[49m\u001b[43m \u001b[49m\u001b[43mstate_dict\u001b[49m\u001b[43m)\u001b[49m\n\u001b[0;32m   2176\u001b[0m \u001b[38;5;28;01mdel\u001b[39;00m load\n\u001b[0;32m   2178\u001b[0m \u001b[38;5;28;01mif\u001b[39;00m strict:\n",
      "File \u001b[1;32mm:\\miniconda3\\envs\\fed_imp\\lib\\site-packages\\torch\\nn\\modules\\module.py:2163\u001b[0m, in \u001b[0;36mModule.load_state_dict.<locals>.load\u001b[1;34m(module, local_state_dict, prefix)\u001b[0m\n\u001b[0;32m   2161\u001b[0m         child_prefix \u001b[38;5;241m=\u001b[39m prefix \u001b[38;5;241m+\u001b[39m name \u001b[38;5;241m+\u001b[39m \u001b[38;5;124m'\u001b[39m\u001b[38;5;124m.\u001b[39m\u001b[38;5;124m'\u001b[39m\n\u001b[0;32m   2162\u001b[0m         child_state_dict \u001b[38;5;241m=\u001b[39m {k: v \u001b[38;5;28;01mfor\u001b[39;00m k, v \u001b[38;5;129;01min\u001b[39;00m local_state_dict\u001b[38;5;241m.\u001b[39mitems() \u001b[38;5;28;01mif\u001b[39;00m k\u001b[38;5;241m.\u001b[39mstartswith(child_prefix)}\n\u001b[1;32m-> 2163\u001b[0m         \u001b[43mload\u001b[49m\u001b[43m(\u001b[49m\u001b[43mchild\u001b[49m\u001b[43m,\u001b[49m\u001b[43m \u001b[49m\u001b[43mchild_state_dict\u001b[49m\u001b[43m,\u001b[49m\u001b[43m \u001b[49m\u001b[43mchild_prefix\u001b[49m\u001b[43m)\u001b[49m  \u001b[38;5;66;03m# noqa: F821\u001b[39;00m\n\u001b[0;32m   2165\u001b[0m \u001b[38;5;66;03m# Note that the hook can modify missing_keys and unexpected_keys.\u001b[39;00m\n\u001b[0;32m   2166\u001b[0m incompatible_keys \u001b[38;5;241m=\u001b[39m _IncompatibleKeys(missing_keys, unexpected_keys)\n",
      "File \u001b[1;32mm:\\miniconda3\\envs\\fed_imp\\lib\\site-packages\\torch\\nn\\modules\\module.py:2163\u001b[0m, in \u001b[0;36mModule.load_state_dict.<locals>.load\u001b[1;34m(module, local_state_dict, prefix)\u001b[0m\n\u001b[0;32m   2161\u001b[0m         child_prefix \u001b[38;5;241m=\u001b[39m prefix \u001b[38;5;241m+\u001b[39m name \u001b[38;5;241m+\u001b[39m \u001b[38;5;124m'\u001b[39m\u001b[38;5;124m.\u001b[39m\u001b[38;5;124m'\u001b[39m\n\u001b[0;32m   2162\u001b[0m         child_state_dict \u001b[38;5;241m=\u001b[39m {k: v \u001b[38;5;28;01mfor\u001b[39;00m k, v \u001b[38;5;129;01min\u001b[39;00m local_state_dict\u001b[38;5;241m.\u001b[39mitems() \u001b[38;5;28;01mif\u001b[39;00m k\u001b[38;5;241m.\u001b[39mstartswith(child_prefix)}\n\u001b[1;32m-> 2163\u001b[0m         \u001b[43mload\u001b[49m\u001b[43m(\u001b[49m\u001b[43mchild\u001b[49m\u001b[43m,\u001b[49m\u001b[43m \u001b[49m\u001b[43mchild_state_dict\u001b[49m\u001b[43m,\u001b[49m\u001b[43m \u001b[49m\u001b[43mchild_prefix\u001b[49m\u001b[43m)\u001b[49m  \u001b[38;5;66;03m# noqa: F821\u001b[39;00m\n\u001b[0;32m   2165\u001b[0m \u001b[38;5;66;03m# Note that the hook can modify missing_keys and unexpected_keys.\u001b[39;00m\n\u001b[0;32m   2166\u001b[0m incompatible_keys \u001b[38;5;241m=\u001b[39m _IncompatibleKeys(missing_keys, unexpected_keys)\n",
      "File \u001b[1;32mm:\\miniconda3\\envs\\fed_imp\\lib\\site-packages\\torch\\nn\\modules\\module.py:2157\u001b[0m, in \u001b[0;36mModule.load_state_dict.<locals>.load\u001b[1;34m(module, local_state_dict, prefix)\u001b[0m\n\u001b[0;32m   2155\u001b[0m \u001b[38;5;28;01mif\u001b[39;00m assign:\n\u001b[0;32m   2156\u001b[0m     local_metadata[\u001b[38;5;124m'\u001b[39m\u001b[38;5;124massign_to_params_buffers\u001b[39m\u001b[38;5;124m'\u001b[39m] \u001b[38;5;241m=\u001b[39m assign\n\u001b[1;32m-> 2157\u001b[0m \u001b[43mmodule\u001b[49m\u001b[38;5;241;43m.\u001b[39;49m\u001b[43m_load_from_state_dict\u001b[49m\u001b[43m(\u001b[49m\n\u001b[0;32m   2158\u001b[0m \u001b[43m    \u001b[49m\u001b[43mlocal_state_dict\u001b[49m\u001b[43m,\u001b[49m\u001b[43m \u001b[49m\u001b[43mprefix\u001b[49m\u001b[43m,\u001b[49m\u001b[43m \u001b[49m\u001b[43mlocal_metadata\u001b[49m\u001b[43m,\u001b[49m\u001b[43m \u001b[49m\u001b[38;5;28;43;01mTrue\u001b[39;49;00m\u001b[43m,\u001b[49m\u001b[43m \u001b[49m\u001b[43mmissing_keys\u001b[49m\u001b[43m,\u001b[49m\u001b[43m \u001b[49m\u001b[43munexpected_keys\u001b[49m\u001b[43m,\u001b[49m\u001b[43m \u001b[49m\u001b[43merror_msgs\u001b[49m\u001b[43m)\u001b[49m\n\u001b[0;32m   2159\u001b[0m \u001b[38;5;28;01mfor\u001b[39;00m name, child \u001b[38;5;129;01min\u001b[39;00m module\u001b[38;5;241m.\u001b[39m_modules\u001b[38;5;241m.\u001b[39mitems():\n\u001b[0;32m   2160\u001b[0m     \u001b[38;5;28;01mif\u001b[39;00m child \u001b[38;5;129;01mis\u001b[39;00m \u001b[38;5;129;01mnot\u001b[39;00m \u001b[38;5;28;01mNone\u001b[39;00m:\n",
      "File \u001b[1;32mm:\\miniconda3\\envs\\fed_imp\\lib\\site-packages\\torch\\nn\\modules\\module.py:2075\u001b[0m, in \u001b[0;36mModule._load_from_state_dict\u001b[1;34m(self, state_dict, prefix, local_metadata, strict, missing_keys, unexpected_keys, error_msgs)\u001b[0m\n\u001b[0;32m   2073\u001b[0m             \u001b[38;5;28msetattr\u001b[39m(\u001b[38;5;28mself\u001b[39m, name, input_param)\n\u001b[0;32m   2074\u001b[0m         \u001b[38;5;28;01melse\u001b[39;00m:\n\u001b[1;32m-> 2075\u001b[0m             \u001b[43mparam\u001b[49m\u001b[38;5;241;43m.\u001b[39;49m\u001b[43mcopy_\u001b[49m\u001b[43m(\u001b[49m\u001b[43minput_param\u001b[49m\u001b[43m)\u001b[49m\n\u001b[0;32m   2076\u001b[0m \u001b[38;5;28;01mexcept\u001b[39;00m \u001b[38;5;167;01mException\u001b[39;00m \u001b[38;5;28;01mas\u001b[39;00m ex:\n\u001b[0;32m   2077\u001b[0m     action \u001b[38;5;241m=\u001b[39m \u001b[38;5;124m\"\u001b[39m\u001b[38;5;124mswapping\u001b[39m\u001b[38;5;124m\"\u001b[39m \u001b[38;5;28;01mif\u001b[39;00m use_swap_tensors \u001b[38;5;28;01melse\u001b[39;00m \u001b[38;5;124m\"\u001b[39m\u001b[38;5;124mcopying\u001b[39m\u001b[38;5;124m\"\u001b[39m\n",
      "\u001b[1;31mKeyboardInterrupt\u001b[0m: "
     ]
    }
   ],
   "source": [
    "%load_ext autoreload\n",
    "%autoreload\n",
    "%load_ext dotenv\n",
    "%dotenv\n",
    "from src.fed_imp.experiment import Experiment\n",
    "\n",
    "exp = Experiment()\n",
    "exp.run_experiment(experiment_config_template)\n"
   ]
  },
  {
   "cell_type": "code",
   "execution_count": null,
   "metadata": {},
   "outputs": [],
   "source": [
    "# def run_impute(strategy, params, dataset = 'mimiciii_mo2'):\n",
    "#     name = f'mnar_lr_{dataset}_{strategy}'\n",
    "#     config2 = experiment_config_template.copy()\n",
    "#     config2['data']['dataset_name'] = 'mimiciii_mo2'\n",
    "#     config2['handle_imbalance'] = None\n",
    "#     config2['num_clients'] = 11\n",
    "#     config2['missing_simulate']['mr_strategy'] = mr_strategy\n",
    "#     config2['missing_simulate']['mf_strategy'] = 'all'\n",
    "#     config2['missing_simulate']['mm_strategy'] = 'mnar_lr@sp=extremer1'\n",
    "#     config2['algo_params'][strategy] = params\n",
    "#     config2['algo_params']['scale_factor'] = params['scale_factor']\n",
    "#     config2['data_partition']['strategy'] = 'sample-evenly'\n",
    "\n",
    "#     config2['agg_strategy_imp']['strategy'] = strategy\n",
    "#     config2['server_type'] = 'fedavg_pytorch'\n",
    "#     config2['prediction'] = False\n",
    "#     config2['save_state'] = True\n",
    "#     config2['track'] = True\n",
    "\n",
    "#     clients, test_data, new_seed = simulate_scenario(config2)\n",
    "#     server, ret = run_simulation(config2, clients, test_data, new_seed)\n",
    "#     trackers[name] = copy.deepcopy(server.stats_tracker)\n",
    "#     rets[name] = ret.copy()\n",
    "\n",
    "# params = { \"client_thres\": 1.0, \"alpha\": 1.0, \"beta\": 0.0}"
   ]
  },
  {
   "cell_type": "markdown",
   "metadata": {},
   "source": [
    "# MIMIC III MORTALITY"
   ]
  },
  {
   "cell_type": "code",
   "execution_count": 32,
   "metadata": {},
   "outputs": [],
   "source": [
    "def run_impute(strategy, params, dataset = 'mimiciii_mo2'):\n",
    "    name = f'mnar_lr_{dataset}_{strategy}'\n",
    "    config2 = experiment_config_template.copy()\n",
    "    config2['data']['dataset_name'] = 'mimiciii_mo2'\n",
    "    config2['handle_imbalance'] = None\n",
    "    config2['num_clients'] = 11\n",
    "    config2['missing_simulate']['mr_strategy'] = mr_strategy\n",
    "    config2['missing_simulate']['mf_strategy'] = 'all'\n",
    "    config2['missing_simulate']['mm_strategy'] = 'mnar_lr@sp=extremer1'\n",
    "    config2['algo_params'][strategy] = params\n",
    "    config2['algo_params']['scale_factor'] = params['scale_factor']\n",
    "    config2['data_partition']['strategy'] = 'sample-evenly'\n",
    "\n",
    "    config2['agg_strategy_imp']['strategy'] = strategy\n",
    "    config2['server_type'] = 'fedavg_pytorch'\n",
    "    config2['prediction'] = False\n",
    "    config2['save_state'] = True\n",
    "    config2['track'] = True\n",
    "\n",
    "    clients, test_data, new_seed = simulate_scenario(config2)\n",
    "    server, ret = run_simulation(config2, clients, test_data, new_seed)\n",
    "    trackers[name] = copy.deepcopy(server.stats_tracker)\n",
    "    rets[name] = ret.copy()\n",
    "\n",
    "params = { \"client_thres\": 1.0, \"alpha\": 1.0, \"beta\": 0.0}"
   ]
  },
  {
   "cell_type": "code",
   "execution_count": 39,
   "metadata": {},
   "outputs": [
    {
     "name": "stdout",
     "output_type": "stream",
     "text": [
      "=============================================================\n",
      "(20000, 51)\n",
      "mortality\n",
      "0    14556\n",
      "1     5444\n",
      "Name: count, dtype: int64\n",
      "(18000, 51) (2000, 51)\n",
      "(18000, 51)\n",
      "sample-evenly {}\n",
      "['mnar_quantile_left@0.5', 'mnar_quantile_left@0.5', 'mnar_quantile_left@0.5', 'mnar_quantile_left@0.5', 'mnar_quantile_left@0.5', 'mnar_quantile_left@0.5', 'mnar_quantile_left@0.5', 'mnar_quantile_left@0.5', 'mnar_quantile_left@0.5', 'mnar_quantile_left@0.5', 'mnar_quantile_right@0.5']\n"
     ]
    },
    {
     "name": "stderr",
     "output_type": "stream",
     "text": [
      "\u001b[32m2023-08-23 10:24:02.530\u001b[0m | \u001b[1mINFO    \u001b[0m | \u001b[36msrc.fed_imp.sub_modules.server.base_server\u001b[0m:\u001b[36mrun\u001b[0m:\u001b[36m148\u001b[0m - \u001b[1m==================================================\u001b[0m\n",
      "\u001b[32m2023-08-23 10:24:02.531\u001b[0m | \u001b[1mINFO    \u001b[0m | \u001b[36msrc.fed_imp.sub_modules.server.base_server\u001b[0m:\u001b[36mrun\u001b[0m:\u001b[36m149\u001b[0m - \u001b[1mImputation Round 1\u001b[0m\n",
      "\u001b[32m2023-08-23 10:26:08.569\u001b[0m | \u001b[1mINFO    \u001b[0m | \u001b[36msrc.fed_imp.sub_modules.server.base_server\u001b[0m:\u001b[36mrun\u001b[0m:\u001b[36m148\u001b[0m - \u001b[1m==================================================\u001b[0m\n",
      "\u001b[32m2023-08-23 10:26:08.569\u001b[0m | \u001b[1mINFO    \u001b[0m | \u001b[36msrc.fed_imp.sub_modules.server.base_server\u001b[0m:\u001b[36mrun\u001b[0m:\u001b[36m149\u001b[0m - \u001b[1mImputation Round 10\u001b[0m\n",
      "\u001b[32m2023-08-23 10:28:24.882\u001b[0m | \u001b[1mINFO    \u001b[0m | \u001b[36msrc.fed_imp.sub_modules.server.base_server\u001b[0m:\u001b[36mrun\u001b[0m:\u001b[36m148\u001b[0m - \u001b[1m==================================================\u001b[0m\n",
      "\u001b[32m2023-08-23 10:28:24.882\u001b[0m | \u001b[1mINFO    \u001b[0m | \u001b[36msrc.fed_imp.sub_modules.server.base_server\u001b[0m:\u001b[36mrun\u001b[0m:\u001b[36m149\u001b[0m - \u001b[1mImputation Round 20\u001b[0m\n",
      "\u001b[32m2023-08-23 10:28:38.766\u001b[0m | \u001b[1mINFO    \u001b[0m | \u001b[36msrc.fed_imp.sub_modules.server.base_server\u001b[0m:\u001b[36mrun\u001b[0m:\u001b[36m178\u001b[0m - \u001b[1mFL finished in 278.94807869999204\u001b[0m\n"
     ]
    },
    {
     "name": "stdout",
     "output_type": "stream",
     "text": [
      "{'imp@rmse': 0.051653288277240396, 'imp@ws': 0.4132374405712598, 'imp@sliced_ws': 0.008140255084459268}\n"
     ]
    }
   ],
   "source": [
    "params = { \"client_thres\": 1.0, \"alpha\": 1.0, \"beta\": 0.0, 'scale_factor': 3}\n",
    "\n",
    "for alpha in [0.9]:\n",
    "    print(\"=============================================================\")\n",
    "    params['alpha'] = alpha\n",
    "    params['beta'] = 1.0 - alpha\n",
    "    run_impute('fedmechw_sigmoid', params, 'mimiciii_mo2')"
   ]
  },
  {
   "cell_type": "code",
   "execution_count": 38,
   "metadata": {},
   "outputs": [
    {
     "name": "stdout",
     "output_type": "stream",
     "text": [
      "=============================================================\n",
      "(20000, 51)\n",
      "mortality\n",
      "0    14556\n",
      "1     5444\n",
      "Name: count, dtype: int64\n",
      "(18000, 51) (2000, 51)\n",
      "(18000, 51)\n",
      "sample-evenly {}\n",
      "['mnar_quantile_left@0.5', 'mnar_quantile_left@0.5', 'mnar_quantile_left@0.5', 'mnar_quantile_left@0.5', 'mnar_quantile_left@0.5', 'mnar_quantile_left@0.5', 'mnar_quantile_left@0.5', 'mnar_quantile_left@0.5', 'mnar_quantile_left@0.5', 'mnar_quantile_left@0.5', 'mnar_quantile_right@0.5']\n"
     ]
    },
    {
     "name": "stderr",
     "output_type": "stream",
     "text": [
      "\u001b[32m2023-08-23 09:42:31.559\u001b[0m | \u001b[1mINFO    \u001b[0m | \u001b[36msrc.fed_imp.sub_modules.server.base_server\u001b[0m:\u001b[36mrun\u001b[0m:\u001b[36m148\u001b[0m - \u001b[1m==================================================\u001b[0m\n",
      "\u001b[32m2023-08-23 09:42:31.560\u001b[0m | \u001b[1mINFO    \u001b[0m | \u001b[36msrc.fed_imp.sub_modules.server.base_server\u001b[0m:\u001b[36mrun\u001b[0m:\u001b[36m149\u001b[0m - \u001b[1mImputation Round 1\u001b[0m\n",
      "\u001b[32m2023-08-23 09:44:25.197\u001b[0m | \u001b[1mINFO    \u001b[0m | \u001b[36msrc.fed_imp.sub_modules.server.base_server\u001b[0m:\u001b[36mrun\u001b[0m:\u001b[36m148\u001b[0m - \u001b[1m==================================================\u001b[0m\n",
      "\u001b[32m2023-08-23 09:44:25.198\u001b[0m | \u001b[1mINFO    \u001b[0m | \u001b[36msrc.fed_imp.sub_modules.server.base_server\u001b[0m:\u001b[36mrun\u001b[0m:\u001b[36m149\u001b[0m - \u001b[1mImputation Round 10\u001b[0m\n",
      "\u001b[32m2023-08-23 09:46:30.633\u001b[0m | \u001b[1mINFO    \u001b[0m | \u001b[36msrc.fed_imp.sub_modules.server.base_server\u001b[0m:\u001b[36mrun\u001b[0m:\u001b[36m148\u001b[0m - \u001b[1m==================================================\u001b[0m\n",
      "\u001b[32m2023-08-23 09:46:30.633\u001b[0m | \u001b[1mINFO    \u001b[0m | \u001b[36msrc.fed_imp.sub_modules.server.base_server\u001b[0m:\u001b[36mrun\u001b[0m:\u001b[36m149\u001b[0m - \u001b[1mImputation Round 20\u001b[0m\n",
      "\u001b[32m2023-08-23 09:46:43.599\u001b[0m | \u001b[1mINFO    \u001b[0m | \u001b[36msrc.fed_imp.sub_modules.server.base_server\u001b[0m:\u001b[36mrun\u001b[0m:\u001b[36m178\u001b[0m - \u001b[1mFL finished in 254.75982399994973\u001b[0m\n"
     ]
    },
    {
     "name": "stdout",
     "output_type": "stream",
     "text": [
      "{'imp@rmse': 0.051656190597141036, 'imp@ws': 0.41320757726942886, 'imp@sliced_ws': 0.008141858896719506}\n",
      "=============================================================\n",
      "(20000, 51)\n",
      "mortality\n",
      "0    14556\n",
      "1     5444\n",
      "Name: count, dtype: int64\n",
      "(18000, 51) (2000, 51)\n",
      "(18000, 51)\n",
      "sample-evenly {}\n",
      "['mnar_quantile_left@0.5', 'mnar_quantile_left@0.5', 'mnar_quantile_left@0.5', 'mnar_quantile_left@0.5', 'mnar_quantile_left@0.5', 'mnar_quantile_left@0.5', 'mnar_quantile_left@0.5', 'mnar_quantile_left@0.5', 'mnar_quantile_left@0.5', 'mnar_quantile_left@0.5', 'mnar_quantile_right@0.5']\n"
     ]
    },
    {
     "name": "stderr",
     "output_type": "stream",
     "text": [
      "\u001b[32m2023-08-23 09:46:46.790\u001b[0m | \u001b[1mINFO    \u001b[0m | \u001b[36msrc.fed_imp.sub_modules.server.base_server\u001b[0m:\u001b[36mrun\u001b[0m:\u001b[36m148\u001b[0m - \u001b[1m==================================================\u001b[0m\n",
      "\u001b[32m2023-08-23 09:46:46.790\u001b[0m | \u001b[1mINFO    \u001b[0m | \u001b[36msrc.fed_imp.sub_modules.server.base_server\u001b[0m:\u001b[36mrun\u001b[0m:\u001b[36m149\u001b[0m - \u001b[1mImputation Round 1\u001b[0m\n",
      "\u001b[32m2023-08-23 09:48:36.735\u001b[0m | \u001b[1mINFO    \u001b[0m | \u001b[36msrc.fed_imp.sub_modules.server.base_server\u001b[0m:\u001b[36mrun\u001b[0m:\u001b[36m148\u001b[0m - \u001b[1m==================================================\u001b[0m\n",
      "\u001b[32m2023-08-23 09:48:36.735\u001b[0m | \u001b[1mINFO    \u001b[0m | \u001b[36msrc.fed_imp.sub_modules.server.base_server\u001b[0m:\u001b[36mrun\u001b[0m:\u001b[36m149\u001b[0m - \u001b[1mImputation Round 10\u001b[0m\n",
      "\u001b[32m2023-08-23 09:50:44.460\u001b[0m | \u001b[1mINFO    \u001b[0m | \u001b[36msrc.fed_imp.sub_modules.server.base_server\u001b[0m:\u001b[36mrun\u001b[0m:\u001b[36m148\u001b[0m - \u001b[1m==================================================\u001b[0m\n",
      "\u001b[32m2023-08-23 09:50:44.461\u001b[0m | \u001b[1mINFO    \u001b[0m | \u001b[36msrc.fed_imp.sub_modules.server.base_server\u001b[0m:\u001b[36mrun\u001b[0m:\u001b[36m149\u001b[0m - \u001b[1mImputation Round 20\u001b[0m\n",
      "\u001b[32m2023-08-23 09:50:58.431\u001b[0m | \u001b[1mINFO    \u001b[0m | \u001b[36msrc.fed_imp.sub_modules.server.base_server\u001b[0m:\u001b[36mrun\u001b[0m:\u001b[36m178\u001b[0m - \u001b[1mFL finished in 254.31083300011232\u001b[0m\n"
     ]
    },
    {
     "name": "stdout",
     "output_type": "stream",
     "text": [
      "{'imp@rmse': 0.051657306608311304, 'imp@ws': 0.41316501397070093, 'imp@sliced_ws': 0.008147177352508408}\n",
      "=============================================================\n",
      "(20000, 51)\n",
      "mortality\n",
      "0    14556\n",
      "1     5444\n",
      "Name: count, dtype: int64\n",
      "(18000, 51) (2000, 51)\n",
      "(18000, 51)\n",
      "sample-evenly {}\n",
      "['mnar_quantile_left@0.5', 'mnar_quantile_left@0.5', 'mnar_quantile_left@0.5', 'mnar_quantile_left@0.5', 'mnar_quantile_left@0.5', 'mnar_quantile_left@0.5', 'mnar_quantile_left@0.5', 'mnar_quantile_left@0.5', 'mnar_quantile_left@0.5', 'mnar_quantile_left@0.5', 'mnar_quantile_right@0.5']\n"
     ]
    },
    {
     "name": "stderr",
     "output_type": "stream",
     "text": [
      "\u001b[32m2023-08-23 09:51:01.604\u001b[0m | \u001b[1mINFO    \u001b[0m | \u001b[36msrc.fed_imp.sub_modules.server.base_server\u001b[0m:\u001b[36mrun\u001b[0m:\u001b[36m148\u001b[0m - \u001b[1m==================================================\u001b[0m\n",
      "\u001b[32m2023-08-23 09:51:01.605\u001b[0m | \u001b[1mINFO    \u001b[0m | \u001b[36msrc.fed_imp.sub_modules.server.base_server\u001b[0m:\u001b[36mrun\u001b[0m:\u001b[36m149\u001b[0m - \u001b[1mImputation Round 1\u001b[0m\n",
      "\u001b[32m2023-08-23 09:52:54.806\u001b[0m | \u001b[1mINFO    \u001b[0m | \u001b[36msrc.fed_imp.sub_modules.server.base_server\u001b[0m:\u001b[36mrun\u001b[0m:\u001b[36m148\u001b[0m - \u001b[1m==================================================\u001b[0m\n",
      "\u001b[32m2023-08-23 09:52:54.807\u001b[0m | \u001b[1mINFO    \u001b[0m | \u001b[36msrc.fed_imp.sub_modules.server.base_server\u001b[0m:\u001b[36mrun\u001b[0m:\u001b[36m149\u001b[0m - \u001b[1mImputation Round 10\u001b[0m\n",
      "\u001b[32m2023-08-23 09:55:06.956\u001b[0m | \u001b[1mINFO    \u001b[0m | \u001b[36msrc.fed_imp.sub_modules.server.base_server\u001b[0m:\u001b[36mrun\u001b[0m:\u001b[36m148\u001b[0m - \u001b[1m==================================================\u001b[0m\n",
      "\u001b[32m2023-08-23 09:55:06.957\u001b[0m | \u001b[1mINFO    \u001b[0m | \u001b[36msrc.fed_imp.sub_modules.server.base_server\u001b[0m:\u001b[36mrun\u001b[0m:\u001b[36m149\u001b[0m - \u001b[1mImputation Round 20\u001b[0m\n",
      "\u001b[32m2023-08-23 09:55:20.440\u001b[0m | \u001b[1mINFO    \u001b[0m | \u001b[36msrc.fed_imp.sub_modules.server.base_server\u001b[0m:\u001b[36mrun\u001b[0m:\u001b[36m178\u001b[0m - \u001b[1mFL finished in 261.5315788000589\u001b[0m\n"
     ]
    },
    {
     "name": "stdout",
     "output_type": "stream",
     "text": [
      "{'imp@rmse': 0.05167233733927122, 'imp@ws': 0.4130418988479504, 'imp@sliced_ws': 0.008235527786171943}\n",
      "=============================================================\n",
      "(20000, 51)\n",
      "mortality\n",
      "0    14556\n",
      "1     5444\n",
      "Name: count, dtype: int64\n",
      "(18000, 51) (2000, 51)\n",
      "(18000, 51)\n",
      "sample-evenly {}\n",
      "['mnar_quantile_left@0.5', 'mnar_quantile_left@0.5', 'mnar_quantile_left@0.5', 'mnar_quantile_left@0.5', 'mnar_quantile_left@0.5', 'mnar_quantile_left@0.5', 'mnar_quantile_left@0.5', 'mnar_quantile_left@0.5', 'mnar_quantile_left@0.5', 'mnar_quantile_left@0.5', 'mnar_quantile_right@0.5']\n"
     ]
    },
    {
     "name": "stderr",
     "output_type": "stream",
     "text": [
      "\u001b[32m2023-08-23 09:55:23.637\u001b[0m | \u001b[1mINFO    \u001b[0m | \u001b[36msrc.fed_imp.sub_modules.server.base_server\u001b[0m:\u001b[36mrun\u001b[0m:\u001b[36m148\u001b[0m - \u001b[1m==================================================\u001b[0m\n",
      "\u001b[32m2023-08-23 09:55:23.637\u001b[0m | \u001b[1mINFO    \u001b[0m | \u001b[36msrc.fed_imp.sub_modules.server.base_server\u001b[0m:\u001b[36mrun\u001b[0m:\u001b[36m149\u001b[0m - \u001b[1mImputation Round 1\u001b[0m\n",
      "\u001b[32m2023-08-23 09:57:13.018\u001b[0m | \u001b[1mINFO    \u001b[0m | \u001b[36msrc.fed_imp.sub_modules.server.base_server\u001b[0m:\u001b[36mrun\u001b[0m:\u001b[36m148\u001b[0m - \u001b[1m==================================================\u001b[0m\n",
      "\u001b[32m2023-08-23 09:57:13.019\u001b[0m | \u001b[1mINFO    \u001b[0m | \u001b[36msrc.fed_imp.sub_modules.server.base_server\u001b[0m:\u001b[36mrun\u001b[0m:\u001b[36m149\u001b[0m - \u001b[1mImputation Round 10\u001b[0m\n",
      "\u001b[32m2023-08-23 09:59:13.432\u001b[0m | \u001b[1mINFO    \u001b[0m | \u001b[36msrc.fed_imp.sub_modules.server.base_server\u001b[0m:\u001b[36mrun\u001b[0m:\u001b[36m148\u001b[0m - \u001b[1m==================================================\u001b[0m\n",
      "\u001b[32m2023-08-23 09:59:13.433\u001b[0m | \u001b[1mINFO    \u001b[0m | \u001b[36msrc.fed_imp.sub_modules.server.base_server\u001b[0m:\u001b[36mrun\u001b[0m:\u001b[36m149\u001b[0m - \u001b[1mImputation Round 20\u001b[0m\n",
      "\u001b[32m2023-08-23 09:59:25.808\u001b[0m | \u001b[1mINFO    \u001b[0m | \u001b[36msrc.fed_imp.sub_modules.server.base_server\u001b[0m:\u001b[36mrun\u001b[0m:\u001b[36m178\u001b[0m - \u001b[1mFL finished in 244.90587300003972\u001b[0m\n"
     ]
    },
    {
     "name": "stdout",
     "output_type": "stream",
     "text": [
      "{'imp@rmse': 0.051911910578992554, 'imp@ws': 0.41607144667485907, 'imp@sliced_ws': 0.00914469835341828}\n",
      "=============================================================\n",
      "(20000, 51)\n",
      "mortality\n",
      "0    14556\n",
      "1     5444\n",
      "Name: count, dtype: int64\n",
      "(18000, 51) (2000, 51)\n",
      "(18000, 51)\n",
      "sample-evenly {}\n",
      "['mnar_quantile_left@0.5', 'mnar_quantile_left@0.5', 'mnar_quantile_left@0.5', 'mnar_quantile_left@0.5', 'mnar_quantile_left@0.5', 'mnar_quantile_left@0.5', 'mnar_quantile_left@0.5', 'mnar_quantile_left@0.5', 'mnar_quantile_left@0.5', 'mnar_quantile_left@0.5', 'mnar_quantile_right@0.5']\n"
     ]
    },
    {
     "name": "stderr",
     "output_type": "stream",
     "text": [
      "\u001b[32m2023-08-23 09:59:28.862\u001b[0m | \u001b[1mINFO    \u001b[0m | \u001b[36msrc.fed_imp.sub_modules.server.base_server\u001b[0m:\u001b[36mrun\u001b[0m:\u001b[36m148\u001b[0m - \u001b[1m==================================================\u001b[0m\n",
      "\u001b[32m2023-08-23 09:59:28.863\u001b[0m | \u001b[1mINFO    \u001b[0m | \u001b[36msrc.fed_imp.sub_modules.server.base_server\u001b[0m:\u001b[36mrun\u001b[0m:\u001b[36m149\u001b[0m - \u001b[1mImputation Round 1\u001b[0m\n",
      "\u001b[32m2023-08-23 10:01:14.411\u001b[0m | \u001b[1mINFO    \u001b[0m | \u001b[36msrc.fed_imp.sub_modules.server.base_server\u001b[0m:\u001b[36mrun\u001b[0m:\u001b[36m148\u001b[0m - \u001b[1m==================================================\u001b[0m\n",
      "\u001b[32m2023-08-23 10:01:14.412\u001b[0m | \u001b[1mINFO    \u001b[0m | \u001b[36msrc.fed_imp.sub_modules.server.base_server\u001b[0m:\u001b[36mrun\u001b[0m:\u001b[36m149\u001b[0m - \u001b[1mImputation Round 10\u001b[0m\n",
      "\u001b[32m2023-08-23 10:03:21.558\u001b[0m | \u001b[1mINFO    \u001b[0m | \u001b[36msrc.fed_imp.sub_modules.server.base_server\u001b[0m:\u001b[36mrun\u001b[0m:\u001b[36m148\u001b[0m - \u001b[1m==================================================\u001b[0m\n",
      "\u001b[32m2023-08-23 10:03:21.559\u001b[0m | \u001b[1mINFO    \u001b[0m | \u001b[36msrc.fed_imp.sub_modules.server.base_server\u001b[0m:\u001b[36mrun\u001b[0m:\u001b[36m149\u001b[0m - \u001b[1mImputation Round 20\u001b[0m\n",
      "\u001b[32m2023-08-23 10:03:34.587\u001b[0m | \u001b[1mINFO    \u001b[0m | \u001b[36msrc.fed_imp.sub_modules.server.base_server\u001b[0m:\u001b[36mrun\u001b[0m:\u001b[36m178\u001b[0m - \u001b[1mFL finished in 248.31141109997407\u001b[0m\n"
     ]
    },
    {
     "name": "stdout",
     "output_type": "stream",
     "text": [
      "{'imp@rmse': 0.0615629023336361, 'imp@ws': 0.6164410764056489, 'imp@sliced_ws': 0.022333695281212068}\n",
      "=============================================================\n",
      "(20000, 51)\n",
      "mortality\n",
      "0    14556\n",
      "1     5444\n",
      "Name: count, dtype: int64\n",
      "(18000, 51) (2000, 51)\n",
      "(18000, 51)\n",
      "sample-evenly {}\n",
      "['mnar_quantile_left@0.5', 'mnar_quantile_left@0.5', 'mnar_quantile_left@0.5', 'mnar_quantile_left@0.5', 'mnar_quantile_left@0.5', 'mnar_quantile_left@0.5', 'mnar_quantile_left@0.5', 'mnar_quantile_left@0.5', 'mnar_quantile_left@0.5', 'mnar_quantile_left@0.5', 'mnar_quantile_right@0.5']\n"
     ]
    },
    {
     "name": "stderr",
     "output_type": "stream",
     "text": [
      "\u001b[32m2023-08-23 10:03:37.793\u001b[0m | \u001b[1mINFO    \u001b[0m | \u001b[36msrc.fed_imp.sub_modules.server.base_server\u001b[0m:\u001b[36mrun\u001b[0m:\u001b[36m148\u001b[0m - \u001b[1m==================================================\u001b[0m\n",
      "\u001b[32m2023-08-23 10:03:37.794\u001b[0m | \u001b[1mINFO    \u001b[0m | \u001b[36msrc.fed_imp.sub_modules.server.base_server\u001b[0m:\u001b[36mrun\u001b[0m:\u001b[36m149\u001b[0m - \u001b[1mImputation Round 1\u001b[0m\n",
      "\u001b[32m2023-08-23 10:05:23.508\u001b[0m | \u001b[1mINFO    \u001b[0m | \u001b[36msrc.fed_imp.sub_modules.server.base_server\u001b[0m:\u001b[36mrun\u001b[0m:\u001b[36m148\u001b[0m - \u001b[1m==================================================\u001b[0m\n",
      "\u001b[32m2023-08-23 10:05:23.509\u001b[0m | \u001b[1mINFO    \u001b[0m | \u001b[36msrc.fed_imp.sub_modules.server.base_server\u001b[0m:\u001b[36mrun\u001b[0m:\u001b[36m149\u001b[0m - \u001b[1mImputation Round 10\u001b[0m\n",
      "\u001b[32m2023-08-23 10:07:22.439\u001b[0m | \u001b[1mINFO    \u001b[0m | \u001b[36msrc.fed_imp.sub_modules.server.base_server\u001b[0m:\u001b[36mrun\u001b[0m:\u001b[36m148\u001b[0m - \u001b[1m==================================================\u001b[0m\n",
      "\u001b[32m2023-08-23 10:07:22.440\u001b[0m | \u001b[1mINFO    \u001b[0m | \u001b[36msrc.fed_imp.sub_modules.server.base_server\u001b[0m:\u001b[36mrun\u001b[0m:\u001b[36m149\u001b[0m - \u001b[1mImputation Round 20\u001b[0m\n",
      "\u001b[32m2023-08-23 10:07:34.574\u001b[0m | \u001b[1mINFO    \u001b[0m | \u001b[36msrc.fed_imp.sub_modules.server.base_server\u001b[0m:\u001b[36mrun\u001b[0m:\u001b[36m178\u001b[0m - \u001b[1mFL finished in 239.46863810007926\u001b[0m\n"
     ]
    },
    {
     "name": "stdout",
     "output_type": "stream",
     "text": [
      "{'imp@rmse': 0.1088515037730871, 'imp@ws': 1.5641324318338128, 'imp@sliced_ws': 0.05601844987085222}\n"
     ]
    }
   ],
   "source": [
    "params = { \"client_thres\": 1.0, \"alpha\": 1.0, \"beta\": 0.0, 'scale_factor': 3}\n",
    "\n",
    "for alpha in [1.0, 0.8, 0.6, 0.4, 0.2, 0.1]:\n",
    "    print(\"=============================================================\")\n",
    "    params['alpha'] = alpha\n",
    "    params['beta'] = 1.0 - alpha\n",
    "    run_impute('fedmechw_sigmoid', params, 'mimiciii_mo2')"
   ]
  },
  {
   "cell_type": "code",
   "execution_count": 36,
   "metadata": {},
   "outputs": [
    {
     "name": "stdout",
     "output_type": "stream",
     "text": [
      "=============================================================\n",
      "(20000, 51)\n",
      "mortality\n",
      "0    14556\n",
      "1     5444\n",
      "Name: count, dtype: int64\n",
      "(18000, 51) (2000, 51)\n",
      "(18000, 51)\n",
      "sample-evenly {}\n",
      "['mnar_quantile_left@0.5', 'mnar_quantile_left@0.5', 'mnar_quantile_left@0.5', 'mnar_quantile_left@0.5', 'mnar_quantile_left@0.5', 'mnar_quantile_left@0.5', 'mnar_quantile_left@0.5', 'mnar_quantile_left@0.5', 'mnar_quantile_left@0.5', 'mnar_quantile_left@0.5', 'mnar_quantile_right@0.5']\n"
     ]
    },
    {
     "name": "stderr",
     "output_type": "stream",
     "text": [
      "\u001b[32m2023-08-23 09:20:40.727\u001b[0m | \u001b[1mINFO    \u001b[0m | \u001b[36msrc.fed_imp.sub_modules.server.base_server\u001b[0m:\u001b[36mrun\u001b[0m:\u001b[36m148\u001b[0m - \u001b[1m==================================================\u001b[0m\n",
      "\u001b[32m2023-08-23 09:20:40.728\u001b[0m | \u001b[1mINFO    \u001b[0m | \u001b[36msrc.fed_imp.sub_modules.server.base_server\u001b[0m:\u001b[36mrun\u001b[0m:\u001b[36m149\u001b[0m - \u001b[1mImputation Round 1\u001b[0m\n",
      "\u001b[32m2023-08-23 09:22:37.917\u001b[0m | \u001b[1mINFO    \u001b[0m | \u001b[36msrc.fed_imp.sub_modules.server.base_server\u001b[0m:\u001b[36mrun\u001b[0m:\u001b[36m148\u001b[0m - \u001b[1m==================================================\u001b[0m\n",
      "\u001b[32m2023-08-23 09:22:37.917\u001b[0m | \u001b[1mINFO    \u001b[0m | \u001b[36msrc.fed_imp.sub_modules.server.base_server\u001b[0m:\u001b[36mrun\u001b[0m:\u001b[36m149\u001b[0m - \u001b[1mImputation Round 10\u001b[0m\n",
      "\u001b[32m2023-08-23 09:24:41.757\u001b[0m | \u001b[1mINFO    \u001b[0m | \u001b[36msrc.fed_imp.sub_modules.server.base_server\u001b[0m:\u001b[36mrun\u001b[0m:\u001b[36m148\u001b[0m - \u001b[1m==================================================\u001b[0m\n",
      "\u001b[32m2023-08-23 09:24:41.757\u001b[0m | \u001b[1mINFO    \u001b[0m | \u001b[36msrc.fed_imp.sub_modules.server.base_server\u001b[0m:\u001b[36mrun\u001b[0m:\u001b[36m149\u001b[0m - \u001b[1mImputation Round 20\u001b[0m\n",
      "\u001b[32m2023-08-23 09:24:54.344\u001b[0m | \u001b[1mINFO    \u001b[0m | \u001b[36msrc.fed_imp.sub_modules.server.base_server\u001b[0m:\u001b[36mrun\u001b[0m:\u001b[36m178\u001b[0m - \u001b[1mFL finished in 256.35838240000885\u001b[0m\n"
     ]
    },
    {
     "name": "stdout",
     "output_type": "stream",
     "text": [
      "{'imp@rmse': 0.051756839434598176, 'imp@ws': 0.41395357168107905, 'imp@sliced_ws': 0.008270551951529767}\n",
      "=============================================================\n",
      "(20000, 51)\n",
      "mortality\n",
      "0    14556\n",
      "1     5444\n",
      "Name: count, dtype: int64\n",
      "(18000, 51) (2000, 51)\n",
      "(18000, 51)\n",
      "sample-evenly {}\n",
      "['mnar_quantile_left@0.5', 'mnar_quantile_left@0.5', 'mnar_quantile_left@0.5', 'mnar_quantile_left@0.5', 'mnar_quantile_left@0.5', 'mnar_quantile_left@0.5', 'mnar_quantile_left@0.5', 'mnar_quantile_left@0.5', 'mnar_quantile_left@0.5', 'mnar_quantile_left@0.5', 'mnar_quantile_right@0.5']\n"
     ]
    },
    {
     "name": "stderr",
     "output_type": "stream",
     "text": [
      "\u001b[32m2023-08-23 09:24:57.423\u001b[0m | \u001b[1mINFO    \u001b[0m | \u001b[36msrc.fed_imp.sub_modules.server.base_server\u001b[0m:\u001b[36mrun\u001b[0m:\u001b[36m148\u001b[0m - \u001b[1m==================================================\u001b[0m\n",
      "\u001b[32m2023-08-23 09:24:57.424\u001b[0m | \u001b[1mINFO    \u001b[0m | \u001b[36msrc.fed_imp.sub_modules.server.base_server\u001b[0m:\u001b[36mrun\u001b[0m:\u001b[36m149\u001b[0m - \u001b[1mImputation Round 1\u001b[0m\n",
      "\u001b[32m2023-08-23 09:26:45.396\u001b[0m | \u001b[1mINFO    \u001b[0m | \u001b[36msrc.fed_imp.sub_modules.server.base_server\u001b[0m:\u001b[36mrun\u001b[0m:\u001b[36m148\u001b[0m - \u001b[1m==================================================\u001b[0m\n",
      "\u001b[32m2023-08-23 09:26:45.397\u001b[0m | \u001b[1mINFO    \u001b[0m | \u001b[36msrc.fed_imp.sub_modules.server.base_server\u001b[0m:\u001b[36mrun\u001b[0m:\u001b[36m149\u001b[0m - \u001b[1mImputation Round 10\u001b[0m\n",
      "\u001b[32m2023-08-23 09:28:46.746\u001b[0m | \u001b[1mINFO    \u001b[0m | \u001b[36msrc.fed_imp.sub_modules.server.base_server\u001b[0m:\u001b[36mrun\u001b[0m:\u001b[36m148\u001b[0m - \u001b[1m==================================================\u001b[0m\n",
      "\u001b[32m2023-08-23 09:28:46.747\u001b[0m | \u001b[1mINFO    \u001b[0m | \u001b[36msrc.fed_imp.sub_modules.server.base_server\u001b[0m:\u001b[36mrun\u001b[0m:\u001b[36m149\u001b[0m - \u001b[1mImputation Round 20\u001b[0m\n",
      "\u001b[32m2023-08-23 09:28:59.218\u001b[0m | \u001b[1mINFO    \u001b[0m | \u001b[36msrc.fed_imp.sub_modules.server.base_server\u001b[0m:\u001b[36mrun\u001b[0m:\u001b[36m178\u001b[0m - \u001b[1mFL finished in 244.411931599956\u001b[0m\n"
     ]
    },
    {
     "name": "stdout",
     "output_type": "stream",
     "text": [
      "{'imp@rmse': 0.05161272311468685, 'imp@ws': 0.41414701791805486, 'imp@sliced_ws': 0.008194286301782512}\n",
      "=============================================================\n",
      "(20000, 51)\n",
      "mortality\n",
      "0    14556\n",
      "1     5444\n",
      "Name: count, dtype: int64\n",
      "(18000, 51) (2000, 51)\n",
      "(18000, 51)\n",
      "sample-evenly {}\n",
      "['mnar_quantile_left@0.5', 'mnar_quantile_left@0.5', 'mnar_quantile_left@0.5', 'mnar_quantile_left@0.5', 'mnar_quantile_left@0.5', 'mnar_quantile_left@0.5', 'mnar_quantile_left@0.5', 'mnar_quantile_left@0.5', 'mnar_quantile_left@0.5', 'mnar_quantile_left@0.5', 'mnar_quantile_right@0.5']\n"
     ]
    },
    {
     "name": "stderr",
     "output_type": "stream",
     "text": [
      "\u001b[32m2023-08-23 09:29:02.283\u001b[0m | \u001b[1mINFO    \u001b[0m | \u001b[36msrc.fed_imp.sub_modules.server.base_server\u001b[0m:\u001b[36mrun\u001b[0m:\u001b[36m148\u001b[0m - \u001b[1m==================================================\u001b[0m\n",
      "\u001b[32m2023-08-23 09:29:02.284\u001b[0m | \u001b[1mINFO    \u001b[0m | \u001b[36msrc.fed_imp.sub_modules.server.base_server\u001b[0m:\u001b[36mrun\u001b[0m:\u001b[36m149\u001b[0m - \u001b[1mImputation Round 1\u001b[0m\n",
      "\u001b[32m2023-08-23 09:30:49.110\u001b[0m | \u001b[1mINFO    \u001b[0m | \u001b[36msrc.fed_imp.sub_modules.server.base_server\u001b[0m:\u001b[36mrun\u001b[0m:\u001b[36m148\u001b[0m - \u001b[1m==================================================\u001b[0m\n",
      "\u001b[32m2023-08-23 09:30:49.111\u001b[0m | \u001b[1mINFO    \u001b[0m | \u001b[36msrc.fed_imp.sub_modules.server.base_server\u001b[0m:\u001b[36mrun\u001b[0m:\u001b[36m149\u001b[0m - \u001b[1mImputation Round 10\u001b[0m\n",
      "\u001b[32m2023-08-23 09:32:50.890\u001b[0m | \u001b[1mINFO    \u001b[0m | \u001b[36msrc.fed_imp.sub_modules.server.base_server\u001b[0m:\u001b[36mrun\u001b[0m:\u001b[36m148\u001b[0m - \u001b[1m==================================================\u001b[0m\n",
      "\u001b[32m2023-08-23 09:32:50.891\u001b[0m | \u001b[1mINFO    \u001b[0m | \u001b[36msrc.fed_imp.sub_modules.server.base_server\u001b[0m:\u001b[36mrun\u001b[0m:\u001b[36m149\u001b[0m - \u001b[1mImputation Round 20\u001b[0m\n",
      "\u001b[32m2023-08-23 09:33:03.407\u001b[0m | \u001b[1mINFO    \u001b[0m | \u001b[36msrc.fed_imp.sub_modules.server.base_server\u001b[0m:\u001b[36mrun\u001b[0m:\u001b[36m178\u001b[0m - \u001b[1mFL finished in 243.72373109997716\u001b[0m\n"
     ]
    },
    {
     "name": "stdout",
     "output_type": "stream",
     "text": [
      "{'imp@rmse': 0.05174226900979438, 'imp@ws': 0.4128424394791663, 'imp@sliced_ws': 0.008203271821592552}\n",
      "=============================================================\n",
      "(20000, 51)\n",
      "mortality\n",
      "0    14556\n",
      "1     5444\n",
      "Name: count, dtype: int64\n",
      "(18000, 51) (2000, 51)\n",
      "(18000, 51)\n",
      "sample-evenly {}\n",
      "['mnar_quantile_left@0.5', 'mnar_quantile_left@0.5', 'mnar_quantile_left@0.5', 'mnar_quantile_left@0.5', 'mnar_quantile_left@0.5', 'mnar_quantile_left@0.5', 'mnar_quantile_left@0.5', 'mnar_quantile_left@0.5', 'mnar_quantile_left@0.5', 'mnar_quantile_left@0.5', 'mnar_quantile_right@0.5']\n"
     ]
    },
    {
     "name": "stderr",
     "output_type": "stream",
     "text": [
      "\u001b[32m2023-08-23 09:33:06.532\u001b[0m | \u001b[1mINFO    \u001b[0m | \u001b[36msrc.fed_imp.sub_modules.server.base_server\u001b[0m:\u001b[36mrun\u001b[0m:\u001b[36m148\u001b[0m - \u001b[1m==================================================\u001b[0m\n",
      "\u001b[32m2023-08-23 09:33:06.533\u001b[0m | \u001b[1mINFO    \u001b[0m | \u001b[36msrc.fed_imp.sub_modules.server.base_server\u001b[0m:\u001b[36mrun\u001b[0m:\u001b[36m149\u001b[0m - \u001b[1mImputation Round 1\u001b[0m\n",
      "\u001b[32m2023-08-23 09:34:53.780\u001b[0m | \u001b[1mINFO    \u001b[0m | \u001b[36msrc.fed_imp.sub_modules.server.base_server\u001b[0m:\u001b[36mrun\u001b[0m:\u001b[36m148\u001b[0m - \u001b[1m==================================================\u001b[0m\n",
      "\u001b[32m2023-08-23 09:34:53.781\u001b[0m | \u001b[1mINFO    \u001b[0m | \u001b[36msrc.fed_imp.sub_modules.server.base_server\u001b[0m:\u001b[36mrun\u001b[0m:\u001b[36m149\u001b[0m - \u001b[1mImputation Round 10\u001b[0m\n",
      "\u001b[32m2023-08-23 09:37:01.175\u001b[0m | \u001b[1mINFO    \u001b[0m | \u001b[36msrc.fed_imp.sub_modules.server.base_server\u001b[0m:\u001b[36mrun\u001b[0m:\u001b[36m148\u001b[0m - \u001b[1m==================================================\u001b[0m\n",
      "\u001b[32m2023-08-23 09:37:01.176\u001b[0m | \u001b[1mINFO    \u001b[0m | \u001b[36msrc.fed_imp.sub_modules.server.base_server\u001b[0m:\u001b[36mrun\u001b[0m:\u001b[36m149\u001b[0m - \u001b[1mImputation Round 20\u001b[0m\n",
      "\u001b[32m2023-08-23 09:37:13.703\u001b[0m | \u001b[1mINFO    \u001b[0m | \u001b[36msrc.fed_imp.sub_modules.server.base_server\u001b[0m:\u001b[36mrun\u001b[0m:\u001b[36m178\u001b[0m - \u001b[1mFL finished in 249.8405899000354\u001b[0m\n"
     ]
    },
    {
     "name": "stdout",
     "output_type": "stream",
     "text": [
      "{'imp@rmse': 0.051636093824684905, 'imp@ws': 0.41333302591909077, 'imp@sliced_ws': 0.008128932137486366}\n",
      "=============================================================\n",
      "(20000, 51)\n",
      "mortality\n",
      "0    14556\n",
      "1     5444\n",
      "Name: count, dtype: int64\n",
      "(18000, 51) (2000, 51)\n",
      "(18000, 51)\n",
      "sample-evenly {}\n",
      "['mnar_quantile_left@0.5', 'mnar_quantile_left@0.5', 'mnar_quantile_left@0.5', 'mnar_quantile_left@0.5', 'mnar_quantile_left@0.5', 'mnar_quantile_left@0.5', 'mnar_quantile_left@0.5', 'mnar_quantile_left@0.5', 'mnar_quantile_left@0.5', 'mnar_quantile_left@0.5', 'mnar_quantile_right@0.5']\n"
     ]
    },
    {
     "name": "stderr",
     "output_type": "stream",
     "text": [
      "\u001b[32m2023-08-23 09:37:16.815\u001b[0m | \u001b[1mINFO    \u001b[0m | \u001b[36msrc.fed_imp.sub_modules.server.base_server\u001b[0m:\u001b[36mrun\u001b[0m:\u001b[36m148\u001b[0m - \u001b[1m==================================================\u001b[0m\n",
      "\u001b[32m2023-08-23 09:37:16.816\u001b[0m | \u001b[1mINFO    \u001b[0m | \u001b[36msrc.fed_imp.sub_modules.server.base_server\u001b[0m:\u001b[36mrun\u001b[0m:\u001b[36m149\u001b[0m - \u001b[1mImputation Round 1\u001b[0m\n",
      "\u001b[32m2023-08-23 09:39:08.298\u001b[0m | \u001b[1mINFO    \u001b[0m | \u001b[36msrc.fed_imp.sub_modules.server.base_server\u001b[0m:\u001b[36mrun\u001b[0m:\u001b[36m148\u001b[0m - \u001b[1m==================================================\u001b[0m\n",
      "\u001b[32m2023-08-23 09:39:08.299\u001b[0m | \u001b[1mINFO    \u001b[0m | \u001b[36msrc.fed_imp.sub_modules.server.base_server\u001b[0m:\u001b[36mrun\u001b[0m:\u001b[36m149\u001b[0m - \u001b[1mImputation Round 10\u001b[0m\n",
      "\u001b[32m2023-08-23 09:41:15.866\u001b[0m | \u001b[1mINFO    \u001b[0m | \u001b[36msrc.fed_imp.sub_modules.server.base_server\u001b[0m:\u001b[36mrun\u001b[0m:\u001b[36m148\u001b[0m - \u001b[1m==================================================\u001b[0m\n",
      "\u001b[32m2023-08-23 09:41:15.866\u001b[0m | \u001b[1mINFO    \u001b[0m | \u001b[36msrc.fed_imp.sub_modules.server.base_server\u001b[0m:\u001b[36mrun\u001b[0m:\u001b[36m149\u001b[0m - \u001b[1mImputation Round 20\u001b[0m\n",
      "\u001b[32m2023-08-23 09:41:29.072\u001b[0m | \u001b[1mINFO    \u001b[0m | \u001b[36msrc.fed_imp.sub_modules.server.base_server\u001b[0m:\u001b[36mrun\u001b[0m:\u001b[36m178\u001b[0m - \u001b[1mFL finished in 254.92458460002672\u001b[0m\n"
     ]
    },
    {
     "name": "stdout",
     "output_type": "stream",
     "text": [
      "{'imp@rmse': 0.05165635451728335, 'imp@ws': 0.41319585527379504, 'imp@sliced_ws': 0.008142314277959533}\n"
     ]
    }
   ],
   "source": [
    "params = { \"client_thres\": 1.0, \"alpha\": 0.9, \"beta\": 0.1, 'scale_factor': 3}\n",
    "\n",
    "for client_thres in [0.2,0.4,0.6,0.8,1.0]:\n",
    "    print(\"=============================================================\")\n",
    "    params['client_thres'] = client_thres\n",
    "        \n",
    "    run_impute('fedmechw', params, 'mimiciii_mo2')"
   ]
  },
  {
   "cell_type": "code",
   "execution_count": 35,
   "metadata": {},
   "outputs": [
    {
     "name": "stdout",
     "output_type": "stream",
     "text": [
      "=============================================================\n",
      "(20000, 51)\n",
      "mortality\n",
      "0    14556\n",
      "1     5444\n",
      "Name: count, dtype: int64\n",
      "(18000, 51) (2000, 51)\n",
      "(18000, 51)\n",
      "sample-evenly {}\n",
      "['mnar_quantile_left@0.5', 'mnar_quantile_left@0.5', 'mnar_quantile_left@0.5', 'mnar_quantile_left@0.5', 'mnar_quantile_left@0.5', 'mnar_quantile_left@0.5', 'mnar_quantile_left@0.5', 'mnar_quantile_left@0.5', 'mnar_quantile_left@0.5', 'mnar_quantile_left@0.5', 'mnar_quantile_right@0.5']\n"
     ]
    },
    {
     "name": "stderr",
     "output_type": "stream",
     "text": [
      "\u001b[32m2023-08-23 08:54:07.565\u001b[0m | \u001b[1mINFO    \u001b[0m | \u001b[36msrc.fed_imp.sub_modules.server.base_server\u001b[0m:\u001b[36mrun\u001b[0m:\u001b[36m148\u001b[0m - \u001b[1m==================================================\u001b[0m\n",
      "\u001b[32m2023-08-23 08:54:07.566\u001b[0m | \u001b[1mINFO    \u001b[0m | \u001b[36msrc.fed_imp.sub_modules.server.base_server\u001b[0m:\u001b[36mrun\u001b[0m:\u001b[36m149\u001b[0m - \u001b[1mImputation Round 1\u001b[0m\n",
      "\u001b[32m2023-08-23 08:56:12.684\u001b[0m | \u001b[1mINFO    \u001b[0m | \u001b[36msrc.fed_imp.sub_modules.server.base_server\u001b[0m:\u001b[36mrun\u001b[0m:\u001b[36m148\u001b[0m - \u001b[1m==================================================\u001b[0m\n",
      "\u001b[32m2023-08-23 08:56:12.685\u001b[0m | \u001b[1mINFO    \u001b[0m | \u001b[36msrc.fed_imp.sub_modules.server.base_server\u001b[0m:\u001b[36mrun\u001b[0m:\u001b[36m149\u001b[0m - \u001b[1mImputation Round 10\u001b[0m\n",
      "\u001b[32m2023-08-23 08:58:28.079\u001b[0m | \u001b[1mINFO    \u001b[0m | \u001b[36msrc.fed_imp.sub_modules.server.base_server\u001b[0m:\u001b[36mrun\u001b[0m:\u001b[36m148\u001b[0m - \u001b[1m==================================================\u001b[0m\n",
      "\u001b[32m2023-08-23 08:58:28.080\u001b[0m | \u001b[1mINFO    \u001b[0m | \u001b[36msrc.fed_imp.sub_modules.server.base_server\u001b[0m:\u001b[36mrun\u001b[0m:\u001b[36m149\u001b[0m - \u001b[1mImputation Round 20\u001b[0m\n",
      "\u001b[32m2023-08-23 08:58:41.730\u001b[0m | \u001b[1mINFO    \u001b[0m | \u001b[36msrc.fed_imp.sub_modules.server.base_server\u001b[0m:\u001b[36mrun\u001b[0m:\u001b[36m178\u001b[0m - \u001b[1mFL finished in 276.8815225000726\u001b[0m\n"
     ]
    },
    {
     "name": "stdout",
     "output_type": "stream",
     "text": [
      "{'imp@rmse': 0.06021078491422165, 'imp@ws': 0.5890107334061735, 'imp@sliced_ws': 0.019744459539088266}\n",
      "=============================================================\n",
      "(20000, 51)\n",
      "mortality\n",
      "0    14556\n",
      "1     5444\n",
      "Name: count, dtype: int64\n",
      "(18000, 51) (2000, 51)\n",
      "(18000, 51)\n",
      "sample-evenly {}\n",
      "['mnar_quantile_left@0.5', 'mnar_quantile_left@0.5', 'mnar_quantile_left@0.5', 'mnar_quantile_left@0.5', 'mnar_quantile_left@0.5', 'mnar_quantile_left@0.5', 'mnar_quantile_left@0.5', 'mnar_quantile_left@0.5', 'mnar_quantile_left@0.5', 'mnar_quantile_left@0.5', 'mnar_quantile_right@0.5']\n"
     ]
    },
    {
     "name": "stderr",
     "output_type": "stream",
     "text": [
      "\u001b[32m2023-08-23 08:58:44.815\u001b[0m | \u001b[1mINFO    \u001b[0m | \u001b[36msrc.fed_imp.sub_modules.server.base_server\u001b[0m:\u001b[36mrun\u001b[0m:\u001b[36m148\u001b[0m - \u001b[1m==================================================\u001b[0m\n",
      "\u001b[32m2023-08-23 08:58:44.815\u001b[0m | \u001b[1mINFO    \u001b[0m | \u001b[36msrc.fed_imp.sub_modules.server.base_server\u001b[0m:\u001b[36mrun\u001b[0m:\u001b[36m149\u001b[0m - \u001b[1mImputation Round 1\u001b[0m\n",
      "\u001b[32m2023-08-23 09:00:34.020\u001b[0m | \u001b[1mINFO    \u001b[0m | \u001b[36msrc.fed_imp.sub_modules.server.base_server\u001b[0m:\u001b[36mrun\u001b[0m:\u001b[36m148\u001b[0m - \u001b[1m==================================================\u001b[0m\n",
      "\u001b[32m2023-08-23 09:00:34.021\u001b[0m | \u001b[1mINFO    \u001b[0m | \u001b[36msrc.fed_imp.sub_modules.server.base_server\u001b[0m:\u001b[36mrun\u001b[0m:\u001b[36m149\u001b[0m - \u001b[1mImputation Round 10\u001b[0m\n",
      "\u001b[32m2023-08-23 09:02:42.150\u001b[0m | \u001b[1mINFO    \u001b[0m | \u001b[36msrc.fed_imp.sub_modules.server.base_server\u001b[0m:\u001b[36mrun\u001b[0m:\u001b[36m148\u001b[0m - \u001b[1m==================================================\u001b[0m\n",
      "\u001b[32m2023-08-23 09:02:42.151\u001b[0m | \u001b[1mINFO    \u001b[0m | \u001b[36msrc.fed_imp.sub_modules.server.base_server\u001b[0m:\u001b[36mrun\u001b[0m:\u001b[36m149\u001b[0m - \u001b[1mImputation Round 20\u001b[0m\n",
      "\u001b[32m2023-08-23 09:02:55.569\u001b[0m | \u001b[1mINFO    \u001b[0m | \u001b[36msrc.fed_imp.sub_modules.server.base_server\u001b[0m:\u001b[36mrun\u001b[0m:\u001b[36m178\u001b[0m - \u001b[1mFL finished in 253.38098040001933\u001b[0m\n"
     ]
    },
    {
     "name": "stdout",
     "output_type": "stream",
     "text": [
      "{'imp@rmse': 0.05167819946915961, 'imp@ws': 0.4119608649272319, 'imp@sliced_ws': 0.008191949479345735}\n",
      "=============================================================\n",
      "(20000, 51)\n",
      "mortality\n",
      "0    14556\n",
      "1     5444\n",
      "Name: count, dtype: int64\n",
      "(18000, 51) (2000, 51)\n",
      "(18000, 51)\n",
      "sample-evenly {}\n",
      "['mnar_quantile_left@0.5', 'mnar_quantile_left@0.5', 'mnar_quantile_left@0.5', 'mnar_quantile_left@0.5', 'mnar_quantile_left@0.5', 'mnar_quantile_left@0.5', 'mnar_quantile_left@0.5', 'mnar_quantile_left@0.5', 'mnar_quantile_left@0.5', 'mnar_quantile_left@0.5', 'mnar_quantile_right@0.5']\n"
     ]
    },
    {
     "name": "stderr",
     "output_type": "stream",
     "text": [
      "\u001b[32m2023-08-23 09:02:58.667\u001b[0m | \u001b[1mINFO    \u001b[0m | \u001b[36msrc.fed_imp.sub_modules.server.base_server\u001b[0m:\u001b[36mrun\u001b[0m:\u001b[36m148\u001b[0m - \u001b[1m==================================================\u001b[0m\n",
      "\u001b[32m2023-08-23 09:02:58.667\u001b[0m | \u001b[1mINFO    \u001b[0m | \u001b[36msrc.fed_imp.sub_modules.server.base_server\u001b[0m:\u001b[36mrun\u001b[0m:\u001b[36m149\u001b[0m - \u001b[1mImputation Round 1\u001b[0m\n",
      "\u001b[32m2023-08-23 09:04:48.852\u001b[0m | \u001b[1mINFO    \u001b[0m | \u001b[36msrc.fed_imp.sub_modules.server.base_server\u001b[0m:\u001b[36mrun\u001b[0m:\u001b[36m148\u001b[0m - \u001b[1m==================================================\u001b[0m\n",
      "\u001b[32m2023-08-23 09:04:48.853\u001b[0m | \u001b[1mINFO    \u001b[0m | \u001b[36msrc.fed_imp.sub_modules.server.base_server\u001b[0m:\u001b[36mrun\u001b[0m:\u001b[36m149\u001b[0m - \u001b[1mImputation Round 10\u001b[0m\n",
      "\u001b[32m2023-08-23 09:06:55.822\u001b[0m | \u001b[1mINFO    \u001b[0m | \u001b[36msrc.fed_imp.sub_modules.server.base_server\u001b[0m:\u001b[36mrun\u001b[0m:\u001b[36m148\u001b[0m - \u001b[1m==================================================\u001b[0m\n",
      "\u001b[32m2023-08-23 09:06:55.822\u001b[0m | \u001b[1mINFO    \u001b[0m | \u001b[36msrc.fed_imp.sub_modules.server.base_server\u001b[0m:\u001b[36mrun\u001b[0m:\u001b[36m149\u001b[0m - \u001b[1mImputation Round 20\u001b[0m\n",
      "\u001b[32m2023-08-23 09:07:08.374\u001b[0m | \u001b[1mINFO    \u001b[0m | \u001b[36msrc.fed_imp.sub_modules.server.base_server\u001b[0m:\u001b[36mrun\u001b[0m:\u001b[36m178\u001b[0m - \u001b[1mFL finished in 252.3397326999111\u001b[0m\n"
     ]
    },
    {
     "name": "stdout",
     "output_type": "stream",
     "text": [
      "{'imp@rmse': 0.05165832137345263, 'imp@ws': 0.41320749290067915, 'imp@sliced_ws': 0.008143773224991798}\n",
      "=============================================================\n",
      "(20000, 51)\n",
      "mortality\n",
      "0    14556\n",
      "1     5444\n",
      "Name: count, dtype: int64\n",
      "(18000, 51) (2000, 51)\n",
      "(18000, 51)\n",
      "sample-evenly {}\n",
      "['mnar_quantile_left@0.5', 'mnar_quantile_left@0.5', 'mnar_quantile_left@0.5', 'mnar_quantile_left@0.5', 'mnar_quantile_left@0.5', 'mnar_quantile_left@0.5', 'mnar_quantile_left@0.5', 'mnar_quantile_left@0.5', 'mnar_quantile_left@0.5', 'mnar_quantile_left@0.5', 'mnar_quantile_right@0.5']\n"
     ]
    },
    {
     "name": "stderr",
     "output_type": "stream",
     "text": [
      "\u001b[32m2023-08-23 09:07:11.483\u001b[0m | \u001b[1mINFO    \u001b[0m | \u001b[36msrc.fed_imp.sub_modules.server.base_server\u001b[0m:\u001b[36mrun\u001b[0m:\u001b[36m148\u001b[0m - \u001b[1m==================================================\u001b[0m\n",
      "\u001b[32m2023-08-23 09:07:11.484\u001b[0m | \u001b[1mINFO    \u001b[0m | \u001b[36msrc.fed_imp.sub_modules.server.base_server\u001b[0m:\u001b[36mrun\u001b[0m:\u001b[36m149\u001b[0m - \u001b[1mImputation Round 1\u001b[0m\n",
      "\u001b[32m2023-08-23 09:08:58.911\u001b[0m | \u001b[1mINFO    \u001b[0m | \u001b[36msrc.fed_imp.sub_modules.server.base_server\u001b[0m:\u001b[36mrun\u001b[0m:\u001b[36m148\u001b[0m - \u001b[1m==================================================\u001b[0m\n",
      "\u001b[32m2023-08-23 09:08:58.912\u001b[0m | \u001b[1mINFO    \u001b[0m | \u001b[36msrc.fed_imp.sub_modules.server.base_server\u001b[0m:\u001b[36mrun\u001b[0m:\u001b[36m149\u001b[0m - \u001b[1mImputation Round 10\u001b[0m\n",
      "\u001b[32m2023-08-23 09:11:09.679\u001b[0m | \u001b[1mINFO    \u001b[0m | \u001b[36msrc.fed_imp.sub_modules.server.base_server\u001b[0m:\u001b[36mrun\u001b[0m:\u001b[36m148\u001b[0m - \u001b[1m==================================================\u001b[0m\n",
      "\u001b[32m2023-08-23 09:11:09.681\u001b[0m | \u001b[1mINFO    \u001b[0m | \u001b[36msrc.fed_imp.sub_modules.server.base_server\u001b[0m:\u001b[36mrun\u001b[0m:\u001b[36m149\u001b[0m - \u001b[1mImputation Round 20\u001b[0m\n",
      "\u001b[32m2023-08-23 09:11:22.658\u001b[0m | \u001b[1mINFO    \u001b[0m | \u001b[36msrc.fed_imp.sub_modules.server.base_server\u001b[0m:\u001b[36mrun\u001b[0m:\u001b[36m178\u001b[0m - \u001b[1mFL finished in 253.80522929993458\u001b[0m\n"
     ]
    },
    {
     "name": "stdout",
     "output_type": "stream",
     "text": [
      "{'imp@rmse': 0.05166375816515767, 'imp@ws': 0.41319301571493877, 'imp@sliced_ws': 0.008149856205004828}\n",
      "=============================================================\n",
      "(20000, 51)\n",
      "mortality\n",
      "0    14556\n",
      "1     5444\n",
      "Name: count, dtype: int64\n",
      "(18000, 51) (2000, 51)\n",
      "(18000, 51)\n",
      "sample-evenly {}\n",
      "['mnar_quantile_left@0.5', 'mnar_quantile_left@0.5', 'mnar_quantile_left@0.5', 'mnar_quantile_left@0.5', 'mnar_quantile_left@0.5', 'mnar_quantile_left@0.5', 'mnar_quantile_left@0.5', 'mnar_quantile_left@0.5', 'mnar_quantile_left@0.5', 'mnar_quantile_left@0.5', 'mnar_quantile_right@0.5']\n"
     ]
    },
    {
     "name": "stderr",
     "output_type": "stream",
     "text": [
      "\u001b[32m2023-08-23 09:11:25.801\u001b[0m | \u001b[1mINFO    \u001b[0m | \u001b[36msrc.fed_imp.sub_modules.server.base_server\u001b[0m:\u001b[36mrun\u001b[0m:\u001b[36m148\u001b[0m - \u001b[1m==================================================\u001b[0m\n",
      "\u001b[32m2023-08-23 09:11:25.802\u001b[0m | \u001b[1mINFO    \u001b[0m | \u001b[36msrc.fed_imp.sub_modules.server.base_server\u001b[0m:\u001b[36mrun\u001b[0m:\u001b[36m149\u001b[0m - \u001b[1mImputation Round 1\u001b[0m\n",
      "\u001b[32m2023-08-23 09:13:17.554\u001b[0m | \u001b[1mINFO    \u001b[0m | \u001b[36msrc.fed_imp.sub_modules.server.base_server\u001b[0m:\u001b[36mrun\u001b[0m:\u001b[36m148\u001b[0m - \u001b[1m==================================================\u001b[0m\n",
      "\u001b[32m2023-08-23 09:13:17.555\u001b[0m | \u001b[1mINFO    \u001b[0m | \u001b[36msrc.fed_imp.sub_modules.server.base_server\u001b[0m:\u001b[36mrun\u001b[0m:\u001b[36m149\u001b[0m - \u001b[1mImputation Round 10\u001b[0m\n",
      "\u001b[32m2023-08-23 09:15:27.428\u001b[0m | \u001b[1mINFO    \u001b[0m | \u001b[36msrc.fed_imp.sub_modules.server.base_server\u001b[0m:\u001b[36mrun\u001b[0m:\u001b[36m148\u001b[0m - \u001b[1m==================================================\u001b[0m\n",
      "\u001b[32m2023-08-23 09:15:27.429\u001b[0m | \u001b[1mINFO    \u001b[0m | \u001b[36msrc.fed_imp.sub_modules.server.base_server\u001b[0m:\u001b[36mrun\u001b[0m:\u001b[36m149\u001b[0m - \u001b[1mImputation Round 20\u001b[0m\n",
      "\u001b[32m2023-08-23 09:15:40.271\u001b[0m | \u001b[1mINFO    \u001b[0m | \u001b[36msrc.fed_imp.sub_modules.server.base_server\u001b[0m:\u001b[36mrun\u001b[0m:\u001b[36m178\u001b[0m - \u001b[1mFL finished in 257.15209810005035\u001b[0m\n"
     ]
    },
    {
     "name": "stdout",
     "output_type": "stream",
     "text": [
      "{'imp@rmse': 0.05167047287157184, 'imp@ws': 0.41318864728681126, 'imp@sliced_ws': 0.008159208246406414}\n"
     ]
    }
   ],
   "source": [
    "params = { \"client_thres\": 1.0, \"alpha\": 0.9, \"beta\": 0.1, 'scale_factor': 1}\n",
    "\n",
    "for scale_factor in [1,2,4,6,8]:\n",
    "    print(\"=============================================================\")\n",
    "    params['scale_factor'] = scale_factor\n",
    "    run_impute('fedmechw', params, 'mimiciii_mo2')"
   ]
  }
 ],
 "metadata": {
  "kernelspec": {
   "display_name": "Python 3",
   "language": "python",
   "name": "python3"
  },
  "language_info": {
   "codemirror_mode": {
    "name": "ipython",
    "version": 3
   },
   "file_extension": ".py",
   "mimetype": "text/x-python",
   "name": "python",
   "nbconvert_exporter": "python",
   "pygments_lexer": "ipython3",
   "version": "3.10.14"
  },
  "orig_nbformat": 4
 },
 "nbformat": 4,
 "nbformat_minor": 2
}
