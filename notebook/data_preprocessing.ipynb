{
 "cells": [
  {
   "cell_type": "code",
   "execution_count": 1,
   "metadata": {
    "ExecuteTime": {
     "end_time": "2023-05-18T23:42:19.561277600Z",
     "start_time": "2023-05-18T23:42:19.548508Z"
    },
    "collapsed": false
   },
   "outputs": [
    {
     "name": "stdout",
     "output_type": "stream",
     "text": [
      "m:\\OneDrive\\Projects\\federated_imputation_pc2\n"
     ]
    }
   ],
   "source": [
    "cd .."
   ]
  },
  {
   "cell_type": "code",
   "execution_count": 2,
   "metadata": {
    "ExecuteTime": {
     "end_time": "2023-05-18T23:42:26.443911300Z",
     "start_time": "2023-05-18T23:42:24.788189Z"
    },
    "collapsed": true
   },
   "outputs": [],
   "source": [
    "import pandas as pd\n",
    "from src.modules.data_prep_utils import normalization, move_target_to_end\n",
    "from dython.nominal import correlation_ratio\n",
    "from sklearn.preprocessing import PowerTransformer, OneHotEncoder, MinMaxScaler, StandardScaler, RobustScaler\n",
    "from sklearn.model_selection import train_test_split\n",
    "from sklearn.neural_network import MLPClassifier, MLPRegressor\n",
    "from sklearn.metrics import accuracy_score, f1_score, mean_squared_error, r2_score, recall_score, precision_score, roc_auc_score, average_precision_score\n",
    "from sklearn.decomposition import PCA\n",
    "from sklearn.inspection import DecisionBoundaryDisplay\n",
    "from sklearn.linear_model import LogisticRegression\n",
    "import matplotlib.pyplot as plt\n",
    "import seaborn as sns\n",
    "from imblearn.under_sampling import RandomUnderSampler\n",
    "from imblearn.over_sampling import SMOTE\n",
    "from imblearn.combine import SMOTETomek, SMOTEENN\n",
    "import numpy as np\n"
   ]
  },
  {
   "attachments": {},
   "cell_type": "markdown",
   "metadata": {},
   "source": [
    "# Classification Data"
   ]
  },
  {
   "cell_type": "code",
   "execution_count": 7,
   "metadata": {
    "ExecuteTime": {
     "end_time": "2023-05-18T23:42:35.101421500Z",
     "start_time": "2023-05-18T23:42:35.089891300Z"
    }
   },
   "outputs": [],
   "source": [
    "def convert_gaussian(data, target_col):\n",
    "    for col in data.columns:\n",
    "        if col != target_col:\n",
    "            pt = PowerTransformer()\n",
    "            data[col] = pt.fit_transform(data[col].values.reshape(-1, 1)).flatten()\n",
    "    return data"
   ]
  },
  {
   "cell_type": "code",
   "execution_count": 8,
   "metadata": {
    "ExecuteTime": {
     "end_time": "2023-05-18T23:42:36.421144700Z",
     "start_time": "2023-05-18T23:42:36.404133200Z"
    }
   },
   "outputs": [],
   "source": [
    "def run_regression(data, target_col):\n",
    "\n",
    "    X_train, X_test, y_train, y_test = train_test_split(data.drop(target_col, axis=1), data[target_col], test_size=0.2, random_state=42)\n",
    "    print(\"X_train: {}\".format(X_train.shape))\n",
    "    clf = MLPRegressor(hidden_layer_sizes = [64, 64], random_state=42, max_iter=1000).fit(X_train, y_train)\n",
    "    y_pred = clf.predict(X_test)\n",
    "\n",
    "    rmse = mean_squared_error(y_test, y_pred)\n",
    "    r2 = r2_score(y_test, y_pred)\n",
    "\n",
    "    print(\"RMSE: {}\".format(rmse))\n",
    "    print(\"R2: {}\".format(r2))\n",
    "\n",
    "    return y_pred, y_test"
   ]
  },
  {
   "cell_type": "code",
   "execution_count": 9,
   "metadata": {},
   "outputs": [],
   "source": [
    "def run_classification(data, target_col, smote = None):\n",
    "\n",
    "    X_train, X_test, y_train, y_test = train_test_split(data.drop(target_col, axis=1), data[target_col], test_size=0.2, random_state=42)\n",
    "\n",
    "    if smote == 'smote':\n",
    "        sm = SMOTETomek(random_state = 42)\n",
    "        X_train, y_train = sm.fit_resample(X_train, y_train)\n",
    "    elif smote == 'rus':\n",
    "        sm = RandomUnderSampler(random_state = 42)\n",
    "        X_train, y_train = sm.fit_resample(X_train, y_train)\n",
    "    else:\n",
    "        pass\n",
    "    \n",
    "    print('X_train shape: {}'.format(X_train.shape))\n",
    "\n",
    "    clf = MLPClassifier(\n",
    "        hidden_layer_sizes = [64, 64], random_state=42, max_iter=1000, alpha = 0.001\n",
    "    ).fit(X_train, y_train)\n",
    "    y_pred = clf.predict(X_test)\n",
    "\n",
    "    accu = clf.score(X_test, y_test)\n",
    "    \n",
    "    if len(y_test.unique()) == 2:   \n",
    "        f1 = f1_score(y_test, y_pred)\n",
    "        print(\"Accuracy: {}\".format(accu))\n",
    "        print(\"F1: {}\".format(f1))\n",
    "        print('Recall: {}'.format(recall_score(y_test, y_pred)))\n",
    "        print('Precision: {}'.format(precision_score(y_test, y_pred)))\n",
    "        print('ROC: {}'.format(roc_auc_score(y_test, y_pred)))\n",
    "        print('PRC: {}'.format(average_precision_score(y_test, y_pred)))\n",
    "    else:\n",
    "        f1 = f1_score(y_test, y_pred, average = 'micro')\n",
    "        y_prob = clf.predict_proba(X_test)\n",
    "        print(\"Accuracy: {}\".format(accu))\n",
    "        print(\"F1: {}\".format(f1))\n",
    "        print('ROC: {}'.format(roc_auc_score(y_test, y_prob, multi_class = 'ovr', average = 'micro')))\n",
    "\n",
    "    # clf = LogisticRegression(random_state=42, max_iter=1000).fit(X_train, y_train)\n",
    "    # y_pred = clf.predict(X_test)\n",
    "\n",
    "    # accu = clf.score(X_test, y_test)\n",
    "    # f1 = f1_score(y_test, y_pred)\n",
    "    # print(\"Accuracy: {}\".format(accu))\n",
    "    # print(\"F1: {}\".format(f1))\n",
    "    # print('Recall: {}'.format(recall_score(y_test, y_pred)))\n",
    "    # print('Precision: {}'.format(precision_score(y_test, y_pred)))"
   ]
  },
  {
   "attachments": {},
   "cell_type": "markdown",
   "metadata": {},
   "source": [
    "## Iris"
   ]
  },
  {
   "cell_type": "code",
   "execution_count": 17,
   "metadata": {},
   "outputs": [
    {
     "name": "stdout",
     "output_type": "stream",
     "text": [
      "['3', '4', '1', '2']\n",
      "(150, 5)\n",
      "3\n",
      "Average correlation: 0.8366399020186166 0.9702159417163926\n",
      "0    0.333333\n",
      "1    0.333333\n",
      "2    0.333333\n",
      "Name: 5, dtype: float64\n"
     ]
    },
    {
     "data": {
      "text/plain": [
       "5    1.000000\n",
       "3    0.970216\n",
       "4    0.963761\n",
       "1    0.786578\n",
       "2    0.626004\n",
       "dtype: float64"
      ]
     },
     "execution_count": 17,
     "metadata": {},
     "output_type": "execute_result"
    }
   ],
   "source": [
    "normalize = True\n",
    "threshold = 0.3\n",
    "data = pd.read_csv(\"./data/iris/iris.csv\", header=None)\n",
    "data = data.dropna()\n",
    "data.columns = [str(i) for i in range(1, data.shape[1] + 1)]\n",
    "data['5'] = data['5'].map({'Iris-setosa': 0, 'Iris-versicolor': 1, 'Iris-virginica': 2})\n",
    "target_col = '5'\n",
    "\n",
    "if normalize:\n",
    "\tdata = normalization(data, target_col)\n",
    "\n",
    "# move target to the end of the dataframe\n",
    "data = move_target_to_end(data, target_col)\n",
    "\n",
    "# correlation\n",
    "correlation_ret = data.corrwith(data[target_col], method=correlation_ratio).sort_values(ascending=False)\n",
    "important_features = correlation_ret[correlation_ret >= threshold].index.tolist()\n",
    "important_features.remove(target_col)\n",
    "print(important_features)\n",
    "print(data.shape)\n",
    "print(len(data[target_col].unique()))\n",
    "print(\"Average correlation: {} {}\".format(correlation_ret[1:].mean(), correlation_ret[1:].max()))\n",
    "print(data[target_col].value_counts(normalize=True))\n",
    "data_config = {\n",
    "\t'target': 'diagnosis',\n",
    "\t'important_features_idx': [data.columns.tolist().index(feature) for feature in important_features],\n",
    "\t'features_idx': [idx for idx in range(0, data.shape[1]) if data.columns[idx] != 'diagnosis'],\n",
    "\t'num_cols': data.shape[1] - 1,\n",
    "\t'task_type': 'classification',\n",
    "\t'clf_type': 'multi-class'\n",
    "}\n",
    "correlation_ret"
   ]
  },
  {
   "cell_type": "markdown",
   "metadata": {
    "collapsed": false
   },
   "source": [
    "## Breast Cancer"
   ]
  },
  {
   "cell_type": "code",
   "execution_count": 10,
   "metadata": {
    "collapsed": false
   },
   "outputs": [
    {
     "name": "stdout",
     "output_type": "stream",
     "text": [
      "['area_mean', 'concavity_mean', 'concavity_worst', 'area_se', 'smoothness_worst', 'symmetry_worst', 'texture_mean', 'smoothness_mean', 'symmetry_mean', 'fractal_dimension_worst']\n",
      "(569, 17)\n",
      "2\n",
      "Average correlation: 0.33159035999547587 0.70898383658539\n",
      "0    0.627417\n",
      "1    0.372583\n",
      "Name: diagnosis, dtype: float64\n"
     ]
    },
    {
     "data": {
      "text/plain": [
       "diagnosis                  1.000000\n",
       "area_mean                  0.708984\n",
       "concavity_mean             0.696360\n",
       "concavity_worst            0.659610\n",
       "area_se                    0.548236\n",
       "smoothness_worst           0.421465\n",
       "symmetry_worst             0.416294\n",
       "texture_mean               0.415185\n",
       "smoothness_mean            0.358560\n",
       "symmetry_mean              0.330499\n",
       "fractal_dimension_worst    0.323872\n",
       "concavity_se               0.253730\n",
       "fractal_dimension_se       0.077972\n",
       "smoothness_se              0.067016\n",
       "fractal_dimension_mean     0.012838\n",
       "texture_se                 0.008303\n",
       "symmetry_se                0.006522\n",
       "dtype: float64"
      ]
     },
     "execution_count": 10,
     "metadata": {},
     "output_type": "execute_result"
    }
   ],
   "source": [
    "normalize = True\n",
    "threshold = 0.3\n",
    "data = pd.read_csv(\"./data/breast/data.csv\", header=0)\n",
    "data = data.drop([\"id\"], axis=1)\n",
    "data = data.dropna()\n",
    "data['diagnosis'] = data['diagnosis'].map({'M': 1, 'B': 0})\n",
    "\n",
    "target_col = 'diagnosis'\n",
    "\n",
    "if normalize:\n",
    "\tdata = normalization(data, target_col)\n",
    "\n",
    "# drop co-linear features\n",
    "drop_list = ['perimeter_mean', 'radius_mean', 'compactness_mean', 'concave points_mean', 'radius_se',\n",
    "\t\t\t 'perimeter_se', 'radius_worst', 'perimeter_worst', 'compactness_worst', 'concave points_worst',\n",
    "\t\t\t 'compactness_se', 'concave points_se', 'texture_worst', 'area_worst']\n",
    "data = data.drop(drop_list, axis=1)  # do not modify x, we will use it later\n",
    "\n",
    "# move target to the end of the dataframe\n",
    "data = move_target_to_end(data, target_col)\n",
    "\n",
    "# correlation\n",
    "correlation_ret = data.corrwith(data[target_col], method=correlation_ratio).sort_values(ascending=False)\n",
    "important_features = correlation_ret[correlation_ret >= threshold].index.tolist()\n",
    "important_features.remove(target_col)\n",
    "print(important_features)\n",
    "print(data.shape)\n",
    "print(len(data[target_col].unique()))\n",
    "print(\"Average correlation: {} {}\".format(correlation_ret[1:].mean(), correlation_ret[1:].max()))\n",
    "print(data[target_col].value_counts(normalize=True))\n",
    "# data_config = {\n",
    "# \t'target': 'diagnosis',\n",
    "# \t'important_features_idx': [data.columns.tolist().index(feature) for feature in important_features],\n",
    "# \t'features_idx': [idx for idx in range(0, data.shape[1]) if data.columns[idx] != 'diagnosis'],\n",
    "# \t'num_cols': data.shape[1] - 1,\n",
    "# \t'task_type': 'classification',\n",
    "# \t'clf_type': 'binary-class'\n",
    "# }\n",
    "correlation_ret"
   ]
  },
  {
   "cell_type": "markdown",
   "metadata": {
    "collapsed": false
   },
   "source": [
    "## Wine Red"
   ]
  },
  {
   "cell_type": "code",
   "execution_count": 20,
   "metadata": {
    "collapsed": false
   },
   "outputs": [
    {
     "name": "stdout",
     "output_type": "stream",
     "text": [
      "5    681\n",
      "6    638\n",
      "7    199\n",
      "4     53\n",
      "8     18\n",
      "3     10\n",
      "Name: quality, dtype: int64\n",
      "['alcohol', 'volatile acidity', 'total sulfur dioxide', 'sulphates', 'citric acid', 'density']\n",
      "(1599, 12)\n",
      "6\n",
      "Average correlation: 0.22335763929061636 0.5163981913679647\n",
      "5    0.425891\n",
      "6    0.398999\n",
      "7    0.124453\n",
      "4    0.033146\n",
      "8    0.011257\n",
      "3    0.006254\n",
      "Name: quality, dtype: float64\n"
     ]
    },
    {
     "data": {
      "text/plain": [
       "quality                 1.000000\n",
       "alcohol                 0.516398\n",
       "volatile acidity        0.400631\n",
       "total sulfur dioxide    0.272119\n",
       "sulphates               0.255621\n",
       "citric acid             0.241260\n",
       "density                 0.200875\n",
       "fixed acidity           0.139067\n",
       "chlorides               0.136353\n",
       "free sulfur dioxide     0.121255\n",
       "pH                      0.115950\n",
       "residual sugar          0.057405\n",
       "dtype: float64"
      ]
     },
     "execution_count": 20,
     "metadata": {},
     "output_type": "execute_result"
    }
   ],
   "source": [
    "threshold = 0.15\n",
    "data = pd.read_csv(\"./data/wine/winequality-red.csv\", delimiter=';')\n",
    "\n",
    "# data = data.drop([\"id\", \"Unnamed: 32\"], axis=1)\n",
    "data = data.dropna()\n",
    "\n",
    "print(data['quality'].value_counts())\n",
    "#data['target'] = data.apply(lambda row: 0 if row['quality'] <= 5 else 1, axis=1)\n",
    "#data = data.drop('quality', axis=1)\n",
    "\n",
    "target_col = 'quality'\n",
    "if normalize:\n",
    "\tdata = normalization(data, target_col)\n",
    "data = move_target_to_end(data, target_col)\n",
    "\n",
    "# print(\"Wine Red data loaded. Train size {}, Test size {}\".format(train.shape, test.shape))\n",
    "correlation_ret = data.corrwith(data[target_col], method=correlation_ratio).sort_values(ascending=False)\n",
    "important_features = correlation_ret[correlation_ret >= threshold].index.tolist()\n",
    "important_features.remove(target_col)\n",
    "print(important_features)\n",
    "\n",
    "# data_config = {\n",
    "# \t'target': target_col,\n",
    "# \t'important_features_idx': [data.columns.tolist().index(feature) for feature in important_features],\n",
    "# \t'features_idx': [idx for idx in range(0, data.shape[1]) if data.columns[idx] != target_col],\n",
    "# \t\"num_cols\": data.shape[1] - 1,\n",
    "# \t'task_type': 'classification',\n",
    "# \t'clf_type': 'binary-class'\n",
    "# }\n",
    "\n",
    "# if verbose:\n",
    "# \tprint(\"Data shape {} Test shape {}\".format(data.shape))\n",
    "# \tprint(data_config)\n",
    "print(data.shape)\n",
    "print(len(data[target_col].unique()))\n",
    "print(\"Average correlation: {} {}\".format(correlation_ret[1:].mean(), correlation_ret[1:].max()))\n",
    "print(data[target_col].value_counts(normalize=True))\n",
    "correlation_ret"
   ]
  },
  {
   "cell_type": "markdown",
   "metadata": {
    "collapsed": false
   },
   "source": [
    "## Wine White"
   ]
  },
  {
   "cell_type": "code",
   "execution_count": 22,
   "metadata": {
    "collapsed": false
   },
   "outputs": [
    {
     "name": "stdout",
     "output_type": "stream",
     "text": [
      "6    2198\n",
      "5    1457\n",
      "7     880\n",
      "8     175\n",
      "4     163\n",
      "3      20\n",
      "9       5\n",
      "Name: quality, dtype: int64\n",
      "['alcohol', 'density', 'volatile acidity', 'total sulfur dioxide', 'chlorides', 'residual sugar', 'free sulfur dioxide']\n",
      "(4898, 12)\n",
      "7\n",
      "Average correlation: 0.20032979867866105 0.4688951098954679\n",
      "6    0.448755\n",
      "5    0.297468\n",
      "7    0.179665\n",
      "8    0.035729\n",
      "4    0.033279\n",
      "3    0.004083\n",
      "9    0.001021\n",
      "Name: quality, dtype: float64\n"
     ]
    },
    {
     "data": {
      "text/plain": [
       "quality                 1.000000\n",
       "alcohol                 0.468895\n",
       "density                 0.339018\n",
       "volatile acidity        0.265695\n",
       "total sulfur dioxide    0.229209\n",
       "chlorides               0.222536\n",
       "residual sugar          0.159467\n",
       "free sulfur dioxide     0.153702\n",
       "fixed acidity           0.124789\n",
       "pH                      0.110645\n",
       "sulphates               0.066696\n",
       "citric acid             0.062975\n",
       "dtype: float64"
      ]
     },
     "execution_count": 22,
     "metadata": {},
     "output_type": "execute_result"
    }
   ],
   "source": [
    "threshold = 0.15\n",
    "data = pd.read_csv(\"./data/wine/winequality-white.csv\", delimiter=';')\n",
    "data = data.dropna()\n",
    "print(data['quality'].value_counts())\n",
    "#data['target'] = data.apply(lambda row: 0 if row['quality'] <= 5 else 1, axis=1)\n",
    "#data = data.drop(['quality'], axis=1)\n",
    "\n",
    "target_col = 'quality'\n",
    "if normalize:\n",
    "\tdata = normalization(data, target_col)\n",
    "data = move_target_to_end(data, target_col)\n",
    "correlation_ret = data.corrwith(data[target_col], method=correlation_ratio).sort_values(ascending=False)\n",
    "important_features = correlation_ret[correlation_ret >= threshold].index.tolist()\n",
    "important_features.remove(target_col)\n",
    "print(important_features)\n",
    "print(data.shape)\n",
    "print(len(data[target_col].unique()))\n",
    "print(\"Average correlation: {} {}\".format(correlation_ret[1:].mean(), correlation_ret[1:].max()))\n",
    "print(data[target_col].value_counts(normalize=True))\n",
    "correlation_ret"
   ]
  },
  {
   "attachments": {},
   "cell_type": "markdown",
   "metadata": {},
   "source": [
    "## Wine all three"
   ]
  },
  {
   "cell_type": "code",
   "execution_count": 6,
   "metadata": {},
   "outputs": [
    {
     "name": "stdout",
     "output_type": "stream",
     "text": [
      "1    3915\n",
      "0    2384\n",
      "2     198\n",
      "Name: quality, dtype: int64\n",
      "['alcohol', 'density', 'volatile acidity', 'chlorides', 'type']\n",
      "(6497, 13)\n",
      "3\n",
      "Average correlation: 0.13679298297333367 0.4143662905490882\n",
      "1    0.602586\n",
      "0    0.366939\n",
      "2    0.030476\n",
      "Name: quality, dtype: float64\n"
     ]
    },
    {
     "data": {
      "text/html": [
       "<div>\n",
       "<style scoped>\n",
       "    .dataframe tbody tr th:only-of-type {\n",
       "        vertical-align: middle;\n",
       "    }\n",
       "\n",
       "    .dataframe tbody tr th {\n",
       "        vertical-align: top;\n",
       "    }\n",
       "\n",
       "    .dataframe thead th {\n",
       "        text-align: right;\n",
       "    }\n",
       "</style>\n",
       "<table border=\"1\" class=\"dataframe\">\n",
       "  <thead>\n",
       "    <tr style=\"text-align: right;\">\n",
       "      <th></th>\n",
       "      <th>fixed acidity</th>\n",
       "      <th>volatile acidity</th>\n",
       "      <th>citric acid</th>\n",
       "      <th>residual sugar</th>\n",
       "      <th>chlorides</th>\n",
       "      <th>free sulfur dioxide</th>\n",
       "      <th>total sulfur dioxide</th>\n",
       "      <th>density</th>\n",
       "      <th>pH</th>\n",
       "      <th>sulphates</th>\n",
       "      <th>alcohol</th>\n",
       "      <th>type</th>\n",
       "      <th>quality</th>\n",
       "    </tr>\n",
       "  </thead>\n",
       "  <tbody>\n",
       "    <tr>\n",
       "      <th>0</th>\n",
       "      <td>0.264463</td>\n",
       "      <td>0.126667</td>\n",
       "      <td>0.216867</td>\n",
       "      <td>0.308282</td>\n",
       "      <td>0.059801</td>\n",
       "      <td>0.152778</td>\n",
       "      <td>0.377880</td>\n",
       "      <td>0.267785</td>\n",
       "      <td>0.217054</td>\n",
       "      <td>0.129213</td>\n",
       "      <td>0.115942</td>\n",
       "      <td>0</td>\n",
       "      <td>1</td>\n",
       "    </tr>\n",
       "    <tr>\n",
       "      <th>1</th>\n",
       "      <td>0.206612</td>\n",
       "      <td>0.146667</td>\n",
       "      <td>0.204819</td>\n",
       "      <td>0.015337</td>\n",
       "      <td>0.066445</td>\n",
       "      <td>0.045139</td>\n",
       "      <td>0.290323</td>\n",
       "      <td>0.132832</td>\n",
       "      <td>0.449612</td>\n",
       "      <td>0.151685</td>\n",
       "      <td>0.217391</td>\n",
       "      <td>0</td>\n",
       "      <td>1</td>\n",
       "    </tr>\n",
       "    <tr>\n",
       "      <th>2</th>\n",
       "      <td>0.355372</td>\n",
       "      <td>0.133333</td>\n",
       "      <td>0.240964</td>\n",
       "      <td>0.096626</td>\n",
       "      <td>0.068106</td>\n",
       "      <td>0.100694</td>\n",
       "      <td>0.209677</td>\n",
       "      <td>0.154039</td>\n",
       "      <td>0.418605</td>\n",
       "      <td>0.123596</td>\n",
       "      <td>0.304348</td>\n",
       "      <td>0</td>\n",
       "      <td>1</td>\n",
       "    </tr>\n",
       "    <tr>\n",
       "      <th>3</th>\n",
       "      <td>0.280992</td>\n",
       "      <td>0.100000</td>\n",
       "      <td>0.192771</td>\n",
       "      <td>0.121166</td>\n",
       "      <td>0.081395</td>\n",
       "      <td>0.159722</td>\n",
       "      <td>0.414747</td>\n",
       "      <td>0.163678</td>\n",
       "      <td>0.364341</td>\n",
       "      <td>0.101124</td>\n",
       "      <td>0.275362</td>\n",
       "      <td>0</td>\n",
       "      <td>1</td>\n",
       "    </tr>\n",
       "    <tr>\n",
       "      <th>4</th>\n",
       "      <td>0.280992</td>\n",
       "      <td>0.100000</td>\n",
       "      <td>0.192771</td>\n",
       "      <td>0.121166</td>\n",
       "      <td>0.081395</td>\n",
       "      <td>0.159722</td>\n",
       "      <td>0.414747</td>\n",
       "      <td>0.163678</td>\n",
       "      <td>0.364341</td>\n",
       "      <td>0.101124</td>\n",
       "      <td>0.275362</td>\n",
       "      <td>0</td>\n",
       "      <td>1</td>\n",
       "    </tr>\n",
       "    <tr>\n",
       "      <th>...</th>\n",
       "      <td>...</td>\n",
       "      <td>...</td>\n",
       "      <td>...</td>\n",
       "      <td>...</td>\n",
       "      <td>...</td>\n",
       "      <td>...</td>\n",
       "      <td>...</td>\n",
       "      <td>...</td>\n",
       "      <td>...</td>\n",
       "      <td>...</td>\n",
       "      <td>...</td>\n",
       "      <td>...</td>\n",
       "      <td>...</td>\n",
       "    </tr>\n",
       "    <tr>\n",
       "      <th>1594</th>\n",
       "      <td>0.198347</td>\n",
       "      <td>0.346667</td>\n",
       "      <td>0.048193</td>\n",
       "      <td>0.021472</td>\n",
       "      <td>0.134551</td>\n",
       "      <td>0.107639</td>\n",
       "      <td>0.087558</td>\n",
       "      <td>0.150183</td>\n",
       "      <td>0.565891</td>\n",
       "      <td>0.202247</td>\n",
       "      <td>0.362319</td>\n",
       "      <td>1</td>\n",
       "      <td>0</td>\n",
       "    </tr>\n",
       "    <tr>\n",
       "      <th>1595</th>\n",
       "      <td>0.173554</td>\n",
       "      <td>0.313333</td>\n",
       "      <td>0.060241</td>\n",
       "      <td>0.024540</td>\n",
       "      <td>0.088040</td>\n",
       "      <td>0.131944</td>\n",
       "      <td>0.103687</td>\n",
       "      <td>0.154425</td>\n",
       "      <td>0.620155</td>\n",
       "      <td>0.303371</td>\n",
       "      <td>0.463768</td>\n",
       "      <td>1</td>\n",
       "      <td>1</td>\n",
       "    </tr>\n",
       "    <tr>\n",
       "      <th>1596</th>\n",
       "      <td>0.206612</td>\n",
       "      <td>0.286667</td>\n",
       "      <td>0.078313</td>\n",
       "      <td>0.026074</td>\n",
       "      <td>0.111296</td>\n",
       "      <td>0.097222</td>\n",
       "      <td>0.078341</td>\n",
       "      <td>0.166377</td>\n",
       "      <td>0.542636</td>\n",
       "      <td>0.297753</td>\n",
       "      <td>0.434783</td>\n",
       "      <td>1</td>\n",
       "      <td>1</td>\n",
       "    </tr>\n",
       "    <tr>\n",
       "      <th>1597</th>\n",
       "      <td>0.173554</td>\n",
       "      <td>0.376667</td>\n",
       "      <td>0.072289</td>\n",
       "      <td>0.021472</td>\n",
       "      <td>0.109635</td>\n",
       "      <td>0.107639</td>\n",
       "      <td>0.087558</td>\n",
       "      <td>0.161172</td>\n",
       "      <td>0.658915</td>\n",
       "      <td>0.275281</td>\n",
       "      <td>0.318841</td>\n",
       "      <td>1</td>\n",
       "      <td>0</td>\n",
       "    </tr>\n",
       "    <tr>\n",
       "      <th>1598</th>\n",
       "      <td>0.181818</td>\n",
       "      <td>0.153333</td>\n",
       "      <td>0.283133</td>\n",
       "      <td>0.046012</td>\n",
       "      <td>0.096346</td>\n",
       "      <td>0.059028</td>\n",
       "      <td>0.082949</td>\n",
       "      <td>0.161558</td>\n",
       "      <td>0.519380</td>\n",
       "      <td>0.247191</td>\n",
       "      <td>0.434783</td>\n",
       "      <td>1</td>\n",
       "      <td>1</td>\n",
       "    </tr>\n",
       "  </tbody>\n",
       "</table>\n",
       "<p>6497 rows × 13 columns</p>\n",
       "</div>"
      ],
      "text/plain": [
       "      fixed acidity  volatile acidity  citric acid  residual sugar  chlorides  \\\n",
       "0          0.264463          0.126667     0.216867        0.308282   0.059801   \n",
       "1          0.206612          0.146667     0.204819        0.015337   0.066445   \n",
       "2          0.355372          0.133333     0.240964        0.096626   0.068106   \n",
       "3          0.280992          0.100000     0.192771        0.121166   0.081395   \n",
       "4          0.280992          0.100000     0.192771        0.121166   0.081395   \n",
       "...             ...               ...          ...             ...        ...   \n",
       "1594       0.198347          0.346667     0.048193        0.021472   0.134551   \n",
       "1595       0.173554          0.313333     0.060241        0.024540   0.088040   \n",
       "1596       0.206612          0.286667     0.078313        0.026074   0.111296   \n",
       "1597       0.173554          0.376667     0.072289        0.021472   0.109635   \n",
       "1598       0.181818          0.153333     0.283133        0.046012   0.096346   \n",
       "\n",
       "      free sulfur dioxide  total sulfur dioxide   density        pH  \\\n",
       "0                0.152778              0.377880  0.267785  0.217054   \n",
       "1                0.045139              0.290323  0.132832  0.449612   \n",
       "2                0.100694              0.209677  0.154039  0.418605   \n",
       "3                0.159722              0.414747  0.163678  0.364341   \n",
       "4                0.159722              0.414747  0.163678  0.364341   \n",
       "...                   ...                   ...       ...       ...   \n",
       "1594             0.107639              0.087558  0.150183  0.565891   \n",
       "1595             0.131944              0.103687  0.154425  0.620155   \n",
       "1596             0.097222              0.078341  0.166377  0.542636   \n",
       "1597             0.107639              0.087558  0.161172  0.658915   \n",
       "1598             0.059028              0.082949  0.161558  0.519380   \n",
       "\n",
       "      sulphates   alcohol  type  quality  \n",
       "0      0.129213  0.115942     0        1  \n",
       "1      0.151685  0.217391     0        1  \n",
       "2      0.123596  0.304348     0        1  \n",
       "3      0.101124  0.275362     0        1  \n",
       "4      0.101124  0.275362     0        1  \n",
       "...         ...       ...   ...      ...  \n",
       "1594   0.202247  0.362319     1        0  \n",
       "1595   0.303371  0.463768     1        1  \n",
       "1596   0.297753  0.434783     1        1  \n",
       "1597   0.275281  0.318841     1        0  \n",
       "1598   0.247191  0.434783     1        1  \n",
       "\n",
       "[6497 rows x 13 columns]"
      ]
     },
     "execution_count": 6,
     "metadata": {},
     "output_type": "execute_result"
    }
   ],
   "source": [
    "threshold = 0.1\n",
    "normalize = True\n",
    "# merge data\n",
    "data_white = pd.read_csv(\"./data/wine/winequality-white.csv\", delimiter=';')\n",
    "data_white['type'] = 0\n",
    "data_red = pd.read_csv(\"./data/wine/winequality-red.csv\", delimiter=';')\n",
    "data_red['type'] = 1\n",
    "data = pd.concat([data_white, data_red], axis=0)\n",
    "data = data.dropna()\n",
    "\n",
    "# label\n",
    "data['quality'] = data.apply(lambda row: 0 if row['quality'] <= 5 else 1 if row['quality'] <=7 else 2, axis=1)\n",
    "print(data['quality'].value_counts())\n",
    "target_col = 'quality'\n",
    "data = move_target_to_end(data, target_col)\n",
    "\n",
    "# normalize\n",
    "if normalize:\n",
    "    data = normalization(data, target_col, categorical_cols=['type'])\n",
    "\n",
    "# correlation\n",
    "correlation_ret = data.corrwith(data[target_col], method=correlation_ratio).sort_values(ascending=False)\n",
    "important_features = correlation_ret[correlation_ret >= threshold].index.tolist()\n",
    "important_features.remove(target_col)\n",
    "print(important_features)\n",
    "print(data.shape)\n",
    "print(len(data[target_col].unique()))\n",
    "print(\"Average correlation: {} {}\".format(correlation_ret[1:].mean(), correlation_ret[1:].max()))\n",
    "print(data[target_col].value_counts(normalize=True))\n",
    "correlation_ret\n",
    "data"
   ]
  },
  {
   "cell_type": "markdown",
   "metadata": {
    "collapsed": false
   },
   "source": [
    "## Spambase"
   ]
  },
  {
   "cell_type": "code",
   "execution_count": null,
   "metadata": {
    "collapsed": false
   },
   "outputs": [],
   "source": [
    "threshold = 0.1\n",
    "data = pd.read_csv(\"./data/spambase/spambase.csv\", header=None)\n",
    "\n",
    "# data = data.drop([\"id\", \"Unnamed: 32\"], axis=1)\n",
    "data = data.dropna()\n",
    "data.columns = [str(i) for i in range(1, data.shape[1] + 1)]\n",
    "target_col = '58'\n",
    "\n",
    "# Normalization\n",
    "if normalize:\n",
    "\tdata = normalization(data, target_col)\n",
    "\n",
    "# move target to the end of the dataframe\n",
    "data = move_target_to_end(data, target_col)\n",
    "\n",
    "# split train and test\n",
    "correlation_ret = data.corrwith(data[target_col], method=correlation_ratio).sort_values(ascending=False)\n",
    "important_features = correlation_ret[correlation_ret >= threshold].index.tolist()\n",
    "important_features.remove(target_col)\n",
    "print(important_features)\n",
    "print(data.shape)\n",
    "print(len(data[target_col].unique()))\n",
    "print(\"Average correlation: {} {}\".format(correlation_ret[1:].mean(), correlation_ret[1:].max()))\n",
    "print(data[target_col].value_counts(normalize=True))\n",
    "correlation_ret"
   ]
  },
  {
   "cell_type": "markdown",
   "metadata": {
    "collapsed": false
   },
   "source": [
    "## Block data"
   ]
  },
  {
   "cell_type": "code",
   "execution_count": null,
   "metadata": {
    "collapsed": false
   },
   "outputs": [],
   "source": [
    "threshold = 0.2\n",
    "data = pd.read_csv(\"./data/block/page-blocks.csv\", delimiter='\\s+', header=None)\n",
    "data = data.dropna()\n",
    "data.columns = [str(i) for i in range(1, data.shape[1] + 1)]\n",
    "target_col = '11'\n",
    "data = normalization(data, target_col)\n",
    "data = move_target_to_end(data, target_col)\n",
    "correlation_ret = data.corrwith(data[target_col], method=correlation_ratio).sort_values(ascending=False)\n",
    "important_features = correlation_ret[correlation_ret >= threshold].index.tolist()\n",
    "important_features.remove(target_col)\n",
    "print(important_features)\n",
    "data_config = {\n",
    "\t\t'target': target_col,\n",
    "\t\t'important_features_idx': [data.columns.tolist().index(feature) for feature in important_features],\n",
    "\t\t'features_idx': [idx for idx in range(0, data.shape[1]) if data.columns[idx] != target_col],\n",
    "\t\t\"num_cols\": data.shape[1] - 1,\n",
    "\t\t'task_type': 'classification',\n",
    "\t}\n",
    "print(data.shape)\n",
    "print(len(data[target_col].unique()))\n",
    "print(\"Average correlation: {} {}\".format(correlation_ret[1:].mean(), correlation_ret[1:].max()))\n",
    "print(data[target_col].value_counts(normalize=True))\n",
    "correlation_ret"
   ]
  },
  {
   "cell_type": "markdown",
   "metadata": {
    "collapsed": false
   },
   "source": [
    "## Ecoli"
   ]
  },
  {
   "cell_type": "code",
   "execution_count": 4,
   "metadata": {
    "collapsed": false
   },
   "outputs": [
    {
     "name": "stdout",
     "output_type": "stream",
     "text": [
      "(336, 8)\n",
      "8\n",
      "Average correlation: 0.7634879968279279 0.8914591490774081\n",
      "8\n",
      "0    0.425595\n",
      "1    0.229167\n",
      "7    0.154762\n",
      "4    0.104167\n",
      "5    0.059524\n",
      "6    0.014881\n",
      "2    0.005952\n",
      "3    0.005952\n",
      "Name: proportion, dtype: float64\n"
     ]
    },
    {
     "data": {
      "text/plain": [
       "8    1.000000\n",
       "6    0.891459\n",
       "3    0.836800\n",
       "7    0.816406\n",
       "2    0.754526\n",
       "1    0.726390\n",
       "4    0.706051\n",
       "5    0.612785\n",
       "dtype: float64"
      ]
     },
     "execution_count": 4,
     "metadata": {},
     "output_type": "execute_result"
    }
   ],
   "source": [
    "normalize = True\n",
    "threshold = 0.2\n",
    "data = pd.read_csv(\"./data/ecoli/ecoli.csv\", delimiter='\\s+', header=None)\n",
    "data = data.dropna()\n",
    "data  = data.drop([0], axis=1)\n",
    "data.columns = [str(i) for i in range(1, data.shape[1] + 1)]\n",
    "target_col = '8'\n",
    "if normalize:\n",
    "\tdata = normalization(data, target_col)\n",
    "data[target_col] = data[target_col].map(\n",
    "\t\t{'cp': 0, 'im': 1, 'pp': 2, 'imU': 3, 'om': 4, 'omL': 5, 'imL': 6, 'imS': 7}\n",
    "\t)\n",
    "data = move_target_to_end(data, target_col)\n",
    "data[target_col] = pd.factorize(data[target_col])[0]\n",
    "correlation_ret = data.corrwith(data[target_col], method=correlation_ratio).sort_values(ascending=False)\n",
    "important_features = correlation_ret[correlation_ret >= threshold].index.tolist()\n",
    "important_features.remove(target_col)\n",
    "\n",
    "data_config = {\n",
    "\t'target': target_col,\n",
    "\t'important_features_idx': [data.columns.tolist().index(feature) for feature in important_features],\n",
    "\t'features_idx': [idx for idx in range(0, data.shape[1]) if data.columns[idx] != target_col],\n",
    "\t\"num_cols\": data.shape[1] - 1,\n",
    "\t'task_type': 'classification',\n",
    "}\n",
    "print(data.shape)\n",
    "print(len(data[target_col].unique()))\n",
    "print(\"Average correlation: {} {}\".format(correlation_ret[1:].mean(), correlation_ret[1:].max()))\n",
    "print(data[target_col].value_counts(normalize=True))\n",
    "correlation_ret\n",
    "# if verbose:\n",
    "# \tlogger.debug(\"Important features {}\".format(important_features))\n",
    "# \tlogger.debug(\"Data shape {}\".format(data.shape, data.shape))\n",
    "# \tlogger.debug(data_config)"
   ]
  },
  {
   "cell_type": "code",
   "execution_count": 12,
   "metadata": {},
   "outputs": [
    {
     "data": {
      "text/plain": [
       "0.9970238095238095"
      ]
     },
     "execution_count": 12,
     "metadata": {},
     "output_type": "execute_result"
    }
   ],
   "source": [
    "data['4'].value_counts(normalize=True)[0]"
   ]
  },
  {
   "cell_type": "markdown",
   "metadata": {
    "collapsed": false
   },
   "source": [
    "## Glass Data"
   ]
  },
  {
   "cell_type": "code",
   "execution_count": null,
   "metadata": {
    "collapsed": false
   },
   "outputs": [],
   "source": [
    "normalize = True\n",
    "threshold = 0.15\n",
    "data = pd.read_csv(\"./data/glass/glass.csv\", delimiter=',', header=None)\n",
    "data = data.dropna()\n",
    "data  = data.drop([0], axis=1)\n",
    "data.columns = [str(i) for i in range(1, data.shape[1] + 1)]\n",
    "target_col = '10'\n",
    "if normalize:\n",
    " \tdata = normalization(data, target_col)\n",
    "data = move_target_to_end(data, target_col)\n",
    "data = data[data[target_col] != 6]\n",
    "correlation_ret = data.corrwith(data[target_col], method=correlation_ratio).sort_values(ascending=False)\n",
    "important_features = correlation_ret[correlation_ret >= threshold].index.tolist()\n",
    "important_features.remove(target_col)\n",
    "data_config = {\n",
    "\t'target': target_col,\n",
    "\t'important_features_idx': [data.columns.tolist().index(feature) for feature in important_features],\n",
    "\t'features_idx': [idx for idx in range(0, data.shape[1]) if data.columns[idx] != target_col],\n",
    "\t\"num_cols\": data.shape[1] - 1,\n",
    "\t'task_type': 'classification',\n",
    "}\n",
    "print(data.shape)\n",
    "print(len(data[target_col].unique()))\n",
    "print(\"Average correlation: {} {}\".format(correlation_ret[1:].mean(), correlation_ret[1:].max()))\n",
    "print(data[target_col].value_counts(normalize=True))\n",
    "correlation_ret"
   ]
  },
  {
   "cell_type": "markdown",
   "metadata": {
    "collapsed": false
   },
   "source": [
    "## OptDigits"
   ]
  },
  {
   "cell_type": "code",
   "execution_count": null,
   "metadata": {
    "collapsed": false
   },
   "outputs": [],
   "source": [
    "normalize = True\n",
    "threshold = 0.5\n",
    "data_test = pd.read_csv(\"./data/optdigits/optdigits_test.csv\", delimiter=',', header=None)\n",
    "data_train = pd.read_csv(\"./data/optdigits/optdigits_train.csv\", delimiter=',', header=None)\n",
    "data = pd.concat([data_test, data_train]).reset_index(drop=True)\n",
    "data = data.dropna()\n",
    "data.columns = [str(i) for i in range(1, data.shape[1] + 1)]\n",
    "target_col = '65'\n",
    "if normalize:\n",
    "\tdata = normalization(data, target_col)\n",
    "data = move_target_to_end(data, target_col)\n",
    "correlation_ret = data.corrwith(data[target_col], method=correlation_ratio).sort_values(ascending=False)\n",
    "correlation_ret\n",
    "important_features = correlation_ret[correlation_ret >= threshold].index.tolist()\n",
    "important_features.remove(target_col)\n",
    "data_config = {\n",
    "\t'target': target_col,\n",
    "\t'important_features_idx': [data.columns.tolist().index(feature) for feature in important_features],\n",
    "\t'features_idx': [idx for idx in range(0, data.shape[1]) if data.columns[idx] != target_col],\n",
    "\t\"num_cols\": data.shape[1] - 1,\n",
    "\t'task_type': 'classification',\n",
    "}\n",
    "print(data.shape)\n",
    "print(len(data[target_col].unique()))\n",
    "print(\"Average correlation: {} {}\".format(correlation_ret[1:].mean(), correlation_ret[1:].max()))\n",
    "print(data[target_col].value_counts(normalize=True))\n",
    "correlation_ret"
   ]
  },
  {
   "cell_type": "markdown",
   "metadata": {
    "collapsed": false
   },
   "source": [
    "## Segmentation"
   ]
  },
  {
   "cell_type": "code",
   "execution_count": null,
   "metadata": {
    "collapsed": false
   },
   "outputs": [],
   "source": [
    "normalize = True\n",
    "threshold = 0.5\n",
    "data_test = pd.read_csv(\"./data/segment/segmentation_test.csv\", delimiter=',')\n",
    "data_train = pd.read_csv(\"./data/segment/segmentation.csv\", delimiter=',')\n",
    "data = pd.concat([data_test, data_train]).reset_index(drop=True)\n",
    "data = data.dropna()\n",
    "target_col = 'TARGET'\n",
    "if normalize:\n",
    "\tdata = normalization(data, target_col)\n",
    "data = move_target_to_end(data, target_col)\n",
    "data[target_col].value_counts()\n",
    "data[target_col] = data[target_col].map({\n",
    "\t'BRICKFACE': 0,\n",
    "\t'SKY': 1,\n",
    "\t'FOLIAGE': 2,\n",
    "\t'CEMENT': 3,\n",
    "\t'WINDOW': 4,\n",
    "\t'PATH': 5,\n",
    "\t'GRASS': 6,\n",
    "})\n",
    "data = data.drop([\"REGION-PIXEL-COUNT\"], axis = 1)\n",
    "correlation_ret = data.corrwith(data[target_col], method=correlation_ratio).sort_values(ascending=False)\n",
    "important_features = correlation_ret[correlation_ret >= threshold].index.tolist()\n",
    "important_features.remove(target_col)\n",
    "data_config = {\n",
    "\t'target': target_col,\n",
    "\t'important_features_idx': [data.columns.tolist().index(feature) for feature in important_features],\n",
    "\t'features_idx': [idx for idx in range(0, data.shape[1]) if data.columns[idx] != target_col],\n",
    "\t\"num_cols\": data.shape[1] - 1,\n",
    "\t'task_type': 'classification',\n",
    "}\n",
    "print(important_features)\n",
    "print(data.shape)\n",
    "print(len(data[target_col].unique()))\n",
    "print(\"Average correlation: {} {}\".format(correlation_ret[1:].mean(), correlation_ret[1:].max()))\n",
    "print(data[target_col].value_counts(normalize=True))\n",
    "correlation_ret"
   ]
  },
  {
   "cell_type": "markdown",
   "metadata": {
    "collapsed": false
   },
   "source": [
    "## Sonar"
   ]
  },
  {
   "cell_type": "code",
   "execution_count": null,
   "metadata": {
    "collapsed": false
   },
   "outputs": [],
   "source": [
    "normalize = True\n",
    "threshold = 0.15\n",
    "data = pd.read_csv(\"./data/sonar/sonar.csv\", delimiter=',', header=None)\n",
    "data = data.dropna()\n",
    "data.columns = [str(i) for i in range(1, data.shape[1] + 1)]\n",
    "target_col = '61'\n",
    "if normalize:\n",
    " \tdata = normalization(data, target_col)\n",
    "data = move_target_to_end(data, target_col)\n",
    "data[target_col] = data[target_col].map({\n",
    "\t'R': 0,\n",
    "\t'M': 1,\n",
    "})\n",
    "correlation_ret = data.corrwith(data[target_col], method=correlation_ratio).sort_values(ascending=False)\n",
    "important_features = correlation_ret[correlation_ret >= threshold].index.tolist()\n",
    "important_features.remove(target_col)\n",
    "data_config = {\n",
    "\t'target': target_col,\n",
    "\t'important_features_idx': [data.columns.tolist().index(feature) for feature in important_features],\n",
    "\t'features_idx': [idx for idx in range(0, data.shape[1]) if data.columns[idx] != target_col],\n",
    "\t\"num_cols\": data.shape[1] - 1,\n",
    "\t'task_type': 'classification',\n",
    "}\n",
    "print(important_features)\n",
    "print(data.shape)\n",
    "print(len(data[target_col].unique()))\n",
    "print(\"Average correlation: {} {}\".format(correlation_ret[1:].mean(), correlation_ret[1:].max()))\n",
    "print(data[target_col].value_counts(normalize=True))\n",
    "correlation_ret"
   ]
  },
  {
   "cell_type": "markdown",
   "metadata": {
    "collapsed": false
   },
   "source": [
    "## Sensor"
   ]
  },
  {
   "cell_type": "code",
   "execution_count": 122,
   "metadata": {
    "collapsed": false
   },
   "outputs": [
    {
     "name": "stdout",
     "output_type": "stream",
     "text": [
      "(58509, 49)\n",
      "[1, 2, 3]\n",
      "(58509, 11)\n",
      "11\n",
      "Average correlation: 0.27216658940385624 0.9784887849947083\n",
      "49\n",
      "1     0.090909\n",
      "2     0.090909\n",
      "3     0.090909\n",
      "4     0.090909\n",
      "5     0.090909\n",
      "6     0.090909\n",
      "7     0.090909\n",
      "8     0.090909\n",
      "9     0.090909\n",
      "10    0.090909\n",
      "11    0.090909\n",
      "Name: proportion, dtype: float64\n"
     ]
    },
    {
     "data": {
      "text/plain": [
       "49    1.000000\n",
       "1     0.978489\n",
       "2     0.767892\n",
       "3     0.325555\n",
       "4     0.197333\n",
       "0     0.151313\n",
       "9     0.148325\n",
       "7     0.063658\n",
       "8     0.039029\n",
       "5     0.025545\n",
       "6     0.024528\n",
       "dtype: float64"
      ]
     },
     "execution_count": 122,
     "metadata": {},
     "output_type": "execute_result"
    }
   ],
   "source": [
    "normalize = True\n",
    "threshold = 0.2\n",
    "pca = True\n",
    "data = pd.read_csv(\"./data/sensor/Sensorless_drive_diagnosis.csv\", delimiter='\\s+', header=None)\n",
    "data = data.dropna()\n",
    "data.columns = [str(i) for i in range(1, data.shape[1] + 1)]\n",
    "target_col = '49'\n",
    "print(data.shape)\n",
    "if normalize:\n",
    "\tdata = normalization(data, target_col)\n",
    "\n",
    "if pca:\n",
    "\tpca = PCA(n_components=10)\n",
    "\tpca.fit(data.drop(target_col, axis=1))\n",
    "\tdata = pd.concat([pd.DataFrame(pca.transform(data.drop(target_col, axis=1))), data[target_col]], axis=1)\n",
    "\n",
    "data = move_target_to_end(data, target_col)\n",
    "correlation_ret = data.corrwith(data[target_col], method=correlation_ratio).sort_values(ascending=False)\n",
    "important_features = correlation_ret[correlation_ret >= threshold].index.tolist()\n",
    "important_features.remove(target_col)\n",
    "#data = data[important_features + [target_col]]\n",
    "data_config = {\n",
    "\t'target': target_col,\n",
    "\t'important_features_idx': [data.columns.tolist().index(feature) for feature in important_features],\n",
    "\t'features_idx': [idx for idx in range(0, data.shape[1]) if data.columns[idx] != target_col],\n",
    "\t\"num_cols\": data.shape[1] - 1,\n",
    "\t'task_type': 'classification',\n",
    "}\n",
    "print(important_features)\n",
    "print(data.shape)\n",
    "print(len(data[target_col].unique()))\n",
    "print(\"Average correlation: {} {}\".format(correlation_ret[1:].mean(), correlation_ret[1:].max()))\n",
    "print(data[target_col].value_counts(normalize=True))\n",
    "correlation_ret"
   ]
  },
  {
   "cell_type": "code",
   "execution_count": 123,
   "metadata": {},
   "outputs": [
    {
     "name": "stderr",
     "output_type": "stream",
     "text": [
      "d:\\E\\miniconda\\envs\\fed_imp\\lib\\site-packages\\sklearn\\neural_network\\_multilayer_perceptron.py:693: UserWarning: Training interrupted by user.\n",
      "  warnings.warn(\"Training interrupted by user.\")\n"
     ]
    },
    {
     "name": "stdout",
     "output_type": "stream",
     "text": [
      "Accuracy: 0.9938472056058794\n",
      "F1: 0.9938468024779495\n"
     ]
    }
   ],
   "source": [
    "run_classification(data, target_col=target_col)"
   ]
  },
  {
   "cell_type": "markdown",
   "metadata": {
    "collapsed": false
   },
   "source": [
    "## Waveform"
   ]
  },
  {
   "cell_type": "code",
   "execution_count": null,
   "metadata": {
    "collapsed": false
   },
   "outputs": [],
   "source": [
    "normalize = True\n",
    "threshold = 0.15\n",
    "data = pd.read_csv(\"./data/waveform/waveform-5000.csv\", delimiter=',', header=None)\n",
    "data = data.dropna()\n",
    "data.columns = [str(i) for i in range(1, data.shape[1] + 1)]\n",
    "target_col = '41'\n",
    "if normalize:\n",
    "\tdata = normalization(data, target_col)\n",
    "data = move_target_to_end(data, target_col)\n",
    "data[target_col] = data[target_col].map({'N': 0,'P': 1})\n",
    "correlation_ret = data.corrwith(data[target_col], method=correlation_ratio).sort_values(ascending=False)\n",
    "important_features = correlation_ret[correlation_ret >= threshold].index.tolist()\n",
    "important_features.remove(target_col)\n",
    "data_config = {\n",
    "\t'target': target_col,\n",
    "\t'important_features_idx': [data.columns.tolist().index(feature) for feature in important_features],\n",
    "\t'features_idx': [idx for idx in range(0, data.shape[1]) if data.columns[idx] != target_col],\n",
    "\t\"num_cols\": data.shape[1] - 1,\n",
    "\t'task_type': 'classification',\n",
    "}\n",
    "print(important_features)\n",
    "print(data.shape)\n",
    "print(len(data[target_col].unique()))\n",
    "print(\"Average correlation: {} {}\".format(correlation_ret[1:].mean(), correlation_ret[1:].max()))\n",
    "print(data[target_col].value_counts(normalize=True))\n",
    "correlation_ret\n"
   ]
  },
  {
   "cell_type": "markdown",
   "metadata": {
    "collapsed": false
   },
   "source": [
    "## Yeast"
   ]
  },
  {
   "cell_type": "code",
   "execution_count": 11,
   "metadata": {
    "collapsed": false
   },
   "outputs": [
    {
     "name": "stdout",
     "output_type": "stream",
     "text": [
      "CYT    463\n",
      "NUC    429\n",
      "MIT    244\n",
      "ME3    163\n",
      "ME2     51\n",
      "ME1     44\n",
      "EXC     35\n",
      "VAC     30\n",
      "POX     20\n",
      "ERL      5\n",
      "Name: 9, dtype: int64\n",
      "['3', '6', '1', '2', '4']\n",
      "(1479, 9)\n",
      "9\n",
      "Average correlation: 0.44110086913680074 0.6782641275813955\n",
      "0    0.313049\n",
      "1    0.290061\n",
      "2    0.164976\n",
      "4    0.110210\n",
      "5    0.034483\n",
      "6    0.029750\n",
      "7    0.023665\n",
      "8    0.020284\n",
      "9    0.013523\n",
      "Name: 9, dtype: float64\n"
     ]
    },
    {
     "data": {
      "text/plain": [
       "9    1.000000\n",
       "3    0.678264\n",
       "6    0.644011\n",
       "1    0.609456\n",
       "2    0.545681\n",
       "4    0.489175\n",
       "8    0.343947\n",
       "7    0.163831\n",
       "5    0.054441\n",
       "dtype: float64"
      ]
     },
     "execution_count": 11,
     "metadata": {},
     "output_type": "execute_result"
    }
   ],
   "source": [
    "normalize = True\n",
    "threshold = 0.4\n",
    "data = pd.read_csv(\"./data/yeast/yeast.csv\", delimiter='\\s+', header=None)\n",
    "data = data.drop([0], axis = 1)\n",
    "data = data.dropna()\n",
    "data.columns = [str(i) for i in range(1, data.shape[1] + 1)]\n",
    "target_col = '9'\n",
    "if normalize:\n",
    "\tdata = normalization(data, target_col)\n",
    "data = move_target_to_end(data, target_col)\n",
    "print(data[target_col].value_counts())\n",
    "data[target_col] = data[target_col].map({\n",
    "\t'CYT': 0,\n",
    "\t'NUC': 1,\n",
    "\t'MIT': 2,\n",
    "\t'END': 3,\n",
    "\t'ME3': 4,\n",
    "\t'ME2': 5,\n",
    "\t'ME1': 6,\n",
    "\t'EXC': 7,\n",
    "\t'VAC': 8,\n",
    "\t'POX': 9,\n",
    "\t'ERL': 10,\n",
    "})\n",
    "data = data[data[target_col] != 10]\n",
    "correlation_ret = data.corrwith(data[target_col], method=correlation_ratio).sort_values(ascending=False)\n",
    "important_features = correlation_ret[correlation_ret >= threshold].index.tolist()\n",
    "important_features.remove(target_col)\n",
    "data_config = {\n",
    "\t'target': target_col,\n",
    "\t'important_features_idx': [data.columns.tolist().index(feature) for feature in important_features],\n",
    "\t'features_idx': [idx for idx in range(0, data.shape[1]) if data.columns[idx] != target_col],\n",
    "\t\"num_cols\": data.shape[1] - 1,\n",
    "\t'task_type': 'classification',\n",
    "}\n",
    "print(important_features)\n",
    "print(data.shape)\n",
    "print(len(data[target_col].unique()))\n",
    "print(\"Average correlation: {} {}\".format(correlation_ret[1:].mean(), correlation_ret[1:].max()))\n",
    "print(data[target_col].value_counts(normalize=True))\n",
    "correlation_ret"
   ]
  },
  {
   "cell_type": "markdown",
   "metadata": {
    "collapsed": false
   },
   "source": [
    "## Letter"
   ]
  },
  {
   "cell_type": "code",
   "execution_count": 31,
   "metadata": {
    "ExecuteTime": {
     "end_time": "2023-05-18T23:55:22.199533700Z",
     "start_time": "2023-05-18T23:55:21.888037Z"
    },
    "collapsed": false
   },
   "outputs": [
    {
     "name": "stdout",
     "output_type": "stream",
     "text": [
      "['12', '8', '14', '13', '15', '10', '16', '9', '7', '11', '17', '4', '6', '2']\n",
      "(20000, 17)\n",
      "26\n",
      "Average correlation: 0.538381865210026 0.7785937224191333\n",
      "1\n",
      "20    0.04065\n",
      "3     0.04025\n",
      "15    0.04015\n",
      "19    0.03980\n",
      "12    0.03960\n",
      "0     0.03945\n",
      "23    0.03935\n",
      "24    0.03930\n",
      "13    0.03915\n",
      "16    0.03915\n",
      "5     0.03875\n",
      "6     0.03865\n",
      "4     0.03840\n",
      "1     0.03830\n",
      "21    0.03820\n",
      "11    0.03805\n",
      "17    0.03790\n",
      "8     0.03775\n",
      "14    0.03765\n",
      "22    0.03760\n",
      "18    0.03740\n",
      "9     0.03735\n",
      "10    0.03695\n",
      "2     0.03680\n",
      "7     0.03670\n",
      "25    0.03670\n",
      "Name: proportion, dtype: float64\n"
     ]
    },
    {
     "data": {
      "text/plain": [
       "1     1.000000\n",
       "12    0.778594\n",
       "8     0.771149\n",
       "14    0.746649\n",
       "13    0.731932\n",
       "15    0.731113\n",
       "10    0.694809\n",
       "16    0.678927\n",
       "9     0.614407\n",
       "7     0.552050\n",
       "11    0.551592\n",
       "17    0.516553\n",
       "4     0.380062\n",
       "6     0.363800\n",
       "2     0.319234\n",
       "5     0.118186\n",
       "3     0.065056\n",
       "dtype: float64"
      ]
     },
     "execution_count": 31,
     "metadata": {},
     "output_type": "execute_result"
    }
   ],
   "source": [
    "normalize = True\n",
    "threshold = 0.3\n",
    "data = pd.read_csv(\"./data/letter/letter-recognition.csv\", delimiter=',', header=None)\n",
    "data = data.dropna()\n",
    "data.columns = [str(i) for i in range(1, data.shape[1] + 1)]\n",
    "target_col = '1'\n",
    "data = move_target_to_end(data, target_col)\n",
    "# convert columns to gaussian\n",
    "data = convert_gaussian(data, target_col)\n",
    "\n",
    "if normalize:\n",
    "\tdata = normalization(data, target_col)\n",
    "\n",
    "#data[target_col].value_counts()\n",
    "data[target_col] = data[target_col].map(lambda x: ord(x) - ord('A'))\n",
    "correlation_ret = data.corrwith(data[target_col], method=correlation_ratio).sort_values(ascending=False)\n",
    "\n",
    "important_features = correlation_ret[correlation_ret >= threshold].index.tolist()\n",
    "important_features.remove(target_col)\n",
    "data_config = {\n",
    "\t'target': target_col,\n",
    "\t'important_features_idx': [data.columns.tolist().index(feature) for feature in important_features],\n",
    "\t'features_idx': [idx for idx in range(0, data.shape[1]) if data.columns[idx] != target_col],\n",
    "\t\"num_cols\": data.shape[1] - 1,\n",
    "\t'task_type': 'classification',\n",
    "}\n",
    "print(important_features)\n",
    "print(data.shape)\n",
    "print(len(data[target_col].unique()))\n",
    "print(\"Average correlation: {} {}\".format(correlation_ret[1:].mean(), correlation_ret[1:].max()))\n",
    "print(data[target_col].value_counts(normalize=True))\n",
    "correlation_ret"
   ]
  },
  {
   "cell_type": "code",
   "execution_count": 29,
   "metadata": {
    "ExecuteTime": {
     "end_time": "2023-05-18T23:51:17.301128600Z",
     "start_time": "2023-05-18T23:51:17.213122900Z"
    },
    "collapsed": false
   },
   "outputs": [
    {
     "data": {
      "text/plain": [
       "<Axes: >"
      ]
     },
     "execution_count": 29,
     "metadata": {},
     "output_type": "execute_result"
    },
    {
     "data": {
      "image/png": "[encoded data removed]",
      "text/plain": [
       "<Figure size 640x480 with 1 Axes>"
      ]
     },
     "metadata": {},
     "output_type": "display_data"
    }
   ],
   "source": [
    "col = data.columns[16]\n",
    "data[col].hist()"
   ]
  },
  {
   "cell_type": "code",
   "execution_count": 32,
   "metadata": {
    "ExecuteTime": {
     "end_time": "2023-05-18T23:57:00.547912900Z",
     "start_time": "2023-05-18T23:55:31.686509800Z"
    },
    "collapsed": false
   },
   "outputs": [
    {
     "name": "stdout",
     "output_type": "stream",
     "text": [
      "Accuracy: 0.92125\n",
      "F1: 0.9210670105135317\n"
     ]
    },
    {
     "name": "stderr",
     "output_type": "stream",
     "text": [
      "C:\\Users\\sitao\\miniconda3\\envs\\fed_imp\\lib\\site-packages\\sklearn\\neural_network\\_multilayer_perceptron.py:693: UserWarning: Training interrupted by user.\n",
      "  warnings.warn(\"Training interrupted by user.\")\n"
     ]
    }
   ],
   "source": [
    "run_classification(data, target_col)"
   ]
  },
  {
   "cell_type": "markdown",
   "metadata": {
    "collapsed": false
   },
   "source": [
    "## Raisin"
   ]
  },
  {
   "cell_type": "code",
   "execution_count": null,
   "metadata": {
    "collapsed": false
   },
   "outputs": [],
   "source": [
    "normalize = True\n",
    "threshold = 0.2\n",
    "data = pd.read_csv(\"./data/raisin/Raisin_Dataset.csv\", delimiter=',')\n",
    "data = data.dropna()\n",
    "target_col = 'Class'\n",
    "data = move_target_to_end(data, target_col)\n",
    "if normalize:\n",
    " \tdata = normalization(data, target_col)\n",
    "#data[target_col].value_counts()\n",
    "data[target_col] = data[target_col].map({\"Kecimen\": 0, \"Besni\": 1})\n",
    "correlation_ret = data.corrwith(data[target_col], method=correlation_ratio).sort_values(ascending=False)\n",
    "important_features = correlation_ret[correlation_ret >= threshold].index.tolist()\n",
    "important_features.remove(target_col)\n",
    "data_config = {\n",
    "\t'target': target_col,\n",
    "\t'important_features_idx': [data.columns.tolist().index(feature) for feature in important_features],\n",
    "\t'features_idx': [idx for idx in range(0, data.shape[1]) if data.columns[idx] != target_col],\n",
    "\t\"num_cols\": data.shape[1] - 1,\n",
    "\t'task_type': 'classification',\n",
    "}\n",
    "print(important_features)\n",
    "print(data.shape)\n",
    "print(len(data[target_col].unique()))\n",
    "print(\"Average correlation: {} {}\".format(correlation_ret[1:].mean(), correlation_ret[1:].max()))\n",
    "print(data[target_col].value_counts(normalize=True))\n",
    "correlation_ret"
   ]
  },
  {
   "cell_type": "markdown",
   "metadata": {
    "collapsed": false
   },
   "source": [
    "## Dermatology"
   ]
  },
  {
   "cell_type": "code",
   "execution_count": null,
   "metadata": {
    "collapsed": false
   },
   "outputs": [],
   "source": [
    "normalize = True\n",
    "threshold = 0.5\n",
    "data = pd.read_csv(\"./data/dermatology/dermatology.csv\", delimiter=',', na_values='?', header = None)\n",
    "data = data.dropna()\n",
    "data.columns = [str(i) for i in range(1, data.shape[1] + 1)]\n",
    "target_col = '35'\n",
    "data = move_target_to_end(data, target_col)\n",
    "if normalize:\n",
    " \tdata = normalization(data, target_col)\n",
    "correlation_ret = data.corrwith(data[target_col], method=correlation_ratio).sort_values(ascending=False)\n",
    "important_features = correlation_ret[correlation_ret >= threshold].index.tolist()\n",
    "important_features.remove(target_col)\n",
    "data_config = {\n",
    "\t'target': target_col,\n",
    "\t'important_features_idx': [data.columns.tolist().index(feature) for feature in important_features],\n",
    "\t'features_idx': [idx for idx in range(0, data.shape[1]) if data.columns[idx] != target_col],\n",
    "\t\"num_cols\": data.shape[1] - 1,\n",
    "\t'task_type': 'classification',\n",
    "\t'clf_type': 'multi-class'\n",
    "}\n",
    "print(important_features)\n",
    "print(data.shape)\n",
    "print(len(data[target_col].unique()))\n",
    "print(\"Average correlation: {} {}\".format(correlation_ret[1:].mean(), correlation_ret[1:].max()))\n",
    "print(data[target_col].value_counts(normalize=True))\n",
    "correlation_ret"
   ]
  },
  {
   "attachments": {},
   "cell_type": "markdown",
   "metadata": {},
   "source": [
    "## Pima Indianas Diabetes"
   ]
  },
  {
   "cell_type": "code",
   "execution_count": 13,
   "metadata": {},
   "outputs": [
    {
     "name": "stdout",
     "output_type": "stream",
     "text": [
      "Outcome                     1.000000\n",
      "Glucose                     0.466581\n",
      "BMI                         0.292695\n",
      "Age                         0.238356\n",
      "Pregnancies                 0.221898\n",
      "DiabetesPedigreeFunction    0.173844\n",
      "Insulin                     0.130548\n",
      "SkinThickness               0.074752\n",
      "BloodPressure               0.065068\n",
      "dtype: float64\n",
      "['Glucose', 'BMI', 'Age', 'Pregnancies', 'DiabetesPedigreeFunction', 'Insulin']\n",
      "(768, 9)\n",
      "2\n",
      "Average correlation: 0.20796785112727043 0.4665813983068738\n",
      "0    0.651042\n",
      "1    0.348958\n",
      "Name: Outcome, dtype: float64\n"
     ]
    }
   ],
   "source": [
    "normalize = True\n",
    "threshold = 0.1\n",
    "data = pd.read_csv(\"./data/pima_indianas_diabetes/diabetes.csv\", delimiter=',', header=0)\n",
    "data['Outcome'].value_counts()\n",
    "target_col = 'Outcome'\n",
    "\n",
    "if normalize:\n",
    "    data = normalization(data, target_col)\n",
    "\n",
    "data = move_target_to_end(data, target_col)\n",
    "\n",
    "correlation_ret = data.corrwith(data[target_col], method=correlation_ratio).sort_values(ascending=False)\n",
    "print(correlation_ret)\n",
    "important_features = correlation_ret[correlation_ret >= threshold].index.tolist()\n",
    "important_features.remove(target_col)\n",
    "print(important_features)\n",
    "print(data.shape)\n",
    "print(len(data[target_col].unique()))\n",
    "print(\"Average correlation: {} {}\".format(correlation_ret[1:].mean(), correlation_ret[1:].max()))\n",
    "print(data[target_col].value_counts(normalize=True))"
   ]
  },
  {
   "attachments": {},
   "cell_type": "markdown",
   "metadata": {},
   "source": [
    "## Telugu Vowel"
   ]
  },
  {
   "cell_type": "code",
   "execution_count": 7,
   "metadata": {},
   "outputs": [
    {
     "name": "stdout",
     "output_type": "stream",
     "text": [
      "1    200\n",
      "2    200\n",
      "3    200\n",
      "4    200\n",
      "5    200\n",
      "6    200\n",
      "Name: class, dtype: int64\n"
     ]
    }
   ],
   "source": [
    "normalize = True\n",
    "threshold = 0.1\n",
    "\n",
    "data = pd.read_csv(\"./data/telugu_vowel/telugu.csv\", delimiter=',', header=0)\n",
    "target_col = 'class'\n",
    "\n",
    "if normalize:\n",
    "    data = normalization(data, target_col)\n",
    "\n",
    "data = move_target_to_end(data, target_col)\n",
    "\n",
    "important_features = data.columns.tolist()\n",
    "important_features.remove(target_col)\n",
    "print(data['class'].value_counts())"
   ]
  },
  {
   "attachments": {},
   "cell_type": "markdown",
   "metadata": {},
   "source": [
    "## Telugu Tabular"
   ]
  },
  {
   "cell_type": "code",
   "execution_count": 4,
   "metadata": {},
   "outputs": [
    {
     "name": "stdout",
     "output_type": "stream",
     "text": [
      "1\n",
      "4    207\n",
      "5    180\n",
      "2    172\n",
      "3    151\n",
      "1     89\n",
      "0     72\n",
      "Name: count, dtype: int64\n"
     ]
    }
   ],
   "source": [
    "normalize = True\n",
    "threshold = 0.1\n",
    "\n",
    "data = pd.read_csv(\"./data/telugu_tabular/telugu.csv\", delimiter='\\s+', header=None)\n",
    "data.columns = [str(i) for i in range(1, data.shape[1] + 1)]\n",
    "target_col = '1'\n",
    "\n",
    "if normalize:\n",
    "    data = normalization(data, target_col)\n",
    "\n",
    "data = move_target_to_end(data, target_col)\n",
    "data[target_col] = pd.factorize(data[target_col])[0]\n",
    "\n",
    "correlation_ret = data.corrwith(data[target_col], method=correlation_ratio).sort_values(ascending=False)\n",
    "\n",
    "important_features = data.columns.tolist()\n",
    "important_features.remove(target_col)\n",
    "print(data[target_col].value_counts())"
   ]
  },
  {
   "attachments": {},
   "cell_type": "markdown",
   "metadata": {},
   "source": [
    "## Wine Data"
   ]
  },
  {
   "cell_type": "code",
   "execution_count": 22,
   "metadata": {},
   "outputs": [
    {
     "name": "stdout",
     "output_type": "stream",
     "text": [
      "['8', '14', '13', '2', '11', '12', '7', '3', '5', '10', '9', '4', '6']\n"
     ]
    }
   ],
   "source": [
    "normalize = True\n",
    "threshold = 0.1\n",
    "\n",
    "data = pd.read_csv(\"./data/wine2/wine.csv\", delimiter=',', header=None)\n",
    "data = data.dropna()\n",
    "data.columns = [str(i) for i in range(1, data.shape[1] + 1)]\n",
    "target_col = '1'\n",
    "\n",
    "if normalize:\n",
    "    data = normalization(data, target_col)\n",
    "\n",
    "data = move_target_to_end(data, target_col)\n",
    "\n",
    "correlation_ret = data.corrwith(data[target_col], method=correlation_ratio).sort_values(ascending=False)\n",
    "important_features = correlation_ret[correlation_ret >= threshold].index.tolist()\n",
    "important_features.remove(target_col)\n",
    "print(important_features)\n",
    "# print(data[target_col].value_counts())"
   ]
  },
  {
   "attachments": {},
   "cell_type": "markdown",
   "metadata": {},
   "source": [
    "## Parkinsons"
   ]
  },
  {
   "cell_type": "code",
   "execution_count": null,
   "metadata": {},
   "outputs": [],
   "source": []
  },
  {
   "attachments": {},
   "cell_type": "markdown",
   "metadata": {},
   "source": [
    "## Wifi Localization"
   ]
  },
  {
   "cell_type": "code",
   "execution_count": 12,
   "metadata": {},
   "outputs": [
    {
     "name": "stdout",
     "output_type": "stream",
     "text": [
      "[3, 0, 4, 5, 6, 2]\n",
      "7\n",
      "0    500\n",
      "1    500\n",
      "2    500\n",
      "3    500\n",
      "Name: count, dtype: int64\n",
      "(2000, 8)\n"
     ]
    },
    {
     "data": {
      "text/plain": [
       "7    1.000000\n",
       "3    0.894730\n",
       "0    0.893372\n",
       "4    0.880661\n",
       "5    0.803960\n",
       "6    0.771457\n",
       "2    0.698395\n",
       "1    0.170905\n",
       "dtype: float64"
      ]
     },
     "execution_count": 12,
     "metadata": {},
     "output_type": "execute_result"
    }
   ],
   "source": [
    "normalize = True\n",
    "threshold = 0.5\n",
    "\n",
    "data = pd.read_csv(\"./data/wifi_localization/wifi_localization.csv\", delimiter='\\s+', header=None)\n",
    "data = data.dropna()\n",
    "# data.columns = [str(i) for i in range(1, data.shape[1] + 1)]\n",
    "target_col = 7\n",
    "\n",
    "if normalize:\n",
    "    data = normalization(data, target_col)\n",
    "\n",
    "data = move_target_to_end(data, target_col)\n",
    "data[target_col] = pd.factorize(data[target_col])[0]\n",
    "\n",
    "correlation_ret = data.corrwith(data[target_col], method=correlation_ratio).sort_values(ascending=False)\n",
    "important_features = correlation_ret[correlation_ret >= threshold].index.tolist()\n",
    "important_features.remove(target_col)\n",
    "print(important_features)\n",
    "print(data[target_col].value_counts())\n",
    "print(data.shape)\n",
    "correlation_ret"
   ]
  },
  {
   "attachments": {},
   "cell_type": "markdown",
   "metadata": {},
   "source": [
    "## Adult"
   ]
  },
  {
   "cell_type": "code",
   "execution_count": 21,
   "metadata": {},
   "outputs": [],
   "source": [
    "from sklearn.preprocessing import OneHotEncoder"
   ]
  },
  {
   "cell_type": "code",
   "execution_count": 28,
   "metadata": {},
   "outputs": [
    {
     "name": "stdout",
     "output_type": "stream",
     "text": [
      "{'Male': 0, 'Female': 1}\n",
      "{'Married-civ-spouse': 0, 'Married-AF-spouse': 1, 'Divorced': 2, 'Married-spouse-absent': 3, 'Widowed': 4, 'Separated': 5, 'Never-married': 6}\n",
      "{'Wife': 0, 'Husband': 1, 'Not-in-family': 2, 'Unmarried': 3, 'Other-relative': 4, 'Own-child': 5}\n",
      "{'Asian-Pac-Islander': 0, 'White': 1, 'Other': 2, 'Black': 3, 'Amer-Indian-Eskimo': 4}\n",
      "{'Self-emp-inc': 0, 'Federal-gov': 1, 'Local-gov': 2, 'Self-emp-not-inc': 3, 'State-gov': 4, 'Private': 5, 'Without-pay': 6}\n",
      "{'Exec-managerial': 0, 'Prof-specialty': 1, 'Protective-serv': 2, 'Tech-support': 3, 'Armed-Forces': 4, 'Sales': 5, 'Craft-repair': 6, 'Transport-moving': 7, 'Adm-clerical': 8, 'Machine-op-inspct': 9, 'Farming-fishing': 10, 'Handlers-cleaners': 11, 'Other-service': 12, 'Priv-house-serv': 13}\n"
     ]
    },
    {
     "data": {
      "text/plain": [
       "Target            1.000000\n",
       "Martial Status    0.413213\n",
       "Relationship      0.383811\n",
       "Occupation        0.341454\n",
       "Education-Num     0.332800\n",
       "Age               0.237040\n",
       "Hours per week    0.227199\n",
       "Capital Gain      0.221034\n",
       "Sex               0.215760\n",
       "Workclass         0.150828\n",
       "Capital Loss      0.148687\n",
       "Race              0.096798\n",
       "dtype: float64"
      ]
     },
     "execution_count": 28,
     "metadata": {},
     "output_type": "execute_result"
    }
   ],
   "source": [
    "normalize = True\n",
    "threshold = 0.1\n",
    "retain_threshold = 0.05\n",
    "\n",
    "columns = [\"Age\", \"Workclass\", \"fnlwgt\", \"Education\", \"Education-Num\", \"Martial Status\",\n",
    "\t           \"Occupation\", \"Relationship\", \"Race\", \"Sex\", \"Capital Gain\", \"Capital Loss\",\n",
    "\t           \"Hours per week\", \"Country\", \"Target\"]\n",
    "types = {\n",
    "    0: int, 1: str, 2: int, 3: str, 4: int, 5: str, 6: str, 7: str, 8: str, 9: str, 10: int,\n",
    "    11: int, 12: int, 13: str, 14: str\n",
    "}\n",
    "\n",
    "data_train = pd.read_csv(\n",
    "    \"./data/adult/adult_train.csv\", names=columns, na_values=['?'], sep=r'\\s*,\\s*', engine='python',\n",
    "    dtype=types\n",
    ")\n",
    "data_test = pd.read_csv(\n",
    "    \"./data/adult/adult_test.csv\", names=columns, na_values=['?'], sep=r'\\s*,\\s*', engine='python',\n",
    "    dtype=types\n",
    ")\n",
    "data = pd.concat([data_train, data_test], axis=0)\n",
    "data = data.dropna()\n",
    "col_drop = [\"Country\", \"Education\", \"fnlwgt\"]\n",
    "data = data.drop(col_drop, axis=1)\n",
    "# target\n",
    "target_col = 'Target'\n",
    "data[target_col] = data[target_col].map({'<=50K': 0, '>50K': 1, '<=50K.': 0, '>50K.': 1})\n",
    "\n",
    "# convert categorical to numerical\n",
    "for col in [\"Sex\", \"Martial Status\", \"Relationship\", \"Race\",  \"Workclass\", \"Occupation\"]:\n",
    "    values = data[col].value_counts().index.tolist()\n",
    "    corr_y = []\n",
    "    for value in values:\n",
    "        corr_y_data = data[data[col] == value][target_col].value_counts(normalize=True)\n",
    "        corr = corr_y_data[0]/corr_y_data[1]\n",
    "        corr_y.append(corr)\n",
    "\n",
    "    sorted_values = sorted(values, key = lambda x: corr_y[values.index(x)])\n",
    "    mapping = {value: idx for idx, value in enumerate(sorted_values)}\n",
    "    print(mapping)\n",
    "    data[col] = data[col].map(mapping)\n",
    "\n",
    "# one-hot encoding\n",
    "# categorical_features = [\n",
    "#     \"Workclass\", \"Education\", \"Martial Status\", \"Occupation\", \"Relationship\", \"Race\", \"Sex\", \"Country\"\n",
    "# ]\n",
    "# one_hot_encoder = OneHotEncoder(\n",
    "#     categories='auto', handle_unknown='ignore', drop='first', max_categories=5\n",
    "# )\n",
    "# one_hot_encoder.fit(data[categorical_features])\n",
    "# one_hot_encoded = one_hot_encoder.transform(data[categorical_features]).toarray()\n",
    "# one_hot_encoded = pd.DataFrame(one_hot_encoded)\n",
    "# data = data.drop(categorical_features, axis=1).reset_index(drop=True)\n",
    "# num_cols = data.shape[1] - 1\n",
    "# data = pd.concat([data, one_hot_encoded], axis=1)\n",
    "\n",
    "if normalize:\n",
    "    data = normalization(data, target_col)\n",
    "\n",
    "data = move_target_to_end(data, target_col)\n",
    "data[target_col] = pd.factorize(data[target_col])[0]\n",
    "\n",
    "# # sample balance\n",
    "# data_y0 = data[data[target_col] == 0]\n",
    "# data_y1 = data[data[target_col] == 1]\n",
    "# data_y0 = data_y0.sample(n=data_y1.shape[0], random_state=0)\n",
    "# data = pd.concat([data_y0, data_y1], axis=0).reset_index(drop=True)\n",
    "\n",
    "\n",
    "correlation_ret = data.corrwith(data[target_col], method=correlation_ratio).sort_values(ascending=False)\n",
    "# retained_features = correlation_ret[correlation_ret >= retain_threshold].index.tolist()\n",
    "# new_cols = []\n",
    "# new_num_cols = 0\n",
    "# for idx, feature in enumerate(data.columns.tolist()):\n",
    "#     if feature in retained_features:\n",
    "#         new_cols.append(feature)\n",
    "#         if idx < num_cols:\n",
    "#             new_num_cols += 1\n",
    "\n",
    "# data = data[new_cols]\n",
    "\n",
    "important_features = correlation_ret[correlation_ret >= threshold].index.tolist()\n",
    "important_features.remove(target_col)\n",
    "\n",
    "data_config = {\n",
    "    'target': target_col,\n",
    "    'important_features_idx': [data.columns.tolist().index(feature) for feature in important_features],\n",
    "    'features_idx': [idx for idx in range(0, data.shape[1]) if data.columns[idx] != target_col],\n",
    "    \"num_cols\": data.shape[1] - 1,\n",
    "    'task_type': 'classification',\n",
    "    'clf_type': 'binary-class',\n",
    "    'data_type': 'tabular'\n",
    "}\n",
    "correlation_ret"
   ]
  },
  {
   "attachments": {},
   "cell_type": "markdown",
   "metadata": {},
   "source": [
    "## Default Credit"
   ]
  },
  {
   "cell_type": "code",
   "execution_count": 45,
   "metadata": {},
   "outputs": [
    {
     "name": "stdout",
     "output_type": "stream",
     "text": [
      "{1: 0, 2: 1}\n",
      "{3: 0, 1: 1, 2: 2, 0: 3}\n",
      "{0: 0, 3: 1, 2: 2, 1: 3, 6: 4, 5: 5, 4: 6}\n"
     ]
    },
    {
     "data": {
      "text/plain": [
       "default payment next month    1.000000\n",
       "PAY_0                         0.324794\n",
       "PAY_2                         0.263551\n",
       "PAY_3                         0.235253\n",
       "PAY_4                         0.216614\n",
       "PAY_5                         0.204149\n",
       "PAY_6                         0.186866\n",
       "LIMIT_BAL                     0.153520\n",
       "PAY_AMT1                      0.072929\n",
       "EDUCATION                     0.068142\n",
       "PAY_AMT2                      0.058579\n",
       "PAY_AMT4                      0.056827\n",
       "PAY_AMT3                      0.056250\n",
       "PAY_AMT5                      0.055124\n",
       "PAY_AMT6                      0.053183\n",
       "SEX                           0.039961\n",
       "MARRIAGE                      0.033213\n",
       "BILL_AMT1                     0.019644\n",
       "BILL_AMT2                     0.014193\n",
       "BILL_AMT3                     0.014076\n",
       "AGE                           0.013890\n",
       "BILL_AMT4                     0.010156\n",
       "BILL_AMT5                     0.006760\n",
       "BILL_AMT6                     0.005372\n",
       "dtype: float64"
      ]
     },
     "execution_count": 45,
     "metadata": {},
     "output_type": "execute_result"
    }
   ],
   "source": [
    "normalize = True\n",
    "threshold = 0.1\n",
    "retain_threshold = 0.1\n",
    "\n",
    "\n",
    "data = pd.read_csv(\"./data/default_credit/default_creidt.csv\")\n",
    "data = data.dropna()\n",
    "data = data.drop('ID', axis=1)\n",
    "\n",
    "# target\n",
    "target_col = 'default payment next month'\n",
    "\n",
    "# convert categorical to numerical\n",
    "for col in [\"SEX\", \"MARRIAGE\", \"EDUCATION\"]:\n",
    "    values = data[col].value_counts().index.tolist()\n",
    "    corr_y = []\n",
    "    for value in values:\n",
    "        corr_y_data = data[data[col] == value][target_col].value_counts(normalize=True)\n",
    "        if corr_y_data.shape[0] == 1:\n",
    "            if corr_y_data.index[0] == 0:\n",
    "                corr = 0\n",
    "            else:\n",
    "                corr = 1e5\n",
    "        else:\n",
    "            corr = corr_y_data[0]/corr_y_data[1]\n",
    "        \n",
    "        corr_y.append(corr)\n",
    "\n",
    "    sorted_values = sorted(values, key = lambda x: corr_y[values.index(x)])\n",
    "    mapping = {value: idx for idx, value in enumerate(sorted_values)}\n",
    "    print(mapping)\n",
    "    data[col] = data[col].map(mapping)\n",
    "\n",
    "if normalize:\n",
    "    data = normalization(data, target_col)\n",
    "\n",
    "data = move_target_to_end(data, target_col)\n",
    "data[target_col] = pd.factorize(data[target_col])[0]\n",
    "\n",
    "# # sample balance\n",
    "# data_y0 = data[data[target_col] == 0]\n",
    "# data_y1 = data[data[target_col] == 1]\n",
    "# data_y1 = data_y1.sample(n=data_y0.shape[0], random_state=0)\n",
    "# data = pd.concat([data_y0, data_y1], axis=0).reset_index(drop=True)\n",
    "\n",
    "correlation_ret = data.corrwith(data[target_col], method=correlation_ratio).sort_values(ascending=False)\n",
    "important_features = correlation_ret[correlation_ret >= threshold].index.tolist()\n",
    "important_features.remove(target_col)\n",
    "\n",
    "retained_features = correlation_ret[correlation_ret >= retain_threshold].index.tolist()\n",
    "new_cols = []\n",
    "for idx, feature in enumerate(data.columns.tolist()):\n",
    "    if feature in retained_features:\n",
    "        new_cols.append(feature)\n",
    "\n",
    "data = data[new_cols]\n",
    "\n",
    "data_config = {\n",
    "    'target': target_col,\n",
    "    'important_features_idx': [data.columns.tolist().index(feature) for feature in important_features],\n",
    "    'features_idx': [idx for idx in range(0, data.shape[1]) if data.columns[idx] != target_col],\n",
    "    \"num_cols\": data.shape[1] - 1,\n",
    "    'task_type': 'classification',\n",
    "    'clf_type': 'binary-class',\n",
    "    'data_type': 'tabular'\n",
    "}\n",
    "\n",
    "correlation_ret"
   ]
  },
  {
   "attachments": {},
   "cell_type": "markdown",
   "metadata": {},
   "source": [
    "## Firewall"
   ]
  },
  {
   "cell_type": "code",
   "execution_count": 106,
   "metadata": {},
   "outputs": [
    {
     "name": "stdout",
     "output_type": "stream",
     "text": [
      "(65478, 14)\n"
     ]
    },
    {
     "data": {
      "text/plain": [
       "Action                  1.000000\n",
       "nat_sd_pair_freq        0.982195\n",
       "nat_source_freq         0.982195\n",
       "nat_destination_freq    0.886994\n",
       "destination_freq        0.714055\n",
       "sd_pair_freq            0.200021\n",
       "Elapsed Time (sec)      0.187267\n",
       "source_freq             0.180081\n",
       "Bytes Received          0.026105\n",
       "pkts_received           0.023785\n",
       "Packets                 0.017074\n",
       "Bytes                   0.014861\n",
       "pkts_sent               0.010798\n",
       "Bytes Sent              0.005014\n",
       "dtype: float64"
      ]
     },
     "execution_count": 106,
     "metadata": {},
     "output_type": "execute_result"
    }
   ],
   "source": [
    "normalize = True\n",
    "threshold = 0.1\n",
    "retain_threshold = 0.1\n",
    "\n",
    "\n",
    "data = pd.read_csv(\"./data/firewall/log2.csv\")\n",
    "data = data[data['Action'] != 'reset-both']\n",
    "target_col = 'Action'\n",
    "data[target_col] = pd.factorize(data[target_col])[0]\n",
    "data = data.dropna()\n",
    "source_freq = data['Source Port'].value_counts(normalize=True)\n",
    "source_freq.name = 'source_freq'\n",
    "destination_freq = data['Destination Port'].value_counts(normalize=True)\n",
    "destination_freq.name = 'destination_freq'\n",
    "nat_source_freq = data['NAT Source Port'].value_counts(normalize=True)\n",
    "nat_source_freq.name = 'nat_source_freq'\n",
    "nat_destination_freq = data['NAT Destination Port'].value_counts(normalize=True)\n",
    "nat_destination_freq.name = 'nat_destination_freq'\n",
    "\n",
    "data = data.merge(source_freq, how = 'left', left_on='Source Port', right_index=True)\n",
    "data = data.merge(destination_freq, how = 'left', left_on='Destination Port', right_index=True)\n",
    "data = data.merge(nat_source_freq, how = 'left', left_on='NAT Source Port', right_index=True)\n",
    "data = data.merge(nat_destination_freq, how = 'left', left_on='NAT Destination Port', right_index=True)\n",
    "data['sd_pair'] = data[['Source Port', 'Destination Port']].apply(lambda x: tuple(x), axis=1)\n",
    "data['nat_sd_pair'] = data[['NAT Source Port', 'NAT Destination Port']].apply(lambda x: tuple(x), axis=1)\n",
    "sd_pair_freq = data['sd_pair'].value_counts(normalize=True)\n",
    "sd_pair_freq.name = 'sd_pair_freq'\n",
    "nat_sd_pair_freq = data['nat_sd_pair'].value_counts(normalize=True)\n",
    "nat_sd_pair_freq.name = 'nat_sd_pair_freq'\n",
    "data = data.merge(sd_pair_freq, how = 'left', left_on='sd_pair', right_index=True)\n",
    "data = data.merge(nat_sd_pair_freq, how = 'left', left_on='nat_sd_pair', right_index=True)\n",
    "\n",
    "data = data.drop([\n",
    "    'sd_pair', 'nat_sd_pair', 'Source Port', 'Destination Port', 'NAT Source Port', 'NAT Destination Port'\n",
    "    ], axis=1)\n",
    "\n",
    "if normalize:\n",
    "    data = normalization(data, target_col)\n",
    "\n",
    "data = move_target_to_end(data, target_col)\n",
    "\n",
    "# # # sample balance\n",
    "# # data_y0 = data[data[target_col] == 0]\n",
    "# # data_y1 = data[data[target_col] == 1]\n",
    "# # data_y1 = data_y1.sample(n=data_y0.shape[0], random_state=0)\n",
    "# # data = pd.concat([data_y0, data_y1], axis=0).reset_index(drop=True)\n",
    "\n",
    "correlation_ret = data.corrwith(data[target_col], method=correlation_ratio).sort_values(ascending=False)\n",
    "important_features = correlation_ret[correlation_ret >= threshold].index.tolist()\n",
    "important_features.remove(target_col)\n",
    "\n",
    "data_config = {\n",
    "    'target': target_col,\n",
    "    'important_features_idx': [data.columns.tolist().index(feature) for feature in important_features],\n",
    "    'features_idx': [idx for idx in range(0, data.shape[1]) if data.columns[idx] != target_col],\n",
    "    \"num_cols\": data.shape[1] - 1,\n",
    "    'task_type': 'classification',\n",
    "    'clf_type': 'multi-class',\n",
    "    'data_type': 'tabular'\n",
    "}\n",
    "print(data.shape)\n",
    "correlation_ret"
   ]
  },
  {
   "cell_type": "code",
   "execution_count": 105,
   "metadata": {},
   "outputs": [
    {
     "name": "stdout",
     "output_type": "stream",
     "text": [
      "Accuracy: 0.9980146609651802\n",
      "F1: 0.99801223267393\n"
     ]
    }
   ],
   "source": [
    "run_classification(data, target_col=target_col)"
   ]
  },
  {
   "attachments": {},
   "cell_type": "markdown",
   "metadata": {},
   "source": [
    "## Dry Bean"
   ]
  },
  {
   "cell_type": "code",
   "execution_count": 103,
   "metadata": {},
   "outputs": [
    {
     "name": "stdout",
     "output_type": "stream",
     "text": [
      "(13611, 13)\n"
     ]
    },
    {
     "data": {
      "text/plain": [
       "Class              1.000000\n",
       "MajorAxisLength    0.931274\n",
       "Perimeter          0.930830\n",
       "ShapeFactor2       0.928938\n",
       "ConvexArea         0.922399\n",
       "EquivDiameter      0.921556\n",
       "Area               0.921539\n",
       "Compactness        0.904610\n",
       "ShapeFactor3       0.904537\n",
       "AspectRation       0.902179\n",
       "Eccentricity       0.900969\n",
       "MinorAxisLength    0.898471\n",
       "ShapeFactor1       0.896564\n",
       "dtype: float64"
      ]
     },
     "execution_count": 103,
     "metadata": {},
     "output_type": "execute_result"
    }
   ],
   "source": [
    "normalize = True\n",
    "threshold = 0.1\n",
    "retain_threshold = 0.1\n",
    "\n",
    "data = pd.read_excel(\"./data/dry_bean/Dry_Bean_Dataset.xlsx\")\n",
    "target_col = 'Class'\n",
    "# data = data[data['Action'] != 'reset-both']\n",
    "# target_col = 'Action'\n",
    "data[target_col] = pd.factorize(data[target_col])[0]\n",
    "data = data.dropna()\n",
    "data = data.drop(['Extent', 'Solidity', 'ShapeFactor4', 'roundness'], axis=1)\n",
    "\n",
    "# convert columns to gaussian\n",
    "data = convert_gaussian(data, target_col)\n",
    "\n",
    "if normalize:\n",
    "    data = normalization(data, target_col)\n",
    "\n",
    "data = move_target_to_end(data, target_col)\n",
    "\n",
    "correlation_ret = data.corrwith(data[target_col], method=correlation_ratio).sort_values(ascending=False)\n",
    "important_features = correlation_ret[correlation_ret >= threshold].index.tolist()\n",
    "important_features.remove(target_col)\n",
    "\n",
    "data_config = {\n",
    "    'target': target_col,\n",
    "    'important_features_idx': [data.columns.tolist().index(feature) for feature in important_features],\n",
    "    'features_idx': [idx for idx in range(0, data.shape[1]) if data.columns[idx] != target_col],\n",
    "    \"num_cols\": data.shape[1] - 1,\n",
    "    'task_type': 'classification',\n",
    "    'clf_type': 'multi-class',\n",
    "    'data_type': 'tabular'\n",
    "}\n",
    "print(data.shape)\n",
    "correlation_ret"
   ]
  },
  {
   "cell_type": "code",
   "execution_count": 102,
   "metadata": {},
   "outputs": [
    {
     "data": {
      "text/plain": [
       "Class\n",
       "6    3546\n",
       "5    2636\n",
       "0    2027\n",
       "4    1928\n",
       "3    1630\n",
       "1    1322\n",
       "2     522\n",
       "Name: count, dtype: int64"
      ]
     },
     "execution_count": 102,
     "metadata": {},
     "output_type": "execute_result"
    }
   ],
   "source": [
    "data[target_col].value_counts()"
   ]
  },
  {
   "cell_type": "code",
   "execution_count": 82,
   "metadata": {},
   "outputs": [
    {
     "name": "stdout",
     "output_type": "stream",
     "text": [
      "Accuracy: 0.9155343371281675\n",
      "F1: 0.9156577273371562\n"
     ]
    }
   ],
   "source": [
    "run_classification(data, target_col)"
   ]
  },
  {
   "attachments": {},
   "cell_type": "markdown",
   "metadata": {},
   "source": [
    "## CodRNA"
   ]
  },
  {
   "cell_type": "code",
   "execution_count": 10,
   "metadata": {
    "ExecuteTime": {
     "end_time": "2023-05-18T23:45:01.899795100Z",
     "start_time": "2023-05-18T23:44:48.986988100Z"
    }
   },
   "outputs": [
    {
     "name": "stdout",
     "output_type": "stream",
     "text": [
      "(50000, 9)\n",
      "Y\n",
      "0    33304\n",
      "1    16696\n",
      "Name: count, dtype: int64\n"
     ]
    },
    {
     "name": "stderr",
     "output_type": "stream",
     "text": [
      "m:\\miniconda3\\envs\\fed_imp\\lib\\site-packages\\dython\\nominal.py:293: RuntimeWarning: Rounded eta = 1.0000000000000002 to 1. This is probably due to floating point precision issues.\n",
      "  warnings.warn(\n"
     ]
    },
    {
     "data": {
      "text/plain": [
       "Y     1.000000e+00\n",
       "X1    5.213973e-01\n",
       "X8    6.349164e-16\n",
       "X3    5.801881e-16\n",
       "X4    4.278746e-16\n",
       "X5    3.654741e-16\n",
       "X2    2.432693e-16\n",
       "X6    0.000000e+00\n",
       "X7    0.000000e+00\n",
       "dtype: float64"
      ]
     },
     "execution_count": 10,
     "metadata": {},
     "output_type": "execute_result"
    }
   ],
   "source": [
    "from sklearn.datasets import fetch_openml\n",
    "normalize = True\n",
    "threshold = 0.1\n",
    "sample_balance = False\n",
    "gaussian = True\n",
    "data_obj = fetch_openml(data_id = 351, as_frame='auto', parser = 'auto')\n",
    "X = pd.DataFrame(data_obj.data.todense(), columns=data_obj.feature_names)\n",
    "y = pd.DataFrame(data_obj.target, columns = data_obj.target_names)\n",
    "data = pd.concat([X, y], axis=1)\n",
    "\n",
    "target_col = 'Y'\n",
    "data[target_col] = pd.factorize(data[target_col])[0]\n",
    "data = data.dropna()\n",
    "\n",
    "if gaussian:\n",
    "    data = convert_gaussian(data, target_col)\n",
    "\n",
    "if normalize:\n",
    "    data = normalization(data, target_col)\n",
    "\n",
    "data = move_target_to_end(data, target_col)\n",
    "correlation_ret = data.corrwith(data[target_col], method=correlation_ratio).sort_values(ascending=False)\n",
    "important_features = correlation_ret[correlation_ret >= threshold].index.tolist()\n",
    "important_features.remove(target_col)\n",
    "\n",
    "if sample_balance:\n",
    "    data_y0 = data[data[target_col] == 0]\n",
    "    data_y1 = data[data[target_col] == 1]\n",
    "    data_y0 = data_y0.sample(n=data_y1.shape[0], random_state=0)\n",
    "    data = pd.concat([data_y0, data_y1], axis=0).reset_index(drop=True)\n",
    "\n",
    "data = data.sample(n = 50000).reset_index(drop=True)\n",
    "\n",
    "data_config = {\n",
    "    'target': target_col,\n",
    "    'important_features_idx': [data.columns.tolist().index(feature) for feature in important_features],\n",
    "    'features_idx': [idx for idx in range(0, data.shape[1]) if data.columns[idx] != target_col],\n",
    "    \"num_cols\": data.shape[1] - 1,\n",
    "    'task_type': 'classification',\n",
    "    'clf_type': 'binary-class',\n",
    "    'data_type': 'tabular'\n",
    "}\n",
    "print(data.shape)\n",
    "print(data['Y'].value_counts())\n",
    "correlation_ret"
   ]
  },
  {
   "cell_type": "code",
   "execution_count": 90,
   "metadata": {
    "ExecuteTime": {
     "end_time": "2023-05-18T23:49:12.194853200Z",
     "start_time": "2023-05-18T23:45:31.320871Z"
    },
    "collapsed": false
   },
   "outputs": [
    {
     "name": "stdout",
     "output_type": "stream",
     "text": [
      "X_train shape: (40000, 8)\n",
      "Accuracy: 0.9624\n",
      "F1: 0.9624875074444895\n",
      "Recall: 0.9624\n",
      "Precision: 0.9626570840059854\n",
      "Accuracy: 0.9498\n",
      "F1: 0.9498230386435629\n",
      "Recall: 0.9498\n",
      "Precision: 0.9498491219318055\n"
     ]
    }
   ],
   "source": [
    "run_classification(data, target_col)"
   ]
  },
  {
   "cell_type": "code",
   "execution_count": 91,
   "metadata": {},
   "outputs": [
    {
     "name": "stdout",
     "output_type": "stream",
     "text": [
      "X_train shape: (53454, 8)\n",
      "Accuracy: 0.9604\n",
      "F1: 0.9607156396616993\n",
      "Recall: 0.9604\n",
      "Precision: 0.962096027208788\n",
      "Accuracy: 0.9461\n",
      "F1: 0.946612933766978\n",
      "Recall: 0.9461\n",
      "Precision: 0.9486648252428673\n"
     ]
    }
   ],
   "source": [
    "run_classification(data, target_col, smote = True)"
   ]
  },
  {
   "attachments": {},
   "cell_type": "markdown",
   "metadata": {},
   "source": [
    "## Bank Marketing"
   ]
  },
  {
   "cell_type": "code",
   "execution_count": 87,
   "metadata": {},
   "outputs": [
    {
     "data": {
      "text/plain": [
       "y            1.000000\n",
       "duration     0.394521\n",
       "poutcome     0.259315\n",
       "month        0.166663\n",
       "housing      0.139173\n",
       "contact      0.130590\n",
       "pdays        0.103621\n",
       "previous     0.093236\n",
       "campaign     0.073172\n",
       "loan         0.068185\n",
       "education    0.058675\n",
       "balance      0.052838\n",
       "marital      0.043846\n",
       "day          0.028348\n",
       "age          0.025155\n",
       "default      0.022419\n",
       "job          0.022396\n",
       "dtype: float64"
      ]
     },
     "execution_count": 87,
     "metadata": {},
     "output_type": "execute_result"
    }
   ],
   "source": [
    "threshold = 0.1\n",
    "normalize = True\n",
    "data = pd.read_csv(\"./data/bank_market/bank-full.csv\", sep=';')\n",
    "cat_cols = ['job', 'marital', 'education', 'default', 'housing', 'loan', 'contact', 'month', 'poutcome']\n",
    "for col in cat_cols:\n",
    "    data[col] = pd.factorize(data[col])[0]\n",
    "target_col = 'y'\n",
    "# target_col = 'Y'\n",
    "data[target_col] = pd.factorize(data[target_col])[0]\n",
    "data = data.dropna()\n",
    "\n",
    "if normalize:\n",
    "    data = normalization(data, target_col)\n",
    "\n",
    "data = move_target_to_end(data, target_col)\n",
    "\n",
    "# sample balance\n",
    "# data_y0 = data[data[target_col] == 0]\n",
    "# data_y1 = data[data[target_col] == 1]\n",
    "# data_y0 = data_y0.sample(n=data_y1.shape[0], random_state=0)\n",
    "# data = pd.concat([data_y0, data_y1], axis=0).reset_index(drop=True)\n",
    "\n",
    "correlation_ret = data.corrwith(data[target_col], method=correlation_ratio).sort_values(ascending=False)\n",
    "important_features = correlation_ret[correlation_ret >= threshold].index.tolist()\n",
    "important_features.remove(target_col)\n",
    "\n",
    "data_config = {\n",
    "    'target': target_col,\n",
    "    'important_features_idx': [data.columns.tolist().index(feature) for feature in important_features],\n",
    "    'features_idx': [idx for idx in range(0, data.shape[1]) if data.columns[idx] != target_col],\n",
    "    \"num_cols\": data.shape[1] - 1,\n",
    "    'task_type': 'classification',\n",
    "    'clf_type': 'binary-class',\n",
    "    'data_type': 'tabular'\n",
    "}\n",
    "\n",
    "correlation_ret"
   ]
  },
  {
   "cell_type": "code",
   "execution_count": 88,
   "metadata": {},
   "outputs": [
    {
     "data": {
      "text/plain": [
       "y\n",
       "0    39922\n",
       "1     5289\n",
       "Name: count, dtype: int64"
      ]
     },
     "execution_count": 88,
     "metadata": {},
     "output_type": "execute_result"
    }
   ],
   "source": [
    "data[target_col].value_counts()"
   ]
  },
  {
   "attachments": {},
   "cell_type": "markdown",
   "metadata": {},
   "source": [
    "## IJCNN"
   ]
  },
  {
   "cell_type": "code",
   "execution_count": 127,
   "metadata": {},
   "outputs": [
    {
     "data": {
      "text/plain": [
       "class    1.000000\n",
       "18       0.298654\n",
       "16       0.212200\n",
       "15       0.208563\n",
       "14       0.128144\n",
       "11       0.065834\n",
       "12       0.052288\n",
       "13       0.048484\n",
       "4        0.035952\n",
       "3        0.023617\n",
       "1        0.018933\n",
       "2        0.018033\n",
       "19       0.016998\n",
       "10       0.011122\n",
       "0        0.004583\n",
       "9        0.003706\n",
       "6        0.003395\n",
       "17       0.001930\n",
       "8        0.001557\n",
       "7        0.001446\n",
       "5        0.000067\n",
       "dtype: float64"
      ]
     },
     "execution_count": 127,
     "metadata": {},
     "output_type": "execute_result"
    }
   ],
   "source": [
    "from sklearn.datasets import fetch_openml\n",
    "normalize = True\n",
    "data_obj = fetch_openml(data_id = 1575, as_frame='auto', parser = 'auto')\n",
    "X = pd.DataFrame(data_obj.data.todense(), columns=data_obj.feature_names)\n",
    "y = pd.DataFrame(data_obj.target, columns = data_obj.target_names)\n",
    "data = pd.concat([X, y], axis=1)\n",
    "\n",
    "target_col = 'class'\n",
    "data[target_col] = pd.factorize(data[target_col])[0]\n",
    "data = data.dropna()\n",
    "pca = PCA(n_components=20)\n",
    "pca.fit(data.iloc[:, :-1])\n",
    "data_pca = pca.transform(data.iloc[:, :-1])\n",
    "data_pca = pd.DataFrame(data_pca)\n",
    "data_pca = pd.concat([data_pca, data[target_col]], axis=1)\n",
    "data = data_pca\n",
    "\n",
    "if normalize:\n",
    "    data = normalization(data, target_col)\n",
    "\n",
    "data = move_target_to_end(data, target_col)\n",
    "correlation_ret = data.corrwith(data[target_col], method=correlation_ratio).sort_values(ascending=False)\n",
    "important_features = correlation_ret[correlation_ret >= threshold].index.tolist()\n",
    "important_features.remove(target_col)\n",
    "\n",
    "data_config = {\n",
    "    'target': target_col,\n",
    "    'important_features_idx': [data.columns.tolist().index(feature) for feature in important_features],\n",
    "    'features_idx': [idx for idx in range(0, data.shape[1]) if data.columns[idx] != target_col],\n",
    "    \"num_cols\": data.shape[1] - 1,\n",
    "    'task_type': 'classification',\n",
    "    'clf_type': 'multi-class',\n",
    "    'data_type': 'tabular'\n",
    "}\n",
    "\n",
    "correlation_ret"
   ]
  },
  {
   "cell_type": "code",
   "execution_count": 84,
   "metadata": {},
   "outputs": [
    {
     "data": {
      "text/plain": [
       "class\n",
       "0    173263\n",
       "1     18418\n",
       "Name: count, dtype: int64"
      ]
     },
     "execution_count": 84,
     "metadata": {},
     "output_type": "execute_result"
    }
   ],
   "source": [
    "data[target_col].value_counts()"
   ]
  },
  {
   "attachments": {},
   "cell_type": "markdown",
   "metadata": {},
   "source": [
    "## Skin"
   ]
  },
  {
   "cell_type": "code",
   "execution_count": 94,
   "metadata": {},
   "outputs": [
    {
     "data": {
      "text/plain": [
       "Class    1.000000\n",
       "V3       0.569958\n",
       "V2       0.120327\n",
       "V1       0.092030\n",
       "dtype: float64"
      ]
     },
     "execution_count": 94,
     "metadata": {},
     "output_type": "execute_result"
    }
   ],
   "source": [
    "from sklearn.datasets import fetch_openml\n",
    "\n",
    "data_obj = fetch_openml(data_id = 1502, as_frame='auto', parser = 'auto')\n",
    "X = pd.DataFrame(data_obj.data, columns=data_obj.feature_names)\n",
    "y = pd.DataFrame(data_obj.target, columns = data_obj.target_names)\n",
    "data = pd.concat([X, y], axis=1)\n",
    "\n",
    "\n",
    "target_col = 'Class'\n",
    "data[target_col] = pd.factorize(data[target_col])[0]\n",
    "data = data.dropna()\n",
    "\n",
    "if normalize:\n",
    "    data = normalization(data, target_col)\n",
    "\n",
    "data = move_target_to_end(data, target_col)\n",
    "correlation_ret = data.corrwith(data[target_col], method=correlation_ratio).sort_values(ascending=False)\n",
    "important_features = correlation_ret[correlation_ret >= threshold].index.tolist()\n",
    "important_features.remove(target_col)\n",
    "\n",
    "data = data.sample(n = 50000).reset_index(drop=True)\n",
    "\n",
    "data_config = {\n",
    "    'target': target_col,\n",
    "    'important_features_idx': [data.columns.tolist().index(feature) for feature in important_features],\n",
    "    'features_idx': [idx for idx in range(0, data.shape[1]) if data.columns[idx] != target_col],\n",
    "    \"num_cols\": data.shape[1] - 1,\n",
    "    'task_type': 'classification',\n",
    "    'clf_type': 'multi-class',\n",
    "    'data_type': 'tabular'\n",
    "}\n",
    "\n",
    "correlation_ret"
   ]
  },
  {
   "cell_type": "code",
   "execution_count": 95,
   "metadata": {},
   "outputs": [
    {
     "data": {
      "text/plain": [
       "Class\n",
       "1    39614\n",
       "0    10386\n",
       "Name: count, dtype: int64"
      ]
     },
     "execution_count": 95,
     "metadata": {},
     "output_type": "execute_result"
    }
   ],
   "source": [
    "data[target_col].value_counts()"
   ]
  },
  {
   "cell_type": "code",
   "execution_count": 96,
   "metadata": {},
   "outputs": [
    {
     "name": "stdout",
     "output_type": "stream",
     "text": [
      "X_train shape: (40000, 3)\n",
      "Accuracy: 0.9985\n",
      "F1: 0.9985004028764377\n",
      "Recall: 0.9985\n",
      "Precision: 0.9985010793406389\n",
      "Accuracy: 0.9221\n",
      "F1: 0.9224766927240715\n",
      "Recall: 0.9221\n",
      "Precision: 0.9229297172505674\n"
     ]
    }
   ],
   "source": [
    "run_classification(data, target_col)"
   ]
  },
  {
   "cell_type": "code",
   "execution_count": 97,
   "metadata": {},
   "outputs": [
    {
     "name": "stdout",
     "output_type": "stream",
     "text": [
      "X_train shape: (63356, 3)\n",
      "Accuracy: 0.9986\n",
      "F1: 0.9986007512481622\n",
      "Recall: 0.9986\n",
      "Precision: 0.9986025959025532\n",
      "Accuracy: 0.9325\n",
      "F1: 0.9350187680221524\n",
      "Recall: 0.9325\n",
      "Precision: 0.9431570032626004\n"
     ]
    }
   ],
   "source": [
    "run_classification(data, target_col, smote=True)"
   ]
  },
  {
   "attachments": {},
   "cell_type": "markdown",
   "metadata": {},
   "source": [
    "## SVM guide1"
   ]
  },
  {
   "cell_type": "code",
   "execution_count": 11,
   "metadata": {},
   "outputs": [
    {
     "data": {
      "text/plain": [
       "0    1.000000\n",
       "2    0.679235\n",
       "4    0.533025\n",
       "1    0.527964\n",
       "3    0.233265\n",
       "dtype: float64"
      ]
     },
     "execution_count": 11,
     "metadata": {},
     "output_type": "execute_result"
    }
   ],
   "source": [
    "threshold = 0.1\n",
    "normalize = True\n",
    "data_train = pd.read_csv(\"./data/svm1/svm_p.csv\", sep=',', header = None)\n",
    "data_test = pd.read_csv(\"./data/svm1/svm_pt.csv\", sep=',', header = None)\n",
    "data = pd.concat([data_train, data_test], axis=0).reset_index(drop=True)\n",
    "data = data.dropna()\n",
    "data.columns = [str(i) for i in range(data.shape[1])]\n",
    "target_col = '0'\n",
    "data[target_col] = pd.factorize(data[target_col])[0]\n",
    "\n",
    "if normalize:\n",
    "    data = normalization(data, target_col)\n",
    "\n",
    "data = move_target_to_end(data, target_col)\n",
    "\n",
    "\n",
    "correlation_ret = data.corrwith(data[target_col], method=correlation_ratio).sort_values(ascending=False)\n",
    "important_features = correlation_ret[correlation_ret >= threshold].index.tolist()\n",
    "important_features.remove(target_col)\n",
    "\n",
    "data_config = {\n",
    "    'target': target_col,\n",
    "    'important_features_idx': [data.columns.tolist().index(feature) for feature in important_features],\n",
    "    'features_idx': [idx for idx in range(0, data.shape[1]) if data.columns[idx] != target_col],\n",
    "    \"num_cols\": data.shape[1] - 1,\n",
    "    'task_type': 'classification',\n",
    "    'clf_type': 'binary-class',\n",
    "    'data_type': 'tabular'\n",
    "}\n",
    "\n",
    "correlation_ret"
   ]
  },
  {
   "cell_type": "markdown",
   "metadata": {},
   "source": [
    "## Pendigits"
   ]
  },
  {
   "cell_type": "code",
   "execution_count": 19,
   "metadata": {},
   "outputs": [
    {
     "name": "stdout",
     "output_type": "stream",
     "text": [
      "(10992, 17)\n"
     ]
    },
    {
     "data": {
      "text/plain": [
       "16    1.000000\n",
       "15    0.849678\n",
       "13    0.820472\n",
       "4     0.781146\n",
       "7     0.772960\n",
       "5     0.769259\n",
       "10    0.757793\n",
       "8     0.734025\n",
       "11    0.731596\n",
       "9     0.721901\n",
       "14    0.721614\n",
       "0     0.717654\n",
       "1     0.659020\n",
       "3     0.644406\n",
       "6     0.611788\n",
       "2     0.507330\n",
       "12    0.459465\n",
       "dtype: float64"
      ]
     },
     "execution_count": 19,
     "metadata": {},
     "output_type": "execute_result"
    }
   ],
   "source": [
    "threshold = 0.1\n",
    "normalize = True\n",
    "data_train = pd.read_csv(\"./data/pendigits/pendigits.tra\", sep=',', header=None)\n",
    "data_test = pd.read_csv(\"./data/pendigits/pendigits.tes\", sep=',', header=None)\n",
    "data = pd.concat([data_train, data_test], axis=0).reset_index(drop=True)\n",
    "data = data.dropna()\n",
    "data.columns = [str(i) for i in range(data.shape[1])]\n",
    "target_col = '16'\n",
    "data[target_col] = pd.factorize(data[target_col])[0]\n",
    "\n",
    "if normalize:\n",
    "    data = normalization(data, target_col)\n",
    "\n",
    "data = move_target_to_end(data, target_col)\n",
    "\n",
    "data = convert_gaussian(data, target_col)\n",
    "\n",
    "correlation_ret = data.corrwith(data[target_col], method=correlation_ratio).sort_values(ascending=False)\n",
    "important_features = correlation_ret[correlation_ret >= threshold].index.tolist()\n",
    "important_features.remove(target_col)\n",
    "\n",
    "data_config = {\n",
    "    'target': target_col,\n",
    "    'important_features_idx': [data.columns.tolist().index(feature) for feature in important_features],\n",
    "    'features_idx': [idx for idx in range(0, data.shape[1]) if data.columns[idx] != target_col],\n",
    "    \"num_cols\": data.shape[1] - 1,\n",
    "    'task_type': 'classification',\n",
    "    'clf_type': 'multi-class',\n",
    "    'data_type': 'tabular'\n",
    "}\n",
    "\n",
    "print(data.shape)\n",
    "correlation_ret"
   ]
  },
  {
   "cell_type": "code",
   "execution_count": 18,
   "metadata": {},
   "outputs": [
    {
     "name": "stdout",
     "output_type": "stream",
     "text": [
      "Accuracy: 0.992269213278763\n",
      "F1: 0.9922820660818847\n"
     ]
    }
   ],
   "source": [
    "run_classification(data, target_col=target_col)"
   ]
  },
  {
   "cell_type": "markdown",
   "metadata": {},
   "source": [
    "## statlog"
   ]
  },
  {
   "cell_type": "code",
   "execution_count": 5,
   "metadata": {},
   "outputs": [
    {
     "name": "stdout",
     "output_type": "stream",
     "text": [
      "(24340, 10)\n",
      "9\n",
      "2    12170\n",
      "1     8903\n",
      "3     3267\n",
      "Name: count, dtype: int64\n"
     ]
    },
    {
     "data": {
      "text/plain": [
       "9    1.000000\n",
       "0    0.918795\n",
       "6    0.812970\n",
       "8    0.771910\n",
       "7    0.558087\n",
       "4    0.443462\n",
       "2    0.202672\n",
       "1    0.054291\n",
       "3    0.013202\n",
       "5    0.004803\n",
       "dtype: float64"
      ]
     },
     "execution_count": 5,
     "metadata": {},
     "output_type": "execute_result"
    }
   ],
   "source": [
    "threshold = 0.1\n",
    "normalize = True\n",
    "data_train = pd.read_csv(\"./data/statlog/shuttle.trn.trn\", sep='\\s+', header=None)\n",
    "data_test = pd.read_csv(\"./data/statlog/shuttle.tst.tst\", sep='\\s+', header=None)\n",
    "data = pd.concat([data_train, data_test], axis=0).reset_index(drop=True)\n",
    "\n",
    "data = data.dropna()\n",
    "data.columns = [str(i) for i in range(data.shape[1])]\n",
    "target_col = '9'\n",
    "data[target_col] = pd.factorize(data[target_col])[0]\n",
    "\n",
    "# sample balance\n",
    "data = data[data[target_col].isin([2,1,3])]\n",
    "data_rest = data[data[target_col].isin([1,3])]\n",
    "data_more = data[data[target_col].isin([2])]\n",
    "data_more = data_more.sample(n=data_rest.shape[0], random_state=42)\n",
    "data = pd.concat([data_rest, data_more], axis=0).reset_index(drop=True)\n",
    "\n",
    "data = move_target_to_end(data, target_col)\n",
    "\n",
    "if normalize:\n",
    "    data = normalization(data, target_col)\n",
    "\n",
    "# #data = convert_gaussian(data, target_col)\n",
    "\n",
    "correlation_ret = data.corrwith(data[target_col], method=correlation_ratio).sort_values(ascending=False)\n",
    "important_features = correlation_ret[correlation_ret >= threshold].index.tolist()\n",
    "important_features.remove(target_col)\n",
    "\n",
    "data_config = {\n",
    "    'target': target_col,\n",
    "    'important_features_idx': [data.columns.tolist().index(feature) for feature in important_features],\n",
    "    'features_idx': [idx for idx in range(0, data.shape[1]) if data.columns[idx] != target_col],\n",
    "    \"num_cols\": data.shape[1] - 1,\n",
    "    'task_type': 'classification',\n",
    "    'clf_type': 'multi-class',\n",
    "    'data_type': 'tabular'\n",
    "}\n",
    "\n",
    "print(data.shape)\n",
    "print(data[target_col].value_counts())\n",
    "correlation_ret"
   ]
  },
  {
   "cell_type": "code",
   "execution_count": 32,
   "metadata": {},
   "outputs": [
    {
     "name": "stdout",
     "output_type": "stream",
     "text": [
      "Accuracy: 0.9990517241379311\n",
      "F1: 0.999135039673383\n"
     ]
    }
   ],
   "source": [
    "run_classification(data, target_col=target_col)"
   ]
  },
  {
   "cell_type": "markdown",
   "metadata": {},
   "source": [
    "## Avila"
   ]
  },
  {
   "cell_type": "code",
   "execution_count": 63,
   "metadata": {},
   "outputs": [
    {
     "name": "stdout",
     "output_type": "stream",
     "text": [
      "(20029, 11)\n",
      "10\n",
      "0    8572\n",
      "1    3923\n",
      "3    2190\n",
      "4    1663\n",
      "6    1044\n",
      "2    1039\n",
      "7     893\n",
      "5     705\n",
      "Name: count, dtype: int64\n"
     ]
    },
    {
     "data": {
      "text/plain": [
       "10    1.000000\n",
       "8     0.439498\n",
       "3     0.316348\n",
       "5     0.312607\n",
       "6     0.311208\n",
       "4     0.243893\n",
       "0     0.234072\n",
       "9     0.224227\n",
       "7     0.167128\n",
       "2     0.111404\n",
       "1     0.055065\n",
       "dtype: float64"
      ]
     },
     "execution_count": 63,
     "metadata": {},
     "output_type": "execute_result"
    }
   ],
   "source": [
    "threshold = 0.1\n",
    "normalize = True\n",
    "data_train = pd.read_csv(\"./data/avila/avila-tr.txt\", sep=',', header=None)\n",
    "data_test = pd.read_csv(\"./data/avila/avila-ts.txt\", sep=',', header=None)\n",
    "data = pd.concat([data_train, data_test], axis=0).reset_index(drop=True)\n",
    "\n",
    "data = data.dropna()\n",
    "data.columns = [str(i) for i in range(data.shape[1])]\n",
    "target_col = '10'\n",
    "data = data[data[target_col].isin(['A', 'F', 'E', 'I', 'X', 'H', 'G', 'D'])]\n",
    "data[target_col] = pd.factorize(data[target_col])[0]\n",
    "data = move_target_to_end(data, target_col)\n",
    "\n",
    "if normalize:\n",
    "    data = normalization(data, target_col)\n",
    "\n",
    "# #data = convert_gaussian(data, target_col)\n",
    "\n",
    "correlation_ret = data.corrwith(data[target_col], method=correlation_ratio).sort_values(ascending=False)\n",
    "important_features = correlation_ret[correlation_ret >= threshold].index.tolist()\n",
    "important_features.remove(target_col)\n",
    "\n",
    "data_config = {\n",
    "    'target': target_col,\n",
    "    'important_features_idx': [data.columns.tolist().index(feature) for feature in important_features],\n",
    "    'features_idx': [idx for idx in range(0, data.shape[1]) if data.columns[idx] != target_col],\n",
    "    \"num_cols\": data.shape[1] - 1,\n",
    "    'task_type': 'classification',\n",
    "    'clf_type': 'multi-class',\n",
    "    'data_type': 'tabular'\n",
    "}\n",
    "\n",
    "print(data.shape)\n",
    "print(data[target_col].value_counts())\n",
    "correlation_ret"
   ]
  },
  {
   "cell_type": "code",
   "execution_count": null,
   "metadata": {},
   "outputs": [],
   "source": []
  },
  {
   "cell_type": "code",
   "execution_count": 64,
   "metadata": {},
   "outputs": [
    {
     "name": "stdout",
     "output_type": "stream",
     "text": [
      "Accuracy: 0.7983025461807289\n",
      "F1: 0.7927764026641473\n"
     ]
    }
   ],
   "source": [
    "run_classification(data, target_col=target_col)"
   ]
  },
  {
   "cell_type": "markdown",
   "metadata": {},
   "source": [
    "## SUSY"
   ]
  },
  {
   "cell_type": "code",
   "execution_count": 92,
   "metadata": {},
   "outputs": [
    {
     "name": "stdout",
     "output_type": "stream",
     "text": [
      "(50000, 19)\n",
      "0\n",
      "0    27237\n",
      "1    22763\n",
      "Name: count, dtype: int64\n"
     ]
    },
    {
     "data": {
      "text/plain": [
       "0     1.000000\n",
       "7     0.439508\n",
       "12    0.426846\n",
       "1     0.395619\n",
       "9     0.285267\n",
       "16    0.280535\n",
       "18    0.272013\n",
       "11    0.269359\n",
       "15    0.260561\n",
       "4     0.196171\n",
       "13    0.112637\n",
       "14    0.085809\n",
       "10    0.073441\n",
       "17    0.031605\n",
       "3     0.002636\n",
       "5     0.001936\n",
       "6     0.001268\n",
       "8     0.000587\n",
       "2     0.000554\n",
       "dtype: float64"
      ]
     },
     "execution_count": 92,
     "metadata": {},
     "output_type": "execute_result"
    }
   ],
   "source": [
    "threshold = 0.1\n",
    "normalize = True\n",
    "data = pd.read_csv(\"./data/susy/SUSY.csv\", sep=',', header=None)\n",
    "\n",
    "data = data.dropna()\n",
    "data.columns = [str(i) for i in range(data.shape[1])]\n",
    "target_col = '0'\n",
    "data[target_col] = pd.factorize(data[target_col])[0]\n",
    "data[target_col].value_counts()\n",
    "\n",
    "data = data.sample(frac = 0.01, random_state=42)\n",
    "\n",
    "if normalize:\n",
    "    data = normalization(data, target_col)\n",
    "\n",
    "# #data = convert_gaussian(data, target_col)\n",
    "data = move_target_to_end(data, target_col)\n",
    "\n",
    "correlation_ret = data.corrwith(data[target_col], method=correlation_ratio).sort_values(ascending=False)\n",
    "important_features = correlation_ret[correlation_ret >= threshold].index.tolist()\n",
    "important_features.remove(target_col)\n",
    "\n",
    "data_config = {\n",
    "    'target': target_col,\n",
    "    'important_features_idx': [data.columns.tolist().index(feature) for feature in important_features],\n",
    "    'features_idx': [idx for idx in range(0, data.shape[1]) if data.columns[idx] != target_col],\n",
    "    \"num_cols\": data.shape[1] - 1,\n",
    "    'task_type': 'classification',\n",
    "    'clf_type': 'binary-class',\n",
    "    'data_type': 'tabular'\n",
    "}\n",
    "\n",
    "print(data.shape)\n",
    "print(data[target_col].value_counts())\n",
    "correlation_ret"
   ]
  },
  {
   "cell_type": "code",
   "execution_count": 94,
   "metadata": {},
   "outputs": [
    {
     "name": "stdout",
     "output_type": "stream",
     "text": [
      "Accuracy: 0.7984\n",
      "F1: 0.7951374819022355\n"
     ]
    }
   ],
   "source": [
    "run_classification(data, target_col=target_col)"
   ]
  },
  {
   "cell_type": "markdown",
   "metadata": {},
   "source": [
    "## Higgs"
   ]
  },
  {
   "cell_type": "code",
   "execution_count": 105,
   "metadata": {},
   "outputs": [
    {
     "name": "stdout",
     "output_type": "stream",
     "text": [
      "(55000, 29)\n",
      "0\n",
      "0    29133\n",
      "1    25867\n",
      "Name: count, dtype: int64\n"
     ]
    },
    {
     "data": {
      "text/plain": [
       "0     1.000000\n",
       "26    0.151953\n",
       "28    0.117370\n",
       "4     0.096404\n",
       "6     0.060735\n",
       "27    0.058519\n",
       "13    0.054225\n",
       "1     0.039663\n",
       "18    0.032394\n",
       "25    0.025057\n",
       "23    0.024172\n",
       "17    0.021704\n",
       "10    0.017418\n",
       "22    0.011538\n",
       "24    0.011117\n",
       "14    0.010538\n",
       "21    0.008518\n",
       "3     0.006377\n",
       "8     0.004684\n",
       "7     0.003358\n",
       "12    0.003331\n",
       "9     0.002967\n",
       "2     0.001678\n",
       "15    0.001449\n",
       "19    0.001385\n",
       "20    0.000977\n",
       "16    0.000642\n",
       "5     0.000269\n",
       "11    0.000247\n",
       "dtype: float64"
      ]
     },
     "execution_count": 105,
     "metadata": {},
     "output_type": "execute_result"
    }
   ],
   "source": [
    "threshold = 0.1\n",
    "normalize = True\n",
    "data = pd.read_csv(\"./data/higgs/higgs_new.csv\", sep=',')\n",
    "\n",
    "data = data.dropna()\n",
    "target_col = '0'\n",
    "# #data = convert_gaussian(data, target_col)\n",
    "\n",
    "correlation_ret = data.corrwith(data[target_col], method=correlation_ratio).sort_values(ascending=False)\n",
    "important_features = correlation_ret[correlation_ret >= threshold].index.tolist()\n",
    "important_features.remove(target_col)\n",
    "\n",
    "data_config = {\n",
    "    'target': target_col,\n",
    "    'important_features_idx': [data.columns.tolist().index(feature) for feature in important_features],\n",
    "    'features_idx': [idx for idx in range(0, data.shape[1]) if data.columns[idx] != target_col],\n",
    "    \"num_cols\": data.shape[1] - 1,\n",
    "    'task_type': 'classification',\n",
    "    'clf_type': 'binary-class',\n",
    "    'data_type': 'tabular'\n",
    "}\n",
    "\n",
    "print(data.shape)\n",
    "print(data[target_col].value_counts())\n",
    "correlation_ret"
   ]
  },
  {
   "cell_type": "markdown",
   "metadata": {},
   "source": [
    "## Accel"
   ]
  },
  {
   "cell_type": "code",
   "execution_count": 104,
   "metadata": {},
   "outputs": [
    {
     "data": {
      "text/plain": [
       "Activity\n",
       "0    31420\n",
       "1      571\n",
       "Name: count, dtype: int64"
      ]
     },
     "execution_count": 104,
     "metadata": {},
     "output_type": "execute_result"
    }
   ],
   "source": [
    "threshold = 0.1\n",
    "normalize = True\n",
    "data = pd.read_csv(\"./data/accelerometer/accelerometer_gyro_mobile.csv\", sep=',')\n",
    "\n",
    "data = data.dropna()\n",
    "#data.columns = [str(i) for i in range(data.shape[1])]\n",
    "data.head()\n",
    "target_col = 'Activity'\n",
    "data[target_col] = pd.factorize(data[target_col])[0]\n",
    "data[target_col].value_counts()\n",
    "\n",
    "# data = data.sample(frac = 0.01, random_state=42)\n",
    "\n",
    "# if normalize:\n",
    "#     data = normalization(data, target_col)\n",
    "\n",
    "# # #data = convert_gaussian(data, target_col)\n",
    "# data = move_target_to_end(data, target_col)\n",
    "\n",
    "# correlation_ret = data.corrwith(data[target_col], method=correlation_ratio).sort_values(ascending=False)\n",
    "# important_features = correlation_ret[correlation_ret >= threshold].index.tolist()\n",
    "# important_features.remove(target_col)\n",
    "\n",
    "# data_config = {\n",
    "#     'target': target_col,\n",
    "#     'important_features_idx': [data.columns.tolist().index(feature) for feature in important_features],\n",
    "#     'features_idx': [idx for idx in range(0, data.shape[1]) if data.columns[idx] != target_col],\n",
    "#     \"num_cols\": data.shape[1] - 1,\n",
    "#     'task_type': 'classification',\n",
    "#     'clf_type': 'binary-class',\n",
    "#     'data_type': 'tabular'\n",
    "# }\n",
    "\n",
    "# print(data.shape)\n",
    "# print(data[target_col].value_counts())\n",
    "# correlation_ret"
   ]
  },
  {
   "cell_type": "markdown",
   "metadata": {},
   "source": [
    "## NHIS"
   ]
  },
  {
   "cell_type": "code",
   "execution_count": 7,
   "metadata": {},
   "outputs": [],
   "source": [
    "import numpy as np\n",
    "from sklearn.feature_selection import mutual_info_classif\n",
    "from sklearn.preprocessing import OneHotEncoder\n",
    "from sklearn.decomposition import PCA\n"
   ]
  },
  {
   "cell_type": "code",
   "execution_count": 32,
   "metadata": {},
   "outputs": [
    {
     "name": "stdout",
     "output_type": "stream",
     "text": [
      "Shape of raw data:  (16868, 1418)\n",
      "Shape of data after dropping columns only contains one value:  (14585, 1392)\n",
      "Shape of data after dropping high cardinality columns:  (14585, 1390)\n",
      "Shape of data remove columns with missing values:  (14585, 406)\n",
      "['WTIA_HH', 'WTFA_HH', 'WTFA_FAM', 'WTIA', 'WTFA', 'WTIA_SA', 'WTFA_SA']\n",
      "['INCGRP4', 'INCGRP5', 'RAT_CAT5', 'RAT_CAT4', 'BMI', 'AGE_P', 'WRKMYR', 'EDUC1', 'PRIVATE', 'HIKINDNA']\n",
      "(14585, 103)\n",
      "(14585, 103) (14585, 7) (14585,)\n",
      "(14585, 30)\n",
      "(14585, 31)\n"
     ]
    },
    {
     "data": {
      "text/plain": [
       "ERNYR_P    1.000000\n",
       "0          0.435411\n",
       "1          0.370548\n",
       "24         0.268693\n",
       "5          0.211013\n",
       "15         0.210014\n",
       "20         0.145068\n",
       "3          0.142882\n",
       "9          0.108909\n",
       "2          0.095234\n",
       "4          0.092712\n",
       "21         0.089733\n",
       "7          0.085167\n",
       "19         0.069649\n",
       "27         0.061809\n",
       "6          0.057093\n",
       "22         0.055687\n",
       "18         0.049325\n",
       "11         0.047530\n",
       "13         0.044692\n",
       "17         0.043795\n",
       "25         0.038313\n",
       "28         0.028791\n",
       "8          0.024007\n",
       "23         0.022297\n",
       "26         0.014367\n",
       "29         0.013101\n",
       "10         0.011634\n",
       "16         0.011537\n",
       "12         0.006816\n",
       "14         0.000082\n",
       "dtype: float64"
      ]
     },
     "execution_count": 32,
     "metadata": {},
     "output_type": "execute_result"
    }
   ],
   "source": [
    "data_folder = 'data/NHIS/'\n",
    "paths = {\n",
    "    'family': data_folder+'familyxx.csv',\n",
    "    'child': data_folder+'samchild.csv',\n",
    "    'adult': data_folder+'samadult.csv',\n",
    "    'person': data_folder+'personsx.csv',\n",
    "    'household': data_folder+'househld.csv',\n",
    "    'injury': data_folder+'injpoiep.csv',\n",
    "    'X_income': data_folder+'custom/X_income.csv',\n",
    "}\n",
    "sep = ','\n",
    "\n",
    "household = pd.read_csv(paths['household'], sep=sep)\n",
    "adult = pd.read_csv(paths['adult'], sep=sep)\n",
    "family = pd.read_csv(paths['family'], sep=sep)\n",
    "person = pd.read_csv(paths['person'], sep=sep)\n",
    "\n",
    "# Merge dataframes\n",
    "df = household.merge(family, how='inner', on=['SRVY_YR', 'HHX'],\n",
    "        suffixes=('', '%to_drop')\n",
    "    ).merge(\n",
    "        person, how='inner', on=['SRVY_YR', 'HHX', 'FMX'],\n",
    "        suffixes=('', '%to_drop')\n",
    "    ).merge(\n",
    "        adult, how='inner', on=['SRVY_YR', 'HHX', 'FMX', 'FPX'],\n",
    "        suffixes=('', '%to_drop')\n",
    "    ).dropna(subset=['ERNYR_P'])\n",
    "\n",
    "df = df.loc[:, ~df.columns.str.endswith('%to_drop')]\n",
    "df['IDX'] = df.index\n",
    "df.head()\n",
    "print(\"Shape of raw data: \", df.shape)\n",
    "df = df.reset_index(drop=True)\n",
    "\n",
    "###########################################################################\n",
    "# Target\n",
    "###########################################################################\n",
    "target_col = 'ERNYR_P'\n",
    "df[target_col] = df[target_col].map(lambda x: x if x < 90 else np.nan)\n",
    "df.dropna(subset=['ERNYR_P'], inplace=True)\n",
    "df[target_col] = df[target_col].map(lambda x: 1 if x > 6 else 0)\n",
    "df = move_target_to_end(df, target_col)\n",
    "df[target_col] = pd.factorize(df[target_col])[0]\n",
    "\n",
    "###########################################################################\n",
    "# drop columns with unique values and many values\n",
    "###########################################################################\n",
    "unique_cols = []\n",
    "for column in adult.columns:\n",
    "    if df[column].nunique() == 1:\n",
    "        unique_cols.append(column)\n",
    "\n",
    "df.drop(unique_cols, axis=1, inplace=True)\n",
    "print(\"Shape of data after dropping columns only contains one value: \", df.shape)\n",
    "\n",
    "# drop columns with too many values\n",
    "many_values_cols = []\n",
    "for column in df.columns:\n",
    "    if df[column].nunique()/df.shape[0] > 0.7:\n",
    "        many_values_cols.append(column)\n",
    "\n",
    "df.drop(many_values_cols, axis=1, inplace=True)\n",
    "print(\"Shape of data after dropping high cardinality columns: \", df.shape)\n",
    "\n",
    "###########################################################################\n",
    "# drop missing values\n",
    "###########################################################################\n",
    "ms_pct = df.isnull().sum()/adult.shape[0]\n",
    "ms_thres = 0.0\n",
    "ms_cols = ms_pct[ms_pct > ms_thres].index.tolist()\n",
    "df = df.drop(columns=ms_cols)\n",
    "df = df.dropna(how = 'any')\n",
    "print(\"Shape of data remove columns with missing values: \", df.shape)\n",
    "\n",
    "# numerical columns\n",
    "numerical_cols = [col for col in df.columns if col.startswith('WT')]\n",
    "print(numerical_cols)\n",
    "\n",
    "###########################################################################\n",
    "# Feature selection\n",
    "###########################################################################\n",
    "cat_cols = [col for col in df.columns if col not in numerical_cols and col != target_col]\n",
    "mi = mutual_info_classif(\n",
    "    X = df[cat_cols], y = df[target_col], random_state = 42, discrete_features=True\n",
    ")\n",
    "\n",
    "num_features = 10\n",
    "corr_mi = pd.Series(mi)\n",
    "corr_mi.index = cat_cols\n",
    "features = corr_mi.sort_values(ascending=False)[0:num_features].index.tolist()\n",
    "print(features)\n",
    "###########################################################################\n",
    "# one-hot encoding\n",
    "###########################################################################\n",
    "oh = OneHotEncoder(sparse_output=False, drop = 'first', max_categories = 15, handle_unknown='ignore')\n",
    "X = df[features]\n",
    "X_cat = oh.fit_transform(X)\n",
    "X_cat = pd.DataFrame(X_cat)\n",
    "print(X_cat.shape)\n",
    "\n",
    "###########################################################################\n",
    "# final df\n",
    "###########################################################################\n",
    "y = df[target_col].reset_index(drop = True)\n",
    "X_num = df[numerical_cols].reset_index(drop = True)\n",
    "print(X_cat.shape, X_num.shape, y.shape)\n",
    "df_new = pd.concat([X_cat, y], axis=1)\n",
    "df_new.columns = df_new.columns.astype(str)\n",
    "\n",
    "###########################################################################\n",
    "# PCA\n",
    "###########################################################################\n",
    "pca = PCA(n_components = 30, random_state=42, svd_solver='auto')\n",
    "X = df_new.drop([target_col], axis=1)\n",
    "X_pca = pca.fit_transform(X)\n",
    "print(X_pca.shape)\n",
    "\n",
    "df_new = pd.concat([pd.DataFrame(X_pca), df_new[target_col]], axis=1)\n",
    "\n",
    "###########################################################################\n",
    "# Normalization\n",
    "###########################################################################\n",
    "df_new = convert_gaussian(df_new, target_col)\n",
    "df_new = normalization(df_new, target_col)\n",
    "data = df_new.copy()\n",
    "\n",
    "###########################################################################\n",
    "# Correlation\n",
    "###########################################################################\n",
    "threshold = 0.1\n",
    "correlation_ret = data.corrwith(data[target_col], method=correlation_ratio).sort_values(ascending=False)\n",
    "important_features = correlation_ret[correlation_ret >= threshold].index.tolist()\n",
    "important_features.remove(target_col)\n",
    "\n",
    "#df_new = df_new[important_features + [target_col]]\n",
    "\n",
    "data_config = {\n",
    "    'target': target_col,\n",
    "    'important_features_idx': [data.columns.tolist().index(feature) for feature in important_features],\n",
    "    'features_idx': [idx for idx in range(0, data.shape[1]) if data.columns[idx] != target_col],\n",
    "    \"num_cols\": data.shape[1] - 1,\n",
    "    'task_type': 'classification',\n",
    "    'clf_type': 'multi-class',\n",
    "    'data_type': 'tabular'\n",
    "}\n",
    "print(data.shape)\n",
    "correlation_ret"
   ]
  },
  {
   "cell_type": "code",
   "execution_count": 152,
   "metadata": {},
   "outputs": [
    {
     "name": "stdout",
     "output_type": "stream",
     "text": [
      "Shape of raw data:  (16868, 1418)\n",
      "Shape of data after dropping columns only contains one value:  (14585, 1392)\n",
      "Shape of data after dropping high cardinality columns:  (14585, 1390)\n"
     ]
    }
   ],
   "source": [
    "data_folder = 'data/NHIS/'\n",
    "paths = {\n",
    "    'family': data_folder+'familyxx.csv',\n",
    "    'child': data_folder+'samchild.csv',\n",
    "    'adult': data_folder+'samadult.csv',\n",
    "    'person': data_folder+'personsx.csv',\n",
    "    'household': data_folder+'househld.csv',\n",
    "    'injury': data_folder+'injpoiep.csv',\n",
    "    'X_income': data_folder+'custom/X_income.csv',\n",
    "}\n",
    "sep = ','\n",
    "\n",
    "household = pd.read_csv(paths['household'], sep=sep)\n",
    "adult = pd.read_csv(paths['adult'], sep=sep)\n",
    "family = pd.read_csv(paths['family'], sep=sep)\n",
    "person = pd.read_csv(paths['person'], sep=sep)\n",
    "\n",
    "# Merge dataframes\n",
    "df = household.merge(family, how='inner', on=['SRVY_YR', 'HHX'],\n",
    "        suffixes=('', '%to_drop')\n",
    "    ).merge(\n",
    "        person, how='inner', on=['SRVY_YR', 'HHX', 'FMX'],\n",
    "        suffixes=('', '%to_drop')\n",
    "    ).merge(\n",
    "        adult, how='inner', on=['SRVY_YR', 'HHX', 'FMX', 'FPX'],\n",
    "        suffixes=('', '%to_drop')\n",
    "    ).dropna(subset=['ERNYR_P'])\n",
    "\n",
    "df = df.loc[:, ~df.columns.str.endswith('%to_drop')]\n",
    "df['IDX'] = df.index\n",
    "df.head()\n",
    "print(\"Shape of raw data: \", df.shape)\n",
    "df = df.reset_index(drop=True)\n",
    "\n",
    "###########################################################################\n",
    "# Target\n",
    "###########################################################################\n",
    "target_col = 'ERNYR_P'\n",
    "df[target_col] = df[target_col].map(lambda x: x if x < 90 else np.nan)\n",
    "df.dropna(subset=['ERNYR_P'], inplace=True)\n",
    "df[target_col] = df[target_col].map(lambda x: 1 if x > 6 else 0)\n",
    "df = move_target_to_end(df, target_col)\n",
    "df[target_col] = pd.factorize(df[target_col])[0]\n",
    "\n",
    "###########################################################################\n",
    "# drop columns with unique values and many values\n",
    "###########################################################################\n",
    "unique_cols = []\n",
    "for column in adult.columns:\n",
    "    if df[column].nunique() == 1:\n",
    "        unique_cols.append(column)\n",
    "\n",
    "df.drop(unique_cols, axis=1, inplace=True)\n",
    "print(\"Shape of data after dropping columns only contains one value: \", df.shape)\n",
    "\n",
    "# drop columns with too many values\n",
    "many_values_cols = []\n",
    "for column in df.columns:\n",
    "    if df[column].nunique()/df.shape[0] > 0.7:\n",
    "        many_values_cols.append(column)\n",
    "\n",
    "df.drop(many_values_cols, axis=1, inplace=True)\n",
    "print(\"Shape of data after dropping high cardinality columns: \", df.shape)"
   ]
  },
  {
   "cell_type": "code",
   "execution_count": 155,
   "metadata": {},
   "outputs": [
    {
     "data": {
      "text/plain": [
       "NON_INTV    1.000000\n",
       "CURWRKN     0.009325\n",
       "WRKCELN     0.058485\n",
       "PHONEUSE    0.699486\n",
       "FSSKIP      0.861776\n",
       "              ...   \n",
       "YTQ_MDY1    0.827220\n",
       "YTQ_BTT1    0.984985\n",
       "YTQ_MDT1    0.984985\n",
       "YTQ_BTQ1    0.993966\n",
       "YTQ_MDQ1    0.993966\n",
       "Length: 984, dtype: float64"
      ]
     },
     "execution_count": 155,
     "metadata": {},
     "output_type": "execute_result"
    }
   ],
   "source": [
    "ms = df.isnull().sum()/df.shape[0]\n",
    "ms[ms > 0]"
   ]
  },
  {
   "cell_type": "code",
   "execution_count": 157,
   "metadata": {},
   "outputs": [],
   "source": [
    "msk = pd.isna(df)"
   ]
  },
  {
   "cell_type": "code",
   "execution_count": 173,
   "metadata": {},
   "outputs": [
    {
     "data": {
      "text/plain": [
       "(14585, 1390)"
      ]
     },
     "execution_count": 173,
     "metadata": {},
     "output_type": "execute_result"
    }
   ],
   "source": [
    "msk.shape"
   ]
  },
  {
   "cell_type": "code",
   "execution_count": 175,
   "metadata": {},
   "outputs": [],
   "source": [
    "def get_pattern(row):\n",
    "    return ''.join([str(int(i)) for i in row])\n",
    "\n",
    "pattern = msk.apply(lambda row: get_pattern(row), axis=1)"
   ]
  },
  {
   "cell_type": "code",
   "execution_count": 169,
   "metadata": {},
   "outputs": [],
   "source": [
    "dict = {}\n",
    "\n",
    "for item in pattern:\n",
    "    if item not in dict:\n",
    "        dict[item] = 1\n",
    "    else:\n",
    "        dict[item] += 1"
   ]
  },
  {
   "cell_type": "code",
   "execution_count": 179,
   "metadata": {},
   "outputs": [
    {
     "data": {
      "text/plain": [
       "dict_values([1, 1, 1, 1, 1, 1, 1, 1, 1, 1, 1, 1, 1, 1, 1, 1, 1, 1, 1, 1, 1, 1, 1, 1, 1, 1, 1, 1, 1, 1, 1, 1, 1, 1, 1, 1, 1, 1, 1, 1, 1, 1, 1, 1, 1, 1, 1, 1, 1, 1, 1, 1, 1, 1, 1, 1, 1, 1, 1, 1, 1, 1, 1, 1, 1, 1, 1, 1, 1, 1, 1, 1, 1, 1, 1, 1, 1, 1, 1, 1, 1, 1, 1, 1, 1, 1, 1, 1, 1, 1, 1, 1, 1, 1, 1, 1, 1, 1, 1, 1, 1, 1, 1, 1, 1, 1, 1, 1, 1, 1, 1, 1, 1, 1, 1, 1, 1, 1, 1, 1, 1, 1, 1, 1, 1, 1, 1, 1, 1, 1, 1, 1, 1, 1, 1, 1, 1, 1, 1, 1, 1, 1, 1, 1, 1, 1, 1, 1, 1, 1, 1, 1, 1, 1, 1, 1, 1, 1, 1, 1, 1, 1, 1, 1, 1, 1, 1, 1, 1, 1, 1, 1, 1, 1, 1, 1, 1, 1, 1, 1, 1, 1, 1, 1, 1, 1, 1, 1, 1, 1, 1, 1, 1, 1, 1, 1, 1, 1, 1, 1, 1, 1, 1, 1, 1, 1, 1, 1, 1, 1, 1, 1, 1, 1, 1, 1, 1, 1, 1, 1, 1, 1, 1, 1, 1, 1, 1, 1, 1, 1, 1, 1, 1, 1, 1, 1, 1, 1, 1, 1, 1, 1, 1, 1, 1, 1, 1, 1, 1, 1, 1, 1, 1, 1, 1, 1, 1, 1, 1, 1, 1, 1, 1, 1, 1, 1, 1, 1, 1, 1, 1, 1, 1, 1, 1, 1, 1, 1, 1, 1, 1, 1, 1, 1, 1, 1, 1, 1, 1, 1, 1, 1, 1, 1, 1, 1, 1, 1, 1, 1, 1, 1, 1, 1, 1, 1, 1, 1, 1, 1, 1, 1, 1, 1, 1, 1, 1, 1, 1, 1, 1, 1, 1, 1, 1, 1, 1, 1, 1, 1, 1, 1, 1, 1, 1, 1, 1, 1, 1, 1, 1, 1, 1, 1, 1, 1, 1, 1, 1, 1, 1, 1, 1, 1, 1, 1, 1, 1, 1, 1, 1, 1, 1, 1, 1, 1, 1, 1, 1, 1, 1, 1, 1, 1, 1, 1, 1, 1, 1, 1, 1, 1, 1, 1, 1, 1, 1, 1, 1, 1, 1, 1, 1, 1, 1, 1, 1, 1, 1, 1, 1, 1, 1, 1, 1, 1, 1, 1, 1, 1, 1, 1, 1, 1, 1, 1, 1, 1, 1, 1, 1, 1, 1, 1, 1, 1, 1, 1, 1, 1, 1, 1, 1, 1, 1, 1, 1, 1, 1, 1, 1, 1, 1, 1, 1, 1, 1, 1, 1, 1, 1, 1, 1, 1, 1, 1, 1, 1, 1, 1, 1, 1, 1, 1, 1, 1, 1, 1, 1, 1, 1, 1, 1, 1, 1, 1, 1, 1, 1, 1, 1, 1, 1, 1, 1, 1, 1, 1, 1, 1, 1, 1, 1, 1, 1, 1, 1, 1, 1, 1, 1, 1, 1, 1, 1, 1, 1, 1, 1, 1, 1, 1, 1, 1, 1, 1, 1, 1, 1, 1, 1, 1, 1, 1, 1, 1, 1, 1, 1, 1, 1, 1, 1, 1, 1, 1, 1, 1, 1, 1, 1, 1, 1, 1, 1, 1, 1, 1, 1, 1, 1, 1, 1, 1, 1, 1, 1, 1, 1, 1, 1, 1, 1, 1, 1, 1, 1, 1, 1, 1, 1, 1, 1, 1, 1, 1, 1, 1, 1, 1, 1, 1, 1, 1, 1, 1, 1, 1, 1, 1, 1, 1, 1, 1, 1, 1, 1, 1, 1, 1, 1, 1, 1, 1, 1, 1, 1, 1, 1, 1, 1, 1, 1, 1, 1, 1, 1, 1, 1, 1, 1, 1, 1, 1, 1, 1, 1, 1, 1, 1, 1, 1, 1, 1, 1, 1, 1, 1, 1, 1, 1, 1, 1, 1, 1, 1, 1, 1, 1, 1, 1, 1, 1, 1, 1, 1, 1, 1, 1, 1, 1, 1, 1, 1, 1, 1, 1, 1, 1, 1, 1, 1, 1, 1, 1, 1, 1, 1, 1, 1, 1, 1, 1, 1, 1, 1, 1, 1, 1, 1, 1, 1, 1, 1, 1, 1, 1, 1, 1, 1, 1, 1, 1, 1, 1, 1, 1, 1, 1, 1, 1, 1, 1, 1, 1, 1, 1, 1, 1, 1, 1, 1, 1, 1, 1, 1, 1, 1, 1, 1, 1, 1, 1, 1, 1, 1, 1, 1, 1, 1, 1, 1, 1, 1, 1, 1, 1, 1, 1, 1, 1, 1, 1, 1, 1, 1, 1, 1, 1, 1, 1, 1, 1, 1, 1, 1, 1, 1, 1, 1, 1, 1, 1, 1, 1, 1, 1, 1, 1, 1, 1, 1, 1, 1, 1, 1, 1, 1, 1, 1, 1, 1, 1, 1, 1, 1, 1, 1, 1, 1, 1, 1, 1, 1, 1, 1, 1, 1, 1, 1, 1, 1, 1, 1, 1, 1, 1, 1, 1, 1, 1, 1, 1, 1, 1, 1, 1, 1, 1, 1, 1, 1, 1, 1, 1, 1, 1, 1, 1, 1, 1, 1, 1, 1, 1, 1, 1, 1, 1, 1, 1, 1, 1, 1, 1, 1, 1, 1, 1, 1, 1, 1, 1, 1, 1, 1, 1, 1, 1, 1, 1, 1, 1, 1, 1, 1, 1, 1, 1, 1, 1, 1, 1, 1, 1, 1, 1, 1, 1, 1, 1, 1, 1, 1, 1, 1, 1, 1, 1, 1, 1, 1, 1, 1, 1, 1, 1, 1, 1, 1, 1, 1, 1, 1, 1, 1, 1, 1, 1, 1, 1, 1, 1, 1, 1, 1, 1, 1, 1, 1, 1, 1, 1, 1, 1, 1, 1, 1, 1, 1, 1, 1, 1, 1, 1, 1, 1, 1, 1, 1, 1, 1, 1, 1, 1, 1, 1, 1, 1, 1, 1, 1, 1, 1, 1, 1, 1, 1, 1, 1, 1, 1, 1, 1, 1, 1, 1, 1, 1, 1, 1, 1, 1, 1, 1, 1, 1, 1, 1, 1, 1, 1, 1, 1, 1, 1, 1, 1, 1, 1, 1, 1, 1, 1, 1, 1, 1, 1, 1, 1, 1, 1, 1, 1, 1, 1, 1, 1, 1, 1, 1, 1, 1, 1, 1, 1, 1, 1, 1, 1, 1, 1, 1, 1, 1, 1, 1, 1, 1, 1, 1, 1, 1, 1, 1, 1, 1, 1, 1, 1, 1, 1, 1, 1, 1, 1, 1, 1, 1, 1, 1, 1, 1, 1, 1, 1, 1, 1, 1, 1, 1, 1, 1, 1, 1, 1, 1, 1, 1, 1, 1, 1, 1, 1, 1, 1, 1, 1, 1, 1, 1, 1, 1, 1, 1, 1, 1, 1, 1, 1, 1, 1, 1, 1, 1, 1, 1, 1, 1, 1, 1, 1, 1, 1, 1, 1, 1, 1, 1, 1, 1, 1, 1, 1, 1, 1, 1, 1, 1, 1, 1, 1, 1, 1, 1, 1, 1, 1, 1, 1, 1, 1, 1, 1, 1, 1, 1, 1, 1, 1, 1, 1, 1, 1, 1, 1, 1, 1, 1, 1, 1, 1, 1, 1, 1, 1, 1, 1, 1, 1, 1, 1, 1, 1, 1, 1, 1, 1, 1, 1, 1, 1, 1, 1, 1, 1, 1, 1, 1, 1, 1, 1, 1, 1, 1, 1, 1, 1, 1, 1, 1, 1, 1, 1, 1, 1, 1, 1, 1, 1, 1, 1, 1, 1, 1, 1, 1, 1, 1, 1, 1, 1, 1, 1, 1, 1, 1, 1, 1, 1, 1, 1, 1, 1, 1, 1, 1, 1, 1, 1, 1, 1, 1, 1, 1, 1, 1, 1, 1, 1, 1, 1, 1, 1, 1, 1, 1, 1, 1, 1, 1, 1, 1, 1, 1, 1, 1, 1, 1, 1, 1, 1, 1, 1, 1, 1, 1, 1, 1, 1, 1, 1, 1, 1, 1, 1, 1, 1, 1, 1, 1, 1, 1, 1, 1, 1, 1, 1, 1, 1, 1, 1, 1, 1, 1, 1, 1, 1, 1, 1, 1, 1, 1, 1, 1, 1, 1, 1, 1, 1, 1, 1, 1, 1, 1, 1, 1, 1, 1, 1, 1, 1, 1, 1, 1, 1, 1, 1, 1, 1, 1, 1, 1, 1, 1, 1, 1, 1, 1, 1, 1, 1, 1, 1, 1, 1, 1, 1, 1, 1, 1, 1, 1, 1, 1, 1, 1, 1, 1, 1, 1, 1, 1, 1, 1, 1, 1, 1, 1, 1, 1, 1, 1, 1, 1, 1, 1, 1, 1, 1, 1, 1, 1, 1, 1, 1, 1, 1, 1, 1, 1, 1, 1, 1, 1, 1, 1, 1, 1, 1, 1, 1, 1, 1, 1, 1, 1, 1, 1, 1, 1, 1, 1, 1, 1, 1, 1, 1, 1, 1, 1, 1, 1, 1, 1, 1, 1, 1, 1, 1, 1, 1, 1, 1, 1, 1, 1, 1, 1, 1, 1, 1, 1, 1, 1, 1, 1, 1, 1, 1, 1, 1, 1, 1, 1, 1, 1, 1, 1, 1, 1, 1, 1, 1, 1, 1, 1, 1, 1, 1, 1, 1, 1, 1, 1, 1, 1, 1, 1, 1, 1, 1, 1, 1, 1, 1, 1, 1, 1, 1, 1, 1, 1, 1, 1, 1, 1, 1, 1, 1, 1, 1, 1, 1, 1, 1, 1, 1, 1, 1, 1, 1, 1, 1, 1, 1, 1, 1, 1, 1, 1, 1, 1, 1, 1, 1, 1, 1, 1, 1, 1, 1, 1, 1, 1, 1, 1, 1, 1, 1, 1, 1, 1, 1, 1, 1, 1, 1, 1, 1, 1, 1, 1, 1, 1, 1, 1, 1, 1, 1, 1, 1, 1, 1, 1, 1, 1, 1, 1, 1, 1, 1, 1, 1, 1, 1, 1, 1, 1, 1, 1, 1, 1, 1, 1, 1, 1, 1, 1, 1, 1, 1, 1, 1, 1, 1, 1, 1, 1, 1, 1, 1, 1, 1, 1, 1, 1, 1, 1, 1, 1, 1, 1, 1, 1, 1, 1, 1, 1, 1, 1, 1, 1, 1, 1, 1, 1, 1, 1, 1, 1, 1, 1, 1, 1, 1, 1, 1, 1, 1, 1, 1, 1, 1, 1, 1, 1, 1, 1, 1, 1, 1, 1, 1, 1, 1, 1, 1, 1, 1, 1, 1, 1, 1, 1, 1, 1, 1, 1, 1, 1, 1, 1, 1, 1, 1, 1, 1, 1, 1, 1, 1, 1, 1, 1, 1, 1, 1, 1, 1, 1, 1, 1, 1, 1, 1, 1, 1, 1, 1, 1, 1, 1, 1, 1, 1, 1, 1, 1, 1, 1, 1, 1, 1, 1, 1, 1, 1, 1, 1, 1, 1, 1, 1, 1, 1, 1, 1, 1, 1, 1, 1, 1, 1, 1, 1, 1, 1, 1, 1, 1, 1, 1, 1, 1, 1, 1, 1, 1, 1, 1, 1, 1, 1, 1, 1, 1, 1, 1, 1, 1, 1, 1, 1, 1, 1, 1, 1, 1, 1, 1, 1, 1, 1, 1, 1, 1, 1, 1, 1, 1, 1, 1, 1, 1, 1, 1, 1, 1, 1, 1, 1, 1, 1, 1, 1, 1, 1, 1, 1, 1, 1, 1, 1, 1, 1, 1, 1, 1, 1, 1, 1, 1, 1, 1, 1, 1, 1, 1, 1, 1, 1, 1, 1, 1, 1, 1, 1, 1, 1, 1, 1, 1, 1, 1, 1, 1, 1, 1, 1, 1, 1, 1, 1, 1, 1, 1, 1, 1, 1, 1, 1, 1, 1, 1, 1, 1, 1, 1, 1, 1, 1, 1, 1, 1, 1, 1, 1, 1, 1, 1, 1, 1, 1, 1, 1, 1, 1, 1, 1, 1, 1, 1, 1, 1, 1, 1, 1, 1, 1, 1, 1, 1, 1, 1, 1, 1, 1, 1, 1, 1, 1, 1, 1, 1, 1, 1, 1, 1, 1, 1, 1, 1, 1, 1, 1, 1, 1, 1, 1, 1, 1, 1, 1, 1, 1, 1, 1, 1, 1, 1, 1, 1, 1, 1, 1, 1, 1, 1, 1, 1, 1, 1, 1, 1, 1, 1, 1, 1, 1, 1, 1, 1, 1, 1, 1, 1, 1, 1, 1, 1, 1, 1, 1, 1, 1, 1, 1, 1, 1, 1, 1, 1, 1, 1, 1, 1, 1, 1, 1, 1, 1, 1, 1, 1, 1, 1, 1, 1, 1, 1, 1, 1, 1, 1, 1, 1, 1, 1, 1, 1, 1, 1, 1, 1, 1, 1, 1, 1, 1, 1, 1, 1, 1, 1, 1, 1, 1, 1, 1, 1, 1, 1, 1, 1, 1, 1, 1, 1, 1, 1, 1, 1, 1, 1, 1, 1, 1, 1, 1, 1, 1, 1, 1, 1, 1, 1, 1, 1, 1, 1, 1, 1, 1, 1, 1, 1, 1, 1, 1, 1, 1, 1, 1, 1, 1, 1, 1, 1, 1, 1, 1, 1, 1, 1, 1, 1, 1, 1, 1, 1, 1, 1, 1, 1, 1, 1, 1, 1, 1, 1, 1, 1, 1, 1, 1, 1, 1, 1, 1, 1, 1, 1, 1, 1, 1, 1, 1, 1, 1, 1, 1, 1, 1, 1, 1, 1, 1, 1, 1, 1, 1, 1, 1, 1, 1, 1, 1, 1, 1, 1, 1, 1, 1, 1, 1, 1, 1, 1, 1, 1, 1, 1, 1, 1, 1, 1, 1, 1, 1, 1, 1, 1, 1, 1, 1, 1, 1, 1, 1, 1, 1, 1, 1, 1, 1, 1, 1, 1, 1, 1, 1, 1, 1, 1, 1, 1, 1, 1, 1, 1, 1, 1, 1, 1, 1, 1, 1, 1, 1, 1, 1, 1, 1, 1, 1, 1, 1, 1, 1, 1, 1, 1, 1, 1, 1, 1, 1, 1, 1, 1, 1, 1, 1, 1, 1, 1, 1, 1, 1, 1, 1, 1, 1, 1, 1, 1, 1, 1, 1, 1, 1, 1, 1, 1, 1, 1, 1, 1, 1, 1, 1, 1, 1, 1, 1, 1, 1, 1, 1, 1, 1, 1, 1, 1, 1, 1, 1, 1, 1, 1, 1, 1, 1, 1, 1, 1, 1, 1, 1, 1, 1, 1, 1, 1, 1, 1, 1, 1, 1, 1, 1, 1, 1, 1, 1, 1, 1, 1, 1, 1, 1, 1, 1, 1, 1, 1, 1, 1, 1, 1, 1, 1, 1, 1, 1, 1, 1, 1, 1, 1, 1, 1, 1, 1, 1, 1, 1, 1, 1, 1, 1, 1, 1, 1, 1, 1, 1, 1, 1, 1, 1, 1, 1, 1, 1, 1, 1, 1, 1, 1, 1, 1, 1, 1, 1, 1, 1, 1, 1, 1, 1, 1, 1, 1, 1, 1, 1, 1, 1, 1, 1, 1, 1, 1, 1, 1, 1, 1, 1, 1, 1, 1, 1, 1, 1, 1, 1, 1, 1, 1, 1, 1, 1, 1, 1, 1, 1, 1, 1, 1, 1, 1, 1, 1, 1, 1, 1, 1, 1, 1, 1, 1, 1, 1, 1, 1, 1, 1, 1, 1, 1, 1, 1, 1, 1, 1, 1, 1, 1, 1, 1, 1, 1, 1, 1, 1, 1, 1, 1, 1, 1, 1, 1, 1, 1, 1, 1, 1, 1, 1, 1, 1, 1, 1, 1, 1, 1, 1, 1, 1, 1, 1, 1, 1, 1, 1, 1, 1, 1, 1, 1, 1, 1, 1, 1, 1, 1, 1, 1, 1, 1, 1, 1, 1, 1, 1, 1, 1, 1, 1, 1, 1, 1, 1, 1, 1, 1, 1, 1, 1, 1, 1, 1, 1, 1, 1, 1, 1, 1, 1, 1, 1, 1, 1, 1, 1, 1, 1, 1, 1, 1, 1, 1, 1, 1, 1, 1, 1, 1, 1, 1, 1, 1, 1, 1, 1, 1, 1, 1, 1, 1, 1, 1, 1, 1, 1, 1, 1, 1, 1, 1, 1, 1, 1, 1, 1, 1, 1, 1, 1, 1, 1, 1, 1, 1, 1, 1, 1, 1, 1, 1, 1, 1, 1, 1, 1, 1, 1, 1, 1, 1, 1, 1, 1, 1, 1, 1, 1, 1, 1, 1, 1, 1, 1, 1, 1, 1, 1, 1, 1, 1, 1, 1, 1, 1, 1, 1, 1, 1, 1, 1, 1, 1, 1, 1, 1, 1, 1, 1, 1, 1, 1, 1, 1, 1, 1, 1, 1, 1, 1, 1, 1, 1, 1, 1, 1, 1, 1, 1, 1, 1, 1, 1, 1, 1, 1, 1, 1, 1, 1, 1, 1, 1, 1, 1, 1, 1, 1, 1, 1, 1, 1, 1, 1, 1, 1, 1, 1, 1, 1, 1, 1, 1, 1, 1, 1, 1, 1, 1, 1, 1, 1, 1, 1, 1, 1, 1, 1, 1, 1, 1, 1, 1, 1, 1, 1, 1, 1, 1, 1, 1, 1, 1, 1, 1, 1, 1, 1, 1, 1, 1, 1, 1, 1, 1, 1, 1, 1, 1, 1, 1, 1, 1, 1, 1, 1, 1, 1, 1, 1, 1, 1, 1, 1, 1, 1, 1, 1, 1, 1, 1, 1, 1, 1, 1, 1, 1, 1, 1, 1, 1, 1, 1, 1, 1, 1, 1, 1, 1, 1, 1, 1, 1, 1, 1, 1, 1, 1, 1, 1, 1, 1, 1, 1, 1, 1, 1, 1, 1, 1, 1, 1, 1, 1, 1, 1, 1, 1, 1, 1, 1, 1, 1, 1, 1, 1, 1, 1, 1, 1, 1, 1, 1, 1, 1, 1, 1, 1, 1, 1, 1, 1, 1, 1, 1, 1, 1, 1, 1, 1, 1, 1, 1, 1, 1, 1, 1, 1, 1, 1, 1, 1, 1, 1, 1, 1, 1, 1, 1, 1, 1, 1, 1, 1, 1, 1, 1, 1, 1, 1, 1, 1, 1, 1, 1, 1, 1, 1, 1, 1, 1, 1, 1, 1, 1, 1, 1, 1, 1, 1, 1, 1, 1, 1, 1, 1, 1, 1, 1, 1, 1, 1, 1, 1, 1, 1, 1, 1, 1, 1, 1, 1, 1, 1, 1, 1, 1, 1, 1, 1, 1, 1, 1, 1, 1, 1, 1, 1, 1, 1, 1, 1, 1, 1, 1, 1, 1, 1, 1, 1, 1, 1, 1, 1, 1, 1, 1, 1, 1, 1, 1, 1, 1, 1, 1, 1, 1, 1, 1, 1, 1, 1, 1, 1, 1, 1, 1, 1, 1, 1, 1, 1, 1, 1, 1, 1, 1, 1, 1, 1, 1, 1, 1, 1, 1, 1, 1, 1, 1, 1, 1, 1, 1, 1, 1, 1, 1, 1, 1, 1, 1, 1, 1, 1, 1, 1, 1, 1, 1, 1, 1, 1, 1, 1, 1, 1, 1, 1, 1, 1, 1, 1, 1, 1, 1, 1, 1, 1, 1, 1, 1, 1, 1, 1, 1, 1, 1, 1, 1, 1, 1, 1, 1, 1, 1, 1, 1, 1, 1, 1, 1, 1, 1, 1, 1, 1, 1, 1, 1, 1, 1, 1, 1, 1, 1, 1, 1, 1, 1, 1, 1, 1, 1, 1, 1, 1, 1, 1, 1, 1, 1, 1, 1, 1, 1, 1, 1, 1, 1, 1, 1, 1, 1, 1, 1, 1, 1, 1, 1, 1, 1, 1, 1, 1, 1, 1, 1, 1, 1, 1, 1, 1, 1, 1, 1, 1, 1, 1, 1, 1, 1, 1, 1, 1, 1, 1, 1, 1, 1, 1, 1, 1, 1, 1, 1, 1, 1, 1, 1, 1, 1, 1, 1, 1, 1, 1, 1, 1, 1, 1, 1, 1, 1, 1, 1, 1, 1, 1, 1, 1, 1, 1, 1, 1, 1, 1, 1, 1, 1, 1, 1, 1, 1, 1, 1, 1, 1, 1, 1, 1, 1, 1, 1, 1, 1, 1, 1, 1, 1, 1, 1, 1, 1, 1, 1, 1, 1, 1, 1, 1, 1, 1, 1, 1, 1, 1, 1, 1, 1, 1, 1, 1, 1, 1, 1, 1, 1, 1, 1, 1, 1, 1, 1, 1, 1, 1, 1, 1, 1, 1, 1, 1, 1, 1, 1, 1, 1, 1, 1, 1, 1, 1, 1, 1, 1, 1, 1, 1, 1, 1, 1, 1, 1, 1, 1, 1, 1, 1, 1, 1, 1, 1, 1, 1, 1, 1, 1, 1, 1, 1, 1, 1, 1, 1, 1, 1, 1, 1, 1, 1, 1, 1, 1, 1, 1, 1, 1, 1, 1, 1, 1, 1, 1, 1, 1, 1, 1, 1, 1, 1, 1, 1, 1, 1, 1, 1, 1, 1, 1, 1, 1, 1, 1, 1, 1, 1, 1, 1, 1, 1, 1, 1, 1, 1, 1, 1, 1, 1, 1, 1, 1, 1, 1, 1, 1, 1, 1, 1, 1, 1, 1, 1, 1, 1, 1, 1, 1, 1, 1, 1, 1, 1, 1, 1, 1, 1, 1, 1, 1, 1, 1, 1, 1, 1, 1, 1, 1, 1, 1, 1, 1, 1, 1, 1, 1, 1, 1, 1, 1, 1, 1, 1, 1, 1, 1, 1, 1, 1, 1, 1, 1, 1, 1, 1, 1, 1, 1, 1, 1, 1, 1, 1, 1, 1, 1, 1, 1, 1, 1, 1, 1, 1, 1, 1, 1, 1, 1, 1, 1, 1, 1, 1, 1, 1, 1, 1, 1, 1, 1, 1, 1, 1, 1, 1, 1, 1, 1, 1, 1, 1, 1, 1, 1, 1, 1, 1, 1, 1, 1, 1, 1, 1, 1, 1, 1, 1, 1, 1, 1, 1, 1, 1, 1, 1, 1, 1, 1, 1, 1, 1, 1, 1, 1, 1, 1, 1, 1, 1, 1, 1, 1, 1, 1, 1, 1, 1, 1, 1, 1, 1, 1, 1, 1, 1, 1, 1, 1, 1, 1, 1, 1, 1, 1, 1, 1, 1, 1, 1, 1, 1, 1, 1, 1, 1, 1, 1, 1, 1, 1, 1, 1, 1, 1, 1, 1, 1, 1, 1, 1, 1, 1, 1, 1, 1, 1, 1, 1, 1, 1, 1, 1, 1, 1, 1, 1, 1, 1, 1, 1, 1, 1, 1, 1, 1, 1, 1, 1, 1, 1, 1, 1, 1, 1, 1, 1, 1, 1, 1, 1, 1, 1, 1, 1, 1, 1, 1, 1, 1, 1, 1, 1, 1, 1, 1, 1, 1, 1, 1, 1, 1, 1, 1, 1, 1, 1, 1, 1, 1, 1, 1, 1, 1, 1, 1, 1, 1, 1, 1, 1, 1, 1, 1, 1, 1, 1, 1, 1, 1, 1, 1, 1, 1, 1, 1, 1, 1, 1, 1, 1, 1, 1, 1, 1, 1, 1, 1, 1, 1, 1, 1, 1, 1, 1, 1, 1, 1, 1, 1, 1, 1, 1, 1, 1, 1, 1, 1, 1, 1, 1, 1, 1, 1, 1, 1, 1, 1, 1, 1, 1, 1, 1, 1, 1, 1, 1, 1, 1, 1, 1, 1, 1, 1, 1, 1, 1, 1, 1, 1, 1, 1, 1, 1, 1, 1, 1, 1, 1, 1, 1, 1, 1, 1, 1, 1, 1, 1, 1, 1, 1, 1, 1, 1, 1, 1, 1, 1, 1, 1, 1, 1, 1, 1, 1, 1, 1, 1, 1, 1, 1, 1, 1, 1, 1, 1, 1, 1, 1, 1, 1, 1, 1, 1, 1, 1, 1, 1, 1, 1, 1, 1, 1, 1, 1, 1, 1, 1, 1, 1, 1, 1, 1, 1, 1, 1, 1, 1, 1, 1, 1, 1, 1, 1, 1, 1, 1, 1, 1, 1, 1, 1, 1, 1, 1, 1, 1, 1, 1, 1, 1, 1, 1, 1, 1, 1, 1, 1, 1, 1, 1, 1, 1, 1, 1, 1, 1, 1, 1, 1, 1, 1, 1, 1, 1, 1, 1, 1, 1, 1, 1, 1, 1, 1, 1, 1, 1, 1, 1, 1, 1, 1, 1, 1, 1, 1, 1, 1, 1, 1, 1, 1, 1, 1, 1, 1, 1, 1, 1, 1, 1, 1, 1, 1, 1, 1, 1, 1, 1, 1, 1, 1, 1, 1, 1, 1, 1, 1, 1, 1, 1, 1, 1, 1, 1, 1, 1, 1, 1, 1, 1, 1, 1, 1, 1, 1, 1, 1, 1, 1, 1, 1, 1, 1, 1, 1, 1, 1, 1, 1, 1, 1, 1, 1, 1, 1, 1, 1, 1, 1, 1, 1, 1, 1, 1, 1, 1, 1, 1, 1, 1, 1, 1, 1, 1, 1, 1, 1, 1, 1, 1, 1, 1, 1, 1, 1, 1, 1, 1, 1, 1, 1, 1, 1, 1, 1, 1, 1, 1, 1, 1, 1, 1, 1, 1, 1, 1, 1, 1, 1, 1, 1, 1, 1, 1, 1, 1, 1, 1, 1, 1, 1, 1, 1, 1, 1, 1, 1, 1, 1, 1, 1, 1, 1, 1, 1, 1, 1, 1, 1, 1, 1, 1, 1, 1, 1, 1, 1, 1, 1, 1, 1, 1, 1, 1, 1, 1, 1, 1, 1, 1, 1, 1, 1, 1, 1, 1, 1, 1, 1, 1, 1, 1, 1, 1, 1, 1, 1, 1, 1, 1, 1, 1, 1, 1, 1, 1, 1, 1, 1, 1, 1, 1, 1, 1, 1, 1, 1, 1, 1, 1, 1, 1, 1, 1, 1, 1, 1, 1, 1, 1, 1, 1, 1, 1, 1, 1, 1, 1, 1, 1, 1, 1, 1, 1, 1, 1, 1, 1, 1, 1, 1, 1, 1, 1, 1, 1, 1, 1, 1, 1, 1, 1, 1, 1, 1, 1, 1, 1, 1, 1, 1, 1, 1, 1, 1, 1, 1, 1, 1, 1, 1, 1, 1, 1, 1, 1, 1, 1, 1, 1, 1, 1, 1, 1, 1, 1, 1, 1, 1, 1, 1, 1, 1, 1, 1, 1, 1, 1, 1, 1, 1, 1, 1, 1, 1, 1, 1, 1, 1, 1, 1, 1, 1, 1, 1, 1, 1, 1, 1, 1, 1, 1, 1, 1, 1, 1, 1, 1, 1, 1, 1, 1, 1, 1, 1, 1, 1, 1, 1, 1, 1, 1, 1, 1, 1, 1, 1, 1, 1, 1, 1, 1, 1, 1, 1, 1, 1, 1, 1, 1, 1, 1, 1, 1, 1, 1, 1, 1, 1, 1, 1, 1, 1, 1, 1, 1, 1, 1, 1, 1, 1, 1, 1, 1, 1, 1, 1, 1, 1, 1, 1, 1, 1, 1, 1, 1, 1, 1, 1, 1, 1, 1, 1, 1, 1, 1, 1, 1, 1, 1, 1, 1, 1, 1, 1, 1, 1, 1, 1, 1, 1, 1, 1, 1, 1, 1, 1, 1, 1, 1, 1, 1, 1, 1, 1, 1, 1, 1, 1, 1, 1, 1, 1, 1, 1, 1, 1, 1, 1, 1, 1, 1, 1, 1, 1, 1, 1, 1, 1, 1, 1, 1, 1, 1, 1, 1, 1, 1, 1, 1, 1, 1, 1, 1, 1, 1, 1, 1, 1, 1, 1, 1, 1, 1, 1, 1, 1, 1, 1, 1, 1, 1, 1, 1, 1, 1, 1, 1, 1, 1, 1, 1, 1, 1, 1, 1, 1, 1, 1, 1, 1, 1, 1, 1, 1, 1, 1, 1, 1, 1, 1, 1, 1, 1, 1, 1, 1, 1, 1, 1, 1, 1, 1, 1, 1, 1, 1, 1, 1, 1, 1, 1, 1, 1, 1, 1, 1, 1, 1, 1, 1, 1, 1, 1, 1, 1, 1, 1, 1, 1, 1, 1, 1, 1, 1, 1, 1, 1, 1, 1, 1, 1, 1, 1, 1, 1, 1, 1, 1, 1, 1, 1, 1, 1, 1, 1, 1, 1, 1, 1, 1, 1, 1, 1, 1, 1, 1, 1, 1, 1, 1, 1, 1, 1, 1, 1, 1, 1, 1, 1, 1, 1, 1, 1, 1, 1, 1, 1, 1, 1, 1, 1, 1, 1, 1, 1, 1, 1, 1, 1, 1, 1, 1, 1, 1, 1, 1, 1, 1, 1, 1, 1, 1, 1, 1, 1, 1, 1, 1, 1, 1, 1, 1, 1, 1, 1, 1, 1, 1, 1, 1, 1, 1, 1, 1, 1, 1, 1, 1, 1, 1, 1, 1, 1, 1, 1, 1, 1, 1, 1, 1, 1, 1, 1, 1, 1, 1, 1, 1, 1, 1, 1, 1, 1, 1, 1, 1, 1, 1, 1, 1, 1, 1, 1, 1, 1, 1, 1, 1, 1, 1, 1, 1, 1, 1, 1, 1, 1, 1, 1, 1, 1, 1, 1, 1, 1, 1, 1, 1, 1, 1, 1, 1, 1, 1, 1, 1, 1, 1, 1, 1, 1, 1, 1, 1, 1, 1, 1, 1, 1, 1, 1, 1, 1, 1, 1, 1, 1, 1, 1, 1, 1, 1, 1, 1, 1, 1, 1, 1, 1, 1, 1, 1, 1, 1, 1, 1, 1, 1, 1, 1, 1, 1, 1, 1, 1, 1, 1, 1, 1, 1, 1, 1, 1, 1, 1, 1, 1, 1, 1, 1, 1, 1, 1, 1, 1, 1, 1, 1, 1, 1, 1, 1, 1, 1, 1, 1, 1, 1, 1, 1, 1, 1, 1, 1, 1, 1, 1, 1, 1, 1, 1, 1, 1, 1, 1, 1, 1, 1, 1, 1, 1, 1, 1, 1, 1, 1, 1, 1, 1, 1, 1, 1, 1, 1, 1, 1, 1, 1, 1, 1, 1, 1, 1, 1, 1, 1, 1, 1, 1, 1, 1, 1, 1, 1, 1, 1, 1, 1, 1, 1, 1, 1, 1, 1, 1, 1, 1, 1, 1, 1, 1, 1, 1, 1, 1, 1, 1, 1, 1, 1, 1, 1, 1, 1, 1, 1, 1, 1, 1, 1, 1, 1, 1, 1, 1, 1, 1, 1, 1, 1, 1, 1, 1, 1, 1, 1, 1, 1, 1, 1, 1, 1, 1, 1, 1, 1, 1, 1, 1, 1, 1, 1, 1, 1, 1, 1, 1, 1, 1, 1, 1, 1, 1, 1, 1, 1, 1, 1, 1, 1, 1, 1, 1, 1, 1, 1, 1, 1, 1, 1, 1, 1, 1, 1, 1, 1, 1, 1, 1, 1, 1, 1, 1, 1, 1, 1, 1, 1, 1, 1, 1, 1, 1, 1, 1, 1, 1, 1, 1, 1, 1, 1, 1, 1, 1, 1, 1, 1, 1, 1, 1, 1, 1, 1, 1, 1, 1, 1, 1, 1, 1, 1, 1, 1, 1, 1, 1, 1, 1, 1, 1, 1, 1, 1, 1, 1, 1, 1, 1, 1, 1, 1, 1, 1, 1, 1, 1, 1, 1, 1, 1, 1, 1, 1, 1, 1, 1, 1, 1, 1, 1, 1, 1, 1, 1, 1, 1, 1, 1, 1, 1, 1, 1, 1, 1, 1, 1, 1, 1, 1, 1, 1, 1, 1, 1, 1, 1, 1, 1, 1, 1, 1, 1, 1, 1, 1, 1, 1, 1, 1, 1, 1, 1, 1, 1, 1, 1, 1, 1, 1, 1, 1, 1, 1, 1, 1, 1, 1, 1, 1, 1, 1, 1, 1, 1, 1, 1, 1, 1, 1, 1, 1, 1, 1, 1, 1, 1, 1, 1, 1, 1, 1, 1, 1, 1, 1, 1, 1, 1, 1, 1, 1, 1, 1, 1, 1, 1, 1, 1, 1, 1, 1, 1, 1, 1, 1, 1, 1, 1, 1, 1, 1, 1, 1, 1, 1, 1, 1, 1, 1, 1, 1, 1, 1, 1, 1, 1, 1, 1, 1, 1, 1, 1, 1, 1, 1, 1, 1, 1, 1, 1, 1, 1, 1, 1, 1, 1, 1, 1, 1, 1, 1, 1, 1, 1, 1, 1, 1, 1, 1, 1, 1, 1, 1, 1, 1, 1, 1, 1, 1, 1, 1, 1, 1, 1, 1, 1, 1, 1, 1, 1, 1, 1, 1, 1, 1, 1, 1, 1, 1, 1, 1, 1, 1, 1, 1, 1, 1, 1, 1, 1, 1, 1, 1, 1, 1, 1, 1, 1, 1, 1, 1, 1, 1, 1, 1, 1, 1, 1, 1, 1, 1, 1, 1, 1, 1, 1, 1, 1, 1, 1, 1, 1, 1, 1, 1, 1, 1, 1, 1, 1, 1, 1, 1, 1, 1, 1, 1, 1, 1, 1, 1, 1, 1, 1, 1, 1, 1, 1, 1, 1, 1, 1, 1, 1, 1, 1, 1, 1, 1, 1, 1, 1, 1, 1, 1, 1, 1, 1, 1, 1, 1, 1, 1, 1, 1, 1, 1, 1, 1, 1, 1, 1, 1, 1, 1, 1, 1, 1, 1, 1, 1, 1, 1, 1, 1, 1, 1, 1, 1, 1, 1, 1, 1, 1, 1, 1, 1, 1, 1, 1, 1, 1, 1, 1, 1, 1, 1, 1, 1, 1, 1, 1, 1, 1, 1, 1, 1, 1, 1, 1, 1, 1, 1, 1, 1, 1, 1, 1, 1, 1, 1, 1, 1, 1, 1, 1, 1, 1, 1, 1, 1, 1, 1, 1, 1, 1, 1, 1, 1, 1, 1, 1, 1, 1, 1, 1, 1, 1, 1, 1, 1, 1, 1, 1, 1, 1, 1, 1, 1, 1, 1, 1, 1, 1, 1, 1, 1, 1, 1, 1, 1, 1, 1, 1, 1, 1, 1, 1, 1, 1, 1, 1, 1, 1, 1, 1, 1, 1, 1, 1, 1, 1, 1, 1, 1, 1, 1, 1, 1, 1, 1, 1, 1, 1, 1, 1, 1, 1, 1, 1, 1, 1, 1, 1, 1, 1, 1, 1, 1, 1, 1, 1, 1, 1, 1, 1, 1, 1, 1, 1, 1, 1, 1, 1, 1, 1, 1, 1, 1, 1, 1, 1, 1, 1, 1, 1, 1, 1, 1, 1, 1, 1, 1, 1, 1, 1, 1, 1, 1, 1, 1, 1, 1, 1, 1, 1, 1, 1, 1, 1, 1, 1, 1, 1, 1, 1, 1, 1, 1, 1, 1, 1, 1, 1, 1, 1, 1, 1, 1, 1, 1, 1, 1, 1, 1, 1, 1, 1, 1, 1, 1, 1, 1, 1, 1, 1, 1, 1, 1, 1, 1, 1, 1, 1, 1, 1, 1, 1, 1, 1, 1, 1, 1, 1, 1, 1, 1, 1, 1, 1, 1, 1, 1, 1, 1, 1, 1, 1, 1, 1, 1, 1, 1, 1, 1, 1, 1, 1, 1, 1, 1, 1, 1, 1, 1, 1, 1, 1, 1, 1, 1, 1, 1, 1, 1, 1, 1, 1, 1, 1, 1, 1, 1, 1, 1, 1, 1, 1, 1, 1, 1, 1, 1, 1, 1, 1, 1, 1, 1, 1, 1, 1, 1, 1, 1, 1, 1, 1, 1, 1, 1, 1, 1, 1, 1, 1, 1, 1, 1, 1, 1, 1, 1, 1, 1, 1, 1, 1, 1, 1, 1, 1, 1, 1, 1, 1, 1, 1, 1, 1, 1, 1, 1, 1, 1, 1, 1, 1, 1, 1, 1, 1, 1, 1, 1, 1, 1, 1, 1, 1, 1, 1, 1, 1, 1, 1, 1, 1, 1, 1, 1, 1, 1, 1, 1, 1, 1, 1, 1, 1, 1, 1, 1, 1, 1, 1, 1, 1, 1, 1, 1, 1, 1, 1, 1, 1, 1, 1, 1, 1, 1, 1, 1, 1, 1, 1, 1, 1, 1, 1, 1, 1, 1, 1, 1, 1, 1, 1, 1, 1, 1, 1, 1, 1, 1, 1, 1, 1, 1, 1, 1, 1, 1, 1, 1, 1, 1, 1, 1, 1, 1, 1, 1, 1, 1, 1, 1, 1, 1, 1, 1, 1, 1, 1, 1, 1, 1, 1, 1, 1, 1, 1, 1, 1, 1, 1, 1, 1, 1, 1, 1, 1, 1, 1, 1, 1, 1, 1, 1, 1, 1, 1, 1, 1, 1, 1, 1, 1, 1, 1, 1, 1, 1, 1, 1, 1, 1, 1, 1, 1, 1, 1, 1, 1, 1, 1, 1, 1, 1, 1, 1, 1, 1, 1, 1, 1, 1, 1, 1, 1, 1, 1, 1, 1, 1, 1, 1, 1, 1, 1, 1, 1, 1, 1, 1, 1, 1, 1, 1, 1, 1, 1, 1, 1, 1, 1, 1, 1, 1, 1, 1, 1, 1, 1, 1, 1, 1, 1, 1, 1, 1, 1, 1, 1, 1, 1, 1, 1, 1, 1, 1, 1, 1, 1, 1, 1, 1, 1, 1, 1, 1, 1, 1, 1, 1, 1, 1, 1, 1, 1, 1, 1, 1, 1, 1, 1, 1, 1, 1, 1, 1, 1, 1, 1, 1, 1, 1, 1, 1, 1, 1, 1, 1, 1, 1, 1, 1, 1, 1, 1, 1, 1, 1, 1, 1, 1, 1, 1, 1, 1, 1, 1, 1, 1, 1, 1, 1, 1, 1, 1, 1, 1, 1, 1, 1, 1, 1, 1, 1, 1, 1, 1, 1, 1, 1, 1, 1, 1, 1, 1, 1, 1, 1, 1, 1, 1, 1, 1, 1, 1, 1, 1, 1, 1, 1, 1, 1, 1, 1, 1, 1, 1, 1, 1, 1, 1, 1, 1, 1, 1, 1, 1, 1, 1, 1, 1, 1, 1, 1, 1, 1, 1, 1, 1, 1, 1, 1, 1, 1, 1, 1, 1, 1, 1, 1, 1, 1, 1, 1, 1, 1, 1, 1, 1, 1, 1, 1, 1, 1, 1, 1, 1, 1, 1, 1, 1, 1, 1, 1, 1, 1, 1, 1, 1, 1, 1, 1, 1, 1, 1, 1, 1, 1, 1, 1, 1, 1, 1, 1, 1, 1, 1, 1, 1, 1, 1, 1, 1, 1, 1, 1, 1, 1, 1, 1, 1, 1, 1, 1, 1, 1, 1, 1, 1, 1, 1, 1, 1, 1, 1, 1, 1, 1, 1, 1, 1, 1, 1, 1, 1, 1, 1, 1, 1, 1, 1, 1, 1, 1, 1, 1, 1, 1, 1, 1, 1, 1, 1, 1, 1, 1, 1, 1, 1, 1, 1, 1, 1, 1, 1, 1, 1, 1, 1, 1, 1, 1, 1, 1, 1, 1, 1, 1, 1, 1, 1, 1, 1, 1, 1, 1, 1, 1, 1, 1, 1, 1, 1, 1, 1, 1, 1, 1, 1, 1, 1, 1, 1, 1, 1, 1, 1, 1, 1, 1, 1, 1, 1, 1, 1, 1, 1, 1, 1, 1, 1, 1, 1, 1, 1, 1, 1, 1, 1, 1, 1, 1, 1, 1, 1, 1, 1, 1, 1, 1, 1, 1, 1, 1, 1, 1, 1, 1, 1, 1, 1, 1, 1, 1, 1, 1, 1, 1, 1, 1, 1, 1, 1, 1, 1, 1, 1, 1, 1, 1, 1, 1, 1, 1, 1, 1, 1, 1, 1, 1, 1, 1, 1, 1, 1, 1, 1, 1, 1, 1, 1, 1, 1, 1, 1, 1, 1, 1, 1, 1, 1, 1, 1, 1, 1, 1, 1, 1, 1, 1, 1, 1, 1, 1, 1, 1, 1, 1, 1, 1, 1, 1, 1, 1, 1, 1, 1, 1, 1, 1, 1, 1, 1, 1, 1, 1, 1, 1, 1, 1, 1, 1, 1, 1, 1, 1, 1, 1, 1, 1, 1, 1, 1, 1, 1, 1, 1, 1, 1, 1, 1, 1, 1, 1, 1, 1, 1, 1, 1, 1, 1, 1, 1, 1, 1, 1, 1, 1, 1, 1, 1, 1, 1, 1, 1, 1, 1, 1, 1, 1, 1, 1, 1, 1, 1, 1, 1, 1, 1, 1, 1, 1, 1, 1, 1, 1, 1, 1, 1, 1, 1, 1, 1, 1, 1, 1, 1, 1, 1, 1, 1, 1, 1, 1, 1, 1, 1, 1, 1, 1, 1, 1, 1, 1, 1, 1, 1, 1, 1, 1, 1, 1, 1, 1, 1, 1, 1, 1, 1, 1, 1, 1, 1, 1, 1, 1, 1, 1, 1, 1, 1, 1, 1, 1, 1, 1, 1, 1, 1, 1, 1, 1, 1, 1, 1, 1, 1, 1, 1, 1, 1, 1, 1, 1, 1, 1, 1, 1, 1, 1, 1, 1, 1, 1, 1, 1, 1, 1, 1, 1, 1, 1, 1, 1, 1, 1, 1, 1, 1, 1, 1, 1, 1, 1, 1, 1, 1, 1, 1, 1, 1, 1, 1, 1, 1, 1, 1, 1, 1, 1, 1, 1, 1, 1, 1, 1, 1, 1, 1, 1, 1, 1, 1, 1, 1, 1, 1, 1, 1, 1, 1, 1, 1, 1, 1, 1, 1, 1, 1, 1, 1, 1, 1, 1, 1, 1, 1, 1, 1, 1, 1, 1, 1, 1, 1, 1, 1, 1, 1, 1, 1, 1, 1, 1, 1, 1, 1, 1, 1, 1, 1, 1, 1, 1, 1, 1, 1, 1, 1, 1, 1, 1, 1, 1, 1, 1, 1, 1, 1, 1, 1, 1, 1, 1, 1, 1, 1, 1, 1, 1, 1, 1, 1, 1, 1, 1, 1, 1, 1, 1, 1, 1, 1, 1, 1, 1, 1, 1, 1, 1, 1, 1, 1, 1, 1, 1, 1, 1, 1, 1, 1, 1, 1, 1, 1, 1, 1, 1, 1, 1, 1, 1, 1, 1, 1, 1, 1, 1, 1, 1, 1, 1, 1, 1, 1, 1, 1, 1, 1, 1, 1, 1, 1, 1, 1, 1, 1, 1, 1, 1, 1, 1, 1, 1, 1, 1, 1, 1, 1, 1, 1, 1, 1, 1, 1, 1, 1, 1, 1, 1, 1, 1, 1, 1, 1, 1, 1, 1, 1, 1, 1, 1, 1, 1, 1, 1, 1, 1, 1, 1, 1, 1, 1, 1, 1, 1, 1, 1, 1, 1, 1, 1, 1, 1, 1, 1, 1, 1, 1, 1, 1, 1, 1, 1, 1, 1, 1, 1, 1, 1, 1, 1, 1, 1, 1, 1, 1, 1, 1, 1, 1, 1, 1, 1, 1, 1, 1, 1, 1, 1, 1, 1, 1, 1, 1, 1, 1, 1, 1, 1, 1, 1, 1, 1, 1, 1, 1, 1, 1, 1, 1, 1, 1, 1, 1, 1, 1, 1, 1, 1, 1, 1, 1, 1, 1, 1, 1, 1, 1, 1, 1, 1, 1, 1, 1, 1, 1, 1, 1, 1, 1, 1, 1, 1, 1, 1, 1, 1, 1, 1, 1, 1, 1, 1, 1, 1, 1, 1, 1, 1, 1, 1, 1, 1, 1, 1, 1, 1, 1, 1, 1, 1, 1, 1, 1, 1, 1, 1, 1, 1, 1, 1, 1, 1, 1, 1, 1, 1, 1, 1, 1, 1, 1, 1, 1, 1, 1, 1, 1, 1, 1, 1, 1, 1, 1, 1, 1, 1, 1, 1, 1, 1, 1, 1, 1, 1, 1, 1, 1, 1, 1, 1, 1, 1, 1, 1, 1, 1, 1, 1, 1, 1, 1, 1, 1, 1, 1, 1, 1, 1, 1, 1, 1, 1, 1, 1, 1, 1, 1, 1, 1, 1, 1, 1, 1, 1, 1, 1, 1, 1, 1, 1, 1, 1, 1, 1, 1, 1, 1, 1, 1, 1, 1, 1, 1, 1, 1, 1, 1, 1, 1, 1, 1, 1, 1, 1, 1, 1, 1, 1, 1, 1, 1, 1, 1, 1, 1, 1, 1, 1, 1, 1, 1, 1, 1, 1, 1, 1, 1, 1, 1, 1, 1, 1, 1, 1, 1, 1, 1, 1, 1, 1, 1, 1, 1, 1, 1, 1, 1, 1, 1, 1, 1, 1, 1, 1, 1, 1, 1, 1, 1, 1, 1, 1, 1, 1, 1, 1, 1, 1, 1, 1, 1, 1, 1, 1, 1, 1, 1, 1, 1, 1, 1, 1, 1, 1, 1, 1, 1, 1, 1, 1, 1, 1, 1, 1, 1, 1, 1, 1, 1, 1, 1, 1, 1, 1, 1, 1, 1, 1, 1, 1, 1, 1, 1, 1, 1, 1, 1, 1, 1, 1, 1, 1, 1, 1, 1, 1, 1, 1, 1, 1, 1, 1, 1, 1, 1, 1, 1, 1, 1, 1, 1, 1, 1, 1, 1, 1, 1, 1, 1, 1, 1, 1, 1, 1, 1, 1, 1, 1, 1, 1, 1, 1, 1, 1, 1, 1, 1, 1, 1, 1, 1, 1, 1, 1, 1, 1, 1, 1, 1, 1, 1, 1, 1, 1, 1, 1, 1, 1, 1, 1, 1, 1, 1, 1, 1, 1, 1, 1, 1, 1, 1, 1, 1, 1, 1, 1, 1, 1, 1, 1, 1, 1, 1, 1, 1, 1, 1, 1, 1, 1, 1, 1, 1, 1, 1, 1, 1, 1, 1, 1, 1, 1, 1, 1, 1, 1, 1, 1, 1, 1, 1, 1, 1, 1, 1, 1, 1, 1, 1, 1, 1, 1, 1, 1, 1, 1, 1, 1, 1, 1, 1, 1, 1, 1, 1, 1, 1, 1, 1, 1, 1, 1, 1, 1, 1, 1, 1, 1, 1, 1, 1, 1, 1, 1, 1, 1, 1, 1, 1, 1, 1, 1, 1, 1, 1, 1, 1, 1, 1, 1, 1, 1, 1, 1, 1, 1, 1, 1, 1, 1, 1, 1, 1, 1, 1, 1, 1, 1, 1, 1, 1, 1, 1, 1, 1, 1, 1, 1, 1, 1, 1, 1, 1, 1, 1, 1, 1, 1, 1, 1, 1, 1, 1, 1, 1, 1, 1, 1, 1, 1, 1, 1, 1, 1, 1, 1, 1, 1, 1, 1, 1, 1, 1, 1, 1, 1, 1, 1, 1, 1, 1, 1, 1, 1, 1, 1, 1, 1, 1, 1, 1, 1, 1, 1, 1, 1, 1, 1, 1, 1, 1, 1, 1, 1, 1, 1, 1, 1, 1, 1, 1, 1, 1, 1, 1, 1, 1, 1, 1, 1, 1, 1, 1, 1, 1, 1, 1, 1, 1, 1, 1, 1, 1, 1, 1, 1, 1, 1, 1, 1, 1, 1, 1, 1, 1, 1, 1, 1, 1, 1, 1, 1, 1, 1, 1, 1, 1, 1, 1, 1, 1, 1, 1, 1, 1, 1, 1, 1, 1, 1, 1, 1, 1, 1, 1, 1, 1, 1, 1, 1, 1, 1, 1, 1, 1, 1, 1, 1, 1, 1, 1, 1, 1, 1, 1, 1, 1, 1, 1, 1, 1, 1, 1, 1, 1, 1, 1, 1, 1, 1, 1, 1, 1, 1, 1, 1, 1, 1, 1, 1, 1, 1, 1, 1, 1, 1, 1, 1, 1, 1, 1, 1, 1, 1, 1, 1, 1, 1, 1, 1, 1, 1, 1, 1, 1, 1, 1, 1, 1, 1, 1, 1, 1, 1, 1, 1, 1, 1, 1, 1, 1, 1, 1, 1, 1, 1, 1, 1, 1, 1, 1, 1, 1, 1, 1, 1, 1, 1, 1, 1, 1, 1, 1, 1, 1, 1, 1, 1, 1, 1, 1, 1, 1, 1, 1, 1, 1, 1, 1, 1, 1, 1, 1, 1, 1, 1, 1, 1, 1, 1, 1, 1, 1, 1, 1, 1, 1, 1, 1, 1, 1, 1, 1, 1, 1, 1, 1, 1, 1, 1, 1, 1, 1, 1, 1, 1, 1, 1, 1, 1, 1, 1, 1, 1, 1, 1, 1, 1, 1, 1, 1, 1, 1, 1, 1, 1, 1, 1, 1, 1, 1, 1, 1, 1, 1, 1, 1, 1, 1, 1, 1, 1, 1, 1, 1, 1, 1, 1, 1, 1, 1, 1, 1, 1, 1, 1, 1, 1, 1, 1, 1, 1, 1, 1, 1, 1, 1, 1, 1, 1, 1, 1, 1, 1, 1, 1, 1, 1, 1, 1, 1, 1, 1, 1, 1, 1, 1, 1, 1, 1, 1, 1, 1, 1, 1, 1, 1, 1, 1, 1, 1, 1, 1, 1, 1, 1, 1, 1, 1, 1, 1, 1, 1, 1, 1, 1, 1, 1, 1, 1, 1, 1, 1, 1, 1, 1, 1, 1, 1, 1, 1, 1, 1, 1, 1, 1, 1, 1, 1, 1, 1, 1, 1, 1, 1, 1, 1, 1, 1, 1, 1, 1, 1, 1, 1, 1, 1, 1, 1, 1, 1, 1, 1, 1, 1, 1, 1, 1, 1, 1, 1, 1, 1, 1, 1, 1, 1, 1, 1, 1, 1, 1, 1, 1, 1, 1, 1, 1, 1, 1, 1, 1, 1, 1, 1, 1, 1, 1, 1, 1, 1, 1, 1, 1, 1, 1, 1, 1, 1, 1, 1, 1, 1, 1, 1, 1, 1, 1, 1, 1, 1, 1, 1, 1, 1, 1, 1, 1, 1, 1, 1, 1, 1, 1, 1, 1, 1, 1, 1, 1, 1, 1, 1, 1, 1, 1, 1, 1, 1, 1, 1, 1, 1, 1, 1, 1, 1, 1, 1, 1, 1, 1, 1, 1, 1, 1, 1, 1, 1, 1, 1, 1, 1, 1, 1, 1, 1, 1, 1, 1, 1, 1, 1, 1, 1, 1, 1, 1, 1, 1, 1, 1, 1, 1, 1, 1, 1, 1, 1, 1, 1, 1, 1, 1, 1, 1, 1, 1, 1, 1, 1, 1, 1, 1, 1, 1, 1, 1, 1, 1, 1, 1, 1, 1, 1, 1, 1, 1, 1, 1, 1, 1, 1, 1, 1, 1, 1, 1, 1, 1, 1, 1, 1, 1, 1, 1, 1, 1, 1, 1, 1, 1, 1, 1, 1, 1, 1, 1, 1, 1, 1, 1, 1, 1, 1, 1, 1, 1, 1, 1, 1, 1, 1, 1, 1, 1, 1, 1, 1, 1, 1, 1, 1, 1, 1, 1, 1, 1, 1, 1, 1, 1, 1, 1, 1, 1, 1, 1, 1, 1, 1, 1, 1, 1, 1, 1, 1, 1, 1, 1, 1, 1, 1, 1, 1, 1, 1, 1, 1, 1, 1, 1, 1, 1, 1, 1, 1, 1, 1, 1, 1, 1, 1, 1, 1, 1, 1, 1, 1, 1, 1, 1, 1, 1, 1, 1, 1, 1, 1, 1, 1, 1, 1, 1, 1, 1, 1, 1, 1, 1, 1, 1, 1, 1, 1, 1, 1, 1, 1, 1, 1, 1, 1, 1, 1, 1, 1, 1, 1, 1, 1, 1, 1, 1, 1, 1, 1, 1, 1, 1, 1, 1, 1, 1, 1, 1, 1, 1, 1, 1, 1, 1, 1, 1, 1, 1, 1, 1, 1, 1, 1, 1, 1, 1, 1, 1, 1, 1, 1, 1, 1, 1, 1, 1, 1, 1, 1, 1, 1, 1, 1, 1, 1, 1, 1, 1, 1, 1, 1, 1, 1, 1, 1, 1, 1, 1, 1, 1, 1, 1, 1, 1, 1, 1, 1, 1, 1, 1, 1, 1, 1, 1, 1, 1, 1, 1, 1, 1, 1, 1, 1, 1, 1, 1, 1, 1, 1, 1, 1, 1, 1, 1, 1, 1, 1, 1, 1, 1, 1, 1, 1, 1, 1, 1, 1, 1, 1, 1, 1, 1, 1, 1, 1, 1, 1, 1, 1, 1, 1, 1, 1, 1, 1, 1, 1, 1, 1, 1, 1, 1, 1, 1, 1, 1, 1, 1, 1, 1, 1, 1, 1, 1, 1, 1, 1, 1, 1, 1, 1, 1, 1, 1, 1, 1, 1, 1, 1, 1, 1, 1, 1, 1, 1, 1, 1, 1, 1, 1, 1, 1, 1, 1, 1, 1, 1, 1, 1, 1, 1, 1, 1, 1, 1, 1, 1, 1, 1, 1, 1, 1, 1, 1, 1, 1, 1, 1, 1, 1, 1, 1, 1, 1, 1, 1, 1, 1, 1, 1, 1, 1, 1, 1, 1, 1, 1, 1, 1, 1, 1, 1, 1, 1, 1, 1, 1, 1, 1, 1, 1, 1, 1, 1, 1, 1, 1, 1, 1, 1, 1, 1, 1, 1, 1, 1, 1, 1, 1, 1, 1, 1, 1, 1, 1, 1, 1, 1, 1, 1, 1, 1, 1, 1, 1, 1, 1, 1, 1, 1, 1, 1, 1, 1, 1, 1, 1, 1, 1, 1, 1, 1, 1, 1, 1, 1, 1, 1, 1, 1, 1, 1, 1, 1, 1, 1, 1, 1, 1, 1, 1, 1, 1, 1, 1, 1, 1, 1, 1, 1, 1, 1, 1, 1, 1, 1, 1, 1, 1, 1, 1, 1, 1, 1, 1, 1, 1, 1, 1, 1, 1, 1, 1, 1, 1, 1, 1, 1, 1, 1, 1, 1, 1, 1, 1, 1, 1, 1, 1, 1, 1, 1, 1, 1, 1, 1, 1, 1, 1, 1, 1, 1, 1, 1, 1, 1, 1, 1, 1, 1, 1, 1, 1, 1, 1, 1, 1, 1, 1, 1, 1, 1, 1, 1, 1, 1, 1, 1, 1, 1, 1, 1, 1, 1, 1, 1, 1, 1, 1, 1, 1, 1, 1, 1, 1, 1, 1, 1, 1, 1, 1, 1, 1, 1, 1, 1, 1, 1, 1, 1, 1, 1, 1, 1, 1, 1, 1, 1, 1, 1, 1, 1, 1, 1, 1, 1, 1, 1, 1, 1, 1, 1, 1, 1, 1, 1, 1, 1, 1, 1, 1, 1, 1, 1, 1, 1, 1, 1, 1, 1, 1, 1, 1, 1, 1, 1, 1, 1, 1, 1, 1, 1, 1, 1, 1, 1, 1, 1, 1, 1, 1, 1, 1, 1, 1, 1, 1, 1, 1, 1, 1, 1, 1, 1, 1, 1, 1, 1, 1, 1, 1, 1, 1, 1, 1, 1, 1, 1, 1, 1, 1, 1, 1, 1, 1, 1, 1, 1, 1, 1, 1, 1, 1, 1, 1, 1, 1, 1, 1, 1, 1, 1, 1, 1, 1, 1, 1, 1, 1, 1, 1, 1, 1, 1, 1, 1, 1, 1, 1, 1, 1, 1, 1, 1, 1, 1, 1, 1, 1, 1, 1, 1, 1, 1, 1, 1, 1, 1, 1, 1, 1, 1, 1, 1, 1, 1, 1, 1, 1, 1, 1, 1, 1, 1, 1, 1, 1, 1, 1, 1, 1, 1, 1, 1, 1, 1, 1, 1, 1, 1, 1, 1, 1, 1, 1, 1, 1, 1, 1, 1, 1, 1, 1, 1, 1, 1, 1, 1, 1, 1, 1, 1, 1, 1, 1, 1, 1, 1, 1, 1, 1, 1, 1, 1, 1, 1, 1, 1, 1, 1, 1, 1, 1, 1, 1, 1, 1, 1, 1, 1, 1, 1, 1, 1, 1, 1, 1, 1, 1, 1, 1, 1, 1, 1, 1, 1, 1, 1, 1, 1, 1, 1, 1, 1, 1, 1, 1, 1, 1, 1, 1, 1, 1, 1, 1, 1, 1, 1, 1, 1, 1, 1, 1, 1, 1, 1, 1, 1, 1, 1, 1, 1, 1, 1, 1, 1, 1, 1, 1, 1, 1, 1, 1, 1, 1, 1, 1, 1, 1, 1, 1, 1, 1, 1, 1, 1, 1, 1, 1, 1, 1, 1, 1, 1, 1, 1, 1, 1, 1, 1, 1, 1, 1, 1, 1, 1, 1, 1, 1, 1, 1, 1, 1, 1, 1, 1, 1, 1, 1, 1, 1, 1, 1, 1, 1, 1, 1, 1, 1, 1, 1, 1, 1, 1, 1, 1, 1, 1, 1, 1, 1, 1, 1, 1, 1, 1, 1, 1, 1, 1, 1, 1, 1, 1, 1, 1, 1, 1, 1, 1, 1, 1, 1, 1, 1, 1, 1, 1, 1, 1, 1, 1, 1, 1, 1, 1, 1, 1, 1, 1, 1, 1, 1, 1, 1, 1, 1, 1, 1, 1, 1, 1, 1, 1, 1, 1, 1, 1, 1, 1, 1, 1, 1, 1, 1, 1, 1, 1, 1, 1, 1, 1, 1, 1, 1, 1, 1, 1, 1, 1, 1, 1, 1, 1, 1, 1, 1, 1, 1, 1, 1, 1, 1, 1, 1, 1, 1, 1, 1, 1, 1, 1, 1, 1, 1, 1, 1, 1, 1, 1, 1, 1, 1, 1, 1, 1, 1, 1, 1, 1, 1, 1, 1, 1, 1, 1, 1, 1, 1, 1, 1, 1, 1, 1, 1, 1, 1, 1, 1, 1, 1, 1, 1, 1, 1, 1, 1, 1, 1, 1, 1, 1, 1, 1, 1, 1, 2, 1, 1, 1, 1, 1, 1, 1, 1, 1, 1, 1, 1, 1, 1, 1, 1, 1, 1, 1, 1, 1, 1, 1, 1, 1, 1, 1, 1, 1, 1, 1, 1, 1, 1, 1, 1, 1, 1, 1, 1, 1, 1, 1, 1, 1, 1, 1, 1, 1, 1, 1, 1, 1, 1, 1, 1, 1, 1, 1, 1, 1, 1, 1, 1, 1, 1, 1, 1, 1, 1, 1, 1, 1, 1, 1, 1, 1, 1, 1, 1, 1, 1, 1, 1, 1, 1, 1, 1, 1, 1, 1, 1, 1, 1, 1, 1, 1, 1, 1, 1, 1, 1, 1, 1, 1, 1, 1, 1, 1, 1, 1, 1, 1, 1, 1, 1, 1, 1, 1, 1, 1, 1, 1, 1, 1, 1, 1, 1, 1, 1, 1, 1, 1, 1, 1, 1, 1, 1, 1, 1, 1, 1, 1, 1, 1, 1, 1, 1, 1, 1, 1, 1, 1, 1, 1, 1, 1, 1, 1, 1, 1, 1, 1, 1, 1, 1, 1, 1, 1, 1, 1, 1, 1, 1, 1, 1, 1, 1, 1, 1, 1, 1, 1, 1, 1, 1, 1, 1, 1, 1, 1, 1, 1, 1, 1, 1, 1, 1, 1, 1, 1, 1, 1, 1, 1, 1, 1, 1, 1, 1, 1, 1, 1, 1, 1, 1, 1, 1, 1, 1, 1, 1, 1, 1, 1, 1, 1, 1, 1, 1, 1, 1, 1, 1, 1, 1, 1, 1, 1, 1, 1, 1, 1, 1, 1, 1, 1, 1, 1, 1, 1, 1, 1, 1, 1, 1, 1, 1, 1, 1, 1, 1, 1, 1, 1, 1, 1, 1, 1, 1, 1, 1, 1, 1, 1, 1, 1, 1, 1, 1, 1, 1, 1, 1, 1, 1, 1, 1, 1, 1, 1, 1, 1, 1, 1, 1, 1, 1, 1, 1, 1, 1, 1, 1, 1, 1, 1, 1, 1, 1, 1, 1, 1, 1, 1, 1, 1, 1, 1, 1, 1, 1, 1, 1, 1, 1, 1, 1, 1, 1, 1, 1, 1, 1, 1, 1, 1, 1, 1, 1, 1, 1, 1, 1, 1, 1, 1, 1, 1, 1, 1, 1, 1, 1, 1, 1, 1, 1, 1, 1, 1, 1, 1, 1, 1, 1, 1, 1, 1, 1, 1, 1, 1, 1, 1, 1, 1, 1, 1, 1, 1, 1, 1, 1, 1, 1, 1, 1, 1, 1, 1, 1, 1, 1, 1, 1, 1, 1, 1, 1, 1, 1, 1, 1, 1, 1, 1, 1, 1, 1, 1, 1, 1, 1, 1, 1, 1, 1, 1, 1, 1, 1, 1, 1, 1, 1, 1, 1, 1, 1, 1, 1, 1, 1, 1, 1, 1, 1, 1, 1, 1, 1, 1, 1, 1, 1, 1, 1, 1, 1, 1, 1, 1, 1, 1, 1, 1, 1, 1, 1, 1, 1, 1, 1, 1, 1, 1, 1, 1, 1, 1, 1, 1, 1, 1, 1, 1, 1, 1, 1, 1, 1, 1, 1, 1, 1, 1, 1, 1, 1, 1, 1, 1, 1, 1, 1, 1, 1, 1, 1, 1, 1, 1, 1, 1, 1, 1, 1, 1, 1, 1, 1, 1, 1, 1, 1, 1, 1, 1, 1, 1, 1, 1, 1, 1, 1, 1, 1, 1, 1, 1, 1, 1, 1, 1, 1, 1, 1, 1, 1, 1, 1, 1, 1, 1, 1, 1, 1, 1, 1, 1, 1, 1, 1, 1, 1, 1, 1, 1, 1, 1, 1, 1, 1, 1, 1, 1, 1, 1, 1, 1, 1, 1, 1, 1, 1, 1, 1, 1, 1, 1, 1, 1, 1, 1, 1, 1, 1, 1, 1, 1, 1, 1, 1, 1, 1, 1, 1, 1, 1, 1, 1, 1, 1, 1, 1, 1, 1, 1, 1, 1, 1, 1, 1, 1, 1, 1, 1, 1, 1, 1, 1, 1, 1, 1, 1, 1, 1, 1, 1, 1, 1, 1, 1, 1, 1, 1, 1, 1, 1, 1, 1, 1, 1, 1, 1, 1, 1, 1, 1, 1, 1, 1, 1, 1, 1, 1, 1, 1, 1, 1, 1, 1, 1, 1, 1, 1, 1, 1, 1, 1, 1, 1, 1, 1, 1, 1, 1, 1, 1, 1, 1, 1, 1, 1, 1, 1, 1, 1, 1, 1, 1, 1, 1, 1, 1, 1, 1, 1, 1, 1, 1, 1, 1, 1, 1, 1, 1, 1, 1, 1, 1, 1, 1, 1, 1, 1, 1, 1, 1, 1, 1, 1, 1, 1, 1, 1, 1, 1, 1, 1, 1, 1, 1, 1, 1, 1, 1, 1, 1, 1, 1, 1, 1, 1, 1, 1, 1, 1, 1, 1, 1, 1, 1, 1, 1, 1, 1, 1, 1, 1, 1, 1, 1, 1, 1, 1, 1, 1, 1, 1, 1, 1, 1, 1, 1, 1, 1, 1, 1, 1, 1, 1, 1, 1, 1, 1, 1, 1, 1, 1, 1, 1, 1, 1, 1, 1, 1, 1, 1, 1, 1, 1, 1, 1, 1, 1, 1, 1, 1, 1, 1, 1, 1, 1, 1, 1, 1, 1, 1, 1, 1, 1, 1, 1, 1, 1, 1, 1, 1, 1, 1, 1, 1, 1, 1, 1, 1, 1, 1, 1, 1, 1, 1, 1, 1, 1, 1, 1, 1, 1, 1, 1, 1, 1, 1, 1, 1, 1, 1, 1, 1, 1, 1, 1, 1, 1, 1, 1, 1, 1, 1, 1, 1, 1, 1, 1, 1, 1, 1, 1, 1, 1, 1, 1, 1, 1, 1, 1, 1, 1, 1, 1, 1, 1, 1, 1, 1, 1, 1, 1, 1, 1, 1, 1, 1, 1, 1, 1, 1, 1, 1, 1, 1, 1, 1, 1, 1, 1, 1, 1, 1, 1, 1, 1, 1, 1, 1, 1, 1, 1, 1, 1, 1, 1, 1, 1, 1, 1, 1, 1, 1, 1, 1, 1, 1, 1, 1, 1, 1, 1, 1, 1, 1, 1, 1, 1, 1, 1, 1, 1, 1, 1, 1, 1, 1, 1, 1, 1, 1, 1, 1, 1, 1, 1, 1, 1, 1, 1, 1, 1, 1, 1, 1, 1, 1, 1, 1, 1, 1, 1, 1, 1, 1, 1, 1, 1, 1, 1, 1, 1, 1, 1, 1, 1, 1, 1, 1, 1, 1, 1, 1, 1, 1, 1, 1, 1, 1, 1, 1, 1, 1, 1, 1, 1, 1, 1, 1, 1, 1, 1, 1, 1, 1, 1, 1, 1, 1, 1, 1, 1, 1, 1, 1, 1, 1, 1, 1, 1, 1, 1, 1, 1, 1, 1, 1, 1, 1, 1, 1, 1, 1, 1, 1, 1, 1, 1, 1, 1, 1, 1, 1, 1, 1, 1, 1, 1, 1, 1, 1, 1, 1, 1, 1, 1, 1, 1, 1, 1, 1, 1, 1, 1, 1, 1, 1, 1, 1, 1, 1, 1, 1, 1, 1, 1, 1, 1, 1, 1, 1, 1, 1, 1, 1, 1, 1, 1, 1, 1, 1, 1, 1, 1, 1, 1, 1, 1, 1, 1, 1, 1, 1, 1, 1, 1, 1, 1, 1, 1, 1, 1, 1, 1, 1, 1, 1, 1, 1, 1, 1, 1, 1, 1, 1, 1, 1, 1, 1, 1, 1, 1, 1, 1, 1, 1, 1, 1, 1, 1, 1, 1, 1, 1, 1, 1, 1, 1, 1, 1, 1, 1, 1, 1, 1, 1, 1, 1, 1, 1, 1, 1, 1, 1, 1, 1, 1, 1, 1, 1, 1, 1, 1, 1, 1, 1, 1, 1, 1, 1, 1, 1, 1, 1, 1, 1, 1, 1, 1, 1, 1, 1, 1, 1, 1, 1, 1, 1, 1, 1, 1, 1, 1, 1, 1, 1, 1, 1, 1, 1, 1, 1, 1, 1, 1, 1, 1, 1, 1, 1, 1, 1, 1, 1, 1, 1, 1, 1, 1, 1, 1, 1, 1, 1, 1, 1, 1, 1, 1, 1, 1, 1, 1, 1, 1, 1, 1, 1, 1, 1, 1, 1, 1, 1, 1, 1, 1, 1, 1, 1, 1, 1, 1, 1, 1, 1, 1, 1, 1, 1, 1, 1, 1, 1, 1, 1, 1, 1, 1, 1, 1, 1, 1, 1, 1, 1, 1, 1, 1, 1, 1, 1, 1, 1, 1, 1, 1, 1, 1, 1, 1, 1, 1, 1, 1, 1, 1, 1, 1, 1, 1, 1, 1, 1, 1, 1, 1, 1, 1, 1, 1, 1, 1, 1, 1, 1, 1, 1, 1, 1, 1, 1, 1, 1, 1, 1, 1, 1, 1, 1, 1, 1, 1, 1, 1, 1, 1, 1, 1, 1, 1, 1, 1, 1, 1, 1, 1, 1, 1, 1, 1, 1, 1, 1, 1, 1, 1, 1, 1, 1, 1, 1, 1, 1, 1, 1, 1, 1, 1, 1, 1, 1, 1, 1, 1, 1, 1, 1, 1, 1, 1, 1, 1, 1, 1, 1, 1, 1, 1, 1, 1, 1, 1, 1, 1, 1, 1, 1, 1, 1, 1, 1, 1, 1, 1, 1, 1, 1, 1, 1, 1, 1, 1, 1, 1, 1, 1, 1, 1, 1, 1, 1, 1, 1, 1, 1, 1, 1, 1, 1, 1, 1, 1, 1, 1, 1, 1, 1, 1, 1, 1, 1, 1, 1, 1, 1, 1, 1, 1, 1, 1, 1, 1, 1, 1, 1, 1, 1, 1, 1, 1, 1, 1, 1, 1, 1, 1, 1, 1, 1, 1, 1, 1, 1, 1, 1, 1, 1, 1, 1, 1, 1, 1, 1, 1, 1, 1, 1, 1, 1, 1, 1, 1, 1, 1, 1, 1, 1, 1, 1, 1, 1, 1, 1, 1, 1, 1, 1, 1, 1, 1, 1, 1, 1, 1, 1, 1, 1, 1, 1, 1, 1, 1, 1, 1, 1, 1, 1, 1, 1, 1, 1, 1, 1, 1, 1, 1, 1, 1, 1, 1, 1, 1, 1, 1, 1, 1, 1, 1, 1, 1, 1, 1, 1, 1, 1, 1, 1, 1, 1, 1, 1, 1, 1, 1, 1, 1, 1, 1, 1, 1, 1, 1, 1, 1, 1, 1, 1, 1, 1, 1, 1, 1, 1, 1, 1, 1, 1, 1, 1, 1, 1, 1, 1, 1, 1, 1, 1, 1, 1, 1, 1, 1, 1, 1, 1, 1, 1, 1, 1, 1, 1, 1, 1, 1, 1, 1, 1, 1, 1, 1, 1, 1, 1, 1, 1, 1, 1, 1, 1, 1, 1, 1, 1, 1, 1, 1, 1, 1, 1, 1, 1, 1, 1, 1, 1, 1, 1, 1, 1, 1, 1, 1, 1, 1, 1, 1, 1, 1, 1, 1, 1, 1, 1, 1, 1, 1, 1, 1, 1, 1, 1, 1, 1, 1, 1, 1, 1, 1, 1, 1, 1, 1, 1, 1, 1, 1, 1, 1, 1, 1, 1, 1, 1, 1, 1, 1, 1, 1, 1, 1, 1, 1, 1, 1, 1, 1, 1, 1, 1, 1, 1, 1, 1, 1, 1, 1, 1, 1, 1, 1, 1, 1, 1, 1, 1, 1, 1, 1, 1, 1, 1, 1, 1, 1, 1, 1, 1, 1, 1, 1, 1, 1, 1, 1, 1, 1, 1, 1, 1, 1, 1, 1, 1, 1, 1, 1, 1, 1, 1, 1, 1, 1, 1, 1, 1, 1, 1, 1, 1, 1, 1, 1, 1, 1, 1, 1, 1, 1, 1, 1, 1, 1, 1, 1, 1, 1, 1, 1, 1, 1, 1, 1, 1, 1, 1, 1, 1, 1, 1, 1, 1, 1, 1, 1, 1, 1, 1, 1, 1, 1, 1, 1, 1, 1, 1, 1, 1, 1, 1, 1, 1, 1, 1, 1, 1, 1, 1, 1, 1, 1, 1, 1, 1, 1, 1, 1, 1, 1, 1, 1, 1, 1, 1, 1, 1, 1, 1, 1, 1, 1, 1, 1, 1, 1, 1, 1, 1, 1, 1, 1, 1, 1, 1, 1, 1, 1, 1, 1, 1, 1, 1, 1, 1, 1, 1, 1, 1, 1, 1, 1, 1, 1, 1, 1, 1, 1, 1, 1, 1, 1, 1, 1, 1, 1, 1, 1, 1, 1, 1, 1, 1, 1, 1, 1, 1, 1, 1, 1, 1, 1, 1, 1, 1, 1, 1, 1, 1, 1, 1, 1, 1, 1, 1, 1, 1, 1, 1, 1, 1, 1, 1, 1, 1, 1, 1, 1, 1, 1, 1, 1, 1, 1, 1, 1, 1, 1, 1, 1, 1, 1, 1, 1, 1, 1, 1, 1, 1, 1, 1, 1, 1, 1, 1, 1, 1, 1, 1, 1, 1, 1, 1, 1, 1, 1, 1, 1, 1, 1, 1, 1, 1, 1, 1, 1, 1, 1, 1, 1, 1, 1, 1, 1, 1, 1, 1, 1, 1, 1, 1, 1, 1, 1, 1, 1, 1, 1, 1, 1, 1, 1, 1, 1, 1, 1, 1, 1, 1, 1, 1, 1, 1, 1, 1, 1, 1, 1, 1, 1, 1, 1, 1, 1, 1, 1, 1, 1, 1, 1, 1, 1, 1, 1, 1, 1, 1, 1, 1, 1, 1, 1, 1, 1, 1, 1, 1, 1, 1, 1, 1, 1, 1, 1, 1, 1, 1, 1, 1, 1, 1, 1, 1, 1, 1, 1, 1, 1, 1, 1, 1, 1, 1, 1, 1, 1, 1, 1, 1, 1, 1, 1, 1, 1, 1, 1, 1, 1, 1, 1, 1, 1, 1, 1, 1, 1, 1, 1, 1, 1, 1, 1, 1, 1, 1, 1, 1, 1, 1, 1, 1, 1, 1, 1, 1, 1, 1, 1, 1, 1, 1, 1, 1, 1, 1, 1, 1, 1, 1, 1, 1, 1, 1, 1, 1, 1, 1, 1, 1, 1, 1, 1, 1, 1, 1, 1, 1, 1, 1, 1, 1, 1, 1, 1, 1, 1, 1, 1, 1, 1, 1, 1, 1, 1, 1, 1, 1, 1, 1, 1, 1, 1, 1, 1, 1, 1, 1, 1, 1, 1, 1, 1, 1, 1, 1, 1, 1, 1, 1, 1, 1, 1, 1, 1, 1, 1, 1, 1, 1, 1, 1, 1, 1, 1, 1, 1, 1, 1, 1, 1, 1, 1, 1, 1, 1, 1, 1, 1, 1, 1, 1, 1, 1, 1, 1, 1, 1, 1, 1, 1, 1, 1, 1, 1, 1, 1, 1, 1, 1, 1, 1, 1, 1, 1, 1, 1, 1, 1, 1, 1, 1, 1, 1, 1, 1, 1, 1, 1, 1, 1, 1, 1, 1, 1, 1, 1, 1, 1, 1, 1, 1, 1, 1, 1, 1, 1, 1, 1, 1, 1, 1, 1, 1, 1, 1, 1, 1, 1, 1, 1, 1, 1, 1, 1, 1, 1, 1, 1, 1, 1, 1, 1, 1, 1, 1, 1, 1, 1, 1, 1, 1, 1, 1, 1, 1, 1, 1, 1, 1, 1, 1, 1, 1, 1, 1, 1, 1, 1, 1, 1, 1, 1, 1, 1, 1, 1, 1, 1, 1, 1, 1, 1, 1, 1, 1, 1, 1, 1, 1, 1, 1, 1, 1, 1, 1, 1, 1, 1, 1, 1, 1, 1, 1, 1, 1, 1, 1, 1, 1, 1, 1, 1, 1, 1, 1, 1, 1, 1, 1, 1, 1, 1, 1, 1, 1, 1, 1, 1, 1, 1, 1, 1, 1, 1, 1, 1, 1, 1, 1, 1, 1, 1, 1, 1, 1, 1, 1, 1, 1, 1, 1, 1, 1, 1, 1, 1, 1, 1, 1, 1, 1, 1, 1, 1, 1, 1, 1, 1, 1, 1, 1, 1, 1, 1, 1, 1, 1, 1, 1, 1, 1, 1, 1, 1, 1, 1, 1, 1, 1, 1, 1, 1, 1, 1, 1, 1, 1, 1, 1, 1, 1, 1, 1, 1, 1, 1, 1, 1, 1, 1, 1, 1, 1, 1, 1, 1, 1, 1, 1, 1, 1, 1, 1, 1, 1, 1, 1, 1, 1, 1, 1, 1, 1, 1, 1, 1, 1, 1, 1, 1, 1, 1, 1, 1, 1, 1, 1, 1, 1, 1, 1, 1, 1, 1, 1, 1, 1, 1, 1, 1, 1, 1, 1, 1, 1, 1, 1, 1, 1, 1, 1, 1, 1, 1, 1, 1, 1, 1, 1, 1, 1, 1, 1, 1, 1, 1, 1, 1, 1, 1, 1, 1, 1, 1, 1, 1, 1, 1, 1, 1, 1, 1, 1, 1, 1, 1, 1, 1, 1, 1, 1, 1, 1, 1, 1, 1, 1, 1, 1, 1, 1, 1, 1, 1, 1, 1, 1, 1, 1, 1, 1, 1, 1, 1, 1, 1, 1, 1, 1, 1, 1, 1, 1, 1, 1, 1, 1, 1, 1, 1, 1, 1, 1, 1, 1, 1, 1, 1, 1, 1, 1, 1, 1, 1, 1, 1, 1, 1, 1, 1, 1, 1, 1, 1, 1, 1, 1, 1, 1, 1, 1, 1, 1, 1, 1, 1, 1, 1, 1, 1, 1, 1, 1, 1, 1, 1, 1, 1, 1, 1, 1, 1, 1, 1, 1, 1, 1, 1, 1, 1, 1, 1, 1, 1, 1, 1, 1, 1, 1, 1, 1, 1, 1, 1, 1, 1, 1, 1, 1, 1, 1, 1, 1, 1, 1, 1, 1, 1, 1, 1, 1, 1, 1, 1, 1, 1, 1, 1, 1, 1, 1, 1, 1, 1, 1, 1, 1, 1, 1, 1, 1, 1, 1, 1, 1, 1, 1, 1, 1, 1, 1, 1, 1, 1, 1, 1, 1, 1, 1, 1, 1, 1, 1, 1, 1, 1, 1, 1, 1, 1, 1, 1, 1, 1, 1, 1, 1, 1, 1, 1, 1, 1, 1, 1, 1, 1, 1, 1, 1, 1, 1, 1, 1, 1, 1, 1, 1, 1, 1, 1, 1, 1, 1, 1, 1, 1, 1, 1, 1, 1, 1, 1, 1, 1, 1, 1, 1, 1, 1, 1, 1, 1, 1, 1, 1, 1, 1, 1, 1, 1, 1, 1, 1, 1, 1, 1, 1, 1, 1, 1, 1, 1, 1, 1, 1, 1, 1, 1, 1, 1, 1, 1, 1, 1, 1, 1, 1, 1, 1, 1, 1, 1, 1, 1, 1, 1, 1, 1, 1, 1, 1, 1, 1, 1, 1, 1, 1, 1, 1, 1, 1, 1, 1, 1, 1, 1, 1, 1, 1, 1, 1, 1, 1, 1, 1, 1, 1, 1, 1, 1, 1, 1, 1, 1, 1, 1, 1, 1, 1, 1, 1, 1, 1, 1, 1, 1, 1, 1, 1, 1, 1, 1, 1, 1, 1, 1, 1, 1, 1, 1, 1, 1, 1, 1, 1, 1, 1, 1, 1, 1, 1, 1, 1, 1, 1, 1, 1, 1, 1, 1, 1, 1, 1, 1, 1, 1, 1, 1, 1, 1, 1, 1, 1, 1, 1, 1, 1, 1, 1, 1, 1, 1, 1, 1, 1, 1, 1, 1, 1, 1, 1, 1, 1, 1, 1, 1, 1, 1, 1, 1, 1, 1, 1, 1, 1, 1, 1, 1, 1, 1, 1, 1, 1, 1, 1, 1, 1, 1, 1, 1, 1, 1, 1, 1, 1, 1, 1, 1, 1, 1, 1, 1, 1, 1, 1, 1, 1, 1, 1, 1, 1, 1, 1, 1, 1, 1, 1, 1, 1, 1, 1, 1, 1, 1, 1, 1, 1, 1, 1, 1, 1, 1, 1, 1, 1, 1, 1, 1, 1, 1, 1, 1, 1, 1, 1, 1, 1, 1, 1, 1, 1, 1, 1, 1, 1, 1, 1, 1, 1, 1, 1, 1, 1, 1, 1, 1, 1, 1, 1, 1, 1, 1, 1, 1, 1, 1, 1, 1, 1, 1, 1, 1, 1, 1, 1, 1, 1, 1, 1, 1, 1, 1, 1, 1, 1, 1, 1, 1, 1, 1, 1, 1, 1, 1, 1, 1, 1, 1, 1, 1, 1, 1, 1, 1, 1, 1, 1, 1, 1, 1, 1, 1, 1, 1, 1, 1, 1, 1, 1, 1, 1, 1, 1, 1, 1, 1, 1, 1, 1, 1, 1, 1, 1, 1, 1, 1, 1, 1, 1, 1, 1, 1, 1, 1, 1, 1, 1, 1, 1, 1, 1, 1, 1, 1, 1, 1, 1, 1, 1, 1, 1, 1, 1, 1, 1, 1, 1, 1, 1, 1, 1, 1, 1, 1, 1, 1, 1, 1, 1, 1, 1, 1, 1, 1, 1, 1, 1, 1, 1, 1, 1, 1, 1, 1, 1, 1, 1, 1, 1, 1, 1, 1, 1, 1, 1, 1, 1, 1, 1, 1, 1, 1, 1, 1, 1, 1, 1, 1, 1, 1, 1, 1, 1, 1, 1, 1, 1, 1, 1, 1, 1, 1, 1, 1, 1, 1, 1, 1, 1, 1, 1, 1, 1, 1, 1, 1, 1, 1, 1, 1, 1, 1, 1, 1, 1, 1, 1, 1, 1, 1, 1, 1, 1, 1, 1, 1, 1, 1, 1, 1, 1, 1, 1, 1, 1, 1, 1, 1, 1, 1, 1, 1, 1, 1, 1, 1, 1, 1, 1, 1, 1, 1, 1, 1, 1, 1, 1, 1, 1, 1, 1, 1, 1, 1, 1, 1, 1, 1, 1, 1, 1, 1, 1, 1, 1, 1, 1, 1, 1, 1, 1, 1, 1, 1, 1, 1, 1, 1, 1, 1, 1, 1, 1, 1, 1, 1, 1, 1, 1, 1, 1, 1, 1, 1, 1, 1, 1, 1, 1, 1, 1, 1, 1, 1, 1, 1, 1, 1, 1, 1, 1, 1, 1, 1, 1, 1, 1, 1, 1, 1, 1, 1, 1, 1, 1, 1, 1, 1, 1, 1, 1, 1, 1, 1, 1, 1, 1, 1, 1, 1, 1, 1, 1, 1, 1, 1, 1, 1, 1, 1, 1, 1, 1, 1, 1, 1, 1, 1, 1, 1, 1, 1, 1, 1, 1, 1, 1, 1, 1, 1, 1, 1, 1, 1, 1, 1, 1, 1, 1, 1, 1, 1, 1, 1, 1, 1, 1, 1, 1, 1, 1, 1, 1, 1, 1, 1, 1, 1, 1, 1, 1, 1, 1, 1, 1, 1, 1, 1, 1, 1, 1, 1, 1, 1, 1, 1, 1, 1, 1, 1, 1, 1, 1, 1, 1, 1, 1, 1, 1, 1, 1, 1, 1, 1, 1, 1, 1, 1, 1, 1, 1, 1, 1, 1, 1, 1, 1, 1, 1, 1, 1, 1, 1, 1, 1, 1, 1, 1, 1, 1, 1, 1, 1, 1, 1, 1, 1, 1, 1, 1, 1, 1, 1, 1, 1, 1, 1, 1, 1, 1, 1, 1, 1, 1, 1, 1, 1, 1, 1, 1, 1, 1, 1, 1, 1, 1, 1, 1, 1, 1, 1, 1, 1, 1, 1, 1, 1, 1, 1, 1, 1, 1, 1, 1, 1, 1, 1, 1, 1, 1, 1, 1, 1, 1, 1, 1, 1, 1, 1, 1, 1, 1, 1, 1, 1, 1, 1, 1, 1, 1, 1, 1, 1, 1, 1, 1, 1, 1, 1, 1, 1, 1, 1, 1, 1, 1, 1, 1, 1, 1, 1, 1, 1, 1, 1, 1, 1, 1, 1, 1, 1, 1, 1, 1, 1, 1, 1, 1, 1, 1, 1, 1, 1, 1, 1, 1, 1, 1, 1, 1, 1, 1, 1, 1, 1, 1, 1, 1, 1, 1, 1, 1, 1, 1, 1, 1, 1, 1, 1, 1, 1, 1, 1, 1, 1, 1, 1, 1, 1, 1, 1, 1, 1, 1, 1, 1, 1, 1, 1, 1, 1, 1, 1, 1, 1, 1, 1, 1, 1, 1, 1, 1, 1, 1, 1, 1, 1, 1, 1, 1, 1, 1, 1, 1, 1, 1, 1, 1, 1, 1, 1, 1, 1, 1, 1, 1, 1, 1, 1, 1, 1, 1, 1, 1, 1, 1, 1, 1, 1, 1, 1, 1, 1, 1, 1, 1, 1, 1, 1, 1, 1, 1, 1, 1, 1, 1, 1, 1, 1, 1, 1, 1, 1, 1, 1, 1, 1, 1, 1, 1, 1, 1, 1, 1, 1, 1, 1, 1, 1, 1, 1, 1, 1, 1, 1, 1, 1, 1, 1, 1, 1, 1, 1, 1, 1, 1, 1, 1, 1, 1, 1, 1, 1, 1, 1, 1, 1, 1, 1, 1, 1, 1, 1, 1, 1, 1, 1, 1, 1, 1, 1, 1, 1, 1, 1, 1, 1, 1, 1, 1, 1, 1, 1, 1, 1, 1, 1, 1, 1, 1, 1, 1, 1, 1, 1, 1, 1, 1, 1, 1, 1, 1, 1, 1, 1, 1, 1, 1, 1, 1, 1, 1, 1, 1, 1, 1, 1, 1, 1, 1, 1, 1, 1, 1, 1, 1, 1, 1, 1, 1, 1, 1, 1, 1, 1, 1, 1, 1, 1, 1, 1, 1, 1, 1, 1, 1, 1, 1, 1, 1, 1, 1, 1, 1, 1, 1, 1, 1, 1, 1, 1, 1, 1, 1, 1, 1, 1, 1, 1, 1, 1, 1, 1, 1, 1, 1, 1, 1, 1, 1, 1, 1, 1, 1, 1, 1, 1, 1, 1, 1, 1, 1, 1, 1, 1, 1, 1, 1, 1, 1, 1, 1, 1, 1, 1, 1, 1, 1, 1, 1, 1, 1, 1, 1, 1, 1, 1, 1, 1, 1, 1, 1, 1, 1, 1, 1, 1, 1, 1, 1, 1, 1, 1, 1, 1, 1, 1, 1, 1, 1, 1, 1, 1, 1, 1, 1, 1, 1, 1, 1, 1, 1, 1, 1, 1, 1, 1, 1, 1, 1, 1, 1, 1, 1, 1, 1, 1, 1, 1, 1, 1, 1, 1, 1, 1, 1, 1, 1, 1, 1, 1, 1, 1, 1, 1, 1, 1, 1, 1, 1, 1, 1, 1, 1, 1, 1, 1, 1, 1, 1, 1, 1, 1, 1, 1, 1, 1, 1, 1, 1, 1, 1, 1, 1, 1, 1, 1, 1, 1, 1, 1, 1, 1, 1, 1, 1, 1, 1, 1, 1, 1, 1, 1, 1, 1, 1, 1, 1, 1, 1, 1, 1, 1, 1, 1, 1, 1, 1, 1, 1, 1, 1, 1, 1, 1, 1, 1, 1, 1, 1, 1, 1, 1, 1, 1, 1, 1, 1, 1, 1, 1, 1, 1, 1, 1, 1, 1, 1, 1, 1, 1, 1, 1, 1, 1, 1, 1, 1, 1, 1, 1, 1, 1, 1, 1, 1, 1, 1, 1, 1, 1, 1, 1, 1, 1, 1, 1, 1, 1, 1, 1, 1, 1, 1, 1, 1, 1, 1, 1, 1, 1, 1, 1, 1, 1, 1, 1, 1, 1, 1, 1, 1, 1, 1, 1, 1, 1, 1, 1, 1, 1, 1, 1, 1, 1, 1, 1, 1, 1, 1, 1, 1, 1, 1, 1, 1, 1, 1, 1, 1, 1, 1, 1, 1, 1, 1, 1, 1, 1, 1, 1, 1, 1, 1, 1, 1, 1, 1, 1, 1, 1, 1, 1, 1, 1, 1, 1, 1, 1, 1, 1, 1, 1, 1, 1, 1, 1, 1, 1, 1, 1, 1, 1, 1, 1, 1, 1, 1, 1, 1, 1, 1, 1, 1, 1, 1, 1, 1, 1, 1, 1, 1, 1, 1, 1, 1, 1, 1, 1, 1, 1, 1, 1, 1, 1, 1, 1, 1, 1, 1, 1, 1, 1, 1, 1, 1, 1, 1, 1, 1, 1, 1, 1, 1, 1, 1, 1, 1, 1, 1, 1, 1, 1, 1, 1, 1, 1, 1, 1, 1, 1, 1, 1, 1, 1, 1, 1, 1, 1, 1, 1, 1, 1, 1, 1, 1, 1, 1, 1, 1, 1, 1, 1, 1, 1, 1, 1, 1, 1, 1, 1, 1, 1, 1, 1, 1, 1, 1, 1, 1, 1, 1, 1, 1, 1, 1, 1, 1, 1, 1, 1, 1, 1, 1, 1, 1, 1, 1, 1, 1, 1, 1, 1, 1, 1, 1, 1, 1, 1, 1, 1, 1, 1, 1, 1, 1, 1, 1, 1, 1, 1, 1, 1, 1, 1, 1, 1, 1, 1, 1, 1, 1, 1, 1, 1, 1, 1, 1, 1, 1, 1, 1, 1, 1, 1, 1, 1, 1, 1, 1, 1, 1, 1, 1, 1, 1, 1, 1, 1, 1, 1, 1, 1, 1, 1, 1, 1, 1, 1, 1, 1, 1, 1, 1, 1, 1, 1, 1, 1, 1, 1, 1, 1, 1, 1, 1, 1, 1, 1, 1, 1, 1, 1, 1, 1, 1, 1, 1, 1, 1, 1, 1, 1, 1, 1, 1, 1, 1, 1, 1, 1, 1, 1, 1, 1, 1, 1, 1, 1, 1, 1, 1, 1, 1, 1, 1, 1, 1, 1, 1, 1, 1, 1, 1, 1, 1, 1, 1, 1, 1, 1, 1, 1, 1, 1, 1, 1, 1, 1, 1, 1, 1, 1, 1, 1, 1, 1, 1, 1, 1, 1, 1, 1, 1, 1, 1, 1, 1, 1, 1, 1, 1, 1, 1, 1, 1, 1, 1, 1, 1, 1, 1, 1, 1, 1, 1, 1, 1, 1, 1, 1, 1, 1, 1, 1, 1, 1, 1, 1, 1, 1, 1, 1, 1, 1, 1, 1, 1, 1, 1, 1, 1, 1, 1, 1, 1, 1, 1, 1, 1, 1, 1, 1, 1, 1, 1, 1, 1, 1, 1, 1, 1, 1, 1, 1, 1, 1, 1, 1, 1, 1, 1, 1, 1, 1, 1, 1, 1, 1, 1, 1, 1, 1, 1, 1, 1, 1, 1, 1, 1, 1, 1, 1, 1, 1, 1, 1, 1, 1, 1, 1, 1, 1, 1, 1, 1, 1, 1, 1, 1, 1, 1, 1, 1, 1, 1, 1, 1, 1, 1, 1, 1, 1, 1, 1, 1, 1, 1, 1, 1, 1, 1, 1, 1, 1, 1, 1, 1, 1, 1, 1, 1, 1, 1, 1, 1, 1, 1, 1, 1, 1, 1, 1, 1, 1, 1, 1, 1, 1, 1, 1, 1, 1, 1, 1, 1, 1, 1, 1, 1, 1, 1, 1, 1, 1, 1, 1, 1, 1, 1, 1, 1, 1, 1, 1, 1, 1, 1, 1, 1, 1, 1, 1, 1, 1, 1, 1, 1, 1, 1, 1, 1, 1, 1, 1, 1, 1, 1, 1, 1, 1, 1, 1, 1, 1, 1, 1, 1, 1, 1, 1, 1, 1, 1, 1, 1, 1, 1, 1, 1, 1, 1, 1, 1, 1, 1, 1, 1, 1, 1, 1, 1, 1, 1, 1, 1, 1, 1, 1, 1, 1, 1, 1, 1, 1, 1, 1, 1, 1, 1, 1, 1, 1, 1, 1, 1, 1, 1, 1, 1, 1, 1, 1, 1, 1, 1, 1, 1, 1, 1, 1, 1, 1, 1, 1, 1, 1, 1, 1, 1, 1, 1, 1, 1, 1, 1, 1, 1, 1, 1, 1, 1, 1, 1, 1, 1, 1, 1, 1, 1, 1, 1, 1, 1, 1, 1, 1, 1, 1, 1, 1, 1, 1, 1, 1, 1, 1, 1, 1, 1, 1, 1, 1, 1, 1, 1, 1, 1, 1, 1, 1, 1, 1, 1, 1, 1, 1, 1, 1, 1, 1, 1, 1, 1, 1, 1, 1, 1, 1, 1, 1, 1, 1, 1, 1, 1, 1, 1, 1, 1, 1, 1, 1, 1, 1, 1, 1, 1, 1, 1, 1, 1, 1, 1, 1, 1, 1, 1, 1, 1, 1, 1, 1, 1, 1, 1, 1, 1, 1, 1, 1, 1, 1, 1, 1, 1, 1, 1, 1, 1, 1, 1, 1, 1, 1, 1, 1, 1, 1, 1, 1, 1, 1, 1, 1, 1, 1, 1, 1, 1, 1, 1, 1, 1, 1, 1, 1, 1, 1, 1, 1, 1, 1, 1, 1, 1, 1, 1, 1, 1, 1, 1, 1, 1, 1, 1, 1, 1, 1, 1, 1, 1, 1, 1, 1, 1, 1, 1, 1, 1, 1, 1, 1, 1, 1, 1, 1, 1, 1, 1, 1, 1, 1, 1, 1, 1, 1, 1, 1, 1, 1, 1, 1, 1, 1, 1, 1, 1, 1, 1, 1, 1, 1, 1, 1, 1, 1, 1, 1, 1, 1, 1, 1, 1, 1, 1, 1, 1, 1, 1, 1, 1, 1, 1, 1, 1, 1, 1, 1, 1, 1, 1, 1, 1, 1, 1, 1, 1, 1, 1, 1, 1, 1, 1, 1, 1, 1, 1, 1, 1, 1, 1, 1, 1, 1, 1, 1, 1, 1, 1, 1, 1, 1, 1, 1, 1, 1, 1, 1, 1, 1, 1, 1, 1, 1, 1, 1, 1, 1, 1, 1, 1, 1, 1, 1, 1, 1, 1, 1, 1, 1, 1, 1, 1, 1, 1, 1, 1, 1, 1, 1, 1, 1, 1, 1, 1, 1, 1, 1, 1, 1, 1, 1, 1, 1, 1, 1, 1, 1, 1, 1, 1, 1, 1, 1, 1, 1, 1, 1, 1, 1, 1, 1, 1, 1, 1, 1, 1, 1, 1, 1, 1, 1, 1, 1, 1, 1, 1, 1, 1, 1, 1, 1, 1, 1, 1, 1, 1, 1, 1, 1, 1, 1, 1, 1, 1, 1, 1, 1, 1, 1, 1, 1, 1, 1, 1, 1, 1, 1, 1, 1, 1, 1, 1, 1, 1, 1, 1, 1, 1, 1, 1, 1, 1, 1, 1, 1, 1, 1, 1, 1, 1, 1, 1, 1, 1, 1, 1, 1, 1, 1, 1, 1, 1, 1, 1, 1, 1, 1, 1, 1, 1, 1, 1, 1, 1, 1, 1, 1, 1, 1, 1, 1, 1, 1, 1, 1, 1, 1, 1, 1, 1, 1, 1, 1, 1, 1, 1, 1, 1, 1, 1, 1, 1, 1, 1, 1, 1, 1, 1, 1, 1, 1, 1, 1, 1, 1, 1, 1, 1, 1, 1, 1, 1, 1, 1, 1, 1, 1, 1, 1, 1, 1, 1, 1, 1, 1, 1, 1, 1, 1, 1, 1, 1, 1, 1, 1, 1, 1, 1, 1, 1, 1, 1, 1, 1, 1, 1, 1, 1, 1, 1, 1, 1, 1, 1, 1, 1, 1, 1, 1, 1, 1, 1, 1, 1, 1, 1, 1, 1, 1, 1, 1, 1, 1, 1, 1, 1, 1, 1, 1, 1, 1, 1, 1, 1, 1, 1, 1, 1, 1, 1, 1, 1, 1, 1, 1, 1, 1, 1, 1, 1, 1, 1, 1, 1, 1, 1, 1, 1, 1, 1, 1, 1, 1, 1, 1, 1, 1, 1, 1, 1, 1, 1, 1, 1, 1, 1, 1, 1, 1, 1, 1, 1, 1, 1, 1, 1, 1, 1, 1, 1, 1, 1, 1, 1, 1, 1, 1, 1, 1, 1, 1, 1, 1, 1, 1, 1, 1, 1, 1, 1, 1, 1, 1, 1, 1, 1, 1, 1, 1, 1, 1, 1, 1, 1, 1, 1, 1, 1, 1, 1, 1, 1, 1, 1, 1, 1, 1, 1, 1, 1, 1, 1, 1, 1, 1, 1, 1, 1, 1, 1, 1, 1, 1, 1, 1, 1, 1, 1, 1, 1, 1, 1, 1, 1, 1, 1, 1, 1, 1, 1, 1, 1, 1, 1, 1, 1, 1, 1, 1, 1, 1, 1, 1, 1, 1, 1, 1, 1, 1, 1, 1, 1, 1, 1, 1, 1, 1, 1, 1, 1, 1, 1, 1, 1, 1, 1, 1, 1, 1, 1, 1, 1, 1, 1, 1, 1, 1, 1, 1, 1, 1, 1, 1, 1, 1, 1, 1, 1, 1, 1, 1, 1, 1, 1, 1, 1, 1, 1, 1, 1, 1, 1, 1, 1, 1, 1, 1, 1, 1, 1, 1, 1, 1, 1, 1, 1, 1, 1, 1, 1, 1, 1, 1, 1, 1, 1, 1, 1, 1, 1, 1, 1, 1, 1, 1, 1, 1, 1, 1, 1, 1, 1, 1, 1, 1, 1, 1, 1, 1, 1])"
      ]
     },
     "execution_count": 179,
     "metadata": {},
     "output_type": "execute_result"
    }
   ],
   "source": [
    "dict.values()"
   ]
  },
  {
   "cell_type": "code",
   "execution_count": 180,
   "metadata": {},
   "outputs": [
    {
     "data": {
      "text/plain": [
       "0       NaN\n",
       "2       NaN\n",
       "4       NaN\n",
       "5       NaN\n",
       "6       NaN\n",
       "         ..\n",
       "16863   NaN\n",
       "16864   NaN\n",
       "16865   NaN\n",
       "16866   NaN\n",
       "16867   NaN\n",
       "Name: AGE_CHG, Length: 14585, dtype: float64"
      ]
     },
     "execution_count": 180,
     "metadata": {},
     "output_type": "execute_result"
    }
   ],
   "source": [
    "df['AGE_CHG']"
   ]
  },
  {
   "cell_type": "code",
   "execution_count": 33,
   "metadata": {},
   "outputs": [
    {
     "data": {
      "text/html": [
       "<div>\n",
       "<style scoped>\n",
       "    .dataframe tbody tr th:only-of-type {\n",
       "        vertical-align: middle;\n",
       "    }\n",
       "\n",
       "    .dataframe tbody tr th {\n",
       "        vertical-align: top;\n",
       "    }\n",
       "\n",
       "    .dataframe thead th {\n",
       "        text-align: right;\n",
       "    }\n",
       "</style>\n",
       "<table border=\"1\" class=\"dataframe\">\n",
       "  <thead>\n",
       "    <tr style=\"text-align: right;\">\n",
       "      <th></th>\n",
       "      <th>0</th>\n",
       "      <th>1</th>\n",
       "      <th>2</th>\n",
       "      <th>3</th>\n",
       "      <th>4</th>\n",
       "      <th>5</th>\n",
       "      <th>6</th>\n",
       "      <th>7</th>\n",
       "      <th>8</th>\n",
       "      <th>9</th>\n",
       "      <th>...</th>\n",
       "      <th>21</th>\n",
       "      <th>22</th>\n",
       "      <th>23</th>\n",
       "      <th>24</th>\n",
       "      <th>25</th>\n",
       "      <th>26</th>\n",
       "      <th>27</th>\n",
       "      <th>28</th>\n",
       "      <th>29</th>\n",
       "      <th>ERNYR_P</th>\n",
       "    </tr>\n",
       "  </thead>\n",
       "  <tbody>\n",
       "    <tr>\n",
       "      <th>0</th>\n",
       "      <td>1.000000</td>\n",
       "      <td>0.041388</td>\n",
       "      <td>0.133851</td>\n",
       "      <td>-0.017487</td>\n",
       "      <td>-0.014966</td>\n",
       "      <td>-0.035246</td>\n",
       "      <td>-0.010445</td>\n",
       "      <td>0.039838</td>\n",
       "      <td>0.017032</td>\n",
       "      <td>0.040222</td>\n",
       "      <td>...</td>\n",
       "      <td>0.068740</td>\n",
       "      <td>-0.009177</td>\n",
       "      <td>0.015678</td>\n",
       "      <td>0.162962</td>\n",
       "      <td>0.068938</td>\n",
       "      <td>0.014285</td>\n",
       "      <td>0.026908</td>\n",
       "      <td>0.003770</td>\n",
       "      <td>-0.000587</td>\n",
       "      <td>0.435411</td>\n",
       "    </tr>\n",
       "    <tr>\n",
       "      <th>1</th>\n",
       "      <td>0.041388</td>\n",
       "      <td>1.000000</td>\n",
       "      <td>0.018735</td>\n",
       "      <td>-0.016131</td>\n",
       "      <td>-0.017559</td>\n",
       "      <td>-0.011517</td>\n",
       "      <td>-0.018780</td>\n",
       "      <td>-0.011409</td>\n",
       "      <td>-0.010864</td>\n",
       "      <td>0.011611</td>\n",
       "      <td>...</td>\n",
       "      <td>-0.103292</td>\n",
       "      <td>0.017363</td>\n",
       "      <td>-0.022459</td>\n",
       "      <td>-0.275118</td>\n",
       "      <td>-0.053326</td>\n",
       "      <td>-0.027977</td>\n",
       "      <td>-0.042073</td>\n",
       "      <td>-0.007038</td>\n",
       "      <td>0.005325</td>\n",
       "      <td>-0.370548</td>\n",
       "    </tr>\n",
       "    <tr>\n",
       "      <th>2</th>\n",
       "      <td>0.133851</td>\n",
       "      <td>0.018735</td>\n",
       "      <td>1.000000</td>\n",
       "      <td>-0.100259</td>\n",
       "      <td>-0.145032</td>\n",
       "      <td>-0.182755</td>\n",
       "      <td>-0.054377</td>\n",
       "      <td>0.058130</td>\n",
       "      <td>0.022016</td>\n",
       "      <td>0.002518</td>\n",
       "      <td>...</td>\n",
       "      <td>0.015858</td>\n",
       "      <td>-0.010271</td>\n",
       "      <td>-0.010832</td>\n",
       "      <td>-0.020405</td>\n",
       "      <td>0.045692</td>\n",
       "      <td>-0.000541</td>\n",
       "      <td>0.005314</td>\n",
       "      <td>-0.007600</td>\n",
       "      <td>-0.005418</td>\n",
       "      <td>-0.095234</td>\n",
       "    </tr>\n",
       "    <tr>\n",
       "      <th>3</th>\n",
       "      <td>-0.017487</td>\n",
       "      <td>-0.016131</td>\n",
       "      <td>-0.100259</td>\n",
       "      <td>1.000000</td>\n",
       "      <td>0.031813</td>\n",
       "      <td>0.023068</td>\n",
       "      <td>-0.024001</td>\n",
       "      <td>0.000331</td>\n",
       "      <td>0.000527</td>\n",
       "      <td>-0.003877</td>\n",
       "      <td>...</td>\n",
       "      <td>0.003823</td>\n",
       "      <td>0.002183</td>\n",
       "      <td>-0.003117</td>\n",
       "      <td>0.025961</td>\n",
       "      <td>-0.022520</td>\n",
       "      <td>-0.012269</td>\n",
       "      <td>0.019670</td>\n",
       "      <td>0.002075</td>\n",
       "      <td>-0.099302</td>\n",
       "      <td>0.142882</td>\n",
       "    </tr>\n",
       "    <tr>\n",
       "      <th>4</th>\n",
       "      <td>-0.014966</td>\n",
       "      <td>-0.017559</td>\n",
       "      <td>-0.145032</td>\n",
       "      <td>0.031813</td>\n",
       "      <td>1.000000</td>\n",
       "      <td>0.008459</td>\n",
       "      <td>-0.007442</td>\n",
       "      <td>0.001148</td>\n",
       "      <td>0.004803</td>\n",
       "      <td>0.011857</td>\n",
       "      <td>...</td>\n",
       "      <td>0.025331</td>\n",
       "      <td>-0.002685</td>\n",
       "      <td>0.055030</td>\n",
       "      <td>0.027481</td>\n",
       "      <td>-0.037792</td>\n",
       "      <td>0.016981</td>\n",
       "      <td>-0.010185</td>\n",
       "      <td>0.001905</td>\n",
       "      <td>0.072496</td>\n",
       "      <td>0.092712</td>\n",
       "    </tr>\n",
       "    <tr>\n",
       "      <th>5</th>\n",
       "      <td>-0.035246</td>\n",
       "      <td>-0.011517</td>\n",
       "      <td>-0.182755</td>\n",
       "      <td>0.023068</td>\n",
       "      <td>0.008459</td>\n",
       "      <td>1.000000</td>\n",
       "      <td>0.003264</td>\n",
       "      <td>0.002176</td>\n",
       "      <td>0.023745</td>\n",
       "      <td>0.032862</td>\n",
       "      <td>...</td>\n",
       "      <td>0.036159</td>\n",
       "      <td>-0.005316</td>\n",
       "      <td>-0.054392</td>\n",
       "      <td>0.117299</td>\n",
       "      <td>-0.015542</td>\n",
       "      <td>-0.022233</td>\n",
       "      <td>0.057103</td>\n",
       "      <td>0.007850</td>\n",
       "      <td>0.002870</td>\n",
       "      <td>0.211013</td>\n",
       "    </tr>\n",
       "    <tr>\n",
       "      <th>6</th>\n",
       "      <td>-0.010445</td>\n",
       "      <td>-0.018780</td>\n",
       "      <td>-0.054377</td>\n",
       "      <td>-0.024001</td>\n",
       "      <td>-0.007442</td>\n",
       "      <td>0.003264</td>\n",
       "      <td>1.000000</td>\n",
       "      <td>0.000797</td>\n",
       "      <td>-0.001707</td>\n",
       "      <td>0.039502</td>\n",
       "      <td>...</td>\n",
       "      <td>0.004221</td>\n",
       "      <td>-0.001153</td>\n",
       "      <td>0.016216</td>\n",
       "      <td>-0.034693</td>\n",
       "      <td>0.003320</td>\n",
       "      <td>0.000817</td>\n",
       "      <td>-0.029462</td>\n",
       "      <td>-0.005545</td>\n",
       "      <td>-0.012839</td>\n",
       "      <td>0.057093</td>\n",
       "    </tr>\n",
       "    <tr>\n",
       "      <th>7</th>\n",
       "      <td>0.039838</td>\n",
       "      <td>-0.011409</td>\n",
       "      <td>0.058130</td>\n",
       "      <td>0.000331</td>\n",
       "      <td>0.001148</td>\n",
       "      <td>0.002176</td>\n",
       "      <td>0.000797</td>\n",
       "      <td>1.000000</td>\n",
       "      <td>0.003966</td>\n",
       "      <td>0.037715</td>\n",
       "      <td>...</td>\n",
       "      <td>-0.034093</td>\n",
       "      <td>0.004145</td>\n",
       "      <td>-0.008328</td>\n",
       "      <td>-0.106475</td>\n",
       "      <td>0.009379</td>\n",
       "      <td>-0.003684</td>\n",
       "      <td>-0.020991</td>\n",
       "      <td>-0.004551</td>\n",
       "      <td>-0.010313</td>\n",
       "      <td>-0.085167</td>\n",
       "    </tr>\n",
       "    <tr>\n",
       "      <th>8</th>\n",
       "      <td>0.017032</td>\n",
       "      <td>-0.010864</td>\n",
       "      <td>0.022016</td>\n",
       "      <td>0.000527</td>\n",
       "      <td>0.004803</td>\n",
       "      <td>0.023745</td>\n",
       "      <td>-0.001707</td>\n",
       "      <td>0.003966</td>\n",
       "      <td>1.000000</td>\n",
       "      <td>-0.008062</td>\n",
       "      <td>...</td>\n",
       "      <td>-0.004644</td>\n",
       "      <td>-0.002025</td>\n",
       "      <td>0.004681</td>\n",
       "      <td>-0.074802</td>\n",
       "      <td>-0.001038</td>\n",
       "      <td>-0.006407</td>\n",
       "      <td>-0.150491</td>\n",
       "      <td>-0.022448</td>\n",
       "      <td>-0.022489</td>\n",
       "      <td>-0.024007</td>\n",
       "    </tr>\n",
       "    <tr>\n",
       "      <th>9</th>\n",
       "      <td>0.040222</td>\n",
       "      <td>0.011611</td>\n",
       "      <td>0.002518</td>\n",
       "      <td>-0.003877</td>\n",
       "      <td>0.011857</td>\n",
       "      <td>0.032862</td>\n",
       "      <td>0.039502</td>\n",
       "      <td>0.037715</td>\n",
       "      <td>-0.008062</td>\n",
       "      <td>1.000000</td>\n",
       "      <td>...</td>\n",
       "      <td>0.034980</td>\n",
       "      <td>-0.008055</td>\n",
       "      <td>0.006413</td>\n",
       "      <td>0.022794</td>\n",
       "      <td>-0.008286</td>\n",
       "      <td>-0.003303</td>\n",
       "      <td>-0.079999</td>\n",
       "      <td>-0.013594</td>\n",
       "      <td>-0.007894</td>\n",
       "      <td>-0.108909</td>\n",
       "    </tr>\n",
       "    <tr>\n",
       "      <th>10</th>\n",
       "      <td>0.017654</td>\n",
       "      <td>0.010290</td>\n",
       "      <td>0.016010</td>\n",
       "      <td>-0.001640</td>\n",
       "      <td>-0.000164</td>\n",
       "      <td>-0.002225</td>\n",
       "      <td>0.004277</td>\n",
       "      <td>0.013563</td>\n",
       "      <td>0.010453</td>\n",
       "      <td>0.075701</td>\n",
       "      <td>...</td>\n",
       "      <td>-0.010089</td>\n",
       "      <td>-0.000773</td>\n",
       "      <td>0.001020</td>\n",
       "      <td>-0.013412</td>\n",
       "      <td>-0.008493</td>\n",
       "      <td>-0.007192</td>\n",
       "      <td>0.003191</td>\n",
       "      <td>-0.000146</td>\n",
       "      <td>0.003530</td>\n",
       "      <td>-0.011634</td>\n",
       "    </tr>\n",
       "    <tr>\n",
       "      <th>11</th>\n",
       "      <td>-0.014131</td>\n",
       "      <td>0.018591</td>\n",
       "      <td>-0.023233</td>\n",
       "      <td>0.040150</td>\n",
       "      <td>0.044578</td>\n",
       "      <td>-0.091625</td>\n",
       "      <td>0.001084</td>\n",
       "      <td>-0.033014</td>\n",
       "      <td>-0.028923</td>\n",
       "      <td>-0.019890</td>\n",
       "      <td>...</td>\n",
       "      <td>0.007882</td>\n",
       "      <td>0.014448</td>\n",
       "      <td>-0.126195</td>\n",
       "      <td>-0.002653</td>\n",
       "      <td>-0.043088</td>\n",
       "      <td>-0.038874</td>\n",
       "      <td>-0.015920</td>\n",
       "      <td>-0.000111</td>\n",
       "      <td>-0.003666</td>\n",
       "      <td>0.047530</td>\n",
       "    </tr>\n",
       "    <tr>\n",
       "      <th>12</th>\n",
       "      <td>0.117303</td>\n",
       "      <td>0.123148</td>\n",
       "      <td>0.039841</td>\n",
       "      <td>-0.010451</td>\n",
       "      <td>-0.003613</td>\n",
       "      <td>-0.009740</td>\n",
       "      <td>0.011989</td>\n",
       "      <td>0.014114</td>\n",
       "      <td>-0.009301</td>\n",
       "      <td>0.122887</td>\n",
       "      <td>...</td>\n",
       "      <td>-0.021764</td>\n",
       "      <td>-0.013247</td>\n",
       "      <td>0.075549</td>\n",
       "      <td>-0.044682</td>\n",
       "      <td>-0.001742</td>\n",
       "      <td>0.029321</td>\n",
       "      <td>-0.010013</td>\n",
       "      <td>-0.000515</td>\n",
       "      <td>0.008201</td>\n",
       "      <td>0.006816</td>\n",
       "    </tr>\n",
       "    <tr>\n",
       "      <th>13</th>\n",
       "      <td>-0.015514</td>\n",
       "      <td>-0.027607</td>\n",
       "      <td>-0.031959</td>\n",
       "      <td>0.003162</td>\n",
       "      <td>0.005296</td>\n",
       "      <td>0.002377</td>\n",
       "      <td>0.018119</td>\n",
       "      <td>0.037731</td>\n",
       "      <td>-0.013783</td>\n",
       "      <td>0.000363</td>\n",
       "      <td>...</td>\n",
       "      <td>-0.004154</td>\n",
       "      <td>-0.002834</td>\n",
       "      <td>-0.028210</td>\n",
       "      <td>0.017205</td>\n",
       "      <td>0.003955</td>\n",
       "      <td>-0.007444</td>\n",
       "      <td>0.001495</td>\n",
       "      <td>-0.000128</td>\n",
       "      <td>-0.001198</td>\n",
       "      <td>0.044692</td>\n",
       "    </tr>\n",
       "    <tr>\n",
       "      <th>14</th>\n",
       "      <td>0.008781</td>\n",
       "      <td>0.077766</td>\n",
       "      <td>-0.047775</td>\n",
       "      <td>-0.019233</td>\n",
       "      <td>-0.025878</td>\n",
       "      <td>0.003990</td>\n",
       "      <td>-0.045411</td>\n",
       "      <td>-0.109256</td>\n",
       "      <td>0.056239</td>\n",
       "      <td>0.028811</td>\n",
       "      <td>...</td>\n",
       "      <td>-0.011515</td>\n",
       "      <td>0.043274</td>\n",
       "      <td>0.087282</td>\n",
       "      <td>0.001076</td>\n",
       "      <td>-0.010644</td>\n",
       "      <td>0.025139</td>\n",
       "      <td>-0.024460</td>\n",
       "      <td>0.007622</td>\n",
       "      <td>-0.003697</td>\n",
       "      <td>-0.000082</td>\n",
       "    </tr>\n",
       "    <tr>\n",
       "      <th>15</th>\n",
       "      <td>-0.025831</td>\n",
       "      <td>0.006821</td>\n",
       "      <td>-0.196660</td>\n",
       "      <td>0.002540</td>\n",
       "      <td>0.003180</td>\n",
       "      <td>0.003874</td>\n",
       "      <td>0.005552</td>\n",
       "      <td>-0.010372</td>\n",
       "      <td>-0.015118</td>\n",
       "      <td>-0.031934</td>\n",
       "      <td>...</td>\n",
       "      <td>0.098275</td>\n",
       "      <td>-0.008703</td>\n",
       "      <td>0.075341</td>\n",
       "      <td>0.163923</td>\n",
       "      <td>-0.011050</td>\n",
       "      <td>0.038663</td>\n",
       "      <td>-0.048932</td>\n",
       "      <td>-0.006281</td>\n",
       "      <td>0.000279</td>\n",
       "      <td>0.210014</td>\n",
       "    </tr>\n",
       "    <tr>\n",
       "      <th>16</th>\n",
       "      <td>-0.024677</td>\n",
       "      <td>0.008030</td>\n",
       "      <td>-0.029853</td>\n",
       "      <td>0.009059</td>\n",
       "      <td>0.023492</td>\n",
       "      <td>-0.064890</td>\n",
       "      <td>-0.002698</td>\n",
       "      <td>-0.009875</td>\n",
       "      <td>-0.023846</td>\n",
       "      <td>-0.010340</td>\n",
       "      <td>...</td>\n",
       "      <td>0.030905</td>\n",
       "      <td>0.020209</td>\n",
       "      <td>-0.054055</td>\n",
       "      <td>0.013586</td>\n",
       "      <td>-0.011608</td>\n",
       "      <td>0.004782</td>\n",
       "      <td>0.000391</td>\n",
       "      <td>0.001880</td>\n",
       "      <td>-0.009024</td>\n",
       "      <td>-0.011537</td>\n",
       "    </tr>\n",
       "    <tr>\n",
       "      <th>17</th>\n",
       "      <td>0.018759</td>\n",
       "      <td>0.005324</td>\n",
       "      <td>0.033394</td>\n",
       "      <td>-0.001317</td>\n",
       "      <td>0.001818</td>\n",
       "      <td>-0.001363</td>\n",
       "      <td>0.005551</td>\n",
       "      <td>0.002841</td>\n",
       "      <td>0.009574</td>\n",
       "      <td>0.042322</td>\n",
       "      <td>...</td>\n",
       "      <td>-0.032432</td>\n",
       "      <td>-0.004897</td>\n",
       "      <td>-0.018886</td>\n",
       "      <td>0.024090</td>\n",
       "      <td>-0.010528</td>\n",
       "      <td>-0.006170</td>\n",
       "      <td>-0.006529</td>\n",
       "      <td>-0.001317</td>\n",
       "      <td>0.002433</td>\n",
       "      <td>0.043795</td>\n",
       "    </tr>\n",
       "    <tr>\n",
       "      <th>18</th>\n",
       "      <td>0.036557</td>\n",
       "      <td>-0.032065</td>\n",
       "      <td>-0.038041</td>\n",
       "      <td>0.003128</td>\n",
       "      <td>0.014695</td>\n",
       "      <td>0.014486</td>\n",
       "      <td>0.016303</td>\n",
       "      <td>-0.007315</td>\n",
       "      <td>-0.008049</td>\n",
       "      <td>0.005353</td>\n",
       "      <td>...</td>\n",
       "      <td>0.186818</td>\n",
       "      <td>-0.033436</td>\n",
       "      <td>0.048028</td>\n",
       "      <td>0.139052</td>\n",
       "      <td>0.024693</td>\n",
       "      <td>0.000572</td>\n",
       "      <td>-0.011046</td>\n",
       "      <td>-0.003664</td>\n",
       "      <td>0.004102</td>\n",
       "      <td>0.049325</td>\n",
       "    </tr>\n",
       "    <tr>\n",
       "      <th>19</th>\n",
       "      <td>0.039103</td>\n",
       "      <td>-0.061351</td>\n",
       "      <td>0.010468</td>\n",
       "      <td>0.007401</td>\n",
       "      <td>0.019216</td>\n",
       "      <td>0.020719</td>\n",
       "      <td>0.009409</td>\n",
       "      <td>-0.028094</td>\n",
       "      <td>-0.002264</td>\n",
       "      <td>0.021999</td>\n",
       "      <td>...</td>\n",
       "      <td>0.149816</td>\n",
       "      <td>0.005859</td>\n",
       "      <td>0.025160</td>\n",
       "      <td>0.090535</td>\n",
       "      <td>0.029635</td>\n",
       "      <td>0.015389</td>\n",
       "      <td>0.000588</td>\n",
       "      <td>-0.005192</td>\n",
       "      <td>0.002690</td>\n",
       "      <td>0.069649</td>\n",
       "    </tr>\n",
       "    <tr>\n",
       "      <th>20</th>\n",
       "      <td>0.061289</td>\n",
       "      <td>-0.070021</td>\n",
       "      <td>-0.033067</td>\n",
       "      <td>0.032468</td>\n",
       "      <td>0.031751</td>\n",
       "      <td>0.055876</td>\n",
       "      <td>0.013957</td>\n",
       "      <td>-0.052836</td>\n",
       "      <td>-0.008489</td>\n",
       "      <td>0.041439</td>\n",
       "      <td>...</td>\n",
       "      <td>0.145373</td>\n",
       "      <td>0.036300</td>\n",
       "      <td>-0.007817</td>\n",
       "      <td>0.153145</td>\n",
       "      <td>0.025936</td>\n",
       "      <td>0.000676</td>\n",
       "      <td>0.015208</td>\n",
       "      <td>-0.006945</td>\n",
       "      <td>0.006893</td>\n",
       "      <td>0.145068</td>\n",
       "    </tr>\n",
       "    <tr>\n",
       "      <th>21</th>\n",
       "      <td>0.068740</td>\n",
       "      <td>-0.103292</td>\n",
       "      <td>0.015858</td>\n",
       "      <td>0.003823</td>\n",
       "      <td>0.025331</td>\n",
       "      <td>0.036159</td>\n",
       "      <td>0.004221</td>\n",
       "      <td>-0.034093</td>\n",
       "      <td>-0.004644</td>\n",
       "      <td>0.034980</td>\n",
       "      <td>...</td>\n",
       "      <td>1.000000</td>\n",
       "      <td>0.023185</td>\n",
       "      <td>-0.036594</td>\n",
       "      <td>0.033578</td>\n",
       "      <td>0.031457</td>\n",
       "      <td>-0.004953</td>\n",
       "      <td>0.016569</td>\n",
       "      <td>-0.010251</td>\n",
       "      <td>0.007779</td>\n",
       "      <td>0.089733</td>\n",
       "    </tr>\n",
       "    <tr>\n",
       "      <th>22</th>\n",
       "      <td>-0.009177</td>\n",
       "      <td>0.017363</td>\n",
       "      <td>-0.010271</td>\n",
       "      <td>0.002183</td>\n",
       "      <td>-0.002685</td>\n",
       "      <td>-0.005316</td>\n",
       "      <td>-0.001153</td>\n",
       "      <td>0.004145</td>\n",
       "      <td>-0.002025</td>\n",
       "      <td>-0.008055</td>\n",
       "      <td>...</td>\n",
       "      <td>0.023185</td>\n",
       "      <td>1.000000</td>\n",
       "      <td>-0.165570</td>\n",
       "      <td>-0.124073</td>\n",
       "      <td>-0.009657</td>\n",
       "      <td>-0.054659</td>\n",
       "      <td>-0.011299</td>\n",
       "      <td>0.000875</td>\n",
       "      <td>-0.000146</td>\n",
       "      <td>-0.055687</td>\n",
       "    </tr>\n",
       "    <tr>\n",
       "      <th>23</th>\n",
       "      <td>0.015678</td>\n",
       "      <td>-0.022459</td>\n",
       "      <td>-0.010832</td>\n",
       "      <td>-0.003117</td>\n",
       "      <td>0.055030</td>\n",
       "      <td>-0.054392</td>\n",
       "      <td>0.016216</td>\n",
       "      <td>-0.008328</td>\n",
       "      <td>0.004681</td>\n",
       "      <td>0.006413</td>\n",
       "      <td>...</td>\n",
       "      <td>-0.036594</td>\n",
       "      <td>-0.165570</td>\n",
       "      <td>1.000000</td>\n",
       "      <td>0.043755</td>\n",
       "      <td>-0.138617</td>\n",
       "      <td>0.091175</td>\n",
       "      <td>0.022264</td>\n",
       "      <td>0.002770</td>\n",
       "      <td>-0.028101</td>\n",
       "      <td>0.022297</td>\n",
       "    </tr>\n",
       "    <tr>\n",
       "      <th>24</th>\n",
       "      <td>0.162962</td>\n",
       "      <td>-0.275118</td>\n",
       "      <td>-0.020405</td>\n",
       "      <td>0.025961</td>\n",
       "      <td>0.027481</td>\n",
       "      <td>0.117299</td>\n",
       "      <td>-0.034693</td>\n",
       "      <td>-0.106475</td>\n",
       "      <td>-0.074802</td>\n",
       "      <td>0.022794</td>\n",
       "      <td>...</td>\n",
       "      <td>0.033578</td>\n",
       "      <td>-0.124073</td>\n",
       "      <td>0.043755</td>\n",
       "      <td>1.000000</td>\n",
       "      <td>0.034632</td>\n",
       "      <td>0.023944</td>\n",
       "      <td>-0.008373</td>\n",
       "      <td>-0.077424</td>\n",
       "      <td>0.002582</td>\n",
       "      <td>0.268693</td>\n",
       "    </tr>\n",
       "    <tr>\n",
       "      <th>25</th>\n",
       "      <td>0.068938</td>\n",
       "      <td>-0.053326</td>\n",
       "      <td>0.045692</td>\n",
       "      <td>-0.022520</td>\n",
       "      <td>-0.037792</td>\n",
       "      <td>-0.015542</td>\n",
       "      <td>0.003320</td>\n",
       "      <td>0.009379</td>\n",
       "      <td>-0.001038</td>\n",
       "      <td>-0.008286</td>\n",
       "      <td>...</td>\n",
       "      <td>0.031457</td>\n",
       "      <td>-0.009657</td>\n",
       "      <td>-0.138617</td>\n",
       "      <td>0.034632</td>\n",
       "      <td>1.000000</td>\n",
       "      <td>-0.184121</td>\n",
       "      <td>-0.013502</td>\n",
       "      <td>0.037049</td>\n",
       "      <td>0.014830</td>\n",
       "      <td>0.038313</td>\n",
       "    </tr>\n",
       "    <tr>\n",
       "      <th>26</th>\n",
       "      <td>0.014285</td>\n",
       "      <td>-0.027977</td>\n",
       "      <td>-0.000541</td>\n",
       "      <td>-0.012269</td>\n",
       "      <td>0.016981</td>\n",
       "      <td>-0.022233</td>\n",
       "      <td>0.000817</td>\n",
       "      <td>-0.003684</td>\n",
       "      <td>-0.006407</td>\n",
       "      <td>-0.003303</td>\n",
       "      <td>...</td>\n",
       "      <td>-0.004953</td>\n",
       "      <td>-0.054659</td>\n",
       "      <td>0.091175</td>\n",
       "      <td>0.023944</td>\n",
       "      <td>-0.184121</td>\n",
       "      <td>1.000000</td>\n",
       "      <td>-0.030547</td>\n",
       "      <td>-0.010792</td>\n",
       "      <td>-0.006247</td>\n",
       "      <td>0.014367</td>\n",
       "    </tr>\n",
       "    <tr>\n",
       "      <th>27</th>\n",
       "      <td>0.026908</td>\n",
       "      <td>-0.042073</td>\n",
       "      <td>0.005314</td>\n",
       "      <td>0.019670</td>\n",
       "      <td>-0.010185</td>\n",
       "      <td>0.057103</td>\n",
       "      <td>-0.029462</td>\n",
       "      <td>-0.020991</td>\n",
       "      <td>-0.150491</td>\n",
       "      <td>-0.079999</td>\n",
       "      <td>...</td>\n",
       "      <td>0.016569</td>\n",
       "      <td>-0.011299</td>\n",
       "      <td>0.022264</td>\n",
       "      <td>-0.008373</td>\n",
       "      <td>-0.013502</td>\n",
       "      <td>-0.030547</td>\n",
       "      <td>1.000000</td>\n",
       "      <td>-0.093906</td>\n",
       "      <td>0.051983</td>\n",
       "      <td>0.061809</td>\n",
       "    </tr>\n",
       "    <tr>\n",
       "      <th>28</th>\n",
       "      <td>0.003770</td>\n",
       "      <td>-0.007038</td>\n",
       "      <td>-0.007600</td>\n",
       "      <td>0.002075</td>\n",
       "      <td>0.001905</td>\n",
       "      <td>0.007850</td>\n",
       "      <td>-0.005545</td>\n",
       "      <td>-0.004551</td>\n",
       "      <td>-0.022448</td>\n",
       "      <td>-0.013594</td>\n",
       "      <td>...</td>\n",
       "      <td>-0.010251</td>\n",
       "      <td>0.000875</td>\n",
       "      <td>0.002770</td>\n",
       "      <td>-0.077424</td>\n",
       "      <td>0.037049</td>\n",
       "      <td>-0.010792</td>\n",
       "      <td>-0.093906</td>\n",
       "      <td>1.000000</td>\n",
       "      <td>-0.109085</td>\n",
       "      <td>0.028791</td>\n",
       "    </tr>\n",
       "    <tr>\n",
       "      <th>29</th>\n",
       "      <td>-0.000587</td>\n",
       "      <td>0.005325</td>\n",
       "      <td>-0.005418</td>\n",
       "      <td>-0.099302</td>\n",
       "      <td>0.072496</td>\n",
       "      <td>0.002870</td>\n",
       "      <td>-0.012839</td>\n",
       "      <td>-0.010313</td>\n",
       "      <td>-0.022489</td>\n",
       "      <td>-0.007894</td>\n",
       "      <td>...</td>\n",
       "      <td>0.007779</td>\n",
       "      <td>-0.000146</td>\n",
       "      <td>-0.028101</td>\n",
       "      <td>0.002582</td>\n",
       "      <td>0.014830</td>\n",
       "      <td>-0.006247</td>\n",
       "      <td>0.051983</td>\n",
       "      <td>-0.109085</td>\n",
       "      <td>1.000000</td>\n",
       "      <td>-0.013101</td>\n",
       "    </tr>\n",
       "    <tr>\n",
       "      <th>ERNYR_P</th>\n",
       "      <td>0.435411</td>\n",
       "      <td>-0.370548</td>\n",
       "      <td>-0.095234</td>\n",
       "      <td>0.142882</td>\n",
       "      <td>0.092712</td>\n",
       "      <td>0.211013</td>\n",
       "      <td>0.057093</td>\n",
       "      <td>-0.085167</td>\n",
       "      <td>-0.024007</td>\n",
       "      <td>-0.108909</td>\n",
       "      <td>...</td>\n",
       "      <td>0.089733</td>\n",
       "      <td>-0.055687</td>\n",
       "      <td>0.022297</td>\n",
       "      <td>0.268693</td>\n",
       "      <td>0.038313</td>\n",
       "      <td>0.014367</td>\n",
       "      <td>0.061809</td>\n",
       "      <td>0.028791</td>\n",
       "      <td>-0.013101</td>\n",
       "      <td>1.000000</td>\n",
       "    </tr>\n",
       "  </tbody>\n",
       "</table>\n",
       "<p>31 rows × 31 columns</p>\n",
       "</div>"
      ],
      "text/plain": [
       "                0         1         2         3         4         5         6   \n",
       "0        1.000000  0.041388  0.133851 -0.017487 -0.014966 -0.035246 -0.010445  \\\n",
       "1        0.041388  1.000000  0.018735 -0.016131 -0.017559 -0.011517 -0.018780   \n",
       "2        0.133851  0.018735  1.000000 -0.100259 -0.145032 -0.182755 -0.054377   \n",
       "3       -0.017487 -0.016131 -0.100259  1.000000  0.031813  0.023068 -0.024001   \n",
       "4       -0.014966 -0.017559 -0.145032  0.031813  1.000000  0.008459 -0.007442   \n",
       "5       -0.035246 -0.011517 -0.182755  0.023068  0.008459  1.000000  0.003264   \n",
       "6       -0.010445 -0.018780 -0.054377 -0.024001 -0.007442  0.003264  1.000000   \n",
       "7        0.039838 -0.011409  0.058130  0.000331  0.001148  0.002176  0.000797   \n",
       "8        0.017032 -0.010864  0.022016  0.000527  0.004803  0.023745 -0.001707   \n",
       "9        0.040222  0.011611  0.002518 -0.003877  0.011857  0.032862  0.039502   \n",
       "10       0.017654  0.010290  0.016010 -0.001640 -0.000164 -0.002225  0.004277   \n",
       "11      -0.014131  0.018591 -0.023233  0.040150  0.044578 -0.091625  0.001084   \n",
       "12       0.117303  0.123148  0.039841 -0.010451 -0.003613 -0.009740  0.011989   \n",
       "13      -0.015514 -0.027607 -0.031959  0.003162  0.005296  0.002377  0.018119   \n",
       "14       0.008781  0.077766 -0.047775 -0.019233 -0.025878  0.003990 -0.045411   \n",
       "15      -0.025831  0.006821 -0.196660  0.002540  0.003180  0.003874  0.005552   \n",
       "16      -0.024677  0.008030 -0.029853  0.009059  0.023492 -0.064890 -0.002698   \n",
       "17       0.018759  0.005324  0.033394 -0.001317  0.001818 -0.001363  0.005551   \n",
       "18       0.036557 -0.032065 -0.038041  0.003128  0.014695  0.014486  0.016303   \n",
       "19       0.039103 -0.061351  0.010468  0.007401  0.019216  0.020719  0.009409   \n",
       "20       0.061289 -0.070021 -0.033067  0.032468  0.031751  0.055876  0.013957   \n",
       "21       0.068740 -0.103292  0.015858  0.003823  0.025331  0.036159  0.004221   \n",
       "22      -0.009177  0.017363 -0.010271  0.002183 -0.002685 -0.005316 -0.001153   \n",
       "23       0.015678 -0.022459 -0.010832 -0.003117  0.055030 -0.054392  0.016216   \n",
       "24       0.162962 -0.275118 -0.020405  0.025961  0.027481  0.117299 -0.034693   \n",
       "25       0.068938 -0.053326  0.045692 -0.022520 -0.037792 -0.015542  0.003320   \n",
       "26       0.014285 -0.027977 -0.000541 -0.012269  0.016981 -0.022233  0.000817   \n",
       "27       0.026908 -0.042073  0.005314  0.019670 -0.010185  0.057103 -0.029462   \n",
       "28       0.003770 -0.007038 -0.007600  0.002075  0.001905  0.007850 -0.005545   \n",
       "29      -0.000587  0.005325 -0.005418 -0.099302  0.072496  0.002870 -0.012839   \n",
       "ERNYR_P  0.435411 -0.370548 -0.095234  0.142882  0.092712  0.211013  0.057093   \n",
       "\n",
       "                7         8         9  ...        21        22        23   \n",
       "0        0.039838  0.017032  0.040222  ...  0.068740 -0.009177  0.015678  \\\n",
       "1       -0.011409 -0.010864  0.011611  ... -0.103292  0.017363 -0.022459   \n",
       "2        0.058130  0.022016  0.002518  ...  0.015858 -0.010271 -0.010832   \n",
       "3        0.000331  0.000527 -0.003877  ...  0.003823  0.002183 -0.003117   \n",
       "4        0.001148  0.004803  0.011857  ...  0.025331 -0.002685  0.055030   \n",
       "5        0.002176  0.023745  0.032862  ...  0.036159 -0.005316 -0.054392   \n",
       "6        0.000797 -0.001707  0.039502  ...  0.004221 -0.001153  0.016216   \n",
       "7        1.000000  0.003966  0.037715  ... -0.034093  0.004145 -0.008328   \n",
       "8        0.003966  1.000000 -0.008062  ... -0.004644 -0.002025  0.004681   \n",
       "9        0.037715 -0.008062  1.000000  ...  0.034980 -0.008055  0.006413   \n",
       "10       0.013563  0.010453  0.075701  ... -0.010089 -0.000773  0.001020   \n",
       "11      -0.033014 -0.028923 -0.019890  ...  0.007882  0.014448 -0.126195   \n",
       "12       0.014114 -0.009301  0.122887  ... -0.021764 -0.013247  0.075549   \n",
       "13       0.037731 -0.013783  0.000363  ... -0.004154 -0.002834 -0.028210   \n",
       "14      -0.109256  0.056239  0.028811  ... -0.011515  0.043274  0.087282   \n",
       "15      -0.010372 -0.015118 -0.031934  ...  0.098275 -0.008703  0.075341   \n",
       "16      -0.009875 -0.023846 -0.010340  ...  0.030905  0.020209 -0.054055   \n",
       "17       0.002841  0.009574  0.042322  ... -0.032432 -0.004897 -0.018886   \n",
       "18      -0.007315 -0.008049  0.005353  ...  0.186818 -0.033436  0.048028   \n",
       "19      -0.028094 -0.002264  0.021999  ...  0.149816  0.005859  0.025160   \n",
       "20      -0.052836 -0.008489  0.041439  ...  0.145373  0.036300 -0.007817   \n",
       "21      -0.034093 -0.004644  0.034980  ...  1.000000  0.023185 -0.036594   \n",
       "22       0.004145 -0.002025 -0.008055  ...  0.023185  1.000000 -0.165570   \n",
       "23      -0.008328  0.004681  0.006413  ... -0.036594 -0.165570  1.000000   \n",
       "24      -0.106475 -0.074802  0.022794  ...  0.033578 -0.124073  0.043755   \n",
       "25       0.009379 -0.001038 -0.008286  ...  0.031457 -0.009657 -0.138617   \n",
       "26      -0.003684 -0.006407 -0.003303  ... -0.004953 -0.054659  0.091175   \n",
       "27      -0.020991 -0.150491 -0.079999  ...  0.016569 -0.011299  0.022264   \n",
       "28      -0.004551 -0.022448 -0.013594  ... -0.010251  0.000875  0.002770   \n",
       "29      -0.010313 -0.022489 -0.007894  ...  0.007779 -0.000146 -0.028101   \n",
       "ERNYR_P -0.085167 -0.024007 -0.108909  ...  0.089733 -0.055687  0.022297   \n",
       "\n",
       "               24        25        26        27        28        29   ERNYR_P  \n",
       "0        0.162962  0.068938  0.014285  0.026908  0.003770 -0.000587  0.435411  \n",
       "1       -0.275118 -0.053326 -0.027977 -0.042073 -0.007038  0.005325 -0.370548  \n",
       "2       -0.020405  0.045692 -0.000541  0.005314 -0.007600 -0.005418 -0.095234  \n",
       "3        0.025961 -0.022520 -0.012269  0.019670  0.002075 -0.099302  0.142882  \n",
       "4        0.027481 -0.037792  0.016981 -0.010185  0.001905  0.072496  0.092712  \n",
       "5        0.117299 -0.015542 -0.022233  0.057103  0.007850  0.002870  0.211013  \n",
       "6       -0.034693  0.003320  0.000817 -0.029462 -0.005545 -0.012839  0.057093  \n",
       "7       -0.106475  0.009379 -0.003684 -0.020991 -0.004551 -0.010313 -0.085167  \n",
       "8       -0.074802 -0.001038 -0.006407 -0.150491 -0.022448 -0.022489 -0.024007  \n",
       "9        0.022794 -0.008286 -0.003303 -0.079999 -0.013594 -0.007894 -0.108909  \n",
       "10      -0.013412 -0.008493 -0.007192  0.003191 -0.000146  0.003530 -0.011634  \n",
       "11      -0.002653 -0.043088 -0.038874 -0.015920 -0.000111 -0.003666  0.047530  \n",
       "12      -0.044682 -0.001742  0.029321 -0.010013 -0.000515  0.008201  0.006816  \n",
       "13       0.017205  0.003955 -0.007444  0.001495 -0.000128 -0.001198  0.044692  \n",
       "14       0.001076 -0.010644  0.025139 -0.024460  0.007622 -0.003697 -0.000082  \n",
       "15       0.163923 -0.011050  0.038663 -0.048932 -0.006281  0.000279  0.210014  \n",
       "16       0.013586 -0.011608  0.004782  0.000391  0.001880 -0.009024 -0.011537  \n",
       "17       0.024090 -0.010528 -0.006170 -0.006529 -0.001317  0.002433  0.043795  \n",
       "18       0.139052  0.024693  0.000572 -0.011046 -0.003664  0.004102  0.049325  \n",
       "19       0.090535  0.029635  0.015389  0.000588 -0.005192  0.002690  0.069649  \n",
       "20       0.153145  0.025936  0.000676  0.015208 -0.006945  0.006893  0.145068  \n",
       "21       0.033578  0.031457 -0.004953  0.016569 -0.010251  0.007779  0.089733  \n",
       "22      -0.124073 -0.009657 -0.054659 -0.011299  0.000875 -0.000146 -0.055687  \n",
       "23       0.043755 -0.138617  0.091175  0.022264  0.002770 -0.028101  0.022297  \n",
       "24       1.000000  0.034632  0.023944 -0.008373 -0.077424  0.002582  0.268693  \n",
       "25       0.034632  1.000000 -0.184121 -0.013502  0.037049  0.014830  0.038313  \n",
       "26       0.023944 -0.184121  1.000000 -0.030547 -0.010792 -0.006247  0.014367  \n",
       "27      -0.008373 -0.013502 -0.030547  1.000000 -0.093906  0.051983  0.061809  \n",
       "28      -0.077424  0.037049 -0.010792 -0.093906  1.000000 -0.109085  0.028791  \n",
       "29       0.002582  0.014830 -0.006247  0.051983 -0.109085  1.000000 -0.013101  \n",
       "ERNYR_P  0.268693  0.038313  0.014367  0.061809  0.028791 -0.013101  1.000000  \n",
       "\n",
       "[31 rows x 31 columns]"
      ]
     },
     "execution_count": 33,
     "metadata": {},
     "output_type": "execute_result"
    }
   ],
   "source": [
    "df_new.corr()"
   ]
  },
  {
   "cell_type": "code",
   "execution_count": 31,
   "metadata": {},
   "outputs": [
    {
     "name": "stdout",
     "output_type": "stream",
     "text": [
      "Accuracy: 0.8347617415152554\n",
      "F1: 0.8332792037294097\n",
      "Accuracy: 0.8344189235515941\n",
      "F1: 0.8329457072990593\n"
     ]
    }
   ],
   "source": [
    "run_classification(df_new, target_col)"
   ]
  },
  {
   "cell_type": "code",
   "execution_count": 20,
   "metadata": {},
   "outputs": [
    {
     "name": "stdout",
     "output_type": "stream",
     "text": [
      "Accuracy: 0.8234487487144326\n",
      "F1: 0.822629826440002\n"
     ]
    }
   ],
   "source": [
    "data = df_new\n",
    "X_train, X_test, y_train, y_test = train_test_split(data.drop(target_col, axis=1), data[target_col], test_size=0.2, random_state=42)\n",
    "\n",
    "clf = LogisticRegression(C = 5, penalty = 'l2', solver = 'liblinear', max_iter = 1000)\n",
    "clf.fit(X_train, y_train)\n",
    "y_pred = clf.predict(X_test)\n",
    "\n",
    "accu = clf.score(X_test, y_test)\n",
    "f1 = f1_score(y_test, y_pred, average='weighted')\n",
    "\n",
    "print(\"Accuracy: {}\".format(accu))\n",
    "print(\"F1: {}\".format(f1))"
   ]
  },
  {
   "cell_type": "code",
   "execution_count": 291,
   "metadata": {},
   "outputs": [
    {
     "name": "stdout",
     "output_type": "stream",
     "text": [
      "RMSE: 4.43498195073444\n",
      "R2: 0.5495697576990738\n"
     ]
    }
   ],
   "source": [
    "run_regression(df_new, target_col)"
   ]
  },
  {
   "cell_type": "markdown",
   "metadata": {},
   "source": [
    "## Covid Data"
   ]
  },
  {
   "cell_type": "code",
   "execution_count": 45,
   "metadata": {},
   "outputs": [
    {
     "name": "stdout",
     "output_type": "stream",
     "text": [
      "(1048575, 21)\n",
      "(1025152, 21)\n",
      "(1021977, 22)\n",
      "(1021977, 10)\n",
      "(1021977, 26)\n",
      "Train_x : (817581, 25)\n",
      "Test_x : (204396, 25)\n",
      "Train_y : (817581,)\n",
      "Test_y : (204396,)\n",
      "Logistic Regression Accuracy : 0.9394068377071958\n"
     ]
    },
    {
     "name": "stderr",
     "output_type": "stream",
     "text": [
      "d:\\E\\miniconda\\envs\\fed_imp\\lib\\site-packages\\sklearn\\linear_model\\_logistic.py:458: ConvergenceWarning: lbfgs failed to converge (status=1):\n",
      "STOP: TOTAL NO. of ITERATIONS REACHED LIMIT.\n",
      "\n",
      "Increase the number of iterations (max_iter) or scale the data as shown in:\n",
      "    https://scikit-learn.org/stable/modules/preprocessing.html\n",
      "Please also refer to the documentation for alternative solver options:\n",
      "    https://scikit-learn.org/stable/modules/linear_model.html#logistic-regression\n",
      "  n_iter_i = _check_optimize_result(\n"
     ]
    }
   ],
   "source": [
    "data = pd.read_csv('data/covid/Covid Data.csv')\n",
    "print(data.shape)\n",
    "df = data\n",
    "\n",
    "# preprocessing\n",
    "df = df[(df.PNEUMONIA == 1) | (df.PNEUMONIA == 2)]\n",
    "df = df[(df.DIABETES == 1) | (df.DIABETES == 2)]\n",
    "df = df[(df.COPD == 1) | (df.COPD == 2)]\n",
    "df = df[(df.ASTHMA == 1) | (df.ASTHMA == 2)]\n",
    "df = df[(df.INMSUPR == 1) | (df.INMSUPR == 2)]\n",
    "df = df[(df.HIPERTENSION == 1) | (df.HIPERTENSION == 2)]\n",
    "df = df[(df.OTHER_DISEASE == 1) | (df.OTHER_DISEASE == 2)]\n",
    "df = df[(df.CARDIOVASCULAR == 1) | (df.CARDIOVASCULAR == 2)]\n",
    "df = df[(df.OBESITY == 1) | (df.OBESITY == 2)]\n",
    "df = df[(df.RENAL_CHRONIC == 1) | (df.RENAL_CHRONIC == 2)]\n",
    "df = df[(df.TOBACCO == 1) | (df.TOBACCO == 2)]\n",
    "\n",
    "print(df.shape)\n",
    "\n",
    "df[\"DEATH\"] = [2 if each==\"9999-99-99\" else 1 for each in df.DATE_DIED]\n",
    "df.PREGNANT = df.PREGNANT.replace(97,2)\n",
    "\n",
    "# Getting rid of the missing values\n",
    "df = df[(df.PREGNANT == 1) | (df.PREGNANT == 2)]\n",
    "print(df.shape)\n",
    "df.drop(columns=[\"INTUBED\",\"ICU\",\"DATE_DIED\"], inplace=True)\n",
    "unrelevant_columns = [\"SEX\",\"PREGNANT\",\"COPD\",\"ASTHMA\",\"INMSUPR\",\"OTHER_DISEASE\",\"CARDIOVASCULAR\",\n",
    "                      \"OBESITY\",\"TOBACCO\"]\n",
    "\n",
    "df.drop(columns=unrelevant_columns,inplace=True)\n",
    "print(df.shape)\n",
    "df = pd.get_dummies(df,columns=[\"MEDICAL_UNIT\",\"CLASIFFICATION_FINAL\"],drop_first=True)\n",
    "print(df.shape)\n",
    "\n",
    "from sklearn.preprocessing import RobustScaler\n",
    "scaler = RobustScaler()\n",
    "df.AGE = scaler.fit_transform(df.AGE.values.reshape(-1,1))\n",
    "\n",
    "x = df.drop(columns=\"DEATH\")\n",
    "y = df[\"DEATH\"]\n",
    "\n",
    "from sklearn.model_selection import train_test_split\n",
    "train_x, test_x, train_y, test_y = train_test_split(x,y, test_size=0.2, random_state=42)\n",
    "print(\"Train_x :\",train_x.shape)\n",
    "print(\"Test_x :\",test_x.shape)\n",
    "print(\"Train_y :\",train_y.shape)\n",
    "print(\"Test_y :\",test_y.shape)\n",
    "\n",
    "from sklearn.linear_model import LogisticRegression\n",
    "\n",
    "logreg = LogisticRegression()\n",
    "logreg.fit(train_x,train_y)\n",
    "print(\"Logistic Regression Accuracy :\",logreg.score(test_x, test_y))"
   ]
  },
  {
   "cell_type": "markdown",
   "metadata": {},
   "source": [
    "## Heart"
   ]
  },
  {
   "cell_type": "code",
   "execution_count": 11,
   "metadata": {},
   "outputs": [],
   "source": [
    "from imblearn.under_sampling import RandomUnderSampler\n",
    "from sklearn.preprocessing import LabelEncoder\n",
    "from sklearn.preprocessing import OneHotEncoder\n",
    "from sklearn.preprocessing import MinMaxScaler\n",
    "import numpy as np"
   ]
  },
  {
   "cell_type": "code",
   "execution_count": 12,
   "metadata": {},
   "outputs": [
    {
     "name": "stdout",
     "output_type": "stream",
     "text": [
      "['BMI', 'PhysicalHealth', 'MentalHealth', 'SleepTime']\n",
      "(319795, 25)\n",
      "(31979, 25)\n"
     ]
    },
    {
     "data": {
      "text/plain": [
       "24    1.000000\n",
       "0     0.207134\n",
       "1     0.186029\n",
       "4     0.122987\n",
       "8     0.108366\n",
       "21    0.086931\n",
       "9     0.080964\n",
       "7     0.047522\n",
       "12    0.042697\n",
       "6     0.041534\n",
       "17    0.034764\n",
       "23    0.032861\n",
       "2     0.032162\n",
       "13    0.031752\n",
       "19    0.029506\n",
       "3     0.029063\n",
       "5     0.025317\n",
       "20    0.011881\n",
       "22    0.011598\n",
       "16    0.010384\n",
       "15    0.005944\n",
       "10    0.004127\n",
       "14    0.002325\n",
       "11    0.002092\n",
       "18    0.000368\n",
       "dtype: float64"
      ]
     },
     "execution_count": 12,
     "metadata": {},
     "output_type": "execute_result"
    }
   ],
   "source": [
    "threshold = 0.1\n",
    "df = pd.read_csv('./data/heart/heart_2020_cleaned.csv')\n",
    "target_col = 'HeartDisease'\n",
    "df['HeartDisease'] = df['HeartDisease'].map({\"No\": 0, \"Yes\": 1})\n",
    "df[target_col].value_counts()\n",
    "df = move_target_to_end(df, target_col)\n",
    "\n",
    "categorical_columns = [\n",
    "    'Smoking', 'AlcoholDrinking', 'Stroke', 'DiffWalking', \n",
    "    'Sex', 'AgeCategory', 'Race', 'Diabetic', 'PhysicalActivity', 'GenHealth', \n",
    "    'Asthma', 'KidneyDisease', 'SkinCancer'\n",
    "]\n",
    "\n",
    "numerical_cols = [col for col in df.columns if col not in categorical_columns and col != target_col]\n",
    "print(numerical_cols)\n",
    "oh_encoder = OneHotEncoder(max_categories=10, drop='first', sparse_output = False)\n",
    "X_cat = oh_encoder.fit_transform(df[categorical_columns])\n",
    "X_num = df[numerical_cols].values\n",
    "robust_scaler = MinMaxScaler()\n",
    "X_num = robust_scaler.fit_transform(df[numerical_cols])\n",
    "X = np.concatenate([X_num, X_cat], axis=1)\n",
    "\n",
    "# # print(df_new.shape)\n",
    "# # label=LabelEncoder()\n",
    "# # for col in df:\n",
    "# #     df[col]=label.fit_transform(df[col])\n",
    "# # under = RandomUnderSampler(random_state=42)\n",
    "# # X = df.drop(target_col, axis=1).values\n",
    "# # X_new, y_new = under.fit_resample(X, df[target_col].values)\n",
    "\n",
    "# pca\n",
    "pca = PCA(n_components=0.95)\n",
    "X_new = pca.fit_transform(X)\n",
    "y_new = df[target_col].values\n",
    "\n",
    "# new dataframe\n",
    "df_new = pd.DataFrame(np.concatenate([X_new, y_new.reshape(-1, 1)], axis=1))\n",
    "df_new.columns = df_new.columns.astype(str)\n",
    "\n",
    "target_col = df_new.columns[-1]\n",
    "df_new = move_target_to_end(df_new, target_col)\n",
    "df_new[target_col] = pd.factorize(df_new[target_col])[0]\n",
    "df_new = convert_gaussian(df_new, target_col)\n",
    "df_new = normalization(df_new, target_col)\n",
    "print(df_new.shape)\n",
    "\n",
    "data = df_new\n",
    "\n",
    "correlation_ret = data.corrwith(data[target_col], method=correlation_ratio).sort_values(ascending=False)\n",
    "important_features = correlation_ret[correlation_ret >= threshold].index.tolist()\n",
    "important_features.remove(target_col)\n",
    "\n",
    "data0 = data[data[target_col] == 0]\n",
    "data1 = data[data[target_col] == 1]\n",
    "data0 = data0.sample(frac = 0.1, random_state=42)\n",
    "data1 = data1.sample(frac = 0.1, random_state=42)\n",
    "data = pd.concat([data0, data1], axis=0)\n",
    "\n",
    "print(data.shape)\n",
    "\n",
    "data_config = {\n",
    "    'target': target_col,\n",
    "    'important_features_idx': [data.columns.tolist().index(feature) for feature in important_features],\n",
    "    'features_idx': [idx for idx in range(0, data.shape[1]) if data.columns[idx] != target_col],\n",
    "    \"num_cols\": data.shape[1] - 1,\n",
    "    'task_type': 'classification',\n",
    "    'clf_type': 'multi-class',\n",
    "    'data_type': 'tabular'\n",
    "}\n",
    "\n",
    "correlation_ret"
   ]
  },
  {
   "cell_type": "code",
   "execution_count": 13,
   "metadata": {},
   "outputs": [
    {
     "data": {
      "text/plain": [
       "24\n",
       "0    29242\n",
       "1     2737\n",
       "Name: count, dtype: int64"
      ]
     },
     "execution_count": 13,
     "metadata": {},
     "output_type": "execute_result"
    }
   ],
   "source": [
    "data[target_col].value_counts()"
   ]
  },
  {
   "cell_type": "code",
   "execution_count": 74,
   "metadata": {},
   "outputs": [
    {
     "name": "stdout",
     "output_type": "stream",
     "text": [
      "X_train shape: (25583, 24)\n"
     ]
    },
    {
     "name": "stdout",
     "output_type": "stream",
     "text": [
      "Accuracy: 0.8941525953721076\n",
      "F1: 0.8813880962041727\n",
      "Recall: 0.8941525953721076\n",
      "Precision: 0.8716941792663454\n",
      "Accuracy: 0.9155722326454033\n",
      "F1: 0.8856713141462089\n",
      "Recall: 0.9155722326454033\n",
      "Precision: 0.8835881123074507\n"
     ]
    }
   ],
   "source": [
    "run_classification(data, target_col)"
   ]
  },
  {
   "cell_type": "code",
   "execution_count": 73,
   "metadata": {},
   "outputs": [
    {
     "name": "stdout",
     "output_type": "stream",
     "text": [
      "X_train shape: (46764, 24)\n",
      "Accuracy: 0.7947154471544715\n",
      "F1: 0.8292615466125466\n",
      "Recall: 0.7947154471544715\n",
      "Precision: 0.879426235157263\n",
      "Accuracy: 0.7537523452157598\n",
      "F1: 0.8060599394982866\n",
      "Recall: 0.7537523452157598\n",
      "Precision: 0.908804194689638\n"
     ]
    }
   ],
   "source": [
    "run_classification(data, target_col, smote=True)"
   ]
  },
  {
   "cell_type": "markdown",
   "metadata": {},
   "source": [
    "## Codon"
   ]
  },
  {
   "cell_type": "code",
   "execution_count": 3,
   "metadata": {},
   "outputs": [
    {
     "name": "stdout",
     "output_type": "stream",
     "text": [
      "(13008, 26)\n"
     ]
    },
    {
     "data": {
      "text/plain": [
       "25    1.000000\n",
       "1     0.809629\n",
       "2     0.482846\n",
       "3     0.479401\n",
       "5     0.413096\n",
       "4     0.381907\n",
       "6     0.377165\n",
       "0     0.328057\n",
       "8     0.326848\n",
       "9     0.321669\n",
       "11    0.230435\n",
       "14    0.218299\n",
       "23    0.204808\n",
       "22    0.198285\n",
       "18    0.194682\n",
       "19    0.183893\n",
       "10    0.183041\n",
       "17    0.182647\n",
       "7     0.173197\n",
       "13    0.166827\n",
       "21    0.166662\n",
       "15    0.161502\n",
       "24    0.158178\n",
       "16    0.148523\n",
       "12    0.140533\n",
       "20    0.127572\n",
       "dtype: float64"
      ]
     },
     "execution_count": 3,
     "metadata": {},
     "output_type": "execute_result"
    }
   ],
   "source": [
    "threshold = 0.1\n",
    "normalize = True\n",
    "data = pd.read_csv(\"./data/codon/codon_usage.csv\", sep=',', low_memory=False)\n",
    "\n",
    "data = data.dropna()\n",
    "#data.columns = [str(i) for i in range(data.sh\n",
    "data = data.drop(['SpeciesID', 'Ncodons', 'SpeciesName', 'DNAtype'], axis=1)\n",
    "target_col = 'Kingdom'\n",
    "data = data[data[target_col] != 'plm']\n",
    "data[target_col], codes = pd.factorize(data[target_col])\n",
    "data = move_target_to_end(data, target_col)\n",
    "data = normalization(data, target_col)\n",
    "\n",
    "# pca\n",
    "pca = PCA(n_components=0.9)\n",
    "X = pca.fit_transform(data.drop(target_col, axis=1).values)\n",
    "y = data[target_col].values\n",
    "\n",
    "# new dataframe\n",
    "df_new = pd.DataFrame(np.concatenate([X, y.reshape(-1, 1)], axis=1))\n",
    "df_new.columns = df_new.columns.astype(str)\n",
    "\n",
    "target_col = df_new.columns[-1]\n",
    "data = df_new\n",
    "print(data.shape)\n",
    "\n",
    "correlation_ret = data.corrwith(data[target_col], method=correlation_ratio).sort_values(ascending=False)\n",
    "important_features = correlation_ret[correlation_ret >= threshold].index.tolist()\n",
    "important_features.remove(target_col)\n",
    "\n",
    "data_config = {\n",
    "    'target': target_col,\n",
    "    'important_features_idx': [data.columns.tolist().index(feature) for feature in important_features],\n",
    "    'features_idx': [idx for idx in range(0, data.shape[1]) if data.columns[idx] != target_col],\n",
    "    \"num_cols\": data.shape[1] - 1,\n",
    "    'task_type': 'classification',\n",
    "    'clf_type': 'multi-class',\n",
    "    'data_type': 'tabular'\n",
    "}\n",
    "\n",
    "correlation_ret"
   ]
  },
  {
   "cell_type": "code",
   "execution_count": 5,
   "metadata": {},
   "outputs": [
    {
     "data": {
      "text/plain": [
       "(10,)"
      ]
     },
     "execution_count": 5,
     "metadata": {},
     "output_type": "execute_result"
    }
   ],
   "source": [
    "data[target_col].value_counts().shape"
   ]
  },
  {
   "cell_type": "code",
   "execution_count": 36,
   "metadata": {},
   "outputs": [
    {
     "name": "stdout",
     "output_type": "stream",
     "text": [
      "X_train shape: (10420, 25)\n",
      "Accuracy: 0.9067536454336147\n",
      "F1: 0.905530256783151\n",
      "Recall: 0.9067536454336147\n",
      "Precision: 0.9061162485217039\n",
      "Accuracy: 0.7659247889485802\n",
      "F1: 0.7442017922921907\n",
      "Recall: 0.7659247889485802\n",
      "Precision: 0.752135082437742\n"
     ]
    },
    {
     "name": "stderr",
     "output_type": "stream",
     "text": [
      "d:\\E\\miniconda\\envs\\fed_imp\\lib\\site-packages\\sklearn\\metrics\\_classification.py:1344: UndefinedMetricWarning: Precision is ill-defined and being set to 0.0 in labels with no predicted samples. Use `zero_division` parameter to control this behavior.\n",
      "  _warn_prf(average, modifier, msg_start, len(result))\n"
     ]
    }
   ],
   "source": [
    "run_classification(data, target_col, smote=False)"
   ]
  },
  {
   "cell_type": "markdown",
   "metadata": {},
   "source": [
    "## Sepsis"
   ]
  },
  {
   "cell_type": "code",
   "execution_count": 162,
   "metadata": {},
   "outputs": [
    {
     "name": "stdout",
     "output_type": "stream",
     "text": [
      "(16210, 4)\n"
     ]
    },
    {
     "data": {
      "text/plain": [
       "hospital_outcome_1alive_0dead    1.000000\n",
       "age_years                        0.371653\n",
       "sex_0male_1female                0.028751\n",
       "episode_number                   0.022611\n",
       "dtype: float64"
      ]
     },
     "execution_count": 162,
     "metadata": {},
     "output_type": "execute_result"
    }
   ],
   "source": [
    "data = pd.read_csv('./data/sepsis/sepsis_survival_primary_cohort.csv')\n",
    "data = data.dropna()\n",
    "target_col = 'hospital_outcome_1alive_0dead'\n",
    "data[target_col] = data[target_col].astype(int)\n",
    "data = convert_gaussian(data, target_col)\n",
    "data = normalization(data, target_col)\n",
    "\n",
    "# sample balanced\n",
    "data0 = data[data[target_col] == 0]\n",
    "data1 = data[data[target_col] == 1]\n",
    "if data0.shape[0] > data1.shape[0]:\n",
    "    data0 = data0.sample(n = data1.shape[0])\n",
    "else:\n",
    "    data1 = data1.sample(n = data0.shape[0])\n",
    "\n",
    "data = pd.concat([data0, data1], axis=0)\n",
    "print(data.shape)\n",
    "# pca = PCA(n_components=0.9)\n",
    "# X = pca.fit_transform(data.iloc[:, :-1].values)\n",
    "# data = pd.DataFrame(np.concatenate([X, data.iloc[:, -1].values.reshape(-1, 1)], axis=1))\n",
    "# target_col = data.columns[-1]\n",
    "\n",
    "if data.shape[0] > 20000:\n",
    "    data = data.sample(n = 20000, random_state=42)\n",
    "\n",
    "correlation_ret = data.corrwith(data[target_col], method=correlation_ratio).sort_values(ascending=False)\n",
    "important_features = correlation_ret[correlation_ret >= threshold].index.tolist()\n",
    "important_features.remove(target_col)\n",
    "\n",
    "data_config = {\n",
    "    'target': target_col,\n",
    "    'important_features_idx': [data.columns.tolist().index(feature) for feature in important_features],\n",
    "    'features_idx': [idx for idx in range(0, data.shape[1]) if data.columns[idx] != target_col],\n",
    "    \"num_cols\": data.shape[1] - 1,\n",
    "    'task_type': 'classification',\n",
    "    'clf_type': 'multi-class',\n",
    "    'data_type': 'tabular'\n",
    "}\n",
    "\n",
    "correlation_ret"
   ]
  },
  {
   "cell_type": "code",
   "execution_count": 163,
   "metadata": {},
   "outputs": [
    {
     "data": {
      "text/plain": [
       "hospital_outcome_1alive_0dead\n",
       "0    8105\n",
       "1    8105\n",
       "Name: count, dtype: int64"
      ]
     },
     "execution_count": 163,
     "metadata": {},
     "output_type": "execute_result"
    }
   ],
   "source": [
    "data[target_col].value_counts()"
   ]
  },
  {
   "cell_type": "code",
   "execution_count": 164,
   "metadata": {},
   "outputs": [
    {
     "name": "stdout",
     "output_type": "stream",
     "text": [
      "X_train shape: (12968, 3)\n",
      "Accuracy: 0.6415792720542874\n",
      "F1: 0.6408398278156164\n",
      "Recall: 0.6415792720542874\n",
      "Precision: 0.6434015634410628\n",
      "Accuracy: 0.6421961752004935\n",
      "F1: 0.6393613305804148\n",
      "Recall: 0.6421961752004935\n",
      "Precision: 0.6480442425857869\n"
     ]
    }
   ],
   "source": [
    "run_classification(data, target_col)"
   ]
  },
  {
   "cell_type": "markdown",
   "metadata": {},
   "source": [
    "## Diabetic"
   ]
  },
  {
   "cell_type": "code",
   "execution_count": 9,
   "metadata": {},
   "outputs": [
    {
     "name": "stdout",
     "output_type": "stream",
     "text": [
      "(101766, 50)\n",
      "(99492, 43)\n",
      "X_cat: (99492, 27)\n",
      "(20000, 36)\n"
     ]
    }
   ],
   "source": [
    "data = pd.read_csv('./data/diabetic/diabetic_data.csv')\n",
    "data = data.replace('?', np.nan)\n",
    "print(data.shape)\n",
    "target_col = 'readmitted'\n",
    "data[target_col] = data[target_col].map({'NO': 0, '>30': 0, '<30': 1})\n",
    "#data = data[data[target_col] != 2]\n",
    "data['age'].value_counts()\n",
    "#data = data[data[target_col] != 2]\n",
    "data = move_target_to_end(data, target_col)\n",
    "#data = data.drop_duplicates(subset= ['patient_nbr'], keep = 'first')\n",
    "\n",
    "# drop columns and handle missing values\n",
    "drop_cols = [\n",
    "    'max_glu_serum', 'A1Cresult', 'weight', 'encounter_id', 'patient_nbr', \n",
    "    'examide', 'citoglipton'\n",
    "]\n",
    "data = data.drop(drop_cols, axis=1)\n",
    "data['payer_code'] = data['payer_code'].fillna('None')\n",
    "data['medical_specialty'] = data['medical_specialty'].fillna('None')\n",
    "data['diag_1'] = data['diag_1'].fillna('None')\n",
    "data['diag_2'] = data['diag_2'].fillna('None')\n",
    "data['diag_3'] = data['diag_3'].fillna('None')\n",
    "\n",
    "data = data[data['race'].isnull() == False]\n",
    "data = data[data['gender'].isin(['Male', 'Female'])]\n",
    "print(data.shape)\n",
    "\n",
    "num_cols = [\n",
    "    'time_in_hospital', 'num_lab_procedures', 'num_procedures', 'num_medications', \n",
    "    'number_outpatient', 'number_emergency', 'number_inpatient', 'number_diagnoses', \n",
    "    ]\n",
    "\n",
    "cat_cols = [col for col in data.columns if col not in num_cols and col != target_col]\n",
    "\n",
    "# one-hot encoding\n",
    "oh_encoder = OneHotEncoder(\n",
    "    sparse_output=False, handle_unknown='ignore', max_categories=100, drop='first'\n",
    ")\n",
    "\n",
    "X_cat = oh_encoder.fit_transform(data[cat_cols].values)\n",
    "pca = PCA(n_components=0.6)\n",
    "X_cat = pca.fit_transform(X_cat)\n",
    "print(\"X_cat:\", X_cat.shape)\n",
    "\n",
    "# min-max scaling\n",
    "scaler = StandardScaler()\n",
    "X_num = scaler.fit_transform(data[num_cols].values)\n",
    "\n",
    "# combine\n",
    "X = np.concatenate([X_num, X_cat], axis=1)\n",
    "y = data[target_col].values\n",
    "\n",
    "# pca\n",
    "# pca = PCA(n_components=0.8)\n",
    "# X = pca.fit_transform(X)\n",
    "\n",
    "# combine\n",
    "data = pd.DataFrame(np.concatenate([X, y.reshape(-1, 1)], axis=1))\n",
    "\n",
    "#target_col = data.columns[-1]\n",
    "# data0 = data[data[target_col] == 0]\n",
    "# data1 = data[data[target_col] == 1]\n",
    "# data1 = data1.sample(n=len(data0), random_state=0)\n",
    "# data = pd.concat([data0, data1], axis=0)\n",
    "\n",
    "target_col = data.columns[-1]\n",
    "data = convert_gaussian(data, target_col)\n",
    "data = normalization(data, target_col)\n",
    "\n",
    "data = data.sample(n = 20000, random_state=42)\n",
    "print(data.shape)\n"
   ]
  },
  {
   "cell_type": "code",
   "execution_count": 10,
   "metadata": {},
   "outputs": [
    {
     "data": {
      "text/plain": [
       "35\n",
       "0.0    17750\n",
       "1.0     2250\n",
       "Name: count, dtype: int64"
      ]
     },
     "execution_count": 10,
     "metadata": {},
     "output_type": "execute_result"
    }
   ],
   "source": [
    "data[target_col].value_counts()"
   ]
  },
  {
   "cell_type": "code",
   "execution_count": 763,
   "metadata": {},
   "outputs": [
    {
     "name": "stdout",
     "output_type": "stream",
     "text": [
      "X_train shape: (7662, 35)\n",
      "Accuracy: 0.54325\n",
      "F1: 0.3706510506372718\n",
      "Recall: 0.5423387096774194\n",
      "Precision: 0.2815279958137101\n",
      "ROC: 0.5429446207961566\n",
      "Accuracy: 0.56375\n",
      "F1: 0.3870741131015103\n",
      "Recall: 0.5554435483870968\n",
      "Precision: 0.29703504043126683\n"
     ]
    }
   ],
   "source": [
    "run_classification(data, target_col, smote = 'rus')"
   ]
  },
  {
   "cell_type": "markdown",
   "metadata": {},
   "source": [
    "## Cardio"
   ]
  },
  {
   "cell_type": "code",
   "execution_count": 217,
   "metadata": {},
   "outputs": [
    {
     "name": "stdout",
     "output_type": "stream",
     "text": [
      "(70000, 12)\n",
      "['gender', 'cholesterol', 'gluc', 'smoke', 'alco', 'active', 'NEW_AGE', 'NEW_BMI', 'BLOOD_PRESSURE']\n",
      "(70000, 20)\n",
      "(70000, 12)\n",
      "(20000, 12)\n",
      "11\n",
      "1.0    10011\n",
      "0.0     9989\n",
      "Name: count, dtype: int64\n"
     ]
    },
    {
     "data": {
      "text/plain": [
       "11    1.000000\n",
       "1     0.379952\n",
       "0     0.213286\n",
       "3     0.117494\n",
       "4     0.114157\n",
       "2     0.066563\n",
       "6     0.042887\n",
       "8     0.035302\n",
       "10    0.021419\n",
       "9     0.016133\n",
       "5     0.004565\n",
       "7     0.001489\n",
       "dtype: float64"
      ]
     },
     "execution_count": 217,
     "metadata": {},
     "output_type": "execute_result"
    }
   ],
   "source": [
    "data = pd.read_csv(\"./data/cardio/cardio_train.csv\", sep=\";\")\n",
    "data = data.drop(\"id\", axis=1)\n",
    "print(data.shape)\n",
    "target_col = \"cardio\"\n",
    "data = move_target_to_end(data, target_col)\n",
    "data[\"age\"] = round(data[\"age\"] / 365)\n",
    "\n",
    "# outliers\n",
    "def outlier_thresholds(dataframe, col_name, q1=0.10, q3=0.90):\n",
    "    quartile1 = dataframe[col_name].quantile(q1)\n",
    "    quartile3 = dataframe[col_name].quantile(q3)\n",
    "    interquantile_range = quartile3 - quartile1\n",
    "    up_limit = quartile3 + 1.5 * interquantile_range\n",
    "    low_limit = quartile1 - 1.5 * interquantile_range\n",
    "    return low_limit, up_limit\n",
    "\n",
    "def check_outlier(dataframe, col_name, q1=0.10, q3=0.90):\n",
    "    low_limit, up_limit = outlier_thresholds(dataframe, col_name, q1, q3)\n",
    "    if dataframe[(dataframe[col_name] > up_limit) | (dataframe[col_name] < low_limit)].any(axis=None):\n",
    "        return True\n",
    "    else:\n",
    "        return False\n",
    "\n",
    "def replace_with_thresholds(dataframe, variable):\n",
    "    low_limit, up_limit = outlier_thresholds(dataframe, variable)\n",
    "    dataframe.loc[(dataframe[variable] < low_limit), variable] = low_limit\n",
    "    dataframe.loc[(dataframe[variable] > up_limit), variable] = up_limit\n",
    "    \n",
    "num_cols = ['age', 'height', 'weight', 'ap_hi', 'ap_lo']\n",
    "cat_cols = [col for col in data.columns if col not in num_cols and col != target_col]\n",
    "\n",
    "for col in num_cols:\n",
    "    replace_with_thresholds(data, col)\n",
    "\n",
    "# feature engineering\n",
    "data.loc[(data[\"age\"] < 18), \"NEW_AGE\"] = \"Young\"\n",
    "data.loc[(data[\"age\"] > 18) & (data[\"age\"] < 56), \"NEW_AGE\"] = \"Mature\"\n",
    "data.loc[(data[\"age\"] >= 56), \"NEW_AGE\"] = \"Old\"\n",
    "\n",
    "cols1 = data[\"weight\"]\n",
    "cols2 = data[\"height\"] / 100\n",
    "data[\"bmi\"] = cols1 / (cols2 ** 2)\n",
    "data.loc[(data[\"bmi\"] < 18.5), \"NEW_BMI\"] = \"under\"\n",
    "data.loc[(data[\"bmi\"] >= 18.5) & (data[\"bmi\"] <= 24.99) ,\"NEW_BMI\"] = \"healthy\"\n",
    "data.loc[(data[\"bmi\"] >= 25) & (data[\"bmi\"] <= 29.99) ,\"NEW_BMI\"]= \"over\"\n",
    "data.loc[(data[\"bmi\"] >= 30), \"NEW_BMI\"] = \"obese\"\n",
    "\n",
    "data.loc[(data[\"ap_lo\"])<=89, \"BLOOD_PRESSURE\"] = \"normal\"\n",
    "data.loc[(data[\"ap_lo\"])>=90, \"BLOOD_PRESSURE\"] = \"hyper\"\n",
    "data.loc[(data[\"ap_hi\"])<=120, \"BLOOD_PRESSURE\"] = \"normal\"\n",
    "data.loc[(data[\"ap_hi\"])>120, \"BLOOD_PRESSURE\"] = \"normal\"\n",
    "data.loc[(data[\"ap_hi\"])>=140, \"BLOOD_PRESSURE\"] = \"hyper\"\n",
    "\n",
    "#encoding\n",
    "rs = RobustScaler()\n",
    "data[num_cols] = rs.fit_transform(data[num_cols])\n",
    "\n",
    "def one_hot_encoder(dataframe, categorical_cols, drop_first=False):\n",
    "    dataframe = pd.get_dummies(dataframe, columns=categorical_cols, drop_first=drop_first)\n",
    "    return dataframe\n",
    "\n",
    "ohe_cols = [col for col in data.columns if 10 >= len(data[col].unique()) >= 2 and col != target_col]\n",
    "print(ohe_cols)\n",
    "data = one_hot_encoder(data, ohe_cols, drop_first=True)\n",
    "print(data.shape)\n",
    "\n",
    "# pca\n",
    "data = move_target_to_end(data, target_col)\n",
    "pca = PCA(n_components=0.99)\n",
    "X = pca.fit_transform(data.iloc[:, :-1].values)\n",
    "data  = pd.DataFrame(np.concatenate((X, data.iloc[:, -1:].values), axis=1))\n",
    "print(data.shape)\n",
    "target_col = data.columns[-1]\n",
    "\n",
    "# scaling\n",
    "data = convert_gaussian(data, target_col)\n",
    "data = normalization(data, target_col)\n",
    "\n",
    "if data.shape[0] > 20000:\n",
    "    data = data.sample(n = 20000, random_state=42)\n",
    "\n",
    "correlation_ret = data.corrwith(data[target_col], method=correlation_ratio).sort_values(ascending=False)\n",
    "important_features = correlation_ret[correlation_ret >= threshold].index.tolist()\n",
    "important_features.remove(target_col)\n",
    "\n",
    "data_config = {\n",
    "    'target': target_col,\n",
    "    'important_features_idx': [data.columns.tolist().index(feature) for feature in important_features],\n",
    "    'features_idx': [idx for idx in range(0, data.shape[1]) if data.columns[idx] != target_col],\n",
    "    \"num_cols\": data.shape[1] - 1,\n",
    "    'task_type': 'classification',\n",
    "    'clf_type': 'multi-class',\n",
    "    'data_type': 'tabular'\n",
    "}\n",
    "\n",
    "print(data.shape)\n",
    "print(data[target_col].value_counts())\n",
    "correlation_ret"
   ]
  },
  {
   "cell_type": "code",
   "execution_count": 218,
   "metadata": {},
   "outputs": [
    {
     "name": "stdout",
     "output_type": "stream",
     "text": [
      "X_train shape: (16000, 11)\n",
      "Accuracy: 0.72875\n",
      "F1: 0.7287541875163558\n",
      "Recall: 0.72875\n",
      "Precision: 0.728773769740982\n",
      "Accuracy: 0.72075\n",
      "F1: 0.7202191272347264\n",
      "Recall: 0.72075\n",
      "Precision: 0.7229938214454417\n"
     ]
    }
   ],
   "source": [
    "run_classification(data, target_col)"
   ]
  },
  {
   "attachments": {},
   "cell_type": "markdown",
   "metadata": {},
   "source": [
    "## MIMIC III"
   ]
  },
  {
   "cell_type": "code",
   "execution_count": 15,
   "metadata": {},
   "outputs": [],
   "source": [
    "def icd_group(x):\n",
    "    if isinstance(x, str) and (x[0] == 'V'  or x[0] == 'E'):\n",
    "        if x[0] == 'V':\n",
    "            return 19\n",
    "        elif x[0] == 'E':\n",
    "            return 20\n",
    "    else:\n",
    "        icd_int = int(x[0:3])\n",
    "        if icd_int < 140:\n",
    "            return 1\n",
    "        elif icd_int < 240:\n",
    "            return 2\n",
    "        elif icd_int < 280:\n",
    "            return 3\n",
    "        elif icd_int < 290:\n",
    "            return 4\n",
    "        elif icd_int < 320:\n",
    "            return 5\n",
    "        elif icd_int < 390:\n",
    "            return 6\n",
    "        elif icd_int < 460:\n",
    "            return 7\n",
    "        elif icd_int < 520:\n",
    "            return 8\n",
    "        elif icd_int < 580:\n",
    "            return 9\n",
    "        elif icd_int < 630:\n",
    "            return 10\n",
    "        elif icd_int < 680:\n",
    "            return 11\n",
    "        elif icd_int < 710:\n",
    "            return 12\n",
    "        elif icd_int < 740:\n",
    "            return 13\n",
    "        elif icd_int < 780:\n",
    "            return 14\n",
    "        elif icd_int < 790:\n",
    "            return 15\n",
    "        elif icd_int < 797:\n",
    "            return 16\n",
    "        elif icd_int < 800:\n",
    "            return 17\n",
    "        else:\n",
    "            return 18\n",
    "\n",
    "def convert_df(df):\n",
    "    df['PAID'] = df['SUBJECT_ID'].astype(str) + '_' + df['HADM_ID'].astype(str)\n",
    "    df = df[['PAID', 'ITEMID']]\n",
    "    counts = df.groupby(['PAID', 'ITEMID']).size().reset_index(name='occurrence')\n",
    "    df = pd.pivot_table(counts, index='PAID', columns='ITEMID', values='occurrence', fill_value=0)\n",
    "    df = df.reset_index()\n",
    "    return df.copy()\n",
    "\n",
    "def convert_pca(df, n_components=20, prefix='patient'):\n",
    "    df_pca = df.drop('PAID', axis = 1)\n",
    "    pca = PCA(n_components=n_components)\n",
    "    pca.fit(df_pca)\n",
    "    df_pca = pca.transform(df_pca)\n",
    "    df_pca = pd.DataFrame(df_pca)\n",
    "    df_pca.columns = [prefix + str(i) for i in range(df_pca.shape[1])]\n",
    "    df_pca = pd.concat([df['PAID'], df_pca], axis = 1)\n",
    "    return df_pca.copy()"
   ]
  },
  {
   "cell_type": "code",
   "execution_count": 16,
   "metadata": {},
   "outputs": [
    {
     "name": "stdout",
     "output_type": "stream",
     "text": [
      "(46491, 89)\n",
      "(46491, 3060)\n",
      "(46491, 21)\n",
      "(46491, 117)\n",
      "(46491, 279)\n",
      "(46491, 52)\n",
      "(20000, 51)\n"
     ]
    }
   ],
   "source": [
    "###########################################################################################################################\n",
    "# patient informatin\n",
    "df_patient = pd.read_csv('data/mimiciii/PATIENTS.csv').set_index('ROW_ID')\n",
    "df_admissions = pd.read_csv('data/mimiciii/ADMISSIONS.csv').set_index('ROW_ID')\n",
    "df_patient_admission = df_patient.merge(df_admissions, on='SUBJECT_ID', how='inner')\n",
    "df_patient_admission = df_patient_admission.drop([\n",
    "    'DOD_HOSP', 'DOD_SSN', 'DEATHTIME', 'HOSPITAL_EXPIRE_FLAG'], axis=1)\n",
    "df_patient_admission['PAID'] = df_patient_admission['SUBJECT_ID'].astype(str) + '_' + df_patient_admission['HADM_ID'].astype(str)\n",
    "df_patient_admission['ADMITTIME'] = pd.to_datetime(df_patient_admission['ADMITTIME'])\n",
    "df_patient_admission['DISCHTIME'] = pd.to_datetime(df_patient_admission['DISCHTIME'])\n",
    "df_patient_admission['EDREGTIME'] = pd.to_datetime(df_patient_admission['EDREGTIME'])\n",
    "df_patient_admission['EDOUTTIME'] = pd.to_datetime(df_patient_admission['EDOUTTIME'])\n",
    "df_patient_admission['DOB'] = pd.to_datetime(df_patient_admission['DOB'])\n",
    "df_patient_admission['DOD'] = pd.to_datetime(df_patient_admission['DOD'])\n",
    "admission_count = df_patient_admission.groupby('SUBJECT_ID')['HADM_ID'].count()\n",
    "df_patient_admission['ADMISSION_COUNT'] = df_patient_admission['SUBJECT_ID'].map(admission_count)\n",
    "\n",
    "# admission time\n",
    "def update_admission_time(row):\n",
    "    if pd.isna(row['EDREGTIME']):\n",
    "        return row['ADMITTIME']\n",
    "    else:\n",
    "        if (row['ADMITTIME'] - row['EDREGTIME']) > np.timedelta64(0, 's'):\n",
    "            return row['EDREGTIME']\n",
    "        else:\n",
    "            return row['ADMITTIME']\n",
    "\n",
    "def update_disch_time(row):\n",
    "    if pd.isna(row['EDOUTTIME']):\n",
    "        return row['DISCHTIME']\n",
    "    else:\n",
    "        if (row['DISCHTIME'] - row['EDOUTTIME']) > np.timedelta64(0, 's'):\n",
    "            return row['DISCHTIME']\n",
    "        else:\n",
    "            return row['EDOUTTIME']\n",
    "\n",
    "df_patient_admission['ADMITTIME_NEW'] = df_patient_admission.apply(lambda x: update_admission_time(x), axis=1)\n",
    "df_patient_admission['DISCHTIME_NEW'] = df_patient_admission.apply(lambda x: update_disch_time(x), axis=1)\n",
    "length_of_stay = ((df_patient_admission['DISCHTIME_NEW'] - df_patient_admission['ADMITTIME_NEW'])/np.timedelta64(1, 's'))\n",
    "df_patient_admission['LENGTH_OF_STAY'] = length_of_stay\n",
    "df_patient_admission = df_patient_admission[df_patient_admission['LENGTH_OF_STAY'] > 0]\n",
    "\n",
    "# mortality and only consider last time admission\n",
    "mortality = (df_patient_admission['DOD'] - df_patient_admission['DISCHTIME_NEW'])/np.timedelta64(1, 'D')\n",
    "df_patient_admission['mortality'] = mortality < 365*2\n",
    "df_patient_admission = df_patient_admission.loc[df_patient_admission.groupby('SUBJECT_ID')['ADMITTIME_NEW'].idxmax()].copy()\n",
    "\n",
    "# feature engineering\n",
    "age = (df_patient_admission['ADMITTIME_NEW'].dt.year - df_patient_admission['DOB'].dt.year)\n",
    "age[age >= 90] = 90\n",
    "\n",
    "df_patient_admission['AGE'] = age\n",
    "df_patient_admission['AGE_IND'] = df_patient_admission['AGE'].apply(lambda x: 1 if x >= 65 else 0)\n",
    "df_patient_admission['GENDER'] = df_patient_admission['GENDER'].apply(lambda x: 1 if x == 'M' else 0)\n",
    "df_patient_admission.fillna('None', inplace=True)\n",
    "\n",
    "cat_cols = [\n",
    "    'ADMISSION_TYPE', 'ADMISSION_LOCATION', 'DISCHARGE_LOCATION', 'INSURANCE', 'LANGUAGE', 'RELIGION', 'MARITAL_STATUS',\n",
    "    'ETHNICITY'\n",
    "]\n",
    "\n",
    "drop_cols = ['SUBJECT_ID', 'HADM_ID', 'ADMITTIME', 'DISCHTIME', 'EDREGTIME', 'EDOUTTIME', 'DIAGNOSIS', 'DOB', 'DOD', 'EXPIRE_FLAG']\n",
    "\n",
    "df_patient_admission.drop(columns=drop_cols, inplace=True)\n",
    "df_patient_admission.reset_index(drop=True, inplace=True)\n",
    "\n",
    "# patient information pca\n",
    "df_cat = df_patient_admission[cat_cols]\n",
    "oh = OneHotEncoder(sparse_output=False, drop=\"if_binary\", max_categories=15)\n",
    "oh.fit(df_cat)\n",
    "df_cat = oh.transform(df_cat)\n",
    "df_cat = pd.DataFrame(df_cat, columns = oh.get_feature_names_out())\n",
    "\n",
    "df_num = df_patient_admission[['LENGTH_OF_STAY', 'AGE']].copy()\n",
    "scaler = StandardScaler()\n",
    "num_cols = ['LENGTH_OF_STAY', 'AGE']\n",
    "df_num[num_cols] = scaler.fit_transform(df_num[num_cols])\n",
    "\n",
    "df_patient_info = pd.concat([df_patient_admission['PAID'], df_cat, df_num], axis=1)\n",
    "print(df_patient_info.shape)\n",
    "\n",
    "patient_info_pca = convert_pca(df_patient_info, 10, prefix = 'pa')\n",
    "\n",
    "###############################################################################################################################\n",
    "# Drugs\n",
    "# fetch drugs 48 hours after admission\n",
    "df_pa_date = df_patient_admission[['PAID', 'ADMITTIME_NEW', 'DISCHTIME_NEW']]\n",
    "df_prescriptions = pd.read_csv('data/mimiciii/PRESCRIPTIONS.csv', low_memory = False).set_index('ROW_ID')\n",
    "df_prescriptions['PAID'] = df_prescriptions['SUBJECT_ID'].astype(str) + '_' + df_prescriptions['HADM_ID'].astype(str)\n",
    "df_prescriptions['STARTDATE'] = pd.to_datetime(df_prescriptions['STARTDATE'])\n",
    "df_prescriptions['ENDDATE'] = pd.to_datetime(df_prescriptions['ENDDATE'])\n",
    "df_prescriptions_join = df_prescriptions.merge(df_pa_date, how='left', on='PAID')\n",
    "df_prescriptions_join.dropna(subset=['STARTDATE', 'ENDDATE'], inplace=True)\n",
    "time_diff = (df_prescriptions_join['STARTDATE'] - df_prescriptions_join['ADMITTIME_NEW'])/np.timedelta64(1,'D')\n",
    "df_prescriptions_join_filtered = df_prescriptions_join[(time_diff <= 2)]\n",
    "\n",
    "# get drugs\n",
    "drugs_counts = df_prescriptions_join_filtered.groupby(['PAID', 'DRUG']).size().reset_index(name='occurrence')\n",
    "drugs = pd.pivot_table(drugs_counts, index='PAID', columns='DRUG', values = 'occurrence', fill_value=0)\n",
    "drugs.reset_index(inplace=True)\n",
    "\n",
    "# pca\n",
    "drugs = drugs.merge(df_patient_admission[['PAID']], how='right', on='PAID')\n",
    "drugs.fillna(0, inplace=True)\n",
    "print(drugs.shape)\n",
    "\n",
    "drugs_pca = convert_pca(drugs, 10, prefix = 'drug')\n",
    "\n",
    "###############################################################################################################################\n",
    "# Diagnosis\n",
    "df_diagnosis = pd.read_csv('data/mimiciii/DIAGNOSES_ICD.csv')\n",
    "df_diagnosis['PAID'] = df_diagnosis['SUBJECT_ID'].astype(str) + '_' + df_diagnosis['HADM_ID'].astype(str)\n",
    "df_diagnosis = df_diagnosis[['PAID', 'ICD9_CODE']]\n",
    "df_diagnosis = df_diagnosis.dropna()\n",
    "df_diagnosis['ICD9_GROUP'] = df_diagnosis['ICD9_CODE'].apply(lambda row: icd_group(row))\n",
    "df_diagnosis = df_diagnosis.drop('ICD9_CODE', axis=1)\n",
    "\n",
    "diagnosis_counts = df_diagnosis.groupby(['PAID', 'ICD9_GROUP']).size().reset_index(name='occurrence')\n",
    "diagnosis = pd.pivot_table(diagnosis_counts, index='PAID', columns='ICD9_GROUP', values = 'occurrence', fill_value=0)\n",
    "diagnosis.reset_index(inplace=True)\n",
    "diagnosis = diagnosis.merge(df_patient_admission[['PAID']], how='right', on='PAID')\n",
    "diagnosis.fillna(0, inplace=True)\n",
    "print(diagnosis.shape)\n",
    "\n",
    "diagnosis_pca = convert_pca(diagnosis, 10, prefix = 'diag')\n",
    "diagnosis_pca\n",
    "\n",
    "###############################################################################################################################\n",
    "# Procedure\n",
    "df_procedure = pd.read_csv('data/mimiciii/PROCEDUREEVENTS_MV.csv', low_memory = False).set_index('ROW_ID')\n",
    "procedure = convert_df(df_procedure)\n",
    "procedure = procedure.merge(df_patient_admission[['PAID']], how='right', on='PAID')\n",
    "procedure.fillna(0, inplace=True)\n",
    "print(procedure.shape)\n",
    "\n",
    "procedures_pca = convert_pca(procedure, 10, prefix = 'proc')\n",
    "\n",
    "###############################################################################################################################\n",
    "# Input events\n",
    "df_input = pd.read_csv('data/mimiciii/INPUTEVENTS_MV.csv', low_memory = False).set_index('ROW_ID')\n",
    "inputevents = convert_df(df_input)\n",
    "inputevents = inputevents.merge(df_patient_admission[['PAID']], how='right', on='PAID')\n",
    "inputevents.fillna(0, inplace=True)\n",
    "print(inputevents.shape)\n",
    "\n",
    "inputevents_pca = convert_pca(inputevents, 10, prefix = 'input')\n",
    "\n",
    "###############################################################################################################################\n",
    "# join drugs pca with patient admission\n",
    "df_result = patient_info_pca.copy()\n",
    "df_result = pd.concat([df_result, df_patient_admission['mortality']], axis = 1)\n",
    "df_result = df_result.merge(drugs_pca, on = 'PAID', how = 'left')\n",
    "df_result = df_result.merge(inputevents_pca, on = 'PAID', how = 'left')\n",
    "df_result = df_result.merge(diagnosis_pca, on = 'PAID', how = 'left')\n",
    "df_result = df_result.merge(procedures_pca, on = 'PAID', how = 'left')\n",
    "df_result = df_result.fillna(0)\n",
    "print(df_result.shape)\n",
    "\n",
    "target_col = 'mortality'\n",
    "data = df_result\n",
    "data = data.drop('PAID', axis = 1)\n",
    "data.columns = [str(col) for col in data.columns]\n",
    "data = move_target_to_end(data, target_col)\n",
    "\n",
    "data.columns = [str(col) for col in data.columns]\n",
    "data = convert_gaussian(data, target_col)\n",
    "data = normalization(data, target_col)\n",
    "data = data.sample(n = 20000, random_state = 42)\n",
    "data[target_col] = data[target_col].astype(int)\n",
    "data.reset_index(drop=True, inplace=True)\n",
    "\n",
    "print(data.shape)\n"
   ]
  },
  {
   "cell_type": "code",
   "execution_count": 13,
   "metadata": {},
   "outputs": [
    {
     "data": {
      "text/plain": [
       "mortality\n",
       "0    14556\n",
       "1     5444\n",
       "Name: count, dtype: int64"
      ]
     },
     "execution_count": 13,
     "metadata": {},
     "output_type": "execute_result"
    }
   ],
   "source": [
    "data[target_col].value_counts()"
   ]
  },
  {
   "cell_type": "code",
   "execution_count": 38,
   "metadata": {},
   "outputs": [],
   "source": [
    "data.to_csv('./data/mimiciii/mimic_mo.csv', index=False)"
   ]
  },
  {
   "cell_type": "code",
   "execution_count": 37,
   "metadata": {},
   "outputs": [
    {
     "name": "stdout",
     "output_type": "stream",
     "text": [
      "X_train shape: (16000, 50)\n",
      "Accuracy: 0.85375\n",
      "F1: 0.7254809948381041\n",
      "Recall: 0.7130996309963099\n",
      "Precision: 0.7382999044890163\n",
      "ROC: 0.8095676481456172\n",
      "PRC: 0.6042313894557283\n"
     ]
    }
   ],
   "source": [
    "run_classification(data, target_col, smote = False)"
   ]
  },
  {
   "cell_type": "markdown",
   "metadata": {},
   "source": [
    "## MIMIC ICD"
   ]
  },
  {
   "cell_type": "code",
   "execution_count": 39,
   "metadata": {},
   "outputs": [
    {
     "name": "stdout",
     "output_type": "stream",
     "text": [
      "(58929, 2)\n",
      "(58934, 89)\n",
      "(58934, 3398)\n",
      "(58934, 117)\n",
      "(58934, 279)\n",
      "(58894, 42)\n",
      "(20000, 41)\n"
     ]
    }
   ],
   "source": [
    "df_diagnosis = pd.read_csv('data/mimiciii/DIAGNOSES_ICD.csv')\n",
    "df_diagnosis = df_diagnosis[['SUBJECT_ID', 'HADM_ID', 'ICD9_CODE', 'SEQ_NUM']]\n",
    "df_diagnosis = df_diagnosis.dropna()\n",
    "df_diagnosis['PAID'] = df_diagnosis['SUBJECT_ID'].astype(str) + '_' + df_diagnosis['HADM_ID'].astype(str)\n",
    "df_diagnosis['ICD9_GROUP'] = df_diagnosis['ICD9_CODE'].apply(lambda row: icd_group(row))\n",
    "merged_cats = [16, 17, 11, 12, 13, 20, 13, 15, 4, 10]\n",
    "most_frequent_icd = df_diagnosis.groupby(['PAID'])['ICD9_GROUP'].apply(lambda x: x.mode().iloc[0]).reset_index()\n",
    "most_frequent_icd['ICD9_GROUP'] = most_frequent_icd['ICD9_GROUP'].apply(lambda x: x if x not in merged_cats else 21)\n",
    "most_frequent_icd['ICD9_GROUP'].value_counts()\n",
    "print(most_frequent_icd.shape)\n",
    "\n",
    "###########################################################################################################################\n",
    "# patient informatin\n",
    "df_patient = pd.read_csv('data/mimiciii/PATIENTS.csv').set_index('ROW_ID')\n",
    "df_admissions = pd.read_csv('data/mimiciii/ADMISSIONS.csv').set_index('ROW_ID')\n",
    "df_patient_admission = df_patient.merge(df_admissions, on='SUBJECT_ID', how='inner')\n",
    "df_patient_admission = df_patient_admission.drop([\n",
    "    'DOD_HOSP', 'DOD_SSN', 'DEATHTIME', 'HOSPITAL_EXPIRE_FLAG'], axis=1)\n",
    "df_patient_admission['PAID'] = df_patient_admission['SUBJECT_ID'].astype(str) + '_' + df_patient_admission['HADM_ID'].astype(str)\n",
    "df_patient_admission['ADMITTIME'] = pd.to_datetime(df_patient_admission['ADMITTIME'])\n",
    "df_patient_admission['DISCHTIME'] = pd.to_datetime(df_patient_admission['DISCHTIME'])\n",
    "df_patient_admission['EDREGTIME'] = pd.to_datetime(df_patient_admission['EDREGTIME'])\n",
    "df_patient_admission['EDOUTTIME'] = pd.to_datetime(df_patient_admission['EDOUTTIME'])\n",
    "df_patient_admission['DOB'] = pd.to_datetime(df_patient_admission['DOB'])\n",
    "df_patient_admission['DOD'] = pd.to_datetime(df_patient_admission['DOD'])\n",
    "admission_count = df_patient_admission.groupby('SUBJECT_ID')['HADM_ID'].count()\n",
    "df_patient_admission['ADMISSION_COUNT'] = df_patient_admission['SUBJECT_ID'].map(admission_count)\n",
    "\n",
    "# admission time\n",
    "def update_admission_time(row):\n",
    "    if pd.isna(row['EDREGTIME']):\n",
    "        return row['ADMITTIME']\n",
    "    else:\n",
    "        if (row['ADMITTIME'] - row['EDREGTIME']) > np.timedelta64(0, 's'):\n",
    "            return row['EDREGTIME']\n",
    "        else:\n",
    "            return row['ADMITTIME']\n",
    "\n",
    "def update_disch_time(row):\n",
    "    if pd.isna(row['EDOUTTIME']):\n",
    "        return row['DISCHTIME']\n",
    "    else:\n",
    "        if (row['DISCHTIME'] - row['EDOUTTIME']) > np.timedelta64(0, 's'):\n",
    "            return row['DISCHTIME']\n",
    "        else:\n",
    "            return row['EDOUTTIME']\n",
    "\n",
    "df_patient_admission['ADMITTIME_NEW'] = df_patient_admission.apply(lambda x: update_admission_time(x), axis=1)\n",
    "df_patient_admission['DISCHTIME_NEW'] = df_patient_admission.apply(lambda x: update_disch_time(x), axis=1)\n",
    "length_of_stay = ((df_patient_admission['DISCHTIME_NEW'] - df_patient_admission['ADMITTIME_NEW'])/np.timedelta64(1, 's'))\n",
    "df_patient_admission['LENGTH_OF_STAY'] = length_of_stay\n",
    "df_patient_admission = df_patient_admission[df_patient_admission['LENGTH_OF_STAY'] > 0]\n",
    "\n",
    "# mortality and only consider last time admission\n",
    "mortality = (df_patient_admission['DOD'] - df_patient_admission['DISCHTIME_NEW'])/np.timedelta64(1, 'D')\n",
    "df_patient_admission['mortality'] = mortality < 365*2\n",
    "#df_patient_admission = df_patient_admission.loc[df_patient_admission.groupby('SUBJECT_ID')['ADMITTIME_NEW'].idxmax()].copy()\n",
    "\n",
    "# feature engineering\n",
    "age = (df_patient_admission['ADMITTIME_NEW'].dt.year - df_patient_admission['DOB'].dt.year)\n",
    "age[age >= 90] = 90\n",
    "\n",
    "df_patient_admission['AGE'] = age\n",
    "df_patient_admission['AGE_IND'] = df_patient_admission['AGE'].apply(lambda x: 1 if x >= 65 else 0)\n",
    "df_patient_admission['GENDER'] = df_patient_admission['GENDER'].apply(lambda x: 1 if x == 'M' else 0)\n",
    "df_patient_admission.fillna('None', inplace=True)\n",
    "\n",
    "cat_cols = [\n",
    "    'ADMISSION_TYPE', 'ADMISSION_LOCATION', 'DISCHARGE_LOCATION', 'INSURANCE', 'LANGUAGE', 'RELIGION', 'MARITAL_STATUS',\n",
    "    'ETHNICITY'\n",
    "]\n",
    "\n",
    "drop_cols = ['SUBJECT_ID', 'HADM_ID', 'ADMITTIME', 'DISCHTIME', 'EDREGTIME', 'EDOUTTIME', 'DIAGNOSIS', 'DOB', 'DOD', 'EXPIRE_FLAG']\n",
    "\n",
    "df_patient_admission.drop(columns=drop_cols, inplace=True)\n",
    "df_patient_admission.reset_index(drop=True, inplace=True)\n",
    "\n",
    "# patient information pca\n",
    "df_cat = df_patient_admission[cat_cols]\n",
    "oh = OneHotEncoder(sparse_output=False, drop=\"if_binary\", max_categories=15)\n",
    "oh.fit(df_cat)\n",
    "df_cat = oh.transform(df_cat)\n",
    "df_cat = pd.DataFrame(df_cat, columns = oh.get_feature_names_out())\n",
    "\n",
    "df_num = df_patient_admission[['LENGTH_OF_STAY', 'AGE']].copy()\n",
    "scaler = StandardScaler()\n",
    "num_cols = ['LENGTH_OF_STAY', 'AGE']\n",
    "df_num[num_cols] = scaler.fit_transform(df_num[num_cols])\n",
    "\n",
    "df_patient_info = pd.concat([df_patient_admission['PAID'], df_cat, df_num], axis=1)\n",
    "print(df_patient_info.shape)\n",
    "\n",
    "patient_info_pca = convert_pca(df_patient_info, 10, prefix = 'pa')\n",
    "\n",
    "###############################################################################################################################\n",
    "# Drugs\n",
    "# fetch drugs 48 hours after admission\n",
    "df_pa_date = df_patient_admission[['PAID', 'ADMITTIME_NEW', 'DISCHTIME_NEW']]\n",
    "df_prescriptions = pd.read_csv('data/mimiciii/PRESCRIPTIONS.csv', low_memory = False).set_index('ROW_ID')\n",
    "df_prescriptions['PAID'] = df_prescriptions['SUBJECT_ID'].astype(str) + '_' + df_prescriptions['HADM_ID'].astype(str)\n",
    "df_prescriptions['STARTDATE'] = pd.to_datetime(df_prescriptions['STARTDATE'])\n",
    "df_prescriptions['ENDDATE'] = pd.to_datetime(df_prescriptions['ENDDATE'])\n",
    "df_prescriptions_join = df_prescriptions.merge(df_pa_date, how='left', on='PAID')\n",
    "df_prescriptions_join.dropna(subset=['STARTDATE', 'ENDDATE'], inplace=True)\n",
    "time_diff = (df_prescriptions_join['STARTDATE'] - df_prescriptions_join['ADMITTIME_NEW'])/np.timedelta64(1,'D')\n",
    "df_prescriptions_join_filtered = df_prescriptions_join[(time_diff <= 2)]\n",
    "\n",
    "# get drugs\n",
    "drugs_counts = df_prescriptions_join_filtered.groupby(['PAID', 'DRUG']).size().reset_index(name='occurrence')\n",
    "drugs = pd.pivot_table(drugs_counts, index='PAID', columns='DRUG', values = 'occurrence', fill_value=0)\n",
    "drugs.reset_index(inplace=True)\n",
    "\n",
    "# pca\n",
    "drugs = drugs.merge(df_patient_admission[['PAID']], how='right', on='PAID')\n",
    "drugs.fillna(0, inplace=True)\n",
    "print(drugs.shape)\n",
    "\n",
    "drugs_pca = convert_pca(drugs, 10, prefix = 'drug')\n",
    "\n",
    "###############################################################################################################################\n",
    "# Procedure\n",
    "df_procedure = pd.read_csv('data/mimiciii/PROCEDUREEVENTS_MV.csv', low_memory = False).set_index('ROW_ID')\n",
    "procedure = convert_df(df_procedure)\n",
    "procedure = procedure.merge(df_patient_admission[['PAID']], how='right', on='PAID')\n",
    "procedure.fillna(0, inplace=True)\n",
    "print(procedure.shape)\n",
    "\n",
    "procedures_pca = convert_pca(procedure, 10, prefix = 'proc')\n",
    "\n",
    "###############################################################################################################################\n",
    "# Input events\n",
    "df_input = pd.read_csv('data/mimiciii/INPUTEVENTS_MV.csv', low_memory = False).set_index('ROW_ID')\n",
    "inputevents = convert_df(df_input)\n",
    "inputevents = inputevents.merge(df_patient_admission[['PAID']], how='right', on='PAID')\n",
    "inputevents.fillna(0, inplace=True)\n",
    "print(inputevents.shape)\n",
    "\n",
    "inputevents_pca = convert_pca(inputevents, 10, prefix = 'input')\n",
    "\n",
    "###############################################################################################################################\n",
    "# merge all tables\n",
    "df_result = most_frequent_icd.copy()\n",
    "df_result = df_result.merge(patient_info_pca, on = 'PAID', how = 'inner')\n",
    "df_result = df_result.merge(drugs_pca, on = 'PAID', how = 'inner')\n",
    "df_result = df_result.merge(inputevents_pca, on = 'PAID', how = 'inner')\n",
    "df_result = df_result.merge(procedures_pca, on = 'PAID', how = 'inner')\n",
    "print(df_result.shape)\n",
    "\n",
    "target_col = 'ICD9_GROUP'\n",
    "data = df_result\n",
    "data = data.drop('PAID', axis = 1)\n",
    "data.columns = [str(col) for col in data.columns]\n",
    "data = move_target_to_end(data, target_col)\n",
    "data[target_col] = pd.factorize(data[target_col])[0]\n",
    "\n",
    "data.columns = [str(col) for col in data.columns]\n",
    "data = convert_gaussian(data, target_col)\n",
    "data = normalization(data, target_col)\n",
    "data = data.sample(n = 20000, random_state = 42)\n",
    "data[target_col] = data[target_col].astype(int)\n",
    "data.reset_index(drop=True, inplace=True)\n",
    "\n",
    "print(data.shape)\n"
   ]
  },
  {
   "cell_type": "code",
   "execution_count": null,
   "metadata": {},
   "outputs": [],
   "source": [
    "data = data.to_csv('data/mimiciii/mimic_icd.csv', index=False)"
   ]
  },
  {
   "cell_type": "code",
   "execution_count": 28,
   "metadata": {},
   "outputs": [
    {
     "name": "stdout",
     "output_type": "stream",
     "text": [
      "X_train shape: (16000, 40)\n",
      "Accuracy: 0.56\n",
      "F1: 0.56\n",
      "ROC: 0.9055640170454546\n"
     ]
    }
   ],
   "source": [
    "run_classification(data, target_col)"
   ]
  },
  {
   "cell_type": "markdown",
   "metadata": {},
   "source": [
    "## Genetic"
   ]
  },
  {
   "cell_type": "code",
   "execution_count": 14,
   "metadata": {},
   "outputs": [
    {
     "name": "stdout",
     "output_type": "stream",
     "text": [
      "Index(['CLNDISDBINCL', 'CLNDNINCL', 'CLNSIGINCL', 'SSR', 'DISTANCE',\n",
      "       'MOTIF_NAME', 'MOTIF_POS', 'HIGH_INF_POS', 'MOTIF_SCORE_CHANGE'],\n",
      "      dtype='object')\n",
      "(65188, 217)\n",
      "(65188, 12)\n",
      "(65188, 230)\n",
      "(20000, 33)\n"
     ]
    },
    {
     "data": {
      "text/plain": [
       "CLASS\n",
       "0    15007\n",
       "1     4993\n",
       "Name: count, dtype: int64"
      ]
     },
     "execution_count": 14,
     "metadata": {},
     "output_type": "execute_result"
    }
   ],
   "source": [
    "data = pd.read_csv('data/genetic/clinvar_conflicting.csv', low_memory=False)\n",
    "data.drop([\"CLNHGVS\"],axis = 1, inplace = True)\n",
    "target_col = \"CLASS\"\n",
    "data = move_target_to_end(data,target_col)\n",
    "\n",
    "# value correction\n",
    "def value_correction(df,columns):\n",
    "  \n",
    "  def correction(row):\n",
    "    if pd.isna(row):\n",
    "      return row\n",
    "    else:\n",
    "      if \"/\" in row:\n",
    "        return float(row.split(\"/\")[0])/float(row.split(\"/\")[1])\n",
    "      else:\n",
    "        first_value = row.split(\"-\")[0]\n",
    "        if first_value == \"?\":\n",
    "          first_value = row.split(\"-\")[1]\n",
    "        return first_value\n",
    "\n",
    "  for col in columns:\n",
    "\n",
    "    df[col] = df[col].apply(correction)\n",
    "    df[col] = df[col].astype(float)\n",
    "\n",
    "  return df\n",
    "\n",
    "data = value_correction(data,[\"CDS_position\",\"cDNA_position\",\"Protein_position\", \"INTRON\",\"EXON\"])\n",
    "data.drop([\"CDS_position\",\"cDNA_position\"],axis = 1, inplace = True)\n",
    "data['EXON'] = data[\"EXON\"].fillna(data['INTRON'])\n",
    "data.drop([\"INTRON\"], axis = 1, inplace = True)\n",
    "\n",
    "# drop missing columns \n",
    "ms_ratio_df = data.isnull().sum()/data.shape[0]\n",
    "high_ms_cols = ms_ratio_df[ms_ratio_df>0.95].index\n",
    "print(high_ms_cols)\n",
    "data = data.drop(high_ms_cols,axis=1)\n",
    "\n",
    "# impute missing values\n",
    "ms = data.isnull().sum()/data.shape[0]\n",
    "ms = ms[ms>0].sort_values(ascending=False)\n",
    "\n",
    "cat_missing_cols = [\n",
    "  'PolyPhen', 'SIFT', 'CLNVI', 'BAM_EDIT', 'Amino_acids', 'Codons', 'MC', 'SYMBOL', 'Feature', 'Feature_type', 'BIOTYPE'\n",
    "]\n",
    "\n",
    "num_missing_cols = [ col for col in ms.index if col not in cat_missing_cols]\n",
    "\n",
    "assert len(cat_missing_cols) + len(num_missing_cols) == len(ms)\n",
    "\n",
    "data[cat_missing_cols] = data[cat_missing_cols].fillna(data[cat_missing_cols].mode().iloc[0])\n",
    "data[num_missing_cols] = data[num_missing_cols].fillna(data[num_missing_cols].mean())\n",
    "\n",
    "# drop rows with missing values\n",
    "# data = data.dropna(axis=0)\n",
    "# data = data[data['CHROM'] != 'X']\n",
    "# data['CHROM'] = data['CHROM'].astype(int)\n",
    "\n",
    "# # categorical columns and numerical columns\n",
    "cat_cols = [\n",
    "    'REF', 'ALT', 'CLNDISDB', 'CLNDN', 'CLNVC', 'MC', 'Allele', 'Consequence', 'IMPACT', 'SYMBOL', 'Feature_type',\n",
    "    'Feature', 'BIOTYPE', 'Amino_acids', 'Codons', 'PolyPhen', 'SIFT',  'CLNVI', 'BAM_EDIT', 'CHROM'\n",
    "]\n",
    "\n",
    "num_cols = [col for col in data.columns if col not in cat_cols and col != target_col]\n",
    "# onehot encoding categorical columns\n",
    "assert len(cat_cols) + len(num_cols) + 1 == data.shape[1]\n",
    "\n",
    "oh = OneHotEncoder(sparse_output=False, drop=\"if_binary\", max_categories=15)\n",
    "oh.fit(data[cat_cols])\n",
    "oh_cols = oh.get_feature_names_out()\n",
    "oh_data = oh.transform(data[cat_cols])\n",
    "oh_data = pd.DataFrame(oh_data, columns=oh_cols, index=data.index)\n",
    "\n",
    "print(oh_data.shape)\n",
    "\n",
    "# standardize numerical columns\n",
    "scaler = StandardScaler()\n",
    "scaler.fit(data[num_cols])\n",
    "num_data = scaler.transform(data[num_cols])\n",
    "num_data = pd.DataFrame(num_data, columns=num_cols, index=data.index)\n",
    "print(num_data.shape)\n",
    "\n",
    "# combine categorical and numerical columns\n",
    "data = pd.concat([oh_data, num_data, data[target_col]], axis=1)\n",
    "print(data.shape)\n",
    "\n",
    "# pca\n",
    "pca = PCA(n_components=0.9)\n",
    "pca.fit(data.drop(target_col, axis=1))\n",
    "pca_data = pca.transform(data.drop(target_col, axis=1))\n",
    "pca_data = pd.DataFrame(pca_data, index=data.index)\n",
    "data = pd.concat([pca_data, data[target_col]], axis=1)\n",
    "\n",
    "data = convert_gaussian(data, target_col)\n",
    "data = normalization(data, target_col)\n",
    "\n",
    "sample = False\n",
    "if sample:\n",
    "  data0 = data[data[target_col] == 0]\n",
    "  data1 = data[data[target_col] == 1]\n",
    "  if data0.shape[0] > data1.shape[0]:\n",
    "    data0 = data0.sample(n=data1.shape[0], random_state=0)\n",
    "  else:\n",
    "    data1 = data1.sample(n=data0.shape[0], random_state=0)\n",
    "\n",
    "  data = pd.concat([data0, data1], axis=0)\n",
    "\n",
    "if data.shape[0] > 20000:\n",
    "  data = data.sample(n=20000, random_state=0)\n",
    "\n",
    "print(data.shape)\n",
    "data[target_col].value_counts()"
   ]
  },
  {
   "cell_type": "code",
   "execution_count": 157,
   "metadata": {},
   "outputs": [
    {
     "name": "stdout",
     "output_type": "stream",
     "text": [
      "X_train shape: (16000, 32)\n",
      "Accuracy: 0.66575\n",
      "F1: 0.704660923348796\n",
      "Recall: 0.7735208535402521\n",
      "Precision: 0.6470588235294118\n",
      "ROC: 0.6623022224357608\n",
      "Accuracy: 0.63775\n",
      "F1: 0.6433669702190501\n",
      "Recall: 0.6338506304558681\n",
      "Precision: 0.6531734132933533\n"
     ]
    }
   ],
   "source": [
    "run_classification(data, target_col, smote=False)"
   ]
  },
  {
   "cell_type": "markdown",
   "metadata": {},
   "source": [
    "## Thyroid"
   ]
  },
  {
   "cell_type": "code",
   "execution_count": 177,
   "metadata": {},
   "outputs": [
    {
     "name": "stdout",
     "output_type": "stream",
     "text": [
      "(7200, 22)\n",
      "(7200, 13)\n",
      "(7200, 13)\n"
     ]
    }
   ],
   "source": [
    "data_train = pd.read_csv('data/thyroid/ann-train.data', sep = '\\s+', header = None)\n",
    "data_test = pd.read_csv('data/thyroid/ann-test.data', sep = '\\s+', header = None)\n",
    "data = pd.concat([data_train, data_test])\n",
    "print(data.shape)\n",
    "\n",
    "# pca\n",
    "pca = PCA(n_components = 0.95)\n",
    "data_pca = pca.fit_transform(data.iloc[:, :-1])\n",
    "data_pca = np.concatenate([data_pca, data.iloc[:, -1].values.reshape(-1, 1)], axis = 1)\n",
    "print(data_pca.shape)\n",
    "\n",
    "# preprocessing\n",
    "data_pca = pd.DataFrame(data_pca)\n",
    "target_col = data_pca.columns[-1]\n",
    "data_pca[target_col] = data_pca[target_col].apply(lambda x: 0 if x == 3 else 1)\n",
    "data = data_pca\n",
    "\n",
    "# sample\n",
    "sample = False\n",
    "if sample:\n",
    "    data0 = data[data[target_col] == 0]\n",
    "    data1 = data[data[target_col] == 1]\n",
    "    if data0.shape[0] > data1.shape[0]:\n",
    "        data0 = data0.sample(n=data1.shape[0], random_state=0)\n",
    "    else:\n",
    "        data1 = data1.sample(n=data0.shape[0], random_state=0)\n",
    "\n",
    "    data = pd.concat([data0, data1], axis=0)\n",
    "\n",
    "data = convert_gaussian(data, target_col)\n",
    "data = normalization(data, target_col)\n",
    "\n",
    "print(data.shape)"
   ]
  },
  {
   "cell_type": "code",
   "execution_count": 181,
   "metadata": {},
   "outputs": [
    {
     "name": "stdout",
     "output_type": "stream",
     "text": [
      "X_train shape: (10268, 12)\n",
      "Accuracy: 0.5333333333333333\n",
      "F1: 0.15789473684210528\n",
      "Recall: 0.7159090909090909\n",
      "Precision: 0.08873239436619719\n",
      "ROC: 0.6186793975255513\n",
      "Accuracy: 0.47708333333333336\n",
      "F1: 0.12746234067207418\n",
      "Recall: 0.625\n",
      "Precision: 0.07096774193548387\n"
     ]
    }
   ],
   "source": [
    "run_classification(data, target_col, smote=True)"
   ]
  },
  {
   "attachments": {},
   "cell_type": "markdown",
   "metadata": {},
   "source": [
    "# Regression data"
   ]
  },
  {
   "cell_type": "markdown",
   "metadata": {},
   "source": [
    "## MIMICIII LOS"
   ]
  },
  {
   "cell_type": "code",
   "execution_count": 12,
   "metadata": {},
   "outputs": [
    {
     "name": "stdout",
     "output_type": "stream",
     "text": [
      "(46491, 89)\n",
      "(46491, 3060)\n",
      "(46491, 21)\n",
      "(46491, 117)\n",
      "(46491, 279)\n",
      "(46491, 52)\n",
      "(20000, 51)\n"
     ]
    }
   ],
   "source": [
    "###########################################################################################################################\n",
    "# patient informatin\n",
    "df_patient = pd.read_csv('data/mimiciii/PATIENTS.csv').set_index('ROW_ID')\n",
    "df_admissions = pd.read_csv('data/mimiciii/ADMISSIONS.csv').set_index('ROW_ID')\n",
    "df_patient_admission = df_patient.merge(df_admissions, on='SUBJECT_ID', how='inner')\n",
    "df_patient_admission = df_patient_admission.drop([\n",
    "    'DOD_HOSP', 'DOD_SSN', 'DEATHTIME', 'HOSPITAL_EXPIRE_FLAG'], axis=1)\n",
    "df_patient_admission['PAID'] = df_patient_admission['SUBJECT_ID'].astype(str) + '_' + df_patient_admission['HADM_ID'].astype(str)\n",
    "df_patient_admission['ADMITTIME'] = pd.to_datetime(df_patient_admission['ADMITTIME'])\n",
    "df_patient_admission['DISCHTIME'] = pd.to_datetime(df_patient_admission['DISCHTIME'])\n",
    "df_patient_admission['EDREGTIME'] = pd.to_datetime(df_patient_admission['EDREGTIME'])\n",
    "df_patient_admission['EDOUTTIME'] = pd.to_datetime(df_patient_admission['EDOUTTIME'])\n",
    "df_patient_admission['DOB'] = pd.to_datetime(df_patient_admission['DOB'])\n",
    "df_patient_admission['DOD'] = pd.to_datetime(df_patient_admission['DOD'])\n",
    "admission_count = df_patient_admission.groupby('SUBJECT_ID')['HADM_ID'].count()\n",
    "df_patient_admission['ADMISSION_COUNT'] = df_patient_admission['SUBJECT_ID'].map(admission_count)\n",
    "\n",
    "# admission time\n",
    "def update_admission_time(row):\n",
    "    if pd.isna(row['EDREGTIME']):\n",
    "        return row['ADMITTIME']\n",
    "    else:\n",
    "        if (row['ADMITTIME'] - row['EDREGTIME']) > np.timedelta64(0, 's'):\n",
    "            return row['EDREGTIME']\n",
    "        else:\n",
    "            return row['ADMITTIME']\n",
    "\n",
    "def update_disch_time(row):\n",
    "    if pd.isna(row['EDOUTTIME']):\n",
    "        return row['DISCHTIME']\n",
    "    else:\n",
    "        if (row['DISCHTIME'] - row['EDOUTTIME']) > np.timedelta64(0, 's'):\n",
    "            return row['DISCHTIME']\n",
    "        else:\n",
    "            return row['EDOUTTIME']\n",
    "\n",
    "df_patient_admission['ADMITTIME_NEW'] = df_patient_admission.apply(lambda x: update_admission_time(x), axis=1)\n",
    "df_patient_admission['DISCHTIME_NEW'] = df_patient_admission.apply(lambda x: update_disch_time(x), axis=1)\n",
    "length_of_stay = ((df_patient_admission['DISCHTIME_NEW'] - df_patient_admission['ADMITTIME_NEW'])/np.timedelta64(1, 'D'))\n",
    "df_patient_admission['LENGTH_OF_STAY'] = length_of_stay\n",
    "df_patient_admission = df_patient_admission[df_patient_admission['LENGTH_OF_STAY'] > 0]\n",
    "\n",
    "# mortality and only consider last time admission\n",
    "mortality = (df_patient_admission['DOD'] - df_patient_admission['DISCHTIME_NEW'])/np.timedelta64(1, 'D')\n",
    "df_patient_admission['mortality'] = mortality < 365*2\n",
    "df_patient_admission = df_patient_admission.loc[df_patient_admission.groupby('SUBJECT_ID')['ADMITTIME_NEW'].idxmax()].copy()\n",
    "\n",
    "# feature engineering\n",
    "age = (df_patient_admission['ADMITTIME_NEW'].dt.year - df_patient_admission['DOB'].dt.year)\n",
    "age[age >= 90] = 90\n",
    "\n",
    "df_patient_admission['AGE'] = age\n",
    "df_patient_admission['AGE_IND'] = df_patient_admission['AGE'].apply(lambda x: 1 if x >= 65 else 0)\n",
    "df_patient_admission['GENDER'] = df_patient_admission['GENDER'].apply(lambda x: 1 if x == 'M' else 0)\n",
    "df_patient_admission.fillna('None', inplace=True)\n",
    "\n",
    "cat_cols = [\n",
    "    'ADMISSION_TYPE', 'ADMISSION_LOCATION', 'DISCHARGE_LOCATION', 'INSURANCE', 'LANGUAGE', 'RELIGION', 'MARITAL_STATUS',\n",
    "    'ETHNICITY', 'mortality'\n",
    "]\n",
    "\n",
    "drop_cols = ['SUBJECT_ID', 'HADM_ID', 'ADMITTIME', 'DISCHTIME', 'EDREGTIME', 'EDOUTTIME', 'DIAGNOSIS', 'DOB', 'DOD', 'EXPIRE_FLAG']\n",
    "\n",
    "df_patient_admission.drop(columns=drop_cols, inplace=True)\n",
    "df_patient_admission.reset_index(drop=True, inplace=True)\n",
    "\n",
    "# patient information pca\n",
    "df_cat = df_patient_admission[cat_cols]\n",
    "oh = OneHotEncoder(sparse_output=False, drop=\"if_binary\", max_categories=15)\n",
    "oh.fit(df_cat)\n",
    "df_cat = oh.transform(df_cat)\n",
    "df_cat = pd.DataFrame(df_cat, columns = oh.get_feature_names_out())\n",
    "\n",
    "df_num = df_patient_admission[['AGE']].copy()\n",
    "scaler = StandardScaler()\n",
    "num_cols = ['AGE']\n",
    "df_num[num_cols] = scaler.fit_transform(df_num[num_cols])\n",
    "\n",
    "df_patient_info = pd.concat([df_patient_admission['PAID'], df_cat, df_num], axis=1)\n",
    "print(df_patient_info.shape)\n",
    "\n",
    "patient_info_pca = convert_pca(df_patient_info, 10, prefix = 'pa')\n",
    "\n",
    "###############################################################################################################################\n",
    "# Drugs\n",
    "# fetch drugs 48 hours after admission\n",
    "df_pa_date = df_patient_admission[['PAID', 'ADMITTIME_NEW', 'DISCHTIME_NEW']]\n",
    "df_prescriptions = pd.read_csv('data/mimiciii/PRESCRIPTIONS.csv', low_memory = False).set_index('ROW_ID')\n",
    "df_prescriptions['PAID'] = df_prescriptions['SUBJECT_ID'].astype(str) + '_' + df_prescriptions['HADM_ID'].astype(str)\n",
    "df_prescriptions['STARTDATE'] = pd.to_datetime(df_prescriptions['STARTDATE'])\n",
    "df_prescriptions['ENDDATE'] = pd.to_datetime(df_prescriptions['ENDDATE'])\n",
    "df_prescriptions_join = df_prescriptions.merge(df_pa_date, how='left', on='PAID')\n",
    "df_prescriptions_join.dropna(subset=['STARTDATE', 'ENDDATE'], inplace=True)\n",
    "time_diff = (df_prescriptions_join['STARTDATE'] - df_prescriptions_join['ADMITTIME_NEW'])/np.timedelta64(1,'D')\n",
    "df_prescriptions_join_filtered = df_prescriptions_join[(time_diff <= 2)]\n",
    "\n",
    "# get drugs\n",
    "drugs_counts = df_prescriptions_join_filtered.groupby(['PAID', 'DRUG']).size().reset_index(name='occurrence')\n",
    "drugs = pd.pivot_table(drugs_counts, index='PAID', columns='DRUG', values = 'occurrence', fill_value=0)\n",
    "drugs.reset_index(inplace=True)\n",
    "\n",
    "# pca\n",
    "drugs = drugs.merge(df_patient_admission[['PAID']], how='right', on='PAID')\n",
    "drugs.fillna(0, inplace=True)\n",
    "print(drugs.shape)\n",
    "\n",
    "drugs_pca = convert_pca(drugs, 10, prefix = 'drug')\n",
    "\n",
    "###############################################################################################################################\n",
    "# Diagnosis\n",
    "df_diagnosis = pd.read_csv('data/mimiciii/DIAGNOSES_ICD.csv')\n",
    "df_diagnosis['PAID'] = df_diagnosis['SUBJECT_ID'].astype(str) + '_' + df_diagnosis['HADM_ID'].astype(str)\n",
    "df_diagnosis = df_diagnosis[['PAID', 'ICD9_CODE']]\n",
    "df_diagnosis = df_diagnosis.dropna()\n",
    "df_diagnosis['ICD9_GROUP'] = df_diagnosis['ICD9_CODE'].apply(lambda row: icd_group(row))\n",
    "df_diagnosis = df_diagnosis.drop('ICD9_CODE', axis=1)\n",
    "\n",
    "diagnosis_counts = df_diagnosis.groupby(['PAID', 'ICD9_GROUP']).size().reset_index(name='occurrence')\n",
    "diagnosis = pd.pivot_table(diagnosis_counts, index='PAID', columns='ICD9_GROUP', values = 'occurrence', fill_value=0)\n",
    "diagnosis.reset_index(inplace=True)\n",
    "diagnosis = diagnosis.merge(df_patient_admission[['PAID']], how='right', on='PAID')\n",
    "diagnosis.fillna(0, inplace=True)\n",
    "print(diagnosis.shape)\n",
    "\n",
    "diagnosis_pca = convert_pca(diagnosis, 10, prefix = 'diag')\n",
    "diagnosis_pca\n",
    "\n",
    "###############################################################################################################################\n",
    "# Procedure\n",
    "df_procedure = pd.read_csv('data/mimiciii/PROCEDUREEVENTS_MV.csv', low_memory = False).set_index('ROW_ID')\n",
    "procedure = convert_df(df_procedure)\n",
    "procedure = procedure.merge(df_patient_admission[['PAID']], how='right', on='PAID')\n",
    "procedure.fillna(0, inplace=True)\n",
    "print(procedure.shape)\n",
    "\n",
    "procedures_pca = convert_pca(procedure, 10, prefix = 'proc')\n",
    "\n",
    "###############################################################################################################################\n",
    "# Input events\n",
    "df_input = pd.read_csv('data/mimiciii/INPUTEVENTS_MV.csv', low_memory = False).set_index('ROW_ID')\n",
    "inputevents = convert_df(df_input)\n",
    "inputevents = inputevents.merge(df_patient_admission[['PAID']], how='right', on='PAID')\n",
    "inputevents.fillna(0, inplace=True)\n",
    "print(inputevents.shape)\n",
    "\n",
    "inputevents_pca = convert_pca(inputevents, 10, prefix = 'input')\n",
    "\n",
    "###############################################################################################################################\n",
    "# join drugs pca with patient admission\n",
    "df_result = patient_info_pca.copy()\n",
    "df_result = pd.concat([df_result, df_patient_admission['LENGTH_OF_STAY']], axis = 1)\n",
    "df_result = df_result.merge(drugs_pca, on = 'PAID', how = 'left')\n",
    "df_result = df_result.merge(inputevents_pca, on = 'PAID', how = 'left')\n",
    "df_result = df_result.merge(diagnosis_pca, on = 'PAID', how = 'left')\n",
    "df_result = df_result.merge(procedures_pca, on = 'PAID', how = 'left')\n",
    "df_result = df_result.fillna(0)\n",
    "print(df_result.shape)\n",
    "\n",
    "target_col = 'LENGTH_OF_STAY'\n",
    "data = df_result\n",
    "data = data.drop('PAID', axis = 1)\n",
    "data.columns = [str(col) for col in data.columns]\n",
    "data = move_target_to_end(data, target_col)\n",
    "\n",
    "data.columns = [str(col) for col in data.columns]\n",
    "data = convert_gaussian(data, target_col)\n",
    "data = normalization(data, target_col)\n",
    "data = data.sample(n = 20000, random_state = 42)\n",
    "data.reset_index(drop=True, inplace=True)\n",
    "data[target_col] = np.log(data[target_col])\n",
    "\n",
    "print(data.shape)"
   ]
  },
  {
   "cell_type": "code",
   "execution_count": 18,
   "metadata": {},
   "outputs": [],
   "source": [
    "data[target_col] = np.log(data[target_col])"
   ]
  },
  {
   "cell_type": "code",
   "execution_count": 36,
   "metadata": {},
   "outputs": [],
   "source": [
    "data.to_csv('./data/mimiciii/mimic_los.csv', index=False)"
   ]
  },
  {
   "cell_type": "code",
   "execution_count": 23,
   "metadata": {},
   "outputs": [
    {
     "data": {
      "text/plain": [
       "<Axes: >"
      ]
     },
     "execution_count": 23,
     "metadata": {},
     "output_type": "execute_result"
    },
    {
     "data": {
      "image/png": "[encoded data removed]",
      "text/plain": [
       "<Figure size 640x480 with 1 Axes>"
      ]
     },
     "metadata": {},
     "output_type": "display_data"
    }
   ],
   "source": [
    "data[target_col].hist(bins=100)"
   ]
  },
  {
   "cell_type": "code",
   "execution_count": 28,
   "metadata": {},
   "outputs": [
    {
     "name": "stdout",
     "output_type": "stream",
     "text": [
      "X_train: (16000, 50)\n",
      "RMSE: 0.469866077957173\n",
      "R2: 0.5178261281223758\n"
     ]
    }
   ],
   "source": [
    "y_pred, y_test = run_regression(data, target_col)"
   ]
  },
  {
   "cell_type": "code",
   "execution_count": 35,
   "metadata": {},
   "outputs": [
    {
     "data": {
      "image/png": "[encoded data removed]",
      "text/plain": [
       "<Figure size 640x480 with 1 Axes>"
      ]
     },
     "metadata": {},
     "output_type": "display_data"
    }
   ],
   "source": [
    "import matplotlib.pyplot as plt\n",
    "\n",
    "# Plot the distribution of the data\n",
    "plt.hist(y_pred, bins = 100, alpha = 0.5, label = 'Predicted')\n",
    "plt.hist(y_test, bins = 100, alpha = 0.5, label = 'Actual')\n",
    "plt.legend(loc = 'upper right')\n",
    "plt.show()"
   ]
  },
  {
   "attachments": {},
   "cell_type": "markdown",
   "metadata": {},
   "source": [
    "## Diabetes"
   ]
  },
  {
   "cell_type": "code",
   "execution_count": 146,
   "metadata": {},
   "outputs": [
    {
     "name": "stdout",
     "output_type": "stream",
     "text": [
      "['bmi', 's5', 'bp', 's4', 's3', 's6', 's1', 'age', 's2']\n",
      "(442, 11)\n",
      "Average correlation: 0.34185669222980936 0.5864501344746884\n"
     ]
    },
    {
     "data": {
      "text/plain": [
       "target    1.000000\n",
       "bmi       0.586450\n",
       "s5        0.565883\n",
       "bp        0.441482\n",
       "s4        0.430453\n",
       "s3        0.394789\n",
       "s6        0.382483\n",
       "s1        0.212022\n",
       "age       0.187889\n",
       "s2        0.174054\n",
       "sex       0.043062\n",
       "dtype: float64"
      ]
     },
     "execution_count": 146,
     "metadata": {},
     "output_type": "execute_result"
    }
   ],
   "source": [
    "from sklearn.datasets import load_diabetes\n",
    "normalize = True\n",
    "threshold = 0.15\n",
    "data_obj = load_diabetes(as_frame=True)\n",
    "data = data_obj['frame']\n",
    "data = data.dropna()\n",
    "target_col = 'target'\n",
    "\n",
    "# if normalize:\n",
    "# \tdata = normalization(data, target_col)\n",
    "\n",
    "# # move target to the end of the dataframe\n",
    "data = move_target_to_end(data, target_col)\n",
    "correlation_ret = data.corrwith(data[target_col]).abs().sort_values(ascending=False)\n",
    "# # correlation\n",
    "important_features = correlation_ret[correlation_ret >= threshold].index.tolist()\n",
    "important_features.remove(target_col)\n",
    "print(important_features)\n",
    "print(data.shape)\n",
    "print(\"Average correlation: {} {}\".format(correlation_ret[1:].mean(), correlation_ret[1:].max()))\n",
    "data_config = {\n",
    "\t'target': target_col,\n",
    "\t'important_features_idx': [data.columns.tolist().index(feature) for feature in important_features],\n",
    "    'important_features': important_features,\n",
    "\t'features_idx': [idx for idx in range(0, data.shape[1]) if data.columns[idx] != target_col],\n",
    "\t'num_cols': data.shape[1] - 1,\n",
    "\t'task_type': 'regression',\n",
    "}\n",
    "correlation_ret"
   ]
  },
  {
   "attachments": {},
   "cell_type": "markdown",
   "metadata": {},
   "source": [
    "## California Housing"
   ]
  },
  {
   "cell_type": "code",
   "execution_count": 29,
   "metadata": {},
   "outputs": [
    {
     "name": "stdout",
     "output_type": "stream",
     "text": [
      "['MedInc', 'AveRooms', 'AveOccup', 'Latitude']\n",
      "(1000, 9)\n",
      "Average correlation: 0.19750437151557662 0.6887874432146511\n"
     ]
    },
    {
     "data": {
      "text/plain": [
       "MedHouseVal    1.000000\n",
       "MedInc         0.688787\n",
       "AveRooms       0.263954\n",
       "AveOccup       0.258307\n",
       "Latitude       0.136581\n",
       "HouseAge       0.099851\n",
       "Longitude      0.063320\n",
       "AveBedrms      0.037114\n",
       "Population     0.032120\n",
       "dtype: float64"
      ]
     },
     "execution_count": 29,
     "metadata": {},
     "output_type": "execute_result"
    }
   ],
   "source": [
    "from sklearn.datasets import fetch_california_housing\n",
    "normalize = True\n",
    "threshold = 0.1\n",
    "data_obj = fetch_california_housing(data_home = './data/california_housing', as_frame=True)\n",
    "data = data_obj['frame']\n",
    "sample_size = 1000\n",
    "data = data.sample(sample_size, random_state=42)\n",
    "data = data.dropna()\n",
    "data\n",
    "target_col = 'MedHouseVal'\n",
    "\n",
    "if normalize:\n",
    "\tdata = normalization(data, target_col)\n",
    "\n",
    "# # move target to the end of the dataframe\n",
    "data = move_target_to_end(data, target_col)\n",
    "correlation_ret = data.corrwith(data[target_col]).abs().sort_values(ascending=False)\n",
    "# # correlation\n",
    "important_features = correlation_ret[correlation_ret >= threshold].index.tolist()\n",
    "important_features.remove(target_col)\n",
    "print(important_features)\n",
    "print(data.shape)\n",
    "print(\"Average correlation: {} {}\".format(correlation_ret[1:].mean(), correlation_ret[1:].max()))\n",
    "data_config = {\n",
    "\t'target': target_col,\n",
    "\t'important_features_idx': [data.columns.tolist().index(feature) for feature in important_features],\n",
    "    'important_features': important_features,\n",
    "\t'features_idx': [idx for idx in range(0, data.shape[1]) if data.columns[idx] != target_col],\n",
    "\t'num_cols': data.shape[1] - 1,\n",
    "\t'task_type': 'regression',\n",
    "}\n",
    "correlation_ret"
   ]
  },
  {
   "attachments": {},
   "cell_type": "markdown",
   "metadata": {},
   "source": [
    "## Housing"
   ]
  },
  {
   "cell_type": "code",
   "execution_count": 40,
   "metadata": {},
   "outputs": [
    {
     "name": "stdout",
     "output_type": "stream",
     "text": [
      "['13', '6', '11', '3', '10', '5', '1', '9', '7', '2', '12', '8']\n",
      "(506, 14)\n",
      "Average correlation: 0.42972090018211806 0.7376627261740144\n"
     ]
    },
    {
     "data": {
      "text/plain": [
       "14    1.000000\n",
       "13    0.737663\n",
       "6     0.695360\n",
       "11    0.507787\n",
       "3     0.483725\n",
       "10    0.468536\n",
       "5     0.427321\n",
       "1     0.388305\n",
       "9     0.381626\n",
       "7     0.376955\n",
       "2     0.360445\n",
       "12    0.333461\n",
       "8     0.249929\n",
       "4     0.175260\n",
       "dtype: float64"
      ]
     },
     "execution_count": 40,
     "metadata": {},
     "output_type": "execute_result"
    }
   ],
   "source": [
    "normalize = True\n",
    "threshold = 0.2\n",
    "data = pd.read_csv(\"./data/housing/housing.csv\", delimiter='\\s+', header=None)\n",
    "data.columns = [str(i) for i in range(1, data.shape[1] + 1)]\n",
    "# sample_size = 1000\n",
    "# data = data.sample(sample_size, random_state=42)\n",
    "data = data.dropna()\n",
    "# data\n",
    "target_col = '14'\n",
    "\n",
    "if normalize:\n",
    "\tdata = normalization(data, target_col)\n",
    "\n",
    "# # # move target to the end of the dataframe\n",
    "data = move_target_to_end(data, target_col)\n",
    "data\n",
    "correlation_ret = data.corrwith(data[target_col]).abs().sort_values(ascending=False)\n",
    "# # # correlation\n",
    "important_features = correlation_ret[correlation_ret >= threshold].index.tolist()\n",
    "important_features.remove(target_col)\n",
    "print(important_features)\n",
    "print(data.shape)\n",
    "print(\"Average correlation: {} {}\".format(correlation_ret[1:].mean(), correlation_ret[1:].max()))\n",
    "data_config = {\n",
    "\t'target': target_col,\n",
    "\t'important_features_idx': [data.columns.tolist().index(feature) for feature in important_features],\n",
    "    'important_features': important_features,\n",
    "\t'features_idx': [idx for idx in range(0, data.shape[1]) if data.columns[idx] != target_col],\n",
    "\t'num_cols': data.shape[1] - 1,\n",
    "\t'task_type': 'regression',\n",
    "}\n",
    "correlation_ret"
   ]
  },
  {
   "attachments": {},
   "cell_type": "markdown",
   "metadata": {},
   "source": [
    "## Red Wine Regression"
   ]
  },
  {
   "cell_type": "code",
   "execution_count": 46,
   "metadata": {},
   "outputs": [
    {
     "name": "stdout",
     "output_type": "stream",
     "text": [
      "['alcohol', 'volatile acidity', 'sulphates', 'citric acid', 'total sulfur dioxide', 'density']\n",
      "(1599, 12)\n",
      "6\n",
      "Average correlation: 0.18905368265412123 0.4761663240011358\n",
      "5    0.425891\n",
      "6    0.398999\n",
      "7    0.124453\n",
      "4    0.033146\n",
      "8    0.011257\n",
      "3    0.006254\n",
      "Name: quality, dtype: float64\n"
     ]
    },
    {
     "data": {
      "text/plain": [
       "quality                 1.000000\n",
       "alcohol                 0.476166\n",
       "volatile acidity        0.390558\n",
       "sulphates               0.251397\n",
       "citric acid             0.226373\n",
       "total sulfur dioxide    0.185100\n",
       "density                 0.174919\n",
       "chlorides               0.128907\n",
       "fixed acidity           0.124052\n",
       "pH                      0.057731\n",
       "free sulfur dioxide     0.050656\n",
       "residual sugar          0.013732\n",
       "dtype: float64"
      ]
     },
     "execution_count": 46,
     "metadata": {},
     "output_type": "execute_result"
    }
   ],
   "source": [
    "threshold = 0.15\n",
    "data = pd.read_csv(\"./data/wine/winequality-red.csv\", delimiter=';')\n",
    "\n",
    "# data = data.drop([\"id\", \"Unnamed: 32\"], axis=1)\n",
    "data = data.dropna()\n",
    "#data['target'] = data.apply(lambda row: 0 if row['quality'] <= 5 else 1, axis=1)\n",
    "#data = data.drop('quality', axis=1)\n",
    "\n",
    "target_col = 'quality'\n",
    "if normalize:\n",
    "\tdata = normalization(data, target_col)\n",
    "data = move_target_to_end(data, target_col)\n",
    "\n",
    "# print(\"Wine Red data loaded. Train size {}, Test size {}\".format(train.shape, test.shape))\n",
    "correlation_ret = data.corrwith(data[target_col]).abs().sort_values(ascending=False)\n",
    "important_features = correlation_ret[correlation_ret >= threshold].index.tolist()\n",
    "important_features.remove(target_col)\n",
    "print(important_features)\n",
    "print(data.shape)\n",
    "print(len(data[target_col].unique()))\n",
    "print(\"Average correlation: {} {}\".format(correlation_ret[1:].mean(), correlation_ret[1:].max()))\n",
    "print(data[target_col].value_counts(normalize=True))\n",
    "correlation_ret"
   ]
  },
  {
   "attachments": {},
   "cell_type": "markdown",
   "metadata": {},
   "source": [
    "## White Wine Regression"
   ]
  },
  {
   "cell_type": "code",
   "execution_count": null,
   "metadata": {},
   "outputs": [],
   "source": [
    "threshold = 0.15\n",
    "data = pd.read_csv(\"./data/wine/winequality-white.csv\", delimiter=';')\n",
    "\n",
    "# data = data.drop([\"id\", \"Unnamed: 32\"], axis=1)\n",
    "data = data.dropna()\n",
    "#data['target'] = data.apply(lambda row: 0 if row['quality'] <= 5 else 1, axis=1)\n",
    "#data = data.drop('quality', axis=1)\n",
    "\n",
    "target_col = 'quality'\n",
    "if normalize:\n",
    "\tdata = normalization(data, target_col)\n",
    "data = move_target_to_end(data, target_col)\n",
    "\n",
    "# print(\"Wine Red data loaded. Train size {}, Test size {}\".format(train.shape, test.shape))\n",
    "correlation_ret = data.corrwith(data[target_col]).abs().sort_values(ascending=False)\n",
    "important_features = correlation_ret[correlation_ret >= threshold].index.tolist()\n",
    "important_features.remove(target_col)\n",
    "print(important_features)\n",
    "\n",
    "# data_config = {\n",
    "# \t'target': target_col,\n",
    "# \t'important_features_idx': [data.columns.tolist().index(feature) for feature in important_features],\n",
    "# \t'features_idx': [idx for idx in range(0, data.shape[1]) if data.columns[idx] != target_col],\n",
    "# \t\"num_cols\": data.shape[1] - 1,\n",
    "# \t'task_type': 'classification',\n",
    "# \t'clf_type': 'binary-class'\n",
    "# }\n",
    "\n",
    "# if verbose:\n",
    "# \tprint(\"Data shape {} Test shape {}\".format(data.shape))\n",
    "# \tprint(data_config)\n",
    "print(data.shape)\n",
    "print(len(data[target_col].unique()))\n",
    "print(\"Average correlation: {} {}\".format(correlation_ret[1:].mean(), correlation_ret[1:].max()))\n",
    "print(data[target_col].value_counts(normalize=True))\n",
    "correlation_ret"
   ]
  },
  {
   "attachments": {},
   "cell_type": "markdown",
   "metadata": {},
   "source": [
    "# Synthetic Data"
   ]
  },
  {
   "cell_type": "code",
   "execution_count": 61,
   "metadata": {},
   "outputs": [],
   "source": [
    "from sklearn.datasets import make_blobs, make_circles, make_moons, make_classification, make_gaussian_quantiles, make_hastie_10_2\n",
    "from sklearn.datasets import make_friedman1, make_friedman2, make_friedman3\n",
    "import numpy as np\n",
    "import matplotlib.pyplot as plt"
   ]
  },
  {
   "attachments": {},
   "cell_type": "markdown",
   "metadata": {},
   "source": [
    "## Gaussian"
   ]
  },
  {
   "cell_type": "code",
   "execution_count": 133,
   "metadata": {},
   "outputs": [
    {
     "data": {
      "image/png": "[encoded data removed]",
      "text/plain": [
       "<Figure size 400x400 with 1 Axes>"
      ]
     },
     "metadata": {},
     "output_type": "display_data"
    }
   ],
   "source": [
    "X, y = make_classification(\n",
    "    n_samples=500, n_features=2, n_redundant=0, n_informative=1, random_state=1, flip_y=0.2,\n",
    "    class_sep = 2, n_clusters_per_class=1) \n",
    "\n",
    "red = y == 0\n",
    "green = y == 1\n",
    "fig, ax = plt.subplots(figsize=(4, 4))\n",
    "ax.scatter(X[red, 0], X[red, 1], c=\"r\", marker='o', alpha = 0.8)\n",
    "ax.scatter(X[green, 0], X[green, 1], c=\"g\", marker='o', alpha = 0.8)\n",
    "plt.axis(\"tight\")\n",
    "plt.show()"
   ]
  },
  {
   "attachments": {},
   "cell_type": "markdown",
   "metadata": {},
   "source": [
    "## Circles"
   ]
  },
  {
   "cell_type": "code",
   "execution_count": 91,
   "metadata": {},
   "outputs": [
    {
     "data": {
      "image/png": "[encoded data removed]",
      "text/plain": [
       "<Figure size 400x400 with 1 Axes>"
      ]
     },
     "metadata": {},
     "output_type": "display_data"
    }
   ],
   "source": [
    "X, y = make_circles(n_samples=500, shuffle=True, noise=0.1, random_state=None, factor=0.6)\n",
    "data = np.concatenate((X, y.reshape(-1, 1)), axis=1)\n",
    "data = pd.DataFrame(data)\n",
    "X = (X - X.min())/(X.max() - X.min())\n",
    "red = y == 0\n",
    "green = y == 1\n",
    "fig, ax = plt.subplots(figsize=(4, 4))\n",
    "ax.scatter(X[red, 0], X[red, 1], c=\"r\")\n",
    "ax.scatter(X[green, 0], X[green, 1], c=\"g\")\n",
    "plt.axis(\"tight\")\n",
    "plt.show()"
   ]
  },
  {
   "attachments": {},
   "cell_type": "markdown",
   "metadata": {},
   "source": [
    "## Moon"
   ]
  },
  {
   "cell_type": "code",
   "execution_count": 88,
   "metadata": {},
   "outputs": [
    {
     "data": {
      "image/png": "[encoded data removed]",
      "text/plain": [
       "<Figure size 400x400 with 1 Axes>"
      ]
     },
     "metadata": {},
     "output_type": "display_data"
    }
   ],
   "source": [
    "X, y = make_moons(n_samples=500, shuffle=True, noise=0.1, random_state=None)\n",
    "X = (X - X.min())/(X.max() - X.min())\n",
    "data = np.concatenate((X, y.reshape(-1, 1)), axis=1)\n",
    "data = pd.DataFrame(data)\n",
    "red = y == 0\n",
    "green = y == 1\n",
    "fig, ax = plt.subplots(figsize=(4, 4))\n",
    "ax.scatter(X[red, 0], X[red, 1], c=\"r\")\n",
    "ax.scatter(X[green, 0], X[green, 1], c=\"g\")\n",
    "plt.axis(\"tight\")\n",
    "plt.show()"
   ]
  },
  {
   "attachments": {},
   "cell_type": "markdown",
   "metadata": {},
   "source": [
    "## Ellipse"
   ]
  },
  {
   "cell_type": "code",
   "execution_count": 145,
   "metadata": {},
   "outputs": [
    {
     "data": {
      "image/png": "[encoded data removed]",
      "text/plain": [
       "<Figure size 400x400 with 1 Axes>"
      ]
     },
     "metadata": {},
     "output_type": "display_data"
    }
   ],
   "source": [
    "def gen_ellipse(n_samples, random_state=0):\n",
    "    np.random.seed(random_state)\n",
    "    x1 = np.random.normal(0, 1, n_samples)\n",
    "    x2 = np.random.normal(0, 1, n_samples)\n",
    "    y = x1**2 - x2**2\n",
    "    X = np.array([x1, x2]).T\n",
    "    y = np.where(y > 0, 1, 0)\n",
    "\n",
    "    return X, y\n",
    "\n",
    "X, y = gen_ellipse(500)\n",
    "X = (X - X.min())/(X.max() - X.min())\n",
    "red = y == 0\n",
    "green = y == 1\n",
    "fig, ax = plt.subplots(figsize=(4, 4))\n",
    "ax.scatter(X[red, 0], X[red, 1], c=\"r\")\n",
    "ax.scatter(X[green, 0], X[green, 1], c=\"g\")\n",
    "plt.axis(\"tight\")\n",
    "plt.show()"
   ]
  },
  {
   "attachments": {},
   "cell_type": "markdown",
   "metadata": {},
   "source": [
    "## Regression"
   ]
  }
 ],
 "metadata": {
  "kernelspec": {
   "display_name": "Python 3",
   "language": "python",
   "name": "python3"
  },
  "language_info": {
   "codemirror_mode": {
    "name": "ipython",
    "version": 3
   },
   "file_extension": ".py",
   "mimetype": "text/x-python",
   "name": "python",
   "nbconvert_exporter": "python",
   "pygments_lexer": "ipython3",
   "version": "3.10.10"
  }
 },
 "nbformat": 4,
 "nbformat_minor": 0
}
