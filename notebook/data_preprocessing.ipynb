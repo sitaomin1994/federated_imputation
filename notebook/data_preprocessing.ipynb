{
 "cells": [
  {
   "cell_type": "code",
   "execution_count": 1,
   "metadata": {
    "ExecuteTime": {
     "end_time": "2023-05-18T23:42:19.561277600Z",
     "start_time": "2023-05-18T23:42:19.548508Z"
    },
    "collapsed": false
   },
   "outputs": [
    {
     "name": "stdout",
     "output_type": "stream",
     "text": [
      "m:\\OneDrive\\Projects\\federated_imputation_pc1\n"
     ]
    }
   ],
   "source": [
    "cd .."
   ]
  },
  {
   "cell_type": "code",
   "execution_count": 2,
   "metadata": {
    "ExecuteTime": {
     "end_time": "2023-05-18T23:42:26.443911300Z",
     "start_time": "2023-05-18T23:42:24.788189Z"
    },
    "collapsed": true
   },
   "outputs": [
    {
     "ename": "ModuleNotFoundError",
     "evalue": "No module named 'dython'",
     "output_type": "error",
     "traceback": [
      "\u001b[1;31m---------------------------------------------------------------------------\u001b[0m",
      "\u001b[1;31mModuleNotFoundError\u001b[0m                       Traceback (most recent call last)",
      "Cell \u001b[1;32mIn[2], line 2\u001b[0m\n\u001b[0;32m      1\u001b[0m \u001b[39mimport\u001b[39;00m \u001b[39mpandas\u001b[39;00m \u001b[39mas\u001b[39;00m \u001b[39mpd\u001b[39;00m\n\u001b[1;32m----> 2\u001b[0m \u001b[39mfrom\u001b[39;00m \u001b[39msrc\u001b[39;00m\u001b[39m.\u001b[39;00m\u001b[39mmodules\u001b[39;00m\u001b[39m.\u001b[39;00m\u001b[39mdata_preprocessing\u001b[39;00m \u001b[39mimport\u001b[39;00m normalization, move_target_to_end\n\u001b[0;32m      3\u001b[0m \u001b[39mfrom\u001b[39;00m \u001b[39mdython\u001b[39;00m\u001b[39m.\u001b[39;00m\u001b[39mnominal\u001b[39;00m \u001b[39mimport\u001b[39;00m correlation_ratio\n\u001b[0;32m      4\u001b[0m \u001b[39mfrom\u001b[39;00m \u001b[39msklearn\u001b[39;00m\u001b[39m.\u001b[39;00m\u001b[39mpreprocessing\u001b[39;00m \u001b[39mimport\u001b[39;00m PowerTransformer\n",
      "File \u001b[1;32mm:\\OneDrive\\Projects\\federated_imputation_pc1\\src\\modules\\data_preprocessing.py:4\u001b[0m\n\u001b[0;32m      2\u001b[0m \u001b[39mfrom\u001b[39;00m \u001b[39msklearn\u001b[39;00m\u001b[39m.\u001b[39;00m\u001b[39mdecomposition\u001b[39;00m \u001b[39mimport\u001b[39;00m PCA\n\u001b[0;32m      3\u001b[0m \u001b[39mfrom\u001b[39;00m \u001b[39msklearn\u001b[39;00m\u001b[39m.\u001b[39;00m\u001b[39mpreprocessing\u001b[39;00m \u001b[39mimport\u001b[39;00m MinMaxScaler, OneHotEncoder, PowerTransformer\n\u001b[1;32m----> 4\u001b[0m \u001b[39mfrom\u001b[39;00m \u001b[39mdython\u001b[39;00m\u001b[39m.\u001b[39;00m\u001b[39mnominal\u001b[39;00m \u001b[39mimport\u001b[39;00m correlation_ratio\n\u001b[0;32m      5\u001b[0m \u001b[39mfrom\u001b[39;00m \u001b[39mloguru\u001b[39;00m \u001b[39mimport\u001b[39;00m logger\n\u001b[0;32m      6\u001b[0m \u001b[39mfrom\u001b[39;00m \u001b[39msklearn\u001b[39;00m\u001b[39m.\u001b[39;00m\u001b[39mdatasets\u001b[39;00m \u001b[39mimport\u001b[39;00m fetch_openml\n",
      "\u001b[1;31mModuleNotFoundError\u001b[0m: No module named 'dython'"
     ]
    }
   ],
   "source": [
    "import pandas as pd\n",
    "from src.modules.data_preprocessing import normalization, move_target_to_end\n",
    "from dython.nominal import correlation_ratio\n",
    "from sklearn.preprocessing import PowerTransformer\n",
    "from sklearn.model_selection import train_test_split\n",
    "from sklearn.neural_network import MLPClassifier, MLPRegressor\n",
    "from sklearn.metrics import accuracy_score, f1_score, mean_squared_error, r2_score\n",
    "from sklearn.decomposition import PCA\n",
    "from sklearn.inspection import DecisionBoundaryDisplay\n",
    "from sklearn.linear_model import LogisticRegression\n",
    "import matplotlib.pyplot as plt\n",
    "import seaborn as sns\n"
   ]
  },
  {
   "attachments": {},
   "cell_type": "markdown",
   "metadata": {},
   "source": [
    "# Classification Data"
   ]
  },
  {
   "cell_type": "code",
   "execution_count": 53,
   "metadata": {
    "ExecuteTime": {
     "end_time": "2023-05-18T23:42:35.101421500Z",
     "start_time": "2023-05-18T23:42:35.089891300Z"
    }
   },
   "outputs": [],
   "source": [
    "def convert_gaussian(data, target_col):\n",
    "    for col in data.columns:\n",
    "        if col != target_col:\n",
    "            pt = PowerTransformer()\n",
    "            data[col] = pt.fit_transform(data[col].values.reshape(-1, 1)).flatten()\n",
    "    return data"
   ]
  },
  {
   "cell_type": "code",
   "execution_count": 54,
   "metadata": {
    "ExecuteTime": {
     "end_time": "2023-05-18T23:42:36.421144700Z",
     "start_time": "2023-05-18T23:42:36.404133200Z"
    }
   },
   "outputs": [],
   "source": [
    "def run_regression(data, target_col):\n",
    "\n",
    "    X_train, X_test, y_train, y_test = train_test_split(data.drop(target_col, axis=1), data[target_col], test_size=0.2, random_state=42)\n",
    "\n",
    "    clf = MLPRegressor(hidden_layer_sizes = [64, 64], random_state=42, max_iter=1000).fit(X_train, y_train)\n",
    "    y_pred = clf.predict(X_test)\n",
    "\n",
    "    rmse = mean_squared_error(y_test, y_pred)\n",
    "    r2 = r2_score(y_test, y_pred)\n",
    "\n",
    "    print(\"RMSE: {}\".format(rmse))\n",
    "    print(\"R2: {}\".format(r2))"
   ]
  },
  {
   "cell_type": "code",
   "execution_count": 267,
   "metadata": {},
   "outputs": [],
   "source": [
    "def run_classification(data, target_col):\n",
    "\n",
    "    X_train, X_test, y_train, y_test = train_test_split(data.drop(target_col, axis=1), data[target_col], test_size=0.2, random_state=42)\n",
    "\n",
    "    clf = MLPClassifier(hidden_layer_sizes = [64, 64], random_state=42, max_iter=1000).fit(X_train, y_train)\n",
    "    y_pred = clf.predict(X_test)\n",
    "\n",
    "    accu = clf.score(X_test, y_test)\n",
    "    f1 = f1_score(y_test, y_pred, average='weighted')\n",
    "\n",
    "    print(\"Accuracy: {}\".format(accu))\n",
    "    print(\"F1: {}\".format(f1))\n",
    "\n",
    "    clf = LogisticRegression(random_state=42, max_iter=1000).fit(X_train, y_train)\n",
    "    y_pred = clf.predict(X_test)\n",
    "\n",
    "    accu = clf.score(X_test, y_test)\n",
    "    f1 = f1_score(y_test, y_pred, average='weighted')\n",
    "    print(\"Accuracy: {}\".format(accu))\n",
    "    print(\"F1: {}\".format(f1))"
   ]
  },
  {
   "attachments": {},
   "cell_type": "markdown",
   "metadata": {},
   "source": [
    "## Iris"
   ]
  },
  {
   "cell_type": "code",
   "execution_count": 17,
   "metadata": {},
   "outputs": [
    {
     "name": "stdout",
     "output_type": "stream",
     "text": [
      "['3', '4', '1', '2']\n",
      "(150, 5)\n",
      "3\n",
      "Average correlation: 0.8366399020186166 0.9702159417163926\n",
      "0    0.333333\n",
      "1    0.333333\n",
      "2    0.333333\n",
      "Name: 5, dtype: float64\n"
     ]
    },
    {
     "data": {
      "text/plain": [
       "5    1.000000\n",
       "3    0.970216\n",
       "4    0.963761\n",
       "1    0.786578\n",
       "2    0.626004\n",
       "dtype: float64"
      ]
     },
     "execution_count": 17,
     "metadata": {},
     "output_type": "execute_result"
    }
   ],
   "source": [
    "normalize = True\n",
    "threshold = 0.3\n",
    "data = pd.read_csv(\"./data/iris/iris.csv\", header=None)\n",
    "data = data.dropna()\n",
    "data.columns = [str(i) for i in range(1, data.shape[1] + 1)]\n",
    "data['5'] = data['5'].map({'Iris-setosa': 0, 'Iris-versicolor': 1, 'Iris-virginica': 2})\n",
    "target_col = '5'\n",
    "\n",
    "if normalize:\n",
    "\tdata = normalization(data, target_col)\n",
    "\n",
    "# move target to the end of the dataframe\n",
    "data = move_target_to_end(data, target_col)\n",
    "\n",
    "# correlation\n",
    "correlation_ret = data.corrwith(data[target_col], method=correlation_ratio).sort_values(ascending=False)\n",
    "important_features = correlation_ret[correlation_ret >= threshold].index.tolist()\n",
    "important_features.remove(target_col)\n",
    "print(important_features)\n",
    "print(data.shape)\n",
    "print(len(data[target_col].unique()))\n",
    "print(\"Average correlation: {} {}\".format(correlation_ret[1:].mean(), correlation_ret[1:].max()))\n",
    "print(data[target_col].value_counts(normalize=True))\n",
    "data_config = {\n",
    "\t'target': 'diagnosis',\n",
    "\t'important_features_idx': [data.columns.tolist().index(feature) for feature in important_features],\n",
    "\t'features_idx': [idx for idx in range(0, data.shape[1]) if data.columns[idx] != 'diagnosis'],\n",
    "\t'num_cols': data.shape[1] - 1,\n",
    "\t'task_type': 'classification',\n",
    "\t'clf_type': 'multi-class'\n",
    "}\n",
    "correlation_ret"
   ]
  },
  {
   "cell_type": "markdown",
   "metadata": {
    "collapsed": false
   },
   "source": [
    "## Breast Cancer"
   ]
  },
  {
   "cell_type": "code",
   "execution_count": 10,
   "metadata": {
    "collapsed": false
   },
   "outputs": [
    {
     "name": "stdout",
     "output_type": "stream",
     "text": [
      "['area_mean', 'concavity_mean', 'concavity_worst', 'area_se', 'smoothness_worst', 'symmetry_worst', 'texture_mean', 'smoothness_mean', 'symmetry_mean', 'fractal_dimension_worst']\n",
      "(569, 17)\n",
      "2\n",
      "Average correlation: 0.33159035999547587 0.70898383658539\n",
      "0    0.627417\n",
      "1    0.372583\n",
      "Name: diagnosis, dtype: float64\n"
     ]
    },
    {
     "data": {
      "text/plain": [
       "diagnosis                  1.000000\n",
       "area_mean                  0.708984\n",
       "concavity_mean             0.696360\n",
       "concavity_worst            0.659610\n",
       "area_se                    0.548236\n",
       "smoothness_worst           0.421465\n",
       "symmetry_worst             0.416294\n",
       "texture_mean               0.415185\n",
       "smoothness_mean            0.358560\n",
       "symmetry_mean              0.330499\n",
       "fractal_dimension_worst    0.323872\n",
       "concavity_se               0.253730\n",
       "fractal_dimension_se       0.077972\n",
       "smoothness_se              0.067016\n",
       "fractal_dimension_mean     0.012838\n",
       "texture_se                 0.008303\n",
       "symmetry_se                0.006522\n",
       "dtype: float64"
      ]
     },
     "execution_count": 10,
     "metadata": {},
     "output_type": "execute_result"
    }
   ],
   "source": [
    "normalize = True\n",
    "threshold = 0.3\n",
    "data = pd.read_csv(\"./data/breast/data.csv\", header=0)\n",
    "data = data.drop([\"id\"], axis=1)\n",
    "data = data.dropna()\n",
    "data['diagnosis'] = data['diagnosis'].map({'M': 1, 'B': 0})\n",
    "\n",
    "target_col = 'diagnosis'\n",
    "\n",
    "if normalize:\n",
    "\tdata = normalization(data, target_col)\n",
    "\n",
    "# drop co-linear features\n",
    "drop_list = ['perimeter_mean', 'radius_mean', 'compactness_mean', 'concave points_mean', 'radius_se',\n",
    "\t\t\t 'perimeter_se', 'radius_worst', 'perimeter_worst', 'compactness_worst', 'concave points_worst',\n",
    "\t\t\t 'compactness_se', 'concave points_se', 'texture_worst', 'area_worst']\n",
    "data = data.drop(drop_list, axis=1)  # do not modify x, we will use it later\n",
    "\n",
    "# move target to the end of the dataframe\n",
    "data = move_target_to_end(data, target_col)\n",
    "\n",
    "# correlation\n",
    "correlation_ret = data.corrwith(data[target_col], method=correlation_ratio).sort_values(ascending=False)\n",
    "important_features = correlation_ret[correlation_ret >= threshold].index.tolist()\n",
    "important_features.remove(target_col)\n",
    "print(important_features)\n",
    "print(data.shape)\n",
    "print(len(data[target_col].unique()))\n",
    "print(\"Average correlation: {} {}\".format(correlation_ret[1:].mean(), correlation_ret[1:].max()))\n",
    "print(data[target_col].value_counts(normalize=True))\n",
    "# data_config = {\n",
    "# \t'target': 'diagnosis',\n",
    "# \t'important_features_idx': [data.columns.tolist().index(feature) for feature in important_features],\n",
    "# \t'features_idx': [idx for idx in range(0, data.shape[1]) if data.columns[idx] != 'diagnosis'],\n",
    "# \t'num_cols': data.shape[1] - 1,\n",
    "# \t'task_type': 'classification',\n",
    "# \t'clf_type': 'binary-class'\n",
    "# }\n",
    "correlation_ret"
   ]
  },
  {
   "cell_type": "markdown",
   "metadata": {
    "collapsed": false
   },
   "source": [
    "## Wine Red"
   ]
  },
  {
   "cell_type": "code",
   "execution_count": 20,
   "metadata": {
    "collapsed": false
   },
   "outputs": [
    {
     "name": "stdout",
     "output_type": "stream",
     "text": [
      "5    681\n",
      "6    638\n",
      "7    199\n",
      "4     53\n",
      "8     18\n",
      "3     10\n",
      "Name: quality, dtype: int64\n",
      "['alcohol', 'volatile acidity', 'total sulfur dioxide', 'sulphates', 'citric acid', 'density']\n",
      "(1599, 12)\n",
      "6\n",
      "Average correlation: 0.22335763929061636 0.5163981913679647\n",
      "5    0.425891\n",
      "6    0.398999\n",
      "7    0.124453\n",
      "4    0.033146\n",
      "8    0.011257\n",
      "3    0.006254\n",
      "Name: quality, dtype: float64\n"
     ]
    },
    {
     "data": {
      "text/plain": [
       "quality                 1.000000\n",
       "alcohol                 0.516398\n",
       "volatile acidity        0.400631\n",
       "total sulfur dioxide    0.272119\n",
       "sulphates               0.255621\n",
       "citric acid             0.241260\n",
       "density                 0.200875\n",
       "fixed acidity           0.139067\n",
       "chlorides               0.136353\n",
       "free sulfur dioxide     0.121255\n",
       "pH                      0.115950\n",
       "residual sugar          0.057405\n",
       "dtype: float64"
      ]
     },
     "execution_count": 20,
     "metadata": {},
     "output_type": "execute_result"
    }
   ],
   "source": [
    "threshold = 0.15\n",
    "data = pd.read_csv(\"./data/wine/winequality-red.csv\", delimiter=';')\n",
    "\n",
    "# data = data.drop([\"id\", \"Unnamed: 32\"], axis=1)\n",
    "data = data.dropna()\n",
    "\n",
    "print(data['quality'].value_counts())\n",
    "#data['target'] = data.apply(lambda row: 0 if row['quality'] <= 5 else 1, axis=1)\n",
    "#data = data.drop('quality', axis=1)\n",
    "\n",
    "target_col = 'quality'\n",
    "if normalize:\n",
    "\tdata = normalization(data, target_col)\n",
    "data = move_target_to_end(data, target_col)\n",
    "\n",
    "# print(\"Wine Red data loaded. Train size {}, Test size {}\".format(train.shape, test.shape))\n",
    "correlation_ret = data.corrwith(data[target_col], method=correlation_ratio).sort_values(ascending=False)\n",
    "important_features = correlation_ret[correlation_ret >= threshold].index.tolist()\n",
    "important_features.remove(target_col)\n",
    "print(important_features)\n",
    "\n",
    "# data_config = {\n",
    "# \t'target': target_col,\n",
    "# \t'important_features_idx': [data.columns.tolist().index(feature) for feature in important_features],\n",
    "# \t'features_idx': [idx for idx in range(0, data.shape[1]) if data.columns[idx] != target_col],\n",
    "# \t\"num_cols\": data.shape[1] - 1,\n",
    "# \t'task_type': 'classification',\n",
    "# \t'clf_type': 'binary-class'\n",
    "# }\n",
    "\n",
    "# if verbose:\n",
    "# \tprint(\"Data shape {} Test shape {}\".format(data.shape))\n",
    "# \tprint(data_config)\n",
    "print(data.shape)\n",
    "print(len(data[target_col].unique()))\n",
    "print(\"Average correlation: {} {}\".format(correlation_ret[1:].mean(), correlation_ret[1:].max()))\n",
    "print(data[target_col].value_counts(normalize=True))\n",
    "correlation_ret"
   ]
  },
  {
   "cell_type": "markdown",
   "metadata": {
    "collapsed": false
   },
   "source": [
    "## Wine White"
   ]
  },
  {
   "cell_type": "code",
   "execution_count": 22,
   "metadata": {
    "collapsed": false
   },
   "outputs": [
    {
     "name": "stdout",
     "output_type": "stream",
     "text": [
      "6    2198\n",
      "5    1457\n",
      "7     880\n",
      "8     175\n",
      "4     163\n",
      "3      20\n",
      "9       5\n",
      "Name: quality, dtype: int64\n",
      "['alcohol', 'density', 'volatile acidity', 'total sulfur dioxide', 'chlorides', 'residual sugar', 'free sulfur dioxide']\n",
      "(4898, 12)\n",
      "7\n",
      "Average correlation: 0.20032979867866105 0.4688951098954679\n",
      "6    0.448755\n",
      "5    0.297468\n",
      "7    0.179665\n",
      "8    0.035729\n",
      "4    0.033279\n",
      "3    0.004083\n",
      "9    0.001021\n",
      "Name: quality, dtype: float64\n"
     ]
    },
    {
     "data": {
      "text/plain": [
       "quality                 1.000000\n",
       "alcohol                 0.468895\n",
       "density                 0.339018\n",
       "volatile acidity        0.265695\n",
       "total sulfur dioxide    0.229209\n",
       "chlorides               0.222536\n",
       "residual sugar          0.159467\n",
       "free sulfur dioxide     0.153702\n",
       "fixed acidity           0.124789\n",
       "pH                      0.110645\n",
       "sulphates               0.066696\n",
       "citric acid             0.062975\n",
       "dtype: float64"
      ]
     },
     "execution_count": 22,
     "metadata": {},
     "output_type": "execute_result"
    }
   ],
   "source": [
    "threshold = 0.15\n",
    "data = pd.read_csv(\"./data/wine/winequality-white.csv\", delimiter=';')\n",
    "data = data.dropna()\n",
    "print(data['quality'].value_counts())\n",
    "#data['target'] = data.apply(lambda row: 0 if row['quality'] <= 5 else 1, axis=1)\n",
    "#data = data.drop(['quality'], axis=1)\n",
    "\n",
    "target_col = 'quality'\n",
    "if normalize:\n",
    "\tdata = normalization(data, target_col)\n",
    "data = move_target_to_end(data, target_col)\n",
    "correlation_ret = data.corrwith(data[target_col], method=correlation_ratio).sort_values(ascending=False)\n",
    "important_features = correlation_ret[correlation_ret >= threshold].index.tolist()\n",
    "important_features.remove(target_col)\n",
    "print(important_features)\n",
    "print(data.shape)\n",
    "print(len(data[target_col].unique()))\n",
    "print(\"Average correlation: {} {}\".format(correlation_ret[1:].mean(), correlation_ret[1:].max()))\n",
    "print(data[target_col].value_counts(normalize=True))\n",
    "correlation_ret"
   ]
  },
  {
   "attachments": {},
   "cell_type": "markdown",
   "metadata": {},
   "source": [
    "## Wine all three"
   ]
  },
  {
   "cell_type": "code",
   "execution_count": 6,
   "metadata": {},
   "outputs": [
    {
     "name": "stdout",
     "output_type": "stream",
     "text": [
      "1    3915\n",
      "0    2384\n",
      "2     198\n",
      "Name: quality, dtype: int64\n",
      "['alcohol', 'density', 'volatile acidity', 'chlorides', 'type']\n",
      "(6497, 13)\n",
      "3\n",
      "Average correlation: 0.13679298297333367 0.4143662905490882\n",
      "1    0.602586\n",
      "0    0.366939\n",
      "2    0.030476\n",
      "Name: quality, dtype: float64\n"
     ]
    },
    {
     "data": {
      "text/html": [
       "<div>\n",
       "<style scoped>\n",
       "    .dataframe tbody tr th:only-of-type {\n",
       "        vertical-align: middle;\n",
       "    }\n",
       "\n",
       "    .dataframe tbody tr th {\n",
       "        vertical-align: top;\n",
       "    }\n",
       "\n",
       "    .dataframe thead th {\n",
       "        text-align: right;\n",
       "    }\n",
       "</style>\n",
       "<table border=\"1\" class=\"dataframe\">\n",
       "  <thead>\n",
       "    <tr style=\"text-align: right;\">\n",
       "      <th></th>\n",
       "      <th>fixed acidity</th>\n",
       "      <th>volatile acidity</th>\n",
       "      <th>citric acid</th>\n",
       "      <th>residual sugar</th>\n",
       "      <th>chlorides</th>\n",
       "      <th>free sulfur dioxide</th>\n",
       "      <th>total sulfur dioxide</th>\n",
       "      <th>density</th>\n",
       "      <th>pH</th>\n",
       "      <th>sulphates</th>\n",
       "      <th>alcohol</th>\n",
       "      <th>type</th>\n",
       "      <th>quality</th>\n",
       "    </tr>\n",
       "  </thead>\n",
       "  <tbody>\n",
       "    <tr>\n",
       "      <th>0</th>\n",
       "      <td>0.264463</td>\n",
       "      <td>0.126667</td>\n",
       "      <td>0.216867</td>\n",
       "      <td>0.308282</td>\n",
       "      <td>0.059801</td>\n",
       "      <td>0.152778</td>\n",
       "      <td>0.377880</td>\n",
       "      <td>0.267785</td>\n",
       "      <td>0.217054</td>\n",
       "      <td>0.129213</td>\n",
       "      <td>0.115942</td>\n",
       "      <td>0</td>\n",
       "      <td>1</td>\n",
       "    </tr>\n",
       "    <tr>\n",
       "      <th>1</th>\n",
       "      <td>0.206612</td>\n",
       "      <td>0.146667</td>\n",
       "      <td>0.204819</td>\n",
       "      <td>0.015337</td>\n",
       "      <td>0.066445</td>\n",
       "      <td>0.045139</td>\n",
       "      <td>0.290323</td>\n",
       "      <td>0.132832</td>\n",
       "      <td>0.449612</td>\n",
       "      <td>0.151685</td>\n",
       "      <td>0.217391</td>\n",
       "      <td>0</td>\n",
       "      <td>1</td>\n",
       "    </tr>\n",
       "    <tr>\n",
       "      <th>2</th>\n",
       "      <td>0.355372</td>\n",
       "      <td>0.133333</td>\n",
       "      <td>0.240964</td>\n",
       "      <td>0.096626</td>\n",
       "      <td>0.068106</td>\n",
       "      <td>0.100694</td>\n",
       "      <td>0.209677</td>\n",
       "      <td>0.154039</td>\n",
       "      <td>0.418605</td>\n",
       "      <td>0.123596</td>\n",
       "      <td>0.304348</td>\n",
       "      <td>0</td>\n",
       "      <td>1</td>\n",
       "    </tr>\n",
       "    <tr>\n",
       "      <th>3</th>\n",
       "      <td>0.280992</td>\n",
       "      <td>0.100000</td>\n",
       "      <td>0.192771</td>\n",
       "      <td>0.121166</td>\n",
       "      <td>0.081395</td>\n",
       "      <td>0.159722</td>\n",
       "      <td>0.414747</td>\n",
       "      <td>0.163678</td>\n",
       "      <td>0.364341</td>\n",
       "      <td>0.101124</td>\n",
       "      <td>0.275362</td>\n",
       "      <td>0</td>\n",
       "      <td>1</td>\n",
       "    </tr>\n",
       "    <tr>\n",
       "      <th>4</th>\n",
       "      <td>0.280992</td>\n",
       "      <td>0.100000</td>\n",
       "      <td>0.192771</td>\n",
       "      <td>0.121166</td>\n",
       "      <td>0.081395</td>\n",
       "      <td>0.159722</td>\n",
       "      <td>0.414747</td>\n",
       "      <td>0.163678</td>\n",
       "      <td>0.364341</td>\n",
       "      <td>0.101124</td>\n",
       "      <td>0.275362</td>\n",
       "      <td>0</td>\n",
       "      <td>1</td>\n",
       "    </tr>\n",
       "    <tr>\n",
       "      <th>...</th>\n",
       "      <td>...</td>\n",
       "      <td>...</td>\n",
       "      <td>...</td>\n",
       "      <td>...</td>\n",
       "      <td>...</td>\n",
       "      <td>...</td>\n",
       "      <td>...</td>\n",
       "      <td>...</td>\n",
       "      <td>...</td>\n",
       "      <td>...</td>\n",
       "      <td>...</td>\n",
       "      <td>...</td>\n",
       "      <td>...</td>\n",
       "    </tr>\n",
       "    <tr>\n",
       "      <th>1594</th>\n",
       "      <td>0.198347</td>\n",
       "      <td>0.346667</td>\n",
       "      <td>0.048193</td>\n",
       "      <td>0.021472</td>\n",
       "      <td>0.134551</td>\n",
       "      <td>0.107639</td>\n",
       "      <td>0.087558</td>\n",
       "      <td>0.150183</td>\n",
       "      <td>0.565891</td>\n",
       "      <td>0.202247</td>\n",
       "      <td>0.362319</td>\n",
       "      <td>1</td>\n",
       "      <td>0</td>\n",
       "    </tr>\n",
       "    <tr>\n",
       "      <th>1595</th>\n",
       "      <td>0.173554</td>\n",
       "      <td>0.313333</td>\n",
       "      <td>0.060241</td>\n",
       "      <td>0.024540</td>\n",
       "      <td>0.088040</td>\n",
       "      <td>0.131944</td>\n",
       "      <td>0.103687</td>\n",
       "      <td>0.154425</td>\n",
       "      <td>0.620155</td>\n",
       "      <td>0.303371</td>\n",
       "      <td>0.463768</td>\n",
       "      <td>1</td>\n",
       "      <td>1</td>\n",
       "    </tr>\n",
       "    <tr>\n",
       "      <th>1596</th>\n",
       "      <td>0.206612</td>\n",
       "      <td>0.286667</td>\n",
       "      <td>0.078313</td>\n",
       "      <td>0.026074</td>\n",
       "      <td>0.111296</td>\n",
       "      <td>0.097222</td>\n",
       "      <td>0.078341</td>\n",
       "      <td>0.166377</td>\n",
       "      <td>0.542636</td>\n",
       "      <td>0.297753</td>\n",
       "      <td>0.434783</td>\n",
       "      <td>1</td>\n",
       "      <td>1</td>\n",
       "    </tr>\n",
       "    <tr>\n",
       "      <th>1597</th>\n",
       "      <td>0.173554</td>\n",
       "      <td>0.376667</td>\n",
       "      <td>0.072289</td>\n",
       "      <td>0.021472</td>\n",
       "      <td>0.109635</td>\n",
       "      <td>0.107639</td>\n",
       "      <td>0.087558</td>\n",
       "      <td>0.161172</td>\n",
       "      <td>0.658915</td>\n",
       "      <td>0.275281</td>\n",
       "      <td>0.318841</td>\n",
       "      <td>1</td>\n",
       "      <td>0</td>\n",
       "    </tr>\n",
       "    <tr>\n",
       "      <th>1598</th>\n",
       "      <td>0.181818</td>\n",
       "      <td>0.153333</td>\n",
       "      <td>0.283133</td>\n",
       "      <td>0.046012</td>\n",
       "      <td>0.096346</td>\n",
       "      <td>0.059028</td>\n",
       "      <td>0.082949</td>\n",
       "      <td>0.161558</td>\n",
       "      <td>0.519380</td>\n",
       "      <td>0.247191</td>\n",
       "      <td>0.434783</td>\n",
       "      <td>1</td>\n",
       "      <td>1</td>\n",
       "    </tr>\n",
       "  </tbody>\n",
       "</table>\n",
       "<p>6497 rows × 13 columns</p>\n",
       "</div>"
      ],
      "text/plain": [
       "      fixed acidity  volatile acidity  citric acid  residual sugar  chlorides  \\\n",
       "0          0.264463          0.126667     0.216867        0.308282   0.059801   \n",
       "1          0.206612          0.146667     0.204819        0.015337   0.066445   \n",
       "2          0.355372          0.133333     0.240964        0.096626   0.068106   \n",
       "3          0.280992          0.100000     0.192771        0.121166   0.081395   \n",
       "4          0.280992          0.100000     0.192771        0.121166   0.081395   \n",
       "...             ...               ...          ...             ...        ...   \n",
       "1594       0.198347          0.346667     0.048193        0.021472   0.134551   \n",
       "1595       0.173554          0.313333     0.060241        0.024540   0.088040   \n",
       "1596       0.206612          0.286667     0.078313        0.026074   0.111296   \n",
       "1597       0.173554          0.376667     0.072289        0.021472   0.109635   \n",
       "1598       0.181818          0.153333     0.283133        0.046012   0.096346   \n",
       "\n",
       "      free sulfur dioxide  total sulfur dioxide   density        pH  \\\n",
       "0                0.152778              0.377880  0.267785  0.217054   \n",
       "1                0.045139              0.290323  0.132832  0.449612   \n",
       "2                0.100694              0.209677  0.154039  0.418605   \n",
       "3                0.159722              0.414747  0.163678  0.364341   \n",
       "4                0.159722              0.414747  0.163678  0.364341   \n",
       "...                   ...                   ...       ...       ...   \n",
       "1594             0.107639              0.087558  0.150183  0.565891   \n",
       "1595             0.131944              0.103687  0.154425  0.620155   \n",
       "1596             0.097222              0.078341  0.166377  0.542636   \n",
       "1597             0.107639              0.087558  0.161172  0.658915   \n",
       "1598             0.059028              0.082949  0.161558  0.519380   \n",
       "\n",
       "      sulphates   alcohol  type  quality  \n",
       "0      0.129213  0.115942     0        1  \n",
       "1      0.151685  0.217391     0        1  \n",
       "2      0.123596  0.304348     0        1  \n",
       "3      0.101124  0.275362     0        1  \n",
       "4      0.101124  0.275362     0        1  \n",
       "...         ...       ...   ...      ...  \n",
       "1594   0.202247  0.362319     1        0  \n",
       "1595   0.303371  0.463768     1        1  \n",
       "1596   0.297753  0.434783     1        1  \n",
       "1597   0.275281  0.318841     1        0  \n",
       "1598   0.247191  0.434783     1        1  \n",
       "\n",
       "[6497 rows x 13 columns]"
      ]
     },
     "execution_count": 6,
     "metadata": {},
     "output_type": "execute_result"
    }
   ],
   "source": [
    "threshold = 0.1\n",
    "normalize = True\n",
    "# merge data\n",
    "data_white = pd.read_csv(\"./data/wine/winequality-white.csv\", delimiter=';')\n",
    "data_white['type'] = 0\n",
    "data_red = pd.read_csv(\"./data/wine/winequality-red.csv\", delimiter=';')\n",
    "data_red['type'] = 1\n",
    "data = pd.concat([data_white, data_red], axis=0)\n",
    "data = data.dropna()\n",
    "\n",
    "# label\n",
    "data['quality'] = data.apply(lambda row: 0 if row['quality'] <= 5 else 1 if row['quality'] <=7 else 2, axis=1)\n",
    "print(data['quality'].value_counts())\n",
    "target_col = 'quality'\n",
    "data = move_target_to_end(data, target_col)\n",
    "\n",
    "# normalize\n",
    "if normalize:\n",
    "    data = normalization(data, target_col, categorical_cols=['type'])\n",
    "\n",
    "# correlation\n",
    "correlation_ret = data.corrwith(data[target_col], method=correlation_ratio).sort_values(ascending=False)\n",
    "important_features = correlation_ret[correlation_ret >= threshold].index.tolist()\n",
    "important_features.remove(target_col)\n",
    "print(important_features)\n",
    "print(data.shape)\n",
    "print(len(data[target_col].unique()))\n",
    "print(\"Average correlation: {} {}\".format(correlation_ret[1:].mean(), correlation_ret[1:].max()))\n",
    "print(data[target_col].value_counts(normalize=True))\n",
    "correlation_ret\n",
    "data"
   ]
  },
  {
   "cell_type": "markdown",
   "metadata": {
    "collapsed": false
   },
   "source": [
    "## Spambase"
   ]
  },
  {
   "cell_type": "code",
   "execution_count": null,
   "metadata": {
    "collapsed": false
   },
   "outputs": [],
   "source": [
    "threshold = 0.1\n",
    "data = pd.read_csv(\"./data/spambase/spambase.csv\", header=None)\n",
    "\n",
    "# data = data.drop([\"id\", \"Unnamed: 32\"], axis=1)\n",
    "data = data.dropna()\n",
    "data.columns = [str(i) for i in range(1, data.shape[1] + 1)]\n",
    "target_col = '58'\n",
    "\n",
    "# Normalization\n",
    "if normalize:\n",
    "\tdata = normalization(data, target_col)\n",
    "\n",
    "# move target to the end of the dataframe\n",
    "data = move_target_to_end(data, target_col)\n",
    "\n",
    "# split train and test\n",
    "correlation_ret = data.corrwith(data[target_col], method=correlation_ratio).sort_values(ascending=False)\n",
    "important_features = correlation_ret[correlation_ret >= threshold].index.tolist()\n",
    "important_features.remove(target_col)\n",
    "print(important_features)\n",
    "print(data.shape)\n",
    "print(len(data[target_col].unique()))\n",
    "print(\"Average correlation: {} {}\".format(correlation_ret[1:].mean(), correlation_ret[1:].max()))\n",
    "print(data[target_col].value_counts(normalize=True))\n",
    "correlation_ret"
   ]
  },
  {
   "cell_type": "markdown",
   "metadata": {
    "collapsed": false
   },
   "source": [
    "## Block data"
   ]
  },
  {
   "cell_type": "code",
   "execution_count": null,
   "metadata": {
    "collapsed": false
   },
   "outputs": [],
   "source": [
    "threshold = 0.2\n",
    "data = pd.read_csv(\"./data/block/page-blocks.csv\", delimiter='\\s+', header=None)\n",
    "data = data.dropna()\n",
    "data.columns = [str(i) for i in range(1, data.shape[1] + 1)]\n",
    "target_col = '11'\n",
    "data = normalization(data, target_col)\n",
    "data = move_target_to_end(data, target_col)\n",
    "correlation_ret = data.corrwith(data[target_col], method=correlation_ratio).sort_values(ascending=False)\n",
    "important_features = correlation_ret[correlation_ret >= threshold].index.tolist()\n",
    "important_features.remove(target_col)\n",
    "print(important_features)\n",
    "data_config = {\n",
    "\t\t'target': target_col,\n",
    "\t\t'important_features_idx': [data.columns.tolist().index(feature) for feature in important_features],\n",
    "\t\t'features_idx': [idx for idx in range(0, data.shape[1]) if data.columns[idx] != target_col],\n",
    "\t\t\"num_cols\": data.shape[1] - 1,\n",
    "\t\t'task_type': 'classification',\n",
    "\t}\n",
    "print(data.shape)\n",
    "print(len(data[target_col].unique()))\n",
    "print(\"Average correlation: {} {}\".format(correlation_ret[1:].mean(), correlation_ret[1:].max()))\n",
    "print(data[target_col].value_counts(normalize=True))\n",
    "correlation_ret"
   ]
  },
  {
   "cell_type": "markdown",
   "metadata": {
    "collapsed": false
   },
   "source": [
    "## Ecoli"
   ]
  },
  {
   "cell_type": "code",
   "execution_count": 4,
   "metadata": {
    "collapsed": false
   },
   "outputs": [
    {
     "name": "stdout",
     "output_type": "stream",
     "text": [
      "(336, 8)\n",
      "8\n",
      "Average correlation: 0.7634879968279279 0.8914591490774081\n",
      "8\n",
      "0    0.425595\n",
      "1    0.229167\n",
      "7    0.154762\n",
      "4    0.104167\n",
      "5    0.059524\n",
      "6    0.014881\n",
      "2    0.005952\n",
      "3    0.005952\n",
      "Name: proportion, dtype: float64\n"
     ]
    },
    {
     "data": {
      "text/plain": [
       "8    1.000000\n",
       "6    0.891459\n",
       "3    0.836800\n",
       "7    0.816406\n",
       "2    0.754526\n",
       "1    0.726390\n",
       "4    0.706051\n",
       "5    0.612785\n",
       "dtype: float64"
      ]
     },
     "execution_count": 4,
     "metadata": {},
     "output_type": "execute_result"
    }
   ],
   "source": [
    "normalize = True\n",
    "threshold = 0.2\n",
    "data = pd.read_csv(\"./data/ecoli/ecoli.csv\", delimiter='\\s+', header=None)\n",
    "data = data.dropna()\n",
    "data  = data.drop([0], axis=1)\n",
    "data.columns = [str(i) for i in range(1, data.shape[1] + 1)]\n",
    "target_col = '8'\n",
    "if normalize:\n",
    "\tdata = normalization(data, target_col)\n",
    "data[target_col] = data[target_col].map(\n",
    "\t\t{'cp': 0, 'im': 1, 'pp': 2, 'imU': 3, 'om': 4, 'omL': 5, 'imL': 6, 'imS': 7}\n",
    "\t)\n",
    "data = move_target_to_end(data, target_col)\n",
    "data[target_col] = pd.factorize(data[target_col])[0]\n",
    "correlation_ret = data.corrwith(data[target_col], method=correlation_ratio).sort_values(ascending=False)\n",
    "important_features = correlation_ret[correlation_ret >= threshold].index.tolist()\n",
    "important_features.remove(target_col)\n",
    "\n",
    "data_config = {\n",
    "\t'target': target_col,\n",
    "\t'important_features_idx': [data.columns.tolist().index(feature) for feature in important_features],\n",
    "\t'features_idx': [idx for idx in range(0, data.shape[1]) if data.columns[idx] != target_col],\n",
    "\t\"num_cols\": data.shape[1] - 1,\n",
    "\t'task_type': 'classification',\n",
    "}\n",
    "print(data.shape)\n",
    "print(len(data[target_col].unique()))\n",
    "print(\"Average correlation: {} {}\".format(correlation_ret[1:].mean(), correlation_ret[1:].max()))\n",
    "print(data[target_col].value_counts(normalize=True))\n",
    "correlation_ret\n",
    "# if verbose:\n",
    "# \tlogger.debug(\"Important features {}\".format(important_features))\n",
    "# \tlogger.debug(\"Data shape {}\".format(data.shape, data.shape))\n",
    "# \tlogger.debug(data_config)"
   ]
  },
  {
   "cell_type": "code",
   "execution_count": 12,
   "metadata": {},
   "outputs": [
    {
     "data": {
      "text/plain": [
       "0.9970238095238095"
      ]
     },
     "execution_count": 12,
     "metadata": {},
     "output_type": "execute_result"
    }
   ],
   "source": [
    "data['4'].value_counts(normalize=True)[0]"
   ]
  },
  {
   "cell_type": "markdown",
   "metadata": {
    "collapsed": false
   },
   "source": [
    "## Glass Data"
   ]
  },
  {
   "cell_type": "code",
   "execution_count": null,
   "metadata": {
    "collapsed": false
   },
   "outputs": [],
   "source": [
    "normalize = True\n",
    "threshold = 0.15\n",
    "data = pd.read_csv(\"./data/glass/glass.csv\", delimiter=',', header=None)\n",
    "data = data.dropna()\n",
    "data  = data.drop([0], axis=1)\n",
    "data.columns = [str(i) for i in range(1, data.shape[1] + 1)]\n",
    "target_col = '10'\n",
    "if normalize:\n",
    " \tdata = normalization(data, target_col)\n",
    "data = move_target_to_end(data, target_col)\n",
    "data = data[data[target_col] != 6]\n",
    "correlation_ret = data.corrwith(data[target_col], method=correlation_ratio).sort_values(ascending=False)\n",
    "important_features = correlation_ret[correlation_ret >= threshold].index.tolist()\n",
    "important_features.remove(target_col)\n",
    "data_config = {\n",
    "\t'target': target_col,\n",
    "\t'important_features_idx': [data.columns.tolist().index(feature) for feature in important_features],\n",
    "\t'features_idx': [idx for idx in range(0, data.shape[1]) if data.columns[idx] != target_col],\n",
    "\t\"num_cols\": data.shape[1] - 1,\n",
    "\t'task_type': 'classification',\n",
    "}\n",
    "print(data.shape)\n",
    "print(len(data[target_col].unique()))\n",
    "print(\"Average correlation: {} {}\".format(correlation_ret[1:].mean(), correlation_ret[1:].max()))\n",
    "print(data[target_col].value_counts(normalize=True))\n",
    "correlation_ret"
   ]
  },
  {
   "cell_type": "markdown",
   "metadata": {
    "collapsed": false
   },
   "source": [
    "## OptDigits"
   ]
  },
  {
   "cell_type": "code",
   "execution_count": null,
   "metadata": {
    "collapsed": false
   },
   "outputs": [],
   "source": [
    "normalize = True\n",
    "threshold = 0.5\n",
    "data_test = pd.read_csv(\"./data/optdigits/optdigits_test.csv\", delimiter=',', header=None)\n",
    "data_train = pd.read_csv(\"./data/optdigits/optdigits_train.csv\", delimiter=',', header=None)\n",
    "data = pd.concat([data_test, data_train]).reset_index(drop=True)\n",
    "data = data.dropna()\n",
    "data.columns = [str(i) for i in range(1, data.shape[1] + 1)]\n",
    "target_col = '65'\n",
    "if normalize:\n",
    "\tdata = normalization(data, target_col)\n",
    "data = move_target_to_end(data, target_col)\n",
    "correlation_ret = data.corrwith(data[target_col], method=correlation_ratio).sort_values(ascending=False)\n",
    "correlation_ret\n",
    "important_features = correlation_ret[correlation_ret >= threshold].index.tolist()\n",
    "important_features.remove(target_col)\n",
    "data_config = {\n",
    "\t'target': target_col,\n",
    "\t'important_features_idx': [data.columns.tolist().index(feature) for feature in important_features],\n",
    "\t'features_idx': [idx for idx in range(0, data.shape[1]) if data.columns[idx] != target_col],\n",
    "\t\"num_cols\": data.shape[1] - 1,\n",
    "\t'task_type': 'classification',\n",
    "}\n",
    "print(data.shape)\n",
    "print(len(data[target_col].unique()))\n",
    "print(\"Average correlation: {} {}\".format(correlation_ret[1:].mean(), correlation_ret[1:].max()))\n",
    "print(data[target_col].value_counts(normalize=True))\n",
    "correlation_ret"
   ]
  },
  {
   "cell_type": "markdown",
   "metadata": {
    "collapsed": false
   },
   "source": [
    "## Segmentation"
   ]
  },
  {
   "cell_type": "code",
   "execution_count": null,
   "metadata": {
    "collapsed": false
   },
   "outputs": [],
   "source": [
    "normalize = True\n",
    "threshold = 0.5\n",
    "data_test = pd.read_csv(\"./data/segment/segmentation_test.csv\", delimiter=',')\n",
    "data_train = pd.read_csv(\"./data/segment/segmentation.csv\", delimiter=',')\n",
    "data = pd.concat([data_test, data_train]).reset_index(drop=True)\n",
    "data = data.dropna()\n",
    "target_col = 'TARGET'\n",
    "if normalize:\n",
    "\tdata = normalization(data, target_col)\n",
    "data = move_target_to_end(data, target_col)\n",
    "data[target_col].value_counts()\n",
    "data[target_col] = data[target_col].map({\n",
    "\t'BRICKFACE': 0,\n",
    "\t'SKY': 1,\n",
    "\t'FOLIAGE': 2,\n",
    "\t'CEMENT': 3,\n",
    "\t'WINDOW': 4,\n",
    "\t'PATH': 5,\n",
    "\t'GRASS': 6,\n",
    "})\n",
    "data = data.drop([\"REGION-PIXEL-COUNT\"], axis = 1)\n",
    "correlation_ret = data.corrwith(data[target_col], method=correlation_ratio).sort_values(ascending=False)\n",
    "important_features = correlation_ret[correlation_ret >= threshold].index.tolist()\n",
    "important_features.remove(target_col)\n",
    "data_config = {\n",
    "\t'target': target_col,\n",
    "\t'important_features_idx': [data.columns.tolist().index(feature) for feature in important_features],\n",
    "\t'features_idx': [idx for idx in range(0, data.shape[1]) if data.columns[idx] != target_col],\n",
    "\t\"num_cols\": data.shape[1] - 1,\n",
    "\t'task_type': 'classification',\n",
    "}\n",
    "print(important_features)\n",
    "print(data.shape)\n",
    "print(len(data[target_col].unique()))\n",
    "print(\"Average correlation: {} {}\".format(correlation_ret[1:].mean(), correlation_ret[1:].max()))\n",
    "print(data[target_col].value_counts(normalize=True))\n",
    "correlation_ret"
   ]
  },
  {
   "cell_type": "markdown",
   "metadata": {
    "collapsed": false
   },
   "source": [
    "## Sonar"
   ]
  },
  {
   "cell_type": "code",
   "execution_count": null,
   "metadata": {
    "collapsed": false
   },
   "outputs": [],
   "source": [
    "normalize = True\n",
    "threshold = 0.15\n",
    "data = pd.read_csv(\"./data/sonar/sonar.csv\", delimiter=',', header=None)\n",
    "data = data.dropna()\n",
    "data.columns = [str(i) for i in range(1, data.shape[1] + 1)]\n",
    "target_col = '61'\n",
    "if normalize:\n",
    " \tdata = normalization(data, target_col)\n",
    "data = move_target_to_end(data, target_col)\n",
    "data[target_col] = data[target_col].map({\n",
    "\t'R': 0,\n",
    "\t'M': 1,\n",
    "})\n",
    "correlation_ret = data.corrwith(data[target_col], method=correlation_ratio).sort_values(ascending=False)\n",
    "important_features = correlation_ret[correlation_ret >= threshold].index.tolist()\n",
    "important_features.remove(target_col)\n",
    "data_config = {\n",
    "\t'target': target_col,\n",
    "\t'important_features_idx': [data.columns.tolist().index(feature) for feature in important_features],\n",
    "\t'features_idx': [idx for idx in range(0, data.shape[1]) if data.columns[idx] != target_col],\n",
    "\t\"num_cols\": data.shape[1] - 1,\n",
    "\t'task_type': 'classification',\n",
    "}\n",
    "print(important_features)\n",
    "print(data.shape)\n",
    "print(len(data[target_col].unique()))\n",
    "print(\"Average correlation: {} {}\".format(correlation_ret[1:].mean(), correlation_ret[1:].max()))\n",
    "print(data[target_col].value_counts(normalize=True))\n",
    "correlation_ret"
   ]
  },
  {
   "cell_type": "markdown",
   "metadata": {
    "collapsed": false
   },
   "source": [
    "## Sensor"
   ]
  },
  {
   "cell_type": "code",
   "execution_count": 122,
   "metadata": {
    "collapsed": false
   },
   "outputs": [
    {
     "name": "stdout",
     "output_type": "stream",
     "text": [
      "(58509, 49)\n",
      "[1, 2, 3]\n",
      "(58509, 11)\n",
      "11\n",
      "Average correlation: 0.27216658940385624 0.9784887849947083\n",
      "49\n",
      "1     0.090909\n",
      "2     0.090909\n",
      "3     0.090909\n",
      "4     0.090909\n",
      "5     0.090909\n",
      "6     0.090909\n",
      "7     0.090909\n",
      "8     0.090909\n",
      "9     0.090909\n",
      "10    0.090909\n",
      "11    0.090909\n",
      "Name: proportion, dtype: float64\n"
     ]
    },
    {
     "data": {
      "text/plain": [
       "49    1.000000\n",
       "1     0.978489\n",
       "2     0.767892\n",
       "3     0.325555\n",
       "4     0.197333\n",
       "0     0.151313\n",
       "9     0.148325\n",
       "7     0.063658\n",
       "8     0.039029\n",
       "5     0.025545\n",
       "6     0.024528\n",
       "dtype: float64"
      ]
     },
     "execution_count": 122,
     "metadata": {},
     "output_type": "execute_result"
    }
   ],
   "source": [
    "normalize = True\n",
    "threshold = 0.2\n",
    "pca = True\n",
    "data = pd.read_csv(\"./data/sensor/Sensorless_drive_diagnosis.csv\", delimiter='\\s+', header=None)\n",
    "data = data.dropna()\n",
    "data.columns = [str(i) for i in range(1, data.shape[1] + 1)]\n",
    "target_col = '49'\n",
    "print(data.shape)\n",
    "if normalize:\n",
    "\tdata = normalization(data, target_col)\n",
    "\n",
    "if pca:\n",
    "\tpca = PCA(n_components=10)\n",
    "\tpca.fit(data.drop(target_col, axis=1))\n",
    "\tdata = pd.concat([pd.DataFrame(pca.transform(data.drop(target_col, axis=1))), data[target_col]], axis=1)\n",
    "\n",
    "data = move_target_to_end(data, target_col)\n",
    "correlation_ret = data.corrwith(data[target_col], method=correlation_ratio).sort_values(ascending=False)\n",
    "important_features = correlation_ret[correlation_ret >= threshold].index.tolist()\n",
    "important_features.remove(target_col)\n",
    "#data = data[important_features + [target_col]]\n",
    "data_config = {\n",
    "\t'target': target_col,\n",
    "\t'important_features_idx': [data.columns.tolist().index(feature) for feature in important_features],\n",
    "\t'features_idx': [idx for idx in range(0, data.shape[1]) if data.columns[idx] != target_col],\n",
    "\t\"num_cols\": data.shape[1] - 1,\n",
    "\t'task_type': 'classification',\n",
    "}\n",
    "print(important_features)\n",
    "print(data.shape)\n",
    "print(len(data[target_col].unique()))\n",
    "print(\"Average correlation: {} {}\".format(correlation_ret[1:].mean(), correlation_ret[1:].max()))\n",
    "print(data[target_col].value_counts(normalize=True))\n",
    "correlation_ret"
   ]
  },
  {
   "cell_type": "code",
   "execution_count": 123,
   "metadata": {},
   "outputs": [
    {
     "name": "stderr",
     "output_type": "stream",
     "text": [
      "d:\\E\\miniconda\\envs\\fed_imp\\lib\\site-packages\\sklearn\\neural_network\\_multilayer_perceptron.py:693: UserWarning: Training interrupted by user.\n",
      "  warnings.warn(\"Training interrupted by user.\")\n"
     ]
    },
    {
     "name": "stdout",
     "output_type": "stream",
     "text": [
      "Accuracy: 0.9938472056058794\n",
      "F1: 0.9938468024779495\n"
     ]
    }
   ],
   "source": [
    "run_classification(data, target_col=target_col)"
   ]
  },
  {
   "cell_type": "markdown",
   "metadata": {
    "collapsed": false
   },
   "source": [
    "## Waveform"
   ]
  },
  {
   "cell_type": "code",
   "execution_count": null,
   "metadata": {
    "collapsed": false
   },
   "outputs": [],
   "source": [
    "normalize = True\n",
    "threshold = 0.15\n",
    "data = pd.read_csv(\"./data/waveform/waveform-5000.csv\", delimiter=',', header=None)\n",
    "data = data.dropna()\n",
    "data.columns = [str(i) for i in range(1, data.shape[1] + 1)]\n",
    "target_col = '41'\n",
    "if normalize:\n",
    "\tdata = normalization(data, target_col)\n",
    "data = move_target_to_end(data, target_col)\n",
    "data[target_col] = data[target_col].map({'N': 0,'P': 1})\n",
    "correlation_ret = data.corrwith(data[target_col], method=correlation_ratio).sort_values(ascending=False)\n",
    "important_features = correlation_ret[correlation_ret >= threshold].index.tolist()\n",
    "important_features.remove(target_col)\n",
    "data_config = {\n",
    "\t'target': target_col,\n",
    "\t'important_features_idx': [data.columns.tolist().index(feature) for feature in important_features],\n",
    "\t'features_idx': [idx for idx in range(0, data.shape[1]) if data.columns[idx] != target_col],\n",
    "\t\"num_cols\": data.shape[1] - 1,\n",
    "\t'task_type': 'classification',\n",
    "}\n",
    "print(important_features)\n",
    "print(data.shape)\n",
    "print(len(data[target_col].unique()))\n",
    "print(\"Average correlation: {} {}\".format(correlation_ret[1:].mean(), correlation_ret[1:].max()))\n",
    "print(data[target_col].value_counts(normalize=True))\n",
    "correlation_ret\n"
   ]
  },
  {
   "cell_type": "markdown",
   "metadata": {
    "collapsed": false
   },
   "source": [
    "## Yeast"
   ]
  },
  {
   "cell_type": "code",
   "execution_count": 11,
   "metadata": {
    "collapsed": false
   },
   "outputs": [
    {
     "name": "stdout",
     "output_type": "stream",
     "text": [
      "CYT    463\n",
      "NUC    429\n",
      "MIT    244\n",
      "ME3    163\n",
      "ME2     51\n",
      "ME1     44\n",
      "EXC     35\n",
      "VAC     30\n",
      "POX     20\n",
      "ERL      5\n",
      "Name: 9, dtype: int64\n",
      "['3', '6', '1', '2', '4']\n",
      "(1479, 9)\n",
      "9\n",
      "Average correlation: 0.44110086913680074 0.6782641275813955\n",
      "0    0.313049\n",
      "1    0.290061\n",
      "2    0.164976\n",
      "4    0.110210\n",
      "5    0.034483\n",
      "6    0.029750\n",
      "7    0.023665\n",
      "8    0.020284\n",
      "9    0.013523\n",
      "Name: 9, dtype: float64\n"
     ]
    },
    {
     "data": {
      "text/plain": [
       "9    1.000000\n",
       "3    0.678264\n",
       "6    0.644011\n",
       "1    0.609456\n",
       "2    0.545681\n",
       "4    0.489175\n",
       "8    0.343947\n",
       "7    0.163831\n",
       "5    0.054441\n",
       "dtype: float64"
      ]
     },
     "execution_count": 11,
     "metadata": {},
     "output_type": "execute_result"
    }
   ],
   "source": [
    "normalize = True\n",
    "threshold = 0.4\n",
    "data = pd.read_csv(\"./data/yeast/yeast.csv\", delimiter='\\s+', header=None)\n",
    "data = data.drop([0], axis = 1)\n",
    "data = data.dropna()\n",
    "data.columns = [str(i) for i in range(1, data.shape[1] + 1)]\n",
    "target_col = '9'\n",
    "if normalize:\n",
    "\tdata = normalization(data, target_col)\n",
    "data = move_target_to_end(data, target_col)\n",
    "print(data[target_col].value_counts())\n",
    "data[target_col] = data[target_col].map({\n",
    "\t'CYT': 0,\n",
    "\t'NUC': 1,\n",
    "\t'MIT': 2,\n",
    "\t'END': 3,\n",
    "\t'ME3': 4,\n",
    "\t'ME2': 5,\n",
    "\t'ME1': 6,\n",
    "\t'EXC': 7,\n",
    "\t'VAC': 8,\n",
    "\t'POX': 9,\n",
    "\t'ERL': 10,\n",
    "})\n",
    "data = data[data[target_col] != 10]\n",
    "correlation_ret = data.corrwith(data[target_col], method=correlation_ratio).sort_values(ascending=False)\n",
    "important_features = correlation_ret[correlation_ret >= threshold].index.tolist()\n",
    "important_features.remove(target_col)\n",
    "data_config = {\n",
    "\t'target': target_col,\n",
    "\t'important_features_idx': [data.columns.tolist().index(feature) for feature in important_features],\n",
    "\t'features_idx': [idx for idx in range(0, data.shape[1]) if data.columns[idx] != target_col],\n",
    "\t\"num_cols\": data.shape[1] - 1,\n",
    "\t'task_type': 'classification',\n",
    "}\n",
    "print(important_features)\n",
    "print(data.shape)\n",
    "print(len(data[target_col].unique()))\n",
    "print(\"Average correlation: {} {}\".format(correlation_ret[1:].mean(), correlation_ret[1:].max()))\n",
    "print(data[target_col].value_counts(normalize=True))\n",
    "correlation_ret"
   ]
  },
  {
   "cell_type": "markdown",
   "metadata": {
    "collapsed": false
   },
   "source": [
    "## Letter"
   ]
  },
  {
   "cell_type": "code",
   "execution_count": 31,
   "metadata": {
    "ExecuteTime": {
     "end_time": "2023-05-18T23:55:22.199533700Z",
     "start_time": "2023-05-18T23:55:21.888037Z"
    },
    "collapsed": false
   },
   "outputs": [
    {
     "name": "stdout",
     "output_type": "stream",
     "text": [
      "['12', '8', '14', '13', '15', '10', '16', '9', '7', '11', '17', '4', '6', '2']\n",
      "(20000, 17)\n",
      "26\n",
      "Average correlation: 0.538381865210026 0.7785937224191333\n",
      "1\n",
      "20    0.04065\n",
      "3     0.04025\n",
      "15    0.04015\n",
      "19    0.03980\n",
      "12    0.03960\n",
      "0     0.03945\n",
      "23    0.03935\n",
      "24    0.03930\n",
      "13    0.03915\n",
      "16    0.03915\n",
      "5     0.03875\n",
      "6     0.03865\n",
      "4     0.03840\n",
      "1     0.03830\n",
      "21    0.03820\n",
      "11    0.03805\n",
      "17    0.03790\n",
      "8     0.03775\n",
      "14    0.03765\n",
      "22    0.03760\n",
      "18    0.03740\n",
      "9     0.03735\n",
      "10    0.03695\n",
      "2     0.03680\n",
      "7     0.03670\n",
      "25    0.03670\n",
      "Name: proportion, dtype: float64\n"
     ]
    },
    {
     "data": {
      "text/plain": [
       "1     1.000000\n",
       "12    0.778594\n",
       "8     0.771149\n",
       "14    0.746649\n",
       "13    0.731932\n",
       "15    0.731113\n",
       "10    0.694809\n",
       "16    0.678927\n",
       "9     0.614407\n",
       "7     0.552050\n",
       "11    0.551592\n",
       "17    0.516553\n",
       "4     0.380062\n",
       "6     0.363800\n",
       "2     0.319234\n",
       "5     0.118186\n",
       "3     0.065056\n",
       "dtype: float64"
      ]
     },
     "execution_count": 31,
     "metadata": {},
     "output_type": "execute_result"
    }
   ],
   "source": [
    "normalize = True\n",
    "threshold = 0.3\n",
    "data = pd.read_csv(\"./data/letter/letter-recognition.csv\", delimiter=',', header=None)\n",
    "data = data.dropna()\n",
    "data.columns = [str(i) for i in range(1, data.shape[1] + 1)]\n",
    "target_col = '1'\n",
    "data = move_target_to_end(data, target_col)\n",
    "# convert columns to gaussian\n",
    "data = convert_gaussian(data, target_col)\n",
    "\n",
    "if normalize:\n",
    "\tdata = normalization(data, target_col)\n",
    "\n",
    "#data[target_col].value_counts()\n",
    "data[target_col] = data[target_col].map(lambda x: ord(x) - ord('A'))\n",
    "correlation_ret = data.corrwith(data[target_col], method=correlation_ratio).sort_values(ascending=False)\n",
    "\n",
    "important_features = correlation_ret[correlation_ret >= threshold].index.tolist()\n",
    "important_features.remove(target_col)\n",
    "data_config = {\n",
    "\t'target': target_col,\n",
    "\t'important_features_idx': [data.columns.tolist().index(feature) for feature in important_features],\n",
    "\t'features_idx': [idx for idx in range(0, data.shape[1]) if data.columns[idx] != target_col],\n",
    "\t\"num_cols\": data.shape[1] - 1,\n",
    "\t'task_type': 'classification',\n",
    "}\n",
    "print(important_features)\n",
    "print(data.shape)\n",
    "print(len(data[target_col].unique()))\n",
    "print(\"Average correlation: {} {}\".format(correlation_ret[1:].mean(), correlation_ret[1:].max()))\n",
    "print(data[target_col].value_counts(normalize=True))\n",
    "correlation_ret"
   ]
  },
  {
   "cell_type": "code",
   "execution_count": 29,
   "metadata": {
    "ExecuteTime": {
     "end_time": "2023-05-18T23:51:17.301128600Z",
     "start_time": "2023-05-18T23:51:17.213122900Z"
    },
    "collapsed": false
   },
   "outputs": [
    {
     "data": {
      "text/plain": [
       "<Axes: >"
      ]
     },
     "execution_count": 29,
     "metadata": {},
     "output_type": "execute_result"
    },
    {
     "data": {
      "image/png": "[encoded data removed]",
      "text/plain": [
       "<Figure size 640x480 with 1 Axes>"
      ]
     },
     "metadata": {},
     "output_type": "display_data"
    }
   ],
   "source": [
    "col = data.columns[16]\n",
    "data[col].hist()"
   ]
  },
  {
   "cell_type": "code",
   "execution_count": 32,
   "metadata": {
    "ExecuteTime": {
     "end_time": "2023-05-18T23:57:00.547912900Z",
     "start_time": "2023-05-18T23:55:31.686509800Z"
    },
    "collapsed": false
   },
   "outputs": [
    {
     "name": "stdout",
     "output_type": "stream",
     "text": [
      "Accuracy: 0.92125\n",
      "F1: 0.9210670105135317\n"
     ]
    },
    {
     "name": "stderr",
     "output_type": "stream",
     "text": [
      "C:\\Users\\sitao\\miniconda3\\envs\\fed_imp\\lib\\site-packages\\sklearn\\neural_network\\_multilayer_perceptron.py:693: UserWarning: Training interrupted by user.\n",
      "  warnings.warn(\"Training interrupted by user.\")\n"
     ]
    }
   ],
   "source": [
    "run_classification(data, target_col)"
   ]
  },
  {
   "cell_type": "markdown",
   "metadata": {
    "collapsed": false
   },
   "source": [
    "## Raisin"
   ]
  },
  {
   "cell_type": "code",
   "execution_count": null,
   "metadata": {
    "collapsed": false
   },
   "outputs": [],
   "source": [
    "normalize = True\n",
    "threshold = 0.2\n",
    "data = pd.read_csv(\"./data/raisin/Raisin_Dataset.csv\", delimiter=',')\n",
    "data = data.dropna()\n",
    "target_col = 'Class'\n",
    "data = move_target_to_end(data, target_col)\n",
    "if normalize:\n",
    " \tdata = normalization(data, target_col)\n",
    "#data[target_col].value_counts()\n",
    "data[target_col] = data[target_col].map({\"Kecimen\": 0, \"Besni\": 1})\n",
    "correlation_ret = data.corrwith(data[target_col], method=correlation_ratio).sort_values(ascending=False)\n",
    "important_features = correlation_ret[correlation_ret >= threshold].index.tolist()\n",
    "important_features.remove(target_col)\n",
    "data_config = {\n",
    "\t'target': target_col,\n",
    "\t'important_features_idx': [data.columns.tolist().index(feature) for feature in important_features],\n",
    "\t'features_idx': [idx for idx in range(0, data.shape[1]) if data.columns[idx] != target_col],\n",
    "\t\"num_cols\": data.shape[1] - 1,\n",
    "\t'task_type': 'classification',\n",
    "}\n",
    "print(important_features)\n",
    "print(data.shape)\n",
    "print(len(data[target_col].unique()))\n",
    "print(\"Average correlation: {} {}\".format(correlation_ret[1:].mean(), correlation_ret[1:].max()))\n",
    "print(data[target_col].value_counts(normalize=True))\n",
    "correlation_ret"
   ]
  },
  {
   "cell_type": "markdown",
   "metadata": {
    "collapsed": false
   },
   "source": [
    "## Dermatology"
   ]
  },
  {
   "cell_type": "code",
   "execution_count": null,
   "metadata": {
    "collapsed": false
   },
   "outputs": [],
   "source": [
    "normalize = True\n",
    "threshold = 0.5\n",
    "data = pd.read_csv(\"./data/dermatology/dermatology.csv\", delimiter=',', na_values='?', header = None)\n",
    "data = data.dropna()\n",
    "data.columns = [str(i) for i in range(1, data.shape[1] + 1)]\n",
    "target_col = '35'\n",
    "data = move_target_to_end(data, target_col)\n",
    "if normalize:\n",
    " \tdata = normalization(data, target_col)\n",
    "correlation_ret = data.corrwith(data[target_col], method=correlation_ratio).sort_values(ascending=False)\n",
    "important_features = correlation_ret[correlation_ret >= threshold].index.tolist()\n",
    "important_features.remove(target_col)\n",
    "data_config = {\n",
    "\t'target': target_col,\n",
    "\t'important_features_idx': [data.columns.tolist().index(feature) for feature in important_features],\n",
    "\t'features_idx': [idx for idx in range(0, data.shape[1]) if data.columns[idx] != target_col],\n",
    "\t\"num_cols\": data.shape[1] - 1,\n",
    "\t'task_type': 'classification',\n",
    "\t'clf_type': 'multi-class'\n",
    "}\n",
    "print(important_features)\n",
    "print(data.shape)\n",
    "print(len(data[target_col].unique()))\n",
    "print(\"Average correlation: {} {}\".format(correlation_ret[1:].mean(), correlation_ret[1:].max()))\n",
    "print(data[target_col].value_counts(normalize=True))\n",
    "correlation_ret"
   ]
  },
  {
   "attachments": {},
   "cell_type": "markdown",
   "metadata": {},
   "source": [
    "## Pima Indianas Diabetes"
   ]
  },
  {
   "cell_type": "code",
   "execution_count": 13,
   "metadata": {},
   "outputs": [
    {
     "name": "stdout",
     "output_type": "stream",
     "text": [
      "Outcome                     1.000000\n",
      "Glucose                     0.466581\n",
      "BMI                         0.292695\n",
      "Age                         0.238356\n",
      "Pregnancies                 0.221898\n",
      "DiabetesPedigreeFunction    0.173844\n",
      "Insulin                     0.130548\n",
      "SkinThickness               0.074752\n",
      "BloodPressure               0.065068\n",
      "dtype: float64\n",
      "['Glucose', 'BMI', 'Age', 'Pregnancies', 'DiabetesPedigreeFunction', 'Insulin']\n",
      "(768, 9)\n",
      "2\n",
      "Average correlation: 0.20796785112727043 0.4665813983068738\n",
      "0    0.651042\n",
      "1    0.348958\n",
      "Name: Outcome, dtype: float64\n"
     ]
    }
   ],
   "source": [
    "normalize = True\n",
    "threshold = 0.1\n",
    "data = pd.read_csv(\"./data/pima_indianas_diabetes/diabetes.csv\", delimiter=',', header=0)\n",
    "data['Outcome'].value_counts()\n",
    "target_col = 'Outcome'\n",
    "\n",
    "if normalize:\n",
    "    data = normalization(data, target_col)\n",
    "\n",
    "data = move_target_to_end(data, target_col)\n",
    "\n",
    "correlation_ret = data.corrwith(data[target_col], method=correlation_ratio).sort_values(ascending=False)\n",
    "print(correlation_ret)\n",
    "important_features = correlation_ret[correlation_ret >= threshold].index.tolist()\n",
    "important_features.remove(target_col)\n",
    "print(important_features)\n",
    "print(data.shape)\n",
    "print(len(data[target_col].unique()))\n",
    "print(\"Average correlation: {} {}\".format(correlation_ret[1:].mean(), correlation_ret[1:].max()))\n",
    "print(data[target_col].value_counts(normalize=True))"
   ]
  },
  {
   "attachments": {},
   "cell_type": "markdown",
   "metadata": {},
   "source": [
    "## Telugu Vowel"
   ]
  },
  {
   "cell_type": "code",
   "execution_count": 7,
   "metadata": {},
   "outputs": [
    {
     "name": "stdout",
     "output_type": "stream",
     "text": [
      "1    200\n",
      "2    200\n",
      "3    200\n",
      "4    200\n",
      "5    200\n",
      "6    200\n",
      "Name: class, dtype: int64\n"
     ]
    }
   ],
   "source": [
    "normalize = True\n",
    "threshold = 0.1\n",
    "\n",
    "data = pd.read_csv(\"./data/telugu_vowel/telugu.csv\", delimiter=',', header=0)\n",
    "target_col = 'class'\n",
    "\n",
    "if normalize:\n",
    "    data = normalization(data, target_col)\n",
    "\n",
    "data = move_target_to_end(data, target_col)\n",
    "\n",
    "important_features = data.columns.tolist()\n",
    "important_features.remove(target_col)\n",
    "print(data['class'].value_counts())"
   ]
  },
  {
   "attachments": {},
   "cell_type": "markdown",
   "metadata": {},
   "source": [
    "## Telugu Tabular"
   ]
  },
  {
   "cell_type": "code",
   "execution_count": 4,
   "metadata": {},
   "outputs": [
    {
     "name": "stdout",
     "output_type": "stream",
     "text": [
      "1\n",
      "4    207\n",
      "5    180\n",
      "2    172\n",
      "3    151\n",
      "1     89\n",
      "0     72\n",
      "Name: count, dtype: int64\n"
     ]
    }
   ],
   "source": [
    "normalize = True\n",
    "threshold = 0.1\n",
    "\n",
    "data = pd.read_csv(\"./data/telugu_tabular/telugu.csv\", delimiter='\\s+', header=None)\n",
    "data.columns = [str(i) for i in range(1, data.shape[1] + 1)]\n",
    "target_col = '1'\n",
    "\n",
    "if normalize:\n",
    "    data = normalization(data, target_col)\n",
    "\n",
    "data = move_target_to_end(data, target_col)\n",
    "data[target_col] = pd.factorize(data[target_col])[0]\n",
    "\n",
    "correlation_ret = data.corrwith(data[target_col], method=correlation_ratio).sort_values(ascending=False)\n",
    "\n",
    "important_features = data.columns.tolist()\n",
    "important_features.remove(target_col)\n",
    "print(data[target_col].value_counts())"
   ]
  },
  {
   "attachments": {},
   "cell_type": "markdown",
   "metadata": {},
   "source": [
    "## Wine Data"
   ]
  },
  {
   "cell_type": "code",
   "execution_count": 22,
   "metadata": {},
   "outputs": [
    {
     "name": "stdout",
     "output_type": "stream",
     "text": [
      "['8', '14', '13', '2', '11', '12', '7', '3', '5', '10', '9', '4', '6']\n"
     ]
    }
   ],
   "source": [
    "normalize = True\n",
    "threshold = 0.1\n",
    "\n",
    "data = pd.read_csv(\"./data/wine2/wine.csv\", delimiter=',', header=None)\n",
    "data = data.dropna()\n",
    "data.columns = [str(i) for i in range(1, data.shape[1] + 1)]\n",
    "target_col = '1'\n",
    "\n",
    "if normalize:\n",
    "    data = normalization(data, target_col)\n",
    "\n",
    "data = move_target_to_end(data, target_col)\n",
    "\n",
    "correlation_ret = data.corrwith(data[target_col], method=correlation_ratio).sort_values(ascending=False)\n",
    "important_features = correlation_ret[correlation_ret >= threshold].index.tolist()\n",
    "important_features.remove(target_col)\n",
    "print(important_features)\n",
    "# print(data[target_col].value_counts())"
   ]
  },
  {
   "attachments": {},
   "cell_type": "markdown",
   "metadata": {},
   "source": [
    "## Parkinsons"
   ]
  },
  {
   "cell_type": "code",
   "execution_count": null,
   "metadata": {},
   "outputs": [],
   "source": []
  },
  {
   "attachments": {},
   "cell_type": "markdown",
   "metadata": {},
   "source": [
    "## Wifi Localization"
   ]
  },
  {
   "cell_type": "code",
   "execution_count": 12,
   "metadata": {},
   "outputs": [
    {
     "name": "stdout",
     "output_type": "stream",
     "text": [
      "[3, 0, 4, 5, 6, 2]\n",
      "7\n",
      "0    500\n",
      "1    500\n",
      "2    500\n",
      "3    500\n",
      "Name: count, dtype: int64\n",
      "(2000, 8)\n"
     ]
    },
    {
     "data": {
      "text/plain": [
       "7    1.000000\n",
       "3    0.894730\n",
       "0    0.893372\n",
       "4    0.880661\n",
       "5    0.803960\n",
       "6    0.771457\n",
       "2    0.698395\n",
       "1    0.170905\n",
       "dtype: float64"
      ]
     },
     "execution_count": 12,
     "metadata": {},
     "output_type": "execute_result"
    }
   ],
   "source": [
    "normalize = True\n",
    "threshold = 0.5\n",
    "\n",
    "data = pd.read_csv(\"./data/wifi_localization/wifi_localization.csv\", delimiter='\\s+', header=None)\n",
    "data = data.dropna()\n",
    "# data.columns = [str(i) for i in range(1, data.shape[1] + 1)]\n",
    "target_col = 7\n",
    "\n",
    "if normalize:\n",
    "    data = normalization(data, target_col)\n",
    "\n",
    "data = move_target_to_end(data, target_col)\n",
    "data[target_col] = pd.factorize(data[target_col])[0]\n",
    "\n",
    "correlation_ret = data.corrwith(data[target_col], method=correlation_ratio).sort_values(ascending=False)\n",
    "important_features = correlation_ret[correlation_ret >= threshold].index.tolist()\n",
    "important_features.remove(target_col)\n",
    "print(important_features)\n",
    "print(data[target_col].value_counts())\n",
    "print(data.shape)\n",
    "correlation_ret"
   ]
  },
  {
   "attachments": {},
   "cell_type": "markdown",
   "metadata": {},
   "source": [
    "## Adult"
   ]
  },
  {
   "cell_type": "code",
   "execution_count": 21,
   "metadata": {},
   "outputs": [],
   "source": [
    "from sklearn.preprocessing import OneHotEncoder"
   ]
  },
  {
   "cell_type": "code",
   "execution_count": 28,
   "metadata": {},
   "outputs": [
    {
     "name": "stdout",
     "output_type": "stream",
     "text": [
      "{'Male': 0, 'Female': 1}\n",
      "{'Married-civ-spouse': 0, 'Married-AF-spouse': 1, 'Divorced': 2, 'Married-spouse-absent': 3, 'Widowed': 4, 'Separated': 5, 'Never-married': 6}\n",
      "{'Wife': 0, 'Husband': 1, 'Not-in-family': 2, 'Unmarried': 3, 'Other-relative': 4, 'Own-child': 5}\n",
      "{'Asian-Pac-Islander': 0, 'White': 1, 'Other': 2, 'Black': 3, 'Amer-Indian-Eskimo': 4}\n",
      "{'Self-emp-inc': 0, 'Federal-gov': 1, 'Local-gov': 2, 'Self-emp-not-inc': 3, 'State-gov': 4, 'Private': 5, 'Without-pay': 6}\n",
      "{'Exec-managerial': 0, 'Prof-specialty': 1, 'Protective-serv': 2, 'Tech-support': 3, 'Armed-Forces': 4, 'Sales': 5, 'Craft-repair': 6, 'Transport-moving': 7, 'Adm-clerical': 8, 'Machine-op-inspct': 9, 'Farming-fishing': 10, 'Handlers-cleaners': 11, 'Other-service': 12, 'Priv-house-serv': 13}\n"
     ]
    },
    {
     "data": {
      "text/plain": [
       "Target            1.000000\n",
       "Martial Status    0.413213\n",
       "Relationship      0.383811\n",
       "Occupation        0.341454\n",
       "Education-Num     0.332800\n",
       "Age               0.237040\n",
       "Hours per week    0.227199\n",
       "Capital Gain      0.221034\n",
       "Sex               0.215760\n",
       "Workclass         0.150828\n",
       "Capital Loss      0.148687\n",
       "Race              0.096798\n",
       "dtype: float64"
      ]
     },
     "execution_count": 28,
     "metadata": {},
     "output_type": "execute_result"
    }
   ],
   "source": [
    "normalize = True\n",
    "threshold = 0.1\n",
    "retain_threshold = 0.05\n",
    "\n",
    "columns = [\"Age\", \"Workclass\", \"fnlwgt\", \"Education\", \"Education-Num\", \"Martial Status\",\n",
    "\t           \"Occupation\", \"Relationship\", \"Race\", \"Sex\", \"Capital Gain\", \"Capital Loss\",\n",
    "\t           \"Hours per week\", \"Country\", \"Target\"]\n",
    "types = {\n",
    "    0: int, 1: str, 2: int, 3: str, 4: int, 5: str, 6: str, 7: str, 8: str, 9: str, 10: int,\n",
    "    11: int, 12: int, 13: str, 14: str\n",
    "}\n",
    "\n",
    "data_train = pd.read_csv(\n",
    "    \"./data/adult/adult_train.csv\", names=columns, na_values=['?'], sep=r'\\s*,\\s*', engine='python',\n",
    "    dtype=types\n",
    ")\n",
    "data_test = pd.read_csv(\n",
    "    \"./data/adult/adult_test.csv\", names=columns, na_values=['?'], sep=r'\\s*,\\s*', engine='python',\n",
    "    dtype=types\n",
    ")\n",
    "data = pd.concat([data_train, data_test], axis=0)\n",
    "data = data.dropna()\n",
    "col_drop = [\"Country\", \"Education\", \"fnlwgt\"]\n",
    "data = data.drop(col_drop, axis=1)\n",
    "# target\n",
    "target_col = 'Target'\n",
    "data[target_col] = data[target_col].map({'<=50K': 0, '>50K': 1, '<=50K.': 0, '>50K.': 1})\n",
    "\n",
    "# convert categorical to numerical\n",
    "for col in [\"Sex\", \"Martial Status\", \"Relationship\", \"Race\",  \"Workclass\", \"Occupation\"]:\n",
    "    values = data[col].value_counts().index.tolist()\n",
    "    corr_y = []\n",
    "    for value in values:\n",
    "        corr_y_data = data[data[col] == value][target_col].value_counts(normalize=True)\n",
    "        corr = corr_y_data[0]/corr_y_data[1]\n",
    "        corr_y.append(corr)\n",
    "\n",
    "    sorted_values = sorted(values, key = lambda x: corr_y[values.index(x)])\n",
    "    mapping = {value: idx for idx, value in enumerate(sorted_values)}\n",
    "    print(mapping)\n",
    "    data[col] = data[col].map(mapping)\n",
    "\n",
    "# one-hot encoding\n",
    "# categorical_features = [\n",
    "#     \"Workclass\", \"Education\", \"Martial Status\", \"Occupation\", \"Relationship\", \"Race\", \"Sex\", \"Country\"\n",
    "# ]\n",
    "# one_hot_encoder = OneHotEncoder(\n",
    "#     categories='auto', handle_unknown='ignore', drop='first', max_categories=5\n",
    "# )\n",
    "# one_hot_encoder.fit(data[categorical_features])\n",
    "# one_hot_encoded = one_hot_encoder.transform(data[categorical_features]).toarray()\n",
    "# one_hot_encoded = pd.DataFrame(one_hot_encoded)\n",
    "# data = data.drop(categorical_features, axis=1).reset_index(drop=True)\n",
    "# num_cols = data.shape[1] - 1\n",
    "# data = pd.concat([data, one_hot_encoded], axis=1)\n",
    "\n",
    "if normalize:\n",
    "    data = normalization(data, target_col)\n",
    "\n",
    "data = move_target_to_end(data, target_col)\n",
    "data[target_col] = pd.factorize(data[target_col])[0]\n",
    "\n",
    "# # sample balance\n",
    "# data_y0 = data[data[target_col] == 0]\n",
    "# data_y1 = data[data[target_col] == 1]\n",
    "# data_y0 = data_y0.sample(n=data_y1.shape[0], random_state=0)\n",
    "# data = pd.concat([data_y0, data_y1], axis=0).reset_index(drop=True)\n",
    "\n",
    "\n",
    "correlation_ret = data.corrwith(data[target_col], method=correlation_ratio).sort_values(ascending=False)\n",
    "# retained_features = correlation_ret[correlation_ret >= retain_threshold].index.tolist()\n",
    "# new_cols = []\n",
    "# new_num_cols = 0\n",
    "# for idx, feature in enumerate(data.columns.tolist()):\n",
    "#     if feature in retained_features:\n",
    "#         new_cols.append(feature)\n",
    "#         if idx < num_cols:\n",
    "#             new_num_cols += 1\n",
    "\n",
    "# data = data[new_cols]\n",
    "\n",
    "important_features = correlation_ret[correlation_ret >= threshold].index.tolist()\n",
    "important_features.remove(target_col)\n",
    "\n",
    "data_config = {\n",
    "    'target': target_col,\n",
    "    'important_features_idx': [data.columns.tolist().index(feature) for feature in important_features],\n",
    "    'features_idx': [idx for idx in range(0, data.shape[1]) if data.columns[idx] != target_col],\n",
    "    \"num_cols\": data.shape[1] - 1,\n",
    "    'task_type': 'classification',\n",
    "    'clf_type': 'binary-class',\n",
    "    'data_type': 'tabular'\n",
    "}\n",
    "correlation_ret"
   ]
  },
  {
   "attachments": {},
   "cell_type": "markdown",
   "metadata": {},
   "source": [
    "## Default Credit"
   ]
  },
  {
   "cell_type": "code",
   "execution_count": 45,
   "metadata": {},
   "outputs": [
    {
     "name": "stdout",
     "output_type": "stream",
     "text": [
      "{1: 0, 2: 1}\n",
      "{3: 0, 1: 1, 2: 2, 0: 3}\n",
      "{0: 0, 3: 1, 2: 2, 1: 3, 6: 4, 5: 5, 4: 6}\n"
     ]
    },
    {
     "data": {
      "text/plain": [
       "default payment next month    1.000000\n",
       "PAY_0                         0.324794\n",
       "PAY_2                         0.263551\n",
       "PAY_3                         0.235253\n",
       "PAY_4                         0.216614\n",
       "PAY_5                         0.204149\n",
       "PAY_6                         0.186866\n",
       "LIMIT_BAL                     0.153520\n",
       "PAY_AMT1                      0.072929\n",
       "EDUCATION                     0.068142\n",
       "PAY_AMT2                      0.058579\n",
       "PAY_AMT4                      0.056827\n",
       "PAY_AMT3                      0.056250\n",
       "PAY_AMT5                      0.055124\n",
       "PAY_AMT6                      0.053183\n",
       "SEX                           0.039961\n",
       "MARRIAGE                      0.033213\n",
       "BILL_AMT1                     0.019644\n",
       "BILL_AMT2                     0.014193\n",
       "BILL_AMT3                     0.014076\n",
       "AGE                           0.013890\n",
       "BILL_AMT4                     0.010156\n",
       "BILL_AMT5                     0.006760\n",
       "BILL_AMT6                     0.005372\n",
       "dtype: float64"
      ]
     },
     "execution_count": 45,
     "metadata": {},
     "output_type": "execute_result"
    }
   ],
   "source": [
    "normalize = True\n",
    "threshold = 0.1\n",
    "retain_threshold = 0.1\n",
    "\n",
    "\n",
    "data = pd.read_csv(\"./data/default_credit/default_creidt.csv\")\n",
    "data = data.dropna()\n",
    "data = data.drop('ID', axis=1)\n",
    "\n",
    "# target\n",
    "target_col = 'default payment next month'\n",
    "\n",
    "# convert categorical to numerical\n",
    "for col in [\"SEX\", \"MARRIAGE\", \"EDUCATION\"]:\n",
    "    values = data[col].value_counts().index.tolist()\n",
    "    corr_y = []\n",
    "    for value in values:\n",
    "        corr_y_data = data[data[col] == value][target_col].value_counts(normalize=True)\n",
    "        if corr_y_data.shape[0] == 1:\n",
    "            if corr_y_data.index[0] == 0:\n",
    "                corr = 0\n",
    "            else:\n",
    "                corr = 1e5\n",
    "        else:\n",
    "            corr = corr_y_data[0]/corr_y_data[1]\n",
    "        \n",
    "        corr_y.append(corr)\n",
    "\n",
    "    sorted_values = sorted(values, key = lambda x: corr_y[values.index(x)])\n",
    "    mapping = {value: idx for idx, value in enumerate(sorted_values)}\n",
    "    print(mapping)\n",
    "    data[col] = data[col].map(mapping)\n",
    "\n",
    "if normalize:\n",
    "    data = normalization(data, target_col)\n",
    "\n",
    "data = move_target_to_end(data, target_col)\n",
    "data[target_col] = pd.factorize(data[target_col])[0]\n",
    "\n",
    "# # sample balance\n",
    "# data_y0 = data[data[target_col] == 0]\n",
    "# data_y1 = data[data[target_col] == 1]\n",
    "# data_y1 = data_y1.sample(n=data_y0.shape[0], random_state=0)\n",
    "# data = pd.concat([data_y0, data_y1], axis=0).reset_index(drop=True)\n",
    "\n",
    "correlation_ret = data.corrwith(data[target_col], method=correlation_ratio).sort_values(ascending=False)\n",
    "important_features = correlation_ret[correlation_ret >= threshold].index.tolist()\n",
    "important_features.remove(target_col)\n",
    "\n",
    "retained_features = correlation_ret[correlation_ret >= retain_threshold].index.tolist()\n",
    "new_cols = []\n",
    "for idx, feature in enumerate(data.columns.tolist()):\n",
    "    if feature in retained_features:\n",
    "        new_cols.append(feature)\n",
    "\n",
    "data = data[new_cols]\n",
    "\n",
    "data_config = {\n",
    "    'target': target_col,\n",
    "    'important_features_idx': [data.columns.tolist().index(feature) for feature in important_features],\n",
    "    'features_idx': [idx for idx in range(0, data.shape[1]) if data.columns[idx] != target_col],\n",
    "    \"num_cols\": data.shape[1] - 1,\n",
    "    'task_type': 'classification',\n",
    "    'clf_type': 'binary-class',\n",
    "    'data_type': 'tabular'\n",
    "}\n",
    "\n",
    "correlation_ret"
   ]
  },
  {
   "attachments": {},
   "cell_type": "markdown",
   "metadata": {},
   "source": [
    "## Firewall"
   ]
  },
  {
   "cell_type": "code",
   "execution_count": 106,
   "metadata": {},
   "outputs": [
    {
     "name": "stdout",
     "output_type": "stream",
     "text": [
      "(65478, 14)\n"
     ]
    },
    {
     "data": {
      "text/plain": [
       "Action                  1.000000\n",
       "nat_sd_pair_freq        0.982195\n",
       "nat_source_freq         0.982195\n",
       "nat_destination_freq    0.886994\n",
       "destination_freq        0.714055\n",
       "sd_pair_freq            0.200021\n",
       "Elapsed Time (sec)      0.187267\n",
       "source_freq             0.180081\n",
       "Bytes Received          0.026105\n",
       "pkts_received           0.023785\n",
       "Packets                 0.017074\n",
       "Bytes                   0.014861\n",
       "pkts_sent               0.010798\n",
       "Bytes Sent              0.005014\n",
       "dtype: float64"
      ]
     },
     "execution_count": 106,
     "metadata": {},
     "output_type": "execute_result"
    }
   ],
   "source": [
    "normalize = True\n",
    "threshold = 0.1\n",
    "retain_threshold = 0.1\n",
    "\n",
    "\n",
    "data = pd.read_csv(\"./data/firewall/log2.csv\")\n",
    "data = data[data['Action'] != 'reset-both']\n",
    "target_col = 'Action'\n",
    "data[target_col] = pd.factorize(data[target_col])[0]\n",
    "data = data.dropna()\n",
    "source_freq = data['Source Port'].value_counts(normalize=True)\n",
    "source_freq.name = 'source_freq'\n",
    "destination_freq = data['Destination Port'].value_counts(normalize=True)\n",
    "destination_freq.name = 'destination_freq'\n",
    "nat_source_freq = data['NAT Source Port'].value_counts(normalize=True)\n",
    "nat_source_freq.name = 'nat_source_freq'\n",
    "nat_destination_freq = data['NAT Destination Port'].value_counts(normalize=True)\n",
    "nat_destination_freq.name = 'nat_destination_freq'\n",
    "\n",
    "data = data.merge(source_freq, how = 'left', left_on='Source Port', right_index=True)\n",
    "data = data.merge(destination_freq, how = 'left', left_on='Destination Port', right_index=True)\n",
    "data = data.merge(nat_source_freq, how = 'left', left_on='NAT Source Port', right_index=True)\n",
    "data = data.merge(nat_destination_freq, how = 'left', left_on='NAT Destination Port', right_index=True)\n",
    "data['sd_pair'] = data[['Source Port', 'Destination Port']].apply(lambda x: tuple(x), axis=1)\n",
    "data['nat_sd_pair'] = data[['NAT Source Port', 'NAT Destination Port']].apply(lambda x: tuple(x), axis=1)\n",
    "sd_pair_freq = data['sd_pair'].value_counts(normalize=True)\n",
    "sd_pair_freq.name = 'sd_pair_freq'\n",
    "nat_sd_pair_freq = data['nat_sd_pair'].value_counts(normalize=True)\n",
    "nat_sd_pair_freq.name = 'nat_sd_pair_freq'\n",
    "data = data.merge(sd_pair_freq, how = 'left', left_on='sd_pair', right_index=True)\n",
    "data = data.merge(nat_sd_pair_freq, how = 'left', left_on='nat_sd_pair', right_index=True)\n",
    "\n",
    "data = data.drop([\n",
    "    'sd_pair', 'nat_sd_pair', 'Source Port', 'Destination Port', 'NAT Source Port', 'NAT Destination Port'\n",
    "    ], axis=1)\n",
    "\n",
    "if normalize:\n",
    "    data = normalization(data, target_col)\n",
    "\n",
    "data = move_target_to_end(data, target_col)\n",
    "\n",
    "# # # sample balance\n",
    "# # data_y0 = data[data[target_col] == 0]\n",
    "# # data_y1 = data[data[target_col] == 1]\n",
    "# # data_y1 = data_y1.sample(n=data_y0.shape[0], random_state=0)\n",
    "# # data = pd.concat([data_y0, data_y1], axis=0).reset_index(drop=True)\n",
    "\n",
    "correlation_ret = data.corrwith(data[target_col], method=correlation_ratio).sort_values(ascending=False)\n",
    "important_features = correlation_ret[correlation_ret >= threshold].index.tolist()\n",
    "important_features.remove(target_col)\n",
    "\n",
    "data_config = {\n",
    "    'target': target_col,\n",
    "    'important_features_idx': [data.columns.tolist().index(feature) for feature in important_features],\n",
    "    'features_idx': [idx for idx in range(0, data.shape[1]) if data.columns[idx] != target_col],\n",
    "    \"num_cols\": data.shape[1] - 1,\n",
    "    'task_type': 'classification',\n",
    "    'clf_type': 'multi-class',\n",
    "    'data_type': 'tabular'\n",
    "}\n",
    "print(data.shape)\n",
    "correlation_ret"
   ]
  },
  {
   "cell_type": "code",
   "execution_count": 105,
   "metadata": {},
   "outputs": [
    {
     "name": "stdout",
     "output_type": "stream",
     "text": [
      "Accuracy: 0.9980146609651802\n",
      "F1: 0.99801223267393\n"
     ]
    }
   ],
   "source": [
    "run_classification(data, target_col=target_col)"
   ]
  },
  {
   "attachments": {},
   "cell_type": "markdown",
   "metadata": {},
   "source": [
    "## Dry Bean"
   ]
  },
  {
   "cell_type": "code",
   "execution_count": 103,
   "metadata": {},
   "outputs": [
    {
     "name": "stdout",
     "output_type": "stream",
     "text": [
      "(13611, 13)\n"
     ]
    },
    {
     "data": {
      "text/plain": [
       "Class              1.000000\n",
       "MajorAxisLength    0.931274\n",
       "Perimeter          0.930830\n",
       "ShapeFactor2       0.928938\n",
       "ConvexArea         0.922399\n",
       "EquivDiameter      0.921556\n",
       "Area               0.921539\n",
       "Compactness        0.904610\n",
       "ShapeFactor3       0.904537\n",
       "AspectRation       0.902179\n",
       "Eccentricity       0.900969\n",
       "MinorAxisLength    0.898471\n",
       "ShapeFactor1       0.896564\n",
       "dtype: float64"
      ]
     },
     "execution_count": 103,
     "metadata": {},
     "output_type": "execute_result"
    }
   ],
   "source": [
    "normalize = True\n",
    "threshold = 0.1\n",
    "retain_threshold = 0.1\n",
    "\n",
    "data = pd.read_excel(\"./data/dry_bean/Dry_Bean_Dataset.xlsx\")\n",
    "target_col = 'Class'\n",
    "# data = data[data['Action'] != 'reset-both']\n",
    "# target_col = 'Action'\n",
    "data[target_col] = pd.factorize(data[target_col])[0]\n",
    "data = data.dropna()\n",
    "data = data.drop(['Extent', 'Solidity', 'ShapeFactor4', 'roundness'], axis=1)\n",
    "\n",
    "# convert columns to gaussian\n",
    "data = convert_gaussian(data, target_col)\n",
    "\n",
    "if normalize:\n",
    "    data = normalization(data, target_col)\n",
    "\n",
    "data = move_target_to_end(data, target_col)\n",
    "\n",
    "correlation_ret = data.corrwith(data[target_col], method=correlation_ratio).sort_values(ascending=False)\n",
    "important_features = correlation_ret[correlation_ret >= threshold].index.tolist()\n",
    "important_features.remove(target_col)\n",
    "\n",
    "data_config = {\n",
    "    'target': target_col,\n",
    "    'important_features_idx': [data.columns.tolist().index(feature) for feature in important_features],\n",
    "    'features_idx': [idx for idx in range(0, data.shape[1]) if data.columns[idx] != target_col],\n",
    "    \"num_cols\": data.shape[1] - 1,\n",
    "    'task_type': 'classification',\n",
    "    'clf_type': 'multi-class',\n",
    "    'data_type': 'tabular'\n",
    "}\n",
    "print(data.shape)\n",
    "correlation_ret"
   ]
  },
  {
   "cell_type": "code",
   "execution_count": 102,
   "metadata": {},
   "outputs": [
    {
     "data": {
      "text/plain": [
       "Class\n",
       "6    3546\n",
       "5    2636\n",
       "0    2027\n",
       "4    1928\n",
       "3    1630\n",
       "1    1322\n",
       "2     522\n",
       "Name: count, dtype: int64"
      ]
     },
     "execution_count": 102,
     "metadata": {},
     "output_type": "execute_result"
    }
   ],
   "source": [
    "data[target_col].value_counts()"
   ]
  },
  {
   "cell_type": "code",
   "execution_count": 82,
   "metadata": {},
   "outputs": [
    {
     "name": "stdout",
     "output_type": "stream",
     "text": [
      "Accuracy: 0.9155343371281675\n",
      "F1: 0.9156577273371562\n"
     ]
    }
   ],
   "source": [
    "run_classification(data, target_col)"
   ]
  },
  {
   "attachments": {},
   "cell_type": "markdown",
   "metadata": {},
   "source": [
    "## CodRNA"
   ]
  },
  {
   "cell_type": "code",
   "execution_count": 98,
   "metadata": {
    "ExecuteTime": {
     "end_time": "2023-05-18T23:45:01.899795100Z",
     "start_time": "2023-05-18T23:44:48.986988100Z"
    }
   },
   "outputs": [
    {
     "name": "stdout",
     "output_type": "stream",
     "text": [
      "(50000, 9)\n"
     ]
    },
    {
     "name": "stderr",
     "output_type": "stream",
     "text": [
      "d:\\E\\miniconda\\envs\\fed_imp\\lib\\site-packages\\dython\\nominal.py:293: RuntimeWarning: Rounded eta = 1.0000000000000002 to 1. This is probably due to floating point precision issues.\n",
      "  warnings.warn(\n"
     ]
    },
    {
     "data": {
      "text/plain": [
       "Y     1.000000e+00\n",
       "X1    5.213973e-01\n",
       "X8    6.349164e-16\n",
       "X3    5.801881e-16\n",
       "X4    4.278746e-16\n",
       "X5    3.654741e-16\n",
       "X2    2.432693e-16\n",
       "X6    0.000000e+00\n",
       "X7    0.000000e+00\n",
       "dtype: float64"
      ]
     },
     "execution_count": 98,
     "metadata": {},
     "output_type": "execute_result"
    }
   ],
   "source": [
    "from sklearn.datasets import fetch_openml\n",
    "normalize = True\n",
    "threshold = 0.1\n",
    "sample_balance = True\n",
    "gaussian = True\n",
    "data_obj = fetch_openml(data_id = 351, as_frame='auto', parser = 'auto')\n",
    "X = pd.DataFrame(data_obj.data.todense(), columns=data_obj.feature_names)\n",
    "y = pd.DataFrame(data_obj.target, columns = data_obj.target_names)\n",
    "data = pd.concat([X, y], axis=1)\n",
    "\n",
    "target_col = 'Y'\n",
    "data[target_col] = pd.factorize(data[target_col])[0]\n",
    "data = data.dropna()\n",
    "\n",
    "if gaussian:\n",
    "    data = convert_gaussian(data, target_col)\n",
    "\n",
    "if normalize:\n",
    "    data = normalization(data, target_col)\n",
    "\n",
    "data = move_target_to_end(data, target_col)\n",
    "correlation_ret = data.corrwith(data[target_col], method=correlation_ratio).sort_values(ascending=False)\n",
    "important_features = correlation_ret[correlation_ret >= threshold].index.tolist()\n",
    "important_features.remove(target_col)\n",
    "\n",
    "if sample_balance:\n",
    "    data_y0 = data[data[target_col] == 0]\n",
    "    data_y1 = data[data[target_col] == 1]\n",
    "    data_y0 = data_y0.sample(n=data_y1.shape[0], random_state=0)\n",
    "    data = pd.concat([data_y0, data_y1], axis=0).reset_index(drop=True)\n",
    "\n",
    "data = data.sample(n = 50000).reset_index(drop=True)\n",
    "\n",
    "data_config = {\n",
    "    'target': target_col,\n",
    "    'important_features_idx': [data.columns.tolist().index(feature) for feature in important_features],\n",
    "    'features_idx': [idx for idx in range(0, data.shape[1]) if data.columns[idx] != target_col],\n",
    "    \"num_cols\": data.shape[1] - 1,\n",
    "    'task_type': 'classification',\n",
    "    'clf_type': 'binary-class',\n",
    "    'data_type': 'tabular'\n",
    "}\n",
    "print(data.shape)\n",
    "print(data['Y'].value_counts())\n",
    "correlation_ret"
   ]
  },
  {
   "cell_type": "code",
   "execution_count": 99,
   "metadata": {},
   "outputs": [
    {
     "data": {
      "text/plain": [
       "Y\n",
       "0    25035\n",
       "1    24965\n",
       "Name: count, dtype: int64"
      ]
     },
     "execution_count": 99,
     "metadata": {},
     "output_type": "execute_result"
    }
   ],
   "source": [
    "data['Y'].value_counts()"
   ]
  },
  {
   "cell_type": "code",
   "execution_count": 100,
   "metadata": {
    "ExecuteTime": {
     "end_time": "2023-05-18T23:49:12.194853200Z",
     "start_time": "2023-05-18T23:45:31.320871Z"
    },
    "collapsed": false
   },
   "outputs": [
    {
     "name": "stdout",
     "output_type": "stream",
     "text": [
      "Accuracy: 0.9612\n",
      "F1: 0.9611956786505192\n"
     ]
    }
   ],
   "source": [
    "run_classification(data, target_col)"
   ]
  },
  {
   "attachments": {},
   "cell_type": "markdown",
   "metadata": {},
   "source": [
    "## Bank Marketing"
   ]
  },
  {
   "cell_type": "code",
   "execution_count": 87,
   "metadata": {},
   "outputs": [
    {
     "data": {
      "text/plain": [
       "y            1.000000\n",
       "duration     0.394521\n",
       "poutcome     0.259315\n",
       "month        0.166663\n",
       "housing      0.139173\n",
       "contact      0.130590\n",
       "pdays        0.103621\n",
       "previous     0.093236\n",
       "campaign     0.073172\n",
       "loan         0.068185\n",
       "education    0.058675\n",
       "balance      0.052838\n",
       "marital      0.043846\n",
       "day          0.028348\n",
       "age          0.025155\n",
       "default      0.022419\n",
       "job          0.022396\n",
       "dtype: float64"
      ]
     },
     "execution_count": 87,
     "metadata": {},
     "output_type": "execute_result"
    }
   ],
   "source": [
    "threshold = 0.1\n",
    "normalize = True\n",
    "data = pd.read_csv(\"./data/bank_market/bank-full.csv\", sep=';')\n",
    "cat_cols = ['job', 'marital', 'education', 'default', 'housing', 'loan', 'contact', 'month', 'poutcome']\n",
    "for col in cat_cols:\n",
    "    data[col] = pd.factorize(data[col])[0]\n",
    "target_col = 'y'\n",
    "# target_col = 'Y'\n",
    "data[target_col] = pd.factorize(data[target_col])[0]\n",
    "data = data.dropna()\n",
    "\n",
    "if normalize:\n",
    "    data = normalization(data, target_col)\n",
    "\n",
    "data = move_target_to_end(data, target_col)\n",
    "\n",
    "# sample balance\n",
    "# data_y0 = data[data[target_col] == 0]\n",
    "# data_y1 = data[data[target_col] == 1]\n",
    "# data_y0 = data_y0.sample(n=data_y1.shape[0], random_state=0)\n",
    "# data = pd.concat([data_y0, data_y1], axis=0).reset_index(drop=True)\n",
    "\n",
    "correlation_ret = data.corrwith(data[target_col], method=correlation_ratio).sort_values(ascending=False)\n",
    "important_features = correlation_ret[correlation_ret >= threshold].index.tolist()\n",
    "important_features.remove(target_col)\n",
    "\n",
    "data_config = {\n",
    "    'target': target_col,\n",
    "    'important_features_idx': [data.columns.tolist().index(feature) for feature in important_features],\n",
    "    'features_idx': [idx for idx in range(0, data.shape[1]) if data.columns[idx] != target_col],\n",
    "    \"num_cols\": data.shape[1] - 1,\n",
    "    'task_type': 'classification',\n",
    "    'clf_type': 'binary-class',\n",
    "    'data_type': 'tabular'\n",
    "}\n",
    "\n",
    "correlation_ret"
   ]
  },
  {
   "cell_type": "code",
   "execution_count": 88,
   "metadata": {},
   "outputs": [
    {
     "data": {
      "text/plain": [
       "y\n",
       "0    39922\n",
       "1     5289\n",
       "Name: count, dtype: int64"
      ]
     },
     "execution_count": 88,
     "metadata": {},
     "output_type": "execute_result"
    }
   ],
   "source": [
    "data[target_col].value_counts()"
   ]
  },
  {
   "attachments": {},
   "cell_type": "markdown",
   "metadata": {},
   "source": [
    "## IJCNN"
   ]
  },
  {
   "cell_type": "code",
   "execution_count": 82,
   "metadata": {},
   "outputs": [
    {
     "data": {
      "text/plain": [
       "class     1.000000\n",
       "att_18    0.308994\n",
       "att_17    0.153430\n",
       "att_20    0.105097\n",
       "att_19    0.104158\n",
       "att_21    0.050519\n",
       "att_22    0.039114\n",
       "att_16    0.020951\n",
       "att_15    0.015292\n",
       "att_14    0.009647\n",
       "att_2     0.005772\n",
       "att_12    0.005454\n",
       "att_11    0.005253\n",
       "att_3     0.004649\n",
       "att_13    0.004098\n",
       "att_1     0.003382\n",
       "att_6     0.002991\n",
       "att_9     0.002708\n",
       "att_10    0.001499\n",
       "att_7     0.000779\n",
       "att_5     0.000513\n",
       "att_4     0.000336\n",
       "att_8     0.000235\n",
       "dtype: float64"
      ]
     },
     "execution_count": 82,
     "metadata": {},
     "output_type": "execute_result"
    }
   ],
   "source": [
    "from sklearn.datasets import fetch_openml\n",
    "\n",
    "data_obj = fetch_openml(data_id = 1575, as_frame='auto', parser = 'auto')\n",
    "X = pd.DataFrame(data_obj.data.todense(), columns=data_obj.feature_names)\n",
    "y = pd.DataFrame(data_obj.target, columns = data_obj.target_names)\n",
    "data = pd.concat([X, y], axis=1)\n",
    "\n",
    "\n",
    "target_col = 'class'\n",
    "data[target_col] = pd.factorize(data[target_col])[0]\n",
    "data = data.dropna()\n",
    "\n",
    "if normalize:\n",
    "    data = normalization(data, target_col)\n",
    "\n",
    "data = move_target_to_end(data, target_col)\n",
    "correlation_ret = data.corrwith(data[target_col], method=correlation_ratio).sort_values(ascending=False)\n",
    "important_features = correlation_ret[correlation_ret >= threshold].index.tolist()\n",
    "important_features.remove(target_col)\n",
    "\n",
    "data_config = {\n",
    "    'target': target_col,\n",
    "    'important_features_idx': [data.columns.tolist().index(feature) for feature in important_features],\n",
    "    'features_idx': [idx for idx in range(0, data.shape[1]) if data.columns[idx] != target_col],\n",
    "    \"num_cols\": data.shape[1] - 1,\n",
    "    'task_type': 'classification',\n",
    "    'clf_type': 'multi-class',\n",
    "    'data_type': 'tabular'\n",
    "}\n",
    "\n",
    "correlation_ret"
   ]
  },
  {
   "cell_type": "code",
   "execution_count": 84,
   "metadata": {},
   "outputs": [
    {
     "data": {
      "text/plain": [
       "class\n",
       "0    173263\n",
       "1     18418\n",
       "Name: count, dtype: int64"
      ]
     },
     "execution_count": 84,
     "metadata": {},
     "output_type": "execute_result"
    }
   ],
   "source": [
    "data[target_col].value_counts()"
   ]
  },
  {
   "attachments": {},
   "cell_type": "markdown",
   "metadata": {},
   "source": [
    "## Skin"
   ]
  },
  {
   "cell_type": "code",
   "execution_count": 85,
   "metadata": {},
   "outputs": [
    {
     "data": {
      "text/plain": [
       "Class    1.000000\n",
       "V3       0.569958\n",
       "V2       0.120327\n",
       "V1       0.092030\n",
       "dtype: float64"
      ]
     },
     "execution_count": 85,
     "metadata": {},
     "output_type": "execute_result"
    }
   ],
   "source": [
    "from sklearn.datasets import fetch_openml\n",
    "\n",
    "data_obj = fetch_openml(data_id = 1502, as_frame='auto', parser = 'auto')\n",
    "X = pd.DataFrame(data_obj.data, columns=data_obj.feature_names)\n",
    "y = pd.DataFrame(data_obj.target, columns = data_obj.target_names)\n",
    "data = pd.concat([X, y], axis=1)\n",
    "\n",
    "\n",
    "target_col = 'Class'\n",
    "data[target_col] = pd.factorize(data[target_col])[0]\n",
    "data = data.dropna()\n",
    "\n",
    "if normalize:\n",
    "    data = normalization(data, target_col)\n",
    "\n",
    "data = move_target_to_end(data, target_col)\n",
    "correlation_ret = data.corrwith(data[target_col], method=correlation_ratio).sort_values(ascending=False)\n",
    "important_features = correlation_ret[correlation_ret >= threshold].index.tolist()\n",
    "important_features.remove(target_col)\n",
    "\n",
    "data_config = {\n",
    "    'target': target_col,\n",
    "    'important_features_idx': [data.columns.tolist().index(feature) for feature in important_features],\n",
    "    'features_idx': [idx for idx in range(0, data.shape[1]) if data.columns[idx] != target_col],\n",
    "    \"num_cols\": data.shape[1] - 1,\n",
    "    'task_type': 'classification',\n",
    "    'clf_type': 'multi-class',\n",
    "    'data_type': 'tabular'\n",
    "}\n",
    "\n",
    "correlation_ret"
   ]
  },
  {
   "cell_type": "code",
   "execution_count": 86,
   "metadata": {},
   "outputs": [
    {
     "data": {
      "text/plain": [
       "Class\n",
       "1    194198\n",
       "0     50859\n",
       "Name: count, dtype: int64"
      ]
     },
     "execution_count": 86,
     "metadata": {},
     "output_type": "execute_result"
    }
   ],
   "source": [
    "data[target_col].value_counts()"
   ]
  },
  {
   "attachments": {},
   "cell_type": "markdown",
   "metadata": {},
   "source": [
    "## SVM guide1"
   ]
  },
  {
   "cell_type": "code",
   "execution_count": 11,
   "metadata": {},
   "outputs": [
    {
     "data": {
      "text/plain": [
       "0    1.000000\n",
       "2    0.679235\n",
       "4    0.533025\n",
       "1    0.527964\n",
       "3    0.233265\n",
       "dtype: float64"
      ]
     },
     "execution_count": 11,
     "metadata": {},
     "output_type": "execute_result"
    }
   ],
   "source": [
    "threshold = 0.1\n",
    "normalize = True\n",
    "data_train = pd.read_csv(\"./data/svm1/svm_p.csv\", sep=',', header = None)\n",
    "data_test = pd.read_csv(\"./data/svm1/svm_pt.csv\", sep=',', header = None)\n",
    "data = pd.concat([data_train, data_test], axis=0).reset_index(drop=True)\n",
    "data = data.dropna()\n",
    "data.columns = [str(i) for i in range(data.shape[1])]\n",
    "target_col = '0'\n",
    "data[target_col] = pd.factorize(data[target_col])[0]\n",
    "\n",
    "if normalize:\n",
    "    data = normalization(data, target_col)\n",
    "\n",
    "data = move_target_to_end(data, target_col)\n",
    "\n",
    "\n",
    "correlation_ret = data.corrwith(data[target_col], method=correlation_ratio).sort_values(ascending=False)\n",
    "important_features = correlation_ret[correlation_ret >= threshold].index.tolist()\n",
    "important_features.remove(target_col)\n",
    "\n",
    "data_config = {\n",
    "    'target': target_col,\n",
    "    'important_features_idx': [data.columns.tolist().index(feature) for feature in important_features],\n",
    "    'features_idx': [idx for idx in range(0, data.shape[1]) if data.columns[idx] != target_col],\n",
    "    \"num_cols\": data.shape[1] - 1,\n",
    "    'task_type': 'classification',\n",
    "    'clf_type': 'binary-class',\n",
    "    'data_type': 'tabular'\n",
    "}\n",
    "\n",
    "correlation_ret"
   ]
  },
  {
   "cell_type": "markdown",
   "metadata": {},
   "source": [
    "## Pendigits"
   ]
  },
  {
   "cell_type": "code",
   "execution_count": 19,
   "metadata": {},
   "outputs": [
    {
     "name": "stdout",
     "output_type": "stream",
     "text": [
      "(10992, 17)\n"
     ]
    },
    {
     "data": {
      "text/plain": [
       "16    1.000000\n",
       "15    0.849678\n",
       "13    0.820472\n",
       "4     0.781146\n",
       "7     0.772960\n",
       "5     0.769259\n",
       "10    0.757793\n",
       "8     0.734025\n",
       "11    0.731596\n",
       "9     0.721901\n",
       "14    0.721614\n",
       "0     0.717654\n",
       "1     0.659020\n",
       "3     0.644406\n",
       "6     0.611788\n",
       "2     0.507330\n",
       "12    0.459465\n",
       "dtype: float64"
      ]
     },
     "execution_count": 19,
     "metadata": {},
     "output_type": "execute_result"
    }
   ],
   "source": [
    "threshold = 0.1\n",
    "normalize = True\n",
    "data_train = pd.read_csv(\"./data/pendigits/pendigits.tra\", sep=',', header=None)\n",
    "data_test = pd.read_csv(\"./data/pendigits/pendigits.tes\", sep=',', header=None)\n",
    "data = pd.concat([data_train, data_test], axis=0).reset_index(drop=True)\n",
    "data = data.dropna()\n",
    "data.columns = [str(i) for i in range(data.shape[1])]\n",
    "target_col = '16'\n",
    "data[target_col] = pd.factorize(data[target_col])[0]\n",
    "\n",
    "if normalize:\n",
    "    data = normalization(data, target_col)\n",
    "\n",
    "data = move_target_to_end(data, target_col)\n",
    "\n",
    "data = convert_gaussian(data, target_col)\n",
    "\n",
    "correlation_ret = data.corrwith(data[target_col], method=correlation_ratio).sort_values(ascending=False)\n",
    "important_features = correlation_ret[correlation_ret >= threshold].index.tolist()\n",
    "important_features.remove(target_col)\n",
    "\n",
    "data_config = {\n",
    "    'target': target_col,\n",
    "    'important_features_idx': [data.columns.tolist().index(feature) for feature in important_features],\n",
    "    'features_idx': [idx for idx in range(0, data.shape[1]) if data.columns[idx] != target_col],\n",
    "    \"num_cols\": data.shape[1] - 1,\n",
    "    'task_type': 'classification',\n",
    "    'clf_type': 'multi-class',\n",
    "    'data_type': 'tabular'\n",
    "}\n",
    "\n",
    "print(data.shape)\n",
    "correlation_ret"
   ]
  },
  {
   "cell_type": "code",
   "execution_count": 18,
   "metadata": {},
   "outputs": [
    {
     "name": "stdout",
     "output_type": "stream",
     "text": [
      "Accuracy: 0.992269213278763\n",
      "F1: 0.9922820660818847\n"
     ]
    }
   ],
   "source": [
    "run_classification(data, target_col=target_col)"
   ]
  },
  {
   "cell_type": "markdown",
   "metadata": {},
   "source": [
    "## statlog"
   ]
  },
  {
   "cell_type": "code",
   "execution_count": 5,
   "metadata": {},
   "outputs": [
    {
     "name": "stdout",
     "output_type": "stream",
     "text": [
      "(24340, 10)\n",
      "9\n",
      "2    12170\n",
      "1     8903\n",
      "3     3267\n",
      "Name: count, dtype: int64\n"
     ]
    },
    {
     "data": {
      "text/plain": [
       "9    1.000000\n",
       "0    0.918795\n",
       "6    0.812970\n",
       "8    0.771910\n",
       "7    0.558087\n",
       "4    0.443462\n",
       "2    0.202672\n",
       "1    0.054291\n",
       "3    0.013202\n",
       "5    0.004803\n",
       "dtype: float64"
      ]
     },
     "execution_count": 5,
     "metadata": {},
     "output_type": "execute_result"
    }
   ],
   "source": [
    "threshold = 0.1\n",
    "normalize = True\n",
    "data_train = pd.read_csv(\"./data/statlog/shuttle.trn.trn\", sep='\\s+', header=None)\n",
    "data_test = pd.read_csv(\"./data/statlog/shuttle.tst.tst\", sep='\\s+', header=None)\n",
    "data = pd.concat([data_train, data_test], axis=0).reset_index(drop=True)\n",
    "\n",
    "data = data.dropna()\n",
    "data.columns = [str(i) for i in range(data.shape[1])]\n",
    "target_col = '9'\n",
    "data[target_col] = pd.factorize(data[target_col])[0]\n",
    "\n",
    "# sample balance\n",
    "data = data[data[target_col].isin([2,1,3])]\n",
    "data_rest = data[data[target_col].isin([1,3])]\n",
    "data_more = data[data[target_col].isin([2])]\n",
    "data_more = data_more.sample(n=data_rest.shape[0], random_state=42)\n",
    "data = pd.concat([data_rest, data_more], axis=0).reset_index(drop=True)\n",
    "\n",
    "data = move_target_to_end(data, target_col)\n",
    "\n",
    "if normalize:\n",
    "    data = normalization(data, target_col)\n",
    "\n",
    "# #data = convert_gaussian(data, target_col)\n",
    "\n",
    "correlation_ret = data.corrwith(data[target_col], method=correlation_ratio).sort_values(ascending=False)\n",
    "important_features = correlation_ret[correlation_ret >= threshold].index.tolist()\n",
    "important_features.remove(target_col)\n",
    "\n",
    "data_config = {\n",
    "    'target': target_col,\n",
    "    'important_features_idx': [data.columns.tolist().index(feature) for feature in important_features],\n",
    "    'features_idx': [idx for idx in range(0, data.shape[1]) if data.columns[idx] != target_col],\n",
    "    \"num_cols\": data.shape[1] - 1,\n",
    "    'task_type': 'classification',\n",
    "    'clf_type': 'multi-class',\n",
    "    'data_type': 'tabular'\n",
    "}\n",
    "\n",
    "print(data.shape)\n",
    "print(data[target_col].value_counts())\n",
    "correlation_ret"
   ]
  },
  {
   "cell_type": "code",
   "execution_count": 32,
   "metadata": {},
   "outputs": [
    {
     "name": "stdout",
     "output_type": "stream",
     "text": [
      "Accuracy: 0.9990517241379311\n",
      "F1: 0.999135039673383\n"
     ]
    }
   ],
   "source": [
    "run_classification(data, target_col=target_col)"
   ]
  },
  {
   "cell_type": "markdown",
   "metadata": {},
   "source": [
    "## Avila"
   ]
  },
  {
   "cell_type": "code",
   "execution_count": 63,
   "metadata": {},
   "outputs": [
    {
     "name": "stdout",
     "output_type": "stream",
     "text": [
      "(20029, 11)\n",
      "10\n",
      "0    8572\n",
      "1    3923\n",
      "3    2190\n",
      "4    1663\n",
      "6    1044\n",
      "2    1039\n",
      "7     893\n",
      "5     705\n",
      "Name: count, dtype: int64\n"
     ]
    },
    {
     "data": {
      "text/plain": [
       "10    1.000000\n",
       "8     0.439498\n",
       "3     0.316348\n",
       "5     0.312607\n",
       "6     0.311208\n",
       "4     0.243893\n",
       "0     0.234072\n",
       "9     0.224227\n",
       "7     0.167128\n",
       "2     0.111404\n",
       "1     0.055065\n",
       "dtype: float64"
      ]
     },
     "execution_count": 63,
     "metadata": {},
     "output_type": "execute_result"
    }
   ],
   "source": [
    "threshold = 0.1\n",
    "normalize = True\n",
    "data_train = pd.read_csv(\"./data/avila/avila-tr.txt\", sep=',', header=None)\n",
    "data_test = pd.read_csv(\"./data/avila/avila-ts.txt\", sep=',', header=None)\n",
    "data = pd.concat([data_train, data_test], axis=0).reset_index(drop=True)\n",
    "\n",
    "data = data.dropna()\n",
    "data.columns = [str(i) for i in range(data.shape[1])]\n",
    "target_col = '10'\n",
    "data = data[data[target_col].isin(['A', 'F', 'E', 'I', 'X', 'H', 'G', 'D'])]\n",
    "data[target_col] = pd.factorize(data[target_col])[0]\n",
    "data = move_target_to_end(data, target_col)\n",
    "\n",
    "if normalize:\n",
    "    data = normalization(data, target_col)\n",
    "\n",
    "# #data = convert_gaussian(data, target_col)\n",
    "\n",
    "correlation_ret = data.corrwith(data[target_col], method=correlation_ratio).sort_values(ascending=False)\n",
    "important_features = correlation_ret[correlation_ret >= threshold].index.tolist()\n",
    "important_features.remove(target_col)\n",
    "\n",
    "data_config = {\n",
    "    'target': target_col,\n",
    "    'important_features_idx': [data.columns.tolist().index(feature) for feature in important_features],\n",
    "    'features_idx': [idx for idx in range(0, data.shape[1]) if data.columns[idx] != target_col],\n",
    "    \"num_cols\": data.shape[1] - 1,\n",
    "    'task_type': 'classification',\n",
    "    'clf_type': 'multi-class',\n",
    "    'data_type': 'tabular'\n",
    "}\n",
    "\n",
    "print(data.shape)\n",
    "print(data[target_col].value_counts())\n",
    "correlation_ret"
   ]
  },
  {
   "cell_type": "code",
   "execution_count": null,
   "metadata": {},
   "outputs": [],
   "source": []
  },
  {
   "cell_type": "code",
   "execution_count": 64,
   "metadata": {},
   "outputs": [
    {
     "name": "stdout",
     "output_type": "stream",
     "text": [
      "Accuracy: 0.7983025461807289\n",
      "F1: 0.7927764026641473\n"
     ]
    }
   ],
   "source": [
    "run_classification(data, target_col=target_col)"
   ]
  },
  {
   "cell_type": "markdown",
   "metadata": {},
   "source": [
    "## SUSY"
   ]
  },
  {
   "cell_type": "code",
   "execution_count": 92,
   "metadata": {},
   "outputs": [
    {
     "name": "stdout",
     "output_type": "stream",
     "text": [
      "(50000, 19)\n",
      "0\n",
      "0    27237\n",
      "1    22763\n",
      "Name: count, dtype: int64\n"
     ]
    },
    {
     "data": {
      "text/plain": [
       "0     1.000000\n",
       "7     0.439508\n",
       "12    0.426846\n",
       "1     0.395619\n",
       "9     0.285267\n",
       "16    0.280535\n",
       "18    0.272013\n",
       "11    0.269359\n",
       "15    0.260561\n",
       "4     0.196171\n",
       "13    0.112637\n",
       "14    0.085809\n",
       "10    0.073441\n",
       "17    0.031605\n",
       "3     0.002636\n",
       "5     0.001936\n",
       "6     0.001268\n",
       "8     0.000587\n",
       "2     0.000554\n",
       "dtype: float64"
      ]
     },
     "execution_count": 92,
     "metadata": {},
     "output_type": "execute_result"
    }
   ],
   "source": [
    "threshold = 0.1\n",
    "normalize = True\n",
    "data = pd.read_csv(\"./data/susy/SUSY.csv\", sep=',', header=None)\n",
    "\n",
    "data = data.dropna()\n",
    "data.columns = [str(i) for i in range(data.shape[1])]\n",
    "target_col = '0'\n",
    "data[target_col] = pd.factorize(data[target_col])[0]\n",
    "data[target_col].value_counts()\n",
    "\n",
    "data = data.sample(frac = 0.01, random_state=42)\n",
    "\n",
    "if normalize:\n",
    "    data = normalization(data, target_col)\n",
    "\n",
    "# #data = convert_gaussian(data, target_col)\n",
    "data = move_target_to_end(data, target_col)\n",
    "\n",
    "correlation_ret = data.corrwith(data[target_col], method=correlation_ratio).sort_values(ascending=False)\n",
    "important_features = correlation_ret[correlation_ret >= threshold].index.tolist()\n",
    "important_features.remove(target_col)\n",
    "\n",
    "data_config = {\n",
    "    'target': target_col,\n",
    "    'important_features_idx': [data.columns.tolist().index(feature) for feature in important_features],\n",
    "    'features_idx': [idx for idx in range(0, data.shape[1]) if data.columns[idx] != target_col],\n",
    "    \"num_cols\": data.shape[1] - 1,\n",
    "    'task_type': 'classification',\n",
    "    'clf_type': 'binary-class',\n",
    "    'data_type': 'tabular'\n",
    "}\n",
    "\n",
    "print(data.shape)\n",
    "print(data[target_col].value_counts())\n",
    "correlation_ret"
   ]
  },
  {
   "cell_type": "code",
   "execution_count": 94,
   "metadata": {},
   "outputs": [
    {
     "name": "stdout",
     "output_type": "stream",
     "text": [
      "Accuracy: 0.7984\n",
      "F1: 0.7951374819022355\n"
     ]
    }
   ],
   "source": [
    "run_classification(data, target_col=target_col)"
   ]
  },
  {
   "cell_type": "markdown",
   "metadata": {},
   "source": [
    "## Higgs"
   ]
  },
  {
   "cell_type": "code",
   "execution_count": 105,
   "metadata": {},
   "outputs": [
    {
     "name": "stdout",
     "output_type": "stream",
     "text": [
      "(55000, 29)\n",
      "0\n",
      "0    29133\n",
      "1    25867\n",
      "Name: count, dtype: int64\n"
     ]
    },
    {
     "data": {
      "text/plain": [
       "0     1.000000\n",
       "26    0.151953\n",
       "28    0.117370\n",
       "4     0.096404\n",
       "6     0.060735\n",
       "27    0.058519\n",
       "13    0.054225\n",
       "1     0.039663\n",
       "18    0.032394\n",
       "25    0.025057\n",
       "23    0.024172\n",
       "17    0.021704\n",
       "10    0.017418\n",
       "22    0.011538\n",
       "24    0.011117\n",
       "14    0.010538\n",
       "21    0.008518\n",
       "3     0.006377\n",
       "8     0.004684\n",
       "7     0.003358\n",
       "12    0.003331\n",
       "9     0.002967\n",
       "2     0.001678\n",
       "15    0.001449\n",
       "19    0.001385\n",
       "20    0.000977\n",
       "16    0.000642\n",
       "5     0.000269\n",
       "11    0.000247\n",
       "dtype: float64"
      ]
     },
     "execution_count": 105,
     "metadata": {},
     "output_type": "execute_result"
    }
   ],
   "source": [
    "threshold = 0.1\n",
    "normalize = True\n",
    "data = pd.read_csv(\"./data/higgs/higgs_new.csv\", sep=',')\n",
    "\n",
    "data = data.dropna()\n",
    "target_col = '0'\n",
    "# #data = convert_gaussian(data, target_col)\n",
    "\n",
    "correlation_ret = data.corrwith(data[target_col], method=correlation_ratio).sort_values(ascending=False)\n",
    "important_features = correlation_ret[correlation_ret >= threshold].index.tolist()\n",
    "important_features.remove(target_col)\n",
    "\n",
    "data_config = {\n",
    "    'target': target_col,\n",
    "    'important_features_idx': [data.columns.tolist().index(feature) for feature in important_features],\n",
    "    'features_idx': [idx for idx in range(0, data.shape[1]) if data.columns[idx] != target_col],\n",
    "    \"num_cols\": data.shape[1] - 1,\n",
    "    'task_type': 'classification',\n",
    "    'clf_type': 'binary-class',\n",
    "    'data_type': 'tabular'\n",
    "}\n",
    "\n",
    "print(data.shape)\n",
    "print(data[target_col].value_counts())\n",
    "correlation_ret"
   ]
  },
  {
   "cell_type": "markdown",
   "metadata": {},
   "source": [
    "## Accel"
   ]
  },
  {
   "cell_type": "code",
   "execution_count": 104,
   "metadata": {},
   "outputs": [
    {
     "data": {
      "text/plain": [
       "Activity\n",
       "0    31420\n",
       "1      571\n",
       "Name: count, dtype: int64"
      ]
     },
     "execution_count": 104,
     "metadata": {},
     "output_type": "execute_result"
    }
   ],
   "source": [
    "threshold = 0.1\n",
    "normalize = True\n",
    "data = pd.read_csv(\"./data/accelerometer/accelerometer_gyro_mobile.csv\", sep=',')\n",
    "\n",
    "data = data.dropna()\n",
    "#data.columns = [str(i) for i in range(data.shape[1])]\n",
    "data.head()\n",
    "target_col = 'Activity'\n",
    "data[target_col] = pd.factorize(data[target_col])[0]\n",
    "data[target_col].value_counts()\n",
    "\n",
    "# data = data.sample(frac = 0.01, random_state=42)\n",
    "\n",
    "# if normalize:\n",
    "#     data = normalization(data, target_col)\n",
    "\n",
    "# # #data = convert_gaussian(data, target_col)\n",
    "# data = move_target_to_end(data, target_col)\n",
    "\n",
    "# correlation_ret = data.corrwith(data[target_col], method=correlation_ratio).sort_values(ascending=False)\n",
    "# important_features = correlation_ret[correlation_ret >= threshold].index.tolist()\n",
    "# important_features.remove(target_col)\n",
    "\n",
    "# data_config = {\n",
    "#     'target': target_col,\n",
    "#     'important_features_idx': [data.columns.tolist().index(feature) for feature in important_features],\n",
    "#     'features_idx': [idx for idx in range(0, data.shape[1]) if data.columns[idx] != target_col],\n",
    "#     \"num_cols\": data.shape[1] - 1,\n",
    "#     'task_type': 'classification',\n",
    "#     'clf_type': 'binary-class',\n",
    "#     'data_type': 'tabular'\n",
    "# }\n",
    "\n",
    "# print(data.shape)\n",
    "# print(data[target_col].value_counts())\n",
    "# correlation_ret"
   ]
  },
  {
   "cell_type": "markdown",
   "metadata": {},
   "source": [
    "## NHIS"
   ]
  },
  {
   "cell_type": "code",
   "execution_count": 336,
   "metadata": {},
   "outputs": [],
   "source": [
    "import numpy as np\n",
    "from sklearn.feature_selection import mutual_info_classif\n",
    "from sklearn.preprocessing import OneHotEncoder\n",
    "from sklearn.decomposition import PCA\n"
   ]
  },
  {
   "cell_type": "code",
   "execution_count": 353,
   "metadata": {},
   "outputs": [
    {
     "name": "stdout",
     "output_type": "stream",
     "text": [
      "Shape of raw data:  (16868, 1418)\n",
      "Shape of data after dropping columns only contains one value:  (14585, 1392)\n",
      "Shape of data after dropping high cardinality columns:  (14585, 1390)\n",
      "Shape of data remove columns with missing values:  (14585, 406)\n",
      "['WTIA_HH', 'WTFA_HH', 'WTFA_FAM', 'WTIA', 'WTFA', 'WTIA_SA', 'WTFA_SA']\n",
      "['INCGRP4', 'INCGRP5', 'RAT_CAT5', 'RAT_CAT4', 'BMI', 'AGE_P', 'WRKMYR', 'EDUC1', 'PRIVATE', 'HIKINDNA', 'FM_EDUC1', 'FHIPRVCT', 'ASICCMP', 'FHICADCT', 'MEDICAID', 'FSNAP', 'SINGLE', 'SINCOV', 'HOUSEOWN', 'HIKINDND']\n",
      "(14585, 158)\n",
      "(14585, 158) (14585, 7) (14585,)\n",
      "(14585, 30)\n"
     ]
    },
    {
     "data": {
      "text/plain": [
       "ERNYR_P    1.000000\n",
       "0          0.529808\n",
       "10         0.239011\n",
       "26         0.191200\n",
       "1          0.188972\n",
       "3          0.149722\n",
       "8          0.117631\n",
       "16         0.109440\n",
       "25         0.086471\n",
       "15         0.067073\n",
       "21         0.059544\n",
       "6          0.059513\n",
       "4          0.053828\n",
       "5          0.053076\n",
       "2          0.049389\n",
       "11         0.048992\n",
       "29         0.042158\n",
       "23         0.039427\n",
       "14         0.038680\n",
       "19         0.038132\n",
       "13         0.035059\n",
       "9          0.034967\n",
       "7          0.030404\n",
       "18         0.029419\n",
       "20         0.026132\n",
       "27         0.025795\n",
       "12         0.019828\n",
       "17         0.017933\n",
       "28         0.015272\n",
       "24         0.011727\n",
       "22         0.009937\n",
       "dtype: float64"
      ]
     },
     "execution_count": 353,
     "metadata": {},
     "output_type": "execute_result"
    }
   ],
   "source": [
    "data_folder = 'data/NHIS/'\n",
    "paths = {\n",
    "    'family': data_folder+'familyxx.csv',\n",
    "    'child': data_folder+'samchild.csv',\n",
    "    'adult': data_folder+'samadult.csv',\n",
    "    'person': data_folder+'personsx.csv',\n",
    "    'household': data_folder+'househld.csv',\n",
    "    'injury': data_folder+'injpoiep.csv',\n",
    "    'X_income': data_folder+'custom/X_income.csv',\n",
    "}\n",
    "sep = ','\n",
    "\n",
    "household = pd.read_csv(paths['household'], sep=sep)\n",
    "adult = pd.read_csv(paths['adult'], sep=sep)\n",
    "family = pd.read_csv(paths['family'], sep=sep)\n",
    "person = pd.read_csv(paths['person'], sep=sep)\n",
    "\n",
    "# Merge dataframes\n",
    "df = household.merge(family, how='inner', on=['SRVY_YR', 'HHX'],\n",
    "        suffixes=('', '%to_drop')\n",
    "    ).merge(\n",
    "        person, how='inner', on=['SRVY_YR', 'HHX', 'FMX'],\n",
    "        suffixes=('', '%to_drop')\n",
    "    ).merge(\n",
    "        adult, how='inner', on=['SRVY_YR', 'HHX', 'FMX', 'FPX'],\n",
    "        suffixes=('', '%to_drop')\n",
    "    ).dropna(subset=['ERNYR_P'])\n",
    "\n",
    "df = df.loc[:, ~df.columns.str.endswith('%to_drop')]\n",
    "df['IDX'] = df.index\n",
    "df.head()\n",
    "print(\"Shape of raw data: \", df.shape)\n",
    "df = df.reset_index(drop=True)\n",
    "\n",
    "###########################################################################\n",
    "# Target\n",
    "###########################################################################\n",
    "target_col = 'ERNYR_P'\n",
    "df[target_col] = df[target_col].map(lambda x: x if x < 90 else np.nan)\n",
    "df.dropna(subset=['ERNYR_P'], inplace=True)\n",
    "df[target_col] = df[target_col].map(lambda x: 1 if x > 6 else 0)\n",
    "df = move_target_to_end(df, target_col)\n",
    "df[target_col] = pd.factorize(df[target_col])[0]\n",
    "\n",
    "###########################################################################\n",
    "# drop columns with unique values and many values\n",
    "###########################################################################\n",
    "unique_cols = []\n",
    "for column in adult.columns:\n",
    "    if df[column].nunique() == 1:\n",
    "        unique_cols.append(column)\n",
    "\n",
    "df.drop(unique_cols, axis=1, inplace=True)\n",
    "print(\"Shape of data after dropping columns only contains one value: \", df.shape)\n",
    "\n",
    "# drop columns with too many values\n",
    "many_values_cols = []\n",
    "for column in df.columns:\n",
    "    if df[column].nunique()/df.shape[0] > 0.7:\n",
    "        many_values_cols.append(column)\n",
    "\n",
    "df.drop(many_values_cols, axis=1, inplace=True)\n",
    "print(\"Shape of data after dropping high cardinality columns: \", df.shape)\n",
    "\n",
    "###########################################################################\n",
    "# drop missing values\n",
    "###########################################################################\n",
    "ms_pct = df.isnull().sum()/adult.shape[0]\n",
    "ms_thres = 0.0\n",
    "ms_cols = ms_pct[ms_pct > ms_thres].index.tolist()\n",
    "df = df.drop(columns=ms_cols)\n",
    "df = df.dropna(how = 'any')\n",
    "print(\"Shape of data remove columns with missing values: \", df.shape)\n",
    "\n",
    "# numerical columns\n",
    "numerical_cols = [col for col in df.columns if col.startswith('WT')]\n",
    "print(numerical_cols)\n",
    "\n",
    "###########################################################################\n",
    "# Feature selection\n",
    "###########################################################################\n",
    "cat_cols = [col for col in df.columns if col not in numerical_cols and col != target_col]\n",
    "mi = mutual_info_classif(\n",
    "    X = df[cat_cols], y = df[target_col], random_state = 42, discrete_features=True\n",
    ")\n",
    "\n",
    "num_features = 20\n",
    "corr_mi = pd.Series(mi)\n",
    "corr_mi.index = cat_cols\n",
    "features = corr_mi.sort_values(ascending=False)[0:num_features].index.tolist()\n",
    "print(features)\n",
    "###########################################################################\n",
    "# one-hot encoding\n",
    "###########################################################################\n",
    "oh = OneHotEncoder(sparse_output=False, drop = 'first', max_categories = 15, handle_unknown='ignore')\n",
    "X = df[features]\n",
    "X_cat = oh.fit_transform(X)\n",
    "X_cat = pd.DataFrame(X_cat)\n",
    "print(X_cat.shape)\n",
    "\n",
    "###########################################################################\n",
    "# final df\n",
    "###########################################################################\n",
    "y = df[target_col].reset_index(drop = True)\n",
    "X_num = df[numerical_cols].reset_index(drop = True)\n",
    "print(X_cat.shape, X_num.shape, y.shape)\n",
    "df_new = pd.concat([X_cat, y], axis=1)\n",
    "df_new.columns = df_new.columns.astype(str)\n",
    "\n",
    "###########################################################################\n",
    "# PCA\n",
    "###########################################################################\n",
    "pca = PCA(n_components = 30, random_state=42, svd_solver='auto')\n",
    "X = df_new.drop([target_col], axis=1)\n",
    "X_pca = pca.fit_transform(X)\n",
    "print(X_pca.shape)\n",
    "\n",
    "df_new = pd.concat([pd.DataFrame(X_pca), df_new[target_col]], axis=1)\n",
    "\n",
    "###########################################################################\n",
    "# Normalization\n",
    "###########################################################################\n",
    "df_new = convert_gaussian(df_new, target_col)\n",
    "df_new = normalization(df_new, target_col)\n",
    "data = df_new.copy()\n",
    "\n",
    "###########################################################################\n",
    "# Correlation\n",
    "###########################################################################\n",
    "threshold = 0.1\n",
    "correlation_ret = data.corrwith(data[target_col], method=correlation_ratio).sort_values(ascending=False)\n",
    "important_features = correlation_ret[correlation_ret >= threshold].index.tolist()\n",
    "important_features.remove(target_col)\n",
    "\n",
    "data_config = {\n",
    "    'target': target_col,\n",
    "    'important_features_idx': [data.columns.tolist().index(feature) for feature in important_features],\n",
    "    'features_idx': [idx for idx in range(0, data.shape[1]) if data.columns[idx] != target_col],\n",
    "    \"num_cols\": data.shape[1] - 1,\n",
    "    'task_type': 'classification',\n",
    "    'clf_type': 'multi-class',\n",
    "    'data_type': 'tabular'\n",
    "}\n",
    "\n",
    "correlation_ret"
   ]
  },
  {
   "cell_type": "code",
   "execution_count": 1,
   "metadata": {},
   "outputs": [
    {
     "ename": "NameError",
     "evalue": "name 'df_new' is not defined",
     "output_type": "error",
     "traceback": [
      "\u001b[1;31m---------------------------------------------------------------------------\u001b[0m",
      "\u001b[1;31mNameError\u001b[0m                                 Traceback (most recent call last)",
      "Cell \u001b[1;32mIn[1], line 1\u001b[0m\n\u001b[1;32m----> 1\u001b[0m df_new\u001b[39m.\u001b[39mshape\n",
      "\u001b[1;31mNameError\u001b[0m: name 'df_new' is not defined"
     ]
    }
   ],
   "source": [
    "df_new.shape"
   ]
  },
  {
   "cell_type": "code",
   "execution_count": 335,
   "metadata": {},
   "outputs": [
    {
     "name": "stdout",
     "output_type": "stream",
     "text": [
      "Accuracy: 0.8015083990401097\n",
      "F1: 0.8012948886795891\n",
      "Accuracy: 0.8460747343160782\n",
      "F1: 0.8450937200729429\n"
     ]
    }
   ],
   "source": [
    "run_classification(df_new, target_col)"
   ]
  },
  {
   "cell_type": "code",
   "execution_count": 352,
   "metadata": {},
   "outputs": [
    {
     "name": "stdout",
     "output_type": "stream",
     "text": [
      "Accuracy: 0.8299622900239972\n",
      "F1: 0.8285865617402478\n"
     ]
    }
   ],
   "source": [
    "data = df_new\n",
    "X_train, X_test, y_train, y_test = train_test_split(data.drop(target_col, axis=1), data[target_col], test_size=0.2, random_state=42)\n",
    "\n",
    "clf = LogisticRegression(C = 5, penalty = 'l2', solver = 'liblinear', max_iter = 1000)\n",
    "clf.fit(X_train, y_train)\n",
    "y_pred = clf.predict(X_test)\n",
    "\n",
    "accu = clf.score(X_test, y_test)\n",
    "f1 = f1_score(y_test, y_pred, average='weighted')\n",
    "\n",
    "print(\"Accuracy: {}\".format(accu))\n",
    "print(\"F1: {}\".format(f1))"
   ]
  },
  {
   "cell_type": "code",
   "execution_count": 291,
   "metadata": {},
   "outputs": [
    {
     "name": "stdout",
     "output_type": "stream",
     "text": [
      "RMSE: 4.43498195073444\n",
      "R2: 0.5495697576990738\n"
     ]
    }
   ],
   "source": [
    "run_regression(df_new, target_col)"
   ]
  },
  {
   "attachments": {},
   "cell_type": "markdown",
   "metadata": {},
   "source": [
    "# Regression data"
   ]
  },
  {
   "attachments": {},
   "cell_type": "markdown",
   "metadata": {},
   "source": [
    "## Diabetes"
   ]
  },
  {
   "cell_type": "code",
   "execution_count": 146,
   "metadata": {},
   "outputs": [
    {
     "name": "stdout",
     "output_type": "stream",
     "text": [
      "['bmi', 's5', 'bp', 's4', 's3', 's6', 's1', 'age', 's2']\n",
      "(442, 11)\n",
      "Average correlation: 0.34185669222980936 0.5864501344746884\n"
     ]
    },
    {
     "data": {
      "text/plain": [
       "target    1.000000\n",
       "bmi       0.586450\n",
       "s5        0.565883\n",
       "bp        0.441482\n",
       "s4        0.430453\n",
       "s3        0.394789\n",
       "s6        0.382483\n",
       "s1        0.212022\n",
       "age       0.187889\n",
       "s2        0.174054\n",
       "sex       0.043062\n",
       "dtype: float64"
      ]
     },
     "execution_count": 146,
     "metadata": {},
     "output_type": "execute_result"
    }
   ],
   "source": [
    "from sklearn.datasets import load_diabetes\n",
    "normalize = True\n",
    "threshold = 0.15\n",
    "data_obj = load_diabetes(as_frame=True)\n",
    "data = data_obj['frame']\n",
    "data = data.dropna()\n",
    "target_col = 'target'\n",
    "\n",
    "# if normalize:\n",
    "# \tdata = normalization(data, target_col)\n",
    "\n",
    "# # move target to the end of the dataframe\n",
    "data = move_target_to_end(data, target_col)\n",
    "correlation_ret = data.corrwith(data[target_col]).abs().sort_values(ascending=False)\n",
    "# # correlation\n",
    "important_features = correlation_ret[correlation_ret >= threshold].index.tolist()\n",
    "important_features.remove(target_col)\n",
    "print(important_features)\n",
    "print(data.shape)\n",
    "print(\"Average correlation: {} {}\".format(correlation_ret[1:].mean(), correlation_ret[1:].max()))\n",
    "data_config = {\n",
    "\t'target': target_col,\n",
    "\t'important_features_idx': [data.columns.tolist().index(feature) for feature in important_features],\n",
    "    'important_features': important_features,\n",
    "\t'features_idx': [idx for idx in range(0, data.shape[1]) if data.columns[idx] != target_col],\n",
    "\t'num_cols': data.shape[1] - 1,\n",
    "\t'task_type': 'regression',\n",
    "}\n",
    "correlation_ret"
   ]
  },
  {
   "attachments": {},
   "cell_type": "markdown",
   "metadata": {},
   "source": [
    "## California Housing"
   ]
  },
  {
   "cell_type": "code",
   "execution_count": 29,
   "metadata": {},
   "outputs": [
    {
     "name": "stdout",
     "output_type": "stream",
     "text": [
      "['MedInc', 'AveRooms', 'AveOccup', 'Latitude']\n",
      "(1000, 9)\n",
      "Average correlation: 0.19750437151557662 0.6887874432146511\n"
     ]
    },
    {
     "data": {
      "text/plain": [
       "MedHouseVal    1.000000\n",
       "MedInc         0.688787\n",
       "AveRooms       0.263954\n",
       "AveOccup       0.258307\n",
       "Latitude       0.136581\n",
       "HouseAge       0.099851\n",
       "Longitude      0.063320\n",
       "AveBedrms      0.037114\n",
       "Population     0.032120\n",
       "dtype: float64"
      ]
     },
     "execution_count": 29,
     "metadata": {},
     "output_type": "execute_result"
    }
   ],
   "source": [
    "from sklearn.datasets import fetch_california_housing\n",
    "normalize = True\n",
    "threshold = 0.1\n",
    "data_obj = fetch_california_housing(data_home = './data/california_housing', as_frame=True)\n",
    "data = data_obj['frame']\n",
    "sample_size = 1000\n",
    "data = data.sample(sample_size, random_state=42)\n",
    "data = data.dropna()\n",
    "data\n",
    "target_col = 'MedHouseVal'\n",
    "\n",
    "if normalize:\n",
    "\tdata = normalization(data, target_col)\n",
    "\n",
    "# # move target to the end of the dataframe\n",
    "data = move_target_to_end(data, target_col)\n",
    "correlation_ret = data.corrwith(data[target_col]).abs().sort_values(ascending=False)\n",
    "# # correlation\n",
    "important_features = correlation_ret[correlation_ret >= threshold].index.tolist()\n",
    "important_features.remove(target_col)\n",
    "print(important_features)\n",
    "print(data.shape)\n",
    "print(\"Average correlation: {} {}\".format(correlation_ret[1:].mean(), correlation_ret[1:].max()))\n",
    "data_config = {\n",
    "\t'target': target_col,\n",
    "\t'important_features_idx': [data.columns.tolist().index(feature) for feature in important_features],\n",
    "    'important_features': important_features,\n",
    "\t'features_idx': [idx for idx in range(0, data.shape[1]) if data.columns[idx] != target_col],\n",
    "\t'num_cols': data.shape[1] - 1,\n",
    "\t'task_type': 'regression',\n",
    "}\n",
    "correlation_ret"
   ]
  },
  {
   "attachments": {},
   "cell_type": "markdown",
   "metadata": {},
   "source": [
    "## Housing"
   ]
  },
  {
   "cell_type": "code",
   "execution_count": 40,
   "metadata": {},
   "outputs": [
    {
     "name": "stdout",
     "output_type": "stream",
     "text": [
      "['13', '6', '11', '3', '10', '5', '1', '9', '7', '2', '12', '8']\n",
      "(506, 14)\n",
      "Average correlation: 0.42972090018211806 0.7376627261740144\n"
     ]
    },
    {
     "data": {
      "text/plain": [
       "14    1.000000\n",
       "13    0.737663\n",
       "6     0.695360\n",
       "11    0.507787\n",
       "3     0.483725\n",
       "10    0.468536\n",
       "5     0.427321\n",
       "1     0.388305\n",
       "9     0.381626\n",
       "7     0.376955\n",
       "2     0.360445\n",
       "12    0.333461\n",
       "8     0.249929\n",
       "4     0.175260\n",
       "dtype: float64"
      ]
     },
     "execution_count": 40,
     "metadata": {},
     "output_type": "execute_result"
    }
   ],
   "source": [
    "normalize = True\n",
    "threshold = 0.2\n",
    "data = pd.read_csv(\"./data/housing/housing.csv\", delimiter='\\s+', header=None)\n",
    "data.columns = [str(i) for i in range(1, data.shape[1] + 1)]\n",
    "# sample_size = 1000\n",
    "# data = data.sample(sample_size, random_state=42)\n",
    "data = data.dropna()\n",
    "# data\n",
    "target_col = '14'\n",
    "\n",
    "if normalize:\n",
    "\tdata = normalization(data, target_col)\n",
    "\n",
    "# # # move target to the end of the dataframe\n",
    "data = move_target_to_end(data, target_col)\n",
    "data\n",
    "correlation_ret = data.corrwith(data[target_col]).abs().sort_values(ascending=False)\n",
    "# # # correlation\n",
    "important_features = correlation_ret[correlation_ret >= threshold].index.tolist()\n",
    "important_features.remove(target_col)\n",
    "print(important_features)\n",
    "print(data.shape)\n",
    "print(\"Average correlation: {} {}\".format(correlation_ret[1:].mean(), correlation_ret[1:].max()))\n",
    "data_config = {\n",
    "\t'target': target_col,\n",
    "\t'important_features_idx': [data.columns.tolist().index(feature) for feature in important_features],\n",
    "    'important_features': important_features,\n",
    "\t'features_idx': [idx for idx in range(0, data.shape[1]) if data.columns[idx] != target_col],\n",
    "\t'num_cols': data.shape[1] - 1,\n",
    "\t'task_type': 'regression',\n",
    "}\n",
    "correlation_ret"
   ]
  },
  {
   "attachments": {},
   "cell_type": "markdown",
   "metadata": {},
   "source": [
    "## Red Wine Regression"
   ]
  },
  {
   "cell_type": "code",
   "execution_count": 46,
   "metadata": {},
   "outputs": [
    {
     "name": "stdout",
     "output_type": "stream",
     "text": [
      "['alcohol', 'volatile acidity', 'sulphates', 'citric acid', 'total sulfur dioxide', 'density']\n",
      "(1599, 12)\n",
      "6\n",
      "Average correlation: 0.18905368265412123 0.4761663240011358\n",
      "5    0.425891\n",
      "6    0.398999\n",
      "7    0.124453\n",
      "4    0.033146\n",
      "8    0.011257\n",
      "3    0.006254\n",
      "Name: quality, dtype: float64\n"
     ]
    },
    {
     "data": {
      "text/plain": [
       "quality                 1.000000\n",
       "alcohol                 0.476166\n",
       "volatile acidity        0.390558\n",
       "sulphates               0.251397\n",
       "citric acid             0.226373\n",
       "total sulfur dioxide    0.185100\n",
       "density                 0.174919\n",
       "chlorides               0.128907\n",
       "fixed acidity           0.124052\n",
       "pH                      0.057731\n",
       "free sulfur dioxide     0.050656\n",
       "residual sugar          0.013732\n",
       "dtype: float64"
      ]
     },
     "execution_count": 46,
     "metadata": {},
     "output_type": "execute_result"
    }
   ],
   "source": [
    "threshold = 0.15\n",
    "data = pd.read_csv(\"./data/wine/winequality-red.csv\", delimiter=';')\n",
    "\n",
    "# data = data.drop([\"id\", \"Unnamed: 32\"], axis=1)\n",
    "data = data.dropna()\n",
    "#data['target'] = data.apply(lambda row: 0 if row['quality'] <= 5 else 1, axis=1)\n",
    "#data = data.drop('quality', axis=1)\n",
    "\n",
    "target_col = 'quality'\n",
    "if normalize:\n",
    "\tdata = normalization(data, target_col)\n",
    "data = move_target_to_end(data, target_col)\n",
    "\n",
    "# print(\"Wine Red data loaded. Train size {}, Test size {}\".format(train.shape, test.shape))\n",
    "correlation_ret = data.corrwith(data[target_col]).abs().sort_values(ascending=False)\n",
    "important_features = correlation_ret[correlation_ret >= threshold].index.tolist()\n",
    "important_features.remove(target_col)\n",
    "print(important_features)\n",
    "print(data.shape)\n",
    "print(len(data[target_col].unique()))\n",
    "print(\"Average correlation: {} {}\".format(correlation_ret[1:].mean(), correlation_ret[1:].max()))\n",
    "print(data[target_col].value_counts(normalize=True))\n",
    "correlation_ret"
   ]
  },
  {
   "attachments": {},
   "cell_type": "markdown",
   "metadata": {},
   "source": [
    "## White Wine Regression"
   ]
  },
  {
   "cell_type": "code",
   "execution_count": null,
   "metadata": {},
   "outputs": [],
   "source": [
    "threshold = 0.15\n",
    "data = pd.read_csv(\"./data/wine/winequality-white.csv\", delimiter=';')\n",
    "\n",
    "# data = data.drop([\"id\", \"Unnamed: 32\"], axis=1)\n",
    "data = data.dropna()\n",
    "#data['target'] = data.apply(lambda row: 0 if row['quality'] <= 5 else 1, axis=1)\n",
    "#data = data.drop('quality', axis=1)\n",
    "\n",
    "target_col = 'quality'\n",
    "if normalize:\n",
    "\tdata = normalization(data, target_col)\n",
    "data = move_target_to_end(data, target_col)\n",
    "\n",
    "# print(\"Wine Red data loaded. Train size {}, Test size {}\".format(train.shape, test.shape))\n",
    "correlation_ret = data.corrwith(data[target_col]).abs().sort_values(ascending=False)\n",
    "important_features = correlation_ret[correlation_ret >= threshold].index.tolist()\n",
    "important_features.remove(target_col)\n",
    "print(important_features)\n",
    "\n",
    "# data_config = {\n",
    "# \t'target': target_col,\n",
    "# \t'important_features_idx': [data.columns.tolist().index(feature) for feature in important_features],\n",
    "# \t'features_idx': [idx for idx in range(0, data.shape[1]) if data.columns[idx] != target_col],\n",
    "# \t\"num_cols\": data.shape[1] - 1,\n",
    "# \t'task_type': 'classification',\n",
    "# \t'clf_type': 'binary-class'\n",
    "# }\n",
    "\n",
    "# if verbose:\n",
    "# \tprint(\"Data shape {} Test shape {}\".format(data.shape))\n",
    "# \tprint(data_config)\n",
    "print(data.shape)\n",
    "print(len(data[target_col].unique()))\n",
    "print(\"Average correlation: {} {}\".format(correlation_ret[1:].mean(), correlation_ret[1:].max()))\n",
    "print(data[target_col].value_counts(normalize=True))\n",
    "correlation_ret"
   ]
  },
  {
   "attachments": {},
   "cell_type": "markdown",
   "metadata": {},
   "source": [
    "# Synthetic Data"
   ]
  },
  {
   "cell_type": "code",
   "execution_count": 61,
   "metadata": {},
   "outputs": [],
   "source": [
    "from sklearn.datasets import make_blobs, make_circles, make_moons, make_classification, make_gaussian_quantiles, make_hastie_10_2\n",
    "from sklearn.datasets import make_friedman1, make_friedman2, make_friedman3\n",
    "import numpy as np\n",
    "import matplotlib.pyplot as plt"
   ]
  },
  {
   "attachments": {},
   "cell_type": "markdown",
   "metadata": {},
   "source": [
    "## Gaussian"
   ]
  },
  {
   "cell_type": "code",
   "execution_count": 133,
   "metadata": {},
   "outputs": [
    {
     "data": {
      "image/png": "[encoded data removed]",
      "text/plain": [
       "<Figure size 400x400 with 1 Axes>"
      ]
     },
     "metadata": {},
     "output_type": "display_data"
    }
   ],
   "source": [
    "X, y = make_classification(\n",
    "    n_samples=500, n_features=2, n_redundant=0, n_informative=1, random_state=1, flip_y=0.2,\n",
    "    class_sep = 2, n_clusters_per_class=1) \n",
    "\n",
    "red = y == 0\n",
    "green = y == 1\n",
    "fig, ax = plt.subplots(figsize=(4, 4))\n",
    "ax.scatter(X[red, 0], X[red, 1], c=\"r\", marker='o', alpha = 0.8)\n",
    "ax.scatter(X[green, 0], X[green, 1], c=\"g\", marker='o', alpha = 0.8)\n",
    "plt.axis(\"tight\")\n",
    "plt.show()"
   ]
  },
  {
   "attachments": {},
   "cell_type": "markdown",
   "metadata": {},
   "source": [
    "## Circles"
   ]
  },
  {
   "cell_type": "code",
   "execution_count": 91,
   "metadata": {},
   "outputs": [
    {
     "data": {
      "image/png": "[encoded data removed]",
      "text/plain": [
       "<Figure size 400x400 with 1 Axes>"
      ]
     },
     "metadata": {},
     "output_type": "display_data"
    }
   ],
   "source": [
    "X, y = make_circles(n_samples=500, shuffle=True, noise=0.1, random_state=None, factor=0.6)\n",
    "data = np.concatenate((X, y.reshape(-1, 1)), axis=1)\n",
    "data = pd.DataFrame(data)\n",
    "X = (X - X.min())/(X.max() - X.min())\n",
    "red = y == 0\n",
    "green = y == 1\n",
    "fig, ax = plt.subplots(figsize=(4, 4))\n",
    "ax.scatter(X[red, 0], X[red, 1], c=\"r\")\n",
    "ax.scatter(X[green, 0], X[green, 1], c=\"g\")\n",
    "plt.axis(\"tight\")\n",
    "plt.show()"
   ]
  },
  {
   "attachments": {},
   "cell_type": "markdown",
   "metadata": {},
   "source": [
    "## Moon"
   ]
  },
  {
   "cell_type": "code",
   "execution_count": 88,
   "metadata": {},
   "outputs": [
    {
     "data": {
      "image/png": "[encoded data removed]",
      "text/plain": [
       "<Figure size 400x400 with 1 Axes>"
      ]
     },
     "metadata": {},
     "output_type": "display_data"
    }
   ],
   "source": [
    "X, y = make_moons(n_samples=500, shuffle=True, noise=0.1, random_state=None)\n",
    "X = (X - X.min())/(X.max() - X.min())\n",
    "data = np.concatenate((X, y.reshape(-1, 1)), axis=1)\n",
    "data = pd.DataFrame(data)\n",
    "red = y == 0\n",
    "green = y == 1\n",
    "fig, ax = plt.subplots(figsize=(4, 4))\n",
    "ax.scatter(X[red, 0], X[red, 1], c=\"r\")\n",
    "ax.scatter(X[green, 0], X[green, 1], c=\"g\")\n",
    "plt.axis(\"tight\")\n",
    "plt.show()"
   ]
  },
  {
   "attachments": {},
   "cell_type": "markdown",
   "metadata": {},
   "source": [
    "## Ellipse"
   ]
  },
  {
   "cell_type": "code",
   "execution_count": 145,
   "metadata": {},
   "outputs": [
    {
     "data": {
      "image/png": "[encoded data removed]",
      "text/plain": [
       "<Figure size 400x400 with 1 Axes>"
      ]
     },
     "metadata": {},
     "output_type": "display_data"
    }
   ],
   "source": [
    "def gen_ellipse(n_samples, random_state=0):\n",
    "    np.random.seed(random_state)\n",
    "    x1 = np.random.normal(0, 1, n_samples)\n",
    "    x2 = np.random.normal(0, 1, n_samples)\n",
    "    y = x1**2 - x2**2\n",
    "    X = np.array([x1, x2]).T\n",
    "    y = np.where(y > 0, 1, 0)\n",
    "\n",
    "    return X, y\n",
    "\n",
    "X, y = gen_ellipse(500)\n",
    "X = (X - X.min())/(X.max() - X.min())\n",
    "red = y == 0\n",
    "green = y == 1\n",
    "fig, ax = plt.subplots(figsize=(4, 4))\n",
    "ax.scatter(X[red, 0], X[red, 1], c=\"r\")\n",
    "ax.scatter(X[green, 0], X[green, 1], c=\"g\")\n",
    "plt.axis(\"tight\")\n",
    "plt.show()"
   ]
  },
  {
   "attachments": {},
   "cell_type": "markdown",
   "metadata": {},
   "source": [
    "## Regression"
   ]
  }
 ],
 "metadata": {
  "kernelspec": {
   "display_name": "Python 3",
   "language": "python",
   "name": "python3"
  },
  "language_info": {
   "codemirror_mode": {
    "name": "ipython",
    "version": 3
   },
   "file_extension": ".py",
   "mimetype": "text/x-python",
   "name": "python",
   "nbconvert_exporter": "python",
   "pygments_lexer": "ipython3",
   "version": "3.10.12"
  }
 },
 "nbformat": 4,
 "nbformat_minor": 0
}
